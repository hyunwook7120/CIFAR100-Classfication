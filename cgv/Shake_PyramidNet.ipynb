{
 "cells": [
  {
   "cell_type": "markdown",
   "id": "da55e5a3-cdd0-4b19-a405-6d25853d33f9",
   "metadata": {
    "id": "da55e5a3-cdd0-4b19-a405-6d25853d33f9"
   },
   "source": [
    "**Load Module**"
   ]
  },
  {
   "cell_type": "code",
   "execution_count": 1,
   "id": "83038a2e-883a-4da6-97bd-c5371f13c182",
   "metadata": {
    "id": "83038a2e-883a-4da6-97bd-c5371f13c182"
   },
   "outputs": [],
   "source": [
    "# Utils\n",
    "import numpy as np\n",
    "import pandas as pd\n",
    "import seaborn as sns\n",
    "import matplotlib.pyplot as plt\n",
    "from tqdm import tqdm\n",
    "import random\n",
    "import os\n",
    "import time\n",
    "from datetime import datetime\n",
    "from sklearn.model_selection import StratifiedShuffleSplit\n",
    "from utility.utils import EarlyStopping, WarmUpLR, most_recent_folder, most_recent_weights, best_acc_weights, last_epoch\n",
    "\n",
    "# Torch\n",
    "import torch\n",
    "import torch.nn as nn\n",
    "import torch.nn.functional as F\n",
    "from torchsummary import summary\n",
    "import torch.optim as optim\n",
    "from torch.utils.data import DataLoader, SubsetRandomSampler, Subset\n",
    "\n",
    "import torchvision\n",
    "from torchvision import transforms, datasets\n",
    "\n",
    "# Analysis\n",
    "from sklearn.metrics import confusion_matrix, classification_report\n",
    "# import wandb\n"
   ]
  },
  {
   "cell_type": "markdown",
   "id": "bbdc13d1-90ff-4301-8dac-07977aaaddcf",
   "metadata": {
    "id": "bbdc13d1-90ff-4301-8dac-07977aaaddcf"
   },
   "source": [
    "**Seed & Device Setting**"
   ]
  },
  {
   "cell_type": "code",
   "execution_count": 2,
   "id": "9b8539ad-3c66-4c94-abb2-fcc33f97d3ca",
   "metadata": {
    "colab": {
     "base_uri": "https://localhost:8080/"
    },
    "id": "9b8539ad-3c66-4c94-abb2-fcc33f97d3ca",
    "outputId": "ed6e73ba-1056-4f62-fc55-15b56acfe3c2"
   },
   "outputs": [
    {
     "data": {
      "text/plain": [
       "device(type='cuda', index=0)"
      ]
     },
     "execution_count": 2,
     "metadata": {},
     "output_type": "execute_result"
    }
   ],
   "source": [
    "def set_seed(seed):\n",
    "    torch.manual_seed(seed)\n",
    "    torch.cuda.manual_seed(seed)\n",
    "    torch.cuda.manual_seed_all(seed) # GPU 여러 개 사용할 경우 사용\n",
    "    torch.backends.cudnn.deterministic = True\n",
    "    torch.backends.cudnn.benchmark = False # 완벽한 재현성을 위해선 False로 하는 게 맞지만 성능의 저하를 일으킬 수 있음\n",
    "    np.random.seed(seed)\n",
    "    random.seed(seed)\n",
    "\n",
    "seed = 42\n",
    "set_seed(seed)\n",
    "\n",
    "# 디바이스 설정\n",
    "device = torch.device(\"cuda:0\" if torch.cuda.is_available() else \"cpu\")\n",
    "device"
   ]
  },
  {
   "cell_type": "markdown",
   "id": "a35b5e51",
   "metadata": {
    "id": "a35b5e51"
   },
   "source": [
    "**Wandb Setting & Set Hyperparameters (수정 구간)**"
   ]
  },
  {
   "cell_type": "code",
   "execution_count": 3,
   "id": "d5ce35ad",
   "metadata": {
    "colab": {
     "base_uri": "https://localhost:8080/",
     "height": 254
    },
    "id": "d5ce35ad",
    "outputId": "26c52ce7-bcef-496e-fd7d-d9ea23426c27"
   },
   "outputs": [
    {
     "name": "stderr",
     "output_type": "stream",
     "text": [
      "\u001b[34m\u001b[1mwandb\u001b[0m: Using wandb-core as the SDK backend. Please refer to https://wandb.me/wandb-core for more information.\n",
      "\u001b[34m\u001b[1mwandb\u001b[0m: Currently logged in as: \u001b[33mhyunwook7120\u001b[0m (\u001b[33mhyunwook7120-hanyang-university\u001b[0m). Use \u001b[1m`wandb login --relogin`\u001b[0m to force relogin\n"
     ]
    },
    {
     "data": {
      "text/html": [
       "Tracking run with wandb version 0.18.2"
      ],
      "text/plain": [
       "<IPython.core.display.HTML object>"
      ]
     },
     "metadata": {},
     "output_type": "display_data"
    },
    {
     "data": {
      "text/html": [
       "Run data is saved locally in <code>c:\\Users\\jhw03\\Desktop\\Cgv\\CIFAR100-Classfication\\cgv\\wandb\\run-20241014_185620-nzefrygt</code>"
      ],
      "text/plain": [
       "<IPython.core.display.HTML object>"
      ]
     },
     "metadata": {},
     "output_type": "display_data"
    },
    {
     "data": {
      "text/html": [
       "Syncing run <strong><a href='https://wandb.ai/hyunwook7120-hanyang-university/CIFAR-100_Classification/runs/nzefrygt' target=\"_blank\">shake_pyramidnet110_270</a></strong> to <a href='https://wandb.ai/hyunwook7120-hanyang-university/CIFAR-100_Classification' target=\"_blank\">Weights & Biases</a> (<a href='https://wandb.me/run' target=\"_blank\">docs</a>)<br/>"
      ],
      "text/plain": [
       "<IPython.core.display.HTML object>"
      ]
     },
     "metadata": {},
     "output_type": "display_data"
    },
    {
     "data": {
      "text/html": [
       " View project at <a href='https://wandb.ai/hyunwook7120-hanyang-university/CIFAR-100_Classification' target=\"_blank\">https://wandb.ai/hyunwook7120-hanyang-university/CIFAR-100_Classification</a>"
      ],
      "text/plain": [
       "<IPython.core.display.HTML object>"
      ]
     },
     "metadata": {},
     "output_type": "display_data"
    },
    {
     "data": {
      "text/html": [
       " View run at <a href='https://wandb.ai/hyunwook7120-hanyang-university/CIFAR-100_Classification/runs/nzefrygt' target=\"_blank\">https://wandb.ai/hyunwook7120-hanyang-university/CIFAR-100_Classification/runs/nzefrygt</a>"
      ],
      "text/plain": [
       "<IPython.core.display.HTML object>"
      ]
     },
     "metadata": {},
     "output_type": "display_data"
    },
    {
     "data": {
      "text/html": [
       "<button onClick=\"this.nextSibling.style.display='block';this.style.display='none';\">Display W&B run</button><iframe src='https://wandb.ai/hyunwook7120-hanyang-university/CIFAR-100_Classification/runs/nzefrygt?jupyter=true' style='border:none;width:100%;height:420px;display:none;'></iframe>"
      ],
      "text/plain": [
       "<wandb.sdk.wandb_run.Run at 0x286662f5d90>"
      ]
     },
     "execution_count": 3,
     "metadata": {},
     "output_type": "execute_result"
    }
   ],
   "source": [
    "config = {\n",
    "    \"batch_size\" : 128,\n",
    "    \"num_epochs\" : 210,\n",
    "    \"learning_rate\" : 0.1,\n",
    "    \"momentum\" : 0.9,\n",
    "    \"weight_decay\" : 5e-4,\n",
    "    \"nesterov\" : True,\n",
    "    \"gamma\" : 0.2,\n",
    "    \"warm\" : 1,\n",
    "    \"patience\" : 150,\n",
    "    \"plateau_patience\" : 15,\n",
    "    \"milestones\" : [100, 150, 200, 250, 290],\n",
    "    \"pin_memory\" : True,\n",
    "    \"depth\" : 110,\n",
    "    \"alpha\" : 270,\n",
    "    \"beta\" : 1.0,\n",
    "\n",
    "    \"resume\" : False,\n",
    "    \"model_name\" : \"shake_pyramidnet110_270\",\n",
    "    \"stratified_data\" : True,\n",
    "    \"scheduler\" : \"ReduceLROnPlateau\",\n",
    "    \"train_50000\" : True\n",
    "}\n",
    "if config[\"resume\"] == True:\n",
    "    config[\"warm\"] = 0\n",
    "model_name = config[\"model_name\"]\n",
    "# wandb.init(project=\"CIFAR-100_Classification\", name=config[\"model_name\"], config=config)"
   ]
  },
  {
   "cell_type": "code",
   "execution_count": 4,
   "id": "a8d1e41f",
   "metadata": {
    "id": "a8d1e41f"
   },
   "outputs": [],
   "source": [
    "fine_to_superclass = {\n",
    "    4: 0, 30: 0, 55: 0, 72: 0, 95: 0,       # aquatic mammals\n",
    "    1: 1, 32: 1, 67: 1, 73: 1, 91: 1,       # fish\n",
    "    54: 2, 62: 2, 70: 2, 82: 2, 92: 2,      # flowers\n",
    "    9: 3, 10: 3, 16: 3, 28: 3, 61: 3,       # food containers\n",
    "    0: 4, 51: 4, 53: 4, 57: 4, 83: 4,       # fruit and vegetables\n",
    "    22: 5, 39: 5, 40: 5, 86: 5, 87: 5,      # household electrical devices\n",
    "    5: 6, 20: 6, 25: 6, 84: 6, 94: 6,       # household furniture\n",
    "    6: 7, 7: 7, 14: 7, 18: 7, 24: 7,        # insects\n",
    "    3: 8, 42: 8, 43: 8, 88: 8, 97: 8,       # large carnivores\n",
    "    12: 9, 17: 9, 37: 9, 68: 9, 76: 9,      # large man-made outdoor things\n",
    "    23: 10, 33: 10, 49: 10, 60: 10, 71: 10, # large natural outdoor scenes\n",
    "    15: 11, 19: 11, 21: 11, 31: 11, 38: 11, # large omnivores and herbivores\n",
    "    34: 12, 63: 12, 64: 12, 66: 12, 75: 12, # medium-sized mammals\n",
    "    26: 13, 45: 13, 77: 13, 79: 13, 99: 13, # non-insect invertebrates\n",
    "    2: 14, 11: 14, 35: 14, 46: 14, 98: 14,  # people\n",
    "    27: 15, 29: 15, 44: 15, 78: 15, 93: 15, # reptiles\n",
    "    36: 16, 50: 16, 65: 16, 74: 16, 80: 16, # small mammals\n",
    "    47: 17, 52: 17, 56: 17, 59: 17, 96: 17, # trees\n",
    "    8: 18, 13: 18, 48: 18, 58: 18, 90: 18,  # vehicles 1\n",
    "    41: 19, 69: 19, 81: 19, 85: 19, 89: 19  # vehicles 2\n",
    "}"
   ]
  },
  {
   "cell_type": "markdown",
   "id": "3e04e253-49c0-4c37-8260-5e02f2c09452",
   "metadata": {
    "id": "3e04e253-49c0-4c37-8260-5e02f2c09452"
   },
   "source": [
    "# Data Preprocessing"
   ]
  },
  {
   "cell_type": "markdown",
   "id": "ZKl6oKBffJYA",
   "metadata": {
    "id": "ZKl6oKBffJYA"
   },
   "source": [
    "**Data Augementation (수정 구간)**"
   ]
  },
  {
   "cell_type": "code",
   "execution_count": 5,
   "id": "93758c0c-b1d2-4ab9-afb4-bdd60a04dbd3",
   "metadata": {
    "id": "93758c0c-b1d2-4ab9-afb4-bdd60a04dbd3"
   },
   "outputs": [],
   "source": [
    "CIFAR100_TRAIN_MEAN = (0.5070751592371323, 0.48654887331495095, 0.4409178433670343)\n",
    "CIFAR100_TRAIN_STD = (0.2673342858792401, 0.2564384629170883, 0.27615047132568404)\n",
    "\n",
    "train_val_transform = transforms.Compose([\n",
    "    transforms.RandomCrop(32, padding=4),\n",
    "    transforms.RandomHorizontalFlip(),\n",
    "    transforms.ToTensor(),\n",
    "    transforms.Normalize(CIFAR100_TRAIN_MEAN, CIFAR100_TRAIN_STD)\n",
    "])\n",
    "\n",
    "test_transform = transforms.Compose([\n",
    "    transforms.ToTensor(),\n",
    "    transforms.Normalize(CIFAR100_TRAIN_MEAN, CIFAR100_TRAIN_STD)\n",
    "])"
   ]
  },
  {
   "cell_type": "markdown",
   "id": "13ade0a7-66ce-48f4-96b0-f4719beaf090",
   "metadata": {
    "id": "13ade0a7-66ce-48f4-96b0-f4719beaf090"
   },
   "source": [
    "**Splitting the training data**"
   ]
  },
  {
   "cell_type": "code",
   "execution_count": 6,
   "id": "09b4a6e5-9118-449a-bfb8-d05f9d339304",
   "metadata": {
    "colab": {
     "base_uri": "https://localhost:8080/"
    },
    "id": "09b4a6e5-9118-449a-bfb8-d05f9d339304",
    "outputId": "f8325035-cd21-4715-b7a6-1e0d8d0dfcd5"
   },
   "outputs": [
    {
     "name": "stdout",
     "output_type": "stream",
     "text": [
      "Files already downloaded and verified\n",
      "Files already downloaded and verified\n",
      "Files already downloaded and verified\n"
     ]
    }
   ],
   "source": [
    "train_val_data = datasets.CIFAR100(root='./data', train=True, download=True, transform=train_val_transform)\n",
    "val_data = datasets.CIFAR100(root='./data', train=True, download=True, transform=test_transform)\n",
    "test_data = datasets.CIFAR100(root='./data', train=False, download=True, transform=test_transform)"
   ]
  },
  {
   "cell_type": "code",
   "execution_count": 7,
   "id": "82c9ab44-2b89-4d17-b90d-f42d1e8fe426",
   "metadata": {
    "id": "82c9ab44-2b89-4d17-b90d-f42d1e8fe426"
   },
   "outputs": [],
   "source": [
    "# Stratified 방식으로 train 데이터를 train/val로 나누기\n",
    "if config[\"train_50000\"]:\n",
    "   pass\n",
    "elif config[\"stratified_data\"]:\n",
    "  labels = train_val_data.targets\n",
    "  stratified_split = StratifiedShuffleSplit(n_splits=1, test_size=0.2, random_state=42)\n",
    "\n",
    "  for train_index, val_index in stratified_split.split(train_val_data.data, labels):\n",
    "      train_data = Subset(train_val_data, train_index)\n",
    "      val_data = Subset(val_data, val_index)\n",
    "else:\n",
    "  # RandomSampler 방식으로 train 데이터를 train/val로 나누기\n",
    "  num_train = len(train_val_data)\n",
    "  indices = list(range(num_train))\n",
    "  split = int(np.floor(0.2 * num_train))  # validation 데이터를 20%로 설정\n",
    "\n",
    "  np.random.shuffle(indices)\n",
    "  train_idx, val_idx = indices[split:], indices[:split]\n",
    "\n",
    "  train_sampler = SubsetRandomSampler(train_idx)\n",
    "  val_sampler = SubsetRandomSampler(val_idx)"
   ]
  },
  {
   "cell_type": "markdown",
   "id": "ce676124-c073-4aec-a000-cb061ac3e10a",
   "metadata": {
    "id": "ce676124-c073-4aec-a000-cb061ac3e10a"
   },
   "source": [
    "**Define Dataloader**"
   ]
  },
  {
   "cell_type": "code",
   "execution_count": 8,
   "id": "824ddf7d-d749-456a-b717-e257489431b9",
   "metadata": {
    "colab": {
     "base_uri": "https://localhost:8080/"
    },
    "id": "824ddf7d-d749-456a-b717-e257489431b9",
    "outputId": "8bfd89af-a57a-441c-9a14-d549ff2ef41d"
   },
   "outputs": [],
   "source": [
    "if config[\"train_50000\"]:\n",
    "  train_loader = DataLoader(train_val_data, batch_size=config[\"batch_size\"], shuffle=True, num_workers=4, pin_memory=config[\"pin_memory\"])\n",
    "  test_loader = DataLoader(test_data, batch_size=config[\"batch_size\"], shuffle=False, num_workers=4, pin_memory=config[\"pin_memory\"])\n",
    "elif config[\"stratified_data\"]:\n",
    "  train_loader = DataLoader(train_data, batch_size=config[\"batch_size\"], shuffle=True, num_workers=4, pin_memory=config[\"pin_memory\"])\n",
    "  val_loader = DataLoader(val_data, batch_size=config[\"batch_size\"], shuffle=False, num_workers=4, pin_memory=config[\"pin_memory\"])\n",
    "  test_loader = DataLoader(test_data, batch_size=config[\"batch_size\"], shuffle=False, num_workers=4, pin_memory=config[\"pin_memory\"])\n",
    "else:\n",
    "  train_loader = DataLoader(train_val_data, batch_size=config[\"batch_size\"], sampler=train_sampler, num_workers=4, pin_memory=config[\"pin_memory\"])\n",
    "  val_loader = DataLoader(train_val_data, batch_size=config[\"batch_size\"], shuffle=False, sampler=val_sampler, num_workers=4, pin_memory=config[\"pin_memory\"])\n",
    "  test_loader = DataLoader(test_data, batch_size=config[\"batch_size\"], shuffle=False, num_workers=4, pin_memory=config[\"pin_memory\"])"
   ]
  },
  {
   "cell_type": "markdown",
   "id": "0e300067-8688-4cb1-b34b-a9dcd504c860",
   "metadata": {
    "id": "0e300067-8688-4cb1-b34b-a9dcd504c860"
   },
   "source": [
    "**Model Initialize (수정 부분)**"
   ]
  },
  {
   "cell_type": "code",
   "execution_count": 9,
   "id": "7a58ae19-69f4-49a5-b704-d878caa5d7c7",
   "metadata": {
    "colab": {
     "base_uri": "https://localhost:8080/"
    },
    "id": "7a58ae19-69f4-49a5-b704-d878caa5d7c7",
    "outputId": "70f5d330-681b-4ffd-de0b-16232491cdc4",
    "scrolled": true
   },
   "outputs": [
    {
     "name": "stdout",
     "output_type": "stream",
     "text": [
      "use: cuda:0\n",
      "Optimizer's state_dict:\n",
      "state \t {}\n",
      "param_groups \t [{'lr': 0.0, 'momentum': 0.9, 'dampening': 0, 'weight_decay': 0.0005, 'nesterov': True, 'maximize': False, 'foreach': None, 'differentiable': False, 'fused': None, 'initial_lr': 0.1, 'params': [0, 1, 2, 3, 4, 5, 6, 7, 8, 9, 10, 11, 12, 13, 14, 15, 16, 17, 18, 19, 20, 21, 22, 23, 24, 25, 26, 27, 28, 29, 30, 31, 32, 33, 34, 35, 36, 37, 38, 39, 40, 41, 42, 43, 44, 45, 46, 47, 48, 49, 50, 51, 52, 53, 54, 55, 56, 57, 58, 59, 60, 61, 62, 63, 64, 65, 66, 67, 68, 69, 70, 71, 72, 73, 74, 75, 76, 77, 78, 79, 80, 81, 82, 83, 84, 85, 86, 87, 88, 89, 90, 91, 92, 93, 94, 95, 96, 97, 98, 99, 100, 101, 102, 103, 104, 105, 106, 107, 108, 109, 110, 111, 112, 113, 114, 115, 116, 117, 118, 119, 120, 121, 122, 123, 124, 125, 126, 127, 128, 129, 130, 131, 132, 133, 134, 135, 136, 137, 138, 139, 140, 141, 142, 143, 144, 145, 146, 147, 148, 149, 150, 151, 152, 153, 154, 155, 156, 157, 158, 159, 160, 161, 162, 163, 164, 165, 166, 167, 168, 169, 170, 171, 172, 173, 174, 175, 176, 177, 178, 179, 180, 181, 182, 183, 184, 185, 186, 187, 188, 189, 190, 191, 192, 193, 194, 195, 196, 197, 198, 199, 200, 201, 202, 203, 204, 205, 206, 207, 208, 209, 210, 211, 212, 213, 214, 215, 216, 217, 218, 219, 220, 221, 222, 223, 224, 225, 226, 227, 228, 229, 230, 231, 232, 233, 234, 235, 236, 237, 238, 239, 240, 241, 242, 243, 244, 245, 246, 247, 248, 249, 250, 251, 252, 253, 254, 255, 256, 257, 258, 259, 260, 261, 262, 263, 264, 265, 266, 267, 268, 269, 270, 271, 272, 273, 274, 275, 276, 277, 278, 279, 280, 281, 282, 283, 284, 285, 286, 287, 288, 289, 290, 291, 292, 293, 294, 295, 296, 297, 298, 299, 300, 301, 302, 303, 304, 305, 306, 307, 308, 309, 310, 311, 312, 313, 314, 315, 316, 317, 318, 319, 320, 321, 322, 323, 324, 325, 326, 327, 328, 329, 330, 331, 332, 333, 334, 335, 336, 337, 338, 339, 340, 341, 342, 343, 344, 345, 346, 347, 348, 349, 350, 351, 352, 353, 354, 355, 356, 357, 358, 359, 360, 361, 362, 363, 364, 365, 366, 367, 368, 369, 370, 371, 372, 373, 374, 375, 376, 377, 378, 379, 380, 381, 382, 383, 384, 385, 386, 387, 388, 389, 390, 391, 392, 393, 394, 395, 396, 397, 398, 399, 400, 401, 402, 403, 404, 405, 406, 407, 408, 409, 410, 411, 412, 413, 414, 415, 416, 417, 418, 419, 420, 421, 422, 423, 424, 425, 426, 427, 428, 429, 430, 431, 432, 433, 434, 435, 436, 437, 438, 439]}]\n"
     ]
    }
   ],
   "source": [
    "from models import resnet, shake_pyramidnet\n",
    "\n",
    "print(\"use:\", device)\n",
    "\n",
    "# 모델 초기화\n",
    "model = shake_pyramidnet.ShakePyramidNet(config[\"depth\"], config[\"alpha\"], 100)\n",
    "net = model\n",
    "# 모델을 GPU로 이동\n",
    "net.to(device)\n",
    "\n",
    "# print(summary(net, (3,224,224)))\n",
    "\n",
    "criterion = nn.CrossEntropyLoss()\n",
    "optimizer = optim.SGD(net.parameters(), lr=config[\"learning_rate\"], momentum=config[\"momentum\"], weight_decay=config[\"weight_decay\"], nesterov=config[\"nesterov\"])\n",
    "\n",
    "if config[\"scheduler\"] == \"MultiStepLR\":\n",
    "    train_scheduler = optim.lr_scheduler.MultiStepLR(optimizer, config[\"milestones\"], gamma=config[\"gamma\"]) #learning rate decay\n",
    "elif config[\"scheduler\"] == \"ReduceLROnPlateau\":\n",
    "    train_scheduler = optim.lr_scheduler.ReduceLROnPlateau(optimizer, \"min\", factor=config[\"gamma\"], patience=config[\"plateau_patience\"])\n",
    "else:\n",
    "    print(\"No scheduler!!\")\n",
    "iter_per_epoch = len(train_loader)\n",
    "warmup_scheduler = WarmUpLR(optimizer, iter_per_epoch * config[\"warm\"])\n",
    "early_stopping = EarlyStopping(patience=config[\"patience\"], verbose=True)\n",
    "\n",
    "print(\"Optimizer's state_dict:\")\n",
    "for var_name in optimizer.state_dict():\n",
    "    print(var_name, \"\\t\", optimizer.state_dict()[var_name])"
   ]
  },
  {
   "cell_type": "code",
   "execution_count": 10,
   "id": "c1329699",
   "metadata": {},
   "outputs": [],
   "source": [
    "def rand_bbox(size, lam):\n",
    "    W = size[2]\n",
    "    H = size[3]\n",
    "    cut_rat = np.sqrt(1. - lam)\n",
    "    cut_w = np.int8(W * cut_rat)\n",
    "    cut_h = np.int8(H * cut_rat)\n",
    "\n",
    "    # uniform\n",
    "    cx = np.random.randint(W)\n",
    "    cy = np.random.randint(H)\n",
    "\n",
    "    bbx1 = np.clip(cx - cut_w // 2, 0, W)\n",
    "    bby1 = np.clip(cy - cut_h // 2, 0, H)\n",
    "    bbx2 = np.clip(cx + cut_w // 2, 0, W)\n",
    "    bby2 = np.clip(cy + cut_h // 2, 0, H)\n",
    "\n",
    "    return bbx1, bby1, bbx2, bby2"
   ]
  },
  {
   "cell_type": "markdown",
   "id": "8b49f37a-e104-42df-a9a6-6ba473a9881f",
   "metadata": {
    "id": "8b49f37a-e104-42df-a9a6-6ba473a9881f"
   },
   "source": [
    "**Model Train**"
   ]
  },
  {
   "cell_type": "code",
   "execution_count": 11,
   "id": "96ba42f4-6da7-4f0c-983b-b8b82da34879",
   "metadata": {
    "id": "96ba42f4-6da7-4f0c-983b-b8b82da34879"
   },
   "outputs": [],
   "source": [
    "# 모델 학습 함수\n",
    "def train_model(net, trainloader, criterion, optimizer, epoch):\n",
    "    net.train()\n",
    "    start = time.time()\n",
    "    top1_correct = 0\n",
    "    top5_correct = 0\n",
    "    total = 0\n",
    "\n",
    "    superclass_correct = 0\n",
    "    superclass_total = 0\n",
    "\n",
    "    running_loss = 0.0\n",
    "    for batch_idx, (inputs, labels) in enumerate(trainloader):\n",
    "        labels, inputs = labels.to(device), inputs.to(device)\n",
    "\n",
    "        r = np.random.rand(1)\n",
    "        if config[\"beta\"] > 0 and r < 0.5:\n",
    "            lam = np.random.beta(config[\"beta\"], config[\"beta\"])\n",
    "            rand_index = torch.randperm(inputs.size()[0]).cuda()\n",
    "            target_a = labels\n",
    "            target_b = labels[rand_index]\n",
    "            bbx1, bby1, bbx2, bby2 = rand_bbox(inputs.size(), lam)\n",
    "            inputs[:, :, bbx1:bbx2, bby1:bby2] = inputs[rand_index, :, bbx1:bbx2, bby1:bby2]\n",
    "\n",
    "            lam = 1 - ((bbx2 - bbx1) * (bby2 - bby1) / (inputs.size()[-1] * inputs.size()[-2]))\n",
    "\n",
    "            outputs = model(inputs)\n",
    "            loss = criterion(outputs, target_a) * lam + criterion(outputs, target_b) * (1. - lam)\n",
    "        else:\n",
    "            outputs = model(inputs)\n",
    "            loss = criterion(outputs, labels)\n",
    "\n",
    "        _, preds = torch.max(outputs, 1)\n",
    "        top1_correct += torch.sum(preds == labels).item()\n",
    "\n",
    "        _, top5_preds = outputs.topk(5, 1, True, True)\n",
    "        top5_correct += torch.sum(top5_preds.eq(labels.view(-1, 1).expand_as(top5_preds))).item()\n",
    "\n",
    "        total += labels.size(0)\n",
    "\n",
    "        # Superclass accuracy\n",
    "        super_preds = torch.tensor([fine_to_superclass[p.item()] for p in preds], dtype=torch.long)\n",
    "        super_labels = torch.tensor([fine_to_superclass[t.item()] for t in labels], dtype=torch.long)\n",
    "        superclass_correct += torch.sum(super_preds == super_labels).item()\n",
    "        superclass_total += super_labels.size(0)\n",
    "\n",
    "        # 역전파 및 최적화\n",
    "        optimizer.zero_grad()\n",
    "        loss.backward()\n",
    "        optimizer.step()\n",
    "\n",
    "        running_loss += loss.item() * inputs.size(0)\n",
    "\n",
    "        # 30번째 배치마다 상태 출력\n",
    "        if (batch_idx + 1) % 30 == 0:\n",
    "            print(f\"Batch [{batch_idx+1}/{len(trainloader)}], Loss: {loss.item():.4f}\")\n",
    "\n",
    "        # LR에 warmup 되는 게 안 보이지만 실제론 이루어지고 있음. batch로 돌 때 이루어짐.\n",
    "        if epoch <= config[\"warm\"]:\n",
    "            warmup_scheduler.step()\n",
    "\n",
    "\n",
    "    # Epoch당 평균 손실 계산 및 출력\n",
    "    epoch_loss = running_loss / total\n",
    "\n",
    "    finish = time.time()\n",
    "\n",
    "    # 세부 클래스 및 슈퍼 클래스 정확도 계산\n",
    "    top1_acc = top1_correct / total\n",
    "    top5_acc = top5_correct / total\n",
    "    superclass_acc = superclass_correct / superclass_total\n",
    "    accuracy = [top1_acc, top5_acc, superclass_acc]\n",
    "\n",
    "    print(\"Train set: Epoch: {}, Average loss:{:.4f}, LR: {:.6f} Top-1 Accuracy: {:.4f}, Top-5 Accuracy: {:.4f}, SuperClass Accuracy: {:.4f}, Time consumed:{:.2f}s\".format(\n",
    "        epoch,\n",
    "        epoch_loss,\n",
    "        optimizer.param_groups[0]['lr'],\n",
    "        top1_acc,\n",
    "        top5_acc,\n",
    "        superclass_acc,\n",
    "        finish - start\n",
    "    ))\n",
    "\n",
    "    return epoch_loss, accuracy\n",
    "\n",
    "def eval_training(net, testloader, criterion, epoch):\n",
    "    net.eval()\n",
    "    top1_correct = 0\n",
    "    top5_correct = 0\n",
    "    total = 0\n",
    "\n",
    "    superclass_correct = 0\n",
    "    superclass_total = 0\n",
    "\n",
    "    start = time.time()\n",
    "\n",
    "    test_loss = 0.0\n",
    "\n",
    "    with torch.no_grad():\n",
    "        for images, labels in testloader:\n",
    "            images, labels = images.to(device), labels.to(device)\n",
    "            outputs = net(images)\n",
    "\n",
    "            _, preds = torch.max(outputs, 1)\n",
    "            top1_correct += torch.sum(preds == labels).item()\n",
    "\n",
    "            _, top5_preds = outputs.topk(5, 1, True, True)\n",
    "            top5_correct += torch.sum(top5_preds.eq(labels.view(-1, 1).expand_as(top5_preds))).item()\n",
    "\n",
    "            total += labels.size(0)\n",
    "\n",
    "            test_loss += criterion(outputs, labels)\n",
    "\n",
    "            # Superclass accuracy\n",
    "            super_preds = torch.tensor([fine_to_superclass[p.item()] for p in preds], dtype=torch.long)\n",
    "            super_labels = torch.tensor([fine_to_superclass[t.item()] for t in labels], dtype=torch.long)\n",
    "            superclass_correct += torch.sum(super_preds == super_labels).item()\n",
    "            superclass_total += super_labels.size(0)\n",
    "\n",
    "    finish = time.time()\n",
    "    average_loss = test_loss / total\n",
    "\n",
    "    # 세부 클래스 및 슈퍼 클래스 정확도 계산\n",
    "    top1_acc = top1_correct / total\n",
    "    top5_acc = top5_correct / total\n",
    "    superclass_acc = superclass_correct / superclass_total\n",
    "    accuracy = [top1_acc, top5_acc, superclass_acc]\n",
    "\n",
    "    print(\"Test set: Epoch: {}, Average loss:{:.4f}, Top-1 Accuracy: {:.4f}, Top-5 Accuracy: {:.4f}, SuperClass Accuracy: {:.4f}, Time consumed:{:.2f}s\".format(\n",
    "        epoch,\n",
    "        average_loss,\n",
    "        top1_acc,\n",
    "        top5_acc,\n",
    "        superclass_acc,\n",
    "        finish - start\n",
    "    ))\n",
    "    print()\n",
    "\n",
    "    return average_loss, accuracy"
   ]
  },
  {
   "cell_type": "code",
   "execution_count": 12,
   "id": "7e079b97-a215-4b55-aedd-c1297773426d",
   "metadata": {
    "id": "7e079b97-a215-4b55-aedd-c1297773426d"
   },
   "outputs": [],
   "source": [
    "DATE_FORMAT = '%A_%d_%B_%Y_%Hh_%Mm_%Ss'\n",
    "TIME_NOW = datetime.now().strftime(DATE_FORMAT)\n",
    "\n",
    "if config[\"resume\"]:\n",
    "    recent_folder = most_recent_folder(os.path.join(\"runs\", config[\"model_name\"], \"savepoints\"), DATE_FORMAT)\n",
    "    if not recent_folder:\n",
    "        raise Exception(\"no recent folder were found\")\n",
    "\n",
    "    checkpoint_path = os.path.join(\"runs\", config[\"model_name\"], \"savepoints\", recent_folder)\n",
    "else:\n",
    "    checkpoint_path = os.path.join(\"runs\", config[\"model_name\"], \"savepoints\", TIME_NOW)\n",
    "\n",
    "if not os.path.exists(checkpoint_path):\n",
    "    os.makedirs(checkpoint_path)\n",
    "checkpoint_path = os.path.join(checkpoint_path, '{net}-{epoch}-{type}.pth')\n",
    "\n",
    "best_acc = [0.0, 0.0, 0.0]\n",
    "epoch = 0\n",
    "weights_path = False\n",
    "\n",
    "if config[\"resume\"]:\n",
    "    best_weights = best_acc_weights(os.path.join(\"runs\", config[\"model_name\"], \"savepoints\", recent_folder))\n",
    "    if best_weights:\n",
    "        weights_path = os.path.join(\"runs\", config[\"model_name\"], \"savepoints\", recent_folder, best_weights)\n",
    "        print('found best acc weights file:{}'.format(weights_path))\n",
    "        print('load best training file to test acc...')\n",
    "        net.load_state_dict(torch.load(weights_path))\n",
    "        _, best_acc = eval_training(net, test_loader, criterion, epoch)\n",
    "        print(\"best acc is Top-1:{:0.2f} Top-5:{:0.2f} Super:{:0.2f} Total:{:0.2f}\".format(best_acc[0], best_acc[1], best_acc[2], sum(best_acc)))\n",
    "\n",
    "    recent_weights_file = most_recent_weights(os.path.join(\"runs\", config[\"model_name\"], \"savepoints\", recent_folder))\n",
    "    if not recent_weights_file:\n",
    "        raise Exception(\"no recent weights file were found\")\n",
    "    weights_path = os.path.join(\"runs\", config[\"model_name\"], \"savepoints\", recent_folder, recent_weights_file)\n",
    "    print(\"loading weights file {} to resume training......\".format(weights_path))\n",
    "    net.load_state_dict(torch.load(weights_path))\n",
    "\n",
    "    resume_epoch = last_epoch(os.path.join(\"runs\", config[\"model_name\"], \"savepoints\", recent_folder))\n",
    "    print(\"resume_epoch is\", resume_epoch)\n",
    "    optimizer = optim.SGD(net.parameters(), lr=config[\"learning_rate\"], momentum=config[\"momentum\"], weight_decay=config[\"weight_decay\"], nesterov=config[\"nesterov\"])\n",
    "\n",
    "    if config[\"scheduler\"] == \"MultiStepLR\":\n",
    "        train_scheduler = optim.lr_scheduler.MultiStepLR(optimizer, config[\"milestones\"], gamma=config[\"gamma\"]) #learning rate decay\n",
    "    elif config[\"scheduler\"] == \"ReduceLROnPlateau\":\n",
    "        train_scheduler = optim.lr_scheduler.ReduceLROnPlateau(optimizer, \"min\", factor=config[\"gamma\"], patience=config[\"plateau_patience\"])\n",
    "    else:\n",
    "        print(\"No scheduler!!\")\n",
    "    optimizer.step()"
   ]
  },
  {
   "cell_type": "markdown",
   "id": "4a2e2e73-edc7-4368-910e-e6a71133dd81",
   "metadata": {
    "id": "4a2e2e73-edc7-4368-910e-e6a71133dd81"
   },
   "source": [
    "**Per-Epoch Training**"
   ]
  },
  {
   "cell_type": "code",
   "execution_count": 13,
   "id": "c463ddea-8731-4e48-8ba1-23e2961b164a",
   "metadata": {
    "colab": {
     "base_uri": "https://localhost:8080/"
    },
    "id": "c463ddea-8731-4e48-8ba1-23e2961b164a",
    "outputId": "c22e6d65-3707-478e-ceb6-b56881f0c945",
    "scrolled": true
   },
   "outputs": [
    {
     "name": "stderr",
     "output_type": "stream",
     "text": [
      "  0%|          | 0/300 [00:00<?, ?it/s]C:\\Users\\jhw03\\AppData\\Local\\Temp\\ipykernel_23872\\2894552513.py:25: RuntimeWarning: overflow encountered in scalar multiply\n",
      "  lam = 1 - ((bbx2 - bbx1) * (bby2 - bby1) / (inputs.size()[-1] * inputs.size()[-2]))\n",
      "c:\\Users\\jhw03\\Desktop\\Cgv\\CIFAR100-Classfication\\cgv\\models\\shakedrop.py:15: UserWarning: The torch.cuda.*DtypeTensor constructors are no longer recommended. It's best to use methods such as torch.tensor(data, dtype=*, device='cuda') to create tensors. (Triggered internally at C:\\actions-runner\\_work\\pytorch\\pytorch\\builder\\windows\\pytorch\\torch\\csrc\\tensor\\python_tensor.cpp:80.)\n",
      "  gate = torch.cuda.FloatTensor([0]).bernoulli_(1 - p_drop)\n"
     ]
    },
    {
     "name": "stdout",
     "output_type": "stream",
     "text": [
      "Batch [30/391], Loss: 4.6061\n",
      "Batch [60/391], Loss: 4.5536\n",
      "Batch [90/391], Loss: 4.4285\n",
      "Batch [120/391], Loss: 4.1906\n",
      "Batch [150/391], Loss: 4.0568\n",
      "Batch [180/391], Loss: 4.2087\n",
      "Batch [210/391], Loss: 4.2464\n",
      "Batch [240/391], Loss: 4.3548\n",
      "Batch [270/391], Loss: 4.2491\n",
      "Batch [300/391], Loss: 4.1698\n",
      "Batch [330/391], Loss: 4.2655\n",
      "Batch [360/391], Loss: 3.9033\n",
      "Batch [390/391], Loss: 4.0028\n",
      "Train set: Epoch: 1, Average loss:4.2642, LR: 0.100000 Top-1 Accuracy: 0.0510, Top-5 Accuracy: 0.1854, SuperClass Accuracy: 0.1330, Time consumed:304.54s\n"
     ]
    },
    {
     "name": "stderr",
     "output_type": "stream",
     "text": [
      "  0%|          | 1/300 [05:33<27:44:01, 333.92s/it]"
     ]
    },
    {
     "name": "stdout",
     "output_type": "stream",
     "text": [
      "Test set: Epoch: 1, Average loss:0.0312, Top-1 Accuracy: 0.0907, Top-5 Accuracy: 0.2865, SuperClass Accuracy: 0.1923, Time consumed:29.21s\n",
      "\n",
      "saving weights file to runs\\shake_pyramidnet110_270\\savepoints\\Monday_14_October_2024_18h_56m_23s\\shake_pyramidnet110_270-1-best.pth\n",
      "Batch [30/391], Loss: 4.3349\n",
      "Batch [60/391], Loss: 3.8923\n",
      "Batch [90/391], Loss: 3.8255\n",
      "Batch [120/391], Loss: 3.8718\n",
      "Batch [150/391], Loss: 3.8708\n",
      "Batch [180/391], Loss: 3.6840\n",
      "Batch [210/391], Loss: 4.2974\n",
      "Batch [240/391], Loss: 3.9779\n",
      "Batch [270/391], Loss: 3.7493\n",
      "Batch [300/391], Loss: 4.1695\n",
      "Batch [330/391], Loss: 3.5633\n",
      "Batch [360/391], Loss: 4.1363\n",
      "Batch [390/391], Loss: 3.6186\n",
      "Train set: Epoch: 2, Average loss:3.9289, LR: 0.100000 Top-1 Accuracy: 0.0962, Top-5 Accuracy: 0.2991, SuperClass Accuracy: 0.2076, Time consumed:304.59s\n"
     ]
    },
    {
     "name": "stderr",
     "output_type": "stream",
     "text": [
      "  1%|          | 2/300 [11:08<27:39:08, 334.06s/it]"
     ]
    },
    {
     "name": "stdout",
     "output_type": "stream",
     "text": [
      "Test set: Epoch: 2, Average loss:0.0285, Top-1 Accuracy: 0.1338, Top-5 Accuracy: 0.3930, SuperClass Accuracy: 0.2658, Time consumed:29.40s\n",
      "\n",
      "saving weights file to runs\\shake_pyramidnet110_270\\savepoints\\Monday_14_October_2024_18h_56m_23s\\shake_pyramidnet110_270-2-best.pth\n",
      "Batch [30/391], Loss: 3.6372\n",
      "Batch [60/391], Loss: 4.0938\n",
      "Batch [90/391], Loss: 3.4831\n",
      "Batch [120/391], Loss: 3.5689\n",
      "Batch [150/391], Loss: 3.5702\n",
      "Batch [180/391], Loss: 4.0416\n",
      "Batch [210/391], Loss: 3.3256\n",
      "Batch [240/391], Loss: 3.3530\n",
      "Batch [270/391], Loss: 4.1323\n",
      "Batch [300/391], Loss: 3.6607\n",
      "Batch [330/391], Loss: 3.1558\n",
      "Batch [360/391], Loss: 3.2416\n",
      "Batch [390/391], Loss: 3.1028\n",
      "Train set: Epoch: 3, Average loss:3.6618, LR: 0.100000 Top-1 Accuracy: 0.1409, Top-5 Accuracy: 0.3797, SuperClass Accuracy: 0.2611, Time consumed:304.42s\n"
     ]
    },
    {
     "name": "stderr",
     "output_type": "stream",
     "text": [
      "  1%|          | 3/300 [16:41<27:32:56, 333.93s/it]"
     ]
    },
    {
     "name": "stdout",
     "output_type": "stream",
     "text": [
      "Test set: Epoch: 3, Average loss:0.0262, Top-1 Accuracy: 0.1921, Top-5 Accuracy: 0.4619, SuperClass Accuracy: 0.3352, Time consumed:29.20s\n",
      "\n",
      "saving weights file to runs\\shake_pyramidnet110_270\\savepoints\\Monday_14_October_2024_18h_56m_23s\\shake_pyramidnet110_270-3-best.pth\n",
      "Batch [30/391], Loss: 3.3479\n",
      "Batch [60/391], Loss: 3.4592\n",
      "Batch [90/391], Loss: 3.6919\n",
      "Batch [120/391], Loss: 3.3667\n",
      "Batch [150/391], Loss: 3.5157\n",
      "Batch [180/391], Loss: 3.0960\n",
      "Batch [210/391], Loss: 4.4325\n",
      "Batch [240/391], Loss: 4.7672\n",
      "Batch [270/391], Loss: 3.0262\n",
      "Batch [300/391], Loss: 2.9056\n",
      "Batch [330/391], Loss: 3.4634\n",
      "Batch [360/391], Loss: 2.9581\n",
      "Batch [390/391], Loss: 2.9898\n",
      "Train set: Epoch: 4, Average loss:3.4397, LR: 0.100000 Top-1 Accuracy: 0.1797, Top-5 Accuracy: 0.4498, SuperClass Accuracy: 0.3116, Time consumed:306.36s\n"
     ]
    },
    {
     "name": "stderr",
     "output_type": "stream",
     "text": [
      "  1%|▏         | 4/300 [22:17<27:31:29, 334.76s/it]"
     ]
    },
    {
     "name": "stdout",
     "output_type": "stream",
     "text": [
      "Test set: Epoch: 4, Average loss:0.0247, Top-1 Accuracy: 0.2149, Top-5 Accuracy: 0.5243, SuperClass Accuracy: 0.3563, Time consumed:29.50s\n",
      "\n",
      "saving weights file to runs\\shake_pyramidnet110_270\\savepoints\\Monday_14_October_2024_18h_56m_23s\\shake_pyramidnet110_270-4-best.pth\n",
      "Batch [30/391], Loss: 3.6665\n",
      "Batch [60/391], Loss: 3.0991\n",
      "Batch [90/391], Loss: 2.8855\n",
      "Batch [120/391], Loss: 3.5348\n",
      "Batch [150/391], Loss: 3.0124\n",
      "Batch [180/391], Loss: 3.2261\n",
      "Batch [210/391], Loss: 2.8103\n",
      "Batch [240/391], Loss: 2.7523\n",
      "Batch [270/391], Loss: 3.2305\n",
      "Batch [300/391], Loss: 3.9984\n",
      "Batch [330/391], Loss: 2.5067\n",
      "Batch [360/391], Loss: 2.7541\n",
      "Batch [390/391], Loss: 2.8504\n",
      "Train set: Epoch: 5, Average loss:3.2439, LR: 0.100000 Top-1 Accuracy: 0.2185, Top-5 Accuracy: 0.5007, SuperClass Accuracy: 0.3539, Time consumed:305.71s\n"
     ]
    },
    {
     "name": "stderr",
     "output_type": "stream",
     "text": [
      "  2%|▏         | 5/300 [27:52<27:25:39, 334.71s/it]"
     ]
    },
    {
     "name": "stdout",
     "output_type": "stream",
     "text": [
      "Test set: Epoch: 5, Average loss:0.0217, Top-1 Accuracy: 0.2965, Top-5 Accuracy: 0.6229, SuperClass Accuracy: 0.4384, Time consumed:28.76s\n",
      "\n",
      "saving weights file to runs\\shake_pyramidnet110_270\\savepoints\\Monday_14_October_2024_18h_56m_23s\\shake_pyramidnet110_270-5-best.pth\n",
      "Batch [30/391], Loss: 3.3507\n",
      "Batch [60/391], Loss: 3.6790\n",
      "Batch [90/391], Loss: 2.9053\n",
      "Batch [120/391], Loss: 2.6878\n",
      "Batch [150/391], Loss: 2.4695\n",
      "Batch [180/391], Loss: 3.9013\n",
      "Batch [210/391], Loss: 3.0695\n",
      "Batch [240/391], Loss: 4.1143\n",
      "Batch [270/391], Loss: 2.8451\n",
      "Batch [300/391], Loss: 3.1599\n",
      "Batch [330/391], Loss: 2.5734\n",
      "Batch [360/391], Loss: 3.1018\n",
      "Batch [390/391], Loss: 3.1278\n",
      "Train set: Epoch: 6, Average loss:3.1648, LR: 0.100000 Top-1 Accuracy: 0.2411, Top-5 Accuracy: 0.5280, SuperClass Accuracy: 0.3766, Time consumed:303.28s\n"
     ]
    },
    {
     "name": "stderr",
     "output_type": "stream",
     "text": [
      "  2%|▏         | 6/300 [33:24<27:15:46, 333.83s/it]"
     ]
    },
    {
     "name": "stdout",
     "output_type": "stream",
     "text": [
      "Test set: Epoch: 6, Average loss:0.0211, Top-1 Accuracy: 0.3085, Top-5 Accuracy: 0.6382, SuperClass Accuracy: 0.4544, Time consumed:28.68s\n",
      "\n",
      "saving weights file to runs\\shake_pyramidnet110_270\\savepoints\\Monday_14_October_2024_18h_56m_23s\\shake_pyramidnet110_270-6-best.pth\n",
      "Batch [30/391], Loss: 3.2038\n",
      "Batch [60/391], Loss: 2.5191\n",
      "Batch [90/391], Loss: 2.5242\n",
      "Batch [120/391], Loss: 3.7043\n",
      "Batch [150/391], Loss: 3.0924\n",
      "Batch [180/391], Loss: 2.3906\n",
      "Batch [210/391], Loss: 2.4876\n",
      "Batch [240/391], Loss: 2.6238\n",
      "Batch [270/391], Loss: 4.3781\n",
      "Batch [300/391], Loss: 2.7128\n",
      "Batch [330/391], Loss: 3.1972\n",
      "Batch [360/391], Loss: 2.2468\n",
      "Batch [390/391], Loss: 2.3030\n",
      "Train set: Epoch: 7, Average loss:3.0020, LR: 0.100000 Top-1 Accuracy: 0.2721, Top-5 Accuracy: 0.5659, SuperClass Accuracy: 0.4101, Time consumed:302.86s\n"
     ]
    },
    {
     "name": "stderr",
     "output_type": "stream",
     "text": [
      "  2%|▏         | 7/300 [38:56<27:06:49, 333.14s/it]"
     ]
    },
    {
     "name": "stdout",
     "output_type": "stream",
     "text": [
      "Test set: Epoch: 7, Average loss:0.0205, Top-1 Accuracy: 0.3350, Top-5 Accuracy: 0.6580, SuperClass Accuracy: 0.4846, Time consumed:28.68s\n",
      "\n",
      "saving weights file to runs\\shake_pyramidnet110_270\\savepoints\\Monday_14_October_2024_18h_56m_23s\\shake_pyramidnet110_270-7-best.pth\n",
      "Batch [30/391], Loss: 2.3252\n",
      "Batch [60/391], Loss: 2.5589\n",
      "Batch [90/391], Loss: 3.6425\n",
      "Batch [120/391], Loss: 2.2522\n",
      "Batch [150/391], Loss: 2.8133\n",
      "Batch [180/391], Loss: 2.3601\n",
      "Batch [210/391], Loss: 3.4385\n",
      "Batch [240/391], Loss: 3.5465\n",
      "Batch [270/391], Loss: 2.2053\n",
      "Batch [300/391], Loss: 2.7991\n",
      "Batch [330/391], Loss: 2.3727\n",
      "Batch [360/391], Loss: 2.3657\n",
      "Batch [390/391], Loss: 2.9386\n",
      "Train set: Epoch: 8, Average loss:2.8636, LR: 0.100000 Top-1 Accuracy: 0.2959, Top-5 Accuracy: 0.5990, SuperClass Accuracy: 0.4354, Time consumed:302.98s\n"
     ]
    },
    {
     "name": "stderr",
     "output_type": "stream",
     "text": [
      "  3%|▎         | 8/300 [44:28<26:59:19, 332.74s/it]"
     ]
    },
    {
     "name": "stdout",
     "output_type": "stream",
     "text": [
      "Test set: Epoch: 8, Average loss:0.0193, Top-1 Accuracy: 0.3634, Top-5 Accuracy: 0.6862, SuperClass Accuracy: 0.5120, Time consumed:28.75s\n",
      "\n",
      "saving weights file to runs\\shake_pyramidnet110_270\\savepoints\\Monday_14_October_2024_18h_56m_23s\\shake_pyramidnet110_270-8-best.pth\n",
      "Batch [30/391], Loss: 4.7126\n",
      "Batch [60/391], Loss: 2.1630\n",
      "Batch [90/391], Loss: 2.0845\n",
      "Batch [120/391], Loss: 3.2693\n",
      "Batch [150/391], Loss: 2.3454\n",
      "Batch [180/391], Loss: 2.6752\n",
      "Batch [210/391], Loss: 2.3474\n",
      "Batch [240/391], Loss: 3.0062\n",
      "Batch [270/391], Loss: 2.4339\n",
      "Batch [300/391], Loss: 2.0018\n",
      "Batch [330/391], Loss: 2.1821\n",
      "Batch [360/391], Loss: 2.2313\n",
      "Batch [390/391], Loss: 2.1652\n",
      "Train set: Epoch: 9, Average loss:2.7196, LR: 0.100000 Top-1 Accuracy: 0.3249, Top-5 Accuracy: 0.6324, SuperClass Accuracy: 0.4667, Time consumed:302.90s\n"
     ]
    },
    {
     "name": "stderr",
     "output_type": "stream",
     "text": [
      "  3%|▎         | 9/300 [50:00<26:52:31, 332.48s/it]"
     ]
    },
    {
     "name": "stdout",
     "output_type": "stream",
     "text": [
      "Test set: Epoch: 9, Average loss:0.0182, Top-1 Accuracy: 0.3872, Top-5 Accuracy: 0.7187, SuperClass Accuracy: 0.5409, Time consumed:28.85s\n",
      "\n",
      "saving weights file to runs\\shake_pyramidnet110_270\\savepoints\\Monday_14_October_2024_18h_56m_23s\\shake_pyramidnet110_270-9-best.pth\n",
      "Batch [30/391], Loss: 2.2385\n",
      "Batch [60/391], Loss: 3.2464\n",
      "Batch [90/391], Loss: 2.4275\n",
      "Batch [120/391], Loss: 1.9309\n",
      "Batch [150/391], Loss: 2.3768\n",
      "Batch [180/391], Loss: 2.3609\n",
      "Batch [210/391], Loss: 2.5430\n",
      "Batch [240/391], Loss: 2.1383\n",
      "Batch [270/391], Loss: 2.2767\n",
      "Batch [300/391], Loss: 2.3487\n",
      "Batch [330/391], Loss: 2.0619\n",
      "Batch [360/391], Loss: 2.1362\n",
      "Batch [390/391], Loss: 2.4803\n",
      "Train set: Epoch: 10, Average loss:2.6516, LR: 0.100000 Top-1 Accuracy: 0.3462, Top-5 Accuracy: 0.6478, SuperClass Accuracy: 0.4860, Time consumed:302.84s\n"
     ]
    },
    {
     "name": "stderr",
     "output_type": "stream",
     "text": [
      "  3%|▎         | 10/300 [55:31<26:45:47, 332.23s/it]"
     ]
    },
    {
     "name": "stdout",
     "output_type": "stream",
     "text": [
      "Test set: Epoch: 10, Average loss:0.0186, Top-1 Accuracy: 0.3941, Top-5 Accuracy: 0.7046, SuperClass Accuracy: 0.5268, Time consumed:28.68s\n",
      "\n",
      "saving weights file to runs\\shake_pyramidnet110_270\\savepoints\\Monday_14_October_2024_18h_56m_23s\\shake_pyramidnet110_270-10-best.pth\n",
      "EarlyStopping counter: 1 out of 150\n",
      "Batch [30/391], Loss: 3.2510\n",
      "Batch [60/391], Loss: 2.7583\n",
      "Batch [90/391], Loss: 5.8767\n",
      "Batch [120/391], Loss: 2.0177\n",
      "Batch [150/391], Loss: 2.2214\n",
      "Batch [180/391], Loss: 2.5606\n",
      "Batch [210/391], Loss: 3.1017\n",
      "Batch [240/391], Loss: 2.2177\n",
      "Batch [270/391], Loss: 1.9949\n",
      "Batch [300/391], Loss: 2.7633\n",
      "Batch [330/391], Loss: 1.9547\n",
      "Batch [360/391], Loss: 2.1127\n",
      "Batch [390/391], Loss: 3.9000\n",
      "Train set: Epoch: 11, Average loss:2.5762, LR: 0.100000 Top-1 Accuracy: 0.3638, Top-5 Accuracy: 0.6668, SuperClass Accuracy: 0.5046, Time consumed:303.08s\n"
     ]
    },
    {
     "name": "stderr",
     "output_type": "stream",
     "text": [
      "  4%|▎         | 11/300 [1:01:03<26:39:34, 332.09s/it]"
     ]
    },
    {
     "name": "stdout",
     "output_type": "stream",
     "text": [
      "Test set: Epoch: 11, Average loss:0.0185, Top-1 Accuracy: 0.3898, Top-5 Accuracy: 0.7198, SuperClass Accuracy: 0.5406, Time consumed:28.69s\n",
      "\n",
      "EarlyStopping counter: 2 out of 150\n",
      "Batch [30/391], Loss: 1.8917\n",
      "Batch [60/391], Loss: 2.4234\n",
      "Batch [90/391], Loss: 2.4570\n",
      "Batch [120/391], Loss: 1.7623\n",
      "Batch [150/391], Loss: 3.8632\n",
      "Batch [180/391], Loss: 2.3632\n",
      "Batch [210/391], Loss: 1.7878\n",
      "Batch [240/391], Loss: 3.7051\n",
      "Batch [270/391], Loss: 1.8031\n",
      "Batch [300/391], Loss: 1.8944\n",
      "Batch [330/391], Loss: 2.2760\n",
      "Batch [360/391], Loss: 3.0685\n",
      "Batch [390/391], Loss: 3.2417\n",
      "Train set: Epoch: 12, Average loss:2.5471, LR: 0.100000 Top-1 Accuracy: 0.3727, Top-5 Accuracy: 0.6695, SuperClass Accuracy: 0.5088, Time consumed:303.09s\n"
     ]
    },
    {
     "name": "stderr",
     "output_type": "stream",
     "text": [
      "  4%|▍         | 12/300 [1:06:35<26:33:40, 332.02s/it]"
     ]
    },
    {
     "name": "stdout",
     "output_type": "stream",
     "text": [
      "Test set: Epoch: 12, Average loss:0.0153, Top-1 Accuracy: 0.4738, Top-5 Accuracy: 0.7895, SuperClass Accuracy: 0.6173, Time consumed:28.61s\n",
      "\n",
      "saving weights file to runs\\shake_pyramidnet110_270\\savepoints\\Monday_14_October_2024_18h_56m_23s\\shake_pyramidnet110_270-12-best.pth\n",
      "Batch [30/391], Loss: 2.2164\n",
      "Batch [60/391], Loss: 4.3330\n",
      "Batch [90/391], Loss: 1.9295\n",
      "Batch [120/391], Loss: 2.0632\n",
      "Batch [150/391], Loss: 1.6693\n",
      "Batch [180/391], Loss: 1.8984\n",
      "Batch [210/391], Loss: 4.1099\n",
      "Batch [240/391], Loss: 1.9580\n",
      "Batch [270/391], Loss: 1.7785\n",
      "Batch [300/391], Loss: 2.4924\n",
      "Batch [330/391], Loss: 1.7278\n",
      "Batch [360/391], Loss: 1.8061\n",
      "Batch [390/391], Loss: 1.6860\n",
      "Train set: Epoch: 13, Average loss:2.3781, LR: 0.100000 Top-1 Accuracy: 0.4029, Top-5 Accuracy: 0.7071, SuperClass Accuracy: 0.5407, Time consumed:302.87s\n"
     ]
    },
    {
     "name": "stderr",
     "output_type": "stream",
     "text": [
      "  4%|▍         | 13/300 [1:12:06<26:27:25, 331.87s/it]"
     ]
    },
    {
     "name": "stdout",
     "output_type": "stream",
     "text": [
      "Test set: Epoch: 13, Average loss:0.0163, Top-1 Accuracy: 0.4486, Top-5 Accuracy: 0.7616, SuperClass Accuracy: 0.5938, Time consumed:28.65s\n",
      "\n",
      "EarlyStopping counter: 1 out of 150\n",
      "Batch [30/391], Loss: 2.5557\n",
      "Batch [60/391], Loss: 2.3039\n",
      "Batch [90/391], Loss: 2.0174\n",
      "Batch [120/391], Loss: 1.8486\n",
      "Batch [150/391], Loss: 1.9675\n",
      "Batch [180/391], Loss: 1.9438\n",
      "Batch [210/391], Loss: 2.8296\n",
      "Batch [240/391], Loss: 1.9746\n",
      "Batch [270/391], Loss: 4.2017\n",
      "Batch [300/391], Loss: 2.3813\n",
      "Batch [330/391], Loss: 1.8466\n",
      "Batch [360/391], Loss: 3.0198\n",
      "Batch [390/391], Loss: 3.5441\n",
      "Train set: Epoch: 14, Average loss:2.3871, LR: 0.100000 Top-1 Accuracy: 0.4023, Top-5 Accuracy: 0.7036, SuperClass Accuracy: 0.5401, Time consumed:303.51s\n"
     ]
    },
    {
     "name": "stderr",
     "output_type": "stream",
     "text": [
      "  5%|▍         | 14/300 [1:17:39<26:22:35, 332.01s/it]"
     ]
    },
    {
     "name": "stdout",
     "output_type": "stream",
     "text": [
      "Test set: Epoch: 14, Average loss:0.0176, Top-1 Accuracy: 0.4234, Top-5 Accuracy: 0.7440, SuperClass Accuracy: 0.5672, Time consumed:28.83s\n",
      "\n",
      "EarlyStopping counter: 2 out of 150\n",
      "Batch [30/391], Loss: 1.7437\n",
      "Batch [60/391], Loss: 2.1474\n",
      "Batch [90/391], Loss: 1.7574\n",
      "Batch [120/391], Loss: 2.6787\n",
      "Batch [150/391], Loss: 3.2612\n",
      "Batch [180/391], Loss: 2.3338\n",
      "Batch [210/391], Loss: 1.5968\n",
      "Batch [240/391], Loss: 2.9959\n",
      "Batch [270/391], Loss: 2.7081\n",
      "Batch [300/391], Loss: 2.2838\n",
      "Batch [330/391], Loss: 3.1478\n",
      "Batch [360/391], Loss: 1.6240\n",
      "Batch [390/391], Loss: 1.7925\n",
      "Train set: Epoch: 15, Average loss:2.3703, LR: 0.100000 Top-1 Accuracy: 0.4052, Top-5 Accuracy: 0.7063, SuperClass Accuracy: 0.5434, Time consumed:303.50s\n"
     ]
    },
    {
     "name": "stderr",
     "output_type": "stream",
     "text": [
      "  5%|▌         | 15/300 [1:23:11<26:17:23, 332.08s/it]"
     ]
    },
    {
     "name": "stdout",
     "output_type": "stream",
     "text": [
      "Test set: Epoch: 15, Average loss:0.0160, Top-1 Accuracy: 0.4718, Top-5 Accuracy: 0.7753, SuperClass Accuracy: 0.6078, Time consumed:28.74s\n",
      "\n",
      "EarlyStopping counter: 3 out of 150\n",
      "Batch [30/391], Loss: 1.8032\n",
      "Batch [60/391], Loss: 1.8994\n",
      "Batch [90/391], Loss: 1.6803\n",
      "Batch [120/391], Loss: 2.7855\n",
      "Batch [150/391], Loss: 2.2409\n",
      "Batch [180/391], Loss: 1.7508\n",
      "Batch [210/391], Loss: 3.8174\n",
      "Batch [240/391], Loss: 2.7913\n",
      "Batch [270/391], Loss: 1.6507\n",
      "Batch [300/391], Loss: 1.6787\n",
      "Batch [330/391], Loss: 1.6189\n",
      "Batch [360/391], Loss: 2.2980\n",
      "Batch [390/391], Loss: 2.2517\n",
      "Train set: Epoch: 16, Average loss:2.3171, LR: 0.100000 Top-1 Accuracy: 0.4247, Top-5 Accuracy: 0.7224, SuperClass Accuracy: 0.5625, Time consumed:303.02s\n"
     ]
    },
    {
     "name": "stderr",
     "output_type": "stream",
     "text": [
      "  5%|▌         | 16/300 [1:28:43<26:11:31, 332.01s/it]"
     ]
    },
    {
     "name": "stdout",
     "output_type": "stream",
     "text": [
      "Test set: Epoch: 16, Average loss:0.0146, Top-1 Accuracy: 0.5030, Top-5 Accuracy: 0.8100, SuperClass Accuracy: 0.6498, Time consumed:28.67s\n",
      "\n",
      "saving weights file to runs\\shake_pyramidnet110_270\\savepoints\\Monday_14_October_2024_18h_56m_23s\\shake_pyramidnet110_270-16-best.pth\n",
      "Batch [30/391], Loss: 1.6191\n",
      "Batch [60/391], Loss: 1.7185\n",
      "Batch [90/391], Loss: 1.6568\n",
      "Batch [120/391], Loss: 2.1110\n",
      "Batch [150/391], Loss: 1.9653\n",
      "Batch [180/391], Loss: 2.5299\n",
      "Batch [210/391], Loss: 1.8692\n",
      "Batch [240/391], Loss: 3.0613\n",
      "Batch [270/391], Loss: 1.7413\n",
      "Batch [300/391], Loss: 2.2473\n",
      "Batch [330/391], Loss: 3.4202\n",
      "Batch [360/391], Loss: 1.4432\n",
      "Batch [390/391], Loss: 3.2030\n",
      "Train set: Epoch: 17, Average loss:2.1786, LR: 0.100000 Top-1 Accuracy: 0.4438, Top-5 Accuracy: 0.7439, SuperClass Accuracy: 0.5793, Time consumed:303.20s\n"
     ]
    },
    {
     "name": "stderr",
     "output_type": "stream",
     "text": [
      "  6%|▌         | 17/300 [1:34:15<26:06:09, 332.05s/it]"
     ]
    },
    {
     "name": "stdout",
     "output_type": "stream",
     "text": [
      "Test set: Epoch: 17, Average loss:0.0145, Top-1 Accuracy: 0.5037, Top-5 Accuracy: 0.8059, SuperClass Accuracy: 0.6485, Time consumed:28.77s\n",
      "\n",
      "saving weights file to runs\\shake_pyramidnet110_270\\savepoints\\Monday_14_October_2024_18h_56m_23s\\shake_pyramidnet110_270-17-best.pth\n",
      "Batch [30/391], Loss: 3.4137\n",
      "Batch [60/391], Loss: 1.8374\n",
      "Batch [90/391], Loss: 1.6439\n",
      "Batch [120/391], Loss: 1.9121\n",
      "Batch [150/391], Loss: 3.0439\n",
      "Batch [180/391], Loss: 1.9785\n",
      "Batch [210/391], Loss: 2.0270\n",
      "Batch [240/391], Loss: 1.6097\n",
      "Batch [270/391], Loss: 3.1115\n",
      "Batch [300/391], Loss: 4.6730\n",
      "Batch [330/391], Loss: 1.7692\n",
      "Batch [360/391], Loss: 1.4001\n",
      "Batch [390/391], Loss: 1.8138\n",
      "Train set: Epoch: 18, Average loss:2.2363, LR: 0.100000 Top-1 Accuracy: 0.4317, Top-5 Accuracy: 0.7292, SuperClass Accuracy: 0.5689, Time consumed:303.08s\n"
     ]
    },
    {
     "name": "stderr",
     "output_type": "stream",
     "text": [
      "  6%|▌         | 18/300 [1:39:47<26:00:24, 332.00s/it]"
     ]
    },
    {
     "name": "stdout",
     "output_type": "stream",
     "text": [
      "Test set: Epoch: 18, Average loss:0.0139, Top-1 Accuracy: 0.5206, Top-5 Accuracy: 0.8242, SuperClass Accuracy: 0.6624, Time consumed:28.67s\n",
      "\n",
      "saving weights file to runs\\shake_pyramidnet110_270\\savepoints\\Monday_14_October_2024_18h_56m_23s\\shake_pyramidnet110_270-18-best.pth\n",
      "Batch [30/391], Loss: 2.7183\n",
      "Batch [60/391], Loss: 2.9114\n",
      "Batch [90/391], Loss: 1.4551\n",
      "Batch [120/391], Loss: 1.8497\n",
      "Batch [150/391], Loss: 1.4938\n",
      "Batch [180/391], Loss: 2.1380\n",
      "Batch [210/391], Loss: 1.5431\n",
      "Batch [240/391], Loss: 1.5086\n",
      "Batch [270/391], Loss: 1.6214\n",
      "Batch [300/391], Loss: 1.3051\n",
      "Batch [330/391], Loss: 1.7667\n",
      "Batch [360/391], Loss: 2.7317\n",
      "Batch [390/391], Loss: 1.9082\n",
      "Train set: Epoch: 19, Average loss:2.1078, LR: 0.100000 Top-1 Accuracy: 0.4598, Top-5 Accuracy: 0.7557, SuperClass Accuracy: 0.5945, Time consumed:303.32s\n"
     ]
    },
    {
     "name": "stderr",
     "output_type": "stream",
     "text": [
      "  6%|▋         | 19/300 [1:45:19<25:54:50, 332.00s/it]"
     ]
    },
    {
     "name": "stdout",
     "output_type": "stream",
     "text": [
      "Test set: Epoch: 19, Average loss:0.0157, Top-1 Accuracy: 0.4809, Top-5 Accuracy: 0.7857, SuperClass Accuracy: 0.6128, Time consumed:28.66s\n",
      "\n",
      "EarlyStopping counter: 1 out of 150\n",
      "Batch [30/391], Loss: 1.6069\n",
      "Batch [60/391], Loss: 2.1995\n",
      "Batch [90/391], Loss: 1.5837\n",
      "Batch [120/391], Loss: 1.6850\n",
      "Batch [150/391], Loss: 1.5051\n",
      "Batch [180/391], Loss: 1.4850\n",
      "Batch [210/391], Loss: 0.8785\n",
      "Batch [240/391], Loss: 2.6495\n",
      "Batch [270/391], Loss: 2.0992\n",
      "Batch [300/391], Loss: 1.8140\n",
      "Batch [330/391], Loss: 1.7869\n",
      "Batch [360/391], Loss: 1.6207\n",
      "Batch [390/391], Loss: 1.6170\n",
      "Train set: Epoch: 20, Average loss:2.1238, LR: 0.100000 Top-1 Accuracy: 0.4627, Top-5 Accuracy: 0.7560, SuperClass Accuracy: 0.5977, Time consumed:302.89s\n"
     ]
    },
    {
     "name": "stderr",
     "output_type": "stream",
     "text": [
      "  7%|▋         | 20/300 [1:50:51<25:49:02, 331.94s/it]"
     ]
    },
    {
     "name": "stdout",
     "output_type": "stream",
     "text": [
      "Test set: Epoch: 20, Average loss:0.0134, Top-1 Accuracy: 0.5254, Top-5 Accuracy: 0.8366, SuperClass Accuracy: 0.6825, Time consumed:28.77s\n",
      "\n",
      "saving weights file to runs\\shake_pyramidnet110_270\\savepoints\\Monday_14_October_2024_18h_56m_23s\\shake_pyramidnet110_270-20-best.pth\n",
      "Batch [30/391], Loss: 1.6963\n",
      "Batch [60/391], Loss: 4.7936\n",
      "Batch [90/391], Loss: 1.6276\n",
      "Batch [120/391], Loss: 1.7539\n",
      "Batch [150/391], Loss: 1.8174\n",
      "Batch [180/391], Loss: 1.5930\n",
      "Batch [210/391], Loss: 2.5221\n",
      "Batch [240/391], Loss: 1.7880\n",
      "Batch [270/391], Loss: 1.5280\n",
      "Batch [300/391], Loss: 3.1723\n",
      "Batch [330/391], Loss: 1.9534\n",
      "Batch [360/391], Loss: 2.3949\n",
      "Batch [390/391], Loss: 1.5011\n",
      "Train set: Epoch: 21, Average loss:2.1800, LR: 0.100000 Top-1 Accuracy: 0.4470, Top-5 Accuracy: 0.7429, SuperClass Accuracy: 0.5814, Time consumed:303.06s\n"
     ]
    },
    {
     "name": "stderr",
     "output_type": "stream",
     "text": [
      "  7%|▋         | 21/300 [1:56:23<25:43:31, 331.94s/it]"
     ]
    },
    {
     "name": "stdout",
     "output_type": "stream",
     "text": [
      "Test set: Epoch: 21, Average loss:0.0135, Top-1 Accuracy: 0.5350, Top-5 Accuracy: 0.8320, SuperClass Accuracy: 0.6771, Time consumed:28.73s\n",
      "\n",
      "saving weights file to runs\\shake_pyramidnet110_270\\savepoints\\Monday_14_October_2024_18h_56m_23s\\shake_pyramidnet110_270-21-best.pth\n",
      "EarlyStopping counter: 1 out of 150\n",
      "Batch [30/391], Loss: 1.4857\n",
      "Batch [60/391], Loss: 1.5485\n",
      "Batch [90/391], Loss: 1.5939\n",
      "Batch [120/391], Loss: 1.2159\n",
      "Batch [150/391], Loss: 1.7512\n",
      "Batch [180/391], Loss: 3.1134\n",
      "Batch [210/391], Loss: 1.4570\n",
      "Batch [240/391], Loss: 2.5482\n",
      "Batch [270/391], Loss: 1.4057\n",
      "Batch [300/391], Loss: 2.8140\n",
      "Batch [330/391], Loss: 2.4516\n",
      "Batch [360/391], Loss: 1.8281\n",
      "Batch [390/391], Loss: 1.7930\n",
      "Train set: Epoch: 22, Average loss:2.0731, LR: 0.100000 Top-1 Accuracy: 0.4702, Top-5 Accuracy: 0.7657, SuperClass Accuracy: 0.6053, Time consumed:303.29s\n"
     ]
    },
    {
     "name": "stderr",
     "output_type": "stream",
     "text": [
      "  7%|▋         | 22/300 [2:01:55<25:38:06, 331.97s/it]"
     ]
    },
    {
     "name": "stdout",
     "output_type": "stream",
     "text": [
      "Test set: Epoch: 22, Average loss:0.0124, Top-1 Accuracy: 0.5539, Top-5 Accuracy: 0.8559, SuperClass Accuracy: 0.7003, Time consumed:28.57s\n",
      "\n",
      "saving weights file to runs\\shake_pyramidnet110_270\\savepoints\\Monday_14_October_2024_18h_56m_23s\\shake_pyramidnet110_270-22-best.pth\n",
      "Batch [30/391], Loss: 0.9341\n",
      "Batch [60/391], Loss: 2.0037\n",
      "Batch [90/391], Loss: 2.8445\n",
      "Batch [120/391], Loss: 1.6991\n",
      "Batch [150/391], Loss: 2.6531\n",
      "Batch [180/391], Loss: 1.6686\n",
      "Batch [210/391], Loss: 1.6924\n",
      "Batch [240/391], Loss: 1.6020\n",
      "Batch [270/391], Loss: 1.6884\n",
      "Batch [300/391], Loss: 2.5930\n",
      "Batch [330/391], Loss: 3.9352\n",
      "Batch [360/391], Loss: 1.5512\n",
      "Batch [390/391], Loss: 1.5904\n",
      "Train set: Epoch: 23, Average loss:2.1494, LR: 0.100000 Top-1 Accuracy: 0.4574, Top-5 Accuracy: 0.7499, SuperClass Accuracy: 0.5905, Time consumed:301.73s\n"
     ]
    },
    {
     "name": "stderr",
     "output_type": "stream",
     "text": [
      "  8%|▊         | 23/300 [2:07:25<25:30:22, 331.49s/it]"
     ]
    },
    {
     "name": "stdout",
     "output_type": "stream",
     "text": [
      "Test set: Epoch: 23, Average loss:0.0131, Top-1 Accuracy: 0.5433, Top-5 Accuracy: 0.8394, SuperClass Accuracy: 0.6799, Time consumed:28.65s\n",
      "\n",
      "EarlyStopping counter: 1 out of 150\n",
      "Batch [30/391], Loss: 1.0347\n",
      "Batch [60/391], Loss: 2.8897\n",
      "Batch [90/391], Loss: 3.1698\n",
      "Batch [120/391], Loss: 1.6974\n",
      "Batch [150/391], Loss: 2.5985\n",
      "Batch [180/391], Loss: 1.3580\n",
      "Batch [210/391], Loss: 2.9601\n",
      "Batch [240/391], Loss: 2.3352\n",
      "Batch [270/391], Loss: 1.6016\n",
      "Batch [300/391], Loss: 1.4675\n",
      "Batch [330/391], Loss: 1.6745\n",
      "Batch [360/391], Loss: 1.5140\n",
      "Batch [390/391], Loss: 1.5512\n",
      "Train set: Epoch: 24, Average loss:2.0105, LR: 0.100000 Top-1 Accuracy: 0.4747, Top-5 Accuracy: 0.7680, SuperClass Accuracy: 0.6077, Time consumed:303.18s\n"
     ]
    },
    {
     "name": "stderr",
     "output_type": "stream",
     "text": [
      "  8%|▊         | 24/300 [2:12:57<25:25:27, 331.62s/it]"
     ]
    },
    {
     "name": "stdout",
     "output_type": "stream",
     "text": [
      "Test set: Epoch: 24, Average loss:0.0143, Top-1 Accuracy: 0.5164, Top-5 Accuracy: 0.8177, SuperClass Accuracy: 0.6616, Time consumed:28.74s\n",
      "\n",
      "EarlyStopping counter: 2 out of 150\n",
      "Batch [30/391], Loss: 1.4206\n",
      "Batch [60/391], Loss: 3.4597\n",
      "Batch [90/391], Loss: 1.3355\n",
      "Batch [120/391], Loss: 0.9748\n",
      "Batch [150/391], Loss: 1.8258\n",
      "Batch [180/391], Loss: 1.5789\n",
      "Batch [210/391], Loss: 1.7937\n",
      "Batch [240/391], Loss: 2.3192\n",
      "Batch [270/391], Loss: 2.1919\n",
      "Batch [300/391], Loss: 1.2679\n",
      "Batch [330/391], Loss: 1.5474\n",
      "Batch [360/391], Loss: 1.8055\n",
      "Batch [390/391], Loss: 1.7420\n",
      "Train set: Epoch: 25, Average loss:1.9931, LR: 0.100000 Top-1 Accuracy: 0.4907, Top-5 Accuracy: 0.7810, SuperClass Accuracy: 0.6221, Time consumed:302.97s\n"
     ]
    },
    {
     "name": "stderr",
     "output_type": "stream",
     "text": [
      "  8%|▊         | 25/300 [2:18:29<25:20:01, 331.64s/it]"
     ]
    },
    {
     "name": "stdout",
     "output_type": "stream",
     "text": [
      "Test set: Epoch: 25, Average loss:0.0152, Top-1 Accuracy: 0.5036, Top-5 Accuracy: 0.8077, SuperClass Accuracy: 0.6377, Time consumed:28.72s\n",
      "\n",
      "EarlyStopping counter: 3 out of 150\n",
      "Batch [30/391], Loss: 2.7382\n",
      "Batch [60/391], Loss: 1.3459\n",
      "Batch [90/391], Loss: 2.5256\n",
      "Batch [120/391], Loss: 2.2252\n",
      "Batch [150/391], Loss: 1.5559\n",
      "Batch [180/391], Loss: 1.5471\n",
      "Batch [210/391], Loss: 1.5527\n",
      "Batch [240/391], Loss: 1.6437\n",
      "Batch [270/391], Loss: 1.5908\n",
      "Batch [300/391], Loss: 1.2326\n",
      "Batch [330/391], Loss: 1.5070\n",
      "Batch [360/391], Loss: 2.3558\n",
      "Batch [390/391], Loss: 1.6031\n",
      "Train set: Epoch: 26, Average loss:2.0017, LR: 0.100000 Top-1 Accuracy: 0.4894, Top-5 Accuracy: 0.7777, SuperClass Accuracy: 0.6217, Time consumed:303.47s\n",
      "Test set: Epoch: 26, Average loss:0.0116, Top-1 Accuracy: 0.5772, Top-5 Accuracy: 0.8741, SuperClass Accuracy: 0.7198, Time consumed:28.63s\n",
      "\n",
      "saving weights file to runs\\shake_pyramidnet110_270\\savepoints\\Monday_14_October_2024_18h_56m_23s\\shake_pyramidnet110_270-26-best.pth\n"
     ]
    },
    {
     "name": "stderr",
     "output_type": "stream",
     "text": [
      "  9%|▊         | 26/300 [2:24:01<25:15:28, 331.86s/it]"
     ]
    },
    {
     "name": "stdout",
     "output_type": "stream",
     "text": [
      "Batch [30/391], Loss: 2.5310\n",
      "Batch [60/391], Loss: 1.5535\n",
      "Batch [90/391], Loss: 1.3967\n",
      "Batch [120/391], Loss: 3.3298\n",
      "Batch [150/391], Loss: 1.4277\n",
      "Batch [180/391], Loss: 1.2580\n",
      "Batch [210/391], Loss: 0.9041\n",
      "Batch [240/391], Loss: 1.6334\n",
      "Batch [270/391], Loss: 1.9737\n",
      "Batch [300/391], Loss: 1.7615\n",
      "Batch [330/391], Loss: 1.3645\n",
      "Batch [360/391], Loss: 2.0923\n",
      "Batch [390/391], Loss: 1.1530\n",
      "Train set: Epoch: 27, Average loss:1.9345, LR: 0.100000 Top-1 Accuracy: 0.4976, Top-5 Accuracy: 0.7875, SuperClass Accuracy: 0.6295, Time consumed:303.07s\n"
     ]
    },
    {
     "name": "stderr",
     "output_type": "stream",
     "text": [
      "  9%|▉         | 27/300 [2:29:33<25:09:51, 331.84s/it]"
     ]
    },
    {
     "name": "stdout",
     "output_type": "stream",
     "text": [
      "Test set: Epoch: 27, Average loss:0.0116, Top-1 Accuracy: 0.5835, Top-5 Accuracy: 0.8740, SuperClass Accuracy: 0.7136, Time consumed:28.58s\n",
      "\n",
      "saving weights file to runs\\shake_pyramidnet110_270\\savepoints\\Monday_14_October_2024_18h_56m_23s\\shake_pyramidnet110_270-27-best.pth\n",
      "EarlyStopping counter: 1 out of 150\n",
      "Batch [30/391], Loss: 1.4681\n",
      "Batch [60/391], Loss: 3.5953\n",
      "Batch [90/391], Loss: 1.6644\n",
      "Batch [120/391], Loss: 1.5766\n",
      "Batch [150/391], Loss: 1.9517\n",
      "Batch [180/391], Loss: 1.3144\n",
      "Batch [210/391], Loss: 1.4530\n",
      "Batch [240/391], Loss: 0.7115\n",
      "Batch [270/391], Loss: 2.4875\n",
      "Batch [300/391], Loss: 1.3560\n",
      "Batch [330/391], Loss: 3.5076\n",
      "Batch [360/391], Loss: 1.7597\n",
      "Batch [390/391], Loss: 1.5088\n",
      "Train set: Epoch: 28, Average loss:1.9694, LR: 0.100000 Top-1 Accuracy: 0.4942, Top-5 Accuracy: 0.7810, SuperClass Accuracy: 0.6218, Time consumed:303.02s\n"
     ]
    },
    {
     "name": "stderr",
     "output_type": "stream",
     "text": [
      "  9%|▉         | 28/300 [2:35:05<25:04:12, 331.81s/it]"
     ]
    },
    {
     "name": "stdout",
     "output_type": "stream",
     "text": [
      "Test set: Epoch: 28, Average loss:0.0125, Top-1 Accuracy: 0.5717, Top-5 Accuracy: 0.8647, SuperClass Accuracy: 0.7037, Time consumed:28.72s\n",
      "\n",
      "EarlyStopping counter: 2 out of 150\n",
      "Batch [30/391], Loss: 2.7860\n",
      "Batch [60/391], Loss: 1.6054\n",
      "Batch [90/391], Loss: 1.5838\n",
      "Batch [120/391], Loss: 1.4052\n",
      "Batch [150/391], Loss: 1.4998\n",
      "Batch [180/391], Loss: 2.7442\n",
      "Batch [210/391], Loss: 2.4050\n",
      "Batch [240/391], Loss: 2.0542\n",
      "Batch [270/391], Loss: 2.4005\n",
      "Batch [300/391], Loss: 2.6306\n",
      "Batch [330/391], Loss: 2.5653\n",
      "Batch [360/391], Loss: 1.4398\n",
      "Batch [390/391], Loss: 1.5936\n",
      "Train set: Epoch: 29, Average loss:2.0035, LR: 0.100000 Top-1 Accuracy: 0.4814, Top-5 Accuracy: 0.7725, SuperClass Accuracy: 0.6140, Time consumed:302.85s\n"
     ]
    },
    {
     "name": "stderr",
     "output_type": "stream",
     "text": [
      " 10%|▉         | 29/300 [2:40:36<24:58:16, 331.72s/it]"
     ]
    },
    {
     "name": "stdout",
     "output_type": "stream",
     "text": [
      "Test set: Epoch: 29, Average loss:0.0121, Top-1 Accuracy: 0.5732, Top-5 Accuracy: 0.8616, SuperClass Accuracy: 0.7081, Time consumed:28.66s\n",
      "\n",
      "EarlyStopping counter: 3 out of 150\n",
      "Batch [30/391], Loss: 0.8034\n",
      "Batch [60/391], Loss: 1.4705\n",
      "Batch [90/391], Loss: 2.6696\n",
      "Batch [120/391], Loss: 2.6773\n",
      "Batch [150/391], Loss: 1.6782\n",
      "Batch [180/391], Loss: 2.4030\n",
      "Batch [210/391], Loss: 1.6289\n",
      "Batch [240/391], Loss: 2.5011\n",
      "Batch [270/391], Loss: 2.7325\n",
      "Batch [300/391], Loss: 2.4095\n",
      "Batch [330/391], Loss: 1.4868\n",
      "Batch [360/391], Loss: 1.7383\n",
      "Batch [390/391], Loss: 2.5222\n",
      "Train set: Epoch: 30, Average loss:1.9101, LR: 0.100000 Top-1 Accuracy: 0.5068, Top-5 Accuracy: 0.7924, SuperClass Accuracy: 0.6387, Time consumed:303.29s\n"
     ]
    },
    {
     "name": "stderr",
     "output_type": "stream",
     "text": [
      " 10%|█         | 30/300 [2:46:08<24:53:11, 331.82s/it]"
     ]
    },
    {
     "name": "stdout",
     "output_type": "stream",
     "text": [
      "Test set: Epoch: 30, Average loss:0.0130, Top-1 Accuracy: 0.5665, Top-5 Accuracy: 0.8603, SuperClass Accuracy: 0.6999, Time consumed:28.76s\n",
      "\n",
      "EarlyStopping counter: 4 out of 150\n",
      "Batch [30/391], Loss: 1.9290\n",
      "Batch [60/391], Loss: 2.5703\n",
      "Batch [90/391], Loss: 1.3037\n",
      "Batch [120/391], Loss: 1.9814\n",
      "Batch [150/391], Loss: 2.6634\n",
      "Batch [180/391], Loss: 2.2332\n",
      "Batch [210/391], Loss: 1.8744\n",
      "Batch [240/391], Loss: 2.3020\n",
      "Batch [270/391], Loss: 1.9574\n",
      "Batch [300/391], Loss: 1.9141\n",
      "Batch [330/391], Loss: 1.9825\n",
      "Batch [360/391], Loss: 1.9014\n",
      "Batch [390/391], Loss: 1.6333\n",
      "Train set: Epoch: 31, Average loss:2.0240, LR: 0.100000 Top-1 Accuracy: 0.4842, Top-5 Accuracy: 0.7748, SuperClass Accuracy: 0.6152, Time consumed:303.15s\n"
     ]
    },
    {
     "name": "stderr",
     "output_type": "stream",
     "text": [
      " 10%|█         | 31/300 [2:51:40<24:47:50, 331.86s/it]"
     ]
    },
    {
     "name": "stdout",
     "output_type": "stream",
     "text": [
      "Test set: Epoch: 31, Average loss:0.0124, Top-1 Accuracy: 0.5688, Top-5 Accuracy: 0.8576, SuperClass Accuracy: 0.7057, Time consumed:28.80s\n",
      "\n",
      "EarlyStopping counter: 5 out of 150\n",
      "Batch [30/391], Loss: 3.8745\n",
      "Batch [60/391], Loss: 1.4385\n",
      "Batch [90/391], Loss: 1.3616\n",
      "Batch [120/391], Loss: 3.1706\n",
      "Batch [150/391], Loss: 1.5585\n",
      "Batch [180/391], Loss: 2.6182\n",
      "Batch [210/391], Loss: 4.8301\n",
      "Batch [240/391], Loss: 1.4633\n",
      "Batch [270/391], Loss: 2.0757\n",
      "Batch [300/391], Loss: 1.6105\n",
      "Batch [330/391], Loss: 2.5385\n",
      "Batch [360/391], Loss: 1.4882\n",
      "Batch [390/391], Loss: 2.2485\n",
      "Train set: Epoch: 32, Average loss:1.9551, LR: 0.100000 Top-1 Accuracy: 0.4982, Top-5 Accuracy: 0.7862, SuperClass Accuracy: 0.6292, Time consumed:303.20s\n"
     ]
    },
    {
     "name": "stderr",
     "output_type": "stream",
     "text": [
      " 11%|█         | 32/300 [2:57:12<24:42:34, 331.92s/it]"
     ]
    },
    {
     "name": "stdout",
     "output_type": "stream",
     "text": [
      "Test set: Epoch: 32, Average loss:0.0117, Top-1 Accuracy: 0.5822, Top-5 Accuracy: 0.8689, SuperClass Accuracy: 0.7168, Time consumed:28.85s\n",
      "\n",
      "EarlyStopping counter: 6 out of 150\n",
      "Batch [30/391], Loss: 2.5949\n",
      "Batch [60/391], Loss: 2.4673\n",
      "Batch [90/391], Loss: 1.4565\n",
      "Batch [120/391], Loss: 2.5843\n",
      "Batch [150/391], Loss: 1.5224\n",
      "Batch [180/391], Loss: 1.2577\n",
      "Batch [210/391], Loss: 2.0490\n",
      "Batch [240/391], Loss: 3.6746\n",
      "Batch [270/391], Loss: 2.8174\n",
      "Batch [300/391], Loss: 1.5312\n",
      "Batch [330/391], Loss: 3.4168\n",
      "Batch [360/391], Loss: 1.2635\n",
      "Batch [390/391], Loss: 3.3748\n",
      "Train set: Epoch: 33, Average loss:1.9288, LR: 0.100000 Top-1 Accuracy: 0.4998, Top-5 Accuracy: 0.7886, SuperClass Accuracy: 0.6334, Time consumed:303.34s\n"
     ]
    },
    {
     "name": "stderr",
     "output_type": "stream",
     "text": [
      " 11%|█         | 33/300 [3:02:44<24:37:34, 332.04s/it]"
     ]
    },
    {
     "name": "stdout",
     "output_type": "stream",
     "text": [
      "Test set: Epoch: 33, Average loss:0.0133, Top-1 Accuracy: 0.5391, Top-5 Accuracy: 0.8373, SuperClass Accuracy: 0.6776, Time consumed:28.97s\n",
      "\n",
      "EarlyStopping counter: 7 out of 150\n",
      "Batch [30/391], Loss: 1.0648\n",
      "Batch [60/391], Loss: 2.4607\n",
      "Batch [90/391], Loss: 1.4580\n",
      "Batch [120/391], Loss: 1.3766\n",
      "Batch [150/391], Loss: 1.7007\n",
      "Batch [180/391], Loss: 1.6123\n",
      "Batch [210/391], Loss: 0.4543\n",
      "Batch [240/391], Loss: 2.9331\n",
      "Batch [270/391], Loss: 2.3412\n",
      "Batch [300/391], Loss: 1.5033\n",
      "Batch [330/391], Loss: 1.0620\n",
      "Batch [360/391], Loss: 1.6348\n",
      "Batch [390/391], Loss: 2.7634\n",
      "Train set: Epoch: 34, Average loss:1.8504, LR: 0.100000 Top-1 Accuracy: 0.5091, Top-5 Accuracy: 0.7952, SuperClass Accuracy: 0.6421, Time consumed:303.15s\n"
     ]
    },
    {
     "name": "stderr",
     "output_type": "stream",
     "text": [
      " 11%|█▏        | 34/300 [3:08:17<24:32:17, 332.10s/it]"
     ]
    },
    {
     "name": "stdout",
     "output_type": "stream",
     "text": [
      "Test set: Epoch: 34, Average loss:0.0117, Top-1 Accuracy: 0.5898, Top-5 Accuracy: 0.8693, SuperClass Accuracy: 0.7231, Time consumed:28.92s\n",
      "\n",
      "saving weights file to runs\\shake_pyramidnet110_270\\savepoints\\Monday_14_October_2024_18h_56m_23s\\shake_pyramidnet110_270-34-best.pth\n",
      "EarlyStopping counter: 8 out of 150\n",
      "Batch [30/391], Loss: 2.7864\n",
      "Batch [60/391], Loss: 0.5978\n",
      "Batch [90/391], Loss: 1.5323\n",
      "Batch [120/391], Loss: 1.1506\n",
      "Batch [150/391], Loss: 1.6996\n",
      "Batch [180/391], Loss: 1.5307\n",
      "Batch [210/391], Loss: 1.3548\n",
      "Batch [240/391], Loss: 3.3254\n",
      "Batch [270/391], Loss: 1.7413\n",
      "Batch [300/391], Loss: 2.5644\n",
      "Batch [330/391], Loss: 1.2356\n",
      "Batch [360/391], Loss: 2.0052\n",
      "Batch [390/391], Loss: 3.8419\n",
      "Train set: Epoch: 35, Average loss:1.9502, LR: 0.100000 Top-1 Accuracy: 0.4984, Top-5 Accuracy: 0.7836, SuperClass Accuracy: 0.6294, Time consumed:302.96s\n"
     ]
    },
    {
     "name": "stderr",
     "output_type": "stream",
     "text": [
      " 12%|█▏        | 35/300 [3:13:48<24:26:19, 332.00s/it]"
     ]
    },
    {
     "name": "stdout",
     "output_type": "stream",
     "text": [
      "Test set: Epoch: 35, Average loss:0.0121, Top-1 Accuracy: 0.5793, Top-5 Accuracy: 0.8570, SuperClass Accuracy: 0.7092, Time consumed:28.81s\n",
      "\n",
      "EarlyStopping counter: 9 out of 150\n",
      "Batch [30/391], Loss: 1.3046\n",
      "Batch [60/391], Loss: 1.2925\n",
      "Batch [90/391], Loss: 1.7274\n",
      "Batch [120/391], Loss: 2.5686\n",
      "Batch [150/391], Loss: 1.1758\n",
      "Batch [180/391], Loss: 1.3241\n",
      "Batch [210/391], Loss: 3.6056\n",
      "Batch [240/391], Loss: 1.4070\n",
      "Batch [270/391], Loss: 1.6539\n",
      "Batch [300/391], Loss: 2.4804\n",
      "Batch [330/391], Loss: 1.3911\n",
      "Batch [360/391], Loss: 1.4441\n",
      "Batch [390/391], Loss: 1.3800\n",
      "Train set: Epoch: 36, Average loss:1.9220, LR: 0.100000 Top-1 Accuracy: 0.5032, Top-5 Accuracy: 0.7875, SuperClass Accuracy: 0.6344, Time consumed:302.97s\n"
     ]
    },
    {
     "name": "stderr",
     "output_type": "stream",
     "text": [
      " 12%|█▏        | 36/300 [3:19:20<24:20:24, 331.91s/it]"
     ]
    },
    {
     "name": "stdout",
     "output_type": "stream",
     "text": [
      "Test set: Epoch: 36, Average loss:0.0116, Top-1 Accuracy: 0.5847, Top-5 Accuracy: 0.8737, SuperClass Accuracy: 0.7226, Time consumed:28.73s\n",
      "\n",
      "EarlyStopping counter: 10 out of 150\n",
      "Batch [30/391], Loss: 3.5486\n",
      "Batch [60/391], Loss: 1.4944\n",
      "Batch [90/391], Loss: 1.1669\n",
      "Batch [120/391], Loss: 1.7896\n",
      "Batch [150/391], Loss: 1.5491\n",
      "Batch [180/391], Loss: 1.7698\n",
      "Batch [210/391], Loss: 2.9953\n",
      "Batch [240/391], Loss: 2.6845\n",
      "Batch [270/391], Loss: 1.2647\n",
      "Batch [300/391], Loss: 1.3868\n",
      "Batch [330/391], Loss: 2.5529\n",
      "Batch [360/391], Loss: 1.7195\n",
      "Batch [390/391], Loss: 3.5025\n",
      "Train set: Epoch: 37, Average loss:1.9603, LR: 0.100000 Top-1 Accuracy: 0.4940, Top-5 Accuracy: 0.7772, SuperClass Accuracy: 0.6241, Time consumed:303.24s\n"
     ]
    },
    {
     "name": "stderr",
     "output_type": "stream",
     "text": [
      " 12%|█▏        | 37/300 [3:24:52<24:15:19, 332.01s/it]"
     ]
    },
    {
     "name": "stdout",
     "output_type": "stream",
     "text": [
      "Test set: Epoch: 37, Average loss:0.0121, Top-1 Accuracy: 0.5661, Top-5 Accuracy: 0.8574, SuperClass Accuracy: 0.7123, Time consumed:29.00s\n",
      "\n",
      "EarlyStopping counter: 11 out of 150\n",
      "Batch [30/391], Loss: 1.5887\n",
      "Batch [60/391], Loss: 1.3637\n",
      "Batch [90/391], Loss: 2.3098\n",
      "Batch [120/391], Loss: 1.0954\n",
      "Batch [150/391], Loss: 2.6581\n",
      "Batch [180/391], Loss: 1.7679\n",
      "Batch [210/391], Loss: 1.2070\n",
      "Batch [240/391], Loss: 1.2496\n",
      "Batch [270/391], Loss: 1.3721\n",
      "Batch [300/391], Loss: 1.2684\n",
      "Batch [330/391], Loss: 1.4003\n",
      "Batch [360/391], Loss: 1.3966\n",
      "Batch [390/391], Loss: 2.2195\n",
      "Train set: Epoch: 38, Average loss:1.8454, LR: 0.100000 Top-1 Accuracy: 0.5218, Top-5 Accuracy: 0.8047, SuperClass Accuracy: 0.6532, Time consumed:303.36s\n"
     ]
    },
    {
     "name": "stderr",
     "output_type": "stream",
     "text": [
      " 13%|█▎        | 38/300 [3:30:25<24:10:18, 332.13s/it]"
     ]
    },
    {
     "name": "stdout",
     "output_type": "stream",
     "text": [
      "Test set: Epoch: 38, Average loss:0.0110, Top-1 Accuracy: 0.6028, Top-5 Accuracy: 0.8771, SuperClass Accuracy: 0.7315, Time consumed:28.90s\n",
      "\n",
      "saving weights file to runs\\shake_pyramidnet110_270\\savepoints\\Monday_14_October_2024_18h_56m_23s\\shake_pyramidnet110_270-38-best.pth\n",
      "Batch [30/391], Loss: 2.5770\n",
      "Batch [60/391], Loss: 1.4464\n",
      "Batch [90/391], Loss: 2.1510\n",
      "Batch [120/391], Loss: 1.4231\n",
      "Batch [150/391], Loss: 1.2129\n",
      "Batch [180/391], Loss: 1.2693\n",
      "Batch [210/391], Loss: 1.3794\n",
      "Batch [240/391], Loss: 2.5826\n",
      "Batch [270/391], Loss: 0.6416\n",
      "Batch [300/391], Loss: 1.4427\n",
      "Batch [330/391], Loss: 5.1810\n",
      "Batch [360/391], Loss: 4.6277\n",
      "Batch [390/391], Loss: 2.1241\n",
      "Train set: Epoch: 39, Average loss:1.9467, LR: 0.100000 Top-1 Accuracy: 0.4968, Top-5 Accuracy: 0.7811, SuperClass Accuracy: 0.6267, Time consumed:302.42s\n"
     ]
    },
    {
     "name": "stderr",
     "output_type": "stream",
     "text": [
      " 13%|█▎        | 39/300 [3:35:56<24:03:29, 331.84s/it]"
     ]
    },
    {
     "name": "stdout",
     "output_type": "stream",
     "text": [
      "Test set: Epoch: 39, Average loss:0.0147, Top-1 Accuracy: 0.5259, Top-5 Accuracy: 0.8126, SuperClass Accuracy: 0.6526, Time consumed:28.73s\n",
      "\n",
      "EarlyStopping counter: 1 out of 150\n",
      "Batch [30/391], Loss: 5.8029\n",
      "Batch [60/391], Loss: 1.4241\n",
      "Batch [90/391], Loss: 2.6761\n",
      "Batch [120/391], Loss: 1.2434\n",
      "Batch [150/391], Loss: 1.5341\n",
      "Batch [180/391], Loss: 2.8258\n",
      "Batch [210/391], Loss: 1.8275\n",
      "Batch [240/391], Loss: 1.6896\n",
      "Batch [270/391], Loss: 1.5596\n",
      "Batch [300/391], Loss: 1.6946\n",
      "Batch [330/391], Loss: 1.4993\n",
      "Batch [360/391], Loss: 4.9747\n",
      "Batch [390/391], Loss: 1.1733\n",
      "Train set: Epoch: 40, Average loss:1.9213, LR: 0.100000 Top-1 Accuracy: 0.5062, Top-5 Accuracy: 0.7875, SuperClass Accuracy: 0.6368, Time consumed:302.68s\n"
     ]
    },
    {
     "name": "stderr",
     "output_type": "stream",
     "text": [
      " 13%|█▎        | 40/300 [3:41:28<23:57:33, 331.74s/it]"
     ]
    },
    {
     "name": "stdout",
     "output_type": "stream",
     "text": [
      "Test set: Epoch: 40, Average loss:0.0123, Top-1 Accuracy: 0.5752, Top-5 Accuracy: 0.8526, SuperClass Accuracy: 0.7068, Time consumed:28.84s\n",
      "\n",
      "EarlyStopping counter: 2 out of 150\n",
      "Batch [30/391], Loss: 1.6933\n",
      "Batch [60/391], Loss: 1.4298\n",
      "Batch [90/391], Loss: 1.6507\n",
      "Batch [120/391], Loss: 2.0895\n",
      "Batch [150/391], Loss: 1.4608\n",
      "Batch [180/391], Loss: 1.4086\n",
      "Batch [210/391], Loss: 1.4286\n",
      "Batch [240/391], Loss: 1.5845\n",
      "Batch [270/391], Loss: 1.2257\n",
      "Batch [300/391], Loss: 5.0865\n",
      "Batch [330/391], Loss: 1.2929\n",
      "Batch [360/391], Loss: 1.6160\n",
      "Batch [390/391], Loss: 2.4993\n",
      "Train set: Epoch: 41, Average loss:1.7855, LR: 0.100000 Top-1 Accuracy: 0.5339, Top-5 Accuracy: 0.8148, SuperClass Accuracy: 0.6645, Time consumed:303.28s\n"
     ]
    },
    {
     "name": "stderr",
     "output_type": "stream",
     "text": [
      " 14%|█▎        | 41/300 [3:47:00<23:52:34, 331.87s/it]"
     ]
    },
    {
     "name": "stdout",
     "output_type": "stream",
     "text": [
      "Test set: Epoch: 41, Average loss:0.0134, Top-1 Accuracy: 0.5424, Top-5 Accuracy: 0.8346, SuperClass Accuracy: 0.6833, Time consumed:28.87s\n",
      "\n",
      "EarlyStopping counter: 3 out of 150\n",
      "Batch [30/391], Loss: 1.6502\n",
      "Batch [60/391], Loss: 1.1758\n",
      "Batch [90/391], Loss: 1.3325\n",
      "Batch [120/391], Loss: 1.3482\n",
      "Batch [150/391], Loss: 1.3861\n",
      "Batch [180/391], Loss: 2.1411\n",
      "Batch [210/391], Loss: 1.8502\n",
      "Batch [240/391], Loss: 2.3804\n",
      "Batch [270/391], Loss: 0.9707\n",
      "Batch [300/391], Loss: 1.9183\n",
      "Batch [330/391], Loss: 1.7251\n",
      "Batch [360/391], Loss: 3.1232\n",
      "Batch [390/391], Loss: 1.3987\n",
      "Train set: Epoch: 42, Average loss:1.8395, LR: 0.100000 Top-1 Accuracy: 0.5226, Top-5 Accuracy: 0.8037, SuperClass Accuracy: 0.6502, Time consumed:305.04s\n"
     ]
    },
    {
     "name": "stderr",
     "output_type": "stream",
     "text": [
      " 14%|█▍        | 42/300 [3:52:33<23:49:24, 332.42s/it]"
     ]
    },
    {
     "name": "stdout",
     "output_type": "stream",
     "text": [
      "Test set: Epoch: 42, Average loss:0.0134, Top-1 Accuracy: 0.5403, Top-5 Accuracy: 0.8371, SuperClass Accuracy: 0.6933, Time consumed:28.66s\n",
      "\n",
      "EarlyStopping counter: 4 out of 150\n",
      "Batch [30/391], Loss: 1.2696\n",
      "Batch [60/391], Loss: 2.6864\n",
      "Batch [90/391], Loss: 3.0531\n",
      "Batch [120/391], Loss: 1.5125\n",
      "Batch [150/391], Loss: 2.8604\n",
      "Batch [180/391], Loss: 1.2356\n",
      "Batch [210/391], Loss: 1.2088\n",
      "Batch [240/391], Loss: 1.4640\n",
      "Batch [270/391], Loss: 1.3060\n",
      "Batch [300/391], Loss: 1.3050\n",
      "Batch [330/391], Loss: 1.2817\n",
      "Batch [360/391], Loss: 0.8427\n",
      "Batch [390/391], Loss: 1.5224\n",
      "Train set: Epoch: 43, Average loss:1.8232, LR: 0.100000 Top-1 Accuracy: 0.5213, Top-5 Accuracy: 0.8071, SuperClass Accuracy: 0.6537, Time consumed:303.05s\n"
     ]
    },
    {
     "name": "stderr",
     "output_type": "stream",
     "text": [
      " 14%|█▍        | 43/300 [3:58:05<23:43:07, 332.25s/it]"
     ]
    },
    {
     "name": "stdout",
     "output_type": "stream",
     "text": [
      "Test set: Epoch: 43, Average loss:0.0124, Top-1 Accuracy: 0.5690, Top-5 Accuracy: 0.8580, SuperClass Accuracy: 0.6978, Time consumed:28.78s\n",
      "\n",
      "EarlyStopping counter: 5 out of 150\n",
      "Batch [30/391], Loss: 2.1723\n",
      "Batch [60/391], Loss: 1.3171\n",
      "Batch [90/391], Loss: 1.3966\n",
      "Batch [120/391], Loss: 1.3233\n",
      "Batch [150/391], Loss: 2.4399\n",
      "Batch [180/391], Loss: 1.4534\n",
      "Batch [210/391], Loss: 1.6287\n",
      "Batch [240/391], Loss: 3.0119\n",
      "Batch [270/391], Loss: 1.3467\n",
      "Batch [300/391], Loss: 1.5100\n",
      "Batch [330/391], Loss: 1.0553\n",
      "Batch [360/391], Loss: 1.4499\n",
      "Batch [390/391], Loss: 2.1201\n",
      "Train set: Epoch: 44, Average loss:1.8954, LR: 0.100000 Top-1 Accuracy: 0.5053, Top-5 Accuracy: 0.7916, SuperClass Accuracy: 0.6358, Time consumed:302.50s\n"
     ]
    },
    {
     "name": "stderr",
     "output_type": "stream",
     "text": [
      " 15%|█▍        | 44/300 [4:03:36<23:36:16, 331.94s/it]"
     ]
    },
    {
     "name": "stdout",
     "output_type": "stream",
     "text": [
      "Test set: Epoch: 44, Average loss:0.0127, Top-1 Accuracy: 0.5553, Top-5 Accuracy: 0.8540, SuperClass Accuracy: 0.7009, Time consumed:28.71s\n",
      "\n",
      "EarlyStopping counter: 6 out of 150\n",
      "Batch [30/391], Loss: 2.9509\n",
      "Batch [60/391], Loss: 1.3231\n",
      "Batch [90/391], Loss: 2.2062\n",
      "Batch [120/391], Loss: 1.3079\n",
      "Batch [150/391], Loss: 1.5157\n",
      "Batch [180/391], Loss: 2.7589\n",
      "Batch [210/391], Loss: 1.5699\n",
      "Batch [240/391], Loss: 1.4537\n",
      "Batch [270/391], Loss: 1.2108\n",
      "Batch [300/391], Loss: 2.3277\n",
      "Batch [330/391], Loss: 1.7294\n",
      "Batch [360/391], Loss: 1.4603\n",
      "Batch [390/391], Loss: 0.7986\n",
      "Train set: Epoch: 45, Average loss:1.8294, LR: 0.100000 Top-1 Accuracy: 0.5200, Top-5 Accuracy: 0.8061, SuperClass Accuracy: 0.6504, Time consumed:302.38s\n"
     ]
    },
    {
     "name": "stderr",
     "output_type": "stream",
     "text": [
      " 15%|█▌        | 45/300 [4:09:08<23:29:47, 331.72s/it]"
     ]
    },
    {
     "name": "stdout",
     "output_type": "stream",
     "text": [
      "Test set: Epoch: 45, Average loss:0.0128, Top-1 Accuracy: 0.5547, Top-5 Accuracy: 0.8355, SuperClass Accuracy: 0.6882, Time consumed:28.81s\n",
      "\n",
      "EarlyStopping counter: 7 out of 150\n",
      "Batch [30/391], Loss: 1.1622\n",
      "Batch [60/391], Loss: 1.1541\n",
      "Batch [90/391], Loss: 0.7896\n",
      "Batch [120/391], Loss: 1.6949\n",
      "Batch [150/391], Loss: 1.5242\n",
      "Batch [180/391], Loss: 1.2979\n",
      "Batch [210/391], Loss: 1.4157\n",
      "Batch [240/391], Loss: 1.3367\n",
      "Batch [270/391], Loss: 1.6657\n",
      "Batch [300/391], Loss: 1.3432\n",
      "Batch [330/391], Loss: 1.4923\n",
      "Batch [360/391], Loss: 5.4852\n",
      "Batch [390/391], Loss: 1.6984\n",
      "Train set: Epoch: 46, Average loss:1.8478, LR: 0.100000 Top-1 Accuracy: 0.5189, Top-5 Accuracy: 0.8008, SuperClass Accuracy: 0.6486, Time consumed:306.60s\n"
     ]
    },
    {
     "name": "stderr",
     "output_type": "stream",
     "text": [
      " 15%|█▌        | 46/300 [4:14:44<23:29:42, 333.00s/it]"
     ]
    },
    {
     "name": "stdout",
     "output_type": "stream",
     "text": [
      "Test set: Epoch: 46, Average loss:0.0161, Top-1 Accuracy: 0.4909, Top-5 Accuracy: 0.7930, SuperClass Accuracy: 0.6371, Time consumed:29.40s\n",
      "\n",
      "EarlyStopping counter: 8 out of 150\n",
      "Batch [30/391], Loss: 1.5112\n",
      "Batch [60/391], Loss: 2.7581\n",
      "Batch [90/391], Loss: 1.1097\n",
      "Batch [120/391], Loss: 1.1071\n",
      "Batch [150/391], Loss: 1.4155\n",
      "Batch [180/391], Loss: 2.0297\n",
      "Batch [210/391], Loss: 1.4055\n",
      "Batch [240/391], Loss: 5.3908\n",
      "Batch [270/391], Loss: 1.4512\n",
      "Batch [300/391], Loss: 1.5724\n",
      "Batch [330/391], Loss: 2.9992\n",
      "Batch [360/391], Loss: 1.9245\n",
      "Batch [390/391], Loss: 1.9556\n",
      "Train set: Epoch: 47, Average loss:1.8271, LR: 0.100000 Top-1 Accuracy: 0.5266, Top-5 Accuracy: 0.8057, SuperClass Accuracy: 0.6555, Time consumed:304.23s\n"
     ]
    },
    {
     "name": "stderr",
     "output_type": "stream",
     "text": [
      " 16%|█▌        | 47/300 [4:20:17<23:24:09, 333.00s/it]"
     ]
    },
    {
     "name": "stdout",
     "output_type": "stream",
     "text": [
      "Test set: Epoch: 47, Average loss:0.0128, Top-1 Accuracy: 0.5567, Top-5 Accuracy: 0.8466, SuperClass Accuracy: 0.6839, Time consumed:28.76s\n",
      "\n",
      "EarlyStopping counter: 9 out of 150\n",
      "Batch [30/391], Loss: 1.1581\n",
      "Batch [60/391], Loss: 1.3806\n",
      "Batch [90/391], Loss: 1.5761\n",
      "Batch [120/391], Loss: 2.9022\n",
      "Batch [150/391], Loss: 7.5122\n",
      "Batch [180/391], Loss: 1.3679\n",
      "Batch [210/391], Loss: 2.0248\n",
      "Batch [240/391], Loss: 2.5908\n",
      "Batch [270/391], Loss: 4.5809\n",
      "Batch [300/391], Loss: 1.6394\n",
      "Batch [330/391], Loss: 2.3180\n",
      "Batch [360/391], Loss: 1.3664\n",
      "Batch [390/391], Loss: 1.9692\n",
      "Train set: Epoch: 48, Average loss:1.9491, LR: 0.100000 Top-1 Accuracy: 0.5098, Top-5 Accuracy: 0.7895, SuperClass Accuracy: 0.6405, Time consumed:302.55s\n"
     ]
    },
    {
     "name": "stderr",
     "output_type": "stream",
     "text": [
      " 16%|█▌        | 48/300 [4:25:48<23:16:25, 332.48s/it]"
     ]
    },
    {
     "name": "stdout",
     "output_type": "stream",
     "text": [
      "Test set: Epoch: 48, Average loss:0.0120, Top-1 Accuracy: 0.5775, Top-5 Accuracy: 0.8584, SuperClass Accuracy: 0.7049, Time consumed:28.70s\n",
      "\n",
      "EarlyStopping counter: 10 out of 150\n",
      "Batch [30/391], Loss: 1.2024\n",
      "Batch [60/391], Loss: 4.9531\n",
      "Batch [90/391], Loss: 1.3096\n",
      "Batch [120/391], Loss: 1.2069\n",
      "Batch [150/391], Loss: 1.4936\n",
      "Batch [180/391], Loss: 1.3797\n",
      "Batch [210/391], Loss: 1.4359\n",
      "Batch [240/391], Loss: 2.5562\n",
      "Batch [270/391], Loss: 1.7979\n",
      "Batch [300/391], Loss: 2.9767\n",
      "Batch [330/391], Loss: 2.5025\n",
      "Batch [360/391], Loss: 1.4122\n",
      "Batch [390/391], Loss: 1.2846\n",
      "Train set: Epoch: 49, Average loss:1.8486, LR: 0.100000 Top-1 Accuracy: 0.5211, Top-5 Accuracy: 0.8042, SuperClass Accuracy: 0.6505, Time consumed:302.45s\n"
     ]
    },
    {
     "name": "stderr",
     "output_type": "stream",
     "text": [
      " 16%|█▋        | 49/300 [4:31:19<23:09:20, 332.11s/it]"
     ]
    },
    {
     "name": "stdout",
     "output_type": "stream",
     "text": [
      "Test set: Epoch: 49, Average loss:0.0107, Top-1 Accuracy: 0.6115, Top-5 Accuracy: 0.8889, SuperClass Accuracy: 0.7491, Time consumed:28.64s\n",
      "\n",
      "saving weights file to runs\\shake_pyramidnet110_270\\savepoints\\Monday_14_October_2024_18h_56m_23s\\shake_pyramidnet110_270-49-best.pth\n",
      "Batch [30/391], Loss: 1.7701\n",
      "Batch [60/391], Loss: 1.0875\n",
      "Batch [90/391], Loss: 1.8260\n",
      "Batch [120/391], Loss: 1.3082\n",
      "Batch [150/391], Loss: 2.8954\n",
      "Batch [180/391], Loss: 1.3956\n",
      "Batch [210/391], Loss: 2.2252\n",
      "Batch [240/391], Loss: 1.2080\n",
      "Batch [270/391], Loss: 2.0181\n",
      "Batch [300/391], Loss: 1.3588\n",
      "Batch [330/391], Loss: 3.2970\n",
      "Batch [360/391], Loss: 1.1950\n",
      "Batch [390/391], Loss: 1.6046\n",
      "Train set: Epoch: 50, Average loss:1.8626, LR: 0.100000 Top-1 Accuracy: 0.5184, Top-5 Accuracy: 0.7995, SuperClass Accuracy: 0.6474, Time consumed:302.36s\n"
     ]
    },
    {
     "name": "stderr",
     "output_type": "stream",
     "text": [
      " 17%|█▋        | 50/300 [4:36:50<23:02:18, 331.75s/it]"
     ]
    },
    {
     "name": "stdout",
     "output_type": "stream",
     "text": [
      "Test set: Epoch: 50, Average loss:0.0123, Top-1 Accuracy: 0.5767, Top-5 Accuracy: 0.8628, SuperClass Accuracy: 0.7219, Time consumed:28.55s\n",
      "\n",
      "EarlyStopping counter: 1 out of 150\n",
      "Batch [30/391], Loss: 0.7906\n",
      "Batch [60/391], Loss: 1.5548\n",
      "Batch [90/391], Loss: 1.5142\n",
      "Batch [120/391], Loss: 1.6169\n",
      "Batch [150/391], Loss: 2.0551\n",
      "Batch [180/391], Loss: 1.6190\n",
      "Batch [210/391], Loss: 1.2132\n",
      "Batch [240/391], Loss: 1.3560\n",
      "Batch [270/391], Loss: 1.7929\n",
      "Batch [300/391], Loss: 1.1049\n",
      "Batch [330/391], Loss: 3.0975\n",
      "Batch [360/391], Loss: 2.0575\n",
      "Batch [390/391], Loss: 2.8104\n",
      "Train set: Epoch: 51, Average loss:1.8165, LR: 0.100000 Top-1 Accuracy: 0.5295, Top-5 Accuracy: 0.8106, SuperClass Accuracy: 0.6578, Time consumed:302.64s\n"
     ]
    },
    {
     "name": "stderr",
     "output_type": "stream",
     "text": [
      " 17%|█▋        | 51/300 [4:42:21<22:56:13, 331.62s/it]"
     ]
    },
    {
     "name": "stdout",
     "output_type": "stream",
     "text": [
      "Test set: Epoch: 51, Average loss:0.0115, Top-1 Accuracy: 0.5963, Top-5 Accuracy: 0.8702, SuperClass Accuracy: 0.7317, Time consumed:28.67s\n",
      "\n",
      "EarlyStopping counter: 2 out of 150\n",
      "Batch [30/391], Loss: 1.2760\n",
      "Batch [60/391], Loss: 1.6198\n",
      "Batch [90/391], Loss: 2.2282\n",
      "Batch [120/391], Loss: 0.8898\n",
      "Batch [150/391], Loss: 1.1014\n",
      "Batch [180/391], Loss: 6.3570\n",
      "Batch [210/391], Loss: 1.4085\n",
      "Batch [240/391], Loss: 1.7100\n",
      "Batch [270/391], Loss: 1.7112\n",
      "Batch [300/391], Loss: 1.3957\n",
      "Batch [330/391], Loss: 1.9788\n",
      "Batch [360/391], Loss: 1.6608\n",
      "Batch [390/391], Loss: 1.1579\n",
      "Train set: Epoch: 52, Average loss:1.8954, LR: 0.100000 Top-1 Accuracy: 0.5135, Top-5 Accuracy: 0.7943, SuperClass Accuracy: 0.6420, Time consumed:302.58s\n"
     ]
    },
    {
     "name": "stderr",
     "output_type": "stream",
     "text": [
      " 17%|█▋        | 52/300 [4:47:53<22:50:07, 331.48s/it]"
     ]
    },
    {
     "name": "stdout",
     "output_type": "stream",
     "text": [
      "Test set: Epoch: 52, Average loss:0.0116, Top-1 Accuracy: 0.5870, Top-5 Accuracy: 0.8727, SuperClass Accuracy: 0.7269, Time consumed:28.57s\n",
      "\n",
      "EarlyStopping counter: 3 out of 150\n",
      "Batch [30/391], Loss: 1.4911\n",
      "Batch [60/391], Loss: 3.2520\n",
      "Batch [90/391], Loss: 1.6081\n",
      "Batch [120/391], Loss: 1.5328\n",
      "Batch [150/391], Loss: 1.2738\n",
      "Batch [180/391], Loss: 1.6393\n",
      "Batch [210/391], Loss: 1.7218\n",
      "Batch [240/391], Loss: 1.8074\n",
      "Batch [270/391], Loss: 1.8182\n",
      "Batch [300/391], Loss: 2.4038\n",
      "Batch [330/391], Loss: 1.2633\n",
      "Batch [360/391], Loss: 2.0370\n",
      "Batch [390/391], Loss: 3.3165\n",
      "Train set: Epoch: 53, Average loss:1.7948, LR: 0.100000 Top-1 Accuracy: 0.5249, Top-5 Accuracy: 0.8080, SuperClass Accuracy: 0.6568, Time consumed:303.63s\n"
     ]
    },
    {
     "name": "stderr",
     "output_type": "stream",
     "text": [
      " 18%|█▊        | 53/300 [4:53:25<22:45:44, 331.76s/it]"
     ]
    },
    {
     "name": "stdout",
     "output_type": "stream",
     "text": [
      "Test set: Epoch: 53, Average loss:0.0124, Top-1 Accuracy: 0.5616, Top-5 Accuracy: 0.8497, SuperClass Accuracy: 0.6989, Time consumed:28.77s\n",
      "\n",
      "EarlyStopping counter: 4 out of 150\n",
      "Batch [30/391], Loss: 1.0185\n",
      "Batch [60/391], Loss: 1.2069\n",
      "Batch [90/391], Loss: 1.2279\n",
      "Batch [120/391], Loss: 1.1056\n",
      "Batch [150/391], Loss: 1.3067\n",
      "Batch [180/391], Loss: 2.3802\n",
      "Batch [210/391], Loss: 1.3198\n",
      "Batch [240/391], Loss: 1.5627\n",
      "Batch [270/391], Loss: 1.1526\n",
      "Batch [300/391], Loss: 2.4719\n",
      "Batch [330/391], Loss: 1.6379\n",
      "Batch [360/391], Loss: 1.1753\n",
      "Batch [390/391], Loss: 1.2239\n",
      "Train set: Epoch: 54, Average loss:1.7415, LR: 0.100000 Top-1 Accuracy: 0.5393, Top-5 Accuracy: 0.8198, SuperClass Accuracy: 0.6695, Time consumed:302.22s\n"
     ]
    },
    {
     "name": "stderr",
     "output_type": "stream",
     "text": [
      " 18%|█▊        | 54/300 [4:58:56<22:39:14, 331.52s/it]"
     ]
    },
    {
     "name": "stdout",
     "output_type": "stream",
     "text": [
      "Test set: Epoch: 54, Average loss:0.0117, Top-1 Accuracy: 0.5936, Top-5 Accuracy: 0.8698, SuperClass Accuracy: 0.7174, Time consumed:28.75s\n",
      "\n",
      "EarlyStopping counter: 5 out of 150\n",
      "Batch [30/391], Loss: 5.0202\n",
      "Batch [60/391], Loss: 1.3477\n",
      "Batch [90/391], Loss: 1.4937\n",
      "Batch [120/391], Loss: 6.1149\n",
      "Batch [150/391], Loss: 0.8845\n",
      "Batch [180/391], Loss: 1.2198\n",
      "Batch [210/391], Loss: 1.2816\n",
      "Batch [240/391], Loss: 2.0060\n",
      "Batch [270/391], Loss: 1.4765\n",
      "Batch [300/391], Loss: 1.3628\n",
      "Batch [330/391], Loss: 1.3768\n",
      "Batch [360/391], Loss: 1.1937\n",
      "Batch [390/391], Loss: 2.3778\n",
      "Train set: Epoch: 55, Average loss:1.9149, LR: 0.100000 Top-1 Accuracy: 0.5088, Top-5 Accuracy: 0.7895, SuperClass Accuracy: 0.6371, Time consumed:303.20s\n"
     ]
    },
    {
     "name": "stderr",
     "output_type": "stream",
     "text": [
      " 18%|█▊        | 55/300 [5:04:28<22:34:18, 331.67s/it]"
     ]
    },
    {
     "name": "stdout",
     "output_type": "stream",
     "text": [
      "Test set: Epoch: 55, Average loss:0.0117, Top-1 Accuracy: 0.5907, Top-5 Accuracy: 0.8747, SuperClass Accuracy: 0.7292, Time consumed:28.80s\n",
      "\n",
      "EarlyStopping counter: 6 out of 150\n",
      "Batch [30/391], Loss: 1.2533\n",
      "Batch [60/391], Loss: 1.2808\n",
      "Batch [90/391], Loss: 1.1916\n",
      "Batch [120/391], Loss: 1.2069\n",
      "Batch [150/391], Loss: 1.3493\n",
      "Batch [180/391], Loss: 2.6012\n",
      "Batch [210/391], Loss: 1.5676\n",
      "Batch [240/391], Loss: 2.6233\n",
      "Batch [270/391], Loss: 1.2418\n",
      "Batch [300/391], Loss: 1.8885\n",
      "Batch [330/391], Loss: 3.3199\n",
      "Batch [360/391], Loss: 2.0293\n",
      "Batch [390/391], Loss: 1.6753\n",
      "Train set: Epoch: 56, Average loss:1.8048, LR: 0.100000 Top-1 Accuracy: 0.5279, Top-5 Accuracy: 0.8067, SuperClass Accuracy: 0.6589, Time consumed:302.84s\n"
     ]
    },
    {
     "name": "stderr",
     "output_type": "stream",
     "text": [
      " 19%|█▊        | 56/300 [5:10:00<22:28:42, 331.65s/it]"
     ]
    },
    {
     "name": "stdout",
     "output_type": "stream",
     "text": [
      "Test set: Epoch: 56, Average loss:0.0120, Top-1 Accuracy: 0.5931, Top-5 Accuracy: 0.8723, SuperClass Accuracy: 0.7371, Time consumed:28.77s\n",
      "\n",
      "EarlyStopping counter: 7 out of 150\n",
      "Batch [30/391], Loss: 1.2111\n",
      "Batch [60/391], Loss: 2.0276\n",
      "Batch [90/391], Loss: 4.6778\n",
      "Batch [120/391], Loss: 1.6648\n",
      "Batch [150/391], Loss: 1.3333\n",
      "Batch [180/391], Loss: 1.6018\n",
      "Batch [210/391], Loss: 2.0428\n",
      "Batch [240/391], Loss: 2.5973\n",
      "Batch [270/391], Loss: 1.3790\n",
      "Batch [300/391], Loss: 1.5943\n",
      "Batch [330/391], Loss: 2.3732\n",
      "Batch [360/391], Loss: 1.0860\n",
      "Batch [390/391], Loss: 1.1643\n",
      "Train set: Epoch: 57, Average loss:1.7615, LR: 0.100000 Top-1 Accuracy: 0.5370, Top-5 Accuracy: 0.8169, SuperClass Accuracy: 0.6670, Time consumed:302.98s\n"
     ]
    },
    {
     "name": "stderr",
     "output_type": "stream",
     "text": [
      " 19%|█▉        | 57/300 [5:15:31<22:23:12, 331.66s/it]"
     ]
    },
    {
     "name": "stdout",
     "output_type": "stream",
     "text": [
      "Test set: Epoch: 57, Average loss:0.0123, Top-1 Accuracy: 0.5776, Top-5 Accuracy: 0.8635, SuperClass Accuracy: 0.7119, Time consumed:28.69s\n",
      "\n",
      "EarlyStopping counter: 8 out of 150\n",
      "Batch [30/391], Loss: 1.2407\n",
      "Batch [60/391], Loss: 2.2932\n",
      "Batch [90/391], Loss: 1.1946\n",
      "Batch [120/391], Loss: 2.2984\n",
      "Batch [150/391], Loss: 0.7207\n",
      "Batch [180/391], Loss: 1.3393\n",
      "Batch [210/391], Loss: 3.2714\n",
      "Batch [240/391], Loss: 1.4694\n",
      "Batch [270/391], Loss: 1.3303\n",
      "Batch [300/391], Loss: 2.0288\n",
      "Batch [330/391], Loss: 1.5288\n",
      "Batch [360/391], Loss: 1.6485\n",
      "Batch [390/391], Loss: 1.4843\n",
      "Train set: Epoch: 58, Average loss:1.8183, LR: 0.100000 Top-1 Accuracy: 0.5235, Top-5 Accuracy: 0.8073, SuperClass Accuracy: 0.6548, Time consumed:303.36s\n"
     ]
    },
    {
     "name": "stderr",
     "output_type": "stream",
     "text": [
      " 19%|█▉        | 58/300 [5:21:03<22:18:16, 331.80s/it]"
     ]
    },
    {
     "name": "stdout",
     "output_type": "stream",
     "text": [
      "Test set: Epoch: 58, Average loss:0.0122, Top-1 Accuracy: 0.5915, Top-5 Accuracy: 0.8679, SuperClass Accuracy: 0.7193, Time consumed:28.78s\n",
      "\n",
      "EarlyStopping counter: 9 out of 150\n",
      "Batch [30/391], Loss: 1.2270\n",
      "Batch [60/391], Loss: 1.7141\n",
      "Batch [90/391], Loss: 1.3976\n",
      "Batch [120/391], Loss: 2.1381\n",
      "Batch [150/391], Loss: 1.4809\n",
      "Batch [180/391], Loss: 3.5597\n",
      "Batch [210/391], Loss: 1.5824\n",
      "Batch [240/391], Loss: 3.3760\n",
      "Batch [270/391], Loss: 1.5411\n",
      "Batch [300/391], Loss: 1.6259\n",
      "Batch [330/391], Loss: 1.3937\n",
      "Batch [360/391], Loss: 2.1801\n",
      "Batch [390/391], Loss: 1.4361\n",
      "Train set: Epoch: 59, Average loss:1.8529, LR: 0.100000 Top-1 Accuracy: 0.5245, Top-5 Accuracy: 0.8058, SuperClass Accuracy: 0.6544, Time consumed:302.22s\n"
     ]
    },
    {
     "name": "stderr",
     "output_type": "stream",
     "text": [
      " 20%|█▉        | 59/300 [5:26:34<22:11:41, 331.54s/it]"
     ]
    },
    {
     "name": "stdout",
     "output_type": "stream",
     "text": [
      "Test set: Epoch: 59, Average loss:0.0116, Top-1 Accuracy: 0.5874, Top-5 Accuracy: 0.8708, SuperClass Accuracy: 0.7271, Time consumed:28.71s\n",
      "\n",
      "EarlyStopping counter: 10 out of 150\n",
      "Batch [30/391], Loss: 1.8750\n",
      "Batch [60/391], Loss: 1.1324\n",
      "Batch [90/391], Loss: 1.3054\n",
      "Batch [120/391], Loss: 1.1671\n",
      "Batch [150/391], Loss: 1.6188\n",
      "Batch [180/391], Loss: 1.4386\n",
      "Batch [210/391], Loss: 2.7165\n",
      "Batch [240/391], Loss: 1.4586\n",
      "Batch [270/391], Loss: 2.1290\n",
      "Batch [300/391], Loss: 2.6742\n",
      "Batch [330/391], Loss: 1.5250\n",
      "Batch [360/391], Loss: 1.3202\n",
      "Batch [390/391], Loss: 2.3110\n",
      "Train set: Epoch: 60, Average loss:1.8163, LR: 0.100000 Top-1 Accuracy: 0.5309, Top-5 Accuracy: 0.8117, SuperClass Accuracy: 0.6608, Time consumed:303.94s\n"
     ]
    },
    {
     "name": "stderr",
     "output_type": "stream",
     "text": [
      " 20%|██        | 60/300 [5:32:07<22:07:29, 331.87s/it]"
     ]
    },
    {
     "name": "stdout",
     "output_type": "stream",
     "text": [
      "Test set: Epoch: 60, Average loss:0.0125, Top-1 Accuracy: 0.5776, Top-5 Accuracy: 0.8479, SuperClass Accuracy: 0.6931, Time consumed:28.69s\n",
      "\n",
      "EarlyStopping counter: 11 out of 150\n",
      "Batch [30/391], Loss: 1.5965\n",
      "Batch [60/391], Loss: 2.6155\n",
      "Batch [90/391], Loss: 1.4833\n",
      "Batch [120/391], Loss: 1.1038\n",
      "Batch [150/391], Loss: 1.1859\n",
      "Batch [180/391], Loss: 1.2436\n",
      "Batch [210/391], Loss: 2.3614\n",
      "Batch [240/391], Loss: 1.2939\n",
      "Batch [270/391], Loss: 1.2259\n",
      "Batch [300/391], Loss: 1.4513\n",
      "Batch [330/391], Loss: 2.6715\n",
      "Batch [360/391], Loss: 1.3947\n",
      "Batch [390/391], Loss: 1.3197\n",
      "Train set: Epoch: 61, Average loss:1.8194, LR: 0.100000 Top-1 Accuracy: 0.5234, Top-5 Accuracy: 0.8053, SuperClass Accuracy: 0.6532, Time consumed:302.71s\n"
     ]
    },
    {
     "name": "stderr",
     "output_type": "stream",
     "text": [
      " 20%|██        | 61/300 [5:37:38<22:01:24, 331.74s/it]"
     ]
    },
    {
     "name": "stdout",
     "output_type": "stream",
     "text": [
      "Test set: Epoch: 61, Average loss:0.0125, Top-1 Accuracy: 0.5644, Top-5 Accuracy: 0.8525, SuperClass Accuracy: 0.7079, Time consumed:28.70s\n",
      "\n",
      "EarlyStopping counter: 12 out of 150\n",
      "Batch [30/391], Loss: 1.2849\n",
      "Batch [60/391], Loss: 1.2395\n",
      "Batch [90/391], Loss: 1.4522\n",
      "Batch [120/391], Loss: 3.0336\n",
      "Batch [150/391], Loss: 2.2883\n",
      "Batch [180/391], Loss: 1.9349\n",
      "Batch [210/391], Loss: 4.2128\n",
      "Batch [240/391], Loss: 1.7770\n",
      "Batch [270/391], Loss: 1.1277\n",
      "Batch [300/391], Loss: 1.2768\n",
      "Batch [330/391], Loss: 1.1339\n",
      "Batch [360/391], Loss: 3.8021\n",
      "Batch [390/391], Loss: 1.7306\n",
      "Train set: Epoch: 62, Average loss:1.7586, LR: 0.100000 Top-1 Accuracy: 0.5359, Top-5 Accuracy: 0.8186, SuperClass Accuracy: 0.6631, Time consumed:297.43s\n"
     ]
    },
    {
     "name": "stderr",
     "output_type": "stream",
     "text": [
      " 21%|██        | 62/300 [5:43:04<21:48:35, 329.90s/it]"
     ]
    },
    {
     "name": "stdout",
     "output_type": "stream",
     "text": [
      "Test set: Epoch: 62, Average loss:0.0113, Top-1 Accuracy: 0.6019, Top-5 Accuracy: 0.8781, SuperClass Accuracy: 0.7293, Time consumed:28.16s\n",
      "\n",
      "EarlyStopping counter: 13 out of 150\n",
      "Batch [30/391], Loss: 1.6500\n",
      "Batch [60/391], Loss: 1.6347\n",
      "Batch [90/391], Loss: 1.4174\n",
      "Batch [120/391], Loss: 1.4874\n",
      "Batch [150/391], Loss: 3.5722\n",
      "Batch [180/391], Loss: 1.9165\n",
      "Batch [210/391], Loss: 1.4170\n",
      "Batch [240/391], Loss: 1.1388\n",
      "Batch [270/391], Loss: 2.3567\n",
      "Batch [300/391], Loss: 1.4075\n",
      "Batch [330/391], Loss: 1.2364\n",
      "Batch [360/391], Loss: 1.5782\n",
      "Batch [390/391], Loss: 2.1074\n",
      "Train set: Epoch: 63, Average loss:1.8000, LR: 0.100000 Top-1 Accuracy: 0.5285, Top-5 Accuracy: 0.8113, SuperClass Accuracy: 0.6590, Time consumed:297.09s\n"
     ]
    },
    {
     "name": "stderr",
     "output_type": "stream",
     "text": [
      " 21%|██        | 63/300 [5:48:29<21:37:30, 328.48s/it]"
     ]
    },
    {
     "name": "stdout",
     "output_type": "stream",
     "text": [
      "Test set: Epoch: 63, Average loss:0.0112, Top-1 Accuracy: 0.5933, Top-5 Accuracy: 0.8771, SuperClass Accuracy: 0.7217, Time consumed:28.08s\n",
      "\n",
      "EarlyStopping counter: 14 out of 150\n",
      "Batch [30/391], Loss: 1.1629\n",
      "Batch [60/391], Loss: 2.4528\n",
      "Batch [90/391], Loss: 1.2526\n",
      "Batch [120/391], Loss: 1.7915\n",
      "Batch [150/391], Loss: 1.1623\n",
      "Batch [180/391], Loss: 1.3201\n",
      "Batch [210/391], Loss: 1.9160\n",
      "Batch [240/391], Loss: 1.3255\n",
      "Batch [270/391], Loss: 2.9142\n",
      "Batch [300/391], Loss: 1.4140\n",
      "Batch [330/391], Loss: 1.4550\n",
      "Batch [360/391], Loss: 1.4409\n",
      "Batch [390/391], Loss: 2.3247\n",
      "Train set: Epoch: 64, Average loss:1.8432, LR: 0.100000 Top-1 Accuracy: 0.5192, Top-5 Accuracy: 0.8026, SuperClass Accuracy: 0.6502, Time consumed:298.58s\n"
     ]
    },
    {
     "name": "stderr",
     "output_type": "stream",
     "text": [
      " 21%|██▏       | 64/300 [5:53:56<21:30:05, 327.99s/it]"
     ]
    },
    {
     "name": "stdout",
     "output_type": "stream",
     "text": [
      "Test set: Epoch: 64, Average loss:0.0116, Top-1 Accuracy: 0.5911, Top-5 Accuracy: 0.8688, SuperClass Accuracy: 0.7174, Time consumed:28.26s\n",
      "\n",
      "EarlyStopping counter: 15 out of 150\n",
      "Batch [30/391], Loss: 1.3882\n",
      "Batch [60/391], Loss: 1.2692\n",
      "Batch [90/391], Loss: 1.4601\n",
      "Batch [120/391], Loss: 2.8631\n",
      "Batch [150/391], Loss: 2.2389\n",
      "Batch [180/391], Loss: 1.3432\n",
      "Batch [210/391], Loss: 1.7671\n",
      "Batch [240/391], Loss: 2.2546\n",
      "Batch [270/391], Loss: 1.6469\n",
      "Batch [300/391], Loss: 1.2451\n",
      "Batch [330/391], Loss: 1.3088\n",
      "Batch [360/391], Loss: 1.9556\n",
      "Batch [390/391], Loss: 2.6790\n",
      "Train set: Epoch: 65, Average loss:1.8897, LR: 0.100000 Top-1 Accuracy: 0.5144, Top-5 Accuracy: 0.7913, SuperClass Accuracy: 0.6445, Time consumed:297.07s\n"
     ]
    },
    {
     "name": "stderr",
     "output_type": "stream",
     "text": [
      " 22%|██▏       | 65/300 [5:59:21<21:21:30, 327.19s/it]"
     ]
    },
    {
     "name": "stdout",
     "output_type": "stream",
     "text": [
      "Test set: Epoch: 65, Average loss:0.0121, Top-1 Accuracy: 0.5794, Top-5 Accuracy: 0.8575, SuperClass Accuracy: 0.7081, Time consumed:28.25s\n",
      "\n",
      "EarlyStopping counter: 16 out of 150\n",
      "Batch [30/391], Loss: 1.0321\n",
      "Batch [60/391], Loss: 0.9875\n",
      "Batch [90/391], Loss: 2.4010\n",
      "Batch [120/391], Loss: 1.9687\n",
      "Batch [150/391], Loss: 0.8510\n",
      "Batch [180/391], Loss: 0.9896\n",
      "Batch [210/391], Loss: 0.8170\n",
      "Batch [240/391], Loss: 0.8545\n",
      "Batch [270/391], Loss: 1.4325\n",
      "Batch [300/391], Loss: 1.5751\n",
      "Batch [330/391], Loss: 3.0725\n",
      "Batch [360/391], Loss: 2.2680\n",
      "Batch [390/391], Loss: 2.2220\n",
      "Train set: Epoch: 66, Average loss:1.4015, LR: 0.020000 Top-1 Accuracy: 0.6240, Top-5 Accuracy: 0.8668, SuperClass Accuracy: 0.7387, Time consumed:297.21s\n"
     ]
    },
    {
     "name": "stderr",
     "output_type": "stream",
     "text": [
      " 22%|██▏       | 66/300 [6:04:47<21:14:00, 326.67s/it]"
     ]
    },
    {
     "name": "stdout",
     "output_type": "stream",
     "text": [
      "Test set: Epoch: 66, Average loss:0.0072, Top-1 Accuracy: 0.7305, Top-5 Accuracy: 0.9401, SuperClass Accuracy: 0.8361, Time consumed:28.08s\n",
      "\n",
      "saving weights file to runs\\shake_pyramidnet110_270\\savepoints\\Monday_14_October_2024_18h_56m_23s\\shake_pyramidnet110_270-66-best.pth\n",
      "Batch [30/391], Loss: 1.9589\n",
      "Batch [60/391], Loss: 1.8981\n",
      "Batch [90/391], Loss: 0.9266\n",
      "Batch [120/391], Loss: 1.8387\n",
      "Batch [150/391], Loss: 1.0679\n",
      "Batch [180/391], Loss: 1.3625\n",
      "Batch [210/391], Loss: 0.7581\n",
      "Batch [240/391], Loss: 1.7564\n",
      "Batch [270/391], Loss: 1.1304\n",
      "Batch [300/391], Loss: 1.4906\n",
      "Batch [330/391], Loss: 2.1843\n",
      "Batch [360/391], Loss: 2.3326\n",
      "Batch [390/391], Loss: 0.8863\n",
      "Train set: Epoch: 67, Average loss:1.2737, LR: 0.020000 Top-1 Accuracy: 0.6594, Top-5 Accuracy: 0.8877, SuperClass Accuracy: 0.7689, Time consumed:296.77s\n"
     ]
    },
    {
     "name": "stderr",
     "output_type": "stream",
     "text": [
      " 22%|██▏       | 67/300 [6:10:12<21:06:41, 326.19s/it]"
     ]
    },
    {
     "name": "stdout",
     "output_type": "stream",
     "text": [
      "Test set: Epoch: 67, Average loss:0.0069, Top-1 Accuracy: 0.7410, Top-5 Accuracy: 0.9438, SuperClass Accuracy: 0.8444, Time consumed:28.13s\n",
      "\n",
      "saving weights file to runs\\shake_pyramidnet110_270\\savepoints\\Monday_14_October_2024_18h_56m_23s\\shake_pyramidnet110_270-67-best.pth\n",
      "Batch [30/391], Loss: 3.3430\n",
      "Batch [60/391], Loss: 0.7913\n",
      "Batch [90/391], Loss: 0.8478\n",
      "Batch [120/391], Loss: 0.6519\n",
      "Batch [150/391], Loss: 1.9006\n",
      "Batch [180/391], Loss: 0.7513\n",
      "Batch [210/391], Loss: 1.2665\n",
      "Batch [240/391], Loss: 0.9339\n",
      "Batch [270/391], Loss: 2.3776\n",
      "Batch [300/391], Loss: 0.6958\n",
      "Batch [330/391], Loss: 0.5937\n",
      "Batch [360/391], Loss: 1.0855\n",
      "Batch [390/391], Loss: 1.8953\n",
      "Train set: Epoch: 68, Average loss:1.2627, LR: 0.020000 Top-1 Accuracy: 0.6664, Top-5 Accuracy: 0.8910, SuperClass Accuracy: 0.7751, Time consumed:296.19s\n"
     ]
    },
    {
     "name": "stderr",
     "output_type": "stream",
     "text": [
      " 23%|██▎       | 68/300 [6:15:37<20:59:46, 325.80s/it]"
     ]
    },
    {
     "name": "stdout",
     "output_type": "stream",
     "text": [
      "Test set: Epoch: 68, Average loss:0.0070, Top-1 Accuracy: 0.7408, Top-5 Accuracy: 0.9456, SuperClass Accuracy: 0.8445, Time consumed:28.71s\n",
      "\n",
      "EarlyStopping counter: 1 out of 150\n",
      "Batch [30/391], Loss: 1.2680\n",
      "Batch [60/391], Loss: 4.4695\n",
      "Batch [90/391], Loss: 1.8286\n",
      "Batch [120/391], Loss: 0.9891\n",
      "Batch [150/391], Loss: 0.7907\n",
      "Batch [180/391], Loss: 1.9376\n",
      "Batch [210/391], Loss: 1.4958\n",
      "Batch [240/391], Loss: 2.1024\n",
      "Batch [270/391], Loss: 0.7606\n",
      "Batch [300/391], Loss: 0.7500\n",
      "Batch [330/391], Loss: 1.0189\n",
      "Batch [360/391], Loss: 0.8999\n",
      "Batch [390/391], Loss: 0.4188\n",
      "Train set: Epoch: 69, Average loss:1.1770, LR: 0.020000 Top-1 Accuracy: 0.6801, Top-5 Accuracy: 0.9009, SuperClass Accuracy: 0.7855, Time consumed:306.70s\n"
     ]
    },
    {
     "name": "stderr",
     "output_type": "stream",
     "text": [
      " 23%|██▎       | 69/300 [6:21:13<21:06:29, 328.96s/it]"
     ]
    },
    {
     "name": "stdout",
     "output_type": "stream",
     "text": [
      "Test set: Epoch: 69, Average loss:0.0068, Top-1 Accuracy: 0.7493, Top-5 Accuracy: 0.9490, SuperClass Accuracy: 0.8508, Time consumed:29.44s\n",
      "\n",
      "saving weights file to runs\\shake_pyramidnet110_270\\savepoints\\Monday_14_October_2024_18h_56m_23s\\shake_pyramidnet110_270-69-best.pth\n",
      "Batch [30/391], Loss: 0.7224\n",
      "Batch [60/391], Loss: 1.8637\n",
      "Batch [90/391], Loss: 0.7705\n",
      "Batch [120/391], Loss: 0.5328\n",
      "Batch [150/391], Loss: 0.4065\n",
      "Batch [180/391], Loss: 0.4692\n",
      "Batch [210/391], Loss: 0.8801\n",
      "Batch [240/391], Loss: 0.9196\n",
      "Batch [270/391], Loss: 0.8451\n",
      "Batch [300/391], Loss: 1.5841\n",
      "Batch [330/391], Loss: 1.3230\n",
      "Batch [360/391], Loss: 0.8790\n",
      "Batch [390/391], Loss: 0.6479\n",
      "Train set: Epoch: 70, Average loss:1.1696, LR: 0.020000 Top-1 Accuracy: 0.6782, Top-5 Accuracy: 0.9026, SuperClass Accuracy: 0.7842, Time consumed:307.25s\n"
     ]
    },
    {
     "name": "stderr",
     "output_type": "stream",
     "text": [
      " 23%|██▎       | 70/300 [6:26:49<21:09:16, 331.12s/it]"
     ]
    },
    {
     "name": "stdout",
     "output_type": "stream",
     "text": [
      "Test set: Epoch: 70, Average loss:0.0066, Top-1 Accuracy: 0.7500, Top-5 Accuracy: 0.9484, SuperClass Accuracy: 0.8533, Time consumed:28.74s\n",
      "\n",
      "saving weights file to runs\\shake_pyramidnet110_270\\savepoints\\Monday_14_October_2024_18h_56m_23s\\shake_pyramidnet110_270-70-best.pth\n",
      "Batch [30/391], Loss: 0.6951\n",
      "Batch [60/391], Loss: 0.8827\n",
      "Batch [90/391], Loss: 2.1167\n",
      "Batch [120/391], Loss: 0.6427\n",
      "Batch [150/391], Loss: 1.3402\n",
      "Batch [180/391], Loss: 0.8725\n",
      "Batch [210/391], Loss: 0.7447\n",
      "Batch [240/391], Loss: 3.4737\n",
      "Batch [270/391], Loss: 0.6577\n",
      "Batch [300/391], Loss: 0.8415\n",
      "Batch [330/391], Loss: 0.7852\n",
      "Batch [360/391], Loss: 0.9575\n",
      "Batch [390/391], Loss: 1.1570\n",
      "Train set: Epoch: 71, Average loss:1.1317, LR: 0.020000 Top-1 Accuracy: 0.6863, Top-5 Accuracy: 0.9043, SuperClass Accuracy: 0.7900, Time consumed:303.53s\n"
     ]
    },
    {
     "name": "stderr",
     "output_type": "stream",
     "text": [
      " 24%|██▎       | 71/300 [6:32:22<21:06:02, 331.71s/it]"
     ]
    },
    {
     "name": "stdout",
     "output_type": "stream",
     "text": [
      "Test set: Epoch: 71, Average loss:0.0065, Top-1 Accuracy: 0.7555, Top-5 Accuracy: 0.9504, SuperClass Accuracy: 0.8588, Time consumed:29.41s\n",
      "\n",
      "saving weights file to runs\\shake_pyramidnet110_270\\savepoints\\Monday_14_October_2024_18h_56m_23s\\shake_pyramidnet110_270-71-best.pth\n",
      "Batch [30/391], Loss: 0.8646\n",
      "Batch [60/391], Loss: 1.3991\n",
      "Batch [90/391], Loss: 0.7927\n",
      "Batch [120/391], Loss: 0.9608\n",
      "Batch [150/391], Loss: 0.6701\n",
      "Batch [180/391], Loss: 2.5109\n",
      "Batch [210/391], Loss: 0.6570\n",
      "Batch [240/391], Loss: 2.1738\n",
      "Batch [270/391], Loss: 0.2581\n",
      "Batch [300/391], Loss: 0.6699\n",
      "Batch [330/391], Loss: 2.4645\n",
      "Batch [360/391], Loss: 0.9700\n",
      "Batch [390/391], Loss: 4.8484\n",
      "Train set: Epoch: 72, Average loss:1.1836, LR: 0.020000 Top-1 Accuracy: 0.6823, Top-5 Accuracy: 0.8974, SuperClass Accuracy: 0.7848, Time consumed:307.94s\n"
     ]
    },
    {
     "name": "stderr",
     "output_type": "stream",
     "text": [
      " 24%|██▍       | 72/300 [6:38:00<21:06:48, 333.37s/it]"
     ]
    },
    {
     "name": "stdout",
     "output_type": "stream",
     "text": [
      "Test set: Epoch: 72, Average loss:0.0068, Top-1 Accuracy: 0.7501, Top-5 Accuracy: 0.9444, SuperClass Accuracy: 0.8471, Time consumed:29.29s\n",
      "\n",
      "EarlyStopping counter: 1 out of 150\n",
      "Batch [30/391], Loss: 0.9595\n",
      "Batch [60/391], Loss: 0.4896\n",
      "Batch [90/391], Loss: 1.7546\n",
      "Batch [120/391], Loss: 0.6693\n",
      "Batch [150/391], Loss: -0.2415\n",
      "Batch [180/391], Loss: 0.6470\n",
      "Batch [210/391], Loss: 0.6313\n",
      "Batch [240/391], Loss: 0.5007\n",
      "Batch [270/391], Loss: 1.2641\n",
      "Batch [300/391], Loss: 0.6619\n",
      "Batch [330/391], Loss: 0.6673\n",
      "Batch [360/391], Loss: 1.9147\n",
      "Batch [390/391], Loss: 1.5042\n",
      "Train set: Epoch: 73, Average loss:1.1882, LR: 0.020000 Top-1 Accuracy: 0.6859, Top-5 Accuracy: 0.9000, SuperClass Accuracy: 0.7862, Time consumed:303.25s\n"
     ]
    },
    {
     "name": "stderr",
     "output_type": "stream",
     "text": [
      " 24%|██▍       | 73/300 [6:43:31<20:59:29, 332.90s/it]"
     ]
    },
    {
     "name": "stdout",
     "output_type": "stream",
     "text": [
      "Test set: Epoch: 73, Average loss:0.0069, Top-1 Accuracy: 0.7494, Top-5 Accuracy: 0.9473, SuperClass Accuracy: 0.8515, Time consumed:28.56s\n",
      "\n",
      "EarlyStopping counter: 2 out of 150\n",
      "Batch [30/391], Loss: 0.7046\n",
      "Batch [60/391], Loss: 0.8309\n",
      "Batch [90/391], Loss: 0.7051\n",
      "Batch [120/391], Loss: 0.7612\n",
      "Batch [150/391], Loss: 1.8017\n",
      "Batch [180/391], Loss: 0.6110\n",
      "Batch [210/391], Loss: 0.6939\n",
      "Batch [240/391], Loss: 0.7913\n",
      "Batch [270/391], Loss: 1.6642\n",
      "Batch [300/391], Loss: 0.7351\n",
      "Batch [330/391], Loss: 0.5865\n",
      "Batch [360/391], Loss: 1.4660\n",
      "Batch [390/391], Loss: 0.6988\n",
      "Train set: Epoch: 74, Average loss:1.1972, LR: 0.020000 Top-1 Accuracy: 0.6922, Top-5 Accuracy: 0.9034, SuperClass Accuracy: 0.7922, Time consumed:302.40s\n"
     ]
    },
    {
     "name": "stderr",
     "output_type": "stream",
     "text": [
      " 25%|██▍       | 74/300 [6:49:02<20:51:54, 332.36s/it]"
     ]
    },
    {
     "name": "stdout",
     "output_type": "stream",
     "text": [
      "Test set: Epoch: 74, Average loss:0.0071, Top-1 Accuracy: 0.7346, Top-5 Accuracy: 0.9389, SuperClass Accuracy: 0.8360, Time consumed:28.70s\n",
      "\n",
      "EarlyStopping counter: 3 out of 150\n",
      "Batch [30/391], Loss: 0.8749\n",
      "Batch [60/391], Loss: 0.7589\n",
      "Batch [90/391], Loss: 0.8028\n",
      "Batch [120/391], Loss: 0.8826\n",
      "Batch [150/391], Loss: 0.6601\n",
      "Batch [180/391], Loss: 1.3887\n",
      "Batch [210/391], Loss: 1.2129\n",
      "Batch [240/391], Loss: 1.5281\n",
      "Batch [270/391], Loss: 0.6489\n",
      "Batch [300/391], Loss: 0.7308\n",
      "Batch [330/391], Loss: 0.7300\n",
      "Batch [360/391], Loss: 2.8113\n",
      "Batch [390/391], Loss: 0.7831\n",
      "Train set: Epoch: 75, Average loss:1.0963, LR: 0.020000 Top-1 Accuracy: 0.6922, Top-5 Accuracy: 0.9077, SuperClass Accuracy: 0.7944, Time consumed:308.15s\n"
     ]
    },
    {
     "name": "stderr",
     "output_type": "stream",
     "text": [
      " 25%|██▌       | 75/300 [6:54:40<20:52:25, 333.98s/it]"
     ]
    },
    {
     "name": "stdout",
     "output_type": "stream",
     "text": [
      "Test set: Epoch: 75, Average loss:0.0068, Top-1 Accuracy: 0.7488, Top-5 Accuracy: 0.9444, SuperClass Accuracy: 0.8435, Time consumed:29.59s\n",
      "\n",
      "EarlyStopping counter: 4 out of 150\n",
      "Batch [30/391], Loss: 0.7050\n",
      "Batch [60/391], Loss: 2.0224\n",
      "Batch [90/391], Loss: 0.6362\n",
      "Batch [120/391], Loss: 0.6756\n",
      "Batch [150/391], Loss: 0.7991\n",
      "Batch [180/391], Loss: 0.6967\n",
      "Batch [210/391], Loss: 0.8174\n",
      "Batch [240/391], Loss: 0.7596\n",
      "Batch [270/391], Loss: 1.1658\n",
      "Batch [300/391], Loss: 1.5341\n",
      "Batch [330/391], Loss: 1.3841\n",
      "Batch [360/391], Loss: 2.8134\n",
      "Batch [390/391], Loss: 1.7913\n",
      "Train set: Epoch: 76, Average loss:1.1364, LR: 0.020000 Top-1 Accuracy: 0.6866, Top-5 Accuracy: 0.9057, SuperClass Accuracy: 0.7878, Time consumed:307.24s\n"
     ]
    },
    {
     "name": "stderr",
     "output_type": "stream",
     "text": [
      " 25%|██▌       | 76/300 [7:00:16<20:49:13, 334.61s/it]"
     ]
    },
    {
     "name": "stdout",
     "output_type": "stream",
     "text": [
      "Test set: Epoch: 76, Average loss:0.0071, Top-1 Accuracy: 0.7385, Top-5 Accuracy: 0.9404, SuperClass Accuracy: 0.8402, Time consumed:28.84s\n",
      "\n",
      "EarlyStopping counter: 5 out of 150\n",
      "Batch [30/391], Loss: 0.4853\n",
      "Batch [60/391], Loss: 0.7573\n",
      "Batch [90/391], Loss: -0.4308\n",
      "Batch [120/391], Loss: 0.7685\n",
      "Batch [150/391], Loss: 0.6206\n",
      "Batch [180/391], Loss: 0.4371\n",
      "Batch [210/391], Loss: 0.8931\n",
      "Batch [240/391], Loss: 1.9907\n",
      "Batch [270/391], Loss: 1.1483\n",
      "Batch [300/391], Loss: 0.9506\n",
      "Batch [330/391], Loss: 0.7003\n",
      "Batch [360/391], Loss: 0.5561\n",
      "Batch [390/391], Loss: 0.9158\n",
      "Train set: Epoch: 77, Average loss:1.0938, LR: 0.020000 Top-1 Accuracy: 0.7023, Top-5 Accuracy: 0.9105, SuperClass Accuracy: 0.8008, Time consumed:300.12s\n"
     ]
    },
    {
     "name": "stderr",
     "output_type": "stream",
     "text": [
      " 26%|██▌       | 77/300 [7:05:45<20:36:30, 332.69s/it]"
     ]
    },
    {
     "name": "stdout",
     "output_type": "stream",
     "text": [
      "Test set: Epoch: 77, Average loss:0.0068, Top-1 Accuracy: 0.7454, Top-5 Accuracy: 0.9444, SuperClass Accuracy: 0.8481, Time consumed:28.08s\n",
      "\n",
      "EarlyStopping counter: 6 out of 150\n",
      "Batch [30/391], Loss: 0.9174\n",
      "Batch [60/391], Loss: 1.1942\n",
      "Batch [90/391], Loss: 0.6094\n",
      "Batch [120/391], Loss: 1.9315\n",
      "Batch [150/391], Loss: 0.9061\n",
      "Batch [180/391], Loss: 2.0639\n",
      "Batch [210/391], Loss: 0.7588\n",
      "Batch [240/391], Loss: 0.6562\n",
      "Batch [270/391], Loss: 0.8720\n",
      "Batch [300/391], Loss: 1.2539\n",
      "Batch [330/391], Loss: 0.6950\n",
      "Batch [360/391], Loss: 0.7589\n",
      "Batch [390/391], Loss: 1.1816\n",
      "Train set: Epoch: 78, Average loss:1.1743, LR: 0.020000 Top-1 Accuracy: 0.6802, Top-5 Accuracy: 0.9013, SuperClass Accuracy: 0.7825, Time consumed:297.18s\n"
     ]
    },
    {
     "name": "stderr",
     "output_type": "stream",
     "text": [
      " 26%|██▌       | 78/300 [7:11:10<20:22:37, 330.44s/it]"
     ]
    },
    {
     "name": "stdout",
     "output_type": "stream",
     "text": [
      "Test set: Epoch: 78, Average loss:0.0070, Top-1 Accuracy: 0.7399, Top-5 Accuracy: 0.9456, SuperClass Accuracy: 0.8496, Time consumed:28.00s\n",
      "\n",
      "EarlyStopping counter: 7 out of 150\n",
      "Batch [30/391], Loss: 0.7926\n",
      "Batch [60/391], Loss: -0.2802\n",
      "Batch [90/391], Loss: 0.6897\n",
      "Batch [120/391], Loss: 0.6690\n",
      "Batch [150/391], Loss: 0.5762\n",
      "Batch [180/391], Loss: 0.7498\n",
      "Batch [210/391], Loss: 2.8566\n",
      "Batch [240/391], Loss: 0.7948\n",
      "Batch [270/391], Loss: 2.1373\n",
      "Batch [300/391], Loss: 0.9075\n",
      "Batch [330/391], Loss: 2.7249\n",
      "Batch [360/391], Loss: 1.3889\n",
      "Batch [390/391], Loss: 1.0190\n",
      "Train set: Epoch: 79, Average loss:1.1460, LR: 0.020000 Top-1 Accuracy: 0.6864, Top-5 Accuracy: 0.9027, SuperClass Accuracy: 0.7865, Time consumed:297.12s\n"
     ]
    },
    {
     "name": "stderr",
     "output_type": "stream",
     "text": [
      " 26%|██▋       | 79/300 [7:16:35<20:11:19, 328.87s/it]"
     ]
    },
    {
     "name": "stdout",
     "output_type": "stream",
     "text": [
      "Test set: Epoch: 79, Average loss:0.0067, Top-1 Accuracy: 0.7542, Top-5 Accuracy: 0.9454, SuperClass Accuracy: 0.8514, Time consumed:28.07s\n",
      "\n",
      "EarlyStopping counter: 8 out of 150\n",
      "Batch [30/391], Loss: 0.1208\n",
      "Batch [60/391], Loss: 0.7106\n",
      "Batch [90/391], Loss: 1.4501\n",
      "Batch [120/391], Loss: -0.1473\n",
      "Batch [150/391], Loss: 1.6269\n",
      "Batch [180/391], Loss: 0.7419\n",
      "Batch [210/391], Loss: 1.1896\n",
      "Batch [240/391], Loss: 0.5925\n",
      "Batch [270/391], Loss: 1.1353\n",
      "Batch [300/391], Loss: 0.1568\n",
      "Batch [330/391], Loss: 0.8831\n",
      "Batch [360/391], Loss: 0.7581\n",
      "Batch [390/391], Loss: 0.8050\n",
      "Train set: Epoch: 80, Average loss:1.0832, LR: 0.020000 Top-1 Accuracy: 0.7058, Top-5 Accuracy: 0.9174, SuperClass Accuracy: 0.8027, Time consumed:297.74s\n"
     ]
    },
    {
     "name": "stderr",
     "output_type": "stream",
     "text": [
      " 27%|██▋       | 80/300 [7:22:01<20:02:34, 327.98s/it]"
     ]
    },
    {
     "name": "stdout",
     "output_type": "stream",
     "text": [
      "Test set: Epoch: 80, Average loss:0.0068, Top-1 Accuracy: 0.7501, Top-5 Accuracy: 0.9461, SuperClass Accuracy: 0.8509, Time consumed:28.15s\n",
      "\n",
      "EarlyStopping counter: 9 out of 150\n",
      "Batch [30/391], Loss: 1.2137\n",
      "Batch [60/391], Loss: 2.3285\n",
      "Batch [90/391], Loss: 0.5568\n",
      "Batch [120/391], Loss: 1.9266\n",
      "Batch [150/391], Loss: 1.5848\n",
      "Batch [180/391], Loss: 2.7886\n",
      "Batch [210/391], Loss: 1.2415\n",
      "Batch [240/391], Loss: 0.7815\n",
      "Batch [270/391], Loss: 1.2474\n",
      "Batch [300/391], Loss: 0.7666\n",
      "Batch [330/391], Loss: 0.9079\n",
      "Batch [360/391], Loss: 0.6808\n",
      "Batch [390/391], Loss: 0.8215\n",
      "Train set: Epoch: 81, Average loss:1.2222, LR: 0.020000 Top-1 Accuracy: 0.6735, Top-5 Accuracy: 0.8958, SuperClass Accuracy: 0.7758, Time consumed:297.56s\n"
     ]
    },
    {
     "name": "stderr",
     "output_type": "stream",
     "text": [
      " 27%|██▋       | 81/300 [7:27:26<19:54:36, 327.29s/it]"
     ]
    },
    {
     "name": "stdout",
     "output_type": "stream",
     "text": [
      "Test set: Epoch: 81, Average loss:0.0069, Top-1 Accuracy: 0.7409, Top-5 Accuracy: 0.9475, SuperClass Accuracy: 0.8500, Time consumed:28.12s\n",
      "\n",
      "EarlyStopping counter: 10 out of 150\n",
      "Batch [30/391], Loss: 1.6161\n",
      "Batch [60/391], Loss: 0.6982\n",
      "Batch [90/391], Loss: 0.7126\n",
      "Batch [120/391], Loss: 1.6312\n",
      "Batch [150/391], Loss: 2.8589\n",
      "Batch [180/391], Loss: 1.6366\n",
      "Batch [210/391], Loss: 0.5995\n",
      "Batch [240/391], Loss: 1.3282\n",
      "Batch [270/391], Loss: 2.9170\n",
      "Batch [300/391], Loss: 0.5008\n",
      "Batch [330/391], Loss: 1.8879\n",
      "Batch [360/391], Loss: 1.7504\n",
      "Batch [390/391], Loss: 2.1350\n",
      "Train set: Epoch: 82, Average loss:1.1147, LR: 0.020000 Top-1 Accuracy: 0.6922, Top-5 Accuracy: 0.9032, SuperClass Accuracy: 0.7916, Time consumed:297.61s\n"
     ]
    },
    {
     "name": "stderr",
     "output_type": "stream",
     "text": [
      " 27%|██▋       | 82/300 [7:32:52<19:47:23, 326.81s/it]"
     ]
    },
    {
     "name": "stdout",
     "output_type": "stream",
     "text": [
      "Test set: Epoch: 82, Average loss:0.0069, Top-1 Accuracy: 0.7476, Top-5 Accuracy: 0.9473, SuperClass Accuracy: 0.8465, Time consumed:28.05s\n",
      "\n",
      "EarlyStopping counter: 11 out of 150\n",
      "Batch [30/391], Loss: 0.8422\n",
      "Batch [60/391], Loss: 1.6282\n",
      "Batch [90/391], Loss: 0.6818\n",
      "Batch [120/391], Loss: 1.3296\n",
      "Batch [150/391], Loss: 0.9676\n",
      "Batch [180/391], Loss: 0.9363\n",
      "Batch [210/391], Loss: 1.2155\n",
      "Batch [240/391], Loss: 2.1096\n",
      "Batch [270/391], Loss: 2.6249\n",
      "Batch [300/391], Loss: 1.0195\n",
      "Batch [330/391], Loss: 0.5873\n",
      "Batch [360/391], Loss: 0.7653\n",
      "Batch [390/391], Loss: 1.2449\n",
      "Train set: Epoch: 83, Average loss:1.2280, LR: 0.020000 Top-1 Accuracy: 0.6736, Top-5 Accuracy: 0.8970, SuperClass Accuracy: 0.7745, Time consumed:297.70s\n"
     ]
    },
    {
     "name": "stderr",
     "output_type": "stream",
     "text": [
      " 28%|██▊       | 83/300 [7:38:18<19:40:44, 326.47s/it]"
     ]
    },
    {
     "name": "stdout",
     "output_type": "stream",
     "text": [
      "Test set: Epoch: 83, Average loss:0.0072, Top-1 Accuracy: 0.7384, Top-5 Accuracy: 0.9398, SuperClass Accuracy: 0.8399, Time consumed:27.99s\n",
      "\n",
      "EarlyStopping counter: 12 out of 150\n",
      "Batch [30/391], Loss: 0.6629\n",
      "Batch [60/391], Loss: 1.0140\n",
      "Batch [90/391], Loss: 0.6363\n",
      "Batch [120/391], Loss: 1.3751\n",
      "Batch [150/391], Loss: 0.6551\n",
      "Batch [180/391], Loss: 0.7754\n",
      "Batch [210/391], Loss: 3.4047\n",
      "Batch [240/391], Loss: 1.2400\n",
      "Batch [270/391], Loss: 1.3022\n",
      "Batch [300/391], Loss: 1.6852\n",
      "Batch [330/391], Loss: 0.5852\n",
      "Batch [360/391], Loss: 0.6247\n",
      "Batch [390/391], Loss: 0.3727\n",
      "Train set: Epoch: 84, Average loss:1.1020, LR: 0.020000 Top-1 Accuracy: 0.6971, Top-5 Accuracy: 0.9084, SuperClass Accuracy: 0.7940, Time consumed:297.83s\n"
     ]
    },
    {
     "name": "stderr",
     "output_type": "stream",
     "text": [
      " 28%|██▊       | 84/300 [7:43:44<19:34:40, 326.30s/it]"
     ]
    },
    {
     "name": "stdout",
     "output_type": "stream",
     "text": [
      "Test set: Epoch: 84, Average loss:0.0070, Top-1 Accuracy: 0.7464, Top-5 Accuracy: 0.9472, SuperClass Accuracy: 0.8460, Time consumed:28.06s\n",
      "\n",
      "EarlyStopping counter: 13 out of 150\n",
      "Batch [30/391], Loss: 0.6409\n",
      "Batch [60/391], Loss: 0.6263\n",
      "Batch [90/391], Loss: 0.9350\n",
      "Batch [120/391], Loss: 1.3450\n",
      "Batch [150/391], Loss: 2.3634\n",
      "Batch [180/391], Loss: 1.7236\n",
      "Batch [210/391], Loss: 0.6622\n",
      "Batch [240/391], Loss: 3.3154\n",
      "Batch [270/391], Loss: 1.8014\n",
      "Batch [300/391], Loss: 0.8586\n",
      "Batch [330/391], Loss: 0.6796\n",
      "Batch [360/391], Loss: 0.8537\n",
      "Batch [390/391], Loss: 1.8462\n",
      "Train set: Epoch: 85, Average loss:1.1313, LR: 0.020000 Top-1 Accuracy: 0.6917, Top-5 Accuracy: 0.9077, SuperClass Accuracy: 0.7909, Time consumed:297.53s\n"
     ]
    },
    {
     "name": "stderr",
     "output_type": "stream",
     "text": [
      " 28%|██▊       | 85/300 [7:49:09<19:28:37, 326.13s/it]"
     ]
    },
    {
     "name": "stdout",
     "output_type": "stream",
     "text": [
      "Test set: Epoch: 85, Average loss:0.0068, Top-1 Accuracy: 0.7508, Top-5 Accuracy: 0.9507, SuperClass Accuracy: 0.8511, Time consumed:28.20s\n",
      "\n",
      "EarlyStopping counter: 14 out of 150\n",
      "Batch [30/391], Loss: 3.3852\n",
      "Batch [60/391], Loss: 0.6866\n",
      "Batch [90/391], Loss: 2.4466\n",
      "Batch [120/391], Loss: 0.4850\n",
      "Batch [150/391], Loss: 0.7541\n",
      "Batch [180/391], Loss: 0.8734\n",
      "Batch [210/391], Loss: 1.9037\n",
      "Batch [240/391], Loss: 0.6406\n",
      "Batch [270/391], Loss: -0.3217\n",
      "Batch [300/391], Loss: 2.0112\n",
      "Batch [330/391], Loss: 1.8424\n",
      "Batch [360/391], Loss: 0.7873\n",
      "Batch [390/391], Loss: 0.8907\n",
      "Train set: Epoch: 86, Average loss:1.1766, LR: 0.020000 Top-1 Accuracy: 0.6776, Top-5 Accuracy: 0.8947, SuperClass Accuracy: 0.7802, Time consumed:297.83s\n"
     ]
    },
    {
     "name": "stderr",
     "output_type": "stream",
     "text": [
      " 29%|██▊       | 86/300 [7:54:35<19:23:01, 326.08s/it]"
     ]
    },
    {
     "name": "stdout",
     "output_type": "stream",
     "text": [
      "Test set: Epoch: 86, Average loss:0.0072, Top-1 Accuracy: 0.7388, Top-5 Accuracy: 0.9402, SuperClass Accuracy: 0.8380, Time consumed:28.14s\n",
      "\n",
      "EarlyStopping counter: 15 out of 150\n",
      "Batch [30/391], Loss: 1.5116\n",
      "Batch [60/391], Loss: 0.6619\n",
      "Batch [90/391], Loss: 0.9333\n",
      "Batch [120/391], Loss: -0.2819\n",
      "Batch [150/391], Loss: 1.9487\n",
      "Batch [180/391], Loss: 0.8508\n",
      "Batch [210/391], Loss: 1.4792\n",
      "Batch [240/391], Loss: 0.7305\n",
      "Batch [270/391], Loss: -0.0557\n",
      "Batch [300/391], Loss: 2.6253\n",
      "Batch [330/391], Loss: 0.8427\n",
      "Batch [360/391], Loss: 1.2907\n",
      "Batch [390/391], Loss: 0.7690\n",
      "Train set: Epoch: 87, Average loss:1.2126, LR: 0.020000 Top-1 Accuracy: 0.6819, Top-5 Accuracy: 0.8972, SuperClass Accuracy: 0.7798, Time consumed:297.81s\n"
     ]
    },
    {
     "name": "stderr",
     "output_type": "stream",
     "text": [
      " 29%|██▉       | 87/300 [8:00:02<19:17:33, 326.07s/it]"
     ]
    },
    {
     "name": "stdout",
     "output_type": "stream",
     "text": [
      "Test set: Epoch: 87, Average loss:0.0070, Top-1 Accuracy: 0.7466, Top-5 Accuracy: 0.9463, SuperClass Accuracy: 0.8453, Time consumed:28.23s\n",
      "\n",
      "EarlyStopping counter: 16 out of 150\n",
      "Batch [30/391], Loss: 1.4175\n",
      "Batch [60/391], Loss: 1.1072\n",
      "Batch [90/391], Loss: 0.7455\n",
      "Batch [120/391], Loss: 0.6710\n",
      "Batch [150/391], Loss: 1.5378\n",
      "Batch [180/391], Loss: 0.6185\n",
      "Batch [210/391], Loss: 0.3796\n",
      "Batch [240/391], Loss: 1.5403\n",
      "Batch [270/391], Loss: 0.5575\n",
      "Batch [300/391], Loss: 0.3133\n",
      "Batch [330/391], Loss: 1.9823\n",
      "Batch [360/391], Loss: 2.0408\n",
      "Batch [390/391], Loss: 0.8135\n",
      "Train set: Epoch: 88, Average loss:0.9270, LR: 0.004000 Top-1 Accuracy: 0.7524, Top-5 Accuracy: 0.9313, SuperClass Accuracy: 0.8364, Time consumed:298.03s\n"
     ]
    },
    {
     "name": "stderr",
     "output_type": "stream",
     "text": [
      " 29%|██▉       | 88/300 [8:05:28<19:12:20, 326.13s/it]"
     ]
    },
    {
     "name": "stdout",
     "output_type": "stream",
     "text": [
      "Test set: Epoch: 88, Average loss:0.0052, Top-1 Accuracy: 0.8057, Top-5 Accuracy: 0.9660, SuperClass Accuracy: 0.8887, Time consumed:28.07s\n",
      "\n",
      "saving weights file to runs\\shake_pyramidnet110_270\\savepoints\\Monday_14_October_2024_18h_56m_23s\\shake_pyramidnet110_270-88-best.pth\n",
      "Batch [30/391], Loss: 1.1759\n",
      "Batch [60/391], Loss: 0.5227\n",
      "Batch [90/391], Loss: 1.2808\n",
      "Batch [120/391], Loss: 1.6612\n",
      "Batch [150/391], Loss: 0.8685\n",
      "Batch [180/391], Loss: 0.5339\n",
      "Batch [210/391], Loss: 0.4095\n",
      "Batch [240/391], Loss: 2.5851\n",
      "Batch [270/391], Loss: 0.6749\n",
      "Batch [300/391], Loss: 1.7257\n",
      "Batch [330/391], Loss: 0.3090\n",
      "Batch [360/391], Loss: 0.5706\n",
      "Batch [390/391], Loss: 2.1026\n",
      "Train set: Epoch: 89, Average loss:0.8201, LR: 0.004000 Top-1 Accuracy: 0.7728, Top-5 Accuracy: 0.9406, SuperClass Accuracy: 0.8534, Time consumed:298.25s\n"
     ]
    },
    {
     "name": "stderr",
     "output_type": "stream",
     "text": [
      " 30%|██▉       | 89/300 [8:10:54<19:07:16, 326.24s/it]"
     ]
    },
    {
     "name": "stdout",
     "output_type": "stream",
     "text": [
      "Test set: Epoch: 89, Average loss:0.0051, Top-1 Accuracy: 0.8101, Top-5 Accuracy: 0.9657, SuperClass Accuracy: 0.8937, Time consumed:28.09s\n",
      "\n",
      "saving weights file to runs\\shake_pyramidnet110_270\\savepoints\\Monday_14_October_2024_18h_56m_23s\\shake_pyramidnet110_270-89-best.pth\n",
      "Batch [30/391], Loss: 1.4946\n",
      "Batch [60/391], Loss: 0.6105\n",
      "Batch [90/391], Loss: 3.0447\n",
      "Batch [120/391], Loss: 0.4841\n",
      "Batch [150/391], Loss: 0.7460\n",
      "Batch [180/391], Loss: 0.2977\n",
      "Batch [210/391], Loss: 0.4522\n",
      "Batch [240/391], Loss: 1.9500\n",
      "Batch [270/391], Loss: 0.1299\n",
      "Batch [300/391], Loss: 0.4186\n",
      "Batch [330/391], Loss: 1.8459\n",
      "Batch [360/391], Loss: 0.5757\n",
      "Batch [390/391], Loss: 0.8579\n",
      "Train set: Epoch: 90, Average loss:0.8785, LR: 0.004000 Top-1 Accuracy: 0.7690, Top-5 Accuracy: 0.9346, SuperClass Accuracy: 0.8496, Time consumed:298.24s\n"
     ]
    },
    {
     "name": "stderr",
     "output_type": "stream",
     "text": [
      " 30%|███       | 90/300 [8:16:21<19:01:56, 326.27s/it]"
     ]
    },
    {
     "name": "stdout",
     "output_type": "stream",
     "text": [
      "Test set: Epoch: 90, Average loss:0.0051, Top-1 Accuracy: 0.8077, Top-5 Accuracy: 0.9658, SuperClass Accuracy: 0.8922, Time consumed:28.09s\n",
      "\n",
      "EarlyStopping counter: 1 out of 150\n",
      "Batch [30/391], Loss: 0.2692\n",
      "Batch [60/391], Loss: 2.5718\n",
      "Batch [90/391], Loss: -0.4972\n",
      "Batch [120/391], Loss: 0.3508\n",
      "Batch [150/391], Loss: 2.1708\n",
      "Batch [180/391], Loss: 1.0751\n",
      "Batch [210/391], Loss: 1.8834\n",
      "Batch [240/391], Loss: 0.4697\n",
      "Batch [270/391], Loss: 1.9688\n",
      "Batch [300/391], Loss: 0.4312\n",
      "Batch [330/391], Loss: 0.4388\n",
      "Batch [360/391], Loss: 3.7075\n",
      "Batch [390/391], Loss: 0.5054\n",
      "Train set: Epoch: 91, Average loss:0.8941, LR: 0.004000 Top-1 Accuracy: 0.7646, Top-5 Accuracy: 0.9291, SuperClass Accuracy: 0.8441, Time consumed:298.03s\n"
     ]
    },
    {
     "name": "stderr",
     "output_type": "stream",
     "text": [
      " 30%|███       | 91/300 [8:21:47<18:56:26, 326.25s/it]"
     ]
    },
    {
     "name": "stdout",
     "output_type": "stream",
     "text": [
      "Test set: Epoch: 91, Average loss:0.0050, Top-1 Accuracy: 0.8117, Top-5 Accuracy: 0.9677, SuperClass Accuracy: 0.8921, Time consumed:28.01s\n",
      "\n",
      "saving weights file to runs\\shake_pyramidnet110_270\\savepoints\\Monday_14_October_2024_18h_56m_23s\\shake_pyramidnet110_270-91-best.pth\n",
      "Batch [30/391], Loss: 0.3293\n",
      "Batch [60/391], Loss: -0.1963\n",
      "Batch [90/391], Loss: 0.3455\n",
      "Batch [120/391], Loss: 0.5433\n",
      "Batch [150/391], Loss: 0.3612\n",
      "Batch [180/391], Loss: 0.3312\n",
      "Batch [210/391], Loss: 0.4247\n",
      "Batch [240/391], Loss: 0.4678\n",
      "Batch [270/391], Loss: 0.6610\n",
      "Batch [300/391], Loss: 0.3483\n",
      "Batch [330/391], Loss: 0.2627\n",
      "Batch [360/391], Loss: 0.4350\n",
      "Batch [390/391], Loss: 0.3875\n",
      "Train set: Epoch: 92, Average loss:0.7263, LR: 0.004000 Top-1 Accuracy: 0.8028, Top-5 Accuracy: 0.9520, SuperClass Accuracy: 0.8743, Time consumed:297.78s\n"
     ]
    },
    {
     "name": "stderr",
     "output_type": "stream",
     "text": [
      " 31%|███       | 92/300 [8:27:13<18:50:39, 326.15s/it]"
     ]
    },
    {
     "name": "stdout",
     "output_type": "stream",
     "text": [
      "Test set: Epoch: 92, Average loss:0.0051, Top-1 Accuracy: 0.8141, Top-5 Accuracy: 0.9680, SuperClass Accuracy: 0.8944, Time consumed:27.98s\n",
      "\n",
      "saving weights file to runs\\shake_pyramidnet110_270\\savepoints\\Monday_14_October_2024_18h_56m_23s\\shake_pyramidnet110_270-92-best.pth\n",
      "EarlyStopping counter: 1 out of 150\n",
      "Batch [30/391], Loss: 0.5684\n",
      "Batch [60/391], Loss: 0.3473\n",
      "Batch [90/391], Loss: -0.1983\n",
      "Batch [120/391], Loss: 0.3653\n",
      "Batch [150/391], Loss: 0.4730\n",
      "Batch [180/391], Loss: -0.0008\n",
      "Batch [210/391], Loss: 1.5455\n",
      "Batch [240/391], Loss: 0.3864\n",
      "Batch [270/391], Loss: 0.3712\n",
      "Batch [300/391], Loss: 0.3905\n",
      "Batch [330/391], Loss: 0.3372\n",
      "Batch [360/391], Loss: 1.0513\n",
      "Batch [390/391], Loss: 1.1547\n",
      "Train set: Epoch: 93, Average loss:0.7720, LR: 0.004000 Top-1 Accuracy: 0.7897, Top-5 Accuracy: 0.9462, SuperClass Accuracy: 0.8658, Time consumed:298.01s\n",
      "Test set: Epoch: 93, Average loss:0.0049, Top-1 Accuracy: 0.8166, Top-5 Accuracy: 0.9688, SuperClass Accuracy: 0.8991, Time consumed:28.15s\n",
      "\n",
      "saving weights file to runs\\shake_pyramidnet110_270\\savepoints\\Monday_14_October_2024_18h_56m_23s\\shake_pyramidnet110_270-93-best.pth\n"
     ]
    },
    {
     "name": "stderr",
     "output_type": "stream",
     "text": [
      " 31%|███       | 93/300 [8:32:39<18:45:24, 326.21s/it]"
     ]
    },
    {
     "name": "stdout",
     "output_type": "stream",
     "text": [
      "Batch [30/391], Loss: -0.0341\n",
      "Batch [60/391], Loss: 0.5119\n",
      "Batch [90/391], Loss: -0.3301\n",
      "Batch [120/391], Loss: 1.2432\n",
      "Batch [150/391], Loss: 0.3713\n",
      "Batch [180/391], Loss: 0.3420\n",
      "Batch [210/391], Loss: 0.5197\n",
      "Batch [240/391], Loss: 0.4487\n",
      "Batch [270/391], Loss: 0.3310\n",
      "Batch [300/391], Loss: 1.2037\n",
      "Batch [330/391], Loss: 0.3084\n",
      "Batch [360/391], Loss: 0.4391\n",
      "Batch [390/391], Loss: 1.8901\n",
      "Train set: Epoch: 94, Average loss:0.6881, LR: 0.004000 Top-1 Accuracy: 0.8062, Top-5 Accuracy: 0.9546, SuperClass Accuracy: 0.8775, Time consumed:298.00s\n"
     ]
    },
    {
     "name": "stderr",
     "output_type": "stream",
     "text": [
      " 31%|███▏      | 94/300 [8:38:05<18:39:53, 326.18s/it]"
     ]
    },
    {
     "name": "stdout",
     "output_type": "stream",
     "text": [
      "Test set: Epoch: 94, Average loss:0.0051, Top-1 Accuracy: 0.8161, Top-5 Accuracy: 0.9669, SuperClass Accuracy: 0.8982, Time consumed:28.12s\n",
      "\n",
      "EarlyStopping counter: 1 out of 150\n",
      "Batch [30/391], Loss: 1.3510\n",
      "Batch [60/391], Loss: 0.0547\n",
      "Batch [90/391], Loss: 2.2801\n",
      "Batch [120/391], Loss: 0.8538\n",
      "Batch [150/391], Loss: 1.1711\n",
      "Batch [180/391], Loss: 0.5777\n",
      "Batch [210/391], Loss: 0.2994\n",
      "Batch [240/391], Loss: 0.4849\n",
      "Batch [270/391], Loss: 0.4166\n",
      "Batch [300/391], Loss: 0.9252\n",
      "Batch [330/391], Loss: 0.2336\n",
      "Batch [360/391], Loss: 3.0548\n",
      "Batch [390/391], Loss: 0.0874\n",
      "Train set: Epoch: 95, Average loss:0.7525, LR: 0.004000 Top-1 Accuracy: 0.7902, Top-5 Accuracy: 0.9436, SuperClass Accuracy: 0.8640, Time consumed:297.67s\n"
     ]
    },
    {
     "name": "stderr",
     "output_type": "stream",
     "text": [
      " 32%|███▏      | 95/300 [8:43:31<18:34:07, 326.09s/it]"
     ]
    },
    {
     "name": "stdout",
     "output_type": "stream",
     "text": [
      "Test set: Epoch: 95, Average loss:0.0050, Top-1 Accuracy: 0.8160, Top-5 Accuracy: 0.9687, SuperClass Accuracy: 0.8966, Time consumed:28.18s\n",
      "\n",
      "EarlyStopping counter: 2 out of 150\n",
      "Batch [30/391], Loss: 1.6164\n",
      "Batch [60/391], Loss: 0.2164\n",
      "Batch [90/391], Loss: 0.4614\n",
      "Batch [120/391], Loss: 1.9523\n",
      "Batch [150/391], Loss: 1.8310\n",
      "Batch [180/391], Loss: 1.7004\n",
      "Batch [210/391], Loss: 1.4469\n",
      "Batch [240/391], Loss: 2.7784\n",
      "Batch [270/391], Loss: 0.4701\n",
      "Batch [300/391], Loss: 0.4651\n",
      "Batch [330/391], Loss: 0.9256\n",
      "Batch [360/391], Loss: 0.3668\n",
      "Batch [390/391], Loss: 0.2659\n",
      "Train set: Epoch: 96, Average loss:0.7308, LR: 0.004000 Top-1 Accuracy: 0.7970, Top-5 Accuracy: 0.9475, SuperClass Accuracy: 0.8694, Time consumed:297.98s\n"
     ]
    },
    {
     "name": "stderr",
     "output_type": "stream",
     "text": [
      " 32%|███▏      | 96/300 [8:48:57<18:28:55, 326.16s/it]"
     ]
    },
    {
     "name": "stdout",
     "output_type": "stream",
     "text": [
      "Test set: Epoch: 96, Average loss:0.0050, Top-1 Accuracy: 0.8190, Top-5 Accuracy: 0.9690, SuperClass Accuracy: 0.8998, Time consumed:28.18s\n",
      "\n",
      "saving weights file to runs\\shake_pyramidnet110_270\\savepoints\\Monday_14_October_2024_18h_56m_23s\\shake_pyramidnet110_270-96-best.pth\n",
      "EarlyStopping counter: 3 out of 150\n",
      "Batch [30/391], Loss: 0.5394\n",
      "Batch [60/391], Loss: 0.2919\n",
      "Batch [90/391], Loss: 1.7055\n",
      "Batch [120/391], Loss: -0.0245\n",
      "Batch [150/391], Loss: 0.3385\n",
      "Batch [180/391], Loss: 0.3477\n",
      "Batch [210/391], Loss: 0.0363\n",
      "Batch [240/391], Loss: 0.8025\n",
      "Batch [270/391], Loss: 0.4720\n",
      "Batch [300/391], Loss: 0.4192\n",
      "Batch [330/391], Loss: 0.2343\n",
      "Batch [360/391], Loss: 0.3579\n",
      "Batch [390/391], Loss: 0.5262\n",
      "Train set: Epoch: 97, Average loss:0.7168, LR: 0.004000 Top-1 Accuracy: 0.8022, Top-5 Accuracy: 0.9469, SuperClass Accuracy: 0.8712, Time consumed:297.99s\n"
     ]
    },
    {
     "name": "stderr",
     "output_type": "stream",
     "text": [
      " 32%|███▏      | 97/300 [8:54:23<18:23:24, 326.13s/it]"
     ]
    },
    {
     "name": "stdout",
     "output_type": "stream",
     "text": [
      "Test set: Epoch: 97, Average loss:0.0048, Top-1 Accuracy: 0.8165, Top-5 Accuracy: 0.9698, SuperClass Accuracy: 0.8978, Time consumed:28.09s\n",
      "\n",
      "Batch [30/391], Loss: -0.5418\n",
      "Batch [60/391], Loss: 1.0984\n",
      "Batch [90/391], Loss: 0.3839\n",
      "Batch [120/391], Loss: 0.4208\n",
      "Batch [150/391], Loss: 0.2648\n",
      "Batch [180/391], Loss: 0.3603\n",
      "Batch [210/391], Loss: 0.4391\n",
      "Batch [240/391], Loss: 0.4957\n",
      "Batch [270/391], Loss: 0.5560\n",
      "Batch [300/391], Loss: 1.7211\n",
      "Batch [330/391], Loss: 1.1086\n",
      "Batch [360/391], Loss: 0.3109\n",
      "Batch [390/391], Loss: 0.3254\n",
      "Train set: Epoch: 98, Average loss:0.7132, LR: 0.004000 Top-1 Accuracy: 0.8072, Top-5 Accuracy: 0.9510, SuperClass Accuracy: 0.8768, Time consumed:297.67s\n"
     ]
    },
    {
     "name": "stderr",
     "output_type": "stream",
     "text": [
      " 33%|███▎      | 98/300 [8:59:49<18:17:43, 326.06s/it]"
     ]
    },
    {
     "name": "stdout",
     "output_type": "stream",
     "text": [
      "Test set: Epoch: 98, Average loss:0.0050, Top-1 Accuracy: 0.8213, Top-5 Accuracy: 0.9669, SuperClass Accuracy: 0.9009, Time consumed:28.05s\n",
      "\n",
      "saving weights file to runs\\shake_pyramidnet110_270\\savepoints\\Monday_14_October_2024_18h_56m_23s\\shake_pyramidnet110_270-98-best.pth\n",
      "EarlyStopping counter: 1 out of 150\n",
      "Batch [30/391], Loss: 0.2465\n",
      "Batch [60/391], Loss: 1.3297\n",
      "Batch [90/391], Loss: 1.8130\n",
      "Batch [120/391], Loss: 0.2630\n",
      "Batch [150/391], Loss: 1.6204\n",
      "Batch [180/391], Loss: 1.3482\n",
      "Batch [210/391], Loss: 0.4935\n",
      "Batch [240/391], Loss: 1.1174\n",
      "Batch [270/391], Loss: -0.7753\n",
      "Batch [300/391], Loss: 0.3478\n",
      "Batch [330/391], Loss: 0.2885\n",
      "Batch [360/391], Loss: 1.8227\n",
      "Batch [390/391], Loss: 0.5068\n",
      "Train set: Epoch: 99, Average loss:0.7240, LR: 0.004000 Top-1 Accuracy: 0.8086, Top-5 Accuracy: 0.9508, SuperClass Accuracy: 0.8767, Time consumed:297.84s\n"
     ]
    },
    {
     "name": "stderr",
     "output_type": "stream",
     "text": [
      " 33%|███▎      | 99/300 [9:05:15<18:12:22, 326.08s/it]"
     ]
    },
    {
     "name": "stdout",
     "output_type": "stream",
     "text": [
      "Test set: Epoch: 99, Average loss:0.0050, Top-1 Accuracy: 0.8180, Top-5 Accuracy: 0.9679, SuperClass Accuracy: 0.8987, Time consumed:28.30s\n",
      "\n",
      "EarlyStopping counter: 2 out of 150\n",
      "Batch [30/391], Loss: 0.5804\n",
      "Batch [60/391], Loss: 0.4591\n",
      "Batch [90/391], Loss: 0.4072\n",
      "Batch [120/391], Loss: 0.5370\n",
      "Batch [150/391], Loss: 0.8531\n",
      "Batch [180/391], Loss: 2.9335\n",
      "Batch [210/391], Loss: 0.6030\n",
      "Batch [240/391], Loss: 0.2135\n",
      "Batch [270/391], Loss: 0.3026\n",
      "Batch [300/391], Loss: 0.3682\n",
      "Batch [330/391], Loss: -0.1087\n",
      "Batch [360/391], Loss: 0.5964\n",
      "Batch [390/391], Loss: 1.1543\n",
      "Train set: Epoch: 100, Average loss:0.6695, LR: 0.004000 Top-1 Accuracy: 0.8112, Top-5 Accuracy: 0.9515, SuperClass Accuracy: 0.8789, Time consumed:297.51s\n"
     ]
    },
    {
     "name": "stderr",
     "output_type": "stream",
     "text": [
      " 33%|███▎      | 100/300 [9:10:41<18:06:32, 325.96s/it]"
     ]
    },
    {
     "name": "stdout",
     "output_type": "stream",
     "text": [
      "Test set: Epoch: 100, Average loss:0.0049, Top-1 Accuracy: 0.8180, Top-5 Accuracy: 0.9685, SuperClass Accuracy: 0.8982, Time consumed:28.16s\n",
      "\n",
      "EarlyStopping counter: 3 out of 150\n",
      "Batch [30/391], Loss: 2.1043\n",
      "Batch [60/391], Loss: 0.2172\n",
      "Batch [90/391], Loss: 0.5818\n",
      "Batch [120/391], Loss: 1.4493\n",
      "Batch [150/391], Loss: 3.5024\n",
      "Batch [180/391], Loss: 0.7443\n",
      "Batch [210/391], Loss: 1.5157\n",
      "Batch [240/391], Loss: 0.5066\n",
      "Batch [270/391], Loss: 2.5768\n",
      "Batch [300/391], Loss: 0.4028\n",
      "Batch [330/391], Loss: 0.3285\n",
      "Batch [360/391], Loss: 1.2690\n",
      "Batch [390/391], Loss: 2.1461\n",
      "Train set: Epoch: 101, Average loss:0.6888, LR: 0.004000 Top-1 Accuracy: 0.8042, Top-5 Accuracy: 0.9496, SuperClass Accuracy: 0.8739, Time consumed:298.13s\n"
     ]
    },
    {
     "name": "stderr",
     "output_type": "stream",
     "text": [
      " 34%|███▎      | 101/300 [9:16:08<18:01:30, 326.08s/it]"
     ]
    },
    {
     "name": "stdout",
     "output_type": "stream",
     "text": [
      "Test set: Epoch: 101, Average loss:0.0050, Top-1 Accuracy: 0.8197, Top-5 Accuracy: 0.9663, SuperClass Accuracy: 0.8990, Time consumed:28.24s\n",
      "\n",
      "EarlyStopping counter: 4 out of 150\n",
      "Batch [30/391], Loss: 0.7684\n",
      "Batch [60/391], Loss: 4.2150\n",
      "Batch [90/391], Loss: 0.3012\n",
      "Batch [120/391], Loss: 0.2928\n",
      "Batch [150/391], Loss: 0.3371\n",
      "Batch [180/391], Loss: 0.8996\n",
      "Batch [210/391], Loss: 0.6848\n",
      "Batch [240/391], Loss: 0.5267\n",
      "Batch [270/391], Loss: 1.3000\n",
      "Batch [300/391], Loss: 0.2234\n",
      "Batch [330/391], Loss: 0.2926\n",
      "Batch [360/391], Loss: 1.7159\n",
      "Batch [390/391], Loss: 1.1374\n",
      "Train set: Epoch: 102, Average loss:0.7093, LR: 0.004000 Top-1 Accuracy: 0.8053, Top-5 Accuracy: 0.9461, SuperClass Accuracy: 0.8726, Time consumed:298.27s\n"
     ]
    },
    {
     "name": "stderr",
     "output_type": "stream",
     "text": [
      " 34%|███▍      | 102/300 [9:21:34<17:56:25, 326.19s/it]"
     ]
    },
    {
     "name": "stdout",
     "output_type": "stream",
     "text": [
      "Test set: Epoch: 102, Average loss:0.0050, Top-1 Accuracy: 0.8145, Top-5 Accuracy: 0.9664, SuperClass Accuracy: 0.8958, Time consumed:28.16s\n",
      "\n",
      "EarlyStopping counter: 5 out of 150\n",
      "Batch [30/391], Loss: 0.2348\n",
      "Batch [60/391], Loss: 0.3178\n",
      "Batch [90/391], Loss: 2.3376\n",
      "Batch [120/391], Loss: 0.1921\n",
      "Batch [150/391], Loss: 0.2349\n",
      "Batch [180/391], Loss: 0.3035\n",
      "Batch [210/391], Loss: 0.3141\n",
      "Batch [240/391], Loss: 0.1975\n",
      "Batch [270/391], Loss: 0.9838\n",
      "Batch [300/391], Loss: 1.5288\n",
      "Batch [330/391], Loss: 0.4058\n",
      "Batch [360/391], Loss: 0.2608\n",
      "Batch [390/391], Loss: 0.2464\n",
      "Train set: Epoch: 103, Average loss:0.6603, LR: 0.004000 Top-1 Accuracy: 0.8053, Top-5 Accuracy: 0.9471, SuperClass Accuracy: 0.8721, Time consumed:297.81s\n"
     ]
    },
    {
     "name": "stderr",
     "output_type": "stream",
     "text": [
      " 34%|███▍      | 103/300 [9:27:00<17:50:43, 326.11s/it]"
     ]
    },
    {
     "name": "stdout",
     "output_type": "stream",
     "text": [
      "Test set: Epoch: 103, Average loss:0.0051, Top-1 Accuracy: 0.8156, Top-5 Accuracy: 0.9670, SuperClass Accuracy: 0.8967, Time consumed:28.10s\n",
      "\n",
      "EarlyStopping counter: 6 out of 150\n",
      "Batch [30/391], Loss: 0.3808\n",
      "Batch [60/391], Loss: 1.5780\n",
      "Batch [90/391], Loss: 1.8764\n",
      "Batch [120/391], Loss: 1.3335\n",
      "Batch [150/391], Loss: 0.7189\n",
      "Batch [180/391], Loss: 0.2998\n",
      "Batch [210/391], Loss: 0.7900\n",
      "Batch [240/391], Loss: 0.2465\n",
      "Batch [270/391], Loss: 0.5206\n",
      "Batch [300/391], Loss: 0.4764\n",
      "Batch [330/391], Loss: 1.4731\n",
      "Batch [360/391], Loss: 0.3556\n",
      "Batch [390/391], Loss: 0.2530\n",
      "Train set: Epoch: 104, Average loss:0.6610, LR: 0.004000 Top-1 Accuracy: 0.8151, Top-5 Accuracy: 0.9526, SuperClass Accuracy: 0.8806, Time consumed:297.84s\n"
     ]
    },
    {
     "name": "stderr",
     "output_type": "stream",
     "text": [
      " 35%|███▍      | 104/300 [9:32:26<17:45:07, 326.06s/it]"
     ]
    },
    {
     "name": "stdout",
     "output_type": "stream",
     "text": [
      "Test set: Epoch: 104, Average loss:0.0049, Top-1 Accuracy: 0.8207, Top-5 Accuracy: 0.9686, SuperClass Accuracy: 0.9004, Time consumed:28.09s\n",
      "\n",
      "EarlyStopping counter: 7 out of 150\n",
      "Batch [30/391], Loss: 0.2380\n",
      "Batch [60/391], Loss: 0.2669\n",
      "Batch [90/391], Loss: 1.0404\n",
      "Batch [120/391], Loss: 0.2246\n",
      "Batch [150/391], Loss: 0.6404\n",
      "Batch [180/391], Loss: 0.2031\n",
      "Batch [210/391], Loss: 0.3244\n",
      "Batch [240/391], Loss: -0.2569\n",
      "Batch [270/391], Loss: 1.5541\n",
      "Batch [300/391], Loss: 0.2534\n",
      "Batch [330/391], Loss: 0.3352\n",
      "Batch [360/391], Loss: 0.2708\n",
      "Batch [390/391], Loss: 0.3798\n",
      "Train set: Epoch: 105, Average loss:0.6867, LR: 0.004000 Top-1 Accuracy: 0.8180, Top-5 Accuracy: 0.9545, SuperClass Accuracy: 0.8835, Time consumed:298.49s\n"
     ]
    },
    {
     "name": "stderr",
     "output_type": "stream",
     "text": [
      " 35%|███▌      | 105/300 [9:37:53<17:40:27, 326.30s/it]"
     ]
    },
    {
     "name": "stdout",
     "output_type": "stream",
     "text": [
      "Test set: Epoch: 105, Average loss:0.0049, Top-1 Accuracy: 0.8220, Top-5 Accuracy: 0.9689, SuperClass Accuracy: 0.9021, Time consumed:28.22s\n",
      "\n",
      "saving weights file to runs\\shake_pyramidnet110_270\\savepoints\\Monday_14_October_2024_18h_56m_23s\\shake_pyramidnet110_270-105-best.pth\n",
      "EarlyStopping counter: 8 out of 150\n",
      "Batch [30/391], Loss: 2.9451\n",
      "Batch [60/391], Loss: 1.4993\n",
      "Batch [90/391], Loss: 0.2873\n",
      "Batch [120/391], Loss: 0.4339\n",
      "Batch [150/391], Loss: 0.9941\n",
      "Batch [180/391], Loss: 1.1455\n",
      "Batch [210/391], Loss: 0.4683\n",
      "Batch [240/391], Loss: 0.2418\n",
      "Batch [270/391], Loss: 2.0607\n",
      "Batch [300/391], Loss: 1.5163\n",
      "Batch [330/391], Loss: 1.9272\n",
      "Batch [360/391], Loss: 0.3027\n",
      "Batch [390/391], Loss: 0.2979\n",
      "Train set: Epoch: 106, Average loss:0.6628, LR: 0.004000 Top-1 Accuracy: 0.8213, Top-5 Accuracy: 0.9553, SuperClass Accuracy: 0.8862, Time consumed:298.16s\n"
     ]
    },
    {
     "name": "stderr",
     "output_type": "stream",
     "text": [
      " 35%|███▌      | 106/300 [9:43:19<17:35:02, 326.30s/it]"
     ]
    },
    {
     "name": "stdout",
     "output_type": "stream",
     "text": [
      "Test set: Epoch: 106, Average loss:0.0050, Top-1 Accuracy: 0.8184, Top-5 Accuracy: 0.9688, SuperClass Accuracy: 0.8975, Time consumed:28.15s\n",
      "\n",
      "EarlyStopping counter: 9 out of 150\n",
      "Batch [30/391], Loss: 0.2781\n",
      "Batch [60/391], Loss: 2.2568\n",
      "Batch [90/391], Loss: -0.4387\n",
      "Batch [120/391], Loss: 0.3145\n",
      "Batch [150/391], Loss: 0.2630\n",
      "Batch [180/391], Loss: 0.2379\n",
      "Batch [210/391], Loss: 2.7850\n",
      "Batch [240/391], Loss: 0.1215\n",
      "Batch [270/391], Loss: 0.4543\n",
      "Batch [300/391], Loss: 0.3309\n",
      "Batch [330/391], Loss: 0.1804\n",
      "Batch [360/391], Loss: 0.3433\n",
      "Batch [390/391], Loss: 1.0000\n",
      "Train set: Epoch: 107, Average loss:0.6715, LR: 0.004000 Top-1 Accuracy: 0.8153, Top-5 Accuracy: 0.9548, SuperClass Accuracy: 0.8813, Time consumed:298.15s\n"
     ]
    },
    {
     "name": "stderr",
     "output_type": "stream",
     "text": [
      " 36%|███▌      | 107/300 [9:48:45<17:29:35, 326.30s/it]"
     ]
    },
    {
     "name": "stdout",
     "output_type": "stream",
     "text": [
      "Test set: Epoch: 107, Average loss:0.0051, Top-1 Accuracy: 0.8189, Top-5 Accuracy: 0.9671, SuperClass Accuracy: 0.9003, Time consumed:28.13s\n",
      "\n",
      "EarlyStopping counter: 10 out of 150\n",
      "Batch [30/391], Loss: 0.1821\n",
      "Batch [60/391], Loss: 1.8420\n",
      "Batch [90/391], Loss: 0.3423\n",
      "Batch [120/391], Loss: 0.2725\n",
      "Batch [150/391], Loss: 0.1618\n",
      "Batch [180/391], Loss: 1.9953\n",
      "Batch [210/391], Loss: 1.6865\n",
      "Batch [240/391], Loss: -0.6140\n",
      "Batch [270/391], Loss: 1.3293\n",
      "Batch [300/391], Loss: 1.2853\n",
      "Batch [330/391], Loss: 0.1492\n",
      "Batch [360/391], Loss: 0.3623\n",
      "Batch [390/391], Loss: 0.3570\n",
      "Train set: Epoch: 108, Average loss:0.6519, LR: 0.004000 Top-1 Accuracy: 0.8210, Top-5 Accuracy: 0.9575, SuperClass Accuracy: 0.8839, Time consumed:298.40s\n"
     ]
    },
    {
     "name": "stderr",
     "output_type": "stream",
     "text": [
      " 36%|███▌      | 108/300 [9:54:12<17:24:25, 326.38s/it]"
     ]
    },
    {
     "name": "stdout",
     "output_type": "stream",
     "text": [
      "Test set: Epoch: 108, Average loss:0.0051, Top-1 Accuracy: 0.8184, Top-5 Accuracy: 0.9661, SuperClass Accuracy: 0.8994, Time consumed:28.18s\n",
      "\n",
      "EarlyStopping counter: 11 out of 150\n",
      "Batch [30/391], Loss: 0.3060\n",
      "Batch [60/391], Loss: 0.3342\n",
      "Batch [90/391], Loss: -0.1512\n",
      "Batch [120/391], Loss: 0.4384\n",
      "Batch [150/391], Loss: 1.3866\n",
      "Batch [180/391], Loss: -0.9590\n",
      "Batch [210/391], Loss: 0.2726\n",
      "Batch [240/391], Loss: -0.2525\n",
      "Batch [270/391], Loss: 0.5581\n",
      "Batch [300/391], Loss: -0.6250\n",
      "Batch [330/391], Loss: 0.5295\n",
      "Batch [360/391], Loss: 0.6205\n",
      "Batch [390/391], Loss: 1.7718\n",
      "Train set: Epoch: 109, Average loss:0.6954, LR: 0.004000 Top-1 Accuracy: 0.8095, Top-5 Accuracy: 0.9503, SuperClass Accuracy: 0.8753, Time consumed:298.18s\n"
     ]
    },
    {
     "name": "stderr",
     "output_type": "stream",
     "text": [
      " 36%|███▋      | 109/300 [9:59:38<17:18:48, 326.33s/it]"
     ]
    },
    {
     "name": "stdout",
     "output_type": "stream",
     "text": [
      "Test set: Epoch: 109, Average loss:0.0050, Top-1 Accuracy: 0.8178, Top-5 Accuracy: 0.9657, SuperClass Accuracy: 0.8982, Time consumed:28.02s\n",
      "\n",
      "EarlyStopping counter: 12 out of 150\n",
      "Batch [30/391], Loss: 0.3508\n",
      "Batch [60/391], Loss: 0.1540\n",
      "Batch [90/391], Loss: 0.3408\n",
      "Batch [120/391], Loss: 1.0965\n",
      "Batch [150/391], Loss: 0.1698\n",
      "Batch [180/391], Loss: 0.2917\n",
      "Batch [210/391], Loss: 1.2071\n",
      "Batch [240/391], Loss: 0.1922\n",
      "Batch [270/391], Loss: 0.3220\n",
      "Batch [300/391], Loss: 1.7738\n",
      "Batch [330/391], Loss: -0.2682\n",
      "Batch [360/391], Loss: 1.4377\n",
      "Batch [390/391], Loss: 0.9596\n",
      "Train set: Epoch: 110, Average loss:0.5994, LR: 0.004000 Top-1 Accuracy: 0.8359, Top-5 Accuracy: 0.9607, SuperClass Accuracy: 0.8959, Time consumed:298.17s\n"
     ]
    },
    {
     "name": "stderr",
     "output_type": "stream",
     "text": [
      " 37%|███▋      | 110/300 [10:05:04<17:13:26, 326.35s/it]"
     ]
    },
    {
     "name": "stdout",
     "output_type": "stream",
     "text": [
      "Test set: Epoch: 110, Average loss:0.0051, Top-1 Accuracy: 0.8157, Top-5 Accuracy: 0.9662, SuperClass Accuracy: 0.8979, Time consumed:28.22s\n",
      "\n",
      "EarlyStopping counter: 13 out of 150\n",
      "Batch [30/391], Loss: 2.7380\n",
      "Batch [60/391], Loss: -0.1576\n",
      "Batch [90/391], Loss: 0.0067\n",
      "Batch [120/391], Loss: 0.4858\n",
      "Batch [150/391], Loss: 0.5117\n",
      "Batch [180/391], Loss: 0.1548\n",
      "Batch [210/391], Loss: 0.8416\n",
      "Batch [240/391], Loss: 4.5823\n",
      "Batch [270/391], Loss: 1.6343\n",
      "Batch [300/391], Loss: 2.0381\n",
      "Batch [330/391], Loss: 0.5332\n",
      "Batch [360/391], Loss: -0.5464\n",
      "Batch [390/391], Loss: 0.2445\n",
      "Train set: Epoch: 111, Average loss:0.7191, LR: 0.004000 Top-1 Accuracy: 0.7960, Top-5 Accuracy: 0.9411, SuperClass Accuracy: 0.8637, Time consumed:298.05s\n"
     ]
    },
    {
     "name": "stderr",
     "output_type": "stream",
     "text": [
      " 37%|███▋      | 111/300 [10:10:31<17:07:52, 326.31s/it]"
     ]
    },
    {
     "name": "stdout",
     "output_type": "stream",
     "text": [
      "Test set: Epoch: 111, Average loss:0.0050, Top-1 Accuracy: 0.8177, Top-5 Accuracy: 0.9677, SuperClass Accuracy: 0.8978, Time consumed:28.17s\n",
      "\n",
      "EarlyStopping counter: 14 out of 150\n",
      "Batch [30/391], Loss: 0.2852\n",
      "Batch [60/391], Loss: 0.3865\n",
      "Batch [90/391], Loss: 0.3656\n",
      "Batch [120/391], Loss: 0.3036\n",
      "Batch [150/391], Loss: 0.2001\n",
      "Batch [180/391], Loss: 0.1654\n",
      "Batch [210/391], Loss: 1.2277\n",
      "Batch [240/391], Loss: 0.2784\n",
      "Batch [270/391], Loss: 0.2507\n",
      "Batch [300/391], Loss: 0.2420\n",
      "Batch [330/391], Loss: 0.1694\n",
      "Batch [360/391], Loss: 0.2758\n",
      "Batch [390/391], Loss: 0.4716\n",
      "Train set: Epoch: 112, Average loss:0.6479, LR: 0.004000 Top-1 Accuracy: 0.8155, Top-5 Accuracy: 0.9496, SuperClass Accuracy: 0.8790, Time consumed:298.05s\n"
     ]
    },
    {
     "name": "stderr",
     "output_type": "stream",
     "text": [
      " 37%|███▋      | 112/300 [10:15:57<17:02:28, 326.32s/it]"
     ]
    },
    {
     "name": "stdout",
     "output_type": "stream",
     "text": [
      "Test set: Epoch: 112, Average loss:0.0051, Top-1 Accuracy: 0.8131, Top-5 Accuracy: 0.9661, SuperClass Accuracy: 0.8945, Time consumed:28.29s\n",
      "\n",
      "EarlyStopping counter: 15 out of 150\n",
      "Batch [30/391], Loss: 1.2604\n",
      "Batch [60/391], Loss: 1.2967\n",
      "Batch [90/391], Loss: 1.1612\n",
      "Batch [120/391], Loss: 0.6671\n",
      "Batch [150/391], Loss: 0.1691\n",
      "Batch [180/391], Loss: 0.3399\n",
      "Batch [210/391], Loss: 1.5331\n",
      "Batch [240/391], Loss: -0.3117\n",
      "Batch [270/391], Loss: 0.6752\n",
      "Batch [300/391], Loss: 0.3447\n",
      "Batch [330/391], Loss: 1.5611\n",
      "Batch [360/391], Loss: 1.8719\n",
      "Batch [390/391], Loss: 0.4409\n",
      "Train set: Epoch: 113, Average loss:0.7263, LR: 0.004000 Top-1 Accuracy: 0.8026, Top-5 Accuracy: 0.9411, SuperClass Accuracy: 0.8692, Time consumed:297.95s\n"
     ]
    },
    {
     "name": "stderr",
     "output_type": "stream",
     "text": [
      " 38%|███▊      | 113/300 [10:21:23<16:56:46, 326.24s/it]"
     ]
    },
    {
     "name": "stdout",
     "output_type": "stream",
     "text": [
      "Test set: Epoch: 113, Average loss:0.0051, Top-1 Accuracy: 0.8163, Top-5 Accuracy: 0.9676, SuperClass Accuracy: 0.8990, Time consumed:28.09s\n",
      "\n",
      "EarlyStopping counter: 16 out of 150\n",
      "Batch [30/391], Loss: 1.0355\n",
      "Batch [60/391], Loss: 0.2764\n",
      "Batch [90/391], Loss: 2.8601\n",
      "Batch [120/391], Loss: 0.2470\n",
      "Batch [150/391], Loss: 0.1685\n",
      "Batch [180/391], Loss: 0.7044\n",
      "Batch [210/391], Loss: 0.7586\n",
      "Batch [240/391], Loss: -0.0997\n",
      "Batch [270/391], Loss: 0.2213\n",
      "Batch [300/391], Loss: 0.2262\n",
      "Batch [330/391], Loss: 0.9064\n",
      "Batch [360/391], Loss: 1.4572\n",
      "Batch [390/391], Loss: 0.4119\n",
      "Train set: Epoch: 114, Average loss:0.6144, LR: 0.000800 Top-1 Accuracy: 0.8407, Top-5 Accuracy: 0.9596, SuperClass Accuracy: 0.8956, Time consumed:297.94s\n"
     ]
    },
    {
     "name": "stderr",
     "output_type": "stream",
     "text": [
      " 38%|███▊      | 114/300 [10:26:49<16:51:20, 326.24s/it]"
     ]
    },
    {
     "name": "stdout",
     "output_type": "stream",
     "text": [
      "Test set: Epoch: 114, Average loss:0.0047, Top-1 Accuracy: 0.8323, Top-5 Accuracy: 0.9714, SuperClass Accuracy: 0.9088, Time consumed:28.14s\n",
      "\n",
      "saving weights file to runs\\shake_pyramidnet110_270\\savepoints\\Monday_14_October_2024_18h_56m_23s\\shake_pyramidnet110_270-114-best.pth\n",
      "Batch [30/391], Loss: -0.8997\n",
      "Batch [60/391], Loss: 1.1996\n",
      "Batch [90/391], Loss: -0.0396\n",
      "Batch [120/391], Loss: 1.0633\n",
      "Batch [150/391], Loss: 1.4890\n",
      "Batch [180/391], Loss: 1.4871\n",
      "Batch [210/391], Loss: 1.8510\n",
      "Batch [240/391], Loss: 0.8238\n",
      "Batch [270/391], Loss: 0.1938\n",
      "Batch [300/391], Loss: 1.5333\n",
      "Batch [330/391], Loss: 0.1891\n",
      "Batch [360/391], Loss: 2.3485\n",
      "Batch [390/391], Loss: 0.3843\n",
      "Train set: Epoch: 115, Average loss:0.6333, LR: 0.000800 Top-1 Accuracy: 0.8265, Top-5 Accuracy: 0.9516, SuperClass Accuracy: 0.8851, Time consumed:297.55s\n"
     ]
    },
    {
     "name": "stderr",
     "output_type": "stream",
     "text": [
      " 38%|███▊      | 115/300 [10:32:15<16:45:37, 326.15s/it]"
     ]
    },
    {
     "name": "stdout",
     "output_type": "stream",
     "text": [
      "Test set: Epoch: 115, Average loss:0.0046, Top-1 Accuracy: 0.8362, Top-5 Accuracy: 0.9716, SuperClass Accuracy: 0.9110, Time consumed:28.23s\n",
      "\n",
      "saving weights file to runs\\shake_pyramidnet110_270\\savepoints\\Monday_14_October_2024_18h_56m_23s\\shake_pyramidnet110_270-115-best.pth\n",
      "Batch [30/391], Loss: -0.5351\n",
      "Batch [60/391], Loss: 0.4024\n",
      "Batch [90/391], Loss: 0.2048\n",
      "Batch [120/391], Loss: 0.7211\n",
      "Batch [150/391], Loss: 0.7176\n",
      "Batch [180/391], Loss: 0.5072\n",
      "Batch [210/391], Loss: 2.3529\n",
      "Batch [240/391], Loss: 0.2633\n",
      "Batch [270/391], Loss: 0.0864\n",
      "Batch [300/391], Loss: -0.9619\n",
      "Batch [330/391], Loss: 1.6185\n",
      "Batch [360/391], Loss: 0.0918\n",
      "Batch [390/391], Loss: -0.0531\n",
      "Train set: Epoch: 116, Average loss:0.6152, LR: 0.000800 Top-1 Accuracy: 0.8390, Top-5 Accuracy: 0.9565, SuperClass Accuracy: 0.8947, Time consumed:298.11s\n"
     ]
    },
    {
     "name": "stderr",
     "output_type": "stream",
     "text": [
      " 39%|███▊      | 116/300 [10:37:41<16:40:17, 326.18s/it]"
     ]
    },
    {
     "name": "stdout",
     "output_type": "stream",
     "text": [
      "Test set: Epoch: 116, Average loss:0.0046, Top-1 Accuracy: 0.8366, Top-5 Accuracy: 0.9719, SuperClass Accuracy: 0.9105, Time consumed:28.00s\n",
      "\n",
      "saving weights file to runs\\shake_pyramidnet110_270\\savepoints\\Monday_14_October_2024_18h_56m_23s\\shake_pyramidnet110_270-116-best.pth\n",
      "EarlyStopping counter: 1 out of 150\n",
      "Batch [30/391], Loss: 0.1244\n",
      "Batch [60/391], Loss: 0.1986\n",
      "Batch [90/391], Loss: 0.1945\n",
      "Batch [120/391], Loss: 0.7269\n",
      "Batch [150/391], Loss: 0.6887\n",
      "Batch [180/391], Loss: 0.0560\n",
      "Batch [210/391], Loss: 0.1811\n",
      "Batch [240/391], Loss: 0.1850\n",
      "Batch [270/391], Loss: 1.4741\n",
      "Batch [300/391], Loss: 0.1374\n",
      "Batch [330/391], Loss: 0.8403\n",
      "Batch [360/391], Loss: 0.1511\n",
      "Batch [390/391], Loss: -0.9216\n",
      "Train set: Epoch: 117, Average loss:0.5628, LR: 0.000800 Top-1 Accuracy: 0.8422, Top-5 Accuracy: 0.9545, SuperClass Accuracy: 0.8968, Time consumed:297.69s\n"
     ]
    },
    {
     "name": "stderr",
     "output_type": "stream",
     "text": [
      " 39%|███▉      | 117/300 [10:43:07<16:34:30, 326.07s/it]"
     ]
    },
    {
     "name": "stdout",
     "output_type": "stream",
     "text": [
      "Test set: Epoch: 117, Average loss:0.0045, Top-1 Accuracy: 0.8360, Top-5 Accuracy: 0.9716, SuperClass Accuracy: 0.9097, Time consumed:28.10s\n",
      "\n",
      "Batch [30/391], Loss: 0.6208\n",
      "Batch [60/391], Loss: 0.5135\n",
      "Batch [90/391], Loss: -0.3238\n",
      "Batch [120/391], Loss: 0.1616\n",
      "Batch [150/391], Loss: 0.1794\n",
      "Batch [180/391], Loss: 1.5608\n",
      "Batch [210/391], Loss: 0.3190\n",
      "Batch [240/391], Loss: 0.2037\n",
      "Batch [270/391], Loss: 0.1963\n",
      "Batch [300/391], Loss: 1.0431\n",
      "Batch [330/391], Loss: 0.6574\n",
      "Batch [360/391], Loss: 2.1234\n",
      "Batch [390/391], Loss: 0.1205\n",
      "Train set: Epoch: 118, Average loss:0.5570, LR: 0.000800 Top-1 Accuracy: 0.8534, Top-5 Accuracy: 0.9642, SuperClass Accuracy: 0.9069, Time consumed:297.73s\n"
     ]
    },
    {
     "name": "stderr",
     "output_type": "stream",
     "text": [
      " 39%|███▉      | 118/300 [10:48:33<16:29:03, 326.06s/it]"
     ]
    },
    {
     "name": "stdout",
     "output_type": "stream",
     "text": [
      "Test set: Epoch: 118, Average loss:0.0046, Top-1 Accuracy: 0.8384, Top-5 Accuracy: 0.9715, SuperClass Accuracy: 0.9126, Time consumed:28.16s\n",
      "\n",
      "saving weights file to runs\\shake_pyramidnet110_270\\savepoints\\Monday_14_October_2024_18h_56m_23s\\shake_pyramidnet110_270-118-best.pth\n",
      "EarlyStopping counter: 1 out of 150\n",
      "Batch [30/391], Loss: 0.4054\n",
      "Batch [60/391], Loss: 1.7567\n",
      "Batch [90/391], Loss: 0.1741\n",
      "Batch [120/391], Loss: 1.5079\n",
      "Batch [150/391], Loss: 0.6844\n",
      "Batch [180/391], Loss: 0.2166\n",
      "Batch [210/391], Loss: 0.1608\n",
      "Batch [240/391], Loss: 0.2766\n",
      "Batch [270/391], Loss: 0.1995\n",
      "Batch [300/391], Loss: 0.1607\n",
      "Batch [330/391], Loss: 0.2451\n",
      "Batch [360/391], Loss: 0.1502\n",
      "Batch [390/391], Loss: 2.1064\n",
      "Train set: Epoch: 119, Average loss:0.5955, LR: 0.000800 Top-1 Accuracy: 0.8378, Top-5 Accuracy: 0.9575, SuperClass Accuracy: 0.8943, Time consumed:297.79s\n"
     ]
    },
    {
     "name": "stderr",
     "output_type": "stream",
     "text": [
      " 40%|███▉      | 119/300 [10:53:59<16:23:31, 326.03s/it]"
     ]
    },
    {
     "name": "stdout",
     "output_type": "stream",
     "text": [
      "Test set: Epoch: 119, Average loss:0.0045, Top-1 Accuracy: 0.8332, Top-5 Accuracy: 0.9720, SuperClass Accuracy: 0.9091, Time consumed:28.16s\n",
      "\n",
      "EarlyStopping counter: 2 out of 150\n",
      "Batch [30/391], Loss: 1.2255\n",
      "Batch [60/391], Loss: 0.2874\n",
      "Batch [90/391], Loss: 0.4003\n",
      "Batch [120/391], Loss: 0.2448\n",
      "Batch [150/391], Loss: 0.1978\n",
      "Batch [180/391], Loss: 1.7034\n",
      "Batch [210/391], Loss: 0.1978\n",
      "Batch [240/391], Loss: 2.4574\n",
      "Batch [270/391], Loss: 0.1297\n",
      "Batch [300/391], Loss: 2.2626\n",
      "Batch [330/391], Loss: 1.6892\n",
      "Batch [360/391], Loss: 0.2210\n",
      "Batch [390/391], Loss: 0.2770\n",
      "Train set: Epoch: 120, Average loss:0.6103, LR: 0.000800 Top-1 Accuracy: 0.8482, Top-5 Accuracy: 0.9616, SuperClass Accuracy: 0.9026, Time consumed:297.68s\n"
     ]
    },
    {
     "name": "stderr",
     "output_type": "stream",
     "text": [
      " 40%|████      | 120/300 [10:59:25<16:18:04, 326.03s/it]"
     ]
    },
    {
     "name": "stdout",
     "output_type": "stream",
     "text": [
      "Test set: Epoch: 120, Average loss:0.0045, Top-1 Accuracy: 0.8387, Top-5 Accuracy: 0.9710, SuperClass Accuracy: 0.9112, Time consumed:28.17s\n",
      "\n",
      "saving weights file to runs\\shake_pyramidnet110_270\\savepoints\\Monday_14_October_2024_18h_56m_23s\\shake_pyramidnet110_270-120-best.pth\n",
      "EarlyStopping counter: 3 out of 150\n",
      "Batch [30/391], Loss: 0.1706\n",
      "Batch [60/391], Loss: -0.0373\n",
      "Batch [90/391], Loss: 1.2124\n",
      "Batch [120/391], Loss: 1.2760\n",
      "Batch [150/391], Loss: 1.1242\n",
      "Batch [180/391], Loss: 3.0625\n",
      "Batch [210/391], Loss: 0.2622\n",
      "Batch [240/391], Loss: 1.1915\n",
      "Batch [270/391], Loss: 1.0259\n",
      "Batch [300/391], Loss: 0.1210\n",
      "Batch [330/391], Loss: 1.6653\n",
      "Batch [360/391], Loss: 0.1387\n",
      "Batch [390/391], Loss: 0.5933\n",
      "Train set: Epoch: 121, Average loss:0.5953, LR: 0.000800 Top-1 Accuracy: 0.8438, Top-5 Accuracy: 0.9589, SuperClass Accuracy: 0.8976, Time consumed:297.57s\n"
     ]
    },
    {
     "name": "stderr",
     "output_type": "stream",
     "text": [
      " 40%|████      | 121/300 [11:04:51<16:12:26, 325.96s/it]"
     ]
    },
    {
     "name": "stdout",
     "output_type": "stream",
     "text": [
      "Test set: Epoch: 121, Average loss:0.0046, Top-1 Accuracy: 0.8343, Top-5 Accuracy: 0.9713, SuperClass Accuracy: 0.9091, Time consumed:28.22s\n",
      "\n",
      "EarlyStopping counter: 4 out of 150\n",
      "Batch [30/391], Loss: -0.8643\n",
      "Batch [60/391], Loss: 0.5553\n",
      "Batch [90/391], Loss: 0.2571\n",
      "Batch [120/391], Loss: 0.1301\n",
      "Batch [150/391], Loss: 0.8257\n",
      "Batch [180/391], Loss: 1.4361\n",
      "Batch [210/391], Loss: -0.4199\n",
      "Batch [240/391], Loss: 0.1155\n",
      "Batch [270/391], Loss: 1.7094\n",
      "Batch [300/391], Loss: 0.2992\n",
      "Batch [330/391], Loss: 0.8521\n",
      "Batch [360/391], Loss: -0.7644\n",
      "Batch [390/391], Loss: 0.2502\n",
      "Train set: Epoch: 122, Average loss:0.4494, LR: 0.000800 Top-1 Accuracy: 0.8681, Top-5 Accuracy: 0.9685, SuperClass Accuracy: 0.9173, Time consumed:297.77s\n"
     ]
    },
    {
     "name": "stderr",
     "output_type": "stream",
     "text": [
      " 41%|████      | 122/300 [11:10:17<16:07:08, 326.00s/it]"
     ]
    },
    {
     "name": "stdout",
     "output_type": "stream",
     "text": [
      "Test set: Epoch: 122, Average loss:0.0046, Top-1 Accuracy: 0.8380, Top-5 Accuracy: 0.9708, SuperClass Accuracy: 0.9118, Time consumed:28.33s\n",
      "\n",
      "EarlyStopping counter: 5 out of 150\n",
      "Batch [30/391], Loss: 0.4154\n",
      "Batch [60/391], Loss: 0.1147\n",
      "Batch [90/391], Loss: 0.2856\n",
      "Batch [120/391], Loss: 0.7421\n",
      "Batch [150/391], Loss: 0.1044\n",
      "Batch [180/391], Loss: 0.2828\n",
      "Batch [210/391], Loss: 0.8782\n",
      "Batch [240/391], Loss: 0.1135\n",
      "Batch [270/391], Loss: 0.3666\n",
      "Batch [300/391], Loss: 1.8814\n",
      "Batch [330/391], Loss: 0.3470\n",
      "Batch [360/391], Loss: 0.1554\n",
      "Batch [390/391], Loss: 0.8203\n",
      "Train set: Epoch: 123, Average loss:0.5945, LR: 0.000800 Top-1 Accuracy: 0.8459, Top-5 Accuracy: 0.9568, SuperClass Accuracy: 0.8991, Time consumed:298.00s\n"
     ]
    },
    {
     "name": "stderr",
     "output_type": "stream",
     "text": [
      " 41%|████      | 123/300 [11:15:44<16:01:58, 326.09s/it]"
     ]
    },
    {
     "name": "stdout",
     "output_type": "stream",
     "text": [
      "Test set: Epoch: 123, Average loss:0.0045, Top-1 Accuracy: 0.8354, Top-5 Accuracy: 0.9722, SuperClass Accuracy: 0.9108, Time consumed:28.29s\n",
      "\n",
      "EarlyStopping counter: 6 out of 150\n",
      "Batch [30/391], Loss: 0.1248\n",
      "Batch [60/391], Loss: 0.1242\n",
      "Batch [90/391], Loss: 0.1523\n",
      "Batch [120/391], Loss: 1.1655\n",
      "Batch [150/391], Loss: -1.1707\n",
      "Batch [180/391], Loss: 1.4381\n",
      "Batch [210/391], Loss: 0.4008\n",
      "Batch [240/391], Loss: 2.1661\n",
      "Batch [270/391], Loss: 1.6190\n",
      "Batch [300/391], Loss: 0.1544\n",
      "Batch [330/391], Loss: 1.2703\n",
      "Batch [360/391], Loss: 0.1098\n",
      "Batch [390/391], Loss: 1.0188\n",
      "Train set: Epoch: 124, Average loss:0.5654, LR: 0.000800 Top-1 Accuracy: 0.8579, Top-5 Accuracy: 0.9630, SuperClass Accuracy: 0.9079, Time consumed:297.67s\n"
     ]
    },
    {
     "name": "stderr",
     "output_type": "stream",
     "text": [
      " 41%|████▏     | 124/300 [11:21:10<15:56:27, 326.07s/it]"
     ]
    },
    {
     "name": "stdout",
     "output_type": "stream",
     "text": [
      "Test set: Epoch: 124, Average loss:0.0045, Top-1 Accuracy: 0.8390, Top-5 Accuracy: 0.9719, SuperClass Accuracy: 0.9131, Time consumed:28.17s\n",
      "\n",
      "saving weights file to runs\\shake_pyramidnet110_270\\savepoints\\Monday_14_October_2024_18h_56m_23s\\shake_pyramidnet110_270-124-best.pth\n",
      "EarlyStopping counter: 7 out of 150\n",
      "Batch [30/391], Loss: 0.1262\n",
      "Batch [60/391], Loss: 0.2160\n",
      "Batch [90/391], Loss: 0.1818\n",
      "Batch [120/391], Loss: 0.1308\n",
      "Batch [150/391], Loss: 0.3240\n",
      "Batch [180/391], Loss: 2.2204\n",
      "Batch [210/391], Loss: 0.1772\n",
      "Batch [240/391], Loss: -0.5968\n",
      "Batch [270/391], Loss: 0.3732\n",
      "Batch [300/391], Loss: 0.8680\n",
      "Batch [330/391], Loss: 0.2003\n",
      "Batch [360/391], Loss: 0.6404\n",
      "Batch [390/391], Loss: 0.0941\n",
      "Train set: Epoch: 125, Average loss:0.5547, LR: 0.000800 Top-1 Accuracy: 0.8443, Top-5 Accuracy: 0.9560, SuperClass Accuracy: 0.8970, Time consumed:297.94s\n"
     ]
    },
    {
     "name": "stderr",
     "output_type": "stream",
     "text": [
      " 42%|████▏     | 125/300 [11:26:36<15:51:05, 326.09s/it]"
     ]
    },
    {
     "name": "stdout",
     "output_type": "stream",
     "text": [
      "Test set: Epoch: 125, Average loss:0.0046, Top-1 Accuracy: 0.8391, Top-5 Accuracy: 0.9717, SuperClass Accuracy: 0.9114, Time consumed:28.04s\n",
      "\n",
      "saving weights file to runs\\shake_pyramidnet110_270\\savepoints\\Monday_14_October_2024_18h_56m_23s\\shake_pyramidnet110_270-125-best.pth\n",
      "EarlyStopping counter: 8 out of 150\n",
      "Batch [30/391], Loss: 0.2582\n",
      "Batch [60/391], Loss: 0.3152\n",
      "Batch [90/391], Loss: 0.8572\n",
      "Batch [120/391], Loss: -0.9549\n",
      "Batch [150/391], Loss: 1.1731\n",
      "Batch [180/391], Loss: 0.1053\n",
      "Batch [210/391], Loss: 1.0262\n",
      "Batch [240/391], Loss: 0.5926\n",
      "Batch [270/391], Loss: 0.3068\n",
      "Batch [300/391], Loss: 0.2160\n",
      "Batch [330/391], Loss: 0.3566\n",
      "Batch [360/391], Loss: 1.3657\n",
      "Batch [390/391], Loss: 1.3089\n",
      "Train set: Epoch: 126, Average loss:0.5679, LR: 0.000800 Top-1 Accuracy: 0.8605, Top-5 Accuracy: 0.9649, SuperClass Accuracy: 0.9111, Time consumed:297.45s\n"
     ]
    },
    {
     "name": "stderr",
     "output_type": "stream",
     "text": [
      " 42%|████▏     | 126/300 [11:32:01<15:45:09, 325.92s/it]"
     ]
    },
    {
     "name": "stdout",
     "output_type": "stream",
     "text": [
      "Test set: Epoch: 126, Average loss:0.0046, Top-1 Accuracy: 0.8367, Top-5 Accuracy: 0.9725, SuperClass Accuracy: 0.9120, Time consumed:28.07s\n",
      "\n",
      "EarlyStopping counter: 9 out of 150\n",
      "Batch [30/391], Loss: 0.4613\n",
      "Batch [60/391], Loss: 1.8054\n",
      "Batch [90/391], Loss: 1.6986\n",
      "Batch [120/391], Loss: 0.0920\n",
      "Batch [150/391], Loss: 0.3933\n",
      "Batch [180/391], Loss: 0.2704\n",
      "Batch [210/391], Loss: 0.1381\n",
      "Batch [240/391], Loss: 1.6086\n",
      "Batch [270/391], Loss: 0.8826\n",
      "Batch [300/391], Loss: 0.1358\n",
      "Batch [330/391], Loss: 0.1868\n",
      "Batch [360/391], Loss: 0.2039\n",
      "Batch [390/391], Loss: 0.0933\n",
      "Train set: Epoch: 127, Average loss:0.5799, LR: 0.000800 Top-1 Accuracy: 0.8442, Top-5 Accuracy: 0.9545, SuperClass Accuracy: 0.8972, Time consumed:297.48s\n"
     ]
    },
    {
     "name": "stderr",
     "output_type": "stream",
     "text": [
      " 42%|████▏     | 127/300 [11:37:27<15:39:23, 325.80s/it]"
     ]
    },
    {
     "name": "stdout",
     "output_type": "stream",
     "text": [
      "Test set: Epoch: 127, Average loss:0.0045, Top-1 Accuracy: 0.8371, Top-5 Accuracy: 0.9714, SuperClass Accuracy: 0.9115, Time consumed:28.03s\n",
      "\n",
      "EarlyStopping counter: 10 out of 150\n",
      "Batch [30/391], Loss: 0.3735\n",
      "Batch [60/391], Loss: 0.1752\n",
      "Batch [90/391], Loss: 0.2236\n",
      "Batch [120/391], Loss: 0.8225\n",
      "Batch [150/391], Loss: 0.2036\n",
      "Batch [180/391], Loss: 0.1935\n",
      "Batch [210/391], Loss: 0.5960\n",
      "Batch [240/391], Loss: 0.0887\n",
      "Batch [270/391], Loss: -0.2756\n",
      "Batch [300/391], Loss: 0.2754\n",
      "Batch [330/391], Loss: -0.1794\n",
      "Batch [360/391], Loss: 0.2130\n",
      "Batch [390/391], Loss: 0.3802\n",
      "Train set: Epoch: 128, Average loss:0.6083, LR: 0.000800 Top-1 Accuracy: 0.8436, Top-5 Accuracy: 0.9570, SuperClass Accuracy: 0.8966, Time consumed:297.54s\n"
     ]
    },
    {
     "name": "stderr",
     "output_type": "stream",
     "text": [
      " 43%|████▎     | 128/300 [11:42:52<15:33:48, 325.75s/it]"
     ]
    },
    {
     "name": "stdout",
     "output_type": "stream",
     "text": [
      "Test set: Epoch: 128, Average loss:0.0045, Top-1 Accuracy: 0.8391, Top-5 Accuracy: 0.9721, SuperClass Accuracy: 0.9142, Time consumed:28.08s\n",
      "\n",
      "EarlyStopping counter: 11 out of 150\n",
      "Batch [30/391], Loss: 1.7143\n",
      "Batch [60/391], Loss: 0.0614\n",
      "Batch [90/391], Loss: 0.1880\n",
      "Batch [120/391], Loss: 0.4032\n",
      "Batch [150/391], Loss: 0.1603\n",
      "Batch [180/391], Loss: -0.9219\n",
      "Batch [210/391], Loss: 0.3961\n",
      "Batch [240/391], Loss: 1.6406\n",
      "Batch [270/391], Loss: 0.1731\n",
      "Batch [300/391], Loss: -0.2000\n",
      "Batch [330/391], Loss: 0.1182\n",
      "Batch [360/391], Loss: 0.1479\n",
      "Batch [390/391], Loss: 2.1631\n",
      "Train set: Epoch: 129, Average loss:0.5454, LR: 0.000800 Top-1 Accuracy: 0.8560, Top-5 Accuracy: 0.9632, SuperClass Accuracy: 0.9060, Time consumed:297.90s\n"
     ]
    },
    {
     "name": "stderr",
     "output_type": "stream",
     "text": [
      " 43%|████▎     | 129/300 [11:48:18<15:28:37, 325.83s/it]"
     ]
    },
    {
     "name": "stdout",
     "output_type": "stream",
     "text": [
      "Test set: Epoch: 129, Average loss:0.0046, Top-1 Accuracy: 0.8382, Top-5 Accuracy: 0.9720, SuperClass Accuracy: 0.9127, Time consumed:28.12s\n",
      "\n",
      "EarlyStopping counter: 12 out of 150\n",
      "Batch [30/391], Loss: 0.1112\n",
      "Batch [60/391], Loss: 1.7481\n",
      "Batch [90/391], Loss: 3.3764\n",
      "Batch [120/391], Loss: 0.0247\n",
      "Batch [150/391], Loss: 1.3180\n",
      "Batch [180/391], Loss: 0.1071\n",
      "Batch [210/391], Loss: 1.4576\n",
      "Batch [240/391], Loss: 0.1305\n",
      "Batch [270/391], Loss: -0.1495\n",
      "Batch [300/391], Loss: 1.8498\n",
      "Batch [330/391], Loss: 0.1732\n",
      "Batch [360/391], Loss: 0.1539\n",
      "Batch [390/391], Loss: 0.8481\n",
      "Train set: Epoch: 130, Average loss:0.5442, LR: 0.000800 Top-1 Accuracy: 0.8631, Top-5 Accuracy: 0.9666, SuperClass Accuracy: 0.9124, Time consumed:298.53s\n"
     ]
    },
    {
     "name": "stderr",
     "output_type": "stream",
     "text": [
      " 43%|████▎     | 130/300 [11:53:45<15:24:01, 326.13s/it]"
     ]
    },
    {
     "name": "stdout",
     "output_type": "stream",
     "text": [
      "Test set: Epoch: 130, Average loss:0.0045, Top-1 Accuracy: 0.8384, Top-5 Accuracy: 0.9726, SuperClass Accuracy: 0.9116, Time consumed:28.29s\n",
      "\n",
      "EarlyStopping counter: 13 out of 150\n",
      "Batch [30/391], Loss: 0.1702\n",
      "Batch [60/391], Loss: 0.2004\n",
      "Batch [90/391], Loss: 0.0811\n",
      "Batch [120/391], Loss: -0.0340\n",
      "Batch [150/391], Loss: 0.2737\n",
      "Batch [180/391], Loss: 0.0589\n",
      "Batch [210/391], Loss: 1.2310\n",
      "Batch [240/391], Loss: 0.1572\n",
      "Batch [270/391], Loss: 0.0812\n",
      "Batch [300/391], Loss: 0.2019\n",
      "Batch [330/391], Loss: 1.0089\n",
      "Batch [360/391], Loss: 1.7797\n",
      "Batch [390/391], Loss: 0.0734\n",
      "Train set: Epoch: 131, Average loss:0.5545, LR: 0.000800 Top-1 Accuracy: 0.8553, Top-5 Accuracy: 0.9603, SuperClass Accuracy: 0.9058, Time consumed:297.80s\n"
     ]
    },
    {
     "name": "stderr",
     "output_type": "stream",
     "text": [
      " 44%|████▎     | 131/300 [11:59:11<15:18:23, 326.06s/it]"
     ]
    },
    {
     "name": "stdout",
     "output_type": "stream",
     "text": [
      "Test set: Epoch: 131, Average loss:0.0045, Top-1 Accuracy: 0.8386, Top-5 Accuracy: 0.9719, SuperClass Accuracy: 0.9113, Time consumed:28.08s\n",
      "\n",
      "EarlyStopping counter: 14 out of 150\n",
      "Batch [30/391], Loss: 1.8699\n",
      "Batch [60/391], Loss: 0.1210\n",
      "Batch [90/391], Loss: 0.1817\n",
      "Batch [120/391], Loss: 0.9162\n",
      "Batch [150/391], Loss: 0.2900\n",
      "Batch [180/391], Loss: 0.3096\n",
      "Batch [210/391], Loss: 0.9949\n",
      "Batch [240/391], Loss: 0.4486\n",
      "Batch [270/391], Loss: 0.4109\n",
      "Batch [300/391], Loss: 1.3867\n",
      "Batch [330/391], Loss: 1.6987\n",
      "Batch [360/391], Loss: 0.1243\n",
      "Batch [390/391], Loss: 0.1497\n",
      "Train set: Epoch: 132, Average loss:0.5335, LR: 0.000800 Top-1 Accuracy: 0.8542, Top-5 Accuracy: 0.9618, SuperClass Accuracy: 0.9042, Time consumed:298.41s\n",
      "Test set: Epoch: 132, Average loss:0.0045, Top-1 Accuracy: 0.8415, Top-5 Accuracy: 0.9719, SuperClass Accuracy: 0.9150, Time consumed:28.09s\n",
      "\n",
      "saving weights file to runs\\shake_pyramidnet110_270\\savepoints\\Monday_14_October_2024_18h_56m_23s\\shake_pyramidnet110_270-132-best.pth\n"
     ]
    },
    {
     "name": "stderr",
     "output_type": "stream",
     "text": [
      " 44%|████▍     | 132/300 [12:04:38<15:13:33, 326.27s/it]"
     ]
    },
    {
     "name": "stdout",
     "output_type": "stream",
     "text": [
      "EarlyStopping counter: 15 out of 150\n",
      "Batch [30/391], Loss: 0.3663\n",
      "Batch [60/391], Loss: 0.6824\n",
      "Batch [90/391], Loss: -1.1756\n",
      "Batch [120/391], Loss: 1.4052\n",
      "Batch [150/391], Loss: 0.3009\n",
      "Batch [180/391], Loss: -1.4070\n",
      "Batch [210/391], Loss: 0.1822\n",
      "Batch [240/391], Loss: 0.9414\n",
      "Batch [270/391], Loss: 0.7993\n",
      "Batch [300/391], Loss: 0.5884\n",
      "Batch [330/391], Loss: 0.2145\n",
      "Batch [360/391], Loss: 0.9742\n",
      "Batch [390/391], Loss: 0.7135\n",
      "Train set: Epoch: 133, Average loss:0.4742, LR: 0.000800 Top-1 Accuracy: 0.8618, Top-5 Accuracy: 0.9655, SuperClass Accuracy: 0.9109, Time consumed:298.03s\n"
     ]
    },
    {
     "name": "stderr",
     "output_type": "stream",
     "text": [
      " 44%|████▍     | 133/300 [12:10:04<15:08:07, 326.27s/it]"
     ]
    },
    {
     "name": "stdout",
     "output_type": "stream",
     "text": [
      "Test set: Epoch: 133, Average loss:0.0046, Top-1 Accuracy: 0.8393, Top-5 Accuracy: 0.9720, SuperClass Accuracy: 0.9131, Time consumed:28.24s\n",
      "\n",
      "EarlyStopping counter: 16 out of 150\n",
      "Batch [30/391], Loss: 0.1215\n",
      "Batch [60/391], Loss: 0.1300\n",
      "Batch [90/391], Loss: 0.6994\n",
      "Batch [120/391], Loss: 1.1525\n",
      "Batch [150/391], Loss: -0.1214\n",
      "Batch [180/391], Loss: 0.2026\n",
      "Batch [210/391], Loss: 0.2458\n",
      "Batch [240/391], Loss: 1.5467\n",
      "Batch [270/391], Loss: 1.1110\n",
      "Batch [300/391], Loss: 1.7426\n",
      "Batch [330/391], Loss: 1.6352\n",
      "Batch [360/391], Loss: 0.1073\n",
      "Batch [390/391], Loss: 2.3513\n",
      "Train set: Epoch: 134, Average loss:0.5452, LR: 0.000160 Top-1 Accuracy: 0.8582, Top-5 Accuracy: 0.9617, SuperClass Accuracy: 0.9072, Time consumed:298.03s\n"
     ]
    },
    {
     "name": "stderr",
     "output_type": "stream",
     "text": [
      " 45%|████▍     | 134/300 [12:15:30<15:02:38, 326.25s/it]"
     ]
    },
    {
     "name": "stdout",
     "output_type": "stream",
     "text": [
      "Test set: Epoch: 134, Average loss:0.0044, Top-1 Accuracy: 0.8416, Top-5 Accuracy: 0.9722, SuperClass Accuracy: 0.9134, Time consumed:28.02s\n",
      "\n",
      "saving weights file to runs\\shake_pyramidnet110_270\\savepoints\\Monday_14_October_2024_18h_56m_23s\\shake_pyramidnet110_270-134-best.pth\n",
      "Batch [30/391], Loss: 0.4305\n",
      "Batch [60/391], Loss: 0.2204\n",
      "Batch [90/391], Loss: 1.3096\n",
      "Batch [120/391], Loss: 0.2416\n",
      "Batch [150/391], Loss: 0.1376\n",
      "Batch [180/391], Loss: -0.7839\n",
      "Batch [210/391], Loss: 0.0917\n",
      "Batch [240/391], Loss: 1.3252\n",
      "Batch [270/391], Loss: 1.5282\n",
      "Batch [300/391], Loss: 0.2150\n",
      "Batch [330/391], Loss: 0.5736\n",
      "Batch [360/391], Loss: 1.5155\n",
      "Batch [390/391], Loss: 0.1952\n",
      "Train set: Epoch: 135, Average loss:0.5952, LR: 0.000160 Top-1 Accuracy: 0.8557, Top-5 Accuracy: 0.9601, SuperClass Accuracy: 0.9045, Time consumed:298.39s\n"
     ]
    },
    {
     "name": "stderr",
     "output_type": "stream",
     "text": [
      " 45%|████▌     | 135/300 [12:20:57<14:57:32, 326.38s/it]"
     ]
    },
    {
     "name": "stdout",
     "output_type": "stream",
     "text": [
      "Test set: Epoch: 135, Average loss:0.0045, Top-1 Accuracy: 0.8448, Top-5 Accuracy: 0.9719, SuperClass Accuracy: 0.9163, Time consumed:28.13s\n",
      "\n",
      "saving weights file to runs\\shake_pyramidnet110_270\\savepoints\\Monday_14_October_2024_18h_56m_23s\\shake_pyramidnet110_270-135-best.pth\n",
      "EarlyStopping counter: 1 out of 150\n",
      "Batch [30/391], Loss: 0.8214\n",
      "Batch [60/391], Loss: 2.0662\n",
      "Batch [90/391], Loss: 1.5184\n",
      "Batch [120/391], Loss: 2.9223\n",
      "Batch [150/391], Loss: 0.3389\n",
      "Batch [180/391], Loss: 0.8107\n",
      "Batch [210/391], Loss: 0.1899\n",
      "Batch [240/391], Loss: -1.0743\n",
      "Batch [270/391], Loss: 0.0669\n",
      "Batch [300/391], Loss: 0.0898\n",
      "Batch [330/391], Loss: 2.5056\n",
      "Batch [360/391], Loss: 0.1846\n",
      "Batch [390/391], Loss: 1.8823\n",
      "Train set: Epoch: 136, Average loss:0.5168, LR: 0.000160 Top-1 Accuracy: 0.8675, Top-5 Accuracy: 0.9657, SuperClass Accuracy: 0.9146, Time consumed:298.06s\n"
     ]
    },
    {
     "name": "stderr",
     "output_type": "stream",
     "text": [
      " 45%|████▌     | 136/300 [12:26:23<14:51:56, 326.32s/it]"
     ]
    },
    {
     "name": "stdout",
     "output_type": "stream",
     "text": [
      "Test set: Epoch: 136, Average loss:0.0045, Top-1 Accuracy: 0.8411, Top-5 Accuracy: 0.9716, SuperClass Accuracy: 0.9135, Time consumed:28.11s\n",
      "\n",
      "EarlyStopping counter: 2 out of 150\n",
      "Batch [30/391], Loss: -0.8038\n",
      "Batch [60/391], Loss: 0.1843\n",
      "Batch [90/391], Loss: 1.1091\n",
      "Batch [120/391], Loss: 0.2069\n",
      "Batch [150/391], Loss: 1.2171\n",
      "Batch [180/391], Loss: 0.2325\n",
      "Batch [210/391], Loss: 0.2145\n",
      "Batch [240/391], Loss: 0.0454\n",
      "Batch [270/391], Loss: 0.1907\n",
      "Batch [300/391], Loss: 0.1222\n",
      "Batch [330/391], Loss: 0.1795\n",
      "Batch [360/391], Loss: 0.1459\n",
      "Batch [390/391], Loss: 0.1352\n",
      "Train set: Epoch: 137, Average loss:0.5464, LR: 0.000160 Top-1 Accuracy: 0.8603, Top-5 Accuracy: 0.9611, SuperClass Accuracy: 0.9085, Time consumed:298.10s\n"
     ]
    },
    {
     "name": "stderr",
     "output_type": "stream",
     "text": [
      " 46%|████▌     | 137/300 [12:31:49<14:46:29, 326.31s/it]"
     ]
    },
    {
     "name": "stdout",
     "output_type": "stream",
     "text": [
      "Test set: Epoch: 137, Average loss:0.0045, Top-1 Accuracy: 0.8442, Top-5 Accuracy: 0.9724, SuperClass Accuracy: 0.9163, Time consumed:28.19s\n",
      "\n",
      "EarlyStopping counter: 3 out of 150\n",
      "Batch [30/391], Loss: 0.9444\n",
      "Batch [60/391], Loss: 1.6452\n",
      "Batch [90/391], Loss: 2.5108\n",
      "Batch [120/391], Loss: 1.2453\n",
      "Batch [150/391], Loss: 0.1350\n",
      "Batch [180/391], Loss: 0.1707\n",
      "Batch [210/391], Loss: 1.8019\n",
      "Batch [240/391], Loss: -0.1058\n",
      "Batch [270/391], Loss: -0.8063\n",
      "Batch [300/391], Loss: 0.1758\n",
      "Batch [330/391], Loss: 0.2429\n",
      "Batch [360/391], Loss: 1.2254\n",
      "Batch [390/391], Loss: 0.2306\n",
      "Train set: Epoch: 138, Average loss:0.5251, LR: 0.000160 Top-1 Accuracy: 0.8638, Top-5 Accuracy: 0.9630, SuperClass Accuracy: 0.9114, Time consumed:297.77s\n"
     ]
    },
    {
     "name": "stderr",
     "output_type": "stream",
     "text": [
      " 46%|████▌     | 138/300 [12:37:15<14:40:42, 326.19s/it]"
     ]
    },
    {
     "name": "stdout",
     "output_type": "stream",
     "text": [
      "Test set: Epoch: 138, Average loss:0.0045, Top-1 Accuracy: 0.8445, Top-5 Accuracy: 0.9725, SuperClass Accuracy: 0.9155, Time consumed:28.12s\n",
      "\n",
      "EarlyStopping counter: 4 out of 150\n",
      "Batch [30/391], Loss: 0.3777\n",
      "Batch [60/391], Loss: 0.2281\n",
      "Batch [90/391], Loss: 1.9040\n",
      "Batch [120/391], Loss: 2.1470\n",
      "Batch [150/391], Loss: 0.0619\n",
      "Batch [180/391], Loss: -1.0003\n",
      "Batch [210/391], Loss: -0.3343\n",
      "Batch [240/391], Loss: 0.1297\n",
      "Batch [270/391], Loss: 0.1523\n",
      "Batch [300/391], Loss: 0.4613\n",
      "Batch [330/391], Loss: 1.3013\n",
      "Batch [360/391], Loss: 0.2692\n",
      "Batch [390/391], Loss: -1.2773\n",
      "Train set: Epoch: 139, Average loss:0.4939, LR: 0.000160 Top-1 Accuracy: 0.8692, Top-5 Accuracy: 0.9652, SuperClass Accuracy: 0.9142, Time consumed:298.13s\n"
     ]
    },
    {
     "name": "stderr",
     "output_type": "stream",
     "text": [
      " 46%|████▋     | 139/300 [12:42:42<14:35:24, 326.24s/it]"
     ]
    },
    {
     "name": "stdout",
     "output_type": "stream",
     "text": [
      "Test set: Epoch: 139, Average loss:0.0045, Top-1 Accuracy: 0.8427, Top-5 Accuracy: 0.9713, SuperClass Accuracy: 0.9150, Time consumed:28.22s\n",
      "\n",
      "EarlyStopping counter: 5 out of 150\n",
      "Batch [30/391], Loss: 0.2548\n",
      "Batch [60/391], Loss: 0.1421\n",
      "Batch [90/391], Loss: 0.7058\n",
      "Batch [120/391], Loss: 2.0909\n",
      "Batch [150/391], Loss: 1.2039\n",
      "Batch [180/391], Loss: 1.5355\n",
      "Batch [210/391], Loss: 0.1661\n",
      "Batch [240/391], Loss: 0.1997\n",
      "Batch [270/391], Loss: 1.1597\n",
      "Batch [300/391], Loss: 0.2480\n",
      "Batch [330/391], Loss: 0.2399\n",
      "Batch [360/391], Loss: 0.1798\n",
      "Batch [390/391], Loss: 1.5009\n",
      "Train set: Epoch: 140, Average loss:0.4995, LR: 0.000160 Top-1 Accuracy: 0.8640, Top-5 Accuracy: 0.9621, SuperClass Accuracy: 0.9106, Time consumed:297.92s\n"
     ]
    },
    {
     "name": "stderr",
     "output_type": "stream",
     "text": [
      " 47%|████▋     | 140/300 [12:48:08<14:29:48, 326.18s/it]"
     ]
    },
    {
     "name": "stdout",
     "output_type": "stream",
     "text": [
      "Test set: Epoch: 140, Average loss:0.0044, Top-1 Accuracy: 0.8430, Top-5 Accuracy: 0.9717, SuperClass Accuracy: 0.9147, Time consumed:28.12s\n",
      "\n",
      "Batch [30/391], Loss: 0.4619\n",
      "Batch [60/391], Loss: 0.1197\n",
      "Batch [90/391], Loss: 0.1462\n",
      "Batch [120/391], Loss: -0.6855\n",
      "Batch [150/391], Loss: 0.1171\n",
      "Batch [180/391], Loss: 0.1701\n",
      "Batch [210/391], Loss: 0.3830\n",
      "Batch [240/391], Loss: 0.9314\n",
      "Batch [270/391], Loss: 2.6119\n",
      "Batch [300/391], Loss: 0.0798\n",
      "Batch [330/391], Loss: 0.0663\n",
      "Batch [360/391], Loss: -0.5785\n",
      "Batch [390/391], Loss: 0.3051\n",
      "Train set: Epoch: 141, Average loss:0.5273, LR: 0.000160 Top-1 Accuracy: 0.8631, Top-5 Accuracy: 0.9637, SuperClass Accuracy: 0.9105, Time consumed:298.34s\n"
     ]
    },
    {
     "name": "stderr",
     "output_type": "stream",
     "text": [
      " 47%|████▋     | 141/300 [12:53:34<14:24:38, 326.28s/it]"
     ]
    },
    {
     "name": "stdout",
     "output_type": "stream",
     "text": [
      "Test set: Epoch: 141, Average loss:0.0044, Top-1 Accuracy: 0.8447, Top-5 Accuracy: 0.9723, SuperClass Accuracy: 0.9158, Time consumed:28.17s\n",
      "\n",
      "Batch [30/391], Loss: 0.1211\n",
      "Batch [60/391], Loss: 0.0995\n",
      "Batch [90/391], Loss: 0.0586\n",
      "Batch [120/391], Loss: 2.0573\n",
      "Batch [150/391], Loss: -0.9668\n",
      "Batch [180/391], Loss: 0.1310\n",
      "Batch [210/391], Loss: 0.2163\n",
      "Batch [240/391], Loss: 0.8391\n",
      "Batch [270/391], Loss: 0.9522\n",
      "Batch [300/391], Loss: 0.6172\n",
      "Batch [330/391], Loss: 0.0497\n",
      "Batch [360/391], Loss: 1.5851\n",
      "Batch [390/391], Loss: 0.0755\n",
      "Train set: Epoch: 142, Average loss:0.5123, LR: 0.000160 Top-1 Accuracy: 0.8585, Top-5 Accuracy: 0.9590, SuperClass Accuracy: 0.9051, Time consumed:297.89s\n"
     ]
    },
    {
     "name": "stderr",
     "output_type": "stream",
     "text": [
      " 47%|████▋     | 142/300 [12:59:00<14:18:54, 326.17s/it]"
     ]
    },
    {
     "name": "stdout",
     "output_type": "stream",
     "text": [
      "Test set: Epoch: 142, Average loss:0.0045, Top-1 Accuracy: 0.8428, Top-5 Accuracy: 0.9718, SuperClass Accuracy: 0.9146, Time consumed:28.00s\n",
      "\n",
      "EarlyStopping counter: 1 out of 150\n",
      "Batch [30/391], Loss: 0.9225\n",
      "Batch [60/391], Loss: 1.5583\n",
      "Batch [90/391], Loss: 0.0659\n",
      "Batch [120/391], Loss: 0.6108\n",
      "Batch [150/391], Loss: 0.6502\n",
      "Batch [180/391], Loss: -0.0373\n",
      "Batch [210/391], Loss: 0.2742\n",
      "Batch [240/391], Loss: 1.7308\n",
      "Batch [270/391], Loss: -0.9859\n",
      "Batch [300/391], Loss: 0.7338\n",
      "Batch [330/391], Loss: 0.9956\n",
      "Batch [360/391], Loss: 1.6354\n",
      "Batch [390/391], Loss: 0.1151\n",
      "Train set: Epoch: 143, Average loss:0.4595, LR: 0.000160 Top-1 Accuracy: 0.8765, Top-5 Accuracy: 0.9689, SuperClass Accuracy: 0.9214, Time consumed:298.20s\n"
     ]
    },
    {
     "name": "stderr",
     "output_type": "stream",
     "text": [
      " 48%|████▊     | 143/300 [13:04:26<14:13:33, 326.20s/it]"
     ]
    },
    {
     "name": "stdout",
     "output_type": "stream",
     "text": [
      "Test set: Epoch: 143, Average loss:0.0045, Top-1 Accuracy: 0.8428, Top-5 Accuracy: 0.9722, SuperClass Accuracy: 0.9146, Time consumed:28.09s\n",
      "\n",
      "EarlyStopping counter: 2 out of 150\n",
      "Batch [30/391], Loss: 0.1036\n",
      "Batch [60/391], Loss: 0.2071\n",
      "Batch [90/391], Loss: 0.1189\n",
      "Batch [120/391], Loss: 0.0975\n",
      "Batch [150/391], Loss: 0.4995\n",
      "Batch [180/391], Loss: 0.2951\n",
      "Batch [210/391], Loss: 0.0857\n",
      "Batch [240/391], Loss: 1.1146\n",
      "Batch [270/391], Loss: 0.4452\n",
      "Batch [300/391], Loss: 0.0615\n",
      "Batch [330/391], Loss: 3.3574\n",
      "Batch [360/391], Loss: -0.6241\n",
      "Batch [390/391], Loss: 0.7825\n",
      "Train set: Epoch: 144, Average loss:0.4902, LR: 0.000160 Top-1 Accuracy: 0.8642, Top-5 Accuracy: 0.9638, SuperClass Accuracy: 0.9102, Time consumed:298.21s\n"
     ]
    },
    {
     "name": "stderr",
     "output_type": "stream",
     "text": [
      " 48%|████▊     | 144/300 [13:09:53<14:08:14, 326.24s/it]"
     ]
    },
    {
     "name": "stdout",
     "output_type": "stream",
     "text": [
      "Test set: Epoch: 144, Average loss:0.0045, Top-1 Accuracy: 0.8434, Top-5 Accuracy: 0.9726, SuperClass Accuracy: 0.9151, Time consumed:28.13s\n",
      "\n",
      "EarlyStopping counter: 3 out of 150\n",
      "Batch [30/391], Loss: 1.9262\n",
      "Batch [60/391], Loss: 0.1249\n",
      "Batch [90/391], Loss: -0.5465\n",
      "Batch [120/391], Loss: 0.2137\n",
      "Batch [150/391], Loss: 1.0213\n",
      "Batch [180/391], Loss: 1.2078\n",
      "Batch [210/391], Loss: 0.1211\n",
      "Batch [240/391], Loss: 1.8350\n",
      "Batch [270/391], Loss: 0.1115\n",
      "Batch [300/391], Loss: 1.8292\n",
      "Batch [330/391], Loss: 0.3766\n",
      "Batch [360/391], Loss: -0.8572\n",
      "Batch [390/391], Loss: 1.2213\n",
      "Train set: Epoch: 145, Average loss:0.4851, LR: 0.000160 Top-1 Accuracy: 0.8646, Top-5 Accuracy: 0.9624, SuperClass Accuracy: 0.9104, Time consumed:297.77s\n"
     ]
    },
    {
     "name": "stderr",
     "output_type": "stream",
     "text": [
      " 48%|████▊     | 145/300 [13:15:19<14:02:38, 326.19s/it]"
     ]
    },
    {
     "name": "stdout",
     "output_type": "stream",
     "text": [
      "Test set: Epoch: 145, Average loss:0.0045, Top-1 Accuracy: 0.8426, Top-5 Accuracy: 0.9731, SuperClass Accuracy: 0.9153, Time consumed:28.27s\n",
      "\n",
      "EarlyStopping counter: 4 out of 150\n",
      "Batch [30/391], Loss: -0.4057\n",
      "Batch [60/391], Loss: 0.2345\n",
      "Batch [90/391], Loss: 2.6557\n",
      "Batch [120/391], Loss: 0.0570\n",
      "Batch [150/391], Loss: 0.1108\n",
      "Batch [180/391], Loss: 0.1571\n",
      "Batch [210/391], Loss: 0.0608\n",
      "Batch [240/391], Loss: 0.0410\n",
      "Batch [270/391], Loss: 0.8215\n",
      "Batch [300/391], Loss: 1.7232\n",
      "Batch [330/391], Loss: 0.5837\n",
      "Batch [360/391], Loss: 1.8671\n",
      "Batch [390/391], Loss: 0.2601\n",
      "Train set: Epoch: 146, Average loss:0.4835, LR: 0.000160 Top-1 Accuracy: 0.8721, Top-5 Accuracy: 0.9667, SuperClass Accuracy: 0.9167, Time consumed:298.24s\n"
     ]
    },
    {
     "name": "stderr",
     "output_type": "stream",
     "text": [
      " 49%|████▊     | 146/300 [13:20:45<13:57:19, 326.23s/it]"
     ]
    },
    {
     "name": "stdout",
     "output_type": "stream",
     "text": [
      "Test set: Epoch: 146, Average loss:0.0045, Top-1 Accuracy: 0.8429, Top-5 Accuracy: 0.9730, SuperClass Accuracy: 0.9150, Time consumed:28.08s\n",
      "\n",
      "EarlyStopping counter: 5 out of 150\n",
      "Batch [30/391], Loss: 0.2717\n",
      "Batch [60/391], Loss: -1.1009\n",
      "Batch [90/391], Loss: 0.3387\n",
      "Batch [120/391], Loss: 0.0904\n",
      "Batch [150/391], Loss: 0.7393\n",
      "Batch [180/391], Loss: 0.1047\n",
      "Batch [210/391], Loss: 0.4161\n",
      "Batch [240/391], Loss: 0.0851\n",
      "Batch [270/391], Loss: 0.1876\n",
      "Batch [300/391], Loss: 1.4877\n",
      "Batch [330/391], Loss: 0.0983\n",
      "Batch [360/391], Loss: 0.1345\n",
      "Batch [390/391], Loss: 0.1504\n",
      "Train set: Epoch: 147, Average loss:0.5250, LR: 0.000160 Top-1 Accuracy: 0.8678, Top-5 Accuracy: 0.9650, SuperClass Accuracy: 0.9130, Time consumed:298.07s\n"
     ]
    },
    {
     "name": "stderr",
     "output_type": "stream",
     "text": [
      " 49%|████▉     | 147/300 [13:26:11<13:51:45, 326.18s/it]"
     ]
    },
    {
     "name": "stdout",
     "output_type": "stream",
     "text": [
      "Test set: Epoch: 147, Average loss:0.0045, Top-1 Accuracy: 0.8425, Top-5 Accuracy: 0.9726, SuperClass Accuracy: 0.9141, Time consumed:27.99s\n",
      "\n",
      "EarlyStopping counter: 6 out of 150\n",
      "Batch [30/391], Loss: 1.5996\n",
      "Batch [60/391], Loss: 0.1619\n",
      "Batch [90/391], Loss: 0.9064\n",
      "Batch [120/391], Loss: 1.4315\n",
      "Batch [150/391], Loss: 0.1276\n",
      "Batch [180/391], Loss: 2.8305\n",
      "Batch [210/391], Loss: 0.6669\n",
      "Batch [240/391], Loss: 0.6547\n",
      "Batch [270/391], Loss: 0.1552\n",
      "Batch [300/391], Loss: -0.5916\n",
      "Batch [330/391], Loss: 0.7180\n",
      "Batch [360/391], Loss: 0.0895\n",
      "Batch [390/391], Loss: 0.2158\n",
      "Train set: Epoch: 148, Average loss:0.5694, LR: 0.000160 Top-1 Accuracy: 0.8582, Top-5 Accuracy: 0.9592, SuperClass Accuracy: 0.9052, Time consumed:298.35s\n"
     ]
    },
    {
     "name": "stderr",
     "output_type": "stream",
     "text": [
      " 49%|████▉     | 148/300 [13:31:38<13:46:35, 326.28s/it]"
     ]
    },
    {
     "name": "stdout",
     "output_type": "stream",
     "text": [
      "Test set: Epoch: 148, Average loss:0.0045, Top-1 Accuracy: 0.8424, Top-5 Accuracy: 0.9725, SuperClass Accuracy: 0.9147, Time consumed:28.16s\n",
      "\n",
      "EarlyStopping counter: 7 out of 150\n",
      "Batch [30/391], Loss: 0.5196\n",
      "Batch [60/391], Loss: 1.3722\n",
      "Batch [90/391], Loss: 0.1095\n",
      "Batch [120/391], Loss: 0.1608\n",
      "Batch [150/391], Loss: 1.2145\n",
      "Batch [180/391], Loss: 0.0188\n",
      "Batch [210/391], Loss: 0.0451\n",
      "Batch [240/391], Loss: 0.5495\n",
      "Batch [270/391], Loss: 0.1136\n",
      "Batch [300/391], Loss: 0.9880\n",
      "Batch [330/391], Loss: 0.2522\n",
      "Batch [360/391], Loss: 0.1344\n",
      "Batch [390/391], Loss: 0.4603\n",
      "Train set: Epoch: 149, Average loss:0.4534, LR: 0.000160 Top-1 Accuracy: 0.8725, Top-5 Accuracy: 0.9652, SuperClass Accuracy: 0.9174, Time consumed:298.15s\n"
     ]
    },
    {
     "name": "stderr",
     "output_type": "stream",
     "text": [
      " 50%|████▉     | 149/300 [13:37:04<13:41:10, 326.30s/it]"
     ]
    },
    {
     "name": "stdout",
     "output_type": "stream",
     "text": [
      "Test set: Epoch: 149, Average loss:0.0045, Top-1 Accuracy: 0.8412, Top-5 Accuracy: 0.9720, SuperClass Accuracy: 0.9135, Time consumed:28.17s\n",
      "\n",
      "EarlyStopping counter: 8 out of 150\n",
      "Batch [30/391], Loss: 0.8431\n",
      "Batch [60/391], Loss: -0.6894\n",
      "Batch [90/391], Loss: 0.4515\n",
      "Batch [120/391], Loss: 1.0296\n",
      "Batch [150/391], Loss: 0.2375\n",
      "Batch [180/391], Loss: 0.3647\n",
      "Batch [210/391], Loss: 0.3586\n",
      "Batch [240/391], Loss: 0.1512\n",
      "Batch [270/391], Loss: 0.1724\n",
      "Batch [300/391], Loss: 0.1519\n",
      "Batch [330/391], Loss: 0.8921\n",
      "Batch [360/391], Loss: 0.1219\n",
      "Batch [390/391], Loss: -0.1195\n",
      "Train set: Epoch: 150, Average loss:0.4792, LR: 0.000160 Top-1 Accuracy: 0.8678, Top-5 Accuracy: 0.9635, SuperClass Accuracy: 0.9134, Time consumed:298.30s\n"
     ]
    },
    {
     "name": "stderr",
     "output_type": "stream",
     "text": [
      " 50%|█████     | 150/300 [13:42:31<13:35:55, 326.37s/it]"
     ]
    },
    {
     "name": "stdout",
     "output_type": "stream",
     "text": [
      "Test set: Epoch: 150, Average loss:0.0045, Top-1 Accuracy: 0.8418, Top-5 Accuracy: 0.9725, SuperClass Accuracy: 0.9140, Time consumed:28.23s\n",
      "\n",
      "EarlyStopping counter: 9 out of 150\n",
      "Batch [30/391], Loss: -1.5174\n",
      "Batch [60/391], Loss: 1.1548\n",
      "Batch [90/391], Loss: 2.5378\n",
      "Batch [120/391], Loss: 0.1126\n",
      "Batch [150/391], Loss: 2.0687\n",
      "Batch [180/391], Loss: 0.1140\n",
      "Batch [210/391], Loss: -0.2098\n",
      "Batch [240/391], Loss: 0.6629\n",
      "Batch [270/391], Loss: 0.1790\n",
      "Batch [300/391], Loss: 0.1279\n",
      "Batch [330/391], Loss: 1.3713\n",
      "Batch [360/391], Loss: 0.5851\n",
      "Batch [390/391], Loss: 1.8482\n",
      "Train set: Epoch: 151, Average loss:0.5550, LR: 0.000160 Top-1 Accuracy: 0.8581, Top-5 Accuracy: 0.9587, SuperClass Accuracy: 0.9052, Time consumed:298.06s\n"
     ]
    },
    {
     "name": "stderr",
     "output_type": "stream",
     "text": [
      " 50%|█████     | 151/300 [13:47:57<13:30:26, 326.35s/it]"
     ]
    },
    {
     "name": "stdout",
     "output_type": "stream",
     "text": [
      "Test set: Epoch: 151, Average loss:0.0045, Top-1 Accuracy: 0.8433, Top-5 Accuracy: 0.9723, SuperClass Accuracy: 0.9140, Time consumed:28.24s\n",
      "\n",
      "EarlyStopping counter: 10 out of 150\n",
      "Batch [30/391], Loss: -0.0157\n",
      "Batch [60/391], Loss: 0.5815\n",
      "Batch [90/391], Loss: 0.0515\n",
      "Batch [120/391], Loss: 0.0083\n",
      "Batch [150/391], Loss: 0.0450\n",
      "Batch [180/391], Loss: 1.9666\n",
      "Batch [210/391], Loss: 0.0224\n",
      "Batch [240/391], Loss: 0.0926\n",
      "Batch [270/391], Loss: 0.2401\n",
      "Batch [300/391], Loss: 0.4853\n",
      "Batch [330/391], Loss: 1.2911\n",
      "Batch [360/391], Loss: 0.9927\n",
      "Batch [390/391], Loss: 1.6588\n",
      "Train set: Epoch: 152, Average loss:0.5156, LR: 0.000160 Top-1 Accuracy: 0.8652, Top-5 Accuracy: 0.9634, SuperClass Accuracy: 0.9123, Time consumed:298.07s\n"
     ]
    },
    {
     "name": "stderr",
     "output_type": "stream",
     "text": [
      " 51%|█████     | 152/300 [13:53:23<13:24:55, 326.32s/it]"
     ]
    },
    {
     "name": "stdout",
     "output_type": "stream",
     "text": [
      "Test set: Epoch: 152, Average loss:0.0045, Top-1 Accuracy: 0.8433, Top-5 Accuracy: 0.9728, SuperClass Accuracy: 0.9150, Time consumed:28.19s\n",
      "\n",
      "EarlyStopping counter: 11 out of 150\n",
      "Batch [30/391], Loss: 0.1026\n",
      "Batch [60/391], Loss: 0.2421\n",
      "Batch [90/391], Loss: 0.1371\n",
      "Batch [120/391], Loss: 0.0698\n",
      "Batch [150/391], Loss: 0.1548\n",
      "Batch [180/391], Loss: 0.3022\n",
      "Batch [210/391], Loss: 3.1160\n",
      "Batch [240/391], Loss: 0.0947\n",
      "Batch [270/391], Loss: 1.7713\n",
      "Batch [300/391], Loss: 0.2509\n",
      "Batch [330/391], Loss: 0.1611\n",
      "Batch [360/391], Loss: 0.2843\n",
      "Batch [390/391], Loss: 2.4275\n",
      "Train set: Epoch: 153, Average loss:0.5755, LR: 0.000160 Top-1 Accuracy: 0.8608, Top-5 Accuracy: 0.9616, SuperClass Accuracy: 0.9073, Time consumed:298.32s\n"
     ]
    },
    {
     "name": "stderr",
     "output_type": "stream",
     "text": [
      " 51%|█████     | 153/300 [13:58:50<13:19:36, 326.37s/it]"
     ]
    },
    {
     "name": "stdout",
     "output_type": "stream",
     "text": [
      "Test set: Epoch: 153, Average loss:0.0044, Top-1 Accuracy: 0.8441, Top-5 Accuracy: 0.9721, SuperClass Accuracy: 0.9156, Time consumed:28.16s\n",
      "\n",
      "EarlyStopping counter: 12 out of 150\n",
      "Batch [30/391], Loss: 0.0863\n",
      "Batch [60/391], Loss: 0.1440\n",
      "Batch [90/391], Loss: 0.4231\n",
      "Batch [120/391], Loss: 1.3080\n",
      "Batch [150/391], Loss: 0.9860\n",
      "Batch [180/391], Loss: 0.3453\n",
      "Batch [210/391], Loss: -0.6530\n",
      "Batch [240/391], Loss: 0.2291\n",
      "Batch [270/391], Loss: 0.3203\n",
      "Batch [300/391], Loss: 0.7545\n",
      "Batch [330/391], Loss: 0.2389\n",
      "Batch [360/391], Loss: 0.2484\n",
      "Batch [390/391], Loss: 0.0847\n",
      "Train set: Epoch: 154, Average loss:0.4920, LR: 0.000160 Top-1 Accuracy: 0.8709, Top-5 Accuracy: 0.9664, SuperClass Accuracy: 0.9145, Time consumed:298.06s\n"
     ]
    },
    {
     "name": "stderr",
     "output_type": "stream",
     "text": [
      " 51%|█████▏    | 154/300 [14:04:16<13:14:05, 326.34s/it]"
     ]
    },
    {
     "name": "stdout",
     "output_type": "stream",
     "text": [
      "Test set: Epoch: 154, Average loss:0.0045, Top-1 Accuracy: 0.8442, Top-5 Accuracy: 0.9730, SuperClass Accuracy: 0.9156, Time consumed:28.19s\n",
      "\n",
      "EarlyStopping counter: 13 out of 150\n",
      "Batch [30/391], Loss: 0.1981\n",
      "Batch [60/391], Loss: 0.5128\n",
      "Batch [90/391], Loss: 1.2202\n",
      "Batch [120/391], Loss: 0.1807\n",
      "Batch [150/391], Loss: 0.1600\n",
      "Batch [180/391], Loss: 0.5480\n",
      "Batch [210/391], Loss: 0.1373\n",
      "Batch [240/391], Loss: 0.3737\n",
      "Batch [270/391], Loss: 0.1275\n",
      "Batch [300/391], Loss: 0.1445\n",
      "Batch [330/391], Loss: 0.1274\n",
      "Batch [360/391], Loss: 0.4822\n",
      "Batch [390/391], Loss: 0.1606\n",
      "Train set: Epoch: 155, Average loss:0.5515, LR: 0.000160 Top-1 Accuracy: 0.8588, Top-5 Accuracy: 0.9600, SuperClass Accuracy: 0.9056, Time consumed:298.20s\n"
     ]
    },
    {
     "name": "stderr",
     "output_type": "stream",
     "text": [
      " 52%|█████▏    | 155/300 [14:09:42<13:08:44, 326.38s/it]"
     ]
    },
    {
     "name": "stdout",
     "output_type": "stream",
     "text": [
      "Test set: Epoch: 155, Average loss:0.0044, Top-1 Accuracy: 0.8456, Top-5 Accuracy: 0.9723, SuperClass Accuracy: 0.9166, Time consumed:28.10s\n",
      "\n",
      "saving weights file to runs\\shake_pyramidnet110_270\\savepoints\\Monday_14_October_2024_18h_56m_23s\\shake_pyramidnet110_270-155-best.pth\n",
      "EarlyStopping counter: 14 out of 150\n",
      "Batch [30/391], Loss: 1.4334\n",
      "Batch [60/391], Loss: 0.1342\n",
      "Batch [90/391], Loss: 0.1419\n",
      "Batch [120/391], Loss: 0.2063\n",
      "Batch [150/391], Loss: -0.3679\n",
      "Batch [180/391], Loss: 0.0435\n",
      "Batch [210/391], Loss: 1.0007\n",
      "Batch [240/391], Loss: 0.4494\n",
      "Batch [270/391], Loss: 0.0925\n",
      "Batch [300/391], Loss: 1.6528\n",
      "Batch [330/391], Loss: 0.1283\n",
      "Batch [360/391], Loss: 0.1269\n",
      "Batch [390/391], Loss: 0.2505\n",
      "Train set: Epoch: 156, Average loss:0.5484, LR: 0.000160 Top-1 Accuracy: 0.8599, Top-5 Accuracy: 0.9593, SuperClass Accuracy: 0.9051, Time consumed:298.02s\n"
     ]
    },
    {
     "name": "stderr",
     "output_type": "stream",
     "text": [
      " 52%|█████▏    | 156/300 [14:15:09<13:03:09, 326.32s/it]"
     ]
    },
    {
     "name": "stdout",
     "output_type": "stream",
     "text": [
      "Test set: Epoch: 156, Average loss:0.0045, Top-1 Accuracy: 0.8427, Top-5 Accuracy: 0.9726, SuperClass Accuracy: 0.9134, Time consumed:28.15s\n",
      "\n",
      "EarlyStopping counter: 15 out of 150\n",
      "Batch [30/391], Loss: -0.1670\n",
      "Batch [60/391], Loss: 0.5054\n",
      "Batch [90/391], Loss: 0.1502\n",
      "Batch [120/391], Loss: 0.9437\n",
      "Batch [150/391], Loss: 1.1710\n",
      "Batch [180/391], Loss: 0.1113\n",
      "Batch [210/391], Loss: 0.2139\n",
      "Batch [240/391], Loss: -0.6868\n",
      "Batch [270/391], Loss: 1.7276\n",
      "Batch [300/391], Loss: 1.5167\n",
      "Batch [330/391], Loss: 0.2550\n",
      "Batch [360/391], Loss: 0.2457\n",
      "Batch [390/391], Loss: 0.1555\n",
      "Train set: Epoch: 157, Average loss:0.4943, LR: 0.000160 Top-1 Accuracy: 0.8595, Top-5 Accuracy: 0.9632, SuperClass Accuracy: 0.9093, Time consumed:298.40s\n"
     ]
    },
    {
     "name": "stderr",
     "output_type": "stream",
     "text": [
      " 52%|█████▏    | 157/300 [14:20:35<12:57:52, 326.38s/it]"
     ]
    },
    {
     "name": "stdout",
     "output_type": "stream",
     "text": [
      "Test set: Epoch: 157, Average loss:0.0045, Top-1 Accuracy: 0.8428, Top-5 Accuracy: 0.9723, SuperClass Accuracy: 0.9143, Time consumed:28.12s\n",
      "\n",
      "EarlyStopping counter: 16 out of 150\n",
      "Batch [30/391], Loss: 0.4037\n",
      "Batch [60/391], Loss: 0.1773\n",
      "Batch [90/391], Loss: 0.8099\n",
      "Batch [120/391], Loss: 0.9331\n",
      "Batch [150/391], Loss: 0.2454\n",
      "Batch [180/391], Loss: 0.1050\n",
      "Batch [210/391], Loss: 0.1508\n",
      "Batch [240/391], Loss: 0.1679\n",
      "Batch [270/391], Loss: 0.1538\n",
      "Batch [300/391], Loss: 1.3353\n",
      "Batch [330/391], Loss: 2.1548\n",
      "Batch [360/391], Loss: 0.9767\n",
      "Batch [390/391], Loss: 0.0730\n",
      "Train set: Epoch: 158, Average loss:0.5323, LR: 0.000032 Top-1 Accuracy: 0.8680, Top-5 Accuracy: 0.9617, SuperClass Accuracy: 0.9122, Time consumed:298.13s\n"
     ]
    },
    {
     "name": "stderr",
     "output_type": "stream",
     "text": [
      " 53%|█████▎    | 158/300 [14:26:01<12:52:22, 326.36s/it]"
     ]
    },
    {
     "name": "stdout",
     "output_type": "stream",
     "text": [
      "Test set: Epoch: 158, Average loss:0.0044, Top-1 Accuracy: 0.8449, Top-5 Accuracy: 0.9730, SuperClass Accuracy: 0.9148, Time consumed:28.17s\n",
      "\n",
      "EarlyStopping counter: 17 out of 150\n",
      "Batch [30/391], Loss: 0.3312\n",
      "Batch [60/391], Loss: 0.1171\n",
      "Batch [90/391], Loss: 0.8562\n",
      "Batch [120/391], Loss: 0.4103\n",
      "Batch [150/391], Loss: -0.5680\n",
      "Batch [180/391], Loss: 1.8063\n",
      "Batch [210/391], Loss: -0.1892\n",
      "Batch [240/391], Loss: 0.8211\n",
      "Batch [270/391], Loss: 1.4279\n",
      "Batch [300/391], Loss: 0.9785\n",
      "Batch [330/391], Loss: 0.0586\n",
      "Batch [360/391], Loss: 0.4501\n",
      "Batch [390/391], Loss: 0.1525\n",
      "Train set: Epoch: 159, Average loss:0.5086, LR: 0.000032 Top-1 Accuracy: 0.8760, Top-5 Accuracy: 0.9675, SuperClass Accuracy: 0.9196, Time consumed:298.23s\n"
     ]
    },
    {
     "name": "stderr",
     "output_type": "stream",
     "text": [
      " 53%|█████▎    | 159/300 [14:31:28<12:47:00, 326.39s/it]"
     ]
    },
    {
     "name": "stdout",
     "output_type": "stream",
     "text": [
      "Test set: Epoch: 159, Average loss:0.0045, Top-1 Accuracy: 0.8454, Top-5 Accuracy: 0.9726, SuperClass Accuracy: 0.9154, Time consumed:28.23s\n",
      "\n",
      "EarlyStopping counter: 18 out of 150\n",
      "Batch [30/391], Loss: -0.0353\n",
      "Batch [60/391], Loss: 0.2085\n",
      "Batch [90/391], Loss: 0.6255\n",
      "Batch [120/391], Loss: 0.2387\n",
      "Batch [150/391], Loss: 0.5632\n",
      "Batch [180/391], Loss: 0.2506\n",
      "Batch [210/391], Loss: 0.2541\n",
      "Batch [240/391], Loss: 0.6575\n",
      "Batch [270/391], Loss: 0.0950\n",
      "Batch [300/391], Loss: 0.4346\n",
      "Batch [330/391], Loss: 0.1734\n",
      "Batch [360/391], Loss: 0.1122\n",
      "Batch [390/391], Loss: 0.1045\n",
      "Train set: Epoch: 160, Average loss:0.4276, LR: 0.000032 Top-1 Accuracy: 0.8863, Top-5 Accuracy: 0.9726, SuperClass Accuracy: 0.9276, Time consumed:298.29s\n"
     ]
    },
    {
     "name": "stderr",
     "output_type": "stream",
     "text": [
      " 53%|█████▎    | 160/300 [14:36:54<12:41:40, 326.43s/it]"
     ]
    },
    {
     "name": "stdout",
     "output_type": "stream",
     "text": [
      "Test set: Epoch: 160, Average loss:0.0045, Top-1 Accuracy: 0.8442, Top-5 Accuracy: 0.9736, SuperClass Accuracy: 0.9145, Time consumed:28.24s\n",
      "\n",
      "EarlyStopping counter: 19 out of 150\n",
      "Batch [30/391], Loss: 1.3588\n",
      "Batch [60/391], Loss: -0.0156\n",
      "Batch [90/391], Loss: 0.2263\n",
      "Batch [120/391], Loss: 0.7443\n",
      "Batch [150/391], Loss: 2.4364\n",
      "Batch [180/391], Loss: 1.6405\n",
      "Batch [210/391], Loss: 0.3832\n",
      "Batch [240/391], Loss: 0.1251\n",
      "Batch [270/391], Loss: 0.0036\n",
      "Batch [300/391], Loss: 1.0787\n",
      "Batch [330/391], Loss: 0.9119\n",
      "Batch [360/391], Loss: 1.7177\n",
      "Batch [390/391], Loss: 0.1981\n",
      "Train set: Epoch: 161, Average loss:0.4976, LR: 0.000032 Top-1 Accuracy: 0.8700, Top-5 Accuracy: 0.9658, SuperClass Accuracy: 0.9152, Time consumed:298.23s\n"
     ]
    },
    {
     "name": "stderr",
     "output_type": "stream",
     "text": [
      " 54%|█████▎    | 161/300 [14:42:21<12:36:06, 326.37s/it]"
     ]
    },
    {
     "name": "stdout",
     "output_type": "stream",
     "text": [
      "Test set: Epoch: 161, Average loss:0.0045, Top-1 Accuracy: 0.8453, Top-5 Accuracy: 0.9727, SuperClass Accuracy: 0.9153, Time consumed:28.00s\n",
      "\n",
      "EarlyStopping counter: 20 out of 150\n",
      "Batch [30/391], Loss: -0.5327\n",
      "Batch [60/391], Loss: 0.1349\n",
      "Batch [90/391], Loss: 1.2387\n",
      "Batch [120/391], Loss: -0.3281\n",
      "Batch [150/391], Loss: 0.7147\n",
      "Batch [180/391], Loss: 0.1265\n",
      "Batch [210/391], Loss: 0.4886\n",
      "Batch [240/391], Loss: -0.3924\n",
      "Batch [270/391], Loss: 1.1569\n",
      "Batch [300/391], Loss: 0.9285\n",
      "Batch [330/391], Loss: 0.1403\n",
      "Batch [360/391], Loss: 0.3671\n",
      "Batch [390/391], Loss: -1.2370\n",
      "Train set: Epoch: 162, Average loss:0.4929, LR: 0.000032 Top-1 Accuracy: 0.8676, Top-5 Accuracy: 0.9658, SuperClass Accuracy: 0.9139, Time consumed:297.91s\n"
     ]
    },
    {
     "name": "stderr",
     "output_type": "stream",
     "text": [
      " 54%|█████▍    | 162/300 [14:47:47<12:30:29, 326.30s/it]"
     ]
    },
    {
     "name": "stdout",
     "output_type": "stream",
     "text": [
      "Test set: Epoch: 162, Average loss:0.0045, Top-1 Accuracy: 0.8443, Top-5 Accuracy: 0.9728, SuperClass Accuracy: 0.9151, Time consumed:28.20s\n",
      "\n",
      "EarlyStopping counter: 21 out of 150\n",
      "Batch [30/391], Loss: 1.4755\n",
      "Batch [60/391], Loss: 0.3089\n",
      "Batch [90/391], Loss: 0.1137\n",
      "Batch [120/391], Loss: 1.4427\n",
      "Batch [150/391], Loss: 0.1503\n",
      "Batch [180/391], Loss: 0.2045\n",
      "Batch [210/391], Loss: 0.1051\n",
      "Batch [240/391], Loss: 0.1037\n",
      "Batch [270/391], Loss: 0.0830\n",
      "Batch [300/391], Loss: 2.4783\n",
      "Batch [330/391], Loss: 0.1535\n",
      "Batch [360/391], Loss: 0.3512\n",
      "Batch [390/391], Loss: 0.4344\n",
      "Train set: Epoch: 163, Average loss:0.5320, LR: 0.000032 Top-1 Accuracy: 0.8639, Top-5 Accuracy: 0.9620, SuperClass Accuracy: 0.9092, Time consumed:298.60s\n"
     ]
    },
    {
     "name": "stderr",
     "output_type": "stream",
     "text": [
      " 54%|█████▍    | 163/300 [14:53:14<12:25:27, 326.48s/it]"
     ]
    },
    {
     "name": "stdout",
     "output_type": "stream",
     "text": [
      "Test set: Epoch: 163, Average loss:0.0045, Top-1 Accuracy: 0.8457, Top-5 Accuracy: 0.9723, SuperClass Accuracy: 0.9158, Time consumed:28.13s\n",
      "\n",
      "saving weights file to runs\\shake_pyramidnet110_270\\savepoints\\Monday_14_October_2024_18h_56m_23s\\shake_pyramidnet110_270-163-best.pth\n",
      "EarlyStopping counter: 22 out of 150\n",
      "Batch [30/391], Loss: -0.6158\n",
      "Batch [60/391], Loss: 0.2814\n",
      "Batch [90/391], Loss: 0.2594\n",
      "Batch [120/391], Loss: 0.1853\n",
      "Batch [150/391], Loss: 2.1363\n",
      "Batch [180/391], Loss: 1.1058\n",
      "Batch [210/391], Loss: -0.2923\n",
      "Batch [240/391], Loss: -0.9925\n",
      "Batch [270/391], Loss: 1.2944\n",
      "Batch [300/391], Loss: 3.2581\n",
      "Batch [330/391], Loss: 0.1398\n",
      "Batch [360/391], Loss: 0.9420\n",
      "Batch [390/391], Loss: -0.3712\n",
      "Train set: Epoch: 164, Average loss:0.4970, LR: 0.000032 Top-1 Accuracy: 0.8663, Top-5 Accuracy: 0.9645, SuperClass Accuracy: 0.9114, Time consumed:298.56s\n"
     ]
    },
    {
     "name": "stderr",
     "output_type": "stream",
     "text": [
      " 55%|█████▍    | 164/300 [14:58:40<12:20:12, 326.57s/it]"
     ]
    },
    {
     "name": "stdout",
     "output_type": "stream",
     "text": [
      "Test set: Epoch: 164, Average loss:0.0045, Top-1 Accuracy: 0.8434, Top-5 Accuracy: 0.9720, SuperClass Accuracy: 0.9149, Time consumed:28.20s\n",
      "\n",
      "EarlyStopping counter: 23 out of 150\n",
      "Batch [30/391], Loss: 1.8669\n",
      "Batch [60/391], Loss: 1.1096\n",
      "Batch [90/391], Loss: 0.9602\n",
      "Batch [120/391], Loss: 0.2479\n",
      "Batch [150/391], Loss: 0.0789\n",
      "Batch [180/391], Loss: 2.3832\n",
      "Batch [210/391], Loss: 0.2196\n",
      "Batch [240/391], Loss: 0.1413\n",
      "Batch [270/391], Loss: 0.1106\n",
      "Batch [300/391], Loss: 0.4442\n",
      "Batch [330/391], Loss: 0.4073\n",
      "Batch [360/391], Loss: -1.2394\n",
      "Batch [390/391], Loss: 0.8802\n",
      "Train set: Epoch: 165, Average loss:0.4850, LR: 0.000032 Top-1 Accuracy: 0.8577, Top-5 Accuracy: 0.9613, SuperClass Accuracy: 0.9074, Time consumed:298.68s\n"
     ]
    },
    {
     "name": "stderr",
     "output_type": "stream",
     "text": [
      " 55%|█████▌    | 165/300 [15:04:07<12:14:59, 326.66s/it]"
     ]
    },
    {
     "name": "stdout",
     "output_type": "stream",
     "text": [
      "Test set: Epoch: 165, Average loss:0.0045, Top-1 Accuracy: 0.8423, Top-5 Accuracy: 0.9721, SuperClass Accuracy: 0.9130, Time consumed:28.20s\n",
      "\n",
      "EarlyStopping counter: 24 out of 150\n",
      "Batch [30/391], Loss: 1.6381\n",
      "Batch [60/391], Loss: 0.0816\n",
      "Batch [90/391], Loss: -0.0931\n",
      "Batch [120/391], Loss: -0.2089\n",
      "Batch [150/391], Loss: 1.6413\n",
      "Batch [180/391], Loss: 0.1246\n",
      "Batch [210/391], Loss: 0.9560\n",
      "Batch [240/391], Loss: 0.1863\n",
      "Batch [270/391], Loss: 0.3671\n",
      "Batch [300/391], Loss: 0.1101\n",
      "Batch [330/391], Loss: 1.2888\n",
      "Batch [360/391], Loss: -0.0312\n",
      "Batch [390/391], Loss: -0.2262\n",
      "Train set: Epoch: 166, Average loss:0.4220, LR: 0.000032 Top-1 Accuracy: 0.8855, Top-5 Accuracy: 0.9703, SuperClass Accuracy: 0.9270, Time consumed:298.25s\n"
     ]
    },
    {
     "name": "stderr",
     "output_type": "stream",
     "text": [
      " 55%|█████▌    | 166/300 [15:09:34<12:09:25, 326.60s/it]"
     ]
    },
    {
     "name": "stdout",
     "output_type": "stream",
     "text": [
      "Test set: Epoch: 166, Average loss:0.0044, Top-1 Accuracy: 0.8449, Top-5 Accuracy: 0.9730, SuperClass Accuracy: 0.9153, Time consumed:28.22s\n",
      "\n",
      "EarlyStopping counter: 25 out of 150\n",
      "Batch [30/391], Loss: 0.2119\n",
      "Batch [60/391], Loss: 0.1139\n",
      "Batch [90/391], Loss: 0.3534\n",
      "Batch [120/391], Loss: 0.1412\n",
      "Batch [150/391], Loss: 0.3585\n",
      "Batch [180/391], Loss: 0.2907\n",
      "Batch [210/391], Loss: 0.8227\n",
      "Batch [240/391], Loss: 0.2891\n",
      "Batch [270/391], Loss: -1.2852\n",
      "Batch [300/391], Loss: 0.1396\n",
      "Batch [330/391], Loss: 1.4643\n",
      "Batch [360/391], Loss: 0.1419\n",
      "Batch [390/391], Loss: 1.2448\n",
      "Train set: Epoch: 167, Average loss:0.5151, LR: 0.000032 Top-1 Accuracy: 0.8660, Top-5 Accuracy: 0.9626, SuperClass Accuracy: 0.9111, Time consumed:298.23s\n"
     ]
    },
    {
     "name": "stderr",
     "output_type": "stream",
     "text": [
      " 56%|█████▌    | 167/300 [15:15:00<12:03:52, 326.56s/it]"
     ]
    },
    {
     "name": "stdout",
     "output_type": "stream",
     "text": [
      "Test set: Epoch: 167, Average loss:0.0044, Top-1 Accuracy: 0.8447, Top-5 Accuracy: 0.9726, SuperClass Accuracy: 0.9151, Time consumed:28.21s\n",
      "\n",
      "EarlyStopping counter: 26 out of 150\n",
      "Batch [30/391], Loss: -0.6432\n",
      "Batch [60/391], Loss: 0.0739\n",
      "Batch [90/391], Loss: 0.3144\n",
      "Batch [120/391], Loss: 0.2570\n",
      "Batch [150/391], Loss: 1.2360\n",
      "Batch [180/391], Loss: 0.0653\n",
      "Batch [210/391], Loss: 0.3108\n",
      "Batch [240/391], Loss: 0.1036\n",
      "Batch [270/391], Loss: 1.3077\n",
      "Batch [300/391], Loss: 0.5695\n",
      "Batch [330/391], Loss: 2.0119\n",
      "Batch [360/391], Loss: -0.4504\n",
      "Batch [390/391], Loss: 0.1176\n",
      "Train set: Epoch: 168, Average loss:0.4849, LR: 0.000032 Top-1 Accuracy: 0.8822, Top-5 Accuracy: 0.9700, SuperClass Accuracy: 0.9240, Time consumed:297.88s\n"
     ]
    },
    {
     "name": "stderr",
     "output_type": "stream",
     "text": [
      " 56%|█████▌    | 168/300 [15:20:26<11:58:03, 326.39s/it]"
     ]
    },
    {
     "name": "stdout",
     "output_type": "stream",
     "text": [
      "Test set: Epoch: 168, Average loss:0.0046, Top-1 Accuracy: 0.8437, Top-5 Accuracy: 0.9722, SuperClass Accuracy: 0.9146, Time consumed:28.10s\n",
      "\n",
      "EarlyStopping counter: 27 out of 150\n",
      "Batch [30/391], Loss: 0.7288\n",
      "Batch [60/391], Loss: 0.2847\n",
      "Batch [90/391], Loss: 0.1581\n",
      "Batch [120/391], Loss: 0.0982\n",
      "Batch [150/391], Loss: 0.1454\n",
      "Batch [180/391], Loss: 0.2097\n",
      "Batch [210/391], Loss: 1.7719\n",
      "Batch [240/391], Loss: 3.8009\n",
      "Batch [270/391], Loss: 0.0549\n",
      "Batch [300/391], Loss: 0.5548\n",
      "Batch [330/391], Loss: 0.1432\n",
      "Batch [360/391], Loss: 0.0715\n",
      "Batch [390/391], Loss: 0.2735\n",
      "Train set: Epoch: 169, Average loss:0.4562, LR: 0.000032 Top-1 Accuracy: 0.8787, Top-5 Accuracy: 0.9671, SuperClass Accuracy: 0.9212, Time consumed:297.87s\n"
     ]
    },
    {
     "name": "stderr",
     "output_type": "stream",
     "text": [
      " 56%|█████▋    | 169/300 [15:25:52<11:52:24, 326.30s/it]"
     ]
    },
    {
     "name": "stdout",
     "output_type": "stream",
     "text": [
      "Test set: Epoch: 169, Average loss:0.0045, Top-1 Accuracy: 0.8455, Top-5 Accuracy: 0.9727, SuperClass Accuracy: 0.9157, Time consumed:28.20s\n",
      "\n",
      "EarlyStopping counter: 28 out of 150\n",
      "Batch [30/391], Loss: 1.7894\n",
      "Batch [60/391], Loss: 0.8093\n",
      "Batch [90/391], Loss: 1.3000\n",
      "Batch [120/391], Loss: 0.1371\n",
      "Batch [150/391], Loss: 0.0449\n",
      "Batch [180/391], Loss: 0.2151\n",
      "Batch [210/391], Loss: 1.9040\n",
      "Batch [240/391], Loss: 0.0853\n",
      "Batch [270/391], Loss: 1.6723\n",
      "Batch [300/391], Loss: 4.1477\n",
      "Batch [330/391], Loss: -0.8548\n",
      "Batch [360/391], Loss: -0.3374\n",
      "Batch [390/391], Loss: 0.5275\n",
      "Train set: Epoch: 170, Average loss:0.5903, LR: 0.000032 Top-1 Accuracy: 0.8526, Top-5 Accuracy: 0.9565, SuperClass Accuracy: 0.9010, Time consumed:298.25s\n"
     ]
    },
    {
     "name": "stderr",
     "output_type": "stream",
     "text": [
      " 57%|█████▋    | 170/300 [15:31:19<11:47:05, 326.35s/it]"
     ]
    },
    {
     "name": "stdout",
     "output_type": "stream",
     "text": [
      "Test set: Epoch: 170, Average loss:0.0045, Top-1 Accuracy: 0.8439, Top-5 Accuracy: 0.9728, SuperClass Accuracy: 0.9150, Time consumed:28.21s\n",
      "\n",
      "EarlyStopping counter: 29 out of 150\n",
      "Batch [30/391], Loss: 0.1296\n",
      "Batch [60/391], Loss: 0.6865\n",
      "Batch [90/391], Loss: -0.6385\n",
      "Batch [120/391], Loss: 0.5192\n",
      "Batch [150/391], Loss: -0.2550\n",
      "Batch [180/391], Loss: 0.1191\n",
      "Batch [210/391], Loss: 0.2486\n",
      "Batch [240/391], Loss: 0.8674\n",
      "Batch [270/391], Loss: 0.6591\n",
      "Batch [300/391], Loss: 1.6750\n",
      "Batch [330/391], Loss: 1.6377\n",
      "Batch [360/391], Loss: 0.9656\n",
      "Batch [390/391], Loss: 0.9807\n",
      "Train set: Epoch: 171, Average loss:0.5140, LR: 0.000032 Top-1 Accuracy: 0.8743, Top-5 Accuracy: 0.9665, SuperClass Accuracy: 0.9175, Time consumed:298.31s\n"
     ]
    },
    {
     "name": "stderr",
     "output_type": "stream",
     "text": [
      " 57%|█████▋    | 171/300 [15:36:45<11:41:44, 326.39s/it]"
     ]
    },
    {
     "name": "stdout",
     "output_type": "stream",
     "text": [
      "Test set: Epoch: 171, Average loss:0.0044, Top-1 Accuracy: 0.8435, Top-5 Accuracy: 0.9724, SuperClass Accuracy: 0.9142, Time consumed:28.18s\n",
      "\n",
      "EarlyStopping counter: 30 out of 150\n",
      "Batch [30/391], Loss: 0.4201\n",
      "Batch [60/391], Loss: 0.2583\n",
      "Batch [90/391], Loss: 0.1268\n",
      "Batch [120/391], Loss: -0.2750\n",
      "Batch [150/391], Loss: 0.1458\n",
      "Batch [180/391], Loss: 1.1558\n",
      "Batch [210/391], Loss: 0.1559\n",
      "Batch [240/391], Loss: 0.2073\n",
      "Batch [270/391], Loss: 2.6633\n",
      "Batch [300/391], Loss: 1.2160\n",
      "Batch [330/391], Loss: 0.1005\n",
      "Batch [360/391], Loss: -0.6899\n",
      "Batch [390/391], Loss: -0.6400\n",
      "Train set: Epoch: 172, Average loss:0.5302, LR: 0.000032 Top-1 Accuracy: 0.8693, Top-5 Accuracy: 0.9649, SuperClass Accuracy: 0.9122, Time consumed:298.01s\n"
     ]
    },
    {
     "name": "stderr",
     "output_type": "stream",
     "text": [
      " 57%|█████▋    | 172/300 [15:42:11<11:36:07, 326.31s/it]"
     ]
    },
    {
     "name": "stdout",
     "output_type": "stream",
     "text": [
      "Test set: Epoch: 172, Average loss:0.0045, Top-1 Accuracy: 0.8427, Top-5 Accuracy: 0.9722, SuperClass Accuracy: 0.9146, Time consumed:28.10s\n",
      "\n",
      "EarlyStopping counter: 31 out of 150\n",
      "Batch [30/391], Loss: 0.3538\n",
      "Batch [60/391], Loss: 0.2603\n",
      "Batch [90/391], Loss: 0.2925\n",
      "Batch [120/391], Loss: 0.2914\n",
      "Batch [150/391], Loss: 0.1158\n",
      "Batch [180/391], Loss: 1.3983\n",
      "Batch [210/391], Loss: 0.2792\n",
      "Batch [240/391], Loss: 0.2783\n",
      "Batch [270/391], Loss: 0.1201\n",
      "Batch [300/391], Loss: 0.0884\n",
      "Batch [330/391], Loss: 0.1169\n",
      "Batch [360/391], Loss: 0.0531\n",
      "Batch [390/391], Loss: 1.3927\n",
      "Train set: Epoch: 173, Average loss:0.5434, LR: 0.000032 Top-1 Accuracy: 0.8661, Top-5 Accuracy: 0.9636, SuperClass Accuracy: 0.9111, Time consumed:298.28s\n"
     ]
    },
    {
     "name": "stderr",
     "output_type": "stream",
     "text": [
      " 58%|█████▊    | 173/300 [15:47:38<11:30:49, 326.37s/it]"
     ]
    },
    {
     "name": "stdout",
     "output_type": "stream",
     "text": [
      "Test set: Epoch: 173, Average loss:0.0045, Top-1 Accuracy: 0.8450, Top-5 Accuracy: 0.9726, SuperClass Accuracy: 0.9154, Time consumed:28.22s\n",
      "\n",
      "EarlyStopping counter: 32 out of 150\n",
      "Batch [30/391], Loss: 0.8867\n",
      "Batch [60/391], Loss: 0.1523\n",
      "Batch [90/391], Loss: 0.6052\n",
      "Batch [120/391], Loss: 0.1262\n",
      "Batch [150/391], Loss: 0.4443\n",
      "Batch [180/391], Loss: 1.2061\n",
      "Batch [210/391], Loss: 0.2436\n",
      "Batch [240/391], Loss: 1.1188\n",
      "Batch [270/391], Loss: 1.4755\n",
      "Batch [300/391], Loss: 1.4744\n",
      "Batch [330/391], Loss: 0.1275\n",
      "Batch [360/391], Loss: 2.5349\n",
      "Batch [390/391], Loss: 1.0572\n",
      "Train set: Epoch: 174, Average loss:0.5168, LR: 0.000006 Top-1 Accuracy: 0.8637, Top-5 Accuracy: 0.9635, SuperClass Accuracy: 0.9105, Time consumed:298.72s\n"
     ]
    },
    {
     "name": "stderr",
     "output_type": "stream",
     "text": [
      " 58%|█████▊    | 174/300 [15:53:05<11:25:41, 326.52s/it]"
     ]
    },
    {
     "name": "stdout",
     "output_type": "stream",
     "text": [
      "Test set: Epoch: 174, Average loss:0.0044, Top-1 Accuracy: 0.8436, Top-5 Accuracy: 0.9722, SuperClass Accuracy: 0.9155, Time consumed:28.14s\n",
      "\n",
      "EarlyStopping counter: 33 out of 150\n",
      "Batch [30/391], Loss: 0.0177\n",
      "Batch [60/391], Loss: 0.8853\n",
      "Batch [90/391], Loss: 1.7639\n",
      "Batch [120/391], Loss: 0.1773\n",
      "Batch [150/391], Loss: 0.8561\n",
      "Batch [180/391], Loss: 0.2455\n",
      "Batch [210/391], Loss: 0.1821\n",
      "Batch [240/391], Loss: 0.2010\n",
      "Batch [270/391], Loss: 0.1919\n",
      "Batch [300/391], Loss: -0.6396\n",
      "Batch [330/391], Loss: 1.8733\n",
      "Batch [360/391], Loss: 0.1999\n",
      "Batch [390/391], Loss: 0.1677\n",
      "Train set: Epoch: 175, Average loss:0.5132, LR: 0.000006 Top-1 Accuracy: 0.8601, Top-5 Accuracy: 0.9624, SuperClass Accuracy: 0.9087, Time consumed:298.26s\n"
     ]
    },
    {
     "name": "stderr",
     "output_type": "stream",
     "text": [
      " 58%|█████▊    | 175/300 [15:58:31<11:20:08, 326.47s/it]"
     ]
    },
    {
     "name": "stdout",
     "output_type": "stream",
     "text": [
      "Test set: Epoch: 175, Average loss:0.0045, Top-1 Accuracy: 0.8456, Top-5 Accuracy: 0.9731, SuperClass Accuracy: 0.9161, Time consumed:28.07s\n",
      "\n",
      "EarlyStopping counter: 34 out of 150\n",
      "Batch [30/391], Loss: 1.8944\n",
      "Batch [60/391], Loss: 0.4266\n",
      "Batch [90/391], Loss: 0.1666\n",
      "Batch [120/391], Loss: -0.4921\n",
      "Batch [150/391], Loss: 1.0245\n",
      "Batch [180/391], Loss: 1.9916\n",
      "Batch [210/391], Loss: 0.0184\n",
      "Batch [240/391], Loss: -0.0536\n",
      "Batch [270/391], Loss: 2.4048\n",
      "Batch [300/391], Loss: 0.2182\n",
      "Batch [330/391], Loss: -0.0257\n",
      "Batch [360/391], Loss: 0.1466\n",
      "Batch [390/391], Loss: 0.6427\n",
      "Train set: Epoch: 176, Average loss:0.4426, LR: 0.000006 Top-1 Accuracy: 0.8707, Top-5 Accuracy: 0.9646, SuperClass Accuracy: 0.9148, Time consumed:298.10s\n"
     ]
    },
    {
     "name": "stderr",
     "output_type": "stream",
     "text": [
      " 59%|█████▊    | 176/300 [16:03:58<11:14:42, 326.48s/it]"
     ]
    },
    {
     "name": "stdout",
     "output_type": "stream",
     "text": [
      "Test set: Epoch: 176, Average loss:0.0045, Top-1 Accuracy: 0.8458, Top-5 Accuracy: 0.9732, SuperClass Accuracy: 0.9168, Time consumed:28.25s\n",
      "\n",
      "saving weights file to runs\\shake_pyramidnet110_270\\savepoints\\Monday_14_October_2024_18h_56m_23s\\shake_pyramidnet110_270-176-best.pth\n",
      "EarlyStopping counter: 35 out of 150\n",
      "Batch [30/391], Loss: 1.8280\n",
      "Batch [60/391], Loss: 0.1222\n",
      "Batch [90/391], Loss: 0.1355\n",
      "Batch [120/391], Loss: -0.3308\n",
      "Batch [150/391], Loss: 1.2634\n",
      "Batch [180/391], Loss: -1.0805\n",
      "Batch [210/391], Loss: 1.9953\n",
      "Batch [240/391], Loss: 0.3626\n",
      "Batch [270/391], Loss: 0.3862\n",
      "Batch [300/391], Loss: 0.0439\n",
      "Batch [330/391], Loss: 2.9790\n",
      "Batch [360/391], Loss: 0.1905\n",
      "Batch [390/391], Loss: 0.5948\n",
      "Train set: Epoch: 177, Average loss:0.5128, LR: 0.000006 Top-1 Accuracy: 0.8672, Top-5 Accuracy: 0.9660, SuperClass Accuracy: 0.9123, Time consumed:298.02s\n"
     ]
    },
    {
     "name": "stderr",
     "output_type": "stream",
     "text": [
      " 59%|█████▉    | 177/300 [16:09:24<11:09:09, 326.42s/it]"
     ]
    },
    {
     "name": "stdout",
     "output_type": "stream",
     "text": [
      "Test set: Epoch: 177, Average loss:0.0045, Top-1 Accuracy: 0.8448, Top-5 Accuracy: 0.9730, SuperClass Accuracy: 0.9155, Time consumed:28.26s\n",
      "\n",
      "EarlyStopping counter: 36 out of 150\n",
      "Batch [30/391], Loss: 0.1387\n",
      "Batch [60/391], Loss: 0.1918\n",
      "Batch [90/391], Loss: -0.2554\n",
      "Batch [120/391], Loss: 0.2723\n",
      "Batch [150/391], Loss: -1.2170\n",
      "Batch [180/391], Loss: 0.0665\n",
      "Batch [210/391], Loss: 0.2093\n",
      "Batch [240/391], Loss: 0.9960\n",
      "Batch [270/391], Loss: 0.0701\n",
      "Batch [300/391], Loss: 0.2611\n",
      "Batch [330/391], Loss: -0.0927\n",
      "Batch [360/391], Loss: 2.2028\n",
      "Batch [390/391], Loss: 0.2798\n",
      "Train set: Epoch: 178, Average loss:0.5027, LR: 0.000006 Top-1 Accuracy: 0.8655, Top-5 Accuracy: 0.9615, SuperClass Accuracy: 0.9104, Time consumed:297.98s\n"
     ]
    },
    {
     "name": "stderr",
     "output_type": "stream",
     "text": [
      " 59%|█████▉    | 178/300 [16:14:50<11:03:33, 326.34s/it]"
     ]
    },
    {
     "name": "stdout",
     "output_type": "stream",
     "text": [
      "Test set: Epoch: 178, Average loss:0.0045, Top-1 Accuracy: 0.8451, Top-5 Accuracy: 0.9728, SuperClass Accuracy: 0.9153, Time consumed:28.18s\n",
      "\n",
      "EarlyStopping counter: 37 out of 150\n",
      "Batch [30/391], Loss: 0.0728\n",
      "Batch [60/391], Loss: 1.6847\n",
      "Batch [90/391], Loss: 1.5885\n",
      "Batch [120/391], Loss: 0.9606\n",
      "Batch [150/391], Loss: 0.5155\n",
      "Batch [180/391], Loss: 0.8450\n",
      "Batch [210/391], Loss: 0.0947\n",
      "Batch [240/391], Loss: 0.2880\n",
      "Batch [270/391], Loss: 1.3045\n",
      "Batch [300/391], Loss: 0.0995\n",
      "Batch [330/391], Loss: 0.1497\n",
      "Batch [360/391], Loss: 2.5104\n",
      "Batch [390/391], Loss: 0.0824\n",
      "Train set: Epoch: 179, Average loss:0.4756, LR: 0.000006 Top-1 Accuracy: 0.8675, Top-5 Accuracy: 0.9632, SuperClass Accuracy: 0.9118, Time consumed:301.52s\n"
     ]
    },
    {
     "name": "stderr",
     "output_type": "stream",
     "text": [
      " 60%|█████▉    | 179/300 [16:20:20<11:00:22, 327.46s/it]"
     ]
    },
    {
     "name": "stdout",
     "output_type": "stream",
     "text": [
      "Test set: Epoch: 179, Average loss:0.0044, Top-1 Accuracy: 0.8442, Top-5 Accuracy: 0.9732, SuperClass Accuracy: 0.9149, Time consumed:28.54s\n",
      "\n",
      "EarlyStopping counter: 38 out of 150\n",
      "Batch [30/391], Loss: 0.3027\n",
      "Batch [60/391], Loss: 0.1880\n",
      "Batch [90/391], Loss: 0.1355\n",
      "Batch [120/391], Loss: 0.3248\n",
      "Batch [150/391], Loss: 0.1971\n",
      "Batch [180/391], Loss: 0.6706\n",
      "Batch [210/391], Loss: 1.5200\n",
      "Batch [240/391], Loss: 0.2842\n",
      "Batch [270/391], Loss: 0.3171\n",
      "Batch [300/391], Loss: 0.1549\n",
      "Batch [330/391], Loss: 0.4202\n",
      "Batch [360/391], Loss: 1.3764\n",
      "Batch [390/391], Loss: 1.1855\n",
      "Train set: Epoch: 180, Average loss:0.5283, LR: 0.000006 Top-1 Accuracy: 0.8709, Top-5 Accuracy: 0.9647, SuperClass Accuracy: 0.9164, Time consumed:302.84s\n"
     ]
    },
    {
     "name": "stderr",
     "output_type": "stream",
     "text": [
      " 60%|██████    | 180/300 [16:25:52<10:57:20, 328.67s/it]"
     ]
    },
    {
     "name": "stdout",
     "output_type": "stream",
     "text": [
      "Test set: Epoch: 180, Average loss:0.0045, Top-1 Accuracy: 0.8452, Top-5 Accuracy: 0.9728, SuperClass Accuracy: 0.9151, Time consumed:28.65s\n",
      "\n",
      "EarlyStopping counter: 39 out of 150\n",
      "Batch [30/391], Loss: 0.4064\n",
      "Batch [60/391], Loss: 1.3346\n",
      "Batch [90/391], Loss: 0.2776\n",
      "Batch [120/391], Loss: 1.8416\n",
      "Batch [150/391], Loss: 0.0698\n",
      "Batch [180/391], Loss: 0.1048\n",
      "Batch [210/391], Loss: 0.1232\n",
      "Batch [240/391], Loss: 0.0968\n",
      "Batch [270/391], Loss: 1.3070\n",
      "Batch [300/391], Loss: 1.4323\n",
      "Batch [330/391], Loss: 0.1660\n",
      "Batch [360/391], Loss: 0.1958\n",
      "Batch [390/391], Loss: 0.0740\n",
      "Train set: Epoch: 181, Average loss:0.5401, LR: 0.000006 Top-1 Accuracy: 0.8663, Top-5 Accuracy: 0.9600, SuperClass Accuracy: 0.9104, Time consumed:302.37s\n"
     ]
    },
    {
     "name": "stderr",
     "output_type": "stream",
     "text": [
      " 60%|██████    | 181/300 [16:31:23<10:53:20, 329.41s/it]"
     ]
    },
    {
     "name": "stdout",
     "output_type": "stream",
     "text": [
      "Test set: Epoch: 181, Average loss:0.0044, Top-1 Accuracy: 0.8441, Top-5 Accuracy: 0.9730, SuperClass Accuracy: 0.9145, Time consumed:28.76s\n",
      "\n",
      "EarlyStopping counter: 40 out of 150\n",
      "Batch [30/391], Loss: 0.2564\n",
      "Batch [60/391], Loss: 1.6029\n",
      "Batch [90/391], Loss: 0.0815\n",
      "Batch [120/391], Loss: 0.1372\n",
      "Batch [150/391], Loss: 0.1297\n",
      "Batch [180/391], Loss: 0.8393\n",
      "Batch [210/391], Loss: 0.0924\n",
      "Batch [240/391], Loss: 0.0908\n",
      "Batch [270/391], Loss: 0.0984\n",
      "Batch [300/391], Loss: 0.8517\n",
      "Batch [330/391], Loss: 1.8151\n",
      "Batch [360/391], Loss: 0.0889\n",
      "Batch [390/391], Loss: 0.0645\n",
      "Train set: Epoch: 182, Average loss:0.5470, LR: 0.000006 Top-1 Accuracy: 0.8640, Top-5 Accuracy: 0.9618, SuperClass Accuracy: 0.9107, Time consumed:302.43s\n"
     ]
    },
    {
     "name": "stderr",
     "output_type": "stream",
     "text": [
      " 61%|██████    | 182/300 [16:36:54<10:48:49, 329.91s/it]"
     ]
    },
    {
     "name": "stdout",
     "output_type": "stream",
     "text": [
      "Test set: Epoch: 182, Average loss:0.0045, Top-1 Accuracy: 0.8455, Top-5 Accuracy: 0.9729, SuperClass Accuracy: 0.9155, Time consumed:28.64s\n",
      "\n",
      "EarlyStopping counter: 41 out of 150\n",
      "Batch [30/391], Loss: -0.3805\n",
      "Batch [60/391], Loss: 1.1584\n",
      "Batch [90/391], Loss: 0.0972\n",
      "Batch [120/391], Loss: 0.2839\n",
      "Batch [150/391], Loss: 0.0442\n",
      "Batch [180/391], Loss: 1.4597\n",
      "Batch [210/391], Loss: 0.1246\n",
      "Batch [240/391], Loss: 0.3691\n",
      "Batch [270/391], Loss: 0.0696\n",
      "Batch [300/391], Loss: 0.1216\n",
      "Batch [330/391], Loss: -0.7898\n",
      "Batch [360/391], Loss: 0.1852\n",
      "Batch [390/391], Loss: 0.0885\n",
      "Train set: Epoch: 183, Average loss:0.4603, LR: 0.000006 Top-1 Accuracy: 0.8790, Top-5 Accuracy: 0.9684, SuperClass Accuracy: 0.9225, Time consumed:302.53s\n"
     ]
    },
    {
     "name": "stderr",
     "output_type": "stream",
     "text": [
      " 61%|██████    | 183/300 [16:42:25<10:44:00, 330.26s/it]"
     ]
    },
    {
     "name": "stdout",
     "output_type": "stream",
     "text": [
      "Test set: Epoch: 183, Average loss:0.0045, Top-1 Accuracy: 0.8438, Top-5 Accuracy: 0.9739, SuperClass Accuracy: 0.9146, Time consumed:28.52s\n",
      "\n",
      "EarlyStopping counter: 42 out of 150\n",
      "Batch [30/391], Loss: 0.1011\n",
      "Batch [60/391], Loss: 0.3094\n",
      "Batch [90/391], Loss: 1.4953\n",
      "Batch [120/391], Loss: -0.3474\n",
      "Batch [150/391], Loss: 1.7812\n",
      "Batch [180/391], Loss: 0.1427\n",
      "Batch [210/391], Loss: 0.2507\n",
      "Batch [240/391], Loss: 0.9196\n",
      "Batch [270/391], Loss: -0.2563\n",
      "Batch [300/391], Loss: 1.5355\n",
      "Batch [330/391], Loss: 1.0409\n",
      "Batch [360/391], Loss: 0.2170\n",
      "Batch [390/391], Loss: 0.0981\n",
      "Train set: Epoch: 184, Average loss:0.4953, LR: 0.000006 Top-1 Accuracy: 0.8588, Top-5 Accuracy: 0.9612, SuperClass Accuracy: 0.9060, Time consumed:302.34s\n"
     ]
    },
    {
     "name": "stderr",
     "output_type": "stream",
     "text": [
      " 61%|██████▏   | 184/300 [16:47:56<10:38:53, 330.46s/it]"
     ]
    },
    {
     "name": "stdout",
     "output_type": "stream",
     "text": [
      "Test set: Epoch: 184, Average loss:0.0045, Top-1 Accuracy: 0.8433, Top-5 Accuracy: 0.9728, SuperClass Accuracy: 0.9141, Time consumed:28.59s\n",
      "\n",
      "EarlyStopping counter: 43 out of 150\n",
      "Batch [30/391], Loss: 0.1132\n",
      "Batch [60/391], Loss: 0.3914\n",
      "Batch [90/391], Loss: 1.4106\n",
      "Batch [120/391], Loss: 0.0870\n",
      "Batch [150/391], Loss: 0.1293\n",
      "Batch [180/391], Loss: 0.5647\n",
      "Batch [210/391], Loss: -0.0529\n",
      "Batch [240/391], Loss: -0.4115\n",
      "Batch [270/391], Loss: 1.7343\n",
      "Batch [300/391], Loss: 0.1049\n",
      "Batch [330/391], Loss: 0.0732\n",
      "Batch [360/391], Loss: -0.5608\n",
      "Batch [390/391], Loss: 0.0590\n",
      "Train set: Epoch: 185, Average loss:0.4610, LR: 0.000006 Top-1 Accuracy: 0.8807, Top-5 Accuracy: 0.9689, SuperClass Accuracy: 0.9225, Time consumed:302.40s\n"
     ]
    },
    {
     "name": "stderr",
     "output_type": "stream",
     "text": [
      " 62%|██████▏   | 185/300 [16:53:27<10:33:45, 330.65s/it]"
     ]
    },
    {
     "name": "stdout",
     "output_type": "stream",
     "text": [
      "Test set: Epoch: 185, Average loss:0.0045, Top-1 Accuracy: 0.8450, Top-5 Accuracy: 0.9730, SuperClass Accuracy: 0.9154, Time consumed:28.70s\n",
      "\n",
      "EarlyStopping counter: 44 out of 150\n",
      "Batch [30/391], Loss: 0.1035\n",
      "Batch [60/391], Loss: 0.5104\n",
      "Batch [90/391], Loss: 0.3309\n",
      "Batch [120/391], Loss: 1.3156\n",
      "Batch [150/391], Loss: 0.1754\n",
      "Batch [180/391], Loss: 0.1525\n",
      "Batch [210/391], Loss: 0.9995\n",
      "Batch [240/391], Loss: 0.2475\n",
      "Batch [270/391], Loss: 0.4818\n",
      "Batch [300/391], Loss: -0.1124\n",
      "Batch [330/391], Loss: 0.5304\n",
      "Batch [360/391], Loss: 0.9996\n",
      "Batch [390/391], Loss: 1.1730\n",
      "Train set: Epoch: 186, Average loss:0.5234, LR: 0.000006 Top-1 Accuracy: 0.8677, Top-5 Accuracy: 0.9624, SuperClass Accuracy: 0.9126, Time consumed:302.46s\n"
     ]
    },
    {
     "name": "stderr",
     "output_type": "stream",
     "text": [
      " 62%|██████▏   | 186/300 [16:58:58<10:28:29, 330.79s/it]"
     ]
    },
    {
     "name": "stdout",
     "output_type": "stream",
     "text": [
      "Test set: Epoch: 186, Average loss:0.0045, Top-1 Accuracy: 0.8450, Top-5 Accuracy: 0.9732, SuperClass Accuracy: 0.9155, Time consumed:28.63s\n",
      "\n",
      "EarlyStopping counter: 45 out of 150\n",
      "Batch [30/391], Loss: 0.1289\n",
      "Batch [60/391], Loss: 0.3774\n",
      "Batch [90/391], Loss: 1.1910\n",
      "Batch [120/391], Loss: 1.4582\n",
      "Batch [150/391], Loss: 2.3143\n",
      "Batch [180/391], Loss: 0.1689\n",
      "Batch [210/391], Loss: 0.0703\n",
      "Batch [240/391], Loss: 0.6499\n",
      "Batch [270/391], Loss: 1.7555\n",
      "Batch [300/391], Loss: 1.8735\n",
      "Batch [330/391], Loss: 0.3716\n",
      "Batch [360/391], Loss: 0.0860\n",
      "Batch [390/391], Loss: 1.0218\n",
      "Train set: Epoch: 187, Average loss:0.4844, LR: 0.000006 Top-1 Accuracy: 0.8634, Top-5 Accuracy: 0.9628, SuperClass Accuracy: 0.9092, Time consumed:303.39s\n"
     ]
    },
    {
     "name": "stderr",
     "output_type": "stream",
     "text": [
      " 62%|██████▏   | 187/300 [17:04:31<10:23:56, 331.30s/it]"
     ]
    },
    {
     "name": "stdout",
     "output_type": "stream",
     "text": [
      "Test set: Epoch: 187, Average loss:0.0045, Top-1 Accuracy: 0.8441, Top-5 Accuracy: 0.9719, SuperClass Accuracy: 0.9151, Time consumed:29.10s\n",
      "\n",
      "EarlyStopping counter: 46 out of 150\n",
      "Batch [30/391], Loss: 0.4080\n",
      "Batch [60/391], Loss: 0.1528\n",
      "Batch [90/391], Loss: 0.1685\n",
      "Batch [120/391], Loss: 0.1249\n",
      "Batch [150/391], Loss: 0.1886\n",
      "Batch [180/391], Loss: 1.3049\n",
      "Batch [210/391], Loss: 0.2708\n",
      "Batch [240/391], Loss: 0.8540\n",
      "Batch [270/391], Loss: 0.2454\n",
      "Batch [300/391], Loss: 0.0412\n",
      "Batch [330/391], Loss: 0.7881\n",
      "Batch [360/391], Loss: 0.0827\n",
      "Batch [390/391], Loss: 2.0164\n",
      "Train set: Epoch: 188, Average loss:0.5143, LR: 0.000006 Top-1 Accuracy: 0.8655, Top-5 Accuracy: 0.9649, SuperClass Accuracy: 0.9124, Time consumed:304.30s\n"
     ]
    },
    {
     "name": "stderr",
     "output_type": "stream",
     "text": [
      " 63%|██████▎   | 188/300 [17:10:04<10:19:40, 331.97s/it]"
     ]
    },
    {
     "name": "stdout",
     "output_type": "stream",
     "text": [
      "Test set: Epoch: 188, Average loss:0.0044, Top-1 Accuracy: 0.8451, Top-5 Accuracy: 0.9728, SuperClass Accuracy: 0.9150, Time consumed:29.22s\n",
      "\n",
      "EarlyStopping counter: 47 out of 150\n",
      "Batch [30/391], Loss: 0.1904\n",
      "Batch [60/391], Loss: 1.6312\n",
      "Batch [90/391], Loss: 0.1300\n",
      "Batch [120/391], Loss: 0.2107\n",
      "Batch [150/391], Loss: 0.2048\n",
      "Batch [180/391], Loss: 0.3056\n",
      "Batch [210/391], Loss: 0.2642\n",
      "Batch [240/391], Loss: -0.5791\n",
      "Batch [270/391], Loss: 1.3612\n",
      "Batch [300/391], Loss: 1.3757\n",
      "Batch [330/391], Loss: 0.1953\n",
      "Batch [360/391], Loss: 1.4338\n",
      "Batch [390/391], Loss: 0.0938\n",
      "Train set: Epoch: 189, Average loss:0.4534, LR: 0.000006 Top-1 Accuracy: 0.8747, Top-5 Accuracy: 0.9666, SuperClass Accuracy: 0.9168, Time consumed:306.31s\n"
     ]
    },
    {
     "name": "stderr",
     "output_type": "stream",
     "text": [
      " 63%|██████▎   | 189/300 [17:15:40<10:16:06, 333.03s/it]"
     ]
    },
    {
     "name": "stdout",
     "output_type": "stream",
     "text": [
      "Test set: Epoch: 189, Average loss:0.0044, Top-1 Accuracy: 0.8455, Top-5 Accuracy: 0.9733, SuperClass Accuracy: 0.9157, Time consumed:29.20s\n",
      "\n",
      "EarlyStopping counter: 48 out of 150\n",
      "Batch [30/391], Loss: 0.0865\n",
      "Batch [60/391], Loss: 0.0174\n",
      "Batch [90/391], Loss: 0.2299\n",
      "Batch [120/391], Loss: 1.0024\n",
      "Batch [150/391], Loss: 1.1193\n",
      "Batch [180/391], Loss: 0.4001\n",
      "Batch [210/391], Loss: 1.5579\n",
      "Batch [240/391], Loss: 0.3000\n",
      "Batch [270/391], Loss: 0.1542\n",
      "Batch [300/391], Loss: 0.2081\n",
      "Batch [330/391], Loss: 2.4026\n",
      "Batch [360/391], Loss: 0.2062\n",
      "Batch [390/391], Loss: 0.1908\n",
      "Train set: Epoch: 190, Average loss:0.4900, LR: 0.000001 Top-1 Accuracy: 0.8720, Top-5 Accuracy: 0.9642, SuperClass Accuracy: 0.9144, Time consumed:306.25s\n"
     ]
    },
    {
     "name": "stderr",
     "output_type": "stream",
     "text": [
      " 63%|██████▎   | 190/300 [17:21:15<10:11:40, 333.64s/it]"
     ]
    },
    {
     "name": "stdout",
     "output_type": "stream",
     "text": [
      "Test set: Epoch: 190, Average loss:0.0045, Top-1 Accuracy: 0.8439, Top-5 Accuracy: 0.9729, SuperClass Accuracy: 0.9139, Time consumed:28.80s\n",
      "\n",
      "EarlyStopping counter: 49 out of 150\n",
      "Batch [30/391], Loss: 1.2765\n",
      "Batch [60/391], Loss: 0.8631\n",
      "Batch [90/391], Loss: 0.4081\n",
      "Batch [120/391], Loss: 1.8104\n",
      "Batch [150/391], Loss: 1.4079\n",
      "Batch [180/391], Loss: 0.4927\n",
      "Batch [210/391], Loss: 1.8725\n",
      "Batch [240/391], Loss: 0.2133\n",
      "Batch [270/391], Loss: 1.7280\n",
      "Batch [300/391], Loss: 0.1348\n",
      "Batch [330/391], Loss: 0.2380\n",
      "Batch [360/391], Loss: 0.1416\n",
      "Batch [390/391], Loss: 1.2863\n",
      "Train set: Epoch: 191, Average loss:0.5395, LR: 0.000001 Top-1 Accuracy: 0.8563, Top-5 Accuracy: 0.9579, SuperClass Accuracy: 0.9041, Time consumed:298.40s\n"
     ]
    },
    {
     "name": "stderr",
     "output_type": "stream",
     "text": [
      " 64%|██████▎   | 191/300 [17:26:41<10:02:17, 331.54s/it]"
     ]
    },
    {
     "name": "stdout",
     "output_type": "stream",
     "text": [
      "Test set: Epoch: 191, Average loss:0.0044, Top-1 Accuracy: 0.8443, Top-5 Accuracy: 0.9727, SuperClass Accuracy: 0.9147, Time consumed:28.24s\n",
      "\n",
      "Batch [30/391], Loss: 0.2225\n",
      "Batch [60/391], Loss: 0.0940\n",
      "Batch [90/391], Loss: 0.1917\n",
      "Batch [120/391], Loss: 0.0734\n",
      "Batch [150/391], Loss: 2.4413\n",
      "Batch [180/391], Loss: 0.1373\n",
      "Batch [210/391], Loss: 0.8801\n",
      "Batch [240/391], Loss: 0.1019\n",
      "Batch [270/391], Loss: 0.0849\n",
      "Batch [300/391], Loss: 0.0992\n",
      "Batch [330/391], Loss: 0.5332\n",
      "Batch [360/391], Loss: 0.6356\n",
      "Batch [390/391], Loss: 0.1491\n",
      "Train set: Epoch: 192, Average loss:0.4656, LR: 0.000001 Top-1 Accuracy: 0.8761, Top-5 Accuracy: 0.9677, SuperClass Accuracy: 0.9194, Time consumed:297.54s\n"
     ]
    },
    {
     "name": "stderr",
     "output_type": "stream",
     "text": [
      " 64%|██████▍   | 192/300 [17:32:07<9:53:35, 329.77s/it] "
     ]
    },
    {
     "name": "stdout",
     "output_type": "stream",
     "text": [
      "Test set: Epoch: 192, Average loss:0.0044, Top-1 Accuracy: 0.8457, Top-5 Accuracy: 0.9726, SuperClass Accuracy: 0.9156, Time consumed:28.10s\n",
      "\n",
      "EarlyStopping counter: 1 out of 150\n",
      "Batch [30/391], Loss: 0.1197\n",
      "Batch [60/391], Loss: 0.2428\n",
      "Batch [90/391], Loss: 0.2175\n",
      "Batch [120/391], Loss: 0.1367\n",
      "Batch [150/391], Loss: 2.1143\n",
      "Batch [180/391], Loss: 0.2257\n",
      "Batch [210/391], Loss: -0.3474\n",
      "Batch [240/391], Loss: 2.1159\n",
      "Batch [270/391], Loss: 0.1963\n",
      "Batch [300/391], Loss: 0.0546\n",
      "Batch [330/391], Loss: 1.4918\n",
      "Batch [360/391], Loss: 0.1228\n",
      "Batch [390/391], Loss: 0.7610\n",
      "Train set: Epoch: 193, Average loss:0.4895, LR: 0.000001 Top-1 Accuracy: 0.8766, Top-5 Accuracy: 0.9663, SuperClass Accuracy: 0.9191, Time consumed:297.84s\n"
     ]
    },
    {
     "name": "stderr",
     "output_type": "stream",
     "text": [
      " 64%|██████▍   | 193/300 [17:37:33<9:46:08, 328.68s/it]"
     ]
    },
    {
     "name": "stdout",
     "output_type": "stream",
     "text": [
      "Test set: Epoch: 193, Average loss:0.0045, Top-1 Accuracy: 0.8455, Top-5 Accuracy: 0.9734, SuperClass Accuracy: 0.9154, Time consumed:28.28s\n",
      "\n",
      "EarlyStopping counter: 2 out of 150\n",
      "Batch [30/391], Loss: 0.1040\n",
      "Batch [60/391], Loss: 0.1225\n",
      "Batch [90/391], Loss: 0.1191\n",
      "Batch [120/391], Loss: 0.4909\n",
      "Batch [150/391], Loss: 0.1064\n",
      "Batch [180/391], Loss: 2.4256\n",
      "Batch [210/391], Loss: 0.9702\n",
      "Batch [240/391], Loss: 0.0707\n",
      "Batch [270/391], Loss: 0.0996\n",
      "Batch [300/391], Loss: 0.1022\n",
      "Batch [330/391], Loss: -0.8692\n",
      "Batch [360/391], Loss: 0.1597\n",
      "Batch [390/391], Loss: 0.1618\n",
      "Train set: Epoch: 194, Average loss:0.4928, LR: 0.000001 Top-1 Accuracy: 0.8661, Top-5 Accuracy: 0.9627, SuperClass Accuracy: 0.9125, Time consumed:297.81s\n"
     ]
    },
    {
     "name": "stderr",
     "output_type": "stream",
     "text": [
      " 65%|██████▍   | 194/300 [17:42:59<9:39:15, 327.88s/it]"
     ]
    },
    {
     "name": "stdout",
     "output_type": "stream",
     "text": [
      "Test set: Epoch: 194, Average loss:0.0045, Top-1 Accuracy: 0.8465, Top-5 Accuracy: 0.9737, SuperClass Accuracy: 0.9159, Time consumed:28.07s\n",
      "\n",
      "saving weights file to runs\\shake_pyramidnet110_270\\savepoints\\Monday_14_October_2024_18h_56m_23s\\shake_pyramidnet110_270-194-best.pth\n",
      "EarlyStopping counter: 3 out of 150\n",
      "Batch [30/391], Loss: 1.1625\n",
      "Batch [60/391], Loss: 0.6799\n",
      "Batch [90/391], Loss: 0.1014\n",
      "Batch [120/391], Loss: 0.1434\n",
      "Batch [150/391], Loss: -1.0576\n",
      "Batch [180/391], Loss: 0.0286\n",
      "Batch [210/391], Loss: 0.0653\n",
      "Batch [240/391], Loss: 0.1951\n",
      "Batch [270/391], Loss: 0.0587\n",
      "Batch [300/391], Loss: 0.2675\n",
      "Batch [330/391], Loss: 0.0766\n",
      "Batch [360/391], Loss: 1.7643\n",
      "Batch [390/391], Loss: 1.5857\n",
      "Train set: Epoch: 195, Average loss:0.5064, LR: 0.000001 Top-1 Accuracy: 0.8559, Top-5 Accuracy: 0.9563, SuperClass Accuracy: 0.9029, Time consumed:297.68s\n"
     ]
    },
    {
     "name": "stderr",
     "output_type": "stream",
     "text": [
      " 65%|██████▌   | 195/300 [17:48:25<9:32:40, 327.24s/it]"
     ]
    },
    {
     "name": "stdout",
     "output_type": "stream",
     "text": [
      "Test set: Epoch: 195, Average loss:0.0045, Top-1 Accuracy: 0.8446, Top-5 Accuracy: 0.9726, SuperClass Accuracy: 0.9148, Time consumed:28.05s\n",
      "\n",
      "EarlyStopping counter: 4 out of 150\n",
      "Batch [30/391], Loss: 0.2948\n",
      "Batch [60/391], Loss: 0.1673\n",
      "Batch [90/391], Loss: 0.6487\n",
      "Batch [120/391], Loss: -1.1818\n",
      "Batch [150/391], Loss: 1.3076\n",
      "Batch [180/391], Loss: 0.6292\n",
      "Batch [210/391], Loss: 0.1775\n",
      "Batch [240/391], Loss: 0.1799\n",
      "Batch [270/391], Loss: 0.1358\n",
      "Batch [300/391], Loss: 0.8665\n",
      "Batch [330/391], Loss: 0.0985\n",
      "Batch [360/391], Loss: 0.3362\n",
      "Batch [390/391], Loss: 0.0981\n",
      "Train set: Epoch: 196, Average loss:0.4591, LR: 0.000001 Top-1 Accuracy: 0.8779, Top-5 Accuracy: 0.9713, SuperClass Accuracy: 0.9218, Time consumed:298.10s\n"
     ]
    },
    {
     "name": "stderr",
     "output_type": "stream",
     "text": [
      " 65%|██████▌   | 196/300 [17:53:51<9:26:45, 326.98s/it]"
     ]
    },
    {
     "name": "stdout",
     "output_type": "stream",
     "text": [
      "Test set: Epoch: 196, Average loss:0.0045, Top-1 Accuracy: 0.8427, Top-5 Accuracy: 0.9729, SuperClass Accuracy: 0.9140, Time consumed:28.26s\n",
      "\n",
      "EarlyStopping counter: 5 out of 150\n",
      "Batch [30/391], Loss: 0.0642\n",
      "Batch [60/391], Loss: 0.0522\n",
      "Batch [90/391], Loss: 1.9130\n",
      "Batch [120/391], Loss: 0.1778\n",
      "Batch [150/391], Loss: 0.0005\n",
      "Batch [180/391], Loss: 0.2084\n",
      "Batch [210/391], Loss: 0.9310\n",
      "Batch [240/391], Loss: 0.1906\n",
      "Batch [270/391], Loss: 0.0822\n",
      "Batch [300/391], Loss: -0.8474\n",
      "Batch [330/391], Loss: 0.5649\n",
      "Batch [360/391], Loss: 0.1924\n",
      "Batch [390/391], Loss: 0.6031\n",
      "Train set: Epoch: 197, Average loss:0.5093, LR: 0.000001 Top-1 Accuracy: 0.8673, Top-5 Accuracy: 0.9645, SuperClass Accuracy: 0.9115, Time consumed:298.12s\n"
     ]
    },
    {
     "name": "stderr",
     "output_type": "stream",
     "text": [
      " 66%|██████▌   | 197/300 [17:59:17<9:20:56, 326.76s/it]"
     ]
    },
    {
     "name": "stdout",
     "output_type": "stream",
     "text": [
      "Test set: Epoch: 197, Average loss:0.0045, Top-1 Accuracy: 0.8445, Top-5 Accuracy: 0.9736, SuperClass Accuracy: 0.9152, Time consumed:28.12s\n",
      "\n",
      "EarlyStopping counter: 6 out of 150\n",
      "Batch [30/391], Loss: 0.5089\n",
      "Batch [60/391], Loss: 0.7785\n",
      "Batch [90/391], Loss: 0.1312\n",
      "Batch [120/391], Loss: 2.1483\n",
      "Batch [150/391], Loss: 0.2067\n",
      "Batch [180/391], Loss: 1.1099\n",
      "Batch [210/391], Loss: 1.3869\n",
      "Batch [240/391], Loss: 0.7563\n",
      "Batch [270/391], Loss: 0.2122\n",
      "Batch [300/391], Loss: 0.0964\n",
      "Batch [330/391], Loss: 1.4880\n",
      "Batch [360/391], Loss: 0.2704\n",
      "Batch [390/391], Loss: 0.2386\n",
      "Train set: Epoch: 198, Average loss:0.5611, LR: 0.000001 Top-1 Accuracy: 0.8606, Top-5 Accuracy: 0.9605, SuperClass Accuracy: 0.9076, Time consumed:298.06s\n"
     ]
    },
    {
     "name": "stderr",
     "output_type": "stream",
     "text": [
      " 66%|██████▌   | 198/300 [18:04:44<9:15:15, 326.62s/it]"
     ]
    },
    {
     "name": "stdout",
     "output_type": "stream",
     "text": [
      "Test set: Epoch: 198, Average loss:0.0045, Top-1 Accuracy: 0.8459, Top-5 Accuracy: 0.9730, SuperClass Accuracy: 0.9159, Time consumed:28.25s\n",
      "\n",
      "EarlyStopping counter: 7 out of 150\n",
      "Batch [30/391], Loss: 1.1107\n",
      "Batch [60/391], Loss: 1.9586\n",
      "Batch [90/391], Loss: 2.0122\n",
      "Batch [120/391], Loss: 0.0876\n",
      "Batch [150/391], Loss: 0.2279\n",
      "Batch [180/391], Loss: 1.4822\n",
      "Batch [210/391], Loss: 0.1251\n",
      "Batch [240/391], Loss: 0.1725\n",
      "Batch [270/391], Loss: 0.5372\n",
      "Batch [300/391], Loss: 0.7251\n",
      "Batch [330/391], Loss: 1.6441\n",
      "Batch [360/391], Loss: 0.9779\n",
      "Batch [390/391], Loss: 1.6552\n",
      "Train set: Epoch: 199, Average loss:0.5261, LR: 0.000001 Top-1 Accuracy: 0.8658, Top-5 Accuracy: 0.9647, SuperClass Accuracy: 0.9130, Time consumed:298.14s\n"
     ]
    },
    {
     "name": "stderr",
     "output_type": "stream",
     "text": [
      " 66%|██████▋   | 199/300 [18:10:10<9:09:39, 326.53s/it]"
     ]
    },
    {
     "name": "stdout",
     "output_type": "stream",
     "text": [
      "Test set: Epoch: 199, Average loss:0.0045, Top-1 Accuracy: 0.8439, Top-5 Accuracy: 0.9721, SuperClass Accuracy: 0.9144, Time consumed:28.18s\n",
      "\n",
      "EarlyStopping counter: 8 out of 150\n",
      "Batch [30/391], Loss: 0.1872\n",
      "Batch [60/391], Loss: 2.6109\n",
      "Batch [90/391], Loss: 1.3963\n",
      "Batch [120/391], Loss: 1.3174\n",
      "Batch [150/391], Loss: 0.1400\n",
      "Batch [180/391], Loss: 0.3473\n",
      "Batch [210/391], Loss: 0.1769\n",
      "Batch [240/391], Loss: 1.4547\n",
      "Batch [270/391], Loss: 1.8596\n",
      "Batch [300/391], Loss: 1.8074\n",
      "Batch [330/391], Loss: 0.1029\n",
      "Batch [360/391], Loss: 0.0690\n",
      "Batch [390/391], Loss: 0.3487\n",
      "Train set: Epoch: 200, Average loss:0.4641, LR: 0.000001 Top-1 Accuracy: 0.8785, Top-5 Accuracy: 0.9704, SuperClass Accuracy: 0.9211, Time consumed:304.21s\n"
     ]
    },
    {
     "name": "stderr",
     "output_type": "stream",
     "text": [
      " 67%|██████▋   | 200/300 [18:15:43<9:07:27, 328.47s/it]"
     ]
    },
    {
     "name": "stdout",
     "output_type": "stream",
     "text": [
      "Test set: Epoch: 200, Average loss:0.0045, Top-1 Accuracy: 0.8434, Top-5 Accuracy: 0.9724, SuperClass Accuracy: 0.9148, Time consumed:28.77s\n",
      "\n",
      "EarlyStopping counter: 9 out of 150\n",
      "Batch [30/391], Loss: 0.0659\n",
      "Batch [60/391], Loss: 1.3735\n",
      "Batch [90/391], Loss: -0.5550\n",
      "Batch [120/391], Loss: 0.1370\n",
      "Batch [150/391], Loss: 0.4054\n",
      "Batch [180/391], Loss: 1.4205\n",
      "Batch [210/391], Loss: 0.2819\n",
      "Batch [240/391], Loss: 0.9773\n",
      "Batch [270/391], Loss: 0.6830\n",
      "Batch [300/391], Loss: 0.1243\n",
      "Batch [330/391], Loss: 0.1002\n",
      "Batch [360/391], Loss: 1.6927\n",
      "Batch [390/391], Loss: 1.2356\n",
      "Train set: Epoch: 201, Average loss:0.5155, LR: 0.000001 Top-1 Accuracy: 0.8687, Top-5 Accuracy: 0.9644, SuperClass Accuracy: 0.9147, Time consumed:304.17s\n"
     ]
    },
    {
     "name": "stderr",
     "output_type": "stream",
     "text": [
      " 67%|██████▋   | 201/300 [18:21:16<9:04:17, 329.87s/it]"
     ]
    },
    {
     "name": "stdout",
     "output_type": "stream",
     "text": [
      "Test set: Epoch: 201, Average loss:0.0045, Top-1 Accuracy: 0.8437, Top-5 Accuracy: 0.9721, SuperClass Accuracy: 0.9145, Time consumed:28.95s\n",
      "\n",
      "EarlyStopping counter: 10 out of 150\n",
      "Batch [30/391], Loss: 0.7331\n",
      "Batch [60/391], Loss: -0.1881\n",
      "Batch [90/391], Loss: 2.5398\n",
      "Batch [120/391], Loss: 0.1342\n",
      "Batch [150/391], Loss: 1.2616\n",
      "Batch [180/391], Loss: 0.2113\n",
      "Batch [210/391], Loss: 1.3201\n",
      "Batch [240/391], Loss: 0.0926\n",
      "Batch [270/391], Loss: 2.3074\n",
      "Batch [300/391], Loss: 0.8530\n",
      "Batch [330/391], Loss: 0.1541\n",
      "Batch [360/391], Loss: -0.1907\n",
      "Batch [390/391], Loss: 0.1427\n",
      "Train set: Epoch: 202, Average loss:0.5328, LR: 0.000001 Top-1 Accuracy: 0.8684, Top-5 Accuracy: 0.9646, SuperClass Accuracy: 0.9131, Time consumed:303.46s\n"
     ]
    },
    {
     "name": "stderr",
     "output_type": "stream",
     "text": [
      " 67%|██████▋   | 202/300 [18:26:48<8:59:56, 330.57s/it]"
     ]
    },
    {
     "name": "stdout",
     "output_type": "stream",
     "text": [
      "Test set: Epoch: 202, Average loss:0.0044, Top-1 Accuracy: 0.8444, Top-5 Accuracy: 0.9729, SuperClass Accuracy: 0.9160, Time consumed:28.75s\n",
      "\n",
      "EarlyStopping counter: 11 out of 150\n",
      "Batch [30/391], Loss: -1.5120\n",
      "Batch [60/391], Loss: 0.1580\n",
      "Batch [90/391], Loss: 0.1062\n",
      "Batch [120/391], Loss: 0.9297\n",
      "Batch [150/391], Loss: 0.1694\n",
      "Batch [180/391], Loss: 0.1687\n",
      "Batch [210/391], Loss: 0.1873\n",
      "Batch [240/391], Loss: 1.0032\n",
      "Batch [270/391], Loss: 0.0756\n",
      "Batch [300/391], Loss: 0.1105\n",
      "Batch [330/391], Loss: 1.4067\n",
      "Batch [360/391], Loss: 0.1343\n",
      "Batch [390/391], Loss: 2.3450\n",
      "Train set: Epoch: 203, Average loss:0.5272, LR: 0.000001 Top-1 Accuracy: 0.8647, Top-5 Accuracy: 0.9597, SuperClass Accuracy: 0.9093, Time consumed:303.29s\n"
     ]
    },
    {
     "name": "stderr",
     "output_type": "stream",
     "text": [
      " 68%|██████▊   | 203/300 [18:32:20<8:55:06, 331.00s/it]"
     ]
    },
    {
     "name": "stdout",
     "output_type": "stream",
     "text": [
      "Test set: Epoch: 203, Average loss:0.0045, Top-1 Accuracy: 0.8448, Top-5 Accuracy: 0.9721, SuperClass Accuracy: 0.9161, Time consumed:28.68s\n",
      "\n",
      "EarlyStopping counter: 12 out of 150\n",
      "Batch [30/391], Loss: 0.2098\n",
      "Batch [60/391], Loss: 2.0507\n",
      "Batch [90/391], Loss: 0.1072\n",
      "Batch [120/391], Loss: 0.2109\n",
      "Batch [150/391], Loss: 2.9284\n",
      "Batch [180/391], Loss: 1.4839\n",
      "Batch [210/391], Loss: 1.3659\n",
      "Batch [240/391], Loss: 1.7055\n",
      "Batch [270/391], Loss: 0.1513\n",
      "Batch [300/391], Loss: 0.1834\n",
      "Batch [330/391], Loss: 0.1382\n",
      "Batch [360/391], Loss: 0.2550\n",
      "Batch [390/391], Loss: 0.5455\n",
      "Train set: Epoch: 204, Average loss:0.5571, LR: 0.000001 Top-1 Accuracy: 0.8605, Top-5 Accuracy: 0.9608, SuperClass Accuracy: 0.9081, Time consumed:303.32s\n"
     ]
    },
    {
     "name": "stderr",
     "output_type": "stream",
     "text": [
      " 68%|██████▊   | 204/300 [18:37:53<8:50:06, 331.32s/it]"
     ]
    },
    {
     "name": "stdout",
     "output_type": "stream",
     "text": [
      "Test set: Epoch: 204, Average loss:0.0044, Top-1 Accuracy: 0.8431, Top-5 Accuracy: 0.9727, SuperClass Accuracy: 0.9144, Time consumed:28.74s\n",
      "\n",
      "EarlyStopping counter: 13 out of 150\n",
      "Batch [30/391], Loss: 0.0961\n",
      "Batch [60/391], Loss: 0.5566\n",
      "Batch [90/391], Loss: 1.9798\n",
      "Batch [120/391], Loss: 0.1861\n",
      "Batch [150/391], Loss: 0.5344\n",
      "Batch [180/391], Loss: 0.1747\n",
      "Batch [210/391], Loss: 0.0921\n",
      "Batch [240/391], Loss: 1.3267\n",
      "Batch [270/391], Loss: 0.0707\n",
      "Batch [300/391], Loss: 1.5039\n",
      "Batch [330/391], Loss: 1.2304\n",
      "Batch [360/391], Loss: 0.1451\n",
      "Batch [390/391], Loss: -0.1655\n",
      "Train set: Epoch: 205, Average loss:0.5437, LR: 0.000001 Top-1 Accuracy: 0.8750, Top-5 Accuracy: 0.9661, SuperClass Accuracy: 0.9186, Time consumed:303.70s\n"
     ]
    },
    {
     "name": "stderr",
     "output_type": "stream",
     "text": [
      " 68%|██████▊   | 205/300 [18:43:25<8:45:09, 331.67s/it]"
     ]
    },
    {
     "name": "stdout",
     "output_type": "stream",
     "text": [
      "Test set: Epoch: 205, Average loss:0.0044, Top-1 Accuracy: 0.8444, Top-5 Accuracy: 0.9733, SuperClass Accuracy: 0.9147, Time consumed:28.80s\n",
      "\n",
      "EarlyStopping counter: 14 out of 150\n",
      "Batch [30/391], Loss: 0.2876\n",
      "Batch [60/391], Loss: 0.0612\n",
      "Batch [90/391], Loss: 1.8226\n",
      "Batch [120/391], Loss: 0.6054\n",
      "Batch [150/391], Loss: 0.0855\n",
      "Batch [180/391], Loss: 0.9698\n",
      "Batch [210/391], Loss: 1.7791\n",
      "Batch [240/391], Loss: 0.3627\n",
      "Batch [270/391], Loss: 0.1734\n",
      "Batch [300/391], Loss: 0.1828\n",
      "Batch [330/391], Loss: 0.2057\n",
      "Batch [360/391], Loss: 0.5985\n",
      "Batch [390/391], Loss: 0.0879\n",
      "Train set: Epoch: 206, Average loss:0.4736, LR: 0.000001 Top-1 Accuracy: 0.8794, Top-5 Accuracy: 0.9687, SuperClass Accuracy: 0.9210, Time consumed:303.88s\n"
     ]
    },
    {
     "name": "stderr",
     "output_type": "stream",
     "text": [
      " 69%|██████▊   | 206/300 [18:48:58<8:40:06, 331.98s/it]"
     ]
    },
    {
     "name": "stdout",
     "output_type": "stream",
     "text": [
      "Test set: Epoch: 206, Average loss:0.0045, Top-1 Accuracy: 0.8451, Top-5 Accuracy: 0.9728, SuperClass Accuracy: 0.9154, Time consumed:28.82s\n",
      "\n",
      "EarlyStopping counter: 15 out of 150\n",
      "Batch [30/391], Loss: 1.2476\n",
      "Batch [60/391], Loss: 0.0763\n",
      "Batch [90/391], Loss: 0.1055\n",
      "Batch [120/391], Loss: 0.6995\n",
      "Batch [150/391], Loss: 0.2737\n",
      "Batch [180/391], Loss: 0.4670\n",
      "Batch [210/391], Loss: 1.2423\n",
      "Batch [240/391], Loss: 0.0805\n",
      "Batch [270/391], Loss: 0.0768\n",
      "Batch [300/391], Loss: 0.1438\n",
      "Batch [330/391], Loss: 0.1965\n",
      "Batch [360/391], Loss: 0.2247\n",
      "Batch [390/391], Loss: 0.2752\n",
      "Train set: Epoch: 207, Average loss:0.4525, LR: 0.000001 Top-1 Accuracy: 0.8786, Top-5 Accuracy: 0.9702, SuperClass Accuracy: 0.9221, Time consumed:303.24s\n"
     ]
    },
    {
     "name": "stderr",
     "output_type": "stream",
     "text": [
      " 69%|██████▉   | 207/300 [18:54:30<8:34:32, 331.97s/it]"
     ]
    },
    {
     "name": "stdout",
     "output_type": "stream",
     "text": [
      "Test set: Epoch: 207, Average loss:0.0045, Top-1 Accuracy: 0.8457, Top-5 Accuracy: 0.9717, SuperClass Accuracy: 0.9152, Time consumed:28.69s\n",
      "\n",
      "EarlyStopping counter: 16 out of 150\n",
      "Batch [30/391], Loss: 0.1840\n",
      "Batch [60/391], Loss: -0.0222\n",
      "Batch [90/391], Loss: 0.1406\n",
      "Batch [120/391], Loss: 0.3662\n",
      "Batch [150/391], Loss: -0.0575\n",
      "Batch [180/391], Loss: -0.1264\n",
      "Batch [210/391], Loss: 0.1200\n",
      "Batch [240/391], Loss: 0.0487\n",
      "Batch [270/391], Loss: 1.4290\n",
      "Batch [300/391], Loss: 0.3352\n",
      "Batch [330/391], Loss: 0.1169\n",
      "Batch [360/391], Loss: 2.1449\n",
      "Batch [390/391], Loss: 0.6519\n",
      "Train set: Epoch: 208, Average loss:0.5098, LR: 0.000000 Top-1 Accuracy: 0.8620, Top-5 Accuracy: 0.9612, SuperClass Accuracy: 0.9098, Time consumed:303.56s\n"
     ]
    },
    {
     "name": "stderr",
     "output_type": "stream",
     "text": [
      " 69%|██████▉   | 208/300 [19:00:02<8:29:14, 332.11s/it]"
     ]
    },
    {
     "name": "stdout",
     "output_type": "stream",
     "text": [
      "Test set: Epoch: 208, Average loss:0.0045, Top-1 Accuracy: 0.8476, Top-5 Accuracy: 0.9731, SuperClass Accuracy: 0.9166, Time consumed:28.73s\n",
      "\n",
      "saving weights file to runs\\shake_pyramidnet110_270\\savepoints\\Monday_14_October_2024_18h_56m_23s\\shake_pyramidnet110_270-208-best.pth\n",
      "EarlyStopping counter: 17 out of 150\n",
      "Batch [30/391], Loss: 1.0084\n",
      "Batch [60/391], Loss: 0.1618\n",
      "Batch [90/391], Loss: 0.3597\n",
      "Batch [120/391], Loss: 0.1707\n",
      "Batch [150/391], Loss: 0.1030\n",
      "Batch [180/391], Loss: 2.2413\n",
      "Batch [210/391], Loss: -0.5831\n",
      "Batch [240/391], Loss: 0.2780\n",
      "Batch [270/391], Loss: 0.5752\n",
      "Batch [300/391], Loss: -0.4329\n",
      "Batch [330/391], Loss: 0.2828\n",
      "Batch [360/391], Loss: 0.4237\n",
      "Batch [390/391], Loss: 0.1782\n",
      "Train set: Epoch: 209, Average loss:0.4367, LR: 0.000000 Top-1 Accuracy: 0.8745, Top-5 Accuracy: 0.9671, SuperClass Accuracy: 0.9192, Time consumed:303.36s\n"
     ]
    },
    {
     "name": "stderr",
     "output_type": "stream",
     "text": [
      " 70%|██████▉   | 209/300 [19:05:34<8:23:42, 332.11s/it]"
     ]
    },
    {
     "name": "stdout",
     "output_type": "stream",
     "text": [
      "Test set: Epoch: 209, Average loss:0.0044, Top-1 Accuracy: 0.8444, Top-5 Accuracy: 0.9726, SuperClass Accuracy: 0.9161, Time consumed:28.75s\n",
      "\n",
      "EarlyStopping counter: 18 out of 150\n",
      "Batch [30/391], Loss: 0.0878\n",
      "Batch [60/391], Loss: 0.1464\n",
      "Batch [90/391], Loss: 0.2064\n",
      "Batch [120/391], Loss: 0.2592\n",
      "Batch [150/391], Loss: 0.2164\n",
      "Batch [180/391], Loss: 0.2107\n",
      "Batch [210/391], Loss: 0.8227\n",
      "Batch [240/391], Loss: 0.6734\n",
      "Batch [270/391], Loss: 1.9391\n",
      "Batch [300/391], Loss: 0.2200\n",
      "Batch [330/391], Loss: 0.0344\n",
      "Batch [360/391], Loss: 0.2379\n",
      "Batch [390/391], Loss: 0.1856\n",
      "Train set: Epoch: 210, Average loss:0.4613, LR: 0.000000 Top-1 Accuracy: 0.8736, Top-5 Accuracy: 0.9668, SuperClass Accuracy: 0.9188, Time consumed:303.46s\n"
     ]
    },
    {
     "name": "stderr",
     "output_type": "stream",
     "text": [
      " 70%|███████   | 210/300 [19:11:07<8:18:18, 332.21s/it]"
     ]
    },
    {
     "name": "stdout",
     "output_type": "stream",
     "text": [
      "Test set: Epoch: 210, Average loss:0.0045, Top-1 Accuracy: 0.8477, Top-5 Accuracy: 0.9728, SuperClass Accuracy: 0.9172, Time consumed:28.82s\n",
      "\n",
      "saving weights file to runs\\shake_pyramidnet110_270\\savepoints\\Monday_14_October_2024_18h_56m_23s\\shake_pyramidnet110_270-210-best.pth\n",
      "EarlyStopping counter: 19 out of 150\n",
      "Batch [30/391], Loss: 0.2635\n",
      "Batch [60/391], Loss: 1.4449\n",
      "Batch [90/391], Loss: 0.1343\n",
      "Batch [120/391], Loss: 2.0029\n",
      "Batch [150/391], Loss: -0.6110\n",
      "Batch [180/391], Loss: 0.1131\n",
      "Batch [210/391], Loss: 0.3768\n",
      "Batch [240/391], Loss: -0.5628\n",
      "Batch [270/391], Loss: 0.1931\n",
      "Batch [300/391], Loss: 0.1047\n",
      "Batch [330/391], Loss: 0.1041\n",
      "Batch [360/391], Loss: 0.3738\n",
      "Batch [390/391], Loss: 0.1171\n",
      "Train set: Epoch: 211, Average loss:0.5431, LR: 0.000000 Top-1 Accuracy: 0.8655, Top-5 Accuracy: 0.9627, SuperClass Accuracy: 0.9108, Time consumed:303.32s\n"
     ]
    },
    {
     "name": "stderr",
     "output_type": "stream",
     "text": [
      " 70%|███████   | 211/300 [19:16:39<8:12:39, 332.13s/it]"
     ]
    },
    {
     "name": "stdout",
     "output_type": "stream",
     "text": [
      "Test set: Epoch: 211, Average loss:0.0045, Top-1 Accuracy: 0.8456, Top-5 Accuracy: 0.9726, SuperClass Accuracy: 0.9150, Time consumed:28.62s\n",
      "\n",
      "EarlyStopping counter: 20 out of 150\n",
      "Batch [30/391], Loss: -0.0844\n",
      "Batch [60/391], Loss: -0.9450\n",
      "Batch [90/391], Loss: -1.0520\n",
      "Batch [120/391], Loss: 0.3272\n",
      "Batch [150/391], Loss: 0.9125\n",
      "Batch [180/391], Loss: 2.0029\n",
      "Batch [210/391], Loss: 0.1181\n",
      "Batch [240/391], Loss: 1.6493\n",
      "Batch [270/391], Loss: 1.3460\n",
      "Batch [300/391], Loss: -0.6280\n",
      "Batch [330/391], Loss: 0.6982\n",
      "Batch [360/391], Loss: 0.9566\n",
      "Batch [390/391], Loss: 0.1601\n",
      "Train set: Epoch: 212, Average loss:0.5370, LR: 0.000000 Top-1 Accuracy: 0.8620, Top-5 Accuracy: 0.9595, SuperClass Accuracy: 0.9073, Time consumed:301.39s\n"
     ]
    },
    {
     "name": "stderr",
     "output_type": "stream",
     "text": [
      " 71%|███████   | 212/300 [19:22:08<8:06:00, 331.37s/it]"
     ]
    },
    {
     "name": "stdout",
     "output_type": "stream",
     "text": [
      "Test set: Epoch: 212, Average loss:0.0045, Top-1 Accuracy: 0.8447, Top-5 Accuracy: 0.9730, SuperClass Accuracy: 0.9154, Time consumed:28.19s\n",
      "\n",
      "EarlyStopping counter: 21 out of 150\n",
      "Batch [30/391], Loss: 0.0885\n",
      "Batch [60/391], Loss: 1.5394\n",
      "Batch [90/391], Loss: 0.0892\n",
      "Batch [120/391], Loss: 0.6776\n",
      "Batch [150/391], Loss: 0.0854\n",
      "Batch [180/391], Loss: 0.1220\n",
      "Batch [210/391], Loss: 0.5070\n",
      "Batch [240/391], Loss: 0.3143\n",
      "Batch [270/391], Loss: 1.0998\n",
      "Batch [300/391], Loss: 0.9175\n",
      "Batch [330/391], Loss: -0.2722\n",
      "Batch [360/391], Loss: 0.3155\n",
      "Batch [390/391], Loss: 0.4361\n",
      "Train set: Epoch: 213, Average loss:0.4496, LR: 0.000000 Top-1 Accuracy: 0.8745, Top-5 Accuracy: 0.9677, SuperClass Accuracy: 0.9191, Time consumed:297.76s\n"
     ]
    },
    {
     "name": "stderr",
     "output_type": "stream",
     "text": [
      " 71%|███████   | 213/300 [19:27:34<7:58:05, 329.72s/it]"
     ]
    },
    {
     "name": "stdout",
     "output_type": "stream",
     "text": [
      "Test set: Epoch: 213, Average loss:0.0045, Top-1 Accuracy: 0.8450, Top-5 Accuracy: 0.9722, SuperClass Accuracy: 0.9152, Time consumed:28.12s\n",
      "\n",
      "EarlyStopping counter: 22 out of 150\n",
      "Batch [30/391], Loss: 0.0601\n",
      "Batch [60/391], Loss: 0.1200\n",
      "Batch [90/391], Loss: 2.3054\n",
      "Batch [120/391], Loss: 0.4789\n",
      "Batch [150/391], Loss: 0.2080\n",
      "Batch [180/391], Loss: 2.3222\n",
      "Batch [210/391], Loss: 0.2720\n",
      "Batch [240/391], Loss: 0.1953\n",
      "Batch [270/391], Loss: 0.8732\n",
      "Batch [300/391], Loss: 0.0766\n",
      "Batch [330/391], Loss: 0.1250\n",
      "Batch [360/391], Loss: 0.3536\n",
      "Batch [390/391], Loss: 0.3853\n",
      "Train set: Epoch: 214, Average loss:0.4879, LR: 0.000000 Top-1 Accuracy: 0.8761, Top-5 Accuracy: 0.9684, SuperClass Accuracy: 0.9191, Time consumed:297.59s\n"
     ]
    },
    {
     "name": "stderr",
     "output_type": "stream",
     "text": [
      " 71%|███████▏  | 214/300 [19:33:00<7:50:52, 328.51s/it]"
     ]
    },
    {
     "name": "stdout",
     "output_type": "stream",
     "text": [
      "Test set: Epoch: 214, Average loss:0.0044, Top-1 Accuracy: 0.8455, Top-5 Accuracy: 0.9726, SuperClass Accuracy: 0.9164, Time consumed:28.10s\n",
      "\n",
      "EarlyStopping counter: 23 out of 150\n",
      "Batch [30/391], Loss: 3.1443\n",
      "Batch [60/391], Loss: 0.0687\n",
      "Batch [90/391], Loss: -0.0148\n",
      "Batch [120/391], Loss: 1.0721\n",
      "Batch [150/391], Loss: 0.1265\n",
      "Batch [180/391], Loss: 0.0855\n",
      "Batch [210/391], Loss: 0.0793\n",
      "Batch [240/391], Loss: 2.2773\n",
      "Batch [270/391], Loss: 0.1908\n",
      "Batch [300/391], Loss: 2.1697\n",
      "Batch [330/391], Loss: 0.0555\n",
      "Batch [360/391], Loss: 0.0849\n",
      "Batch [390/391], Loss: 0.9861\n",
      "Train set: Epoch: 215, Average loss:0.4869, LR: 0.000000 Top-1 Accuracy: 0.8783, Top-5 Accuracy: 0.9676, SuperClass Accuracy: 0.9209, Time consumed:297.51s\n"
     ]
    },
    {
     "name": "stderr",
     "output_type": "stream",
     "text": [
      " 72%|███████▏  | 215/300 [19:38:25<7:44:07, 327.62s/it]"
     ]
    },
    {
     "name": "stdout",
     "output_type": "stream",
     "text": [
      "Test set: Epoch: 215, Average loss:0.0045, Top-1 Accuracy: 0.8456, Top-5 Accuracy: 0.9730, SuperClass Accuracy: 0.9152, Time consumed:28.01s\n",
      "\n",
      "EarlyStopping counter: 24 out of 150\n",
      "Batch [30/391], Loss: 2.3917\n",
      "Batch [60/391], Loss: -0.6567\n",
      "Batch [90/391], Loss: 0.0716\n",
      "Batch [120/391], Loss: 1.4463\n",
      "Batch [150/391], Loss: 0.0815\n",
      "Batch [180/391], Loss: 0.1388\n",
      "Batch [210/391], Loss: 1.3327\n",
      "Batch [240/391], Loss: 1.0446\n",
      "Batch [270/391], Loss: 0.8717\n",
      "Batch [300/391], Loss: 0.1458\n",
      "Batch [330/391], Loss: 0.6270\n",
      "Batch [360/391], Loss: 0.4716\n",
      "Batch [390/391], Loss: 0.2640\n",
      "Train set: Epoch: 216, Average loss:0.4823, LR: 0.000000 Top-1 Accuracy: 0.8666, Top-5 Accuracy: 0.9639, SuperClass Accuracy: 0.9117, Time consumed:298.03s\n"
     ]
    },
    {
     "name": "stderr",
     "output_type": "stream",
     "text": [
      " 72%|███████▏  | 216/300 [19:43:51<7:38:02, 327.17s/it]"
     ]
    },
    {
     "name": "stdout",
     "output_type": "stream",
     "text": [
      "Test set: Epoch: 216, Average loss:0.0045, Top-1 Accuracy: 0.8435, Top-5 Accuracy: 0.9720, SuperClass Accuracy: 0.9150, Time consumed:28.08s\n",
      "\n",
      "EarlyStopping counter: 25 out of 150\n",
      "Batch [30/391], Loss: 0.2001\n",
      "Batch [60/391], Loss: 0.9753\n",
      "Batch [90/391], Loss: 1.0469\n",
      "Batch [120/391], Loss: -1.2021\n",
      "Batch [150/391], Loss: 0.1816\n",
      "Batch [180/391], Loss: 0.0738\n",
      "Batch [210/391], Loss: 0.0945\n",
      "Batch [240/391], Loss: 0.0827\n",
      "Batch [270/391], Loss: 0.6124\n",
      "Batch [300/391], Loss: -0.0889\n",
      "Batch [330/391], Loss: 0.4850\n",
      "Batch [360/391], Loss: 2.1808\n",
      "Batch [390/391], Loss: 2.7952\n",
      "Train set: Epoch: 217, Average loss:0.4938, LR: 0.000000 Top-1 Accuracy: 0.8697, Top-5 Accuracy: 0.9653, SuperClass Accuracy: 0.9141, Time consumed:298.02s\n"
     ]
    },
    {
     "name": "stderr",
     "output_type": "stream",
     "text": [
      " 72%|███████▏  | 217/300 [19:49:17<7:32:06, 326.83s/it]"
     ]
    },
    {
     "name": "stdout",
     "output_type": "stream",
     "text": [
      "Test set: Epoch: 217, Average loss:0.0045, Top-1 Accuracy: 0.8438, Top-5 Accuracy: 0.9725, SuperClass Accuracy: 0.9147, Time consumed:28.02s\n",
      "\n",
      "EarlyStopping counter: 26 out of 150\n",
      "Batch [30/391], Loss: 0.0587\n",
      "Batch [60/391], Loss: -0.5691\n",
      "Batch [90/391], Loss: 1.2292\n",
      "Batch [120/391], Loss: 0.0731\n",
      "Batch [150/391], Loss: 0.0785\n",
      "Batch [180/391], Loss: -0.3970\n",
      "Batch [210/391], Loss: 0.1748\n",
      "Batch [240/391], Loss: -0.4991\n",
      "Batch [270/391], Loss: 0.1164\n",
      "Batch [300/391], Loss: -0.5808\n",
      "Batch [330/391], Loss: 0.0453\n",
      "Batch [360/391], Loss: 0.1481\n",
      "Batch [390/391], Loss: -1.0076\n",
      "Train set: Epoch: 218, Average loss:0.5570, LR: 0.000000 Top-1 Accuracy: 0.8637, Top-5 Accuracy: 0.9609, SuperClass Accuracy: 0.9093, Time consumed:297.31s\n"
     ]
    },
    {
     "name": "stderr",
     "output_type": "stream",
     "text": [
      " 73%|███████▎  | 218/300 [19:54:43<7:26:02, 326.37s/it]"
     ]
    },
    {
     "name": "stdout",
     "output_type": "stream",
     "text": [
      "Test set: Epoch: 218, Average loss:0.0045, Top-1 Accuracy: 0.8443, Top-5 Accuracy: 0.9723, SuperClass Accuracy: 0.9156, Time consumed:27.98s\n",
      "\n",
      "EarlyStopping counter: 27 out of 150\n",
      "Batch [30/391], Loss: 0.6811\n",
      "Batch [60/391], Loss: 0.9779\n",
      "Batch [90/391], Loss: 0.1238\n",
      "Batch [120/391], Loss: 2.2185\n",
      "Batch [150/391], Loss: -1.1033\n",
      "Batch [180/391], Loss: -0.5908\n",
      "Batch [210/391], Loss: 0.0982\n",
      "Batch [240/391], Loss: 0.4196\n",
      "Batch [270/391], Loss: 0.3793\n",
      "Batch [300/391], Loss: 0.0689\n",
      "Batch [330/391], Loss: 0.1111\n",
      "Batch [360/391], Loss: 0.2864\n",
      "Batch [390/391], Loss: 1.4387\n",
      "Train set: Epoch: 219, Average loss:0.4617, LR: 0.000000 Top-1 Accuracy: 0.8798, Top-5 Accuracy: 0.9705, SuperClass Accuracy: 0.9222, Time consumed:297.98s\n"
     ]
    },
    {
     "name": "stderr",
     "output_type": "stream",
     "text": [
      " 73%|███████▎  | 219/300 [20:00:09<7:20:30, 326.30s/it]"
     ]
    },
    {
     "name": "stdout",
     "output_type": "stream",
     "text": [
      "Test set: Epoch: 219, Average loss:0.0044, Top-1 Accuracy: 0.8448, Top-5 Accuracy: 0.9734, SuperClass Accuracy: 0.9156, Time consumed:28.15s\n",
      "\n",
      "EarlyStopping counter: 28 out of 150\n",
      "Batch [30/391], Loss: 2.0750\n",
      "Batch [60/391], Loss: 0.0534\n",
      "Batch [90/391], Loss: 0.6029\n",
      "Batch [120/391], Loss: 0.4470\n",
      "Batch [150/391], Loss: 0.3913\n",
      "Batch [180/391], Loss: 0.0723\n",
      "Batch [210/391], Loss: 0.3263\n",
      "Batch [240/391], Loss: 1.2248\n",
      "Batch [270/391], Loss: 0.8173\n",
      "Batch [300/391], Loss: 0.1877\n",
      "Batch [330/391], Loss: 0.0518\n",
      "Batch [360/391], Loss: 0.0810\n",
      "Batch [390/391], Loss: 0.2140\n",
      "Train set: Epoch: 220, Average loss:0.5048, LR: 0.000000 Top-1 Accuracy: 0.8676, Top-5 Accuracy: 0.9636, SuperClass Accuracy: 0.9129, Time consumed:302.15s\n"
     ]
    },
    {
     "name": "stderr",
     "output_type": "stream",
     "text": [
      " 73%|███████▎  | 220/300 [20:05:40<7:16:51, 327.65s/it]"
     ]
    },
    {
     "name": "stdout",
     "output_type": "stream",
     "text": [
      "Test set: Epoch: 220, Average loss:0.0045, Top-1 Accuracy: 0.8431, Top-5 Accuracy: 0.9723, SuperClass Accuracy: 0.9141, Time consumed:28.63s\n",
      "\n",
      "EarlyStopping counter: 29 out of 150\n",
      "Batch [30/391], Loss: 1.5228\n",
      "Batch [60/391], Loss: 0.2127\n",
      "Batch [90/391], Loss: 0.8685\n",
      "Batch [120/391], Loss: 1.8485\n",
      "Batch [150/391], Loss: 0.0791\n",
      "Batch [180/391], Loss: 0.0838\n",
      "Batch [210/391], Loss: 0.9186\n",
      "Batch [240/391], Loss: 0.0815\n",
      "Batch [270/391], Loss: 0.0972\n",
      "Batch [300/391], Loss: -1.0925\n",
      "Batch [330/391], Loss: 1.8771\n",
      "Batch [360/391], Loss: 1.9545\n",
      "Batch [390/391], Loss: 1.5166\n",
      "Train set: Epoch: 221, Average loss:0.5173, LR: 0.000000 Top-1 Accuracy: 0.8665, Top-5 Accuracy: 0.9622, SuperClass Accuracy: 0.9122, Time consumed:302.43s\n"
     ]
    },
    {
     "name": "stderr",
     "output_type": "stream",
     "text": [
      " 74%|███████▎  | 221/300 [20:11:11<7:12:41, 328.63s/it]"
     ]
    },
    {
     "name": "stdout",
     "output_type": "stream",
     "text": [
      "Test set: Epoch: 221, Average loss:0.0045, Top-1 Accuracy: 0.8459, Top-5 Accuracy: 0.9726, SuperClass Accuracy: 0.9160, Time consumed:28.49s\n",
      "\n",
      "EarlyStopping counter: 30 out of 150\n",
      "Batch [30/391], Loss: 0.1260\n",
      "Batch [60/391], Loss: 0.1230\n",
      "Batch [90/391], Loss: 0.0628\n",
      "Batch [120/391], Loss: 1.4676\n",
      "Batch [150/391], Loss: -0.6367\n",
      "Batch [180/391], Loss: 0.7564\n",
      "Batch [210/391], Loss: 0.3826\n",
      "Batch [240/391], Loss: 0.1692\n",
      "Batch [270/391], Loss: 0.1003\n",
      "Batch [300/391], Loss: 0.2899\n",
      "Batch [330/391], Loss: 0.5364\n",
      "Batch [360/391], Loss: 1.2543\n",
      "Batch [390/391], Loss: 0.1817\n",
      "Train set: Epoch: 222, Average loss:0.5595, LR: 0.000000 Top-1 Accuracy: 0.8583, Top-5 Accuracy: 0.9590, SuperClass Accuracy: 0.9050, Time consumed:302.49s\n"
     ]
    },
    {
     "name": "stderr",
     "output_type": "stream",
     "text": [
      " 74%|███████▍  | 222/300 [20:16:42<7:08:10, 329.37s/it]"
     ]
    },
    {
     "name": "stdout",
     "output_type": "stream",
     "text": [
      "Test set: Epoch: 222, Average loss:0.0044, Top-1 Accuracy: 0.8452, Top-5 Accuracy: 0.9727, SuperClass Accuracy: 0.9158, Time consumed:28.60s\n",
      "\n",
      "EarlyStopping counter: 31 out of 150\n",
      "Batch [30/391], Loss: -1.2063\n",
      "Batch [60/391], Loss: 1.2167\n",
      "Batch [90/391], Loss: 0.1530\n",
      "Batch [120/391], Loss: 0.1327\n",
      "Batch [150/391], Loss: 1.6884\n",
      "Batch [180/391], Loss: 0.1926\n",
      "Batch [210/391], Loss: 0.6751\n",
      "Batch [240/391], Loss: 0.1365\n",
      "Batch [270/391], Loss: 0.5018\n",
      "Batch [300/391], Loss: 1.1215\n",
      "Batch [330/391], Loss: 0.9900\n",
      "Batch [360/391], Loss: 0.2449\n",
      "Batch [390/391], Loss: 1.4660\n",
      "Train set: Epoch: 223, Average loss:0.5091, LR: 0.000000 Top-1 Accuracy: 0.8659, Top-5 Accuracy: 0.9631, SuperClass Accuracy: 0.9119, Time consumed:302.07s\n"
     ]
    },
    {
     "name": "stderr",
     "output_type": "stream",
     "text": [
      " 74%|███████▍  | 223/300 [20:22:12<7:03:12, 329.77s/it]"
     ]
    },
    {
     "name": "stdout",
     "output_type": "stream",
     "text": [
      "Test set: Epoch: 223, Average loss:0.0044, Top-1 Accuracy: 0.8449, Top-5 Accuracy: 0.9730, SuperClass Accuracy: 0.9160, Time consumed:28.63s\n",
      "\n",
      "EarlyStopping counter: 32 out of 150\n",
      "Batch [30/391], Loss: -1.3187\n",
      "Batch [60/391], Loss: 0.0898\n",
      "Batch [90/391], Loss: 0.4191\n",
      "Batch [120/391], Loss: 1.7127\n",
      "Batch [150/391], Loss: -0.5462\n",
      "Batch [180/391], Loss: 0.5668\n",
      "Batch [210/391], Loss: 0.0195\n",
      "Batch [240/391], Loss: 0.2047\n",
      "Batch [270/391], Loss: 0.1138\n",
      "Batch [300/391], Loss: 0.0982\n",
      "Batch [330/391], Loss: 1.8318\n",
      "Batch [360/391], Loss: 0.2299\n",
      "Batch [390/391], Loss: 0.0704\n",
      "Train set: Epoch: 224, Average loss:0.4912, LR: 0.000000 Top-1 Accuracy: 0.8670, Top-5 Accuracy: 0.9638, SuperClass Accuracy: 0.9114, Time consumed:302.20s\n"
     ]
    },
    {
     "name": "stderr",
     "output_type": "stream",
     "text": [
      " 75%|███████▍  | 224/300 [20:27:43<6:58:02, 330.04s/it]"
     ]
    },
    {
     "name": "stdout",
     "output_type": "stream",
     "text": [
      "Test set: Epoch: 224, Average loss:0.0045, Top-1 Accuracy: 0.8454, Top-5 Accuracy: 0.9724, SuperClass Accuracy: 0.9156, Time consumed:28.46s\n",
      "\n",
      "EarlyStopping counter: 33 out of 150\n",
      "Batch [30/391], Loss: 0.2960\n",
      "Batch [60/391], Loss: 0.1475\n",
      "Batch [90/391], Loss: -0.3276\n",
      "Batch [120/391], Loss: 1.6347\n",
      "Batch [150/391], Loss: 1.3901\n",
      "Batch [180/391], Loss: 3.5303\n",
      "Batch [210/391], Loss: 0.5300\n",
      "Batch [240/391], Loss: 0.2256\n",
      "Batch [270/391], Loss: 1.0812\n",
      "Batch [300/391], Loss: 1.5589\n",
      "Batch [330/391], Loss: 1.4008\n",
      "Batch [360/391], Loss: 0.1473\n",
      "Batch [390/391], Loss: 2.2883\n",
      "Train set: Epoch: 225, Average loss:0.5222, LR: 0.000000 Top-1 Accuracy: 0.8727, Top-5 Accuracy: 0.9663, SuperClass Accuracy: 0.9172, Time consumed:302.20s\n"
     ]
    },
    {
     "name": "stderr",
     "output_type": "stream",
     "text": [
      " 75%|███████▌  | 225/300 [20:33:14<6:52:47, 330.24s/it]"
     ]
    },
    {
     "name": "stdout",
     "output_type": "stream",
     "text": [
      "Test set: Epoch: 225, Average loss:0.0044, Top-1 Accuracy: 0.8423, Top-5 Accuracy: 0.9727, SuperClass Accuracy: 0.9141, Time consumed:28.50s\n",
      "\n",
      "EarlyStopping counter: 34 out of 150\n",
      "Batch [30/391], Loss: -0.0317\n",
      "Batch [60/391], Loss: 2.2115\n",
      "Batch [90/391], Loss: 0.7707\n",
      "Batch [120/391], Loss: 0.8196\n",
      "Batch [150/391], Loss: 0.1549\n",
      "Batch [180/391], Loss: 0.3980\n",
      "Batch [210/391], Loss: 0.1159\n",
      "Batch [240/391], Loss: 0.0822\n",
      "Batch [270/391], Loss: 1.1300\n",
      "Batch [300/391], Loss: 0.0602\n",
      "Batch [330/391], Loss: 0.1692\n",
      "Batch [360/391], Loss: 0.2294\n",
      "Batch [390/391], Loss: 0.1138\n",
      "Train set: Epoch: 226, Average loss:0.4547, LR: 0.000000 Top-1 Accuracy: 0.8769, Top-5 Accuracy: 0.9686, SuperClass Accuracy: 0.9203, Time consumed:302.38s\n"
     ]
    },
    {
     "name": "stderr",
     "output_type": "stream",
     "text": [
      " 75%|███████▌  | 226/300 [20:38:45<6:47:37, 330.50s/it]"
     ]
    },
    {
     "name": "stdout",
     "output_type": "stream",
     "text": [
      "Test set: Epoch: 226, Average loss:0.0044, Top-1 Accuracy: 0.8450, Top-5 Accuracy: 0.9730, SuperClass Accuracy: 0.9143, Time consumed:28.73s\n",
      "\n",
      "EarlyStopping counter: 35 out of 150\n",
      "Batch [30/391], Loss: 0.2557\n",
      "Batch [60/391], Loss: 1.8850\n",
      "Batch [90/391], Loss: 0.1234\n",
      "Batch [120/391], Loss: 0.0975\n",
      "Batch [150/391], Loss: -0.2796\n",
      "Batch [180/391], Loss: 0.4276\n",
      "Batch [210/391], Loss: 0.0872\n",
      "Batch [240/391], Loss: 0.1861\n",
      "Batch [270/391], Loss: 0.1211\n",
      "Batch [300/391], Loss: -0.7888\n",
      "Batch [330/391], Loss: 0.0957\n",
      "Batch [360/391], Loss: 0.0238\n",
      "Batch [390/391], Loss: 1.3439\n",
      "Train set: Epoch: 227, Average loss:0.4625, LR: 0.000000 Top-1 Accuracy: 0.8720, Top-5 Accuracy: 0.9666, SuperClass Accuracy: 0.9159, Time consumed:302.36s\n"
     ]
    },
    {
     "name": "stderr",
     "output_type": "stream",
     "text": [
      " 76%|███████▌  | 227/300 [20:44:16<6:42:15, 330.63s/it]"
     ]
    },
    {
     "name": "stdout",
     "output_type": "stream",
     "text": [
      "Test set: Epoch: 227, Average loss:0.0044, Top-1 Accuracy: 0.8433, Top-5 Accuracy: 0.9726, SuperClass Accuracy: 0.9140, Time consumed:28.55s\n",
      "\n",
      "EarlyStopping counter: 36 out of 150\n",
      "Batch [30/391], Loss: 0.5701\n",
      "Batch [60/391], Loss: 0.8979\n",
      "Batch [90/391], Loss: 0.7429\n",
      "Batch [120/391], Loss: 0.2122\n",
      "Batch [150/391], Loss: -0.3225\n",
      "Batch [180/391], Loss: 0.1002\n",
      "Batch [210/391], Loss: 0.0996\n",
      "Batch [240/391], Loss: 1.7295\n",
      "Batch [270/391], Loss: 0.2037\n",
      "Batch [300/391], Loss: 0.2042\n",
      "Batch [330/391], Loss: 0.2453\n",
      "Batch [360/391], Loss: 0.0882\n",
      "Batch [390/391], Loss: 0.1302\n",
      "Train set: Epoch: 228, Average loss:0.4991, LR: 0.000000 Top-1 Accuracy: 0.8632, Top-5 Accuracy: 0.9617, SuperClass Accuracy: 0.9089, Time consumed:302.37s\n"
     ]
    },
    {
     "name": "stderr",
     "output_type": "stream",
     "text": [
      " 76%|███████▌  | 228/300 [20:49:47<6:36:51, 330.71s/it]"
     ]
    },
    {
     "name": "stdout",
     "output_type": "stream",
     "text": [
      "Test set: Epoch: 228, Average loss:0.0044, Top-1 Accuracy: 0.8452, Top-5 Accuracy: 0.9726, SuperClass Accuracy: 0.9147, Time consumed:28.53s\n",
      "\n",
      "EarlyStopping counter: 37 out of 150\n",
      "Batch [30/391], Loss: 1.2792\n",
      "Batch [60/391], Loss: 0.0904\n",
      "Batch [90/391], Loss: 0.1317\n",
      "Batch [120/391], Loss: 0.1314\n",
      "Batch [150/391], Loss: 0.3073\n",
      "Batch [180/391], Loss: 0.3538\n",
      "Batch [210/391], Loss: 0.8834\n",
      "Batch [240/391], Loss: 0.7411\n",
      "Batch [270/391], Loss: -0.3946\n",
      "Batch [300/391], Loss: 0.2857\n",
      "Batch [330/391], Loss: 0.1133\n",
      "Batch [360/391], Loss: 0.1300\n",
      "Batch [390/391], Loss: 0.1193\n",
      "Train set: Epoch: 229, Average loss:0.4967, LR: 0.000000 Top-1 Accuracy: 0.8622, Top-5 Accuracy: 0.9590, SuperClass Accuracy: 0.9088, Time consumed:302.75s\n"
     ]
    },
    {
     "name": "stderr",
     "output_type": "stream",
     "text": [
      " 76%|███████▋  | 229/300 [20:55:18<6:31:32, 330.88s/it]"
     ]
    },
    {
     "name": "stdout",
     "output_type": "stream",
     "text": [
      "Test set: Epoch: 229, Average loss:0.0045, Top-1 Accuracy: 0.8444, Top-5 Accuracy: 0.9725, SuperClass Accuracy: 0.9153, Time consumed:28.53s\n",
      "\n",
      "EarlyStopping counter: 38 out of 150\n",
      "Batch [30/391], Loss: 0.3049\n",
      "Batch [60/391], Loss: -0.1923\n",
      "Batch [90/391], Loss: 0.1069\n",
      "Batch [120/391], Loss: -0.2803\n",
      "Batch [150/391], Loss: 2.1073\n",
      "Batch [180/391], Loss: 1.1086\n",
      "Batch [210/391], Loss: 0.4490\n",
      "Batch [240/391], Loss: -0.1700\n",
      "Batch [270/391], Loss: 0.3320\n",
      "Batch [300/391], Loss: 0.0472\n",
      "Batch [330/391], Loss: 0.0956\n",
      "Batch [360/391], Loss: 0.2211\n",
      "Batch [390/391], Loss: 1.4337\n",
      "Train set: Epoch: 230, Average loss:0.5057, LR: 0.000000 Top-1 Accuracy: 0.8574, Top-5 Accuracy: 0.9614, SuperClass Accuracy: 0.9053, Time consumed:302.53s\n"
     ]
    },
    {
     "name": "stderr",
     "output_type": "stream",
     "text": [
      " 77%|███████▋  | 230/300 [21:00:49<6:26:09, 331.00s/it]"
     ]
    },
    {
     "name": "stdout",
     "output_type": "stream",
     "text": [
      "Test set: Epoch: 230, Average loss:0.0045, Top-1 Accuracy: 0.8465, Top-5 Accuracy: 0.9724, SuperClass Accuracy: 0.9163, Time consumed:28.74s\n",
      "\n",
      "EarlyStopping counter: 39 out of 150\n",
      "Batch [30/391], Loss: 2.1211\n",
      "Batch [60/391], Loss: 0.0682\n",
      "Batch [90/391], Loss: -0.3918\n",
      "Batch [120/391], Loss: 0.1244\n",
      "Batch [150/391], Loss: 1.2513\n",
      "Batch [180/391], Loss: 0.8065\n",
      "Batch [210/391], Loss: 0.9577\n",
      "Batch [240/391], Loss: 2.2592\n",
      "Batch [270/391], Loss: 0.4375\n",
      "Batch [300/391], Loss: -0.7835\n",
      "Batch [330/391], Loss: 0.1571\n",
      "Batch [360/391], Loss: 1.3198\n",
      "Batch [390/391], Loss: 1.2554\n",
      "Train set: Epoch: 231, Average loss:0.5088, LR: 0.000000 Top-1 Accuracy: 0.8639, Top-5 Accuracy: 0.9638, SuperClass Accuracy: 0.9110, Time consumed:302.37s\n"
     ]
    },
    {
     "name": "stderr",
     "output_type": "stream",
     "text": [
      " 77%|███████▋  | 231/300 [21:06:20<6:20:38, 330.99s/it]"
     ]
    },
    {
     "name": "stdout",
     "output_type": "stream",
     "text": [
      "Test set: Epoch: 231, Average loss:0.0045, Top-1 Accuracy: 0.8439, Top-5 Accuracy: 0.9726, SuperClass Accuracy: 0.9152, Time consumed:28.59s\n",
      "\n",
      "EarlyStopping counter: 40 out of 150\n",
      "Batch [30/391], Loss: 1.1529\n",
      "Batch [60/391], Loss: 0.3505\n",
      "Batch [90/391], Loss: 0.0874\n",
      "Batch [120/391], Loss: 0.9113\n",
      "Batch [150/391], Loss: 0.1851\n",
      "Batch [180/391], Loss: 0.1207\n",
      "Batch [210/391], Loss: 0.3255\n",
      "Batch [240/391], Loss: 1.4866\n",
      "Batch [270/391], Loss: 1.6584\n",
      "Batch [300/391], Loss: 0.1880\n",
      "Batch [330/391], Loss: 0.1969\n",
      "Batch [360/391], Loss: 0.0726\n",
      "Batch [390/391], Loss: -0.4095\n",
      "Train set: Epoch: 232, Average loss:0.4884, LR: 0.000000 Top-1 Accuracy: 0.8707, Top-5 Accuracy: 0.9661, SuperClass Accuracy: 0.9153, Time consumed:303.00s\n"
     ]
    },
    {
     "name": "stderr",
     "output_type": "stream",
     "text": [
      " 77%|███████▋  | 232/300 [21:11:52<6:15:29, 331.32s/it]"
     ]
    },
    {
     "name": "stdout",
     "output_type": "stream",
     "text": [
      "Test set: Epoch: 232, Average loss:0.0045, Top-1 Accuracy: 0.8461, Top-5 Accuracy: 0.9729, SuperClass Accuracy: 0.9162, Time consumed:29.09s\n",
      "\n",
      "EarlyStopping counter: 41 out of 150\n",
      "Batch [30/391], Loss: 0.1659\n",
      "Batch [60/391], Loss: -0.2258\n",
      "Batch [90/391], Loss: 0.2359\n",
      "Batch [120/391], Loss: 0.1705\n",
      "Batch [150/391], Loss: 0.1497\n",
      "Batch [180/391], Loss: 0.0423\n",
      "Batch [210/391], Loss: 1.1607\n",
      "Batch [240/391], Loss: 0.3280\n",
      "Batch [270/391], Loss: 0.2053\n",
      "Batch [300/391], Loss: 0.2363\n",
      "Batch [330/391], Loss: 0.1712\n",
      "Batch [360/391], Loss: 0.1285\n",
      "Batch [390/391], Loss: 1.0563\n",
      "Train set: Epoch: 233, Average loss:0.5761, LR: 0.000000 Top-1 Accuracy: 0.8495, Top-5 Accuracy: 0.9554, SuperClass Accuracy: 0.8989, Time consumed:299.88s\n"
     ]
    },
    {
     "name": "stderr",
     "output_type": "stream",
     "text": [
      " 78%|███████▊  | 233/300 [21:17:21<6:08:57, 330.42s/it]"
     ]
    },
    {
     "name": "stdout",
     "output_type": "stream",
     "text": [
      "Test set: Epoch: 233, Average loss:0.0045, Top-1 Accuracy: 0.8424, Top-5 Accuracy: 0.9731, SuperClass Accuracy: 0.9137, Time consumed:28.42s\n",
      "\n",
      "EarlyStopping counter: 42 out of 150\n",
      "Batch [30/391], Loss: 0.0746\n",
      "Batch [60/391], Loss: 0.2930\n",
      "Batch [90/391], Loss: -0.1504\n",
      "Batch [120/391], Loss: 0.3382\n",
      "Batch [150/391], Loss: -0.0991\n",
      "Batch [180/391], Loss: 0.9710\n",
      "Batch [210/391], Loss: 0.1074\n",
      "Batch [240/391], Loss: 0.6285\n",
      "Batch [270/391], Loss: 0.1256\n",
      "Batch [300/391], Loss: 0.1614\n",
      "Batch [330/391], Loss: -0.3976\n",
      "Batch [360/391], Loss: 1.3603\n",
      "Batch [390/391], Loss: 0.0670\n",
      "Train set: Epoch: 234, Average loss:0.4684, LR: 0.000000 Top-1 Accuracy: 0.8755, Top-5 Accuracy: 0.9688, SuperClass Accuracy: 0.9194, Time consumed:300.11s\n"
     ]
    },
    {
     "name": "stderr",
     "output_type": "stream",
     "text": [
      " 78%|███████▊  | 234/300 [21:22:49<6:02:53, 329.90s/it]"
     ]
    },
    {
     "name": "stdout",
     "output_type": "stream",
     "text": [
      "Test set: Epoch: 234, Average loss:0.0045, Top-1 Accuracy: 0.8441, Top-5 Accuracy: 0.9723, SuperClass Accuracy: 0.9138, Time consumed:28.57s\n",
      "\n",
      "EarlyStopping counter: 43 out of 150\n",
      "Batch [30/391], Loss: 0.3366\n",
      "Batch [60/391], Loss: -0.0013\n",
      "Batch [90/391], Loss: 1.6890\n",
      "Batch [120/391], Loss: 0.9890\n",
      "Batch [150/391], Loss: 0.5006\n",
      "Batch [180/391], Loss: 1.0889\n",
      "Batch [210/391], Loss: 1.1855\n",
      "Batch [240/391], Loss: 0.1384\n",
      "Batch [270/391], Loss: 1.1411\n",
      "Batch [300/391], Loss: 1.9265\n",
      "Batch [330/391], Loss: 0.0776\n",
      "Batch [360/391], Loss: -0.7181\n",
      "Batch [390/391], Loss: 0.7915\n",
      "Train set: Epoch: 235, Average loss:0.4559, LR: 0.000000 Top-1 Accuracy: 0.8720, Top-5 Accuracy: 0.9660, SuperClass Accuracy: 0.9159, Time consumed:299.11s\n"
     ]
    },
    {
     "name": "stderr",
     "output_type": "stream",
     "text": [
      " 78%|███████▊  | 235/300 [21:28:17<5:56:36, 329.17s/it]"
     ]
    },
    {
     "name": "stdout",
     "output_type": "stream",
     "text": [
      "Test set: Epoch: 235, Average loss:0.0044, Top-1 Accuracy: 0.8423, Top-5 Accuracy: 0.9729, SuperClass Accuracy: 0.9145, Time consumed:28.36s\n",
      "\n",
      "EarlyStopping counter: 44 out of 150\n",
      "Batch [30/391], Loss: 0.1178\n",
      "Batch [60/391], Loss: 0.1227\n",
      "Batch [90/391], Loss: 0.1172\n",
      "Batch [120/391], Loss: 1.9375\n",
      "Batch [150/391], Loss: 0.0562\n",
      "Batch [180/391], Loss: -0.8386\n",
      "Batch [210/391], Loss: 1.2302\n",
      "Batch [240/391], Loss: 0.0979\n",
      "Batch [270/391], Loss: 1.6337\n",
      "Batch [300/391], Loss: 0.3469\n",
      "Batch [330/391], Loss: 0.7958\n",
      "Batch [360/391], Loss: 0.1215\n",
      "Batch [390/391], Loss: 0.1157\n",
      "Train set: Epoch: 236, Average loss:0.5377, LR: 0.000000 Top-1 Accuracy: 0.8617, Top-5 Accuracy: 0.9607, SuperClass Accuracy: 0.9076, Time consumed:299.17s\n"
     ]
    },
    {
     "name": "stderr",
     "output_type": "stream",
     "text": [
      " 79%|███████▊  | 236/300 [21:33:44<5:50:35, 328.68s/it]"
     ]
    },
    {
     "name": "stdout",
     "output_type": "stream",
     "text": [
      "Test set: Epoch: 236, Average loss:0.0044, Top-1 Accuracy: 0.8446, Top-5 Accuracy: 0.9728, SuperClass Accuracy: 0.9156, Time consumed:28.35s\n",
      "\n",
      "EarlyStopping counter: 45 out of 150\n",
      "Batch [30/391], Loss: 0.1280\n",
      "Batch [60/391], Loss: -0.5759\n",
      "Batch [90/391], Loss: 0.1079\n",
      "Batch [120/391], Loss: 0.1892\n",
      "Batch [150/391], Loss: 0.1827\n",
      "Batch [180/391], Loss: 0.1388\n",
      "Batch [210/391], Loss: 0.1053\n",
      "Batch [240/391], Loss: 0.3041\n",
      "Batch [270/391], Loss: 0.1325\n",
      "Batch [300/391], Loss: 1.7003\n",
      "Batch [330/391], Loss: 0.0816\n",
      "Batch [360/391], Loss: 0.6044\n",
      "Batch [390/391], Loss: 0.1426\n",
      "Train set: Epoch: 237, Average loss:0.4361, LR: 0.000000 Top-1 Accuracy: 0.8873, Top-5 Accuracy: 0.9707, SuperClass Accuracy: 0.9274, Time consumed:302.85s\n"
     ]
    },
    {
     "name": "stderr",
     "output_type": "stream",
     "text": [
      " 79%|███████▉  | 237/300 [21:39:16<5:46:04, 329.59s/it]"
     ]
    },
    {
     "name": "stdout",
     "output_type": "stream",
     "text": [
      "Test set: Epoch: 237, Average loss:0.0045, Top-1 Accuracy: 0.8448, Top-5 Accuracy: 0.9728, SuperClass Accuracy: 0.9158, Time consumed:28.85s\n",
      "\n",
      "EarlyStopping counter: 46 out of 150\n",
      "Batch [30/391], Loss: 0.1046\n",
      "Batch [60/391], Loss: -0.2232\n",
      "Batch [90/391], Loss: 0.2088\n",
      "Batch [120/391], Loss: 0.6041\n",
      "Batch [150/391], Loss: 1.8340\n",
      "Batch [180/391], Loss: 0.1949\n",
      "Batch [210/391], Loss: 1.4725\n",
      "Batch [240/391], Loss: 0.2834\n",
      "Batch [270/391], Loss: 0.9583\n",
      "Batch [300/391], Loss: 0.2851\n",
      "Batch [330/391], Loss: 1.0777\n",
      "Batch [360/391], Loss: 0.1265\n",
      "Batch [390/391], Loss: -0.6511\n",
      "Train set: Epoch: 238, Average loss:0.4672, LR: 0.000000 Top-1 Accuracy: 0.8743, Top-5 Accuracy: 0.9676, SuperClass Accuracy: 0.9183, Time consumed:301.51s\n"
     ]
    },
    {
     "name": "stderr",
     "output_type": "stream",
     "text": [
      " 79%|███████▉  | 238/300 [21:44:46<5:40:38, 329.66s/it]"
     ]
    },
    {
     "name": "stdout",
     "output_type": "stream",
     "text": [
      "Test set: Epoch: 238, Average loss:0.0044, Top-1 Accuracy: 0.8447, Top-5 Accuracy: 0.9726, SuperClass Accuracy: 0.9153, Time consumed:28.32s\n",
      "\n",
      "EarlyStopping counter: 47 out of 150\n",
      "Batch [30/391], Loss: 0.1024\n",
      "Batch [60/391], Loss: 0.1327\n",
      "Batch [90/391], Loss: -0.3531\n",
      "Batch [120/391], Loss: 0.3003\n",
      "Batch [150/391], Loss: 1.0025\n",
      "Batch [180/391], Loss: 0.9639\n",
      "Batch [210/391], Loss: 0.3715\n",
      "Batch [240/391], Loss: 0.2235\n",
      "Batch [270/391], Loss: 0.1829\n",
      "Batch [300/391], Loss: 0.2978\n",
      "Batch [330/391], Loss: 0.1472\n",
      "Batch [360/391], Loss: 0.1437\n",
      "Batch [390/391], Loss: 2.1509\n",
      "Train set: Epoch: 239, Average loss:0.4988, LR: 0.000000 Top-1 Accuracy: 0.8633, Top-5 Accuracy: 0.9650, SuperClass Accuracy: 0.9100, Time consumed:298.58s\n"
     ]
    },
    {
     "name": "stderr",
     "output_type": "stream",
     "text": [
      " 80%|███████▉  | 239/300 [21:50:13<5:34:18, 328.84s/it]"
     ]
    },
    {
     "name": "stdout",
     "output_type": "stream",
     "text": [
      "Test set: Epoch: 239, Average loss:0.0045, Top-1 Accuracy: 0.8432, Top-5 Accuracy: 0.9723, SuperClass Accuracy: 0.9142, Time consumed:28.32s\n",
      "\n",
      "EarlyStopping counter: 48 out of 150\n",
      "Batch [30/391], Loss: 0.1095\n",
      "Batch [60/391], Loss: 0.0915\n",
      "Batch [90/391], Loss: 0.4693\n",
      "Batch [120/391], Loss: 0.1635\n",
      "Batch [150/391], Loss: 0.1024\n",
      "Batch [180/391], Loss: 0.2456\n",
      "Batch [210/391], Loss: 1.4760\n",
      "Batch [240/391], Loss: -0.2927\n",
      "Batch [270/391], Loss: 2.1791\n",
      "Batch [300/391], Loss: 1.2475\n",
      "Batch [330/391], Loss: 0.8518\n",
      "Batch [360/391], Loss: 0.0798\n",
      "Batch [390/391], Loss: 1.1829\n",
      "Train set: Epoch: 240, Average loss:0.4968, LR: 0.000000 Top-1 Accuracy: 0.8628, Top-5 Accuracy: 0.9605, SuperClass Accuracy: 0.9090, Time consumed:299.00s\n"
     ]
    },
    {
     "name": "stderr",
     "output_type": "stream",
     "text": [
      " 80%|████████  | 240/300 [21:55:40<5:28:19, 328.33s/it]"
     ]
    },
    {
     "name": "stdout",
     "output_type": "stream",
     "text": [
      "Test set: Epoch: 240, Average loss:0.0044, Top-1 Accuracy: 0.8447, Top-5 Accuracy: 0.9735, SuperClass Accuracy: 0.9156, Time consumed:28.16s\n",
      "\n",
      "EarlyStopping counter: 49 out of 150\n",
      "Batch [30/391], Loss: 0.9035\n",
      "Batch [60/391], Loss: -0.4433\n",
      "Batch [90/391], Loss: 0.2752\n",
      "Batch [120/391], Loss: -1.1489\n",
      "Batch [150/391], Loss: 0.5639\n",
      "Batch [180/391], Loss: 0.2390\n",
      "Batch [210/391], Loss: -0.2032\n",
      "Batch [240/391], Loss: 0.3382\n",
      "Batch [270/391], Loss: 1.6585\n",
      "Batch [300/391], Loss: 0.3219\n",
      "Batch [330/391], Loss: 0.0701\n",
      "Batch [360/391], Loss: 0.2058\n",
      "Batch [390/391], Loss: 1.9651\n",
      "Train set: Epoch: 241, Average loss:0.4647, LR: 0.000000 Top-1 Accuracy: 0.8759, Top-5 Accuracy: 0.9689, SuperClass Accuracy: 0.9191, Time consumed:298.04s\n"
     ]
    },
    {
     "name": "stderr",
     "output_type": "stream",
     "text": [
      " 80%|████████  | 241/300 [22:01:06<5:22:11, 327.66s/it]"
     ]
    },
    {
     "name": "stdout",
     "output_type": "stream",
     "text": [
      "Test set: Epoch: 241, Average loss:0.0045, Top-1 Accuracy: 0.8448, Top-5 Accuracy: 0.9730, SuperClass Accuracy: 0.9155, Time consumed:28.05s\n",
      "\n",
      "EarlyStopping counter: 50 out of 150\n",
      "Batch [30/391], Loss: 0.1512\n",
      "Batch [60/391], Loss: 1.6007\n",
      "Batch [90/391], Loss: 1.2055\n",
      "Batch [120/391], Loss: 1.3377\n",
      "Batch [150/391], Loss: 0.6998\n",
      "Batch [180/391], Loss: 0.1982\n",
      "Batch [210/391], Loss: 0.7083\n",
      "Batch [240/391], Loss: 0.2019\n",
      "Batch [270/391], Loss: 0.2663\n",
      "Batch [300/391], Loss: 1.8089\n",
      "Batch [330/391], Loss: 0.0848\n",
      "Batch [360/391], Loss: 0.2126\n",
      "Batch [390/391], Loss: 1.4637\n",
      "Train set: Epoch: 242, Average loss:0.4534, LR: 0.000000 Top-1 Accuracy: 0.8724, Top-5 Accuracy: 0.9662, SuperClass Accuracy: 0.9152, Time consumed:301.39s\n"
     ]
    },
    {
     "name": "stderr",
     "output_type": "stream",
     "text": [
      " 81%|████████  | 242/300 [22:06:36<5:17:27, 328.40s/it]"
     ]
    },
    {
     "name": "stdout",
     "output_type": "stream",
     "text": [
      "Test set: Epoch: 242, Average loss:0.0044, Top-1 Accuracy: 0.8421, Top-5 Accuracy: 0.9726, SuperClass Accuracy: 0.9139, Time consumed:28.75s\n",
      "\n",
      "EarlyStopping counter: 51 out of 150\n",
      "Batch [30/391], Loss: 0.4095\n",
      "Batch [60/391], Loss: 2.3704\n",
      "Batch [90/391], Loss: 0.1270\n",
      "Batch [120/391], Loss: 1.3503\n",
      "Batch [150/391], Loss: 0.2132\n",
      "Batch [180/391], Loss: 0.9400\n",
      "Batch [210/391], Loss: 0.6617\n",
      "Batch [240/391], Loss: -0.2110\n",
      "Batch [270/391], Loss: 0.2148\n",
      "Batch [300/391], Loss: 0.3175\n",
      "Batch [330/391], Loss: 0.3838\n",
      "Batch [360/391], Loss: 0.0455\n",
      "Batch [390/391], Loss: 0.5095\n",
      "Train set: Epoch: 243, Average loss:0.5460, LR: 0.000000 Top-1 Accuracy: 0.8606, Top-5 Accuracy: 0.9621, SuperClass Accuracy: 0.9079, Time consumed:301.24s\n"
     ]
    },
    {
     "name": "stderr",
     "output_type": "stream",
     "text": [
      " 81%|████████  | 243/300 [22:12:06<5:12:20, 328.79s/it]"
     ]
    },
    {
     "name": "stdout",
     "output_type": "stream",
     "text": [
      "Test set: Epoch: 243, Average loss:0.0045, Top-1 Accuracy: 0.8444, Top-5 Accuracy: 0.9723, SuperClass Accuracy: 0.9146, Time consumed:28.44s\n",
      "\n",
      "EarlyStopping counter: 52 out of 150\n",
      "Batch [30/391], Loss: 0.0465\n",
      "Batch [60/391], Loss: 1.8271\n",
      "Batch [90/391], Loss: 0.6834\n",
      "Batch [120/391], Loss: 1.5219\n",
      "Batch [150/391], Loss: 0.1147\n",
      "Batch [180/391], Loss: -0.0092\n",
      "Batch [210/391], Loss: 0.0647\n",
      "Batch [240/391], Loss: 2.9476\n",
      "Batch [270/391], Loss: 2.1707\n",
      "Batch [300/391], Loss: 0.1509\n",
      "Batch [330/391], Loss: 0.4805\n",
      "Batch [360/391], Loss: -0.6818\n",
      "Batch [390/391], Loss: 1.2267\n",
      "Train set: Epoch: 244, Average loss:0.5138, LR: 0.000000 Top-1 Accuracy: 0.8579, Top-5 Accuracy: 0.9598, SuperClass Accuracy: 0.9046, Time consumed:299.46s\n"
     ]
    },
    {
     "name": "stderr",
     "output_type": "stream",
     "text": [
      " 81%|████████▏ | 244/300 [22:17:34<5:06:33, 328.46s/it]"
     ]
    },
    {
     "name": "stdout",
     "output_type": "stream",
     "text": [
      "Test set: Epoch: 244, Average loss:0.0045, Top-1 Accuracy: 0.8445, Top-5 Accuracy: 0.9726, SuperClass Accuracy: 0.9154, Time consumed:28.24s\n",
      "\n",
      "EarlyStopping counter: 53 out of 150\n",
      "Batch [30/391], Loss: 0.1177\n",
      "Batch [60/391], Loss: 0.4028\n",
      "Batch [90/391], Loss: 0.1367\n",
      "Batch [120/391], Loss: 0.1192\n",
      "Batch [150/391], Loss: 0.1318\n",
      "Batch [180/391], Loss: 0.0524\n",
      "Batch [210/391], Loss: 0.1582\n",
      "Batch [240/391], Loss: 0.3538\n",
      "Batch [270/391], Loss: 0.8158\n",
      "Batch [300/391], Loss: 0.1236\n",
      "Batch [330/391], Loss: 1.1671\n",
      "Batch [360/391], Loss: 1.6380\n",
      "Batch [390/391], Loss: 0.7021\n",
      "Train set: Epoch: 245, Average loss:0.5182, LR: 0.000000 Top-1 Accuracy: 0.8647, Top-5 Accuracy: 0.9622, SuperClass Accuracy: 0.9106, Time consumed:301.13s\n"
     ]
    },
    {
     "name": "stderr",
     "output_type": "stream",
     "text": [
      " 82%|████████▏ | 245/300 [22:23:03<5:01:29, 328.90s/it]"
     ]
    },
    {
     "name": "stdout",
     "output_type": "stream",
     "text": [
      "Test set: Epoch: 245, Average loss:0.0044, Top-1 Accuracy: 0.8457, Top-5 Accuracy: 0.9725, SuperClass Accuracy: 0.9163, Time consumed:28.79s\n",
      "\n",
      "EarlyStopping counter: 54 out of 150\n",
      "Batch [30/391], Loss: 1.6519\n",
      "Batch [60/391], Loss: 0.2059\n",
      "Batch [90/391], Loss: -0.1519\n",
      "Batch [120/391], Loss: 0.6001\n",
      "Batch [150/391], Loss: 0.0524\n",
      "Batch [180/391], Loss: 1.2929\n",
      "Batch [210/391], Loss: 2.1786\n",
      "Batch [240/391], Loss: 0.1762\n",
      "Batch [270/391], Loss: 1.4204\n",
      "Batch [300/391], Loss: 0.2445\n",
      "Batch [330/391], Loss: 0.1840\n",
      "Batch [360/391], Loss: 0.2095\n",
      "Batch [390/391], Loss: 0.1249\n",
      "Train set: Epoch: 246, Average loss:0.4901, LR: 0.000000 Top-1 Accuracy: 0.8737, Top-5 Accuracy: 0.9670, SuperClass Accuracy: 0.9173, Time consumed:300.44s\n"
     ]
    },
    {
     "name": "stderr",
     "output_type": "stream",
     "text": [
      " 82%|████████▏ | 246/300 [22:28:32<4:55:53, 328.77s/it]"
     ]
    },
    {
     "name": "stdout",
     "output_type": "stream",
     "text": [
      "Test set: Epoch: 246, Average loss:0.0044, Top-1 Accuracy: 0.8442, Top-5 Accuracy: 0.9722, SuperClass Accuracy: 0.9149, Time consumed:28.00s\n",
      "\n",
      "EarlyStopping counter: 55 out of 150\n",
      "Batch [30/391], Loss: 0.1712\n",
      "Batch [60/391], Loss: 0.1123\n",
      "Batch [90/391], Loss: 0.3883\n",
      "Batch [120/391], Loss: 1.0703\n",
      "Batch [150/391], Loss: 0.1383\n",
      "Batch [180/391], Loss: 0.3147\n",
      "Batch [210/391], Loss: 1.1570\n",
      "Batch [240/391], Loss: 0.0730\n",
      "Batch [270/391], Loss: 0.5577\n",
      "Batch [300/391], Loss: 0.8725\n",
      "Batch [330/391], Loss: -0.2710\n",
      "Batch [360/391], Loss: 0.2284\n",
      "Batch [390/391], Loss: 0.2319\n",
      "Train set: Epoch: 247, Average loss:0.5355, LR: 0.000000 Top-1 Accuracy: 0.8661, Top-5 Accuracy: 0.9614, SuperClass Accuracy: 0.9103, Time consumed:295.15s\n"
     ]
    },
    {
     "name": "stderr",
     "output_type": "stream",
     "text": [
      " 82%|████████▏ | 247/300 [22:33:55<4:48:53, 327.05s/it]"
     ]
    },
    {
     "name": "stdout",
     "output_type": "stream",
     "text": [
      "Test set: Epoch: 247, Average loss:0.0045, Top-1 Accuracy: 0.8451, Top-5 Accuracy: 0.9723, SuperClass Accuracy: 0.9154, Time consumed:27.90s\n",
      "\n",
      "EarlyStopping counter: 56 out of 150\n",
      "Batch [30/391], Loss: 0.2160\n",
      "Batch [60/391], Loss: 1.9216\n",
      "Batch [90/391], Loss: 3.2207\n",
      "Batch [120/391], Loss: 0.3958\n",
      "Batch [150/391], Loss: -0.8490\n",
      "Batch [180/391], Loss: 0.2613\n",
      "Batch [210/391], Loss: 1.2238\n",
      "Batch [240/391], Loss: 0.0901\n",
      "Batch [270/391], Loss: -0.3555\n",
      "Batch [300/391], Loss: 0.4186\n",
      "Batch [330/391], Loss: 1.6100\n",
      "Batch [360/391], Loss: 0.4634\n",
      "Batch [390/391], Loss: 1.3331\n",
      "Train set: Epoch: 248, Average loss:0.5818, LR: 0.000000 Top-1 Accuracy: 0.8595, Top-5 Accuracy: 0.9611, SuperClass Accuracy: 0.9069, Time consumed:293.64s\n"
     ]
    },
    {
     "name": "stderr",
     "output_type": "stream",
     "text": [
      " 83%|████████▎ | 248/300 [22:39:17<4:42:03, 325.46s/it]"
     ]
    },
    {
     "name": "stdout",
     "output_type": "stream",
     "text": [
      "Test set: Epoch: 248, Average loss:0.0045, Top-1 Accuracy: 0.8445, Top-5 Accuracy: 0.9723, SuperClass Accuracy: 0.9153, Time consumed:28.09s\n",
      "\n",
      "EarlyStopping counter: 57 out of 150\n",
      "Batch [30/391], Loss: 1.2944\n",
      "Batch [60/391], Loss: 0.0583\n",
      "Batch [90/391], Loss: 0.0874\n",
      "Batch [120/391], Loss: 0.9764\n",
      "Batch [150/391], Loss: 0.0980\n",
      "Batch [180/391], Loss: 0.1579\n",
      "Batch [210/391], Loss: 0.3872\n",
      "Batch [240/391], Loss: 1.3961\n",
      "Batch [270/391], Loss: 0.3104\n",
      "Batch [300/391], Loss: 0.2008\n",
      "Batch [330/391], Loss: 0.0880\n",
      "Batch [360/391], Loss: -0.5752\n",
      "Batch [390/391], Loss: 0.0981\n",
      "Train set: Epoch: 249, Average loss:0.5154, LR: 0.000000 Top-1 Accuracy: 0.8701, Top-5 Accuracy: 0.9641, SuperClass Accuracy: 0.9143, Time consumed:301.92s\n"
     ]
    },
    {
     "name": "stderr",
     "output_type": "stream",
     "text": [
      " 83%|████████▎ | 249/300 [22:44:47<4:37:59, 327.04s/it]"
     ]
    },
    {
     "name": "stdout",
     "output_type": "stream",
     "text": [
      "Test set: Epoch: 249, Average loss:0.0045, Top-1 Accuracy: 0.8452, Top-5 Accuracy: 0.9731, SuperClass Accuracy: 0.9147, Time consumed:28.80s\n",
      "\n",
      "EarlyStopping counter: 58 out of 150\n",
      "Batch [30/391], Loss: 0.2015\n",
      "Batch [60/391], Loss: 0.4255\n",
      "Batch [90/391], Loss: 0.1604\n",
      "Batch [120/391], Loss: 0.0617\n",
      "Batch [150/391], Loss: 0.1398\n",
      "Batch [180/391], Loss: 1.3045\n",
      "Batch [210/391], Loss: 0.1748\n",
      "Batch [240/391], Loss: -0.1493\n",
      "Batch [270/391], Loss: 0.2589\n",
      "Batch [300/391], Loss: 1.3806\n",
      "Batch [330/391], Loss: 0.3928\n",
      "Batch [360/391], Loss: 0.2836\n",
      "Batch [390/391], Loss: 0.1031\n",
      "Train set: Epoch: 250, Average loss:0.5094, LR: 0.000000 Top-1 Accuracy: 0.8717, Top-5 Accuracy: 0.9653, SuperClass Accuracy: 0.9153, Time consumed:305.06s\n"
     ]
    },
    {
     "name": "stderr",
     "output_type": "stream",
     "text": [
      " 83%|████████▎ | 250/300 [22:50:21<4:34:11, 329.04s/it]"
     ]
    },
    {
     "name": "stdout",
     "output_type": "stream",
     "text": [
      "Test set: Epoch: 250, Average loss:0.0045, Top-1 Accuracy: 0.8466, Top-5 Accuracy: 0.9728, SuperClass Accuracy: 0.9151, Time consumed:28.63s\n",
      "\n",
      "EarlyStopping counter: 59 out of 150\n",
      "Batch [30/391], Loss: 2.5717\n",
      "Batch [60/391], Loss: 0.3227\n",
      "Batch [90/391], Loss: 0.0690\n",
      "Batch [120/391], Loss: 1.2663\n",
      "Batch [150/391], Loss: 0.6917\n",
      "Batch [180/391], Loss: 1.7024\n",
      "Batch [210/391], Loss: 1.6687\n",
      "Batch [240/391], Loss: 0.1413\n",
      "Batch [270/391], Loss: 0.4218\n",
      "Batch [300/391], Loss: 0.1435\n",
      "Batch [330/391], Loss: 0.1094\n",
      "Batch [360/391], Loss: 0.1228\n",
      "Batch [390/391], Loss: 0.9989\n",
      "Train set: Epoch: 251, Average loss:0.4727, LR: 0.000000 Top-1 Accuracy: 0.8709, Top-5 Accuracy: 0.9655, SuperClass Accuracy: 0.9155, Time consumed:301.51s\n"
     ]
    },
    {
     "name": "stderr",
     "output_type": "stream",
     "text": [
      " 84%|████████▎ | 251/300 [22:55:52<4:29:03, 329.45s/it]"
     ]
    },
    {
     "name": "stdout",
     "output_type": "stream",
     "text": [
      "Test set: Epoch: 251, Average loss:0.0045, Top-1 Accuracy: 0.8453, Top-5 Accuracy: 0.9732, SuperClass Accuracy: 0.9159, Time consumed:28.89s\n",
      "\n",
      "EarlyStopping counter: 60 out of 150\n",
      "Batch [30/391], Loss: 0.8736\n",
      "Batch [60/391], Loss: 0.2788\n",
      "Batch [90/391], Loss: 1.3811\n",
      "Batch [120/391], Loss: 0.2043\n",
      "Batch [150/391], Loss: 0.0980\n",
      "Batch [180/391], Loss: 0.0430\n",
      "Batch [210/391], Loss: 0.1086\n",
      "Batch [240/391], Loss: 0.1355\n",
      "Batch [270/391], Loss: -0.3218\n",
      "Batch [300/391], Loss: 1.4240\n",
      "Batch [330/391], Loss: 0.0597\n",
      "Batch [360/391], Loss: 0.2699\n",
      "Batch [390/391], Loss: 0.4272\n",
      "Train set: Epoch: 252, Average loss:0.4712, LR: 0.000000 Top-1 Accuracy: 0.8711, Top-5 Accuracy: 0.9681, SuperClass Accuracy: 0.9181, Time consumed:297.73s\n"
     ]
    },
    {
     "name": "stderr",
     "output_type": "stream",
     "text": [
      " 84%|████████▍ | 252/300 [23:01:17<4:22:41, 328.36s/it]"
     ]
    },
    {
     "name": "stdout",
     "output_type": "stream",
     "text": [
      "Test set: Epoch: 252, Average loss:0.0045, Top-1 Accuracy: 0.8435, Top-5 Accuracy: 0.9730, SuperClass Accuracy: 0.9146, Time consumed:28.08s\n",
      "\n",
      "EarlyStopping counter: 61 out of 150\n",
      "Batch [30/391], Loss: 0.3359\n",
      "Batch [60/391], Loss: 0.0865\n",
      "Batch [90/391], Loss: 0.1589\n",
      "Batch [120/391], Loss: 0.1941\n",
      "Batch [150/391], Loss: -0.5896\n",
      "Batch [180/391], Loss: 0.1489\n",
      "Batch [210/391], Loss: 1.8285\n",
      "Batch [240/391], Loss: 0.1470\n",
      "Batch [270/391], Loss: -1.1930\n",
      "Batch [300/391], Loss: 2.2764\n",
      "Batch [330/391], Loss: 0.0617\n",
      "Batch [360/391], Loss: 0.0722\n",
      "Batch [390/391], Loss: 0.1413\n",
      "Train set: Epoch: 253, Average loss:0.4787, LR: 0.000000 Top-1 Accuracy: 0.8755, Top-5 Accuracy: 0.9658, SuperClass Accuracy: 0.9179, Time consumed:300.50s\n"
     ]
    },
    {
     "name": "stderr",
     "output_type": "stream",
     "text": [
      " 84%|████████▍ | 252/300 [23:06:38<4:24:07, 330.15s/it]\n"
     ]
    },
    {
     "ename": "KeyboardInterrupt",
     "evalue": "",
     "output_type": "error",
     "traceback": [
      "\u001b[1;31m---------------------------------------------------------------------------\u001b[0m",
      "\u001b[1;31mKeyboardInterrupt\u001b[0m                         Traceback (most recent call last)",
      "Cell \u001b[1;32mIn[13], line 17\u001b[0m\n\u001b[0;32m     15\u001b[0m     test_loss, test_accuracy \u001b[38;5;241m=\u001b[39m eval_training(net, val_loader, criterion, epoch)\n\u001b[0;32m     16\u001b[0m \u001b[38;5;28;01melse\u001b[39;00m:\n\u001b[1;32m---> 17\u001b[0m     test_loss, test_accuracy \u001b[38;5;241m=\u001b[39m \u001b[43meval_training\u001b[49m\u001b[43m(\u001b[49m\u001b[43mnet\u001b[49m\u001b[43m,\u001b[49m\u001b[43m \u001b[49m\u001b[43mtest_loader\u001b[49m\u001b[43m,\u001b[49m\u001b[43m \u001b[49m\u001b[43mcriterion\u001b[49m\u001b[43m,\u001b[49m\u001b[43m \u001b[49m\u001b[43mepoch\u001b[49m\u001b[43m)\u001b[49m\n\u001b[0;32m     19\u001b[0m \u001b[38;5;28;01mif\u001b[39;00m best_acc[\u001b[38;5;241m0\u001b[39m] \u001b[38;5;241m<\u001b[39m test_accuracy[\u001b[38;5;241m0\u001b[39m]:\n\u001b[0;32m     20\u001b[0m     \u001b[38;5;28;01mif\u001b[39;00m weights_path:  \u001b[38;5;66;03m# 모델의 용량 이슈로 새로운 best 모델이 갱신되면 이전 best 모델 삭제\u001b[39;00m\n",
      "Cell \u001b[1;32mIn[11], line 102\u001b[0m, in \u001b[0;36meval_training\u001b[1;34m(net, testloader, criterion, epoch)\u001b[0m\n\u001b[0;32m    100\u001b[0m \u001b[38;5;28;01mfor\u001b[39;00m images, labels \u001b[38;5;129;01min\u001b[39;00m testloader:\n\u001b[0;32m    101\u001b[0m     images, labels \u001b[38;5;241m=\u001b[39m images\u001b[38;5;241m.\u001b[39mto(device), labels\u001b[38;5;241m.\u001b[39mto(device)\n\u001b[1;32m--> 102\u001b[0m     outputs \u001b[38;5;241m=\u001b[39m \u001b[43mnet\u001b[49m\u001b[43m(\u001b[49m\u001b[43mimages\u001b[49m\u001b[43m)\u001b[49m\n\u001b[0;32m    104\u001b[0m     _, preds \u001b[38;5;241m=\u001b[39m torch\u001b[38;5;241m.\u001b[39mmax(outputs, \u001b[38;5;241m1\u001b[39m)\n\u001b[0;32m    105\u001b[0m     top1_correct \u001b[38;5;241m+\u001b[39m\u001b[38;5;241m=\u001b[39m torch\u001b[38;5;241m.\u001b[39msum(preds \u001b[38;5;241m==\u001b[39m labels)\u001b[38;5;241m.\u001b[39mitem()\n",
      "File \u001b[1;32mc:\\Users\\jhw03\\anaconda3\\envs\\cgv\\Lib\\site-packages\\torch\\nn\\modules\\module.py:1553\u001b[0m, in \u001b[0;36mModule._wrapped_call_impl\u001b[1;34m(self, *args, **kwargs)\u001b[0m\n\u001b[0;32m   1551\u001b[0m     \u001b[38;5;28;01mreturn\u001b[39;00m \u001b[38;5;28mself\u001b[39m\u001b[38;5;241m.\u001b[39m_compiled_call_impl(\u001b[38;5;241m*\u001b[39margs, \u001b[38;5;241m*\u001b[39m\u001b[38;5;241m*\u001b[39mkwargs)  \u001b[38;5;66;03m# type: ignore[misc]\u001b[39;00m\n\u001b[0;32m   1552\u001b[0m \u001b[38;5;28;01melse\u001b[39;00m:\n\u001b[1;32m-> 1553\u001b[0m     \u001b[38;5;28;01mreturn\u001b[39;00m \u001b[38;5;28;43mself\u001b[39;49m\u001b[38;5;241;43m.\u001b[39;49m\u001b[43m_call_impl\u001b[49m\u001b[43m(\u001b[49m\u001b[38;5;241;43m*\u001b[39;49m\u001b[43margs\u001b[49m\u001b[43m,\u001b[49m\u001b[43m \u001b[49m\u001b[38;5;241;43m*\u001b[39;49m\u001b[38;5;241;43m*\u001b[39;49m\u001b[43mkwargs\u001b[49m\u001b[43m)\u001b[49m\n",
      "File \u001b[1;32mc:\\Users\\jhw03\\anaconda3\\envs\\cgv\\Lib\\site-packages\\torch\\nn\\modules\\module.py:1562\u001b[0m, in \u001b[0;36mModule._call_impl\u001b[1;34m(self, *args, **kwargs)\u001b[0m\n\u001b[0;32m   1557\u001b[0m \u001b[38;5;66;03m# If we don't have any hooks, we want to skip the rest of the logic in\u001b[39;00m\n\u001b[0;32m   1558\u001b[0m \u001b[38;5;66;03m# this function, and just call forward.\u001b[39;00m\n\u001b[0;32m   1559\u001b[0m \u001b[38;5;28;01mif\u001b[39;00m \u001b[38;5;129;01mnot\u001b[39;00m (\u001b[38;5;28mself\u001b[39m\u001b[38;5;241m.\u001b[39m_backward_hooks \u001b[38;5;129;01mor\u001b[39;00m \u001b[38;5;28mself\u001b[39m\u001b[38;5;241m.\u001b[39m_backward_pre_hooks \u001b[38;5;129;01mor\u001b[39;00m \u001b[38;5;28mself\u001b[39m\u001b[38;5;241m.\u001b[39m_forward_hooks \u001b[38;5;129;01mor\u001b[39;00m \u001b[38;5;28mself\u001b[39m\u001b[38;5;241m.\u001b[39m_forward_pre_hooks\n\u001b[0;32m   1560\u001b[0m         \u001b[38;5;129;01mor\u001b[39;00m _global_backward_pre_hooks \u001b[38;5;129;01mor\u001b[39;00m _global_backward_hooks\n\u001b[0;32m   1561\u001b[0m         \u001b[38;5;129;01mor\u001b[39;00m _global_forward_hooks \u001b[38;5;129;01mor\u001b[39;00m _global_forward_pre_hooks):\n\u001b[1;32m-> 1562\u001b[0m     \u001b[38;5;28;01mreturn\u001b[39;00m \u001b[43mforward_call\u001b[49m\u001b[43m(\u001b[49m\u001b[38;5;241;43m*\u001b[39;49m\u001b[43margs\u001b[49m\u001b[43m,\u001b[49m\u001b[43m \u001b[49m\u001b[38;5;241;43m*\u001b[39;49m\u001b[38;5;241;43m*\u001b[39;49m\u001b[43mkwargs\u001b[49m\u001b[43m)\u001b[49m\n\u001b[0;32m   1564\u001b[0m \u001b[38;5;28;01mtry\u001b[39;00m:\n\u001b[0;32m   1565\u001b[0m     result \u001b[38;5;241m=\u001b[39m \u001b[38;5;28;01mNone\u001b[39;00m\n",
      "File \u001b[1;32mc:\\Users\\jhw03\\Desktop\\Cgv\\CIFAR100-Classfication\\cgv\\models\\shake_pyramidnet.py:78\u001b[0m, in \u001b[0;36mShakePyramidNet.forward\u001b[1;34m(self, x)\u001b[0m\n\u001b[0;32m     76\u001b[0m h \u001b[38;5;241m=\u001b[39m \u001b[38;5;28mself\u001b[39m\u001b[38;5;241m.\u001b[39mlayer1(h)\n\u001b[0;32m     77\u001b[0m h \u001b[38;5;241m=\u001b[39m \u001b[38;5;28mself\u001b[39m\u001b[38;5;241m.\u001b[39mlayer2(h)\n\u001b[1;32m---> 78\u001b[0m h \u001b[38;5;241m=\u001b[39m \u001b[38;5;28;43mself\u001b[39;49m\u001b[38;5;241;43m.\u001b[39;49m\u001b[43mlayer3\u001b[49m\u001b[43m(\u001b[49m\u001b[43mh\u001b[49m\u001b[43m)\u001b[49m\n\u001b[0;32m     79\u001b[0m h \u001b[38;5;241m=\u001b[39m F\u001b[38;5;241m.\u001b[39mrelu(\u001b[38;5;28mself\u001b[39m\u001b[38;5;241m.\u001b[39mbn_out(h))\n\u001b[0;32m     80\u001b[0m h \u001b[38;5;241m=\u001b[39m F\u001b[38;5;241m.\u001b[39mavg_pool2d(h, \u001b[38;5;241m8\u001b[39m)\n",
      "File \u001b[1;32mc:\\Users\\jhw03\\anaconda3\\envs\\cgv\\Lib\\site-packages\\torch\\nn\\modules\\module.py:1553\u001b[0m, in \u001b[0;36mModule._wrapped_call_impl\u001b[1;34m(self, *args, **kwargs)\u001b[0m\n\u001b[0;32m   1551\u001b[0m     \u001b[38;5;28;01mreturn\u001b[39;00m \u001b[38;5;28mself\u001b[39m\u001b[38;5;241m.\u001b[39m_compiled_call_impl(\u001b[38;5;241m*\u001b[39margs, \u001b[38;5;241m*\u001b[39m\u001b[38;5;241m*\u001b[39mkwargs)  \u001b[38;5;66;03m# type: ignore[misc]\u001b[39;00m\n\u001b[0;32m   1552\u001b[0m \u001b[38;5;28;01melse\u001b[39;00m:\n\u001b[1;32m-> 1553\u001b[0m     \u001b[38;5;28;01mreturn\u001b[39;00m \u001b[38;5;28;43mself\u001b[39;49m\u001b[38;5;241;43m.\u001b[39;49m\u001b[43m_call_impl\u001b[49m\u001b[43m(\u001b[49m\u001b[38;5;241;43m*\u001b[39;49m\u001b[43margs\u001b[49m\u001b[43m,\u001b[49m\u001b[43m \u001b[49m\u001b[38;5;241;43m*\u001b[39;49m\u001b[38;5;241;43m*\u001b[39;49m\u001b[43mkwargs\u001b[49m\u001b[43m)\u001b[49m\n",
      "File \u001b[1;32mc:\\Users\\jhw03\\anaconda3\\envs\\cgv\\Lib\\site-packages\\torch\\nn\\modules\\module.py:1562\u001b[0m, in \u001b[0;36mModule._call_impl\u001b[1;34m(self, *args, **kwargs)\u001b[0m\n\u001b[0;32m   1557\u001b[0m \u001b[38;5;66;03m# If we don't have any hooks, we want to skip the rest of the logic in\u001b[39;00m\n\u001b[0;32m   1558\u001b[0m \u001b[38;5;66;03m# this function, and just call forward.\u001b[39;00m\n\u001b[0;32m   1559\u001b[0m \u001b[38;5;28;01mif\u001b[39;00m \u001b[38;5;129;01mnot\u001b[39;00m (\u001b[38;5;28mself\u001b[39m\u001b[38;5;241m.\u001b[39m_backward_hooks \u001b[38;5;129;01mor\u001b[39;00m \u001b[38;5;28mself\u001b[39m\u001b[38;5;241m.\u001b[39m_backward_pre_hooks \u001b[38;5;129;01mor\u001b[39;00m \u001b[38;5;28mself\u001b[39m\u001b[38;5;241m.\u001b[39m_forward_hooks \u001b[38;5;129;01mor\u001b[39;00m \u001b[38;5;28mself\u001b[39m\u001b[38;5;241m.\u001b[39m_forward_pre_hooks\n\u001b[0;32m   1560\u001b[0m         \u001b[38;5;129;01mor\u001b[39;00m _global_backward_pre_hooks \u001b[38;5;129;01mor\u001b[39;00m _global_backward_hooks\n\u001b[0;32m   1561\u001b[0m         \u001b[38;5;129;01mor\u001b[39;00m _global_forward_hooks \u001b[38;5;129;01mor\u001b[39;00m _global_forward_pre_hooks):\n\u001b[1;32m-> 1562\u001b[0m     \u001b[38;5;28;01mreturn\u001b[39;00m \u001b[43mforward_call\u001b[49m\u001b[43m(\u001b[49m\u001b[38;5;241;43m*\u001b[39;49m\u001b[43margs\u001b[49m\u001b[43m,\u001b[49m\u001b[43m \u001b[49m\u001b[38;5;241;43m*\u001b[39;49m\u001b[38;5;241;43m*\u001b[39;49m\u001b[43mkwargs\u001b[49m\u001b[43m)\u001b[49m\n\u001b[0;32m   1564\u001b[0m \u001b[38;5;28;01mtry\u001b[39;00m:\n\u001b[0;32m   1565\u001b[0m     result \u001b[38;5;241m=\u001b[39m \u001b[38;5;28;01mNone\u001b[39;00m\n",
      "File \u001b[1;32mc:\\Users\\jhw03\\anaconda3\\envs\\cgv\\Lib\\site-packages\\torch\\nn\\modules\\container.py:219\u001b[0m, in \u001b[0;36mSequential.forward\u001b[1;34m(self, input)\u001b[0m\n\u001b[0;32m    217\u001b[0m \u001b[38;5;28;01mdef\u001b[39;00m \u001b[38;5;21mforward\u001b[39m(\u001b[38;5;28mself\u001b[39m, \u001b[38;5;28minput\u001b[39m):\n\u001b[0;32m    218\u001b[0m     \u001b[38;5;28;01mfor\u001b[39;00m module \u001b[38;5;129;01min\u001b[39;00m \u001b[38;5;28mself\u001b[39m:\n\u001b[1;32m--> 219\u001b[0m         \u001b[38;5;28minput\u001b[39m \u001b[38;5;241m=\u001b[39m \u001b[43mmodule\u001b[49m\u001b[43m(\u001b[49m\u001b[38;5;28;43minput\u001b[39;49m\u001b[43m)\u001b[49m\n\u001b[0;32m    220\u001b[0m     \u001b[38;5;28;01mreturn\u001b[39;00m \u001b[38;5;28minput\u001b[39m\n",
      "File \u001b[1;32mc:\\Users\\jhw03\\anaconda3\\envs\\cgv\\Lib\\site-packages\\torch\\nn\\modules\\module.py:1553\u001b[0m, in \u001b[0;36mModule._wrapped_call_impl\u001b[1;34m(self, *args, **kwargs)\u001b[0m\n\u001b[0;32m   1551\u001b[0m     \u001b[38;5;28;01mreturn\u001b[39;00m \u001b[38;5;28mself\u001b[39m\u001b[38;5;241m.\u001b[39m_compiled_call_impl(\u001b[38;5;241m*\u001b[39margs, \u001b[38;5;241m*\u001b[39m\u001b[38;5;241m*\u001b[39mkwargs)  \u001b[38;5;66;03m# type: ignore[misc]\u001b[39;00m\n\u001b[0;32m   1552\u001b[0m \u001b[38;5;28;01melse\u001b[39;00m:\n\u001b[1;32m-> 1553\u001b[0m     \u001b[38;5;28;01mreturn\u001b[39;00m \u001b[38;5;28;43mself\u001b[39;49m\u001b[38;5;241;43m.\u001b[39;49m\u001b[43m_call_impl\u001b[49m\u001b[43m(\u001b[49m\u001b[38;5;241;43m*\u001b[39;49m\u001b[43margs\u001b[49m\u001b[43m,\u001b[49m\u001b[43m \u001b[49m\u001b[38;5;241;43m*\u001b[39;49m\u001b[38;5;241;43m*\u001b[39;49m\u001b[43mkwargs\u001b[49m\u001b[43m)\u001b[49m\n",
      "File \u001b[1;32mc:\\Users\\jhw03\\anaconda3\\envs\\cgv\\Lib\\site-packages\\torch\\nn\\modules\\module.py:1562\u001b[0m, in \u001b[0;36mModule._call_impl\u001b[1;34m(self, *args, **kwargs)\u001b[0m\n\u001b[0;32m   1557\u001b[0m \u001b[38;5;66;03m# If we don't have any hooks, we want to skip the rest of the logic in\u001b[39;00m\n\u001b[0;32m   1558\u001b[0m \u001b[38;5;66;03m# this function, and just call forward.\u001b[39;00m\n\u001b[0;32m   1559\u001b[0m \u001b[38;5;28;01mif\u001b[39;00m \u001b[38;5;129;01mnot\u001b[39;00m (\u001b[38;5;28mself\u001b[39m\u001b[38;5;241m.\u001b[39m_backward_hooks \u001b[38;5;129;01mor\u001b[39;00m \u001b[38;5;28mself\u001b[39m\u001b[38;5;241m.\u001b[39m_backward_pre_hooks \u001b[38;5;129;01mor\u001b[39;00m \u001b[38;5;28mself\u001b[39m\u001b[38;5;241m.\u001b[39m_forward_hooks \u001b[38;5;129;01mor\u001b[39;00m \u001b[38;5;28mself\u001b[39m\u001b[38;5;241m.\u001b[39m_forward_pre_hooks\n\u001b[0;32m   1560\u001b[0m         \u001b[38;5;129;01mor\u001b[39;00m _global_backward_pre_hooks \u001b[38;5;129;01mor\u001b[39;00m _global_backward_hooks\n\u001b[0;32m   1561\u001b[0m         \u001b[38;5;129;01mor\u001b[39;00m _global_forward_hooks \u001b[38;5;129;01mor\u001b[39;00m _global_forward_pre_hooks):\n\u001b[1;32m-> 1562\u001b[0m     \u001b[38;5;28;01mreturn\u001b[39;00m \u001b[43mforward_call\u001b[49m\u001b[43m(\u001b[49m\u001b[38;5;241;43m*\u001b[39;49m\u001b[43margs\u001b[49m\u001b[43m,\u001b[49m\u001b[43m \u001b[49m\u001b[38;5;241;43m*\u001b[39;49m\u001b[38;5;241;43m*\u001b[39;49m\u001b[43mkwargs\u001b[49m\u001b[43m)\u001b[49m\n\u001b[0;32m   1564\u001b[0m \u001b[38;5;28;01mtry\u001b[39;00m:\n\u001b[0;32m   1565\u001b[0m     result \u001b[38;5;241m=\u001b[39m \u001b[38;5;28;01mNone\u001b[39;00m\n",
      "File \u001b[1;32mc:\\Users\\jhw03\\Desktop\\Cgv\\CIFAR100-Classfication\\cgv\\models\\shake_pyramidnet.py:27\u001b[0m, in \u001b[0;36mShakeBasicBlock.forward\u001b[1;34m(self, x)\u001b[0m\n\u001b[0;32m     25\u001b[0m h \u001b[38;5;241m=\u001b[39m \u001b[38;5;28mself\u001b[39m\u001b[38;5;241m.\u001b[39mshake_drop(h)\n\u001b[0;32m     26\u001b[0m h0 \u001b[38;5;241m=\u001b[39m x \u001b[38;5;28;01mif\u001b[39;00m \u001b[38;5;129;01mnot\u001b[39;00m \u001b[38;5;28mself\u001b[39m\u001b[38;5;241m.\u001b[39mdownsampled \u001b[38;5;28;01melse\u001b[39;00m \u001b[38;5;28mself\u001b[39m\u001b[38;5;241m.\u001b[39mshortcut(x)\n\u001b[1;32m---> 27\u001b[0m pad_zero \u001b[38;5;241m=\u001b[39m \u001b[43mVariable\u001b[49m\u001b[43m(\u001b[49m\u001b[43mtorch\u001b[49m\u001b[38;5;241;43m.\u001b[39;49m\u001b[43mzeros\u001b[49m\u001b[43m(\u001b[49m\u001b[43mh0\u001b[49m\u001b[38;5;241;43m.\u001b[39;49m\u001b[43msize\u001b[49m\u001b[43m(\u001b[49m\u001b[38;5;241;43m0\u001b[39;49m\u001b[43m)\u001b[49m\u001b[43m,\u001b[49m\u001b[43m \u001b[49m\u001b[43mh\u001b[49m\u001b[38;5;241;43m.\u001b[39;49m\u001b[43msize\u001b[49m\u001b[43m(\u001b[49m\u001b[38;5;241;43m1\u001b[39;49m\u001b[43m)\u001b[49m\u001b[43m \u001b[49m\u001b[38;5;241;43m-\u001b[39;49m\u001b[43m \u001b[49m\u001b[43mh0\u001b[49m\u001b[38;5;241;43m.\u001b[39;49m\u001b[43msize\u001b[49m\u001b[43m(\u001b[49m\u001b[38;5;241;43m1\u001b[39;49m\u001b[43m)\u001b[49m\u001b[43m,\u001b[49m\u001b[43m \u001b[49m\u001b[43mh0\u001b[49m\u001b[38;5;241;43m.\u001b[39;49m\u001b[43msize\u001b[49m\u001b[43m(\u001b[49m\u001b[38;5;241;43m2\u001b[39;49m\u001b[43m)\u001b[49m\u001b[43m,\u001b[49m\u001b[43m \u001b[49m\u001b[43mh0\u001b[49m\u001b[38;5;241;43m.\u001b[39;49m\u001b[43msize\u001b[49m\u001b[43m(\u001b[49m\u001b[38;5;241;43m3\u001b[39;49m\u001b[43m)\u001b[49m\u001b[43m)\u001b[49m\u001b[38;5;241;43m.\u001b[39;49m\u001b[43mfloat\u001b[49m\u001b[43m(\u001b[49m\u001b[43m)\u001b[49m\u001b[43m)\u001b[49m\u001b[38;5;241;43m.\u001b[39;49m\u001b[43mcuda\u001b[49m\u001b[43m(\u001b[49m\u001b[43m)\u001b[49m\n\u001b[0;32m     28\u001b[0m h0 \u001b[38;5;241m=\u001b[39m torch\u001b[38;5;241m.\u001b[39mcat([h0, pad_zero], dim\u001b[38;5;241m=\u001b[39m\u001b[38;5;241m1\u001b[39m)\n\u001b[0;32m     30\u001b[0m \u001b[38;5;28;01mreturn\u001b[39;00m h \u001b[38;5;241m+\u001b[39m h0\n",
      "\u001b[1;31mKeyboardInterrupt\u001b[0m: "
     ]
    }
   ],
   "source": [
    "start_time = time.time()\n",
    "for epoch in tqdm(range(1, config[\"num_epochs\"] + 1)):\n",
    "    if epoch > config[\"warm\"]:\n",
    "        if config[\"scheduler\"] == \"MultiStepLR\":\n",
    "            train_scheduler.step()\n",
    "        elif config[\"scheduler\"] == \"ReduceLROnPlateau\":\n",
    "            train_scheduler.step(test_loss)\n",
    "\n",
    "    if config[\"resume\"]:\n",
    "        if epoch <= resume_epoch:\n",
    "            continue\n",
    "\n",
    "    epoch_loss, train_accuracy = train_model(net, train_loader, criterion, optimizer, epoch=epoch)\n",
    "    if config[\"train_50000\"] == False:\n",
    "        test_loss, test_accuracy = eval_training(net, val_loader, criterion, epoch)\n",
    "    else:\n",
    "        test_loss, test_accuracy = eval_training(net, test_loader, criterion, epoch)\n",
    "\n",
    "    if best_acc[0] < test_accuracy[0]:\n",
    "        if weights_path:  # 모델의 용량 이슈로 새로운 best 모델이 갱신되면 이전 best 모델 삭제\n",
    "            os.remove(weights_path)\n",
    "        weights_path = checkpoint_path.format(net=config[\"model_name\"], epoch=epoch, type=\"best\")\n",
    "        print(\"saving weights file to {}\".format(weights_path))\n",
    "        torch.save(net.state_dict(), weights_path)\n",
    "        best_acc = test_accuracy\n",
    "\n",
    "    early_stopping(test_loss, net)\n",
    "    if early_stopping.early_stop:\n",
    "        print(\"Early stopping\")\n",
    "        break\n",
    "\n",
    "    # wandb.log({\n",
    "    #     \"epoch\": epoch,\n",
    "    #     \"learning_rate\": optimizer.param_groups[0]['lr'],\n",
    "    #     \"train_loss\": epoch_loss,\n",
    "    #     \"train top-1 accuracy\": train_accuracy[0],\n",
    "    #     \"train top-5 accuracy\": train_accuracy[1],\n",
    "    #     \"train super-class accuracy\": train_accuracy[2],\n",
    "    #     \"val_loss\": test_loss,\n",
    "    #     \"valid top-1 accuracy\": test_accuracy[0],\n",
    "    #     \"valid top-5 accuracy\": test_accuracy[1],\n",
    "    #     \"valid super-class accuracy\": test_accuracy[2]\n",
    "    # })\n",
    "\n",
    "end_time = time.time()\n",
    "# wandb.log({\"train_time\": end_time - start_time})\n",
    "\n",
    "# Result\n",
    "print(f\"Result of best {model_name} = Epoch : {epoch}   Loss : {test_loss:.4f}   Top-1 Accuracy : {best_acc[0]*100:.4f}%  Top-5 Accuracy : {best_acc[1]*100:.4f}%   Super Accuracy : {best_acc[2]*100:.4f}%   Total_Accuracy : {sum(best_acc)*100:.4f}    Time : {end_time - start_time:.4f}\")"
   ]
  },
  {
   "cell_type": "markdown",
   "id": "p5YcRgjxvB92",
   "metadata": {
    "id": "p5YcRgjxvB92"
   },
   "source": [
    "**Best Model Test**"
   ]
  },
  {
   "cell_type": "code",
   "execution_count": 14,
   "id": "VM1-xrA_3Ug6",
   "metadata": {
    "id": "VM1-xrA_3Ug6"
   },
   "outputs": [],
   "source": [
    "def all_accuracy(net, test_loader, device):\n",
    "    net2.eval()\n",
    "    top1_correct = 0\n",
    "    top5_correct = 0\n",
    "    total = 0\n",
    "\n",
    "    superclass_correct = 0\n",
    "    superclass_total = 0\n",
    "\n",
    "    with torch.no_grad():\n",
    "        for _, (images, labels) in enumerate(test_loader):\n",
    "\n",
    "            images, labels = images.to(device), labels.to(device)\n",
    "            outputs = net2(images)\n",
    "\n",
    "            _, preds = torch.max(outputs, 1)\n",
    "            top1_correct += torch.sum(preds == labels).item()\n",
    "\n",
    "            _, top5_preds = outputs.topk(5, 1, True, True)\n",
    "            top5_correct += torch.sum(top5_preds.eq(labels.view(-1, 1).expand_as(top5_preds))).item()\n",
    "\n",
    "            total += labels.size(0)\n",
    "\n",
    "            # Superclass accuracy\n",
    "            super_preds = torch.tensor([fine_to_superclass[p.item()] for p in preds], dtype=torch.long)\n",
    "            super_labels = torch.tensor([fine_to_superclass[t.item()] for t in labels], dtype=torch.long)\n",
    "            superclass_correct += torch.sum(super_preds == super_labels).item()\n",
    "            superclass_total += super_labels.size(0)\n",
    "\n",
    "    # 세부 클래스 및 슈퍼 클래스 정확도 계산\n",
    "    top1_acc = top1_correct / total\n",
    "    top5_acc = top5_correct / total\n",
    "    superclass_acc = superclass_correct / superclass_total\n",
    "    accuracy = [top1_acc, top5_acc, superclass_acc]\n",
    "\n",
    "    return accuracy"
   ]
  },
  {
   "cell_type": "code",
   "execution_count": 15,
   "id": "rVneR6Xh_XfY",
   "metadata": {
    "id": "rVneR6Xh_XfY"
   },
   "outputs": [
    {
     "name": "stdout",
     "output_type": "stream",
     "text": [
      "found best acc weights file:runs\\shake_pyramidnet110_270\\savepoints\\Monday_14_October_2024_18h_56m_23s\\shake_pyramidnet110_270-210-best.pth\n",
      "load best training file to test acc...\n"
     ]
    },
    {
     "name": "stderr",
     "output_type": "stream",
     "text": [
      "C:\\Users\\jhw03\\AppData\\Local\\Temp\\ipykernel_23872\\1591997829.py:15: FutureWarning: You are using `torch.load` with `weights_only=False` (the current default value), which uses the default pickle module implicitly. It is possible to construct malicious pickle data which will execute arbitrary code during unpickling (See https://github.com/pytorch/pytorch/blob/main/SECURITY.md#untrusted-models for more details). In a future release, the default value for `weights_only` will be flipped to `True`. This limits the functions that could be executed during unpickling. Arbitrary objects will no longer be allowed to be loaded via this mode unless they are explicitly allowlisted by the user via `torch.serialization.add_safe_globals`. We recommend you start setting `weights_only=True` for any use case where you don't have full control of the loaded file. Please open an issue on GitHub for any issues related to this experimental feature.\n",
      "  net2.load_state_dict(torch.load(weights_path))\n"
     ]
    },
    {
     "name": "stdout",
     "output_type": "stream",
     "text": [
      "Top-1 accuracy: 0.8477\n",
      "Top-5 accuracy: 0.9728\n",
      "Super-Class accuracy: 0.9172\n"
     ]
    }
   ],
   "source": [
    "net2 = model\n",
    "net2.to(device)\n",
    "net2.eval()\n",
    "\n",
    "# 이 코드로 best 모델이 load 되지 않을 경우 아래 코드에서 경로 직접 지정\n",
    "recent_folder = most_recent_folder(os.path.join(\"runs\", config[\"model_name\"], \"savepoints\"), DATE_FORMAT)\n",
    "if not recent_folder:\n",
    "    raise Exception(\"no recent folder were found\")\n",
    "\n",
    "best_weights = best_acc_weights(os.path.join(\"runs\", config[\"model_name\"], \"savepoints\", recent_folder))\n",
    "if best_weights:\n",
    "    weights_path = os.path.join(\"runs\", config[\"model_name\"], \"savepoints\", recent_folder, best_weights)\n",
    "    print('found best acc weights file:{}'.format(weights_path))\n",
    "    print('load best training file to test acc...')\n",
    "    net2.load_state_dict(torch.load(weights_path))\n",
    "\n",
    "acc = all_accuracy(net2, test_loader, device)\n",
    "print(\"Top-1 accuracy: {:.4f}\".format(acc[0]))\n",
    "print(\"Top-5 accuracy: {:.4f}\".format(acc[1]))\n",
    "print(\"Super-Class accuracy: {:.4f}\".format(acc[2]))\n",
    "\n",
    "# wandb.log({\n",
    "#     \"Test Top-1 accuracy\": acc[0],\n",
    "#     \"Test Top-5 accuracy\": acc[1],\n",
    "#     \"Test Super-Class accuracy\": acc[2],\n",
    "#     \"Total Score\": sum(acc)\n",
    "#     })"
   ]
  },
  {
   "cell_type": "code",
   "execution_count": 15,
   "id": "3exQ4RCI34-1",
   "metadata": {
    "colab": {
     "base_uri": "https://localhost:8080/"
    },
    "id": "3exQ4RCI34-1",
    "outputId": "6c819a3d-91ce-48d0-e7f1-495bed210b91"
   },
   "outputs": [
    {
     "name": "stderr",
     "output_type": "stream",
     "text": [
      "/home/cgv/cgv/models/pyramidNet.py:99: UserWarning: The torch.cuda.*DtypeTensor constructors are no longer recommended. It's best to use methods such as torch.tensor(data, dtype=*, device='cuda') to create tensors. (Triggered internally at ../torch/csrc/tensor/python_tensor.cpp:83.)\n",
      "  padding = torch.autograd.Variable(torch.cuda.FloatTensor(batch_size, residual_channel - shortcut_channel, featuremap_size[0], featuremap_size[1]).fill_(0))\n"
     ]
    },
    {
     "name": "stdout",
     "output_type": "stream",
     "text": [
      "Top-1 accuracy: 0.8228\n",
      "Top-5 accuracy: 0.9652\n",
      "Super-Class accuracy: 0.9004\n"
     ]
    }
   ],
   "source": [
    "# # 위 코드에서 에러가 발생해 경로 지정이 제대로 되지 않을 경우 사용\n",
    "\n",
    "# net2 = model\n",
    "# net2.to(device)\n",
    "# net2.load_state_dict(torch.load(\"./runs/MyPyramidNet/savepoints/Saturday_12_October_2024_16h_08m_28s/MyPyramidNet-194-best.pth\"))\n",
    "\n",
    "# acc = all_accuracy(net2, test_loader, device)\n",
    "# print(\"Top-1 accuracy: {:.4f}\".format(acc[0]))\n",
    "# print(\"Top-5 accuracy: {:.4f}\".format(acc[1]))\n",
    "# print(\"Super-Class accuracy: {:.4f}\".format(acc[2]))\n",
    "## wandb.log({\n",
    "##    \"Test Top-1 accuracy\": acc[0],\n",
    "##     \"Test Top-5 accuracy\": acc[1],\n",
    "##    \"Test Super-Class accuracy\": acc[2],\n",
    "##     \"Total Score\": sum(acc)\n",
    "##     })"
   ]
  },
  {
   "cell_type": "markdown",
   "id": "cdc7f408",
   "metadata": {
    "id": "cdc7f408"
   },
   "source": [
    "**Data Analysis**"
   ]
  },
  {
   "cell_type": "code",
   "execution_count": 19,
   "id": "d8404d10-a77a-4544-96d1-70cb306e2a05",
   "metadata": {
    "id": "d8404d10-a77a-4544-96d1-70cb306e2a05"
   },
   "outputs": [],
   "source": [
    "# import wandb.sklearn\n",
    "\n",
    "# classes = train_val_data.classes\n",
    "# coarse_classes = [\n",
    "#     'aquatic mammals', 'fish', 'flowers', 'food containers', 'fruit and vegetables', 'household electrical devices',\n",
    "#     'household furniture', 'insects', 'large carnivores', 'large man-made outdoor things',\n",
    "#     'large natural outdoor scenes', 'large omnivores and herbivores', 'medium-sized mammals',\n",
    "#     'non-insect invertebrates', 'people', 'reptiles', 'small mammals', 'trees', 'vehicles 1', 'vehicles 2'\n",
    "# ]\n",
    "\n",
    "# y_pred = []\n",
    "# y_true = []\n",
    "# y_probs = []\n",
    "\n",
    "# for x, y in torch.utils.data.DataLoader(dataset=test_data, batch_size=config[\"batch_size\"]):\n",
    "#     x = x.to(device)\n",
    "#     y = y.to(device)\n",
    "#     z = net2(x)\n",
    "#     _, yhat = torch.max(z, 1)\n",
    "#     probs = z.softmax(dim=1).cpu().detach().numpy()\n",
    "\n",
    "#     pred = yhat.data.cpu().numpy()\n",
    "    \n",
    "#     super_pred = [coarse_classes[fine_to_superclass[p]] for p in pred]\n",
    "#     y_pred.extend(super_pred)\n",
    "\n",
    "#     labels = y.data.cpu().numpy()\n",
    "#     super_labels = [coarse_classes[fine_to_superclass[l]] for l in labels]\n",
    "#     y_true.extend(super_labels)\n",
    "\n",
    "#     y_probs.extend(probs)\n",
    "    \n",
    "# cf_matrix = confusion_matrix(y_true, y_pred, normalize='true')\n",
    "\n",
    "# df_cm = pd.DataFrame(cf_matrix, index=coarse_classes,\n",
    "#                      columns=coarse_classes)\n",
    "\n",
    "# plt.figure(figsize=(10, 7))\n",
    "# sns.heatmap(df_cm, annot=True, fmt='.2f', cmap='Blues')\n",
    "# plt.title(f'Confusion Matrix of {config[\"model_name\"]} (CIFAR-100 Superclass)')\n",
    "# plt.xlabel('Predicted')\n",
    "# plt.ylabel('Real')\n",
    "\n",
    "# conf_matrix_img = wandb.Image(plt.gcf())\n",
    "# plt.close()\n",
    "\n",
    "# class_report = classification_report(y_true, y_pred, labels=coarse_classes, zero_division=0)\n",
    "\n",
    "# plt.figure(figsize=(10, 7))\n",
    "# plt.text(0.01, 0.05, str(class_report), {'fontsize': 12}, fontproperties='monospace')  # monospaced font\n",
    "# plt.axis('off')  # 축 제거\n",
    "# plt.tight_layout()\n",
    "\n",
    "# class_report_img = wandb.Image(plt.gcf())\n",
    "# plt.close()\n",
    "\n",
    "# wandb.log({\n",
    "#     \"Confusion Matrix\": conf_matrix_img,\n",
    "#     \"Classification Report\": class_report_img\n",
    "#     })"
   ]
  },
  {
   "cell_type": "code",
   "execution_count": 20,
   "id": "6c9076a5-82f4-4ec9-9903-5f20c093aa6d",
   "metadata": {},
   "outputs": [
    {
     "data": {
      "text/html": [
       "<style>\n",
       "    table.wandb td:nth-child(1) { padding: 0 10px; text-align: left ; width: auto;} td:nth-child(2) {text-align: left ; width: 100%}\n",
       "    .wandb-row { display: flex; flex-direction: row; flex-wrap: wrap; justify-content: flex-start; width: 100% }\n",
       "    .wandb-col { display: flex; flex-direction: column; flex-basis: 100%; flex: 1; padding: 10px; }\n",
       "    </style>\n",
       "<div class=\"wandb-row\"><div class=\"wandb-col\"><h3>Run history:</h3><br/><table class=\"wandb\"><tr><td>Test Super-Class accuracy</td><td>▁</td></tr><tr><td>Test Top-1 accuracy</td><td>▁</td></tr><tr><td>Test Top-5 accuracy</td><td>▁</td></tr><tr><td>Total Score</td><td>▁</td></tr><tr><td>epoch</td><td>▁▁▁▂▂▂▂▃▃▃▃▃▃▃▃▃▃▃▄▄▄▄▅▅▅▆▆▆▆▆▆▆▆▆▆█████</td></tr><tr><td>learning_rate</td><td>██████████▂▂▂▂▂▁▁▁▁▁▁▁▁▁▁▁▁▁▁▁▁▁▁▁▁▁▁▁▁▁</td></tr><tr><td>train super-class accuracy</td><td>▁▁▂▂▃▄▄▅▄▄▅▆▆▆▆▆▇███████████████████████</td></tr><tr><td>train top-1 accuracy</td><td>▁▁▃▂▃▃▃▅▅▅▆▇▇▇▇▇█▇██████████████████████</td></tr><tr><td>train top-5 accuracy</td><td>▁▄▅▅▅▆▆▆▆▆▆▆▇▇▇▇▇███████████████████████</td></tr><tr><td>train_loss</td><td>█▇▆▆▆▅▅▅▅▅▅▅▅▅▄▃▃▂▂▂▂▂▂▁▁▂▁▁▁▁▁▁▁▁▁▁▁▁▁▁</td></tr><tr><td>val_loss</td><td>█▆▅▄▄▃▃▃▃▃▃▂▂▂▁▁▁▁▁▁▁▁▁▁▁▁▁▁▁▁▁▁▁▁▁▁▁▁▁▁</td></tr><tr><td>valid super-class accuracy</td><td>▁▂▃▃▄▅▅▆▆▅▆▆▇▇▇█████████████████████████</td></tr><tr><td>valid top-1 accuracy</td><td>▁▃▄▄▅▆▅▅▆▅▆▇▇▇██████████████████████████</td></tr><tr><td>valid top-5 accuracy</td><td>▁▅▅▆▆▅▆▇▇▇██████████████████████████████</td></tr></table><br/></div><div class=\"wandb-col\"><h3>Run summary:</h3><br/><table class=\"wandb\"><tr><td>Test Super-Class accuracy</td><td>0.9172</td></tr><tr><td>Test Top-1 accuracy</td><td>0.8477</td></tr><tr><td>Test Top-5 accuracy</td><td>0.9728</td></tr><tr><td>Total Score</td><td>2.7377</td></tr><tr><td>epoch</td><td>252</td></tr><tr><td>learning_rate</td><td>0.0</td></tr><tr><td>train super-class accuracy</td><td>0.91814</td></tr><tr><td>train top-1 accuracy</td><td>0.87108</td></tr><tr><td>train top-5 accuracy</td><td>0.96812</td></tr><tr><td>train_loss</td><td>0.47119</td></tr><tr><td>val_loss</td><td>0.00449</td></tr><tr><td>valid super-class accuracy</td><td>0.9146</td></tr><tr><td>valid top-1 accuracy</td><td>0.8435</td></tr><tr><td>valid top-5 accuracy</td><td>0.973</td></tr></table><br/></div></div>"
      ],
      "text/plain": [
       "<IPython.core.display.HTML object>"
      ]
     },
     "metadata": {},
     "output_type": "display_data"
    },
    {
     "data": {
      "text/html": [
       " View run <strong style=\"color:#cdcd00\">shake_pyramidnet110_270</strong> at: <a href='https://wandb.ai/hyunwook7120-hanyang-university/CIFAR-100_Classification/runs/nzefrygt' target=\"_blank\">https://wandb.ai/hyunwook7120-hanyang-university/CIFAR-100_Classification/runs/nzefrygt</a><br/> View project at: <a href='https://wandb.ai/hyunwook7120-hanyang-university/CIFAR-100_Classification' target=\"_blank\">https://wandb.ai/hyunwook7120-hanyang-university/CIFAR-100_Classification</a><br/>Synced 4 W&B file(s), 0 media file(s), 3 artifact file(s) and 2 other file(s)"
      ],
      "text/plain": [
       "<IPython.core.display.HTML object>"
      ]
     },
     "metadata": {},
     "output_type": "display_data"
    },
    {
     "data": {
      "text/html": [
       "Find logs at: <code>.\\wandb\\run-20241014_185620-nzefrygt\\logs</code>"
      ],
      "text/plain": [
       "<IPython.core.display.HTML object>"
      ]
     },
     "metadata": {},
     "output_type": "display_data"
    }
   ],
   "source": [
    "# wandb.finish()"
   ]
  }
 ],
 "metadata": {
  "accelerator": "GPU",
  "colab": {
   "gpuType": "T4",
   "machine_shape": "hm",
   "provenance": []
  },
  "kernelspec": {
   "display_name": "dl",
   "language": "python",
   "name": "python3"
  },
  "language_info": {
   "codemirror_mode": {
    "name": "ipython",
    "version": 3
   },
   "file_extension": ".py",
   "mimetype": "text/x-python",
   "name": "python",
   "nbconvert_exporter": "python",
   "pygments_lexer": "ipython3",
   "version": "3.8.19"
  }
 },
 "nbformat": 4,
 "nbformat_minor": 5
}
