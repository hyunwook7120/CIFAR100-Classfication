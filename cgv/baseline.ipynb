{
 "cells": [
  {
   "cell_type": "markdown",
   "id": "da55e5a3-cdd0-4b19-a405-6d25853d33f9",
   "metadata": {
    "id": "da55e5a3-cdd0-4b19-a405-6d25853d33f9"
   },
   "source": [
    "**Load Module**"
   ]
  },
  {
   "cell_type": "code",
   "execution_count": 1,
   "id": "83038a2e-883a-4da6-97bd-c5371f13c182",
   "metadata": {
    "id": "83038a2e-883a-4da6-97bd-c5371f13c182"
   },
   "outputs": [],
   "source": [
    "# Utils\n",
    "import numpy as np\n",
    "import pandas as pd\n",
    "import seaborn as sns\n",
    "import matplotlib.pyplot as plt\n",
    "from tqdm import tqdm\n",
    "import random\n",
    "import os\n",
    "import time\n",
    "from datetime import datetime\n",
    "from sklearn.model_selection import StratifiedShuffleSplit\n",
    "from utility.utils import EarlyStopping, WarmUpLR, most_recent_folder, most_recent_weights, best_acc_weights, last_epoch\n",
    "\n",
    "# Torch\n",
    "import torch\n",
    "import torch.nn as nn\n",
    "import torch.nn.functional as F\n",
    "from torchsummary import summary\n",
    "import torch.optim as optim\n",
    "from torch.utils.data import DataLoader, SubsetRandomSampler, Subset\n",
    "\n",
    "import torchvision\n",
    "from torchvision import transforms, datasets\n",
    "\n",
    "# Analysis\n",
    "from sklearn.metrics import confusion_matrix, classification_report\n",
    "import wandb\n"
   ]
  },
  {
   "cell_type": "markdown",
   "id": "bbdc13d1-90ff-4301-8dac-07977aaaddcf",
   "metadata": {
    "id": "bbdc13d1-90ff-4301-8dac-07977aaaddcf"
   },
   "source": [
    "**Seed & Device Setting**"
   ]
  },
  {
   "cell_type": "code",
   "execution_count": 2,
   "id": "9b8539ad-3c66-4c94-abb2-fcc33f97d3ca",
   "metadata": {
    "colab": {
     "base_uri": "https://localhost:8080/"
    },
    "id": "9b8539ad-3c66-4c94-abb2-fcc33f97d3ca",
    "outputId": "ed6e73ba-1056-4f62-fc55-15b56acfe3c2"
   },
   "outputs": [
    {
     "data": {
      "text/plain": [
       "device(type='cuda', index=0)"
      ]
     },
     "execution_count": 2,
     "metadata": {},
     "output_type": "execute_result"
    }
   ],
   "source": [
    "def set_seed(seed):\n",
    "    torch.manual_seed(seed)\n",
    "    torch.cuda.manual_seed(seed)\n",
    "    torch.cuda.manual_seed_all(seed) # GPU 여러 개 사용할 경우 사용\n",
    "    torch.backends.cudnn.deterministic = True\n",
    "    torch.backends.cudnn.benchmark = False # 완벽한 재현성을 위해선 False로 하는 게 맞지만 성능의 저하를 일으킬 수 있음\n",
    "    np.random.seed(seed)\n",
    "    random.seed(seed)\n",
    "\n",
    "seed = 42\n",
    "set_seed(seed)\n",
    "\n",
    "# 디바이스 설정\n",
    "device = torch.device(\"cuda:0\" if torch.cuda.is_available() else \"cpu\")\n",
    "device"
   ]
  },
  {
   "cell_type": "markdown",
   "id": "a35b5e51",
   "metadata": {
    "id": "a35b5e51"
   },
   "source": [
    "**Wandb Setting & Set Hyperparameters (수정 구간)**"
   ]
  },
  {
   "cell_type": "code",
   "execution_count": 3,
   "id": "d5ce35ad",
   "metadata": {
    "colab": {
     "base_uri": "https://localhost:8080/",
     "height": 254
    },
    "id": "d5ce35ad",
    "outputId": "26c52ce7-bcef-496e-fd7d-d9ea23426c27"
   },
   "outputs": [
    {
     "name": "stderr",
     "output_type": "stream",
     "text": [
      "wandb: Using wandb-core as the SDK backend. Please refer to https://wandb.me/wandb-core for more information.\n",
      "wandb: Currently logged in as: hyunwook7120 (hyunwook7120-hanyang-university). Use `wandb login --relogin` to force relogin\n"
     ]
    },
    {
     "data": {
      "text/html": [
       "Tracking run with wandb version 0.18.2"
      ],
      "text/plain": [
       "<IPython.core.display.HTML object>"
      ]
     },
     "metadata": {},
     "output_type": "display_data"
    },
    {
     "data": {
      "text/html": [
       "Run data is saved locally in <code>c:\\Users\\jhw03\\Screen\\cgv\\CIFAR100-Classfication\\cgv\\wandb\\run-20241012_141634-1sjdyv9u</code>"
      ],
      "text/plain": [
       "<IPython.core.display.HTML object>"
      ]
     },
     "metadata": {},
     "output_type": "display_data"
    },
    {
     "data": {
      "text/html": [
       "Syncing run <strong><a href='https://wandb.ai/hyunwook7120-hanyang-university/CIFAR-100_Classification/runs/1sjdyv9u' target=\"_blank\">resnet_18_base</a></strong> to <a href='https://wandb.ai/hyunwook7120-hanyang-university/CIFAR-100_Classification' target=\"_blank\">Weights & Biases</a> (<a href='https://wandb.me/run' target=\"_blank\">docs</a>)<br/>"
      ],
      "text/plain": [
       "<IPython.core.display.HTML object>"
      ]
     },
     "metadata": {},
     "output_type": "display_data"
    },
    {
     "data": {
      "text/html": [
       " View project at <a href='https://wandb.ai/hyunwook7120-hanyang-university/CIFAR-100_Classification' target=\"_blank\">https://wandb.ai/hyunwook7120-hanyang-university/CIFAR-100_Classification</a>"
      ],
      "text/plain": [
       "<IPython.core.display.HTML object>"
      ]
     },
     "metadata": {},
     "output_type": "display_data"
    },
    {
     "data": {
      "text/html": [
       " View run at <a href='https://wandb.ai/hyunwook7120-hanyang-university/CIFAR-100_Classification/runs/1sjdyv9u' target=\"_blank\">https://wandb.ai/hyunwook7120-hanyang-university/CIFAR-100_Classification/runs/1sjdyv9u</a>"
      ],
      "text/plain": [
       "<IPython.core.display.HTML object>"
      ]
     },
     "metadata": {},
     "output_type": "display_data"
    },
    {
     "data": {
      "text/html": [
       "<button onClick=\"this.nextSibling.style.display='block';this.style.display='none';\">Display W&B run</button><iframe src='https://wandb.ai/hyunwook7120-hanyang-university/CIFAR-100_Classification/runs/1sjdyv9u?jupyter=true' style='border:none;width:100%;height:420px;display:none;'></iframe>"
      ],
      "text/plain": [
       "<wandb.sdk.wandb_run.Run at 0x1e2ac236520>"
      ]
     },
     "execution_count": 3,
     "metadata": {},
     "output_type": "execute_result"
    }
   ],
   "source": [
    "config = {\n",
    "    \"batch_size\" : 128,\n",
    "    \"num_epochs\" : 250,\n",
    "    \"learning_rate\" : 0.1,\n",
    "    \"momentum\" : 0.9,\n",
    "    \"weight_decay\" : 5e-4,\n",
    "    \"nesterov\" : False,\n",
    "    \"gamma\" : 0.2,\n",
    "    \"warm\" : 1,\n",
    "    \"patience\" : 150,\n",
    "    \"plateau_patience\" : 15,\n",
    "    \"milestones\" : [100, 150, 200],\n",
    "    \"pin_memory\" : True,\n",
    "\n",
    "    \"resume\" : False,\n",
    "    \"model_name\" : \"resnet_18_base\",\n",
    "    \"stratified_data\" : True,\n",
    "    \"scheduler\" : \"MultiStepLR\"\n",
    "}\n",
    "if config[\"resume\"] == True:\n",
    "    config[\"warm\"] = 0\n",
    "model_name = config[\"model_name\"]\n",
    "wandb.init(project=\"CIFAR-100_Classification\", name=config[\"model_name\"], config=config)"
   ]
  },
  {
   "cell_type": "code",
   "execution_count": 4,
   "id": "a8d1e41f",
   "metadata": {
    "id": "a8d1e41f"
   },
   "outputs": [],
   "source": [
    "fine_to_superclass = {\n",
    "    4: 0, 30: 0, 55: 0, 72: 0, 95: 0,       # aquatic mammals\n",
    "    1: 1, 32: 1, 67: 1, 73: 1, 91: 1,       # fish\n",
    "    54: 2, 62: 2, 70: 2, 82: 2, 92: 2,      # flowers\n",
    "    9: 3, 10: 3, 16: 3, 28: 3, 61: 3,       # food containers\n",
    "    0: 4, 51: 4, 53: 4, 57: 4, 83: 4,       # fruit and vegetables\n",
    "    22: 5, 39: 5, 40: 5, 86: 5, 87: 5,      # household electrical devices\n",
    "    5: 6, 20: 6, 25: 6, 84: 6, 94: 6,       # household furniture\n",
    "    6: 7, 7: 7, 14: 7, 18: 7, 24: 7,        # insects\n",
    "    3: 8, 42: 8, 43: 8, 88: 8, 97: 8,       # large carnivores\n",
    "    12: 9, 17: 9, 37: 9, 68: 9, 76: 9,      # large man-made outdoor things\n",
    "    23: 10, 33: 10, 49: 10, 60: 10, 71: 10, # large natural outdoor scenes\n",
    "    15: 11, 19: 11, 21: 11, 31: 11, 38: 11, # large omnivores and herbivores\n",
    "    34: 12, 63: 12, 64: 12, 66: 12, 75: 12, # medium-sized mammals\n",
    "    26: 13, 45: 13, 77: 13, 79: 13, 99: 13, # non-insect invertebrates\n",
    "    2: 14, 11: 14, 35: 14, 46: 14, 98: 14,  # people\n",
    "    27: 15, 29: 15, 44: 15, 78: 15, 93: 15, # reptiles\n",
    "    36: 16, 50: 16, 65: 16, 74: 16, 80: 16, # small mammals\n",
    "    47: 17, 52: 17, 56: 17, 59: 17, 96: 17, # trees\n",
    "    8: 18, 13: 18, 48: 18, 58: 18, 90: 18,  # vehicles 1\n",
    "    41: 19, 69: 19, 81: 19, 85: 19, 89: 19  # vehicles 2\n",
    "}"
   ]
  },
  {
   "cell_type": "markdown",
   "id": "3e04e253-49c0-4c37-8260-5e02f2c09452",
   "metadata": {
    "id": "3e04e253-49c0-4c37-8260-5e02f2c09452"
   },
   "source": [
    "# Data Preprocessing"
   ]
  },
  {
   "cell_type": "markdown",
   "id": "ZKl6oKBffJYA",
   "metadata": {
    "id": "ZKl6oKBffJYA"
   },
   "source": [
    "**Data Augementation (수정 구간)**"
   ]
  },
  {
   "cell_type": "code",
   "execution_count": 5,
   "id": "93758c0c-b1d2-4ab9-afb4-bdd60a04dbd3",
   "metadata": {
    "id": "93758c0c-b1d2-4ab9-afb4-bdd60a04dbd3"
   },
   "outputs": [],
   "source": [
    "CIFAR100_TRAIN_MEAN = (0.5070751592371323, 0.48654887331495095, 0.4409178433670343)\n",
    "CIFAR100_TRAIN_STD = (0.2673342858792401, 0.2564384629170883, 0.27615047132568404)\n",
    "\n",
    "train_val_transform = transforms.Compose([\n",
    "    transforms.RandomCrop(32, padding=4),\n",
    "    transforms.RandomHorizontalFlip(),\n",
    "    # transforms.RandomRotation(degrees=15),\n",
    "    # transforms.ColorJitter(brightness=0.2, contrast=0.2, saturation=0.2, hue=0.1),\n",
    "    transforms.ToTensor(),\n",
    "    transforms.Normalize(CIFAR100_TRAIN_MEAN, CIFAR100_TRAIN_STD)\n",
    "])\n",
    "\n",
    "test_transform = transforms.Compose([\n",
    "    transforms.ToTensor(),\n",
    "    transforms.Normalize(CIFAR100_TRAIN_MEAN, CIFAR100_TRAIN_STD)\n",
    "])"
   ]
  },
  {
   "cell_type": "markdown",
   "id": "13ade0a7-66ce-48f4-96b0-f4719beaf090",
   "metadata": {
    "id": "13ade0a7-66ce-48f4-96b0-f4719beaf090"
   },
   "source": [
    "**Splitting the training data**"
   ]
  },
  {
   "cell_type": "code",
   "execution_count": 6,
   "id": "09b4a6e5-9118-449a-bfb8-d05f9d339304",
   "metadata": {
    "colab": {
     "base_uri": "https://localhost:8080/"
    },
    "id": "09b4a6e5-9118-449a-bfb8-d05f9d339304",
    "outputId": "f8325035-cd21-4715-b7a6-1e0d8d0dfcd5"
   },
   "outputs": [
    {
     "name": "stdout",
     "output_type": "stream",
     "text": [
      "Files already downloaded and verified\n",
      "Files already downloaded and verified\n",
      "Files already downloaded and verified\n"
     ]
    }
   ],
   "source": [
    "train_val_data = datasets.CIFAR100(root='./data', train=True, download=True, transform=train_val_transform)\n",
    "val_data = datasets.CIFAR100(root='./data', train=True, download=True, transform=test_transform)\n",
    "test_data = datasets.CIFAR100(root='./data', train=False, download=True, transform=test_transform)"
   ]
  },
  {
   "cell_type": "code",
   "execution_count": 7,
   "id": "82c9ab44-2b89-4d17-b90d-f42d1e8fe426",
   "metadata": {
    "id": "82c9ab44-2b89-4d17-b90d-f42d1e8fe426"
   },
   "outputs": [],
   "source": [
    "# Stratified 방식으로 train 데이터를 train/val로 나누기\n",
    "if config[\"stratified_data\"]:\n",
    "  labels = train_val_data.targets\n",
    "  stratified_split = StratifiedShuffleSplit(n_splits=1, test_size=0.2, random_state=42)\n",
    "\n",
    "  for train_index, val_index in stratified_split.split(train_val_data.data, labels):\n",
    "      train_data = Subset(train_val_data, train_index)\n",
    "      val_data = Subset(val_data, val_index)\n",
    "else:\n",
    "  # RandomSampler 방식으로 train 데이터를 train/val로 나누기\n",
    "  num_train = len(train_val_data)\n",
    "  indices = list(range(num_train))\n",
    "  split = int(np.floor(0.2 * num_train))  # validation 데이터를 20%로 설정\n",
    "\n",
    "  np.random.shuffle(indices)\n",
    "  train_idx, val_idx = indices[split:], indices[:split]\n",
    "\n",
    "  train_sampler = SubsetRandomSampler(train_idx)\n",
    "  val_sampler = SubsetRandomSampler(val_idx)"
   ]
  },
  {
   "cell_type": "markdown",
   "id": "ce676124-c073-4aec-a000-cb061ac3e10a",
   "metadata": {
    "id": "ce676124-c073-4aec-a000-cb061ac3e10a"
   },
   "source": [
    "**Define Dataloader**"
   ]
  },
  {
   "cell_type": "code",
   "execution_count": 8,
   "id": "824ddf7d-d749-456a-b717-e257489431b9",
   "metadata": {
    "colab": {
     "base_uri": "https://localhost:8080/"
    },
    "id": "824ddf7d-d749-456a-b717-e257489431b9",
    "outputId": "8bfd89af-a57a-441c-9a14-d549ff2ef41d"
   },
   "outputs": [],
   "source": [
    "if config[\"stratified_data\"]:\n",
    "  train_loader = DataLoader(train_data, batch_size=config[\"batch_size\"], shuffle=True, num_workers=4, pin_memory=config[\"pin_memory\"])\n",
    "  val_loader = DataLoader(val_data, batch_size=config[\"batch_size\"], shuffle=False, num_workers=4, pin_memory=config[\"pin_memory\"])\n",
    "  test_loader = DataLoader(test_data, batch_size=config[\"batch_size\"], shuffle=False, num_workers=4, pin_memory=config[\"pin_memory\"])\n",
    "else:\n",
    "  train_loader = DataLoader(train_val_data, batch_size=config[\"batch_size\"], sampler=train_sampler, num_workers=4, pin_memory=config[\"pin_memory\"])\n",
    "  val_loader = DataLoader(train_val_data, batch_size=config[\"batch_size\"], shuffle=False, sampler=val_sampler, num_workers=4, pin_memory=config[\"pin_memory\"])\n",
    "  test_loader = DataLoader(test_data, batch_size=config[\"batch_size\"], shuffle=False, num_workers=4, pin_memory=config[\"pin_memory\"])"
   ]
  },
  {
   "cell_type": "markdown",
   "id": "0e300067-8688-4cb1-b34b-a9dcd504c860",
   "metadata": {
    "id": "0e300067-8688-4cb1-b34b-a9dcd504c860"
   },
   "source": [
    "**Model Initialize (수정 부분)**"
   ]
  },
  {
   "cell_type": "code",
   "execution_count": 9,
   "id": "7a58ae19-69f4-49a5-b704-d878caa5d7c7",
   "metadata": {
    "colab": {
     "base_uri": "https://localhost:8080/"
    },
    "id": "7a58ae19-69f4-49a5-b704-d878caa5d7c7",
    "outputId": "70f5d330-681b-4ffd-de0b-16232491cdc4",
    "scrolled": true
   },
   "outputs": [
    {
     "name": "stdout",
     "output_type": "stream",
     "text": [
      "use: cuda:0\n",
      "Optimizer's state_dict:\n",
      "state \t {}\n",
      "param_groups \t [{'lr': 0.0, 'momentum': 0.9, 'dampening': 0, 'weight_decay': 0.0005, 'nesterov': False, 'maximize': False, 'foreach': None, 'differentiable': False, 'fused': None, 'initial_lr': 0.1, 'params': [0, 1, 2, 3, 4, 5, 6, 7, 8, 9, 10, 11, 12, 13, 14, 15, 16, 17, 18, 19, 20, 21, 22, 23, 24, 25, 26, 27, 28, 29, 30, 31, 32, 33, 34, 35, 36, 37, 38, 39, 40, 41, 42, 43, 44, 45, 46, 47, 48, 49, 50, 51, 52, 53, 54, 55, 56, 57, 58, 59, 60, 61]}]\n"
     ]
    }
   ],
   "source": [
    "from models import resnet\n",
    "\n",
    "print(\"use:\", device)\n",
    "\n",
    "# 모델 초기화\n",
    "model = resnet.resnet18()\n",
    "net = model\n",
    "# 모델을 GPU로 이동\n",
    "net.to(device)\n",
    "\n",
    "# print(summary(net, (3,224,224)))\n",
    "\n",
    "criterion = nn.CrossEntropyLoss()\n",
    "optimizer = optim.SGD(net.parameters(), lr=config[\"learning_rate\"], momentum=config[\"momentum\"], weight_decay=config[\"weight_decay\"], nesterov=config[\"nesterov\"])\n",
    "\n",
    "if config[\"scheduler\"] == \"MultiStepLR\":\n",
    "    train_scheduler = optim.lr_scheduler.MultiStepLR(optimizer, config[\"milestones\"], gamma=config[\"gamma\"]) #learning rate decay\n",
    "elif config[\"scheduler\"] == \"ReduceLROnPlateau\":\n",
    "    train_scheduler = optim.lr_scheduler.ReduceLROnPlateau(optimizer, \"min\", factor=config[\"gamma\"], patience=config[\"plateau_patience\"])\n",
    "else:\n",
    "    print(\"No scheduler!!\")\n",
    "iter_per_epoch = len(train_loader)\n",
    "warmup_scheduler = WarmUpLR(optimizer, iter_per_epoch * config[\"warm\"])\n",
    "early_stopping = EarlyStopping(patience=config[\"patience\"], verbose=True)\n",
    "\n",
    "print(\"Optimizer's state_dict:\")\n",
    "for var_name in optimizer.state_dict():\n",
    "    print(var_name, \"\\t\", optimizer.state_dict()[var_name])"
   ]
  },
  {
   "cell_type": "markdown",
   "id": "8b49f37a-e104-42df-a9a6-6ba473a9881f",
   "metadata": {
    "id": "8b49f37a-e104-42df-a9a6-6ba473a9881f"
   },
   "source": [
    "**Model Train**"
   ]
  },
  {
   "cell_type": "code",
   "execution_count": 10,
   "id": "96ba42f4-6da7-4f0c-983b-b8b82da34879",
   "metadata": {
    "id": "96ba42f4-6da7-4f0c-983b-b8b82da34879"
   },
   "outputs": [],
   "source": [
    "# 모델 학습 함수\n",
    "def train_model(net, trainloader, criterion, optimizer, epoch):\n",
    "    net.train()\n",
    "    start = time.time()\n",
    "    top1_correct = 0\n",
    "    top5_correct = 0\n",
    "    total = 0\n",
    "\n",
    "    superclass_correct = 0\n",
    "    superclass_total = 0\n",
    "\n",
    "    running_loss = 0.0\n",
    "    for batch_idx, (inputs, labels) in enumerate(trainloader):\n",
    "        labels, inputs = labels.to(device), inputs.to(device)\n",
    "\n",
    "        optimizer.zero_grad()\n",
    "\n",
    "        # 모델 예측\n",
    "        outputs = net(inputs)\n",
    "        loss = criterion(outputs, labels)\n",
    "\n",
    "        _, preds = torch.max(outputs, 1)\n",
    "        top1_correct += torch.sum(preds == labels).item()\n",
    "\n",
    "        _, top5_preds = outputs.topk(5, 1, True, True)\n",
    "        top5_correct += torch.sum(top5_preds.eq(labels.view(-1, 1).expand_as(top5_preds))).item()\n",
    "\n",
    "        total += labels.size(0)\n",
    "\n",
    "        # Superclass accuracy\n",
    "        super_preds = torch.tensor([fine_to_superclass[p.item()] for p in preds], dtype=torch.long)\n",
    "        super_labels = torch.tensor([fine_to_superclass[t.item()] for t in labels], dtype=torch.long)\n",
    "        superclass_correct += torch.sum(super_preds == super_labels).item()\n",
    "        superclass_total += super_labels.size(0)\n",
    "\n",
    "        # 역전파 및 최적화\n",
    "        loss.backward()\n",
    "        optimizer.step()\n",
    "\n",
    "        n_iter = (epoch - 1) * len(train_loader) + batch_idx + 1\n",
    "        running_loss += loss.item() * inputs.size(0)\n",
    "\n",
    "        # 30번째 배치마다 상태 출력\n",
    "        if (batch_idx + 1) % 30 == 0:\n",
    "            print(f\"Batch [{batch_idx+1}/{len(trainloader)}], Loss: {loss.item():.4f}\")\n",
    "\n",
    "        # LR에 warmup 되는 게 안 보이지만 실제론 이루어지고 있음. batch로 돌 때 이루어짐.\n",
    "        if epoch <= config[\"warm\"]:\n",
    "            warmup_scheduler.step()\n",
    "\n",
    "\n",
    "    # Epoch당 평균 손실 계산 및 출력\n",
    "    epoch_loss = running_loss / total\n",
    "\n",
    "    num_epochs = config[\"num_epochs\"]\n",
    "    finish = time.time()\n",
    "\n",
    "    # 세부 클래스 및 슈퍼 클래스 정확도 계산\n",
    "    top1_acc = top1_correct / total\n",
    "    top5_acc = top5_correct / total\n",
    "    superclass_acc = superclass_correct / superclass_total\n",
    "    accuracy = [top1_acc, top5_acc, superclass_acc]\n",
    "\n",
    "    print(\"Train set: Epoch: {}, Average loss:{:.4f}, LR: {:.6f} Top-1 Accuracy: {:.4f}, Top-5 Accuracy: {:.4f}, SuperClass Accuracy: {:.4f}, Time consumed:{:.2f}s\".format(\n",
    "        epoch,\n",
    "        epoch_loss,\n",
    "        optimizer.param_groups[0]['lr'],\n",
    "        top1_acc,\n",
    "        top5_acc,\n",
    "        superclass_acc,\n",
    "        finish - start\n",
    "    ))\n",
    "\n",
    "    return epoch_loss, accuracy\n",
    "\n",
    "def eval_training(net, testloader, criterion, epoch):\n",
    "    net.eval()\n",
    "    top1_correct = 0\n",
    "    top5_correct = 0\n",
    "    total = 0\n",
    "\n",
    "    superclass_correct = 0\n",
    "    superclass_total = 0\n",
    "\n",
    "    start = time.time()\n",
    "\n",
    "    test_loss = 0.0\n",
    "\n",
    "    with torch.no_grad():\n",
    "        for images, labels in testloader:\n",
    "            images, labels = images.to(device), labels.to(device)\n",
    "            outputs = net(images)\n",
    "\n",
    "            _, preds = torch.max(outputs, 1)\n",
    "            top1_correct += torch.sum(preds == labels).item()\n",
    "\n",
    "            _, top5_preds = outputs.topk(5, 1, True, True)\n",
    "            top5_correct += torch.sum(top5_preds.eq(labels.view(-1, 1).expand_as(top5_preds))).item()\n",
    "\n",
    "            total += labels.size(0)\n",
    "\n",
    "            test_loss += criterion(outputs, labels)\n",
    "\n",
    "            # Superclass accuracy\n",
    "            super_preds = torch.tensor([fine_to_superclass[p.item()] for p in preds], dtype=torch.long)\n",
    "            super_labels = torch.tensor([fine_to_superclass[t.item()] for t in labels], dtype=torch.long)\n",
    "            superclass_correct += torch.sum(super_preds == super_labels).item()\n",
    "            superclass_total += super_labels.size(0)\n",
    "\n",
    "    finish = time.time()\n",
    "    average_loss = test_loss / total\n",
    "\n",
    "    # 세부 클래스 및 슈퍼 클래스 정확도 계산\n",
    "    top1_acc = top1_correct / total\n",
    "    top5_acc = top5_correct / total\n",
    "    superclass_acc = superclass_correct / superclass_total\n",
    "    accuracy = [top1_acc, top5_acc, superclass_acc]\n",
    "\n",
    "    print(\"Test set: Epoch: {}, Average loss:{:.4f}, Top-1 Accuracy: {:.4f}, Top-5 Accuracy: {:.4f}, SuperClass Accuracy: {:.4f}, Time consumed:{:.2f}s\".format(\n",
    "        epoch,\n",
    "        average_loss,\n",
    "        top1_acc,\n",
    "        top5_acc,\n",
    "        superclass_acc,\n",
    "        finish - start\n",
    "    ))\n",
    "    print()\n",
    "\n",
    "    return average_loss, accuracy"
   ]
  },
  {
   "cell_type": "code",
   "execution_count": 14,
   "id": "7e079b97-a215-4b55-aedd-c1297773426d",
   "metadata": {
    "id": "7e079b97-a215-4b55-aedd-c1297773426d"
   },
   "outputs": [],
   "source": [
    "DATE_FORMAT = '%A_%d_%B_%Y_%Hh_%Mm_%Ss'\n",
    "TIME_NOW = datetime.now().strftime(DATE_FORMAT)\n",
    "\n",
    "if config[\"resume\"]:\n",
    "    recent_folder = most_recent_folder(os.path.join(\"runs\", config[\"model_name\"], \"savepoints\"), DATE_FORMAT)\n",
    "    if not recent_folder:\n",
    "        raise Exception(\"no recent folder were found\")\n",
    "\n",
    "    checkpoint_path = os.path.join(\"runs\", config[\"model_name\"], \"savepoints\", recent_folder)\n",
    "else:\n",
    "    checkpoint_path = os.path.join(\"runs\", config[\"model_name\"], \"savepoints\", TIME_NOW)\n",
    "\n",
    "if not os.path.exists(checkpoint_path):\n",
    "    os.makedirs(checkpoint_path)\n",
    "checkpoint_path = os.path.join(checkpoint_path, '{net}-{epoch}-{type}.pth')\n",
    "\n",
    "best_acc = [0.0, 0.0, 0.0]\n",
    "epoch = 0\n",
    "weights_path = False\n",
    "\n",
    "if config[\"resume\"]:\n",
    "    best_weights = best_acc_weights(os.path.join(\"runs\", config[\"model_name\"], \"savepoints\", recent_folder))\n",
    "    if best_weights:\n",
    "        weights_path = os.path.join(\"runs\", config[\"model_name\"], \"savepoints\", recent_folder, best_weights)\n",
    "        print('found best acc weights file:{}'.format(weights_path))\n",
    "        print('load best training file to test acc...')\n",
    "        net.load_state_dict(torch.load(weights_path))\n",
    "        _, best_acc = eval_training(net, test_loader, criterion, epoch)\n",
    "        print(\"best acc is Top-1:{:0.2f} Top-5:{:0.2f} Super:{:0.2f} Total:{:0.2f}\".format(best_acc[0], best_acc[1], best_acc[2], sum(best_acc)))\n",
    "\n",
    "    recent_weights_file = most_recent_weights(os.path.join(\"runs\", config[\"model_name\"], \"savepoints\", recent_folder))\n",
    "    if not recent_weights_file:\n",
    "        raise Exception(\"no recent weights file were found\")\n",
    "    weights_path = os.path.join(\"runs\", config[\"model_name\"], \"savepoints\", recent_folder, recent_weights_file)\n",
    "    print(\"loading weights file {} to resume training......\".format(weights_path))\n",
    "    net.load_state_dict(torch.load(weights_path))\n",
    "\n",
    "    resume_epoch = last_epoch(os.path.join(\"runs\", config[\"model_name\"], \"savepoints\", recent_folder))\n",
    "    print(\"resume_epoch is\", resume_epoch)\n",
    "    optimizer = optim.SGD(net.parameters(), lr=config[\"learning_rate\"], momentum=config[\"momentum\"], weight_decay=config[\"weight_decay\"], nesterov=config[\"nesterov\"])\n",
    "\n",
    "    if config[\"scheduler\"] == \"MultiStepLR\":\n",
    "        train_scheduler = optim.lr_scheduler.MultiStepLR(optimizer, config[\"milestones\"], gamma=config[\"gamma\"]) #learning rate decay\n",
    "    elif config[\"scheduler\"] == \"ReduceLROnPlateau\":\n",
    "        train_scheduler = optim.lr_scheduler.ReduceLROnPlateau(optimizer, \"min\", factor=config[\"gamma\"], patience=config[\"plateau_patience\"])\n",
    "    else:\n",
    "        print(\"No scheduler!!\")\n",
    "    optimizer.step()"
   ]
  },
  {
   "cell_type": "markdown",
   "id": "4a2e2e73-edc7-4368-910e-e6a71133dd81",
   "metadata": {
    "id": "4a2e2e73-edc7-4368-910e-e6a71133dd81"
   },
   "source": [
    "**Per-Epoch Training**"
   ]
  },
  {
   "cell_type": "code",
   "execution_count": 15,
   "id": "c463ddea-8731-4e48-8ba1-23e2961b164a",
   "metadata": {
    "colab": {
     "base_uri": "https://localhost:8080/"
    },
    "id": "c463ddea-8731-4e48-8ba1-23e2961b164a",
    "outputId": "c22e6d65-3707-478e-ceb6-b56881f0c945",
    "scrolled": true
   },
   "outputs": [
    {
     "name": "stderr",
     "output_type": "stream",
     "text": [
      "  0%|          | 0/250 [00:00<?, ?it/s]"
     ]
    },
    {
     "name": "stdout",
     "output_type": "stream",
     "text": [
      "Batch [30/313], Loss: 2.6295\n",
      "Batch [60/313], Loss: 2.5638\n",
      "Batch [90/313], Loss: 2.6690\n",
      "Batch [120/313], Loss: 2.6603\n",
      "Batch [150/313], Loss: 2.8413\n",
      "Batch [180/313], Loss: 2.5412\n",
      "Batch [210/313], Loss: 2.5178\n",
      "Batch [240/313], Loss: 2.6099\n",
      "Batch [270/313], Loss: 2.5462\n",
      "Batch [300/313], Loss: 2.4426\n",
      "Train set: Epoch: 1, Average loss:2.6054, LR: 0.300000 Top-1 Accuracy: 0.3219, Top-5 Accuracy: 0.6518, SuperClass Accuracy: 0.4733, Time consumed:37.28s\n",
      "Test set: Epoch: 1, Average loss:0.0233, Top-1 Accuracy: 0.2720, Top-5 Accuracy: 0.5861, SuperClass Accuracy: 0.4229, Time consumed:14.70s\n",
      "\n",
      "saving weights file to runs\\resnet_18_base\\savepoints\\Saturday_12_October_2024_15h_00m_41s\\resnet_18_base-1-best.pth\n"
     ]
    },
    {
     "name": "stderr",
     "output_type": "stream",
     "text": [
      "  0%|          | 1/250 [00:52<3:35:57, 52.04s/it]"
     ]
    },
    {
     "name": "stdout",
     "output_type": "stream",
     "text": [
      "Batch [30/313], Loss: 2.5684\n",
      "Batch [60/313], Loss: 2.3965\n",
      "Batch [90/313], Loss: 2.5425\n",
      "Batch [120/313], Loss: 2.3590\n",
      "Batch [150/313], Loss: 2.7093\n",
      "Batch [180/313], Loss: 2.2057\n",
      "Batch [210/313], Loss: 2.3761\n",
      "Batch [240/313], Loss: 2.6744\n",
      "Batch [270/313], Loss: 2.1190\n",
      "Batch [300/313], Loss: 2.0955\n",
      "Train set: Epoch: 2, Average loss:2.4225, LR: 0.300000 Top-1 Accuracy: 0.3589, Top-5 Accuracy: 0.6948, SuperClass Accuracy: 0.5136, Time consumed:37.62s\n",
      "Test set: Epoch: 2, Average loss:0.0226, Top-1 Accuracy: 0.3129, Top-5 Accuracy: 0.6229, SuperClass Accuracy: 0.4450, Time consumed:15.31s\n",
      "\n",
      "saving weights file to runs\\resnet_18_base\\savepoints\\Saturday_12_October_2024_15h_00m_41s\\resnet_18_base-2-best.pth\n"
     ]
    },
    {
     "name": "stderr",
     "output_type": "stream",
     "text": [
      "  1%|          | 2/250 [01:45<3:37:24, 52.60s/it]"
     ]
    },
    {
     "name": "stdout",
     "output_type": "stream",
     "text": [
      "Batch [30/313], Loss: 2.0863\n",
      "Batch [60/313], Loss: 2.2116\n",
      "Batch [90/313], Loss: 2.3176\n",
      "Batch [120/313], Loss: 2.1422\n",
      "Batch [150/313], Loss: 2.2039\n",
      "Batch [180/313], Loss: 2.2012\n",
      "Batch [210/313], Loss: 2.3010\n",
      "Batch [240/313], Loss: 2.0747\n",
      "Batch [270/313], Loss: 2.4238\n",
      "Batch [300/313], Loss: 2.2076\n",
      "Train set: Epoch: 3, Average loss:2.2445, LR: 0.300000 Top-1 Accuracy: 0.3987, Top-5 Accuracy: 0.7330, SuperClass Accuracy: 0.5497, Time consumed:37.95s\n",
      "Test set: Epoch: 3, Average loss:0.0195, Top-1 Accuracy: 0.3687, Top-5 Accuracy: 0.6889, SuperClass Accuracy: 0.5205, Time consumed:15.39s\n",
      "\n",
      "saving weights file to runs\\resnet_18_base\\savepoints\\Saturday_12_October_2024_15h_00m_41s\\resnet_18_base-3-best.pth\n"
     ]
    },
    {
     "name": "stderr",
     "output_type": "stream",
     "text": [
      "  1%|          | 3/250 [02:38<3:38:02, 52.97s/it]"
     ]
    },
    {
     "name": "stdout",
     "output_type": "stream",
     "text": [
      "Batch [30/313], Loss: 2.1479\n",
      "Batch [60/313], Loss: 2.2486\n",
      "Batch [90/313], Loss: 1.9839\n",
      "Batch [120/313], Loss: 2.2372\n",
      "Batch [150/313], Loss: 2.4121\n",
      "Batch [180/313], Loss: 2.1485\n",
      "Batch [210/313], Loss: 1.8684\n",
      "Batch [240/313], Loss: 2.2461\n",
      "Batch [270/313], Loss: 1.9234\n",
      "Batch [300/313], Loss: 2.3754\n",
      "Train set: Epoch: 4, Average loss:2.1323, LR: 0.300000 Top-1 Accuracy: 0.4252, Top-5 Accuracy: 0.7562, SuperClass Accuracy: 0.5748, Time consumed:38.52s\n",
      "Test set: Epoch: 4, Average loss:0.0193, Top-1 Accuracy: 0.3609, Top-5 Accuracy: 0.6987, SuperClass Accuracy: 0.5247, Time consumed:15.99s\n",
      "\n"
     ]
    },
    {
     "name": "stderr",
     "output_type": "stream",
     "text": [
      "  2%|▏         | 4/250 [03:32<3:39:40, 53.58s/it]"
     ]
    },
    {
     "name": "stdout",
     "output_type": "stream",
     "text": [
      "Batch [30/313], Loss: 1.9049\n",
      "Batch [60/313], Loss: 2.1020\n",
      "Batch [90/313], Loss: 2.1243\n",
      "Batch [120/313], Loss: 1.9990\n",
      "Batch [150/313], Loss: 1.9977\n",
      "Batch [180/313], Loss: 2.0814\n",
      "Batch [210/313], Loss: 2.0049\n",
      "Batch [240/313], Loss: 1.9321\n",
      "Batch [270/313], Loss: 1.9828\n",
      "Batch [300/313], Loss: 1.8989\n",
      "Train set: Epoch: 5, Average loss:2.0569, LR: 0.300000 Top-1 Accuracy: 0.4414, Top-5 Accuracy: 0.7723, SuperClass Accuracy: 0.5919, Time consumed:38.51s\n",
      "Test set: Epoch: 5, Average loss:0.0222, Top-1 Accuracy: 0.3355, Top-5 Accuracy: 0.6468, SuperClass Accuracy: 0.4761, Time consumed:15.86s\n",
      "\n",
      "EarlyStopping counter: 1 out of 150\n"
     ]
    },
    {
     "name": "stderr",
     "output_type": "stream",
     "text": [
      "  2%|▏         | 5/250 [04:27<3:39:57, 53.87s/it]"
     ]
    },
    {
     "name": "stdout",
     "output_type": "stream",
     "text": [
      "Batch [30/313], Loss: 2.0844\n",
      "Batch [60/313], Loss: 2.0251\n",
      "Batch [90/313], Loss: 1.8695\n",
      "Batch [120/313], Loss: 1.9209\n",
      "Batch [150/313], Loss: 1.9660\n",
      "Batch [180/313], Loss: 2.5018\n",
      "Batch [210/313], Loss: 2.0783\n",
      "Batch [240/313], Loss: 1.9235\n",
      "Batch [270/313], Loss: 2.1597\n",
      "Batch [300/313], Loss: 2.0134\n",
      "Train set: Epoch: 6, Average loss:2.0161, LR: 0.300000 Top-1 Accuracy: 0.4502, Top-5 Accuracy: 0.7788, SuperClass Accuracy: 0.5969, Time consumed:38.45s\n",
      "Test set: Epoch: 6, Average loss:0.0205, Top-1 Accuracy: 0.3496, Top-5 Accuracy: 0.6809, SuperClass Accuracy: 0.5097, Time consumed:16.12s\n",
      "\n",
      "EarlyStopping counter: 2 out of 150\n"
     ]
    },
    {
     "name": "stderr",
     "output_type": "stream",
     "text": [
      "  2%|▏         | 6/250 [05:21<3:40:02, 54.11s/it]"
     ]
    },
    {
     "name": "stdout",
     "output_type": "stream",
     "text": [
      "Batch [30/313], Loss: 1.8342\n",
      "Batch [60/313], Loss: 2.1425\n",
      "Batch [90/313], Loss: 2.0345\n",
      "Batch [120/313], Loss: 1.6553\n",
      "Batch [150/313], Loss: 2.0402\n",
      "Batch [180/313], Loss: 2.0291\n",
      "Batch [210/313], Loss: 1.7933\n",
      "Batch [240/313], Loss: 2.3600\n",
      "Batch [270/313], Loss: 1.8404\n",
      "Batch [300/313], Loss: 2.0299\n",
      "Train set: Epoch: 7, Average loss:1.9625, LR: 0.300000 Top-1 Accuracy: 0.4654, Top-5 Accuracy: 0.7907, SuperClass Accuracy: 0.6123, Time consumed:38.48s\n",
      "Test set: Epoch: 7, Average loss:0.0216, Top-1 Accuracy: 0.3397, Top-5 Accuracy: 0.6416, SuperClass Accuracy: 0.4805, Time consumed:15.88s\n",
      "\n",
      "EarlyStopping counter: 3 out of 150\n"
     ]
    },
    {
     "name": "stderr",
     "output_type": "stream",
     "text": [
      "  3%|▎         | 7/250 [06:16<3:39:29, 54.19s/it]"
     ]
    },
    {
     "name": "stdout",
     "output_type": "stream",
     "text": [
      "Batch [30/313], Loss: 2.1236\n",
      "Batch [60/313], Loss: 1.8276\n",
      "Batch [90/313], Loss: 1.9959\n",
      "Batch [120/313], Loss: 2.0463\n",
      "Batch [150/313], Loss: 1.7723\n",
      "Batch [180/313], Loss: 2.2414\n",
      "Batch [210/313], Loss: 1.9727\n",
      "Batch [240/313], Loss: 1.7876\n",
      "Batch [270/313], Loss: 2.0280\n",
      "Batch [300/313], Loss: 1.8563\n",
      "Train set: Epoch: 8, Average loss:1.9359, LR: 0.300000 Top-1 Accuracy: 0.4712, Top-5 Accuracy: 0.7910, SuperClass Accuracy: 0.6163, Time consumed:38.65s\n",
      "Test set: Epoch: 8, Average loss:0.0190, Top-1 Accuracy: 0.3930, Top-5 Accuracy: 0.7096, SuperClass Accuracy: 0.5375, Time consumed:16.58s\n",
      "\n",
      "saving weights file to runs\\resnet_18_base\\savepoints\\Saturday_12_October_2024_15h_00m_41s\\resnet_18_base-8-best.pth\n"
     ]
    },
    {
     "name": "stderr",
     "output_type": "stream",
     "text": [
      "  3%|▎         | 8/250 [07:11<3:40:00, 54.55s/it]"
     ]
    },
    {
     "name": "stdout",
     "output_type": "stream",
     "text": [
      "Batch [30/313], Loss: 1.7935\n",
      "Batch [60/313], Loss: 1.6616\n",
      "Batch [90/313], Loss: 1.7755\n",
      "Batch [120/313], Loss: 1.7835\n",
      "Batch [150/313], Loss: 1.8774\n",
      "Batch [180/313], Loss: 2.0209\n",
      "Batch [210/313], Loss: 2.0394\n",
      "Batch [240/313], Loss: 1.8611\n",
      "Batch [270/313], Loss: 1.9969\n",
      "Batch [300/313], Loss: 1.8893\n",
      "Train set: Epoch: 9, Average loss:1.9132, LR: 0.300000 Top-1 Accuracy: 0.4725, Top-5 Accuracy: 0.7986, SuperClass Accuracy: 0.6195, Time consumed:39.12s\n",
      "Test set: Epoch: 9, Average loss:0.0192, Top-1 Accuracy: 0.4004, Top-5 Accuracy: 0.7276, SuperClass Accuracy: 0.5464, Time consumed:16.18s\n",
      "\n",
      "saving weights file to runs\\resnet_18_base\\savepoints\\Saturday_12_October_2024_15h_00m_41s\\resnet_18_base-9-best.pth\n",
      "EarlyStopping counter: 1 out of 150\n"
     ]
    },
    {
     "name": "stderr",
     "output_type": "stream",
     "text": [
      "  4%|▎         | 9/250 [08:06<3:40:06, 54.80s/it]"
     ]
    },
    {
     "name": "stdout",
     "output_type": "stream",
     "text": [
      "Batch [30/313], Loss: 1.7440\n",
      "Batch [60/313], Loss: 1.8741\n",
      "Batch [90/313], Loss: 1.9901\n",
      "Batch [120/313], Loss: 2.1592\n",
      "Batch [150/313], Loss: 1.6055\n",
      "Batch [180/313], Loss: 2.1188\n",
      "Batch [210/313], Loss: 1.8524\n",
      "Batch [240/313], Loss: 2.1118\n",
      "Batch [270/313], Loss: 2.0342\n",
      "Batch [300/313], Loss: 2.0870\n",
      "Train set: Epoch: 10, Average loss:1.8893, LR: 0.300000 Top-1 Accuracy: 0.4838, Top-5 Accuracy: 0.8013, SuperClass Accuracy: 0.6280, Time consumed:39.05s\n",
      "Test set: Epoch: 10, Average loss:0.0213, Top-1 Accuracy: 0.3533, Top-5 Accuracy: 0.6668, SuperClass Accuracy: 0.5094, Time consumed:16.08s\n",
      "\n",
      "EarlyStopping counter: 2 out of 150\n"
     ]
    },
    {
     "name": "stderr",
     "output_type": "stream",
     "text": [
      "  4%|▍         | 10/250 [09:02<3:39:37, 54.90s/it]"
     ]
    },
    {
     "name": "stdout",
     "output_type": "stream",
     "text": [
      "Batch [30/313], Loss: 1.8191\n",
      "Batch [60/313], Loss: 1.9262\n",
      "Batch [90/313], Loss: 1.6322\n",
      "Batch [120/313], Loss: 1.9999\n",
      "Batch [150/313], Loss: 1.9894\n",
      "Batch [180/313], Loss: 1.5107\n",
      "Batch [210/313], Loss: 1.9280\n",
      "Batch [240/313], Loss: 1.9751\n",
      "Batch [270/313], Loss: 1.8817\n",
      "Batch [300/313], Loss: 1.9165\n",
      "Train set: Epoch: 11, Average loss:1.8798, LR: 0.300000 Top-1 Accuracy: 0.4879, Top-5 Accuracy: 0.8037, SuperClass Accuracy: 0.6327, Time consumed:38.69s\n",
      "Test set: Epoch: 11, Average loss:0.0171, Top-1 Accuracy: 0.4304, Top-5 Accuracy: 0.7529, SuperClass Accuracy: 0.5872, Time consumed:16.06s\n",
      "\n",
      "saving weights file to runs\\resnet_18_base\\savepoints\\Saturday_12_October_2024_15h_00m_41s\\resnet_18_base-11-best.pth\n"
     ]
    },
    {
     "name": "stderr",
     "output_type": "stream",
     "text": [
      "  4%|▍         | 11/250 [09:56<3:38:35, 54.88s/it]"
     ]
    },
    {
     "name": "stdout",
     "output_type": "stream",
     "text": [
      "Batch [30/313], Loss: 1.9822\n",
      "Batch [60/313], Loss: 1.8433\n",
      "Batch [90/313], Loss: 1.8509\n",
      "Batch [120/313], Loss: 2.0125\n",
      "Batch [150/313], Loss: 1.7398\n",
      "Batch [180/313], Loss: 1.8979\n",
      "Batch [210/313], Loss: 1.8379\n",
      "Batch [240/313], Loss: 1.8052\n",
      "Batch [270/313], Loss: 1.9004\n",
      "Batch [300/313], Loss: 2.0522\n",
      "Train set: Epoch: 12, Average loss:1.8485, LR: 0.300000 Top-1 Accuracy: 0.4932, Top-5 Accuracy: 0.8087, SuperClass Accuracy: 0.6368, Time consumed:39.25s\n",
      "Test set: Epoch: 12, Average loss:0.0206, Top-1 Accuracy: 0.3717, Top-5 Accuracy: 0.7014, SuperClass Accuracy: 0.5194, Time consumed:16.49s\n",
      "\n",
      "EarlyStopping counter: 1 out of 150\n"
     ]
    },
    {
     "name": "stderr",
     "output_type": "stream",
     "text": [
      "  5%|▍         | 12/250 [10:52<3:38:43, 55.14s/it]"
     ]
    },
    {
     "name": "stdout",
     "output_type": "stream",
     "text": [
      "Batch [30/313], Loss: 1.8339\n",
      "Batch [60/313], Loss: 1.6044\n",
      "Batch [90/313], Loss: 1.9774\n",
      "Batch [120/313], Loss: 1.7849\n",
      "Batch [150/313], Loss: 1.7525\n",
      "Batch [180/313], Loss: 2.0297\n",
      "Batch [210/313], Loss: 1.7747\n",
      "Batch [240/313], Loss: 1.7075\n",
      "Batch [270/313], Loss: 1.9363\n",
      "Batch [300/313], Loss: 1.6781\n",
      "Train set: Epoch: 13, Average loss:1.8425, LR: 0.300000 Top-1 Accuracy: 0.4926, Top-5 Accuracy: 0.8110, SuperClass Accuracy: 0.6377, Time consumed:39.30s\n",
      "Test set: Epoch: 13, Average loss:0.0205, Top-1 Accuracy: 0.3786, Top-5 Accuracy: 0.6820, SuperClass Accuracy: 0.5245, Time consumed:16.26s\n",
      "\n",
      "EarlyStopping counter: 2 out of 150\n"
     ]
    },
    {
     "name": "stderr",
     "output_type": "stream",
     "text": [
      "  5%|▌         | 13/250 [11:48<3:38:18, 55.27s/it]"
     ]
    },
    {
     "name": "stdout",
     "output_type": "stream",
     "text": [
      "Batch [30/313], Loss: 1.8138\n",
      "Batch [60/313], Loss: 1.9005\n",
      "Batch [90/313], Loss: 2.0932\n",
      "Batch [120/313], Loss: 1.7519\n",
      "Batch [150/313], Loss: 1.7653\n",
      "Batch [180/313], Loss: 1.7092\n",
      "Batch [210/313], Loss: 1.7370\n",
      "Batch [240/313], Loss: 1.8093\n",
      "Batch [270/313], Loss: 1.7186\n",
      "Batch [300/313], Loss: 1.9991\n",
      "Train set: Epoch: 14, Average loss:1.8269, LR: 0.300000 Top-1 Accuracy: 0.4984, Top-5 Accuracy: 0.8145, SuperClass Accuracy: 0.6397, Time consumed:38.96s\n",
      "Test set: Epoch: 14, Average loss:0.0184, Top-1 Accuracy: 0.4034, Top-5 Accuracy: 0.7134, SuperClass Accuracy: 0.5463, Time consumed:16.05s\n",
      "\n",
      "EarlyStopping counter: 3 out of 150\n"
     ]
    },
    {
     "name": "stderr",
     "output_type": "stream",
     "text": [
      "  6%|▌         | 14/250 [12:43<3:37:05, 55.19s/it]"
     ]
    },
    {
     "name": "stdout",
     "output_type": "stream",
     "text": [
      "Batch [30/313], Loss: 1.8120\n",
      "Batch [60/313], Loss: 1.7611\n",
      "Batch [90/313], Loss: 1.9983\n",
      "Batch [120/313], Loss: 1.5593\n",
      "Batch [150/313], Loss: 1.7423\n",
      "Batch [180/313], Loss: 1.6421\n",
      "Batch [210/313], Loss: 1.8588\n",
      "Batch [240/313], Loss: 1.7715\n",
      "Batch [270/313], Loss: 1.9105\n",
      "Batch [300/313], Loss: 1.6988\n",
      "Train set: Epoch: 15, Average loss:1.8160, LR: 0.300000 Top-1 Accuracy: 0.4987, Top-5 Accuracy: 0.8155, SuperClass Accuracy: 0.6427, Time consumed:38.99s\n",
      "Test set: Epoch: 15, Average loss:0.0204, Top-1 Accuracy: 0.3636, Top-5 Accuracy: 0.6775, SuperClass Accuracy: 0.5153, Time consumed:16.20s\n",
      "\n",
      "EarlyStopping counter: 4 out of 150\n"
     ]
    },
    {
     "name": "stderr",
     "output_type": "stream",
     "text": [
      "  6%|▌         | 15/250 [13:38<3:36:10, 55.19s/it]"
     ]
    },
    {
     "name": "stdout",
     "output_type": "stream",
     "text": [
      "Batch [30/313], Loss: 1.6511\n",
      "Batch [60/313], Loss: 1.9406\n",
      "Batch [90/313], Loss: 1.8322\n",
      "Batch [120/313], Loss: 1.9379\n",
      "Batch [150/313], Loss: 1.6446\n",
      "Batch [180/313], Loss: 1.9193\n",
      "Batch [210/313], Loss: 2.1257\n",
      "Batch [240/313], Loss: 1.5834\n",
      "Batch [270/313], Loss: 2.0027\n",
      "Batch [300/313], Loss: 1.9972\n",
      "Train set: Epoch: 16, Average loss:1.7994, LR: 0.300000 Top-1 Accuracy: 0.5052, Top-5 Accuracy: 0.8189, SuperClass Accuracy: 0.6470, Time consumed:39.12s\n",
      "Test set: Epoch: 16, Average loss:0.0199, Top-1 Accuracy: 0.3976, Top-5 Accuracy: 0.6934, SuperClass Accuracy: 0.5326, Time consumed:16.22s\n",
      "\n",
      "EarlyStopping counter: 5 out of 150\n"
     ]
    },
    {
     "name": "stderr",
     "output_type": "stream",
     "text": [
      "  6%|▋         | 16/250 [14:33<3:35:25, 55.24s/it]"
     ]
    },
    {
     "name": "stdout",
     "output_type": "stream",
     "text": [
      "Batch [30/313], Loss: 1.8029\n",
      "Batch [60/313], Loss: 1.5435\n",
      "Batch [90/313], Loss: 1.4555\n",
      "Batch [120/313], Loss: 1.8919\n",
      "Batch [150/313], Loss: 1.8635\n",
      "Batch [180/313], Loss: 1.6950\n",
      "Batch [210/313], Loss: 1.7811\n",
      "Batch [240/313], Loss: 1.9648\n",
      "Batch [270/313], Loss: 2.0138\n",
      "Batch [300/313], Loss: 2.0599\n",
      "Train set: Epoch: 17, Average loss:1.8177, LR: 0.300000 Top-1 Accuracy: 0.5004, Top-5 Accuracy: 0.8155, SuperClass Accuracy: 0.6409, Time consumed:39.33s\n",
      "Test set: Epoch: 17, Average loss:0.0216, Top-1 Accuracy: 0.3592, Top-5 Accuracy: 0.6605, SuperClass Accuracy: 0.4948, Time consumed:16.87s\n",
      "\n",
      "EarlyStopping counter: 6 out of 150\n"
     ]
    },
    {
     "name": "stderr",
     "output_type": "stream",
     "text": [
      "  7%|▋         | 17/250 [15:29<3:35:38, 55.53s/it]"
     ]
    },
    {
     "name": "stdout",
     "output_type": "stream",
     "text": [
      "Batch [30/313], Loss: 2.0546\n",
      "Batch [60/313], Loss: 1.6665\n",
      "Batch [90/313], Loss: 1.7862\n",
      "Batch [120/313], Loss: 1.9032\n",
      "Batch [150/313], Loss: 1.7580\n",
      "Batch [180/313], Loss: 1.7590\n",
      "Batch [210/313], Loss: 2.0350\n",
      "Batch [240/313], Loss: 1.6510\n",
      "Batch [270/313], Loss: 1.7030\n",
      "Batch [300/313], Loss: 1.8072\n",
      "Train set: Epoch: 18, Average loss:1.8010, LR: 0.300000 Top-1 Accuracy: 0.5050, Top-5 Accuracy: 0.8175, SuperClass Accuracy: 0.6470, Time consumed:40.10s\n",
      "Test set: Epoch: 18, Average loss:0.0187, Top-1 Accuracy: 0.4040, Top-5 Accuracy: 0.7231, SuperClass Accuracy: 0.5501, Time consumed:16.47s\n",
      "\n",
      "EarlyStopping counter: 7 out of 150\n"
     ]
    },
    {
     "name": "stderr",
     "output_type": "stream",
     "text": [
      "  7%|▋         | 18/250 [16:26<3:35:56, 55.85s/it]"
     ]
    },
    {
     "name": "stdout",
     "output_type": "stream",
     "text": [
      "Batch [30/313], Loss: 1.8188\n",
      "Batch [60/313], Loss: 1.7143\n",
      "Batch [90/313], Loss: 1.6618\n",
      "Batch [120/313], Loss: 1.9918\n",
      "Batch [150/313], Loss: 1.8295\n",
      "Batch [180/313], Loss: 1.7859\n",
      "Batch [210/313], Loss: 1.9968\n",
      "Batch [240/313], Loss: 1.6107\n",
      "Batch [270/313], Loss: 1.8552\n",
      "Batch [300/313], Loss: 1.6291\n",
      "Train set: Epoch: 19, Average loss:1.7899, LR: 0.300000 Top-1 Accuracy: 0.5083, Top-5 Accuracy: 0.8197, SuperClass Accuracy: 0.6496, Time consumed:39.31s\n",
      "Test set: Epoch: 19, Average loss:0.0181, Top-1 Accuracy: 0.4173, Top-5 Accuracy: 0.7262, SuperClass Accuracy: 0.5564, Time consumed:16.71s\n",
      "\n",
      "EarlyStopping counter: 8 out of 150\n"
     ]
    },
    {
     "name": "stderr",
     "output_type": "stream",
     "text": [
      "  8%|▊         | 19/250 [17:22<3:35:13, 55.90s/it]"
     ]
    },
    {
     "name": "stdout",
     "output_type": "stream",
     "text": [
      "Batch [30/313], Loss: 1.8099\n",
      "Batch [60/313], Loss: 1.7779\n",
      "Batch [90/313], Loss: 1.8187\n",
      "Batch [120/313], Loss: 1.8840\n",
      "Batch [150/313], Loss: 1.6683\n",
      "Batch [180/313], Loss: 1.9575\n",
      "Batch [210/313], Loss: 1.9357\n",
      "Batch [240/313], Loss: 1.9840\n",
      "Batch [270/313], Loss: 1.8976\n",
      "Batch [300/313], Loss: 1.7659\n",
      "Train set: Epoch: 20, Average loss:1.7901, LR: 0.300000 Top-1 Accuracy: 0.5077, Top-5 Accuracy: 0.8237, SuperClass Accuracy: 0.6478, Time consumed:40.24s\n",
      "Test set: Epoch: 20, Average loss:0.0188, Top-1 Accuracy: 0.4120, Top-5 Accuracy: 0.7270, SuperClass Accuracy: 0.5580, Time consumed:17.19s\n",
      "\n",
      "EarlyStopping counter: 9 out of 150\n"
     ]
    },
    {
     "name": "stderr",
     "output_type": "stream",
     "text": [
      "  8%|▊         | 20/250 [18:20<3:36:03, 56.36s/it]"
     ]
    },
    {
     "name": "stdout",
     "output_type": "stream",
     "text": [
      "Batch [30/313], Loss: 1.8523\n",
      "Batch [60/313], Loss: 1.7969\n",
      "Batch [90/313], Loss: 1.6812\n",
      "Batch [120/313], Loss: 2.3170\n",
      "Batch [150/313], Loss: 1.7073\n",
      "Batch [180/313], Loss: 2.0224\n",
      "Batch [210/313], Loss: 1.8482\n",
      "Batch [240/313], Loss: 1.8108\n",
      "Batch [270/313], Loss: 1.6709\n",
      "Batch [300/313], Loss: 2.1525\n",
      "Train set: Epoch: 21, Average loss:1.7826, LR: 0.300000 Top-1 Accuracy: 0.5093, Top-5 Accuracy: 0.8206, SuperClass Accuracy: 0.6489, Time consumed:40.62s\n",
      "Test set: Epoch: 21, Average loss:0.0200, Top-1 Accuracy: 0.3840, Top-5 Accuracy: 0.6933, SuperClass Accuracy: 0.5296, Time consumed:17.30s\n",
      "\n",
      "EarlyStopping counter: 10 out of 150\n"
     ]
    },
    {
     "name": "stderr",
     "output_type": "stream",
     "text": [
      "  8%|▊         | 21/250 [19:17<3:36:54, 56.83s/it]"
     ]
    },
    {
     "name": "stdout",
     "output_type": "stream",
     "text": [
      "Batch [30/313], Loss: 1.8758\n",
      "Batch [60/313], Loss: 1.6689\n",
      "Batch [90/313], Loss: 1.6357\n",
      "Batch [120/313], Loss: 2.0067\n",
      "Batch [150/313], Loss: 2.1737\n",
      "Batch [180/313], Loss: 1.7242\n",
      "Batch [210/313], Loss: 1.9231\n",
      "Batch [240/313], Loss: 1.6355\n",
      "Batch [270/313], Loss: 1.8754\n",
      "Batch [300/313], Loss: 1.9486\n",
      "Train set: Epoch: 22, Average loss:1.7793, LR: 0.300000 Top-1 Accuracy: 0.5095, Top-5 Accuracy: 0.8230, SuperClass Accuracy: 0.6483, Time consumed:40.48s\n",
      "Test set: Epoch: 22, Average loss:0.0186, Top-1 Accuracy: 0.3968, Top-5 Accuracy: 0.7168, SuperClass Accuracy: 0.5433, Time consumed:17.35s\n",
      "\n",
      "EarlyStopping counter: 11 out of 150\n"
     ]
    },
    {
     "name": "stderr",
     "output_type": "stream",
     "text": [
      "  9%|▉         | 22/250 [20:15<3:37:06, 57.13s/it]"
     ]
    },
    {
     "name": "stdout",
     "output_type": "stream",
     "text": [
      "Batch [30/313], Loss: 1.2819\n",
      "Batch [60/313], Loss: 1.7698\n",
      "Batch [90/313], Loss: 1.5905\n",
      "Batch [120/313], Loss: 1.8078\n",
      "Batch [150/313], Loss: 1.8625\n",
      "Batch [180/313], Loss: 1.6301\n",
      "Batch [210/313], Loss: 1.7382\n",
      "Batch [240/313], Loss: 1.6206\n",
      "Batch [270/313], Loss: 1.8807\n",
      "Batch [300/313], Loss: 1.8767\n",
      "Train set: Epoch: 23, Average loss:1.7792, LR: 0.300000 Top-1 Accuracy: 0.5104, Top-5 Accuracy: 0.8234, SuperClass Accuracy: 0.6514, Time consumed:40.46s\n",
      "Test set: Epoch: 23, Average loss:0.0191, Top-1 Accuracy: 0.3927, Top-5 Accuracy: 0.7101, SuperClass Accuracy: 0.5441, Time consumed:17.46s\n",
      "\n",
      "EarlyStopping counter: 12 out of 150\n"
     ]
    },
    {
     "name": "stderr",
     "output_type": "stream",
     "text": [
      "  9%|▉         | 23/250 [21:13<3:37:03, 57.37s/it]"
     ]
    },
    {
     "name": "stdout",
     "output_type": "stream",
     "text": [
      "Batch [30/313], Loss: 1.7426\n",
      "Batch [60/313], Loss: 1.9205\n",
      "Batch [90/313], Loss: 1.9228\n",
      "Batch [120/313], Loss: 1.7160\n",
      "Batch [150/313], Loss: 1.7594\n",
      "Batch [180/313], Loss: 1.4610\n",
      "Batch [210/313], Loss: 1.7602\n",
      "Batch [240/313], Loss: 2.0386\n",
      "Batch [270/313], Loss: 1.8728\n",
      "Batch [300/313], Loss: 1.7339\n",
      "Train set: Epoch: 24, Average loss:1.7691, LR: 0.300000 Top-1 Accuracy: 0.5126, Top-5 Accuracy: 0.8230, SuperClass Accuracy: 0.6542, Time consumed:40.66s\n",
      "Test set: Epoch: 24, Average loss:0.0188, Top-1 Accuracy: 0.4036, Top-5 Accuracy: 0.7252, SuperClass Accuracy: 0.5430, Time consumed:17.34s\n",
      "\n",
      "EarlyStopping counter: 13 out of 150\n"
     ]
    },
    {
     "name": "stderr",
     "output_type": "stream",
     "text": [
      " 10%|▉         | 24/250 [22:11<3:36:49, 57.56s/it]"
     ]
    },
    {
     "name": "stdout",
     "output_type": "stream",
     "text": [
      "Batch [30/313], Loss: 1.6278\n",
      "Batch [60/313], Loss: 1.3754\n",
      "Batch [90/313], Loss: 1.7331\n",
      "Batch [120/313], Loss: 1.6485\n",
      "Batch [150/313], Loss: 1.5584\n",
      "Batch [180/313], Loss: 1.9567\n",
      "Batch [210/313], Loss: 1.9271\n",
      "Batch [240/313], Loss: 1.8276\n",
      "Batch [270/313], Loss: 1.7240\n",
      "Batch [300/313], Loss: 1.8460\n",
      "Train set: Epoch: 25, Average loss:1.7663, LR: 0.300000 Top-1 Accuracy: 0.5160, Top-5 Accuracy: 0.8238, SuperClass Accuracy: 0.6562, Time consumed:40.79s\n",
      "Test set: Epoch: 25, Average loss:0.0237, Top-1 Accuracy: 0.3261, Top-5 Accuracy: 0.6201, SuperClass Accuracy: 0.4471, Time consumed:17.75s\n",
      "\n",
      "EarlyStopping counter: 14 out of 150\n"
     ]
    },
    {
     "name": "stderr",
     "output_type": "stream",
     "text": [
      " 10%|█         | 25/250 [23:10<3:36:58, 57.86s/it]"
     ]
    },
    {
     "name": "stdout",
     "output_type": "stream",
     "text": [
      "Batch [30/313], Loss: 1.8461\n",
      "Batch [60/313], Loss: 1.6989\n",
      "Batch [90/313], Loss: 1.7972\n",
      "Batch [120/313], Loss: 1.5317\n",
      "Batch [150/313], Loss: 1.6442\n",
      "Batch [180/313], Loss: 1.9117\n",
      "Batch [210/313], Loss: 1.6671\n",
      "Batch [240/313], Loss: 1.9517\n",
      "Batch [270/313], Loss: 1.6997\n",
      "Batch [300/313], Loss: 1.7201\n",
      "Train set: Epoch: 26, Average loss:1.7634, LR: 0.300000 Top-1 Accuracy: 0.5149, Top-5 Accuracy: 0.8238, SuperClass Accuracy: 0.6535, Time consumed:40.89s\n",
      "Test set: Epoch: 26, Average loss:0.0162, Top-1 Accuracy: 0.4574, Top-5 Accuracy: 0.7721, SuperClass Accuracy: 0.6022, Time consumed:18.09s\n",
      "\n",
      "saving weights file to runs\\resnet_18_base\\savepoints\\Saturday_12_October_2024_15h_00m_41s\\resnet_18_base-26-best.pth\n"
     ]
    },
    {
     "name": "stderr",
     "output_type": "stream",
     "text": [
      " 10%|█         | 26/250 [24:09<3:37:20, 58.22s/it]"
     ]
    },
    {
     "name": "stdout",
     "output_type": "stream",
     "text": [
      "Batch [30/313], Loss: 1.3510\n",
      "Batch [60/313], Loss: 1.6656\n",
      "Batch [90/313], Loss: 1.7600\n",
      "Batch [120/313], Loss: 1.5906\n",
      "Batch [150/313], Loss: 1.7697\n",
      "Batch [180/313], Loss: 1.8901\n",
      "Batch [210/313], Loss: 1.6863\n",
      "Batch [240/313], Loss: 1.9662\n",
      "Batch [270/313], Loss: 1.8885\n",
      "Batch [300/313], Loss: 1.6475\n",
      "Train set: Epoch: 27, Average loss:1.7557, LR: 0.300000 Top-1 Accuracy: 0.5145, Top-5 Accuracy: 0.8268, SuperClass Accuracy: 0.6556, Time consumed:39.82s\n",
      "Test set: Epoch: 27, Average loss:0.0199, Top-1 Accuracy: 0.3905, Top-5 Accuracy: 0.7275, SuperClass Accuracy: 0.5366, Time consumed:16.61s\n",
      "\n",
      "EarlyStopping counter: 1 out of 150\n"
     ]
    },
    {
     "name": "stderr",
     "output_type": "stream",
     "text": [
      " 11%|█         | 27/250 [25:05<3:34:23, 57.68s/it]"
     ]
    },
    {
     "name": "stdout",
     "output_type": "stream",
     "text": [
      "Batch [30/313], Loss: 1.9724\n",
      "Batch [60/313], Loss: 1.4117\n",
      "Batch [90/313], Loss: 1.8141\n",
      "Batch [120/313], Loss: 1.9905\n",
      "Batch [150/313], Loss: 2.0240\n",
      "Batch [180/313], Loss: 1.8307\n",
      "Batch [210/313], Loss: 1.7160\n",
      "Batch [240/313], Loss: 1.8389\n",
      "Batch [270/313], Loss: 2.0975\n",
      "Batch [300/313], Loss: 1.7437\n",
      "Train set: Epoch: 28, Average loss:1.7582, LR: 0.300000 Top-1 Accuracy: 0.5175, Top-5 Accuracy: 0.8245, SuperClass Accuracy: 0.6561, Time consumed:39.31s\n",
      "Test set: Epoch: 28, Average loss:0.0176, Top-1 Accuracy: 0.4354, Top-5 Accuracy: 0.7485, SuperClass Accuracy: 0.5850, Time consumed:16.46s\n",
      "\n",
      "EarlyStopping counter: 2 out of 150\n"
     ]
    },
    {
     "name": "stderr",
     "output_type": "stream",
     "text": [
      " 11%|█         | 28/250 [26:01<3:31:18, 57.11s/it]"
     ]
    },
    {
     "name": "stdout",
     "output_type": "stream",
     "text": [
      "Batch [30/313], Loss: 1.5947\n",
      "Batch [60/313], Loss: 1.7886\n",
      "Batch [90/313], Loss: 1.5622\n",
      "Batch [120/313], Loss: 1.8731\n",
      "Batch [150/313], Loss: 1.9613\n",
      "Batch [180/313], Loss: 1.5786\n",
      "Batch [210/313], Loss: 1.6449\n",
      "Batch [240/313], Loss: 1.6808\n",
      "Batch [270/313], Loss: 1.7988\n",
      "Batch [300/313], Loss: 1.8184\n",
      "Train set: Epoch: 29, Average loss:1.7413, LR: 0.300000 Top-1 Accuracy: 0.5199, Top-5 Accuracy: 0.8293, SuperClass Accuracy: 0.6613, Time consumed:39.35s\n",
      "Test set: Epoch: 29, Average loss:0.0201, Top-1 Accuracy: 0.3797, Top-5 Accuracy: 0.6965, SuperClass Accuracy: 0.5245, Time consumed:16.45s\n",
      "\n",
      "EarlyStopping counter: 3 out of 150\n"
     ]
    },
    {
     "name": "stderr",
     "output_type": "stream",
     "text": [
      " 12%|█▏        | 29/250 [26:57<3:28:54, 56.72s/it]"
     ]
    },
    {
     "name": "stdout",
     "output_type": "stream",
     "text": [
      "Batch [30/313], Loss: 1.5102\n",
      "Batch [60/313], Loss: 1.5934\n",
      "Batch [90/313], Loss: 1.3960\n",
      "Batch [120/313], Loss: 1.7265\n",
      "Batch [150/313], Loss: 2.0566\n",
      "Batch [180/313], Loss: 1.3930\n",
      "Batch [210/313], Loss: 2.1465\n",
      "Batch [240/313], Loss: 1.8164\n",
      "Batch [270/313], Loss: 1.7404\n",
      "Batch [300/313], Loss: 1.8703\n",
      "Train set: Epoch: 30, Average loss:1.7708, LR: 0.300000 Top-1 Accuracy: 0.5126, Top-5 Accuracy: 0.8256, SuperClass Accuracy: 0.6528, Time consumed:39.49s\n",
      "Test set: Epoch: 30, Average loss:0.0211, Top-1 Accuracy: 0.3625, Top-5 Accuracy: 0.6839, SuperClass Accuracy: 0.5151, Time consumed:18.57s\n",
      "\n",
      "EarlyStopping counter: 4 out of 150\n"
     ]
    },
    {
     "name": "stderr",
     "output_type": "stream",
     "text": [
      " 12%|█▏        | 30/250 [27:55<3:29:27, 57.13s/it]"
     ]
    },
    {
     "name": "stdout",
     "output_type": "stream",
     "text": [
      "Batch [30/313], Loss: 1.7377\n",
      "Batch [60/313], Loss: 1.6954\n",
      "Batch [90/313], Loss: 1.6011\n",
      "Batch [120/313], Loss: 1.7398\n",
      "Batch [150/313], Loss: 1.4606\n",
      "Batch [180/313], Loss: 1.7743\n",
      "Batch [210/313], Loss: 1.7858\n",
      "Batch [240/313], Loss: 1.5758\n",
      "Batch [270/313], Loss: 1.6529\n",
      "Batch [300/313], Loss: 1.6655\n",
      "Train set: Epoch: 31, Average loss:1.7385, LR: 0.300000 Top-1 Accuracy: 0.5221, Top-5 Accuracy: 0.8275, SuperClass Accuracy: 0.6575, Time consumed:40.22s\n",
      "Test set: Epoch: 31, Average loss:0.0204, Top-1 Accuracy: 0.3838, Top-5 Accuracy: 0.7224, SuperClass Accuracy: 0.5582, Time consumed:18.03s\n",
      "\n",
      "EarlyStopping counter: 5 out of 150\n"
     ]
    },
    {
     "name": "stderr",
     "output_type": "stream",
     "text": [
      " 12%|█▏        | 31/250 [28:53<3:29:45, 57.47s/it]"
     ]
    },
    {
     "name": "stdout",
     "output_type": "stream",
     "text": [
      "Batch [30/313], Loss: 1.8266\n",
      "Batch [60/313], Loss: 1.9599\n",
      "Batch [90/313], Loss: 1.9534\n",
      "Batch [120/313], Loss: 1.5933\n",
      "Batch [150/313], Loss: 1.7163\n",
      "Batch [180/313], Loss: 1.6956\n",
      "Batch [210/313], Loss: 1.9145\n",
      "Batch [240/313], Loss: 1.5693\n",
      "Batch [270/313], Loss: 1.8362\n",
      "Batch [300/313], Loss: 1.7690\n",
      "Train set: Epoch: 32, Average loss:1.7468, LR: 0.300000 Top-1 Accuracy: 0.5196, Top-5 Accuracy: 0.8266, SuperClass Accuracy: 0.6594, Time consumed:39.67s\n",
      "Test set: Epoch: 32, Average loss:0.0202, Top-1 Accuracy: 0.3735, Top-5 Accuracy: 0.6985, SuperClass Accuracy: 0.5295, Time consumed:16.79s\n",
      "\n",
      "EarlyStopping counter: 6 out of 150\n"
     ]
    },
    {
     "name": "stderr",
     "output_type": "stream",
     "text": [
      " 13%|█▎        | 32/250 [29:50<3:27:42, 57.17s/it]"
     ]
    }
   ],
   "source": [
    "start_time = time.time()\n",
    "for epoch in tqdm(range(1, config[\"num_epochs\"] + 1)):\n",
    "    if epoch > config[\"warm\"]:\n",
    "        if config[\"scheduler\"] == \"MultiStepLR\":\n",
    "            train_scheduler.step()\n",
    "        elif config[\"scheduler\"] == \"ReduceLROnPlateau\":\n",
    "            train_scheduler.step(test_loss)\n",
    "\n",
    "    if config[\"resume\"]:\n",
    "        if epoch <= resume_epoch:\n",
    "            continue\n",
    "\n",
    "    epoch_loss, train_accuracy = train_model(net, train_loader, criterion, optimizer, epoch=epoch)\n",
    "    test_loss, test_accuracy = eval_training(net, val_loader, criterion, epoch)\n",
    "\n",
    "    if best_acc[0] < test_accuracy[0]:\n",
    "        if weights_path:  # 모델의 용량 이슈로 새로운 best 모델이 갱신되면 이전 best 모델 삭제\n",
    "            os.remove(weights_path)\n",
    "        weights_path = checkpoint_path.format(net=config[\"model_name\"], epoch=epoch, type=\"best\")\n",
    "        print(\"saving weights file to {}\".format(weights_path))\n",
    "        torch.save(net.state_dict(), weights_path)\n",
    "        best_acc = test_accuracy\n",
    "\n",
    "    early_stopping(test_loss, net)\n",
    "    if early_stopping.early_stop:\n",
    "        print(\"Early stopping\")\n",
    "        break\n",
    "\n",
    "    wandb.log({\n",
    "        \"epoch\": epoch,\n",
    "        \"learning_rate\": optimizer.param_groups[0]['lr'],\n",
    "        \"train_loss\": epoch_loss,\n",
    "        \"train top-1 accuracy\": train_accuracy[0],\n",
    "        \"train top-5 accuracy\": train_accuracy[1],\n",
    "        \"train super-class accuracy\": train_accuracy[2],\n",
    "        \"val_loss\": test_loss,\n",
    "        \"valid top-1 accuracy\": test_accuracy[0],\n",
    "        \"valid top-5 accuracy\": test_accuracy[1],\n",
    "        \"valid super-class accuracy\": test_accuracy[2]\n",
    "    })\n",
    "\n",
    "end_time = time.time()\n",
    "wandb.log({\"train_time\": end_time - start_time})\n",
    "\n",
    "# Result\n",
    "print(f\"Result of best {model_name} = Epoch : {epoch}   Loss : {test_loss:.4f}   Top-1 Accuracy : {best_acc[0]*100:.4f}%  Top-5 Accuracy : {best_acc[1]*100:.4f}%   Super Accuracy : {best_acc[2]*100:.4f}%   Total_Accuracy : {sum(best_acc)*100:.4f}    Time : {end_time - start_time:.4f}\")"
   ]
  },
  {
   "cell_type": "markdown",
   "id": "p5YcRgjxvB92",
   "metadata": {
    "id": "p5YcRgjxvB92"
   },
   "source": [
    "**Best Model Test**"
   ]
  },
  {
   "cell_type": "code",
   "execution_count": 19,
   "id": "VM1-xrA_3Ug6",
   "metadata": {
    "id": "VM1-xrA_3Ug6"
   },
   "outputs": [],
   "source": [
    "def all_accuracy(net, test_loader, device):\n",
    "    net2.eval()\n",
    "    top1_correct = 0\n",
    "    top5_correct = 0\n",
    "    total = 0\n",
    "\n",
    "    superclass_correct = 0\n",
    "    superclass_total = 0\n",
    "\n",
    "    with torch.no_grad():\n",
    "        for _, (images, labels) in enumerate(test_loader):\n",
    "\n",
    "            images, labels = images.to(device), labels.to(device)\n",
    "            outputs = net2(images)\n",
    "\n",
    "            _, preds = torch.max(outputs, 1)\n",
    "            top1_correct += torch.sum(preds == labels).item()\n",
    "\n",
    "            _, top5_preds = outputs.topk(5, 1, True, True)\n",
    "            top5_correct += torch.sum(top5_preds.eq(labels.view(-1, 1).expand_as(top5_preds))).item()\n",
    "\n",
    "            total += labels.size(0)\n",
    "\n",
    "            # Superclass accuracy\n",
    "            super_preds = torch.tensor([fine_to_superclass[p.item()] for p in preds], dtype=torch.long)\n",
    "            super_labels = torch.tensor([fine_to_superclass[t.item()] for t in labels], dtype=torch.long)\n",
    "            superclass_correct += torch.sum(super_preds == super_labels).item()\n",
    "            superclass_total += super_labels.size(0)\n",
    "\n",
    "    # 세부 클래스 및 슈퍼 클래스 정확도 계산\n",
    "    top1_acc = top1_correct / total\n",
    "    top5_acc = top5_correct / total\n",
    "    superclass_acc = superclass_correct / superclass_total\n",
    "    accuracy = [top1_acc, top5_acc, superclass_acc]\n",
    "\n",
    "    return accuracy"
   ]
  },
  {
   "cell_type": "code",
   "execution_count": 36,
   "id": "rVneR6Xh_XfY",
   "metadata": {
    "id": "rVneR6Xh_XfY"
   },
   "outputs": [
    {
     "name": "stdout",
     "output_type": "stream",
     "text": [
      "found best acc weights file:runs/resnet_18_test/savepoints/Friday_04_October_2024_19h_44m_40s/resnet_18_test-227-best.pth\n",
      "load best training file to test acc...\n",
      "Top-1 accuracy: 0.7603\n",
      "Top-5 accuracy: 0.9285\n",
      "Super-Class accuracy: 0.8426\n"
     ]
    }
   ],
   "source": [
    "net2 = model\n",
    "net2.to(device)\n",
    "net2.eval()\n",
    "\n",
    "# 이 코드로 best 모델이 load 되지 않을 경우 아래 코드에서 경로 직접 지정\n",
    "recent_folder = most_recent_folder(os.path.join(\"runs\", config[\"model_name\"], \"savepoints\"), DATE_FORMAT)\n",
    "if not recent_folder:\n",
    "    raise Exception(\"no recent folder were found\")\n",
    "\n",
    "best_weights = best_acc_weights(os.path.join(\"runs\", config[\"model_name\"], \"savepoints\", recent_folder))\n",
    "if best_weights:\n",
    "    weights_path = os.path.join(\"runs\", config[\"model_name\"], \"savepoints\", recent_folder, best_weights)\n",
    "    print('found best acc weights file:{}'.format(weights_path))\n",
    "    print('load best training file to test acc...')\n",
    "    net2.load_state_dict(torch.load(weights_path))\n",
    "\n",
    "acc = all_accuracy(net2, test_loader, device)\n",
    "print(\"Top-1 accuracy: {:.4f}\".format(acc[0]))\n",
    "print(\"Top-5 accuracy: {:.4f}\".format(acc[1]))\n",
    "print(\"Super-Class accuracy: {:.4f}\".format(acc[2]))\n",
    "\n",
    "wandb.log({\n",
    "    \"Test Top-1 accuracy\": acc[0],\n",
    "    \"Test Top-5 accuracy\": acc[1],\n",
    "    \"Test Super-Class accuracy\": acc[2],\n",
    "    \"Total Score\": sum(acc)\n",
    "    })"
   ]
  },
  {
   "cell_type": "code",
   "execution_count": null,
   "id": "3exQ4RCI34-1",
   "metadata": {
    "colab": {
     "base_uri": "https://localhost:8080/"
    },
    "id": "3exQ4RCI34-1",
    "outputId": "6c819a3d-91ce-48d0-e7f1-495bed210b91"
   },
   "outputs": [],
   "source": [
    "# # 위 코드에서 에러가 발생해 경로 지정이 제대로 되지 않을 경우 사용\n",
    "\n",
    "# net2 = model\n",
    "# net2.to(device)\n",
    "# net2.load_state_dict(torch.load(\"runs/wide_resnet/savepoints/Tuesday_01_October_2024_13h_15m_52s/wide_resnet-229-best.pth\"))\n",
    "\n",
    "# acc = all_accuracy(net2, test_loader, device)\n",
    "# print(\"Top-1 accuracy: {:.4f}\".format(acc[0]))\n",
    "# print(\"Top-5 accuracy: {:.4f}\".format(acc[1]))\n",
    "# print(\"Super-Class accuracy: {:.4f}\".format(acc[2]))\n",
    "# wandb.log({\n",
    "#     \"Test Top-1 accuracy\": acc[0],\n",
    "#     \"Test Top-5 accuracy\": acc[1],\n",
    "#     \"Test Super-Class accuracy\": acc[2],\n",
    "#     \"Total Score\": sum(acc)\n",
    "#     })\n",
    "# wandb.finish()"
   ]
  },
  {
   "cell_type": "markdown",
   "id": "cdc7f408",
   "metadata": {
    "id": "cdc7f408"
   },
   "source": [
    "**Data Analysis**"
   ]
  },
  {
   "cell_type": "code",
   "execution_count": 64,
   "id": "d8404d10-a77a-4544-96d1-70cb306e2a05",
   "metadata": {
    "id": "d8404d10-a77a-4544-96d1-70cb306e2a05"
   },
   "outputs": [
    {
     "ename": "AttributeError",
     "evalue": "'Image' object has no attribute 'show'",
     "output_type": "error",
     "traceback": [
      "\u001b[0;31m---------------------------------------------------------------------------\u001b[0m",
      "\u001b[0;31mAttributeError\u001b[0m                            Traceback (most recent call last)",
      "Cell \u001b[0;32mIn[64], line 62\u001b[0m\n\u001b[1;32m     55\u001b[0m plt\u001b[38;5;241m.\u001b[39mclose()\n\u001b[1;32m     57\u001b[0m wandb\u001b[38;5;241m.\u001b[39mlog({\n\u001b[1;32m     58\u001b[0m     \u001b[38;5;124m\"\u001b[39m\u001b[38;5;124mConfusion Matrix\u001b[39m\u001b[38;5;124m\"\u001b[39m: conf_matrix_img,\n\u001b[1;32m     59\u001b[0m     \u001b[38;5;124m\"\u001b[39m\u001b[38;5;124mClassification Report\u001b[39m\u001b[38;5;124m\"\u001b[39m: class_report_img\n\u001b[1;32m     60\u001b[0m     })\n\u001b[0;32m---> 62\u001b[0m \u001b[43mconf_matrix_img\u001b[49m\u001b[38;5;241;43m.\u001b[39;49m\u001b[43mshow\u001b[49m()\n\u001b[1;32m     63\u001b[0m class_report_img\u001b[38;5;241m.\u001b[39mshow()\n",
      "\u001b[0;31mAttributeError\u001b[0m: 'Image' object has no attribute 'show'"
     ]
    }
   ],
   "source": [
    "import wandb.sklearn\n",
    "\n",
    "classes = train_val_data.classes\n",
    "coarse_classes = [\n",
    "    'aquatic mammals', 'fish', 'flowers', 'food containers', 'fruit and vegetables', 'household electrical devices',\n",
    "    'household furniture', 'insects', 'large carnivores', 'large man-made outdoor things',\n",
    "    'large natural outdoor scenes', 'large omnivores and herbivores', 'medium-sized mammals',\n",
    "    'non-insect invertebrates', 'people', 'reptiles', 'small mammals', 'trees', 'vehicles 1', 'vehicles 2'\n",
    "]\n",
    "\n",
    "y_pred = []\n",
    "y_true = []\n",
    "y_probs = []\n",
    "\n",
    "for x, y in torch.utils.data.DataLoader(dataset=test_data, batch_size=config[\"batch_size\"]):\n",
    "    x = x.to(device)\n",
    "    y = y.to(device)\n",
    "    z = net2(x)\n",
    "    _, yhat = torch.max(z, 1)\n",
    "    probs = z.softmax(dim=1).cpu().detach().numpy()\n",
    "\n",
    "    pred = yhat.data.cpu().numpy()\n",
    "    \n",
    "    super_pred = [coarse_classes[fine_to_superclass[p]] for p in pred]\n",
    "    y_pred.extend(super_pred)\n",
    "\n",
    "    labels = y.data.cpu().numpy()\n",
    "    super_labels = [coarse_classes[fine_to_superclass[l]] for l in labels]\n",
    "    y_true.extend(super_labels)\n",
    "\n",
    "    y_probs.extend(probs)\n",
    "    \n",
    "cf_matrix = confusion_matrix(y_true, y_pred, normalize='true')\n",
    "\n",
    "df_cm = pd.DataFrame(cf_matrix, index=coarse_classes,\n",
    "                     columns=coarse_classes)\n",
    "\n",
    "plt.figure(figsize=(10, 7))\n",
    "sns.heatmap(df_cm, annot=True, fmt='.2f', cmap='Blues')\n",
    "plt.title(f'Confusion Matrix of {config[\"model_name\"]} (CIFAR-100 Superclass)')\n",
    "plt.xlabel('Predicted')\n",
    "plt.ylabel('Real')\n",
    "\n",
    "conf_matrix_img = wandb.Image(plt.gcf())\n",
    "plt.close()\n",
    "\n",
    "class_report = classification_report(y_true, y_pred, labels=coarse_classes, zero_division=0)\n",
    "\n",
    "plt.figure(figsize=(10, 7))\n",
    "plt.text(0.01, 0.05, str(class_report), {'fontsize': 12}, fontproperties='monospace')  # monospaced font\n",
    "plt.axis('off')  # 축 제거\n",
    "plt.tight_layout()\n",
    "\n",
    "class_report_img = wandb.Image(plt.gcf())\n",
    "plt.close()\n",
    "\n",
    "wandb.log({\n",
    "    \"Confusion Matrix\": conf_matrix_img,\n",
    "    \"Classification Report\": class_report_img\n",
    "    })"
   ]
  },
  {
   "cell_type": "code",
   "execution_count": 65,
   "id": "6c9076a5-82f4-4ec9-9903-5f20c093aa6d",
   "metadata": {},
   "outputs": [
    {
     "data": {
      "text/html": [
       "<style>\n",
       "    table.wandb td:nth-child(1) { padding: 0 10px; text-align: left ; width: auto;} td:nth-child(2) {text-align: left ; width: 100%}\n",
       "    .wandb-row { display: flex; flex-direction: row; flex-wrap: wrap; justify-content: flex-start; width: 100% }\n",
       "    .wandb-col { display: flex; flex-direction: column; flex-basis: 100%; flex: 1; padding: 10px; }\n",
       "    </style>\n",
       "<div class=\"wandb-row\"><div class=\"wandb-col\"><h3>Run history:</h3><br/><table class=\"wandb\"><tr><td>Test Super-Class accuracy</td><td>▁</td></tr><tr><td>Test Top-1 accuracy</td><td>▁</td></tr><tr><td>Test Top-5 accuracy</td><td>▁</td></tr><tr><td>Total Score</td><td>▁</td></tr></table><br/></div><div class=\"wandb-col\"><h3>Run summary:</h3><br/><table class=\"wandb\"><tr><td>Test Super-Class accuracy</td><td>0.8426</td></tr><tr><td>Test Top-1 accuracy</td><td>0.7603</td></tr><tr><td>Test Top-5 accuracy</td><td>0.9285</td></tr><tr><td>Total Score</td><td>2.5314</td></tr></table><br/></div></div>"
      ],
      "text/plain": [
       "<IPython.core.display.HTML object>"
      ]
     },
     "metadata": {},
     "output_type": "display_data"
    },
    {
     "data": {
      "text/html": [
       " View run <strong style=\"color:#cdcd00\">resnet_18_test</strong> at: <a href='https://wandb.ai/hyunwook7120-hanyang-university/CIFAR-100_Classification/runs/aq4i2yp2' target=\"_blank\">https://wandb.ai/hyunwook7120-hanyang-university/CIFAR-100_Classification/runs/aq4i2yp2</a><br/> View project at: <a href='https://wandb.ai/hyunwook7120-hanyang-university/CIFAR-100_Classification' target=\"_blank\">https://wandb.ai/hyunwook7120-hanyang-university/CIFAR-100_Classification</a><br/>Synced 5 W&B file(s), 0 media file(s), 8 artifact file(s) and 43 other file(s)"
      ],
      "text/plain": [
       "<IPython.core.display.HTML object>"
      ]
     },
     "metadata": {},
     "output_type": "display_data"
    },
    {
     "data": {
      "text/html": [
       "Find logs at: <code>./wandb/run-20241005_001704-aq4i2yp2/logs</code>"
      ],
      "text/plain": [
       "<IPython.core.display.HTML object>"
      ]
     },
     "metadata": {},
     "output_type": "display_data"
    }
   ],
   "source": [
    "wandb.finish()"
   ]
  },
  {
   "cell_type": "code",
   "execution_count": null,
   "id": "50081015",
   "metadata": {},
   "outputs": [],
   "source": []
  }
 ],
 "metadata": {
  "accelerator": "GPU",
  "colab": {
   "gpuType": "T4",
   "machine_shape": "hm",
   "provenance": []
  },
  "kernelspec": {
   "display_name": "dl",
   "language": "python",
   "name": "python3"
  },
  "language_info": {
   "codemirror_mode": {
    "name": "ipython",
    "version": 3
   },
   "file_extension": ".py",
   "mimetype": "text/x-python",
   "name": "python",
   "nbconvert_exporter": "python",
   "pygments_lexer": "ipython3",
   "version": "3.8.19"
  }
 },
 "nbformat": 4,
 "nbformat_minor": 5
}
