{
 "cells": [
  {
   "cell_type": "markdown",
   "id": "da55e5a3-cdd0-4b19-a405-6d25853d33f9",
   "metadata": {
    "id": "da55e5a3-cdd0-4b19-a405-6d25853d33f9"
   },
   "source": [
    "**Load Module**"
   ]
  },
  {
   "cell_type": "code",
   "execution_count": 1,
   "id": "83038a2e-883a-4da6-97bd-c5371f13c182",
   "metadata": {
    "id": "83038a2e-883a-4da6-97bd-c5371f13c182"
   },
   "outputs": [],
   "source": [
    "# Utils\n",
    "import numpy as np\n",
    "import pandas as pd\n",
    "import seaborn as sns\n",
    "import matplotlib.pyplot as plt\n",
    "from tqdm import tqdm\n",
    "import random\n",
    "import os\n",
    "import time\n",
    "from datetime import datetime\n",
    "from sklearn.model_selection import StratifiedShuffleSplit\n",
    "from utility.utils import EarlyStopping, WarmUpLR, most_recent_folder, most_recent_weights, best_acc_weights, last_epoch\n",
    "\n",
    "# Torch\n",
    "import torch\n",
    "import torch.nn as nn\n",
    "import torch.nn.functional as F\n",
    "from torchsummary import summary\n",
    "import torch.optim as optim\n",
    "from torch.utils.data import DataLoader, SubsetRandomSampler, Subset\n",
    "\n",
    "import torchvision\n",
    "from torchvision import transforms, datasets\n",
    "\n",
    "# Analysis\n",
    "from sklearn.metrics import confusion_matrix, classification_report\n",
    "import wandb\n"
   ]
  },
  {
   "cell_type": "markdown",
   "id": "bbdc13d1-90ff-4301-8dac-07977aaaddcf",
   "metadata": {
    "id": "bbdc13d1-90ff-4301-8dac-07977aaaddcf"
   },
   "source": [
    "**Seed & Device Setting**"
   ]
  },
  {
   "cell_type": "code",
   "execution_count": 2,
   "id": "9b8539ad-3c66-4c94-abb2-fcc33f97d3ca",
   "metadata": {
    "colab": {
     "base_uri": "https://localhost:8080/"
    },
    "id": "9b8539ad-3c66-4c94-abb2-fcc33f97d3ca",
    "outputId": "ed6e73ba-1056-4f62-fc55-15b56acfe3c2"
   },
   "outputs": [
    {
     "data": {
      "text/plain": [
       "device(type='cuda', index=0)"
      ]
     },
     "execution_count": 2,
     "metadata": {},
     "output_type": "execute_result"
    }
   ],
   "source": [
    "def set_seed(seed):\n",
    "    torch.manual_seed(seed)\n",
    "    torch.cuda.manual_seed(seed)\n",
    "    torch.cuda.manual_seed_all(seed) # GPU 여러 개 사용할 경우 사용\n",
    "    torch.backends.cudnn.deterministic = True\n",
    "    torch.backends.cudnn.benchmark = False # 완벽한 재현성을 위해선 False로 하는 게 맞지만 성능의 저하를 일으킬 수 있음\n",
    "    np.random.seed(seed)\n",
    "    random.seed(seed)\n",
    "\n",
    "seed = 42\n",
    "set_seed(seed)\n",
    "\n",
    "# 디바이스 설정\n",
    "device = torch.device(\"cuda:0\" if torch.cuda.is_available() else \"cpu\")\n",
    "device"
   ]
  },
  {
   "cell_type": "markdown",
   "id": "a35b5e51",
   "metadata": {
    "id": "a35b5e51"
   },
   "source": [
    "**Wandb Setting & Set Hyperparameters (수정 구간)**"
   ]
  },
  {
   "cell_type": "code",
   "execution_count": 3,
   "id": "d5ce35ad",
   "metadata": {
    "colab": {
     "base_uri": "https://localhost:8080/",
     "height": 254
    },
    "id": "d5ce35ad",
    "outputId": "26c52ce7-bcef-496e-fd7d-d9ea23426c27"
   },
   "outputs": [
    {
     "name": "stderr",
     "output_type": "stream",
     "text": [
      "wandb: Using wandb-core as the SDK backend. Please refer to https://wandb.me/wandb-core for more information.\n",
      "wandb: Currently logged in as: hyunwook7120 (hyunwook7120-hanyang-university). Use `wandb login --relogin` to force relogin\n"
     ]
    },
    {
     "data": {
      "text/html": [
       "Tracking run with wandb version 0.18.2"
      ],
      "text/plain": [
       "<IPython.core.display.HTML object>"
      ]
     },
     "metadata": {},
     "output_type": "display_data"
    },
    {
     "data": {
      "text/html": [
       "Run data is saved locally in <code>c:\\Users\\jhw03\\Screen\\cgv\\CIFAR100-Classfication\\cgv\\wandb\\run-20241013_150932-n02qpvyq</code>"
      ],
      "text/plain": [
       "<IPython.core.display.HTML object>"
      ]
     },
     "metadata": {},
     "output_type": "display_data"
    },
    {
     "data": {
      "text/html": [
       "Syncing run <strong><a href='https://wandb.ai/hyunwook7120-hanyang-university/CIFAR-100_Classification/runs/n02qpvyq' target=\"_blank\">resnet_18_base_50000+nesterov</a></strong> to <a href='https://wandb.ai/hyunwook7120-hanyang-university/CIFAR-100_Classification' target=\"_blank\">Weights & Biases</a> (<a href='https://wandb.me/run' target=\"_blank\">docs</a>)<br/>"
      ],
      "text/plain": [
       "<IPython.core.display.HTML object>"
      ]
     },
     "metadata": {},
     "output_type": "display_data"
    },
    {
     "data": {
      "text/html": [
       " View project at <a href='https://wandb.ai/hyunwook7120-hanyang-university/CIFAR-100_Classification' target=\"_blank\">https://wandb.ai/hyunwook7120-hanyang-university/CIFAR-100_Classification</a>"
      ],
      "text/plain": [
       "<IPython.core.display.HTML object>"
      ]
     },
     "metadata": {},
     "output_type": "display_data"
    },
    {
     "data": {
      "text/html": [
       " View run at <a href='https://wandb.ai/hyunwook7120-hanyang-university/CIFAR-100_Classification/runs/n02qpvyq' target=\"_blank\">https://wandb.ai/hyunwook7120-hanyang-university/CIFAR-100_Classification/runs/n02qpvyq</a>"
      ],
      "text/plain": [
       "<IPython.core.display.HTML object>"
      ]
     },
     "metadata": {},
     "output_type": "display_data"
    },
    {
     "data": {
      "text/html": [
       "<button onClick=\"this.nextSibling.style.display='block';this.style.display='none';\">Display W&B run</button><iframe src='https://wandb.ai/hyunwook7120-hanyang-university/CIFAR-100_Classification/runs/n02qpvyq?jupyter=true' style='border:none;width:100%;height:420px;display:none;'></iframe>"
      ],
      "text/plain": [
       "<wandb.sdk.wandb_run.Run at 0x153e4c55550>"
      ]
     },
     "execution_count": 3,
     "metadata": {},
     "output_type": "execute_result"
    }
   ],
   "source": [
    "config = {\n",
    "    \"batch_size\" : 128,\n",
    "    \"num_epochs\" : 250,\n",
    "    \"learning_rate\" : 0.1,\n",
    "    \"momentum\" : 0.9,\n",
    "    \"weight_decay\" : 5e-4,\n",
    "    \"nesterov\" : True,\n",
    "    \"gamma\" : 0.2,\n",
    "    \"warm\" : 1,\n",
    "    \"patience\" : 150,\n",
    "    \"plateau_patience\" : 15,\n",
    "    \"milestones\" : [100, 150, 200],\n",
    "    \"pin_memory\" : True,\n",
    "\n",
    "    \"resume\" : False,\n",
    "    \"model_name\" : \"resnet_18_base_50000+nesterov\",\n",
    "    \"stratified_data\" : True,\n",
    "    \"scheduler\" : \"MultiStepLR\",\n",
    "    \"train_50000\" : True\n",
    "}\n",
    "if config[\"resume\"] == True:\n",
    "    config[\"warm\"] = 0\n",
    "model_name = config[\"model_name\"]\n",
    "wandb.init(project=\"CIFAR-100_Classification\", name=config[\"model_name\"], config=config)"
   ]
  },
  {
   "cell_type": "code",
   "execution_count": 4,
   "id": "a8d1e41f",
   "metadata": {
    "id": "a8d1e41f"
   },
   "outputs": [],
   "source": [
    "fine_to_superclass = {\n",
    "    4: 0, 30: 0, 55: 0, 72: 0, 95: 0,       # aquatic mammals\n",
    "    1: 1, 32: 1, 67: 1, 73: 1, 91: 1,       # fish\n",
    "    54: 2, 62: 2, 70: 2, 82: 2, 92: 2,      # flowers\n",
    "    9: 3, 10: 3, 16: 3, 28: 3, 61: 3,       # food containers\n",
    "    0: 4, 51: 4, 53: 4, 57: 4, 83: 4,       # fruit and vegetables\n",
    "    22: 5, 39: 5, 40: 5, 86: 5, 87: 5,      # household electrical devices\n",
    "    5: 6, 20: 6, 25: 6, 84: 6, 94: 6,       # household furniture\n",
    "    6: 7, 7: 7, 14: 7, 18: 7, 24: 7,        # insects\n",
    "    3: 8, 42: 8, 43: 8, 88: 8, 97: 8,       # large carnivores\n",
    "    12: 9, 17: 9, 37: 9, 68: 9, 76: 9,      # large man-made outdoor things\n",
    "    23: 10, 33: 10, 49: 10, 60: 10, 71: 10, # large natural outdoor scenes\n",
    "    15: 11, 19: 11, 21: 11, 31: 11, 38: 11, # large omnivores and herbivores\n",
    "    34: 12, 63: 12, 64: 12, 66: 12, 75: 12, # medium-sized mammals\n",
    "    26: 13, 45: 13, 77: 13, 79: 13, 99: 13, # non-insect invertebrates\n",
    "    2: 14, 11: 14, 35: 14, 46: 14, 98: 14,  # people\n",
    "    27: 15, 29: 15, 44: 15, 78: 15, 93: 15, # reptiles\n",
    "    36: 16, 50: 16, 65: 16, 74: 16, 80: 16, # small mammals\n",
    "    47: 17, 52: 17, 56: 17, 59: 17, 96: 17, # trees\n",
    "    8: 18, 13: 18, 48: 18, 58: 18, 90: 18,  # vehicles 1\n",
    "    41: 19, 69: 19, 81: 19, 85: 19, 89: 19  # vehicles 2\n",
    "}"
   ]
  },
  {
   "cell_type": "markdown",
   "id": "3e04e253-49c0-4c37-8260-5e02f2c09452",
   "metadata": {
    "id": "3e04e253-49c0-4c37-8260-5e02f2c09452"
   },
   "source": [
    "# Data Preprocessing"
   ]
  },
  {
   "cell_type": "markdown",
   "id": "ZKl6oKBffJYA",
   "metadata": {
    "id": "ZKl6oKBffJYA"
   },
   "source": [
    "**Data Augementation (수정 구간)**"
   ]
  },
  {
   "cell_type": "code",
   "execution_count": 5,
   "id": "93758c0c-b1d2-4ab9-afb4-bdd60a04dbd3",
   "metadata": {
    "id": "93758c0c-b1d2-4ab9-afb4-bdd60a04dbd3"
   },
   "outputs": [],
   "source": [
    "CIFAR100_TRAIN_MEAN = (0.5070751592371323, 0.48654887331495095, 0.4409178433670343)\n",
    "CIFAR100_TRAIN_STD = (0.2673342858792401, 0.2564384629170883, 0.27615047132568404)\n",
    "\n",
    "train_val_transform = transforms.Compose([\n",
    "    transforms.RandomCrop(32, padding=4),\n",
    "    transforms.RandomHorizontalFlip(),\n",
    "    # transforms.RandomRotation(degrees=15),\n",
    "    # transforms.ColorJitter(brightness=0.2, contrast=0.2, saturation=0.2, hue=0.1),\n",
    "    transforms.ToTensor(),\n",
    "    transforms.Normalize(CIFAR100_TRAIN_MEAN, CIFAR100_TRAIN_STD)\n",
    "])\n",
    "\n",
    "test_transform = transforms.Compose([\n",
    "    transforms.ToTensor(),\n",
    "    transforms.Normalize(CIFAR100_TRAIN_MEAN, CIFAR100_TRAIN_STD)\n",
    "])"
   ]
  },
  {
   "cell_type": "markdown",
   "id": "13ade0a7-66ce-48f4-96b0-f4719beaf090",
   "metadata": {
    "id": "13ade0a7-66ce-48f4-96b0-f4719beaf090"
   },
   "source": [
    "**Splitting the training data**"
   ]
  },
  {
   "cell_type": "code",
   "execution_count": 6,
   "id": "09b4a6e5-9118-449a-bfb8-d05f9d339304",
   "metadata": {
    "colab": {
     "base_uri": "https://localhost:8080/"
    },
    "id": "09b4a6e5-9118-449a-bfb8-d05f9d339304",
    "outputId": "f8325035-cd21-4715-b7a6-1e0d8d0dfcd5"
   },
   "outputs": [
    {
     "name": "stdout",
     "output_type": "stream",
     "text": [
      "Files already downloaded and verified\n",
      "Files already downloaded and verified\n",
      "Files already downloaded and verified\n"
     ]
    }
   ],
   "source": [
    "train_val_data = datasets.CIFAR100(root='./data', train=True, download=True, transform=train_val_transform)\n",
    "val_data = datasets.CIFAR100(root='./data', train=True, download=True, transform=test_transform)\n",
    "test_data = datasets.CIFAR100(root='./data', train=False, download=True, transform=test_transform)"
   ]
  },
  {
   "cell_type": "code",
   "execution_count": 7,
   "id": "82c9ab44-2b89-4d17-b90d-f42d1e8fe426",
   "metadata": {
    "id": "82c9ab44-2b89-4d17-b90d-f42d1e8fe426"
   },
   "outputs": [],
   "source": [
    "# Stratified 방식으로 train 데이터를 train/val로 나누기\n",
    "if config[\"train_50000\"]:\n",
    "   pass\n",
    "elif config[\"stratified_data\"]:\n",
    "  labels = train_val_data.targets\n",
    "  stratified_split = StratifiedShuffleSplit(n_splits=1, test_size=0.2, random_state=42)\n",
    "\n",
    "  for train_index, val_index in stratified_split.split(train_val_data.data, labels):\n",
    "      train_data = Subset(train_val_data, train_index)\n",
    "      val_data = Subset(val_data, val_index)\n",
    "else:\n",
    "  # RandomSampler 방식으로 train 데이터를 train/val로 나누기\n",
    "  num_train = len(train_val_data)\n",
    "  indices = list(range(num_train))\n",
    "  split = int(np.floor(0.2 * num_train))  # validation 데이터를 20%로 설정\n",
    "\n",
    "  np.random.shuffle(indices)\n",
    "  train_idx, val_idx = indices[split:], indices[:split]\n",
    "\n",
    "  train_sampler = SubsetRandomSampler(train_idx)\n",
    "  val_sampler = SubsetRandomSampler(val_idx)"
   ]
  },
  {
   "cell_type": "markdown",
   "id": "ce676124-c073-4aec-a000-cb061ac3e10a",
   "metadata": {
    "id": "ce676124-c073-4aec-a000-cb061ac3e10a"
   },
   "source": [
    "**Define Dataloader**"
   ]
  },
  {
   "cell_type": "code",
   "execution_count": 8,
   "id": "824ddf7d-d749-456a-b717-e257489431b9",
   "metadata": {
    "colab": {
     "base_uri": "https://localhost:8080/"
    },
    "id": "824ddf7d-d749-456a-b717-e257489431b9",
    "outputId": "8bfd89af-a57a-441c-9a14-d549ff2ef41d"
   },
   "outputs": [],
   "source": [
    "if config[\"train_50000\"]:\n",
    "  train_loader = DataLoader(train_val_data, batch_size=config[\"batch_size\"], shuffle=True, num_workers=4, pin_memory=config[\"pin_memory\"])\n",
    "  test_loader = DataLoader(test_data, batch_size=config[\"batch_size\"], shuffle=False, num_workers=4, pin_memory=config[\"pin_memory\"])\n",
    "elif config[\"stratified_data\"]:\n",
    "  train_loader = DataLoader(train_data, batch_size=config[\"batch_size\"], shuffle=True, num_workers=4, pin_memory=config[\"pin_memory\"])\n",
    "  val_loader = DataLoader(val_data, batch_size=config[\"batch_size\"], shuffle=False, num_workers=4, pin_memory=config[\"pin_memory\"])\n",
    "  test_loader = DataLoader(test_data, batch_size=config[\"batch_size\"], shuffle=False, num_workers=4, pin_memory=config[\"pin_memory\"])\n",
    "else:\n",
    "  train_loader = DataLoader(train_val_data, batch_size=config[\"batch_size\"], sampler=train_sampler, num_workers=4, pin_memory=config[\"pin_memory\"])\n",
    "  val_loader = DataLoader(train_val_data, batch_size=config[\"batch_size\"], shuffle=False, sampler=val_sampler, num_workers=4, pin_memory=config[\"pin_memory\"])\n",
    "  test_loader = DataLoader(test_data, batch_size=config[\"batch_size\"], shuffle=False, num_workers=4, pin_memory=config[\"pin_memory\"])"
   ]
  },
  {
   "cell_type": "markdown",
   "id": "0e300067-8688-4cb1-b34b-a9dcd504c860",
   "metadata": {
    "id": "0e300067-8688-4cb1-b34b-a9dcd504c860"
   },
   "source": [
    "**Model Initialize (수정 부분)**"
   ]
  },
  {
   "cell_type": "code",
   "execution_count": 9,
   "id": "7a58ae19-69f4-49a5-b704-d878caa5d7c7",
   "metadata": {
    "colab": {
     "base_uri": "https://localhost:8080/"
    },
    "id": "7a58ae19-69f4-49a5-b704-d878caa5d7c7",
    "outputId": "70f5d330-681b-4ffd-de0b-16232491cdc4",
    "scrolled": true
   },
   "outputs": [
    {
     "name": "stdout",
     "output_type": "stream",
     "text": [
      "use: cuda:0\n",
      "Optimizer's state_dict:\n",
      "state \t {}\n",
      "param_groups \t [{'lr': 0.0, 'momentum': 0.9, 'dampening': 0, 'weight_decay': 0.0005, 'nesterov': True, 'maximize': False, 'foreach': None, 'differentiable': False, 'fused': None, 'initial_lr': 0.1, 'params': [0, 1, 2, 3, 4, 5, 6, 7, 8, 9, 10, 11, 12, 13, 14, 15, 16, 17, 18, 19, 20, 21, 22, 23, 24, 25, 26, 27, 28, 29, 30, 31, 32, 33, 34, 35, 36, 37, 38, 39, 40, 41, 42, 43, 44, 45, 46, 47, 48, 49, 50, 51, 52, 53, 54, 55, 56, 57, 58, 59, 60, 61]}]\n"
     ]
    }
   ],
   "source": [
    "from models import resnet\n",
    "\n",
    "print(\"use:\", device)\n",
    "\n",
    "# 모델 초기화\n",
    "model = resnet.resnet18()\n",
    "net = model\n",
    "# 모델을 GPU로 이동\n",
    "net.to(device)\n",
    "\n",
    "# print(summary(net, (3,224,224)))\n",
    "\n",
    "criterion = nn.CrossEntropyLoss()\n",
    "optimizer = optim.SGD(net.parameters(), lr=config[\"learning_rate\"], momentum=config[\"momentum\"], weight_decay=config[\"weight_decay\"], nesterov=config[\"nesterov\"])\n",
    "\n",
    "if config[\"scheduler\"] == \"MultiStepLR\":\n",
    "    train_scheduler = optim.lr_scheduler.MultiStepLR(optimizer, config[\"milestones\"], gamma=config[\"gamma\"]) #learning rate decay\n",
    "elif config[\"scheduler\"] == \"ReduceLROnPlateau\":\n",
    "    train_scheduler = optim.lr_scheduler.ReduceLROnPlateau(optimizer, \"min\", factor=config[\"gamma\"], patience=config[\"plateau_patience\"])\n",
    "else:\n",
    "    print(\"No scheduler!!\")\n",
    "iter_per_epoch = len(train_loader)\n",
    "warmup_scheduler = WarmUpLR(optimizer, iter_per_epoch * config[\"warm\"])\n",
    "early_stopping = EarlyStopping(patience=config[\"patience\"], verbose=True)\n",
    "\n",
    "print(\"Optimizer's state_dict:\")\n",
    "for var_name in optimizer.state_dict():\n",
    "    print(var_name, \"\\t\", optimizer.state_dict()[var_name])"
   ]
  },
  {
   "cell_type": "markdown",
   "id": "8b49f37a-e104-42df-a9a6-6ba473a9881f",
   "metadata": {
    "id": "8b49f37a-e104-42df-a9a6-6ba473a9881f"
   },
   "source": [
    "**Model Train**"
   ]
  },
  {
   "cell_type": "code",
   "execution_count": 10,
   "id": "96ba42f4-6da7-4f0c-983b-b8b82da34879",
   "metadata": {
    "id": "96ba42f4-6da7-4f0c-983b-b8b82da34879"
   },
   "outputs": [],
   "source": [
    "# 모델 학습 함수\n",
    "def train_model(net, trainloader, criterion, optimizer, epoch):\n",
    "    net.train()\n",
    "    start = time.time()\n",
    "    top1_correct = 0\n",
    "    top5_correct = 0\n",
    "    total = 0\n",
    "\n",
    "    superclass_correct = 0\n",
    "    superclass_total = 0\n",
    "\n",
    "    running_loss = 0.0\n",
    "    for batch_idx, (inputs, labels) in enumerate(trainloader):\n",
    "        labels, inputs = labels.to(device), inputs.to(device)\n",
    "\n",
    "        optimizer.zero_grad()\n",
    "\n",
    "        # 모델 예측\n",
    "        outputs = net(inputs)\n",
    "        loss = criterion(outputs, labels)\n",
    "\n",
    "        _, preds = torch.max(outputs, 1)\n",
    "        top1_correct += torch.sum(preds == labels).item()\n",
    "\n",
    "        _, top5_preds = outputs.topk(5, 1, True, True)\n",
    "        top5_correct += torch.sum(top5_preds.eq(labels.view(-1, 1).expand_as(top5_preds))).item()\n",
    "\n",
    "        total += labels.size(0)\n",
    "\n",
    "        # Superclass accuracy\n",
    "        super_preds = torch.tensor([fine_to_superclass[p.item()] for p in preds], dtype=torch.long)\n",
    "        super_labels = torch.tensor([fine_to_superclass[t.item()] for t in labels], dtype=torch.long)\n",
    "        superclass_correct += torch.sum(super_preds == super_labels).item()\n",
    "        superclass_total += super_labels.size(0)\n",
    "\n",
    "        # 역전파 및 최적화\n",
    "        loss.backward()\n",
    "        optimizer.step()\n",
    "\n",
    "        n_iter = (epoch - 1) * len(train_loader) + batch_idx + 1\n",
    "        running_loss += loss.item() * inputs.size(0)\n",
    "\n",
    "        # 30번째 배치마다 상태 출력\n",
    "        if (batch_idx + 1) % 30 == 0:\n",
    "            print(f\"Batch [{batch_idx+1}/{len(trainloader)}], Loss: {loss.item():.4f}\")\n",
    "\n",
    "        # LR에 warmup 되는 게 안 보이지만 실제론 이루어지고 있음. batch로 돌 때 이루어짐.\n",
    "        if epoch <= config[\"warm\"]:\n",
    "            warmup_scheduler.step()\n",
    "\n",
    "\n",
    "    # Epoch당 평균 손실 계산 및 출력\n",
    "    epoch_loss = running_loss / total\n",
    "\n",
    "    num_epochs = config[\"num_epochs\"]\n",
    "    finish = time.time()\n",
    "\n",
    "    # 세부 클래스 및 슈퍼 클래스 정확도 계산\n",
    "    top1_acc = top1_correct / total\n",
    "    top5_acc = top5_correct / total\n",
    "    superclass_acc = superclass_correct / superclass_total\n",
    "    accuracy = [top1_acc, top5_acc, superclass_acc]\n",
    "\n",
    "    print(\"Train set: Epoch: {}, Average loss:{:.4f}, LR: {:.6f} Top-1 Accuracy: {:.4f}, Top-5 Accuracy: {:.4f}, SuperClass Accuracy: {:.4f}, Time consumed:{:.2f}s\".format(\n",
    "        epoch,\n",
    "        epoch_loss,\n",
    "        optimizer.param_groups[0]['lr'],\n",
    "        top1_acc,\n",
    "        top5_acc,\n",
    "        superclass_acc,\n",
    "        finish - start\n",
    "    ))\n",
    "\n",
    "    return epoch_loss, accuracy\n",
    "\n",
    "def eval_training(net, testloader, criterion, epoch):\n",
    "    net.eval()\n",
    "    top1_correct = 0\n",
    "    top5_correct = 0\n",
    "    total = 0\n",
    "\n",
    "    superclass_correct = 0\n",
    "    superclass_total = 0\n",
    "\n",
    "    start = time.time()\n",
    "\n",
    "    test_loss = 0.0\n",
    "\n",
    "    with torch.no_grad():\n",
    "        for images, labels in testloader:\n",
    "            images, labels = images.to(device), labels.to(device)\n",
    "            outputs = net(images)\n",
    "\n",
    "            _, preds = torch.max(outputs, 1)\n",
    "            top1_correct += torch.sum(preds == labels).item()\n",
    "\n",
    "            _, top5_preds = outputs.topk(5, 1, True, True)\n",
    "            top5_correct += torch.sum(top5_preds.eq(labels.view(-1, 1).expand_as(top5_preds))).item()\n",
    "\n",
    "            total += labels.size(0)\n",
    "\n",
    "            test_loss += criterion(outputs, labels)\n",
    "\n",
    "            # Superclass accuracy\n",
    "            super_preds = torch.tensor([fine_to_superclass[p.item()] for p in preds], dtype=torch.long)\n",
    "            super_labels = torch.tensor([fine_to_superclass[t.item()] for t in labels], dtype=torch.long)\n",
    "            superclass_correct += torch.sum(super_preds == super_labels).item()\n",
    "            superclass_total += super_labels.size(0)\n",
    "\n",
    "    finish = time.time()\n",
    "    average_loss = test_loss / total\n",
    "\n",
    "    # 세부 클래스 및 슈퍼 클래스 정확도 계산\n",
    "    top1_acc = top1_correct / total\n",
    "    top5_acc = top5_correct / total\n",
    "    superclass_acc = superclass_correct / superclass_total\n",
    "    accuracy = [top1_acc, top5_acc, superclass_acc]\n",
    "\n",
    "    print(\"Test set: Epoch: {}, Average loss:{:.4f}, Top-1 Accuracy: {:.4f}, Top-5 Accuracy: {:.4f}, SuperClass Accuracy: {:.4f}, Time consumed:{:.2f}s\".format(\n",
    "        epoch,\n",
    "        average_loss,\n",
    "        top1_acc,\n",
    "        top5_acc,\n",
    "        superclass_acc,\n",
    "        finish - start\n",
    "    ))\n",
    "    print()\n",
    "\n",
    "    return average_loss, accuracy"
   ]
  },
  {
   "cell_type": "code",
   "execution_count": 11,
   "id": "7e079b97-a215-4b55-aedd-c1297773426d",
   "metadata": {
    "id": "7e079b97-a215-4b55-aedd-c1297773426d"
   },
   "outputs": [],
   "source": [
    "DATE_FORMAT = '%A_%d_%B_%Y_%Hh_%Mm_%Ss'\n",
    "TIME_NOW = datetime.now().strftime(DATE_FORMAT)\n",
    "\n",
    "if config[\"resume\"]:\n",
    "    recent_folder = most_recent_folder(os.path.join(\"runs\", config[\"model_name\"], \"savepoints\"), DATE_FORMAT)\n",
    "    if not recent_folder:\n",
    "        raise Exception(\"no recent folder were found\")\n",
    "\n",
    "    checkpoint_path = os.path.join(\"runs\", config[\"model_name\"], \"savepoints\", recent_folder)\n",
    "else:\n",
    "    checkpoint_path = os.path.join(\"runs\", config[\"model_name\"], \"savepoints\", TIME_NOW)\n",
    "\n",
    "if not os.path.exists(checkpoint_path):\n",
    "    os.makedirs(checkpoint_path)\n",
    "checkpoint_path = os.path.join(checkpoint_path, '{net}-{epoch}-{type}.pth')\n",
    "\n",
    "best_acc = [0.0, 0.0, 0.0]\n",
    "sum_best_acc = 0.0\n",
    "epoch = 0\n",
    "weights_path = False\n",
    "\n",
    "if config[\"resume\"]:\n",
    "    best_weights = best_acc_weights(os.path.join(\"runs\", config[\"model_name\"], \"savepoints\", recent_folder))\n",
    "    if best_weights:\n",
    "        weights_path = os.path.join(\"runs\", config[\"model_name\"], \"savepoints\", recent_folder, best_weights)\n",
    "        print('found best acc weights file:{}'.format(weights_path))\n",
    "        print('load best training file to test acc...')\n",
    "        net.load_state_dict(torch.load(weights_path))\n",
    "        _, best_acc = eval_training(net, test_loader, criterion, epoch)\n",
    "        print(\"best acc is Top-1:{:0.2f} Top-5:{:0.2f} Super:{:0.2f} Total:{:0.2f}\".format(best_acc[0], best_acc[1], best_acc[2], sum(best_acc)))\n",
    "\n",
    "    recent_weights_file = most_recent_weights(os.path.join(\"runs\", config[\"model_name\"], \"savepoints\", recent_folder))\n",
    "    if not recent_weights_file:\n",
    "        raise Exception(\"no recent weights file were found\")\n",
    "    weights_path = os.path.join(\"runs\", config[\"model_name\"], \"savepoints\", recent_folder, recent_weights_file)\n",
    "    print(\"loading weights file {} to resume training......\".format(weights_path))\n",
    "    net.load_state_dict(torch.load(weights_path))\n",
    "\n",
    "    resume_epoch = last_epoch(os.path.join(\"runs\", config[\"model_name\"], \"savepoints\", recent_folder))\n",
    "    print(\"resume_epoch is\", resume_epoch)\n",
    "    optimizer = optim.SGD(net.parameters(), lr=config[\"learning_rate\"], momentum=config[\"momentum\"], weight_decay=config[\"weight_decay\"], nesterov=config[\"nesterov\"])\n",
    "\n",
    "    if config[\"scheduler\"] == \"MultiStepLR\":\n",
    "        train_scheduler = optim.lr_scheduler.MultiStepLR(optimizer, config[\"milestones\"], gamma=config[\"gamma\"]) #learning rate decay\n",
    "    elif config[\"scheduler\"] == \"ReduceLROnPlateau\":\n",
    "        train_scheduler = optim.lr_scheduler.ReduceLROnPlateau(optimizer, \"min\", factor=config[\"gamma\"], patience=config[\"plateau_patience\"])\n",
    "    else:\n",
    "        print(\"No scheduler!!\")\n",
    "    optimizer.step()"
   ]
  },
  {
   "cell_type": "markdown",
   "id": "4a2e2e73-edc7-4368-910e-e6a71133dd81",
   "metadata": {
    "id": "4a2e2e73-edc7-4368-910e-e6a71133dd81"
   },
   "source": [
    "**Per-Epoch Training**"
   ]
  },
  {
   "cell_type": "code",
   "execution_count": 12,
   "id": "c463ddea-8731-4e48-8ba1-23e2961b164a",
   "metadata": {
    "colab": {
     "base_uri": "https://localhost:8080/"
    },
    "id": "c463ddea-8731-4e48-8ba1-23e2961b164a",
    "outputId": "c22e6d65-3707-478e-ceb6-b56881f0c945",
    "scrolled": true
   },
   "outputs": [
    {
     "name": "stderr",
     "output_type": "stream",
     "text": [
      "  0%|          | 0/250 [00:00<?, ?it/s]"
     ]
    },
    {
     "name": "stdout",
     "output_type": "stream",
     "text": [
      "Batch [30/391], Loss: 4.5003\n",
      "Batch [60/391], Loss: 3.8105\n",
      "Batch [90/391], Loss: 3.9335\n",
      "Batch [120/391], Loss: 3.9804\n",
      "Batch [150/391], Loss: 3.6056\n",
      "Batch [180/391], Loss: 3.6764\n",
      "Batch [210/391], Loss: 3.5094\n",
      "Batch [240/391], Loss: 3.5642\n",
      "Batch [270/391], Loss: 3.4500\n",
      "Batch [300/391], Loss: 3.5599\n",
      "Batch [330/391], Loss: 3.3586\n",
      "Batch [360/391], Loss: 3.0189\n",
      "Batch [390/391], Loss: 3.1685\n",
      "Train set: Epoch: 1, Average loss:3.7572, LR: 0.100000 Top-1 Accuracy: 0.1242, Top-5 Accuracy: 0.3470, SuperClass Accuracy: 0.2466, Time consumed:44.78s\n",
      "Test set: Epoch: 1, Average loss:0.0283, Top-1 Accuracy: 0.1624, Top-5 Accuracy: 0.4312, SuperClass Accuracy: 0.2948, Time consumed:13.06s\n",
      "\n",
      "saving weights file to runs\\resnet_18_base_50000+nesterov\\savepoints\\Sunday_13_October_2024_15h_09m_35s\\resnet_18_base_50000+nesterov-1-best.pth\n"
     ]
    },
    {
     "name": "stderr",
     "output_type": "stream",
     "text": [
      "  0%|          | 1/250 [00:57<4:00:17, 57.90s/it]"
     ]
    },
    {
     "name": "stdout",
     "output_type": "stream",
     "text": [
      "Batch [30/391], Loss: 2.9745\n",
      "Batch [60/391], Loss: 3.2021\n",
      "Batch [90/391], Loss: 3.0298\n",
      "Batch [120/391], Loss: 2.9485\n",
      "Batch [150/391], Loss: 2.7804\n",
      "Batch [180/391], Loss: 2.7980\n",
      "Batch [210/391], Loss: 2.3938\n",
      "Batch [240/391], Loss: 2.9347\n",
      "Batch [270/391], Loss: 2.4134\n",
      "Batch [300/391], Loss: 2.5878\n",
      "Batch [330/391], Loss: 2.7083\n",
      "Batch [360/391], Loss: 2.5674\n",
      "Batch [390/391], Loss: 2.5683\n",
      "Train set: Epoch: 2, Average loss:2.8411, LR: 0.100000 Top-1 Accuracy: 0.2760, Top-5 Accuracy: 0.5934, SuperClass Accuracy: 0.4269, Time consumed:45.00s\n",
      "Test set: Epoch: 2, Average loss:0.0229, Top-1 Accuracy: 0.2791, Top-5 Accuracy: 0.5986, SuperClass Accuracy: 0.4336, Time consumed:13.52s\n",
      "\n",
      "saving weights file to runs\\resnet_18_base_50000+nesterov\\savepoints\\Sunday_13_October_2024_15h_09m_35s\\resnet_18_base_50000+nesterov-2-best.pth\n"
     ]
    },
    {
     "name": "stderr",
     "output_type": "stream",
     "text": [
      "  1%|          | 2/250 [01:56<4:00:58, 58.30s/it]"
     ]
    },
    {
     "name": "stdout",
     "output_type": "stream",
     "text": [
      "Batch [30/391], Loss: 2.5474\n",
      "Batch [60/391], Loss: 2.4160\n",
      "Batch [90/391], Loss: 2.3421\n",
      "Batch [120/391], Loss: 2.2898\n",
      "Batch [150/391], Loss: 2.1962\n",
      "Batch [180/391], Loss: 2.1241\n",
      "Batch [210/391], Loss: 2.1726\n",
      "Batch [240/391], Loss: 1.9985\n",
      "Batch [270/391], Loss: 2.3493\n",
      "Batch [300/391], Loss: 2.1919\n",
      "Batch [330/391], Loss: 2.1689\n",
      "Batch [360/391], Loss: 2.2964\n",
      "Batch [390/391], Loss: 2.1328\n",
      "Train set: Epoch: 3, Average loss:2.2737, LR: 0.100000 Top-1 Accuracy: 0.3913, Top-5 Accuracy: 0.7225, SuperClass Accuracy: 0.5467, Time consumed:45.74s\n",
      "Test set: Epoch: 3, Average loss:0.0222, Top-1 Accuracy: 0.3175, Top-5 Accuracy: 0.6373, SuperClass Accuracy: 0.4607, Time consumed:13.98s\n",
      "\n",
      "saving weights file to runs\\resnet_18_base_50000+nesterov\\savepoints\\Sunday_13_October_2024_15h_09m_35s\\resnet_18_base_50000+nesterov-3-best.pth\n"
     ]
    },
    {
     "name": "stderr",
     "output_type": "stream",
     "text": [
      "  1%|          | 3/250 [02:56<4:02:47, 58.98s/it]"
     ]
    },
    {
     "name": "stdout",
     "output_type": "stream",
     "text": [
      "Batch [30/391], Loss: 1.9419\n",
      "Batch [60/391], Loss: 2.1714\n",
      "Batch [90/391], Loss: 2.3333\n",
      "Batch [120/391], Loss: 1.7780\n",
      "Batch [150/391], Loss: 2.1370\n",
      "Batch [180/391], Loss: 1.7947\n",
      "Batch [210/391], Loss: 1.9541\n",
      "Batch [240/391], Loss: 1.8928\n",
      "Batch [270/391], Loss: 1.9804\n",
      "Batch [300/391], Loss: 2.1145\n",
      "Batch [330/391], Loss: 1.9759\n",
      "Batch [360/391], Loss: 1.9582\n",
      "Batch [390/391], Loss: 2.0039\n",
      "Train set: Epoch: 4, Average loss:1.9419, LR: 0.100000 Top-1 Accuracy: 0.4651, Top-5 Accuracy: 0.7886, SuperClass Accuracy: 0.6112, Time consumed:45.88s\n",
      "Test set: Epoch: 4, Average loss:0.0155, Top-1 Accuracy: 0.4621, Top-5 Accuracy: 0.7843, SuperClass Accuracy: 0.6099, Time consumed:14.06s\n",
      "\n",
      "saving weights file to runs\\resnet_18_base_50000+nesterov\\savepoints\\Sunday_13_October_2024_15h_09m_35s\\resnet_18_base_50000+nesterov-4-best.pth\n"
     ]
    },
    {
     "name": "stderr",
     "output_type": "stream",
     "text": [
      "  2%|▏         | 4/250 [03:56<4:03:28, 59.38s/it]"
     ]
    },
    {
     "name": "stdout",
     "output_type": "stream",
     "text": [
      "Batch [30/391], Loss: 1.6301\n",
      "Batch [60/391], Loss: 1.7181\n",
      "Batch [90/391], Loss: 1.8649\n",
      "Batch [120/391], Loss: 1.7913\n",
      "Batch [150/391], Loss: 1.6739\n",
      "Batch [180/391], Loss: 1.8257\n",
      "Batch [210/391], Loss: 1.8259\n",
      "Batch [240/391], Loss: 1.6023\n",
      "Batch [270/391], Loss: 1.6858\n",
      "Batch [300/391], Loss: 1.9174\n",
      "Batch [330/391], Loss: 1.6651\n",
      "Batch [360/391], Loss: 1.8831\n",
      "Batch [390/391], Loss: 1.7918\n",
      "Train set: Epoch: 5, Average loss:1.7393, LR: 0.100000 Top-1 Accuracy: 0.5128, Top-5 Accuracy: 0.8269, SuperClass Accuracy: 0.6531, Time consumed:46.71s\n",
      "Test set: Epoch: 5, Average loss:0.0146, Top-1 Accuracy: 0.4951, Top-5 Accuracy: 0.7998, SuperClass Accuracy: 0.6344, Time consumed:15.02s\n",
      "\n",
      "saving weights file to runs\\resnet_18_base_50000+nesterov\\savepoints\\Sunday_13_October_2024_15h_09m_35s\\resnet_18_base_50000+nesterov-5-best.pth\n"
     ]
    },
    {
     "name": "stderr",
     "output_type": "stream",
     "text": [
      "  2%|▏         | 5/250 [04:58<4:06:03, 60.26s/it]"
     ]
    },
    {
     "name": "stdout",
     "output_type": "stream",
     "text": [
      "Batch [30/391], Loss: 1.6633\n",
      "Batch [60/391], Loss: 1.5663\n",
      "Batch [90/391], Loss: 1.5794\n",
      "Batch [120/391], Loss: 1.7874\n",
      "Batch [150/391], Loss: 1.7858\n",
      "Batch [180/391], Loss: 1.5056\n",
      "Batch [210/391], Loss: 1.8985\n",
      "Batch [240/391], Loss: 1.9043\n",
      "Batch [270/391], Loss: 1.4507\n",
      "Batch [300/391], Loss: 1.6053\n",
      "Batch [330/391], Loss: 1.3422\n",
      "Batch [360/391], Loss: 1.6350\n",
      "Batch [390/391], Loss: 1.8339\n",
      "Train set: Epoch: 6, Average loss:1.6106, LR: 0.100000 Top-1 Accuracy: 0.5462, Top-5 Accuracy: 0.8481, SuperClass Accuracy: 0.6833, Time consumed:47.20s\n",
      "Test set: Epoch: 6, Average loss:0.0137, Top-1 Accuracy: 0.5267, Top-5 Accuracy: 0.8225, SuperClass Accuracy: 0.6639, Time consumed:14.74s\n",
      "\n",
      "saving weights file to runs\\resnet_18_base_50000+nesterov\\savepoints\\Sunday_13_October_2024_15h_09m_35s\\resnet_18_base_50000+nesterov-6-best.pth\n"
     ]
    },
    {
     "name": "stderr",
     "output_type": "stream",
     "text": [
      "  2%|▏         | 6/250 [06:00<4:07:28, 60.85s/it]"
     ]
    },
    {
     "name": "stdout",
     "output_type": "stream",
     "text": [
      "Batch [30/391], Loss: 1.4745\n",
      "Batch [60/391], Loss: 1.3876\n",
      "Batch [90/391], Loss: 1.4740\n",
      "Batch [120/391], Loss: 1.6898\n",
      "Batch [150/391], Loss: 1.6932\n",
      "Batch [180/391], Loss: 1.2969\n",
      "Batch [210/391], Loss: 1.8271\n",
      "Batch [240/391], Loss: 1.3873\n",
      "Batch [270/391], Loss: 1.3909\n",
      "Batch [300/391], Loss: 1.7374\n",
      "Batch [330/391], Loss: 1.5256\n",
      "Batch [360/391], Loss: 1.4567\n",
      "Batch [390/391], Loss: 1.7157\n",
      "Train set: Epoch: 7, Average loss:1.5182, LR: 0.100000 Top-1 Accuracy: 0.5712, Top-5 Accuracy: 0.8620, SuperClass Accuracy: 0.7038, Time consumed:46.91s\n",
      "Test set: Epoch: 7, Average loss:0.0145, Top-1 Accuracy: 0.5016, Top-5 Accuracy: 0.8100, SuperClass Accuracy: 0.6387, Time consumed:14.78s\n",
      "\n",
      "EarlyStopping counter: 1 out of 150\n"
     ]
    },
    {
     "name": "stderr",
     "output_type": "stream",
     "text": [
      "  3%|▎         | 7/250 [07:01<4:07:34, 61.13s/it]"
     ]
    },
    {
     "name": "stdout",
     "output_type": "stream",
     "text": [
      "Batch [30/391], Loss: 1.4861\n",
      "Batch [60/391], Loss: 1.4904\n",
      "Batch [90/391], Loss: 1.4658\n",
      "Batch [120/391], Loss: 1.3876\n",
      "Batch [150/391], Loss: 1.1924\n",
      "Batch [180/391], Loss: 1.6233\n",
      "Batch [210/391], Loss: 1.6829\n",
      "Batch [240/391], Loss: 1.4211\n",
      "Batch [270/391], Loss: 1.7117\n",
      "Batch [300/391], Loss: 1.3582\n",
      "Batch [330/391], Loss: 1.4583\n",
      "Batch [360/391], Loss: 1.6518\n",
      "Batch [390/391], Loss: 1.4628\n",
      "Train set: Epoch: 8, Average loss:1.4507, LR: 0.100000 Top-1 Accuracy: 0.5829, Top-5 Accuracy: 0.8742, SuperClass Accuracy: 0.7129, Time consumed:47.47s\n",
      "Test set: Epoch: 8, Average loss:0.0136, Top-1 Accuracy: 0.5280, Top-5 Accuracy: 0.8262, SuperClass Accuracy: 0.6614, Time consumed:15.16s\n",
      "\n",
      "saving weights file to runs\\resnet_18_base_50000+nesterov\\savepoints\\Sunday_13_October_2024_15h_09m_35s\\resnet_18_base_50000+nesterov-8-best.pth\n"
     ]
    },
    {
     "name": "stderr",
     "output_type": "stream",
     "text": [
      "  3%|▎         | 8/250 [08:04<4:08:33, 61.63s/it]"
     ]
    },
    {
     "name": "stdout",
     "output_type": "stream",
     "text": [
      "Batch [30/391], Loss: 1.5269\n",
      "Batch [60/391], Loss: 1.5133\n",
      "Batch [90/391], Loss: 1.4502\n",
      "Batch [120/391], Loss: 1.2853\n",
      "Batch [150/391], Loss: 1.3324\n",
      "Batch [180/391], Loss: 1.4643\n",
      "Batch [210/391], Loss: 1.4715\n",
      "Batch [240/391], Loss: 1.6240\n",
      "Batch [270/391], Loss: 1.3908\n",
      "Batch [300/391], Loss: 1.3718\n",
      "Batch [330/391], Loss: 1.2921\n",
      "Batch [360/391], Loss: 1.6490\n",
      "Batch [390/391], Loss: 1.5039\n",
      "Train set: Epoch: 9, Average loss:1.3991, LR: 0.100000 Top-1 Accuracy: 0.5988, Top-5 Accuracy: 0.8810, SuperClass Accuracy: 0.7265, Time consumed:47.55s\n",
      "Test set: Epoch: 9, Average loss:0.0129, Top-1 Accuracy: 0.5478, Top-5 Accuracy: 0.8434, SuperClass Accuracy: 0.6872, Time consumed:14.46s\n",
      "\n",
      "saving weights file to runs\\resnet_18_base_50000+nesterov\\savepoints\\Sunday_13_October_2024_15h_09m_35s\\resnet_18_base_50000+nesterov-9-best.pth\n"
     ]
    },
    {
     "name": "stderr",
     "output_type": "stream",
     "text": [
      "  4%|▎         | 9/250 [09:06<4:08:05, 61.77s/it]"
     ]
    },
    {
     "name": "stdout",
     "output_type": "stream",
     "text": [
      "Batch [30/391], Loss: 1.4994\n",
      "Batch [60/391], Loss: 1.2916\n",
      "Batch [90/391], Loss: 1.4145\n",
      "Batch [120/391], Loss: 1.2804\n",
      "Batch [150/391], Loss: 1.5030\n",
      "Batch [180/391], Loss: 1.3725\n",
      "Batch [210/391], Loss: 1.2666\n",
      "Batch [240/391], Loss: 1.2299\n",
      "Batch [270/391], Loss: 1.5925\n",
      "Batch [300/391], Loss: 1.3991\n",
      "Batch [330/391], Loss: 1.2057\n",
      "Batch [360/391], Loss: 1.5176\n",
      "Batch [390/391], Loss: 1.2735\n",
      "Train set: Epoch: 10, Average loss:1.3552, LR: 0.100000 Top-1 Accuracy: 0.6132, Top-5 Accuracy: 0.8864, SuperClass Accuracy: 0.7369, Time consumed:46.98s\n",
      "Test set: Epoch: 10, Average loss:0.0150, Top-1 Accuracy: 0.4892, Top-5 Accuracy: 0.8079, SuperClass Accuracy: 0.6310, Time consumed:14.52s\n",
      "\n",
      "EarlyStopping counter: 1 out of 150\n"
     ]
    },
    {
     "name": "stderr",
     "output_type": "stream",
     "text": [
      "  4%|▍         | 10/250 [10:08<4:06:45, 61.69s/it]"
     ]
    },
    {
     "name": "stdout",
     "output_type": "stream",
     "text": [
      "Batch [30/391], Loss: 1.3394\n",
      "Batch [60/391], Loss: 1.2329\n",
      "Batch [90/391], Loss: 1.3176\n",
      "Batch [120/391], Loss: 1.4787\n",
      "Batch [150/391], Loss: 1.2227\n",
      "Batch [180/391], Loss: 1.4141\n",
      "Batch [210/391], Loss: 1.3241\n",
      "Batch [240/391], Loss: 1.3878\n",
      "Batch [270/391], Loss: 1.4364\n",
      "Batch [300/391], Loss: 1.1368\n",
      "Batch [330/391], Loss: 1.5560\n",
      "Batch [360/391], Loss: 1.3025\n",
      "Batch [390/391], Loss: 1.2957\n",
      "Train set: Epoch: 11, Average loss:1.3168, LR: 0.100000 Top-1 Accuracy: 0.6207, Top-5 Accuracy: 0.8929, SuperClass Accuracy: 0.7415, Time consumed:47.02s\n",
      "Test set: Epoch: 11, Average loss:0.0134, Top-1 Accuracy: 0.5432, Top-5 Accuracy: 0.8405, SuperClass Accuracy: 0.6784, Time consumed:14.57s\n",
      "\n",
      "EarlyStopping counter: 2 out of 150\n"
     ]
    },
    {
     "name": "stderr",
     "output_type": "stream",
     "text": [
      "  4%|▍         | 11/250 [11:09<4:05:37, 61.66s/it]"
     ]
    },
    {
     "name": "stdout",
     "output_type": "stream",
     "text": [
      "Batch [30/391], Loss: 1.3295\n",
      "Batch [60/391], Loss: 1.0141\n",
      "Batch [90/391], Loss: 1.3060\n",
      "Batch [120/391], Loss: 1.4799\n",
      "Batch [150/391], Loss: 1.3315\n",
      "Batch [180/391], Loss: 1.3975\n",
      "Batch [210/391], Loss: 1.5381\n",
      "Batch [240/391], Loss: 1.2166\n",
      "Batch [270/391], Loss: 1.4502\n",
      "Batch [300/391], Loss: 1.0028\n",
      "Batch [330/391], Loss: 1.3851\n",
      "Batch [360/391], Loss: 1.3814\n",
      "Batch [390/391], Loss: 1.0804\n",
      "Train set: Epoch: 12, Average loss:1.2701, LR: 0.100000 Top-1 Accuracy: 0.6335, Top-5 Accuracy: 0.8993, SuperClass Accuracy: 0.7520, Time consumed:46.82s\n",
      "Test set: Epoch: 12, Average loss:0.0125, Top-1 Accuracy: 0.5659, Top-5 Accuracy: 0.8510, SuperClass Accuracy: 0.7075, Time consumed:14.63s\n",
      "\n",
      "saving weights file to runs\\resnet_18_base_50000+nesterov\\savepoints\\Sunday_13_October_2024_15h_09m_35s\\resnet_18_base_50000+nesterov-12-best.pth\n"
     ]
    },
    {
     "name": "stderr",
     "output_type": "stream",
     "text": [
      "  5%|▍         | 12/250 [12:11<4:04:24, 61.62s/it]"
     ]
    },
    {
     "name": "stdout",
     "output_type": "stream",
     "text": [
      "Batch [30/391], Loss: 0.9435\n",
      "Batch [60/391], Loss: 0.9934\n",
      "Batch [90/391], Loss: 1.2933\n",
      "Batch [120/391], Loss: 1.1973\n",
      "Batch [150/391], Loss: 1.3782\n",
      "Batch [180/391], Loss: 1.3154\n",
      "Batch [210/391], Loss: 1.1390\n",
      "Batch [240/391], Loss: 1.2341\n",
      "Batch [270/391], Loss: 1.3046\n",
      "Batch [300/391], Loss: 1.1738\n",
      "Batch [330/391], Loss: 1.5781\n",
      "Batch [360/391], Loss: 1.4780\n",
      "Batch [390/391], Loss: 1.2223\n",
      "Train set: Epoch: 13, Average loss:1.2476, LR: 0.100000 Top-1 Accuracy: 0.6398, Top-5 Accuracy: 0.9032, SuperClass Accuracy: 0.7582, Time consumed:47.07s\n",
      "Test set: Epoch: 13, Average loss:0.0140, Top-1 Accuracy: 0.5266, Top-5 Accuracy: 0.8298, SuperClass Accuracy: 0.6635, Time consumed:14.57s\n",
      "\n",
      "EarlyStopping counter: 1 out of 150\n"
     ]
    },
    {
     "name": "stderr",
     "output_type": "stream",
     "text": [
      "  5%|▌         | 13/250 [13:12<4:03:25, 61.63s/it]"
     ]
    },
    {
     "name": "stdout",
     "output_type": "stream",
     "text": [
      "Batch [30/391], Loss: 1.1078\n",
      "Batch [60/391], Loss: 1.1134\n",
      "Batch [90/391], Loss: 1.0401\n",
      "Batch [120/391], Loss: 1.0210\n",
      "Batch [150/391], Loss: 1.2880\n",
      "Batch [180/391], Loss: 1.1049\n",
      "Batch [210/391], Loss: 1.3516\n",
      "Batch [240/391], Loss: 1.2021\n",
      "Batch [270/391], Loss: 1.4174\n",
      "Batch [300/391], Loss: 1.2948\n",
      "Batch [330/391], Loss: 1.1968\n",
      "Batch [360/391], Loss: 1.3959\n",
      "Batch [390/391], Loss: 1.0856\n",
      "Train set: Epoch: 14, Average loss:1.2228, LR: 0.100000 Top-1 Accuracy: 0.6451, Top-5 Accuracy: 0.9062, SuperClass Accuracy: 0.7613, Time consumed:47.18s\n",
      "Test set: Epoch: 14, Average loss:0.0137, Top-1 Accuracy: 0.5432, Top-5 Accuracy: 0.8382, SuperClass Accuracy: 0.6808, Time consumed:14.74s\n",
      "\n",
      "EarlyStopping counter: 2 out of 150\n"
     ]
    },
    {
     "name": "stderr",
     "output_type": "stream",
     "text": [
      "  6%|▌         | 14/250 [14:14<4:02:45, 61.72s/it]"
     ]
    },
    {
     "name": "stdout",
     "output_type": "stream",
     "text": [
      "Batch [30/391], Loss: 1.1203\n",
      "Batch [60/391], Loss: 0.9449\n",
      "Batch [90/391], Loss: 1.1119\n",
      "Batch [120/391], Loss: 1.3543\n",
      "Batch [150/391], Loss: 1.1539\n",
      "Batch [180/391], Loss: 1.1187\n",
      "Batch [210/391], Loss: 1.0468\n",
      "Batch [240/391], Loss: 1.4359\n",
      "Batch [270/391], Loss: 1.2114\n",
      "Batch [300/391], Loss: 1.2389\n",
      "Batch [330/391], Loss: 1.0839\n",
      "Batch [360/391], Loss: 1.3722\n",
      "Batch [390/391], Loss: 1.1874\n",
      "Train set: Epoch: 15, Average loss:1.2024, LR: 0.100000 Top-1 Accuracy: 0.6516, Top-5 Accuracy: 0.9089, SuperClass Accuracy: 0.7661, Time consumed:47.24s\n",
      "Test set: Epoch: 15, Average loss:0.0136, Top-1 Accuracy: 0.5421, Top-5 Accuracy: 0.8328, SuperClass Accuracy: 0.6751, Time consumed:14.54s\n",
      "\n",
      "EarlyStopping counter: 3 out of 150\n"
     ]
    },
    {
     "name": "stderr",
     "output_type": "stream",
     "text": [
      "  6%|▌         | 15/250 [15:16<4:01:49, 61.74s/it]"
     ]
    },
    {
     "name": "stdout",
     "output_type": "stream",
     "text": [
      "Batch [30/391], Loss: 1.0278\n",
      "Batch [60/391], Loss: 1.3264\n",
      "Batch [90/391], Loss: 1.1722\n",
      "Batch [120/391], Loss: 1.1321\n",
      "Batch [150/391], Loss: 1.2088\n",
      "Batch [180/391], Loss: 1.1414\n",
      "Batch [210/391], Loss: 1.2108\n",
      "Batch [240/391], Loss: 1.2358\n",
      "Batch [270/391], Loss: 1.2557\n",
      "Batch [300/391], Loss: 0.9130\n",
      "Batch [330/391], Loss: 1.1833\n",
      "Batch [360/391], Loss: 1.2793\n",
      "Batch [390/391], Loss: 1.0855\n",
      "Train set: Epoch: 16, Average loss:1.1863, LR: 0.100000 Top-1 Accuracy: 0.6538, Top-5 Accuracy: 0.9101, SuperClass Accuracy: 0.7668, Time consumed:47.03s\n",
      "Test set: Epoch: 16, Average loss:0.0136, Top-1 Accuracy: 0.5432, Top-5 Accuracy: 0.8285, SuperClass Accuracy: 0.6691, Time consumed:14.58s\n",
      "\n",
      "EarlyStopping counter: 4 out of 150\n"
     ]
    },
    {
     "name": "stderr",
     "output_type": "stream",
     "text": [
      "  6%|▋         | 16/250 [16:18<4:00:38, 61.70s/it]"
     ]
    },
    {
     "name": "stdout",
     "output_type": "stream",
     "text": [
      "Batch [30/391], Loss: 1.0829\n",
      "Batch [60/391], Loss: 1.2075\n",
      "Batch [90/391], Loss: 1.1750\n",
      "Batch [120/391], Loss: 1.0674\n",
      "Batch [150/391], Loss: 1.3523\n",
      "Batch [180/391], Loss: 1.2433\n",
      "Batch [210/391], Loss: 1.2984\n",
      "Batch [240/391], Loss: 1.2098\n",
      "Batch [270/391], Loss: 1.0920\n",
      "Batch [300/391], Loss: 1.2329\n",
      "Batch [330/391], Loss: 1.3650\n",
      "Batch [360/391], Loss: 1.1604\n",
      "Batch [390/391], Loss: 0.9375\n",
      "Train set: Epoch: 17, Average loss:1.1652, LR: 0.100000 Top-1 Accuracy: 0.6619, Top-5 Accuracy: 0.9138, SuperClass Accuracy: 0.7743, Time consumed:47.27s\n",
      "Test set: Epoch: 17, Average loss:0.0139, Top-1 Accuracy: 0.5452, Top-5 Accuracy: 0.8336, SuperClass Accuracy: 0.6746, Time consumed:14.90s\n",
      "\n",
      "EarlyStopping counter: 5 out of 150\n"
     ]
    },
    {
     "name": "stderr",
     "output_type": "stream",
     "text": [
      "  7%|▋         | 17/250 [17:20<4:00:10, 61.85s/it]"
     ]
    },
    {
     "name": "stdout",
     "output_type": "stream",
     "text": [
      "Batch [30/391], Loss: 1.1310\n",
      "Batch [60/391], Loss: 1.2004\n",
      "Batch [90/391], Loss: 1.2637\n",
      "Batch [120/391], Loss: 0.9565\n",
      "Batch [150/391], Loss: 1.2263\n",
      "Batch [180/391], Loss: 1.0944\n",
      "Batch [210/391], Loss: 1.0339\n",
      "Batch [240/391], Loss: 1.1369\n",
      "Batch [270/391], Loss: 1.3340\n",
      "Batch [300/391], Loss: 1.3413\n",
      "Batch [330/391], Loss: 1.1314\n",
      "Batch [360/391], Loss: 1.5320\n",
      "Batch [390/391], Loss: 1.0667\n",
      "Train set: Epoch: 18, Average loss:1.1432, LR: 0.100000 Top-1 Accuracy: 0.6691, Top-5 Accuracy: 0.9172, SuperClass Accuracy: 0.7801, Time consumed:47.44s\n",
      "Test set: Epoch: 18, Average loss:0.0136, Top-1 Accuracy: 0.5469, Top-5 Accuracy: 0.8400, SuperClass Accuracy: 0.6784, Time consumed:14.69s\n",
      "\n",
      "EarlyStopping counter: 6 out of 150\n"
     ]
    },
    {
     "name": "stderr",
     "output_type": "stream",
     "text": [
      "  7%|▋         | 18/250 [18:22<3:59:29, 61.94s/it]"
     ]
    },
    {
     "name": "stdout",
     "output_type": "stream",
     "text": [
      "Batch [30/391], Loss: 1.0398\n",
      "Batch [60/391], Loss: 1.0121\n",
      "Batch [90/391], Loss: 1.1601\n",
      "Batch [120/391], Loss: 0.9645\n",
      "Batch [150/391], Loss: 1.1317\n",
      "Batch [180/391], Loss: 1.1635\n",
      "Batch [210/391], Loss: 1.1780\n",
      "Batch [240/391], Loss: 1.0661\n",
      "Batch [270/391], Loss: 1.1674\n",
      "Batch [300/391], Loss: 1.0660\n",
      "Batch [330/391], Loss: 1.0539\n",
      "Batch [360/391], Loss: 1.1118\n",
      "Batch [390/391], Loss: 1.3715\n",
      "Train set: Epoch: 19, Average loss:1.1316, LR: 0.100000 Top-1 Accuracy: 0.6696, Top-5 Accuracy: 0.9192, SuperClass Accuracy: 0.7819, Time consumed:47.21s\n",
      "Test set: Epoch: 19, Average loss:0.0135, Top-1 Accuracy: 0.5516, Top-5 Accuracy: 0.8385, SuperClass Accuracy: 0.6811, Time consumed:14.58s\n",
      "\n",
      "EarlyStopping counter: 7 out of 150\n"
     ]
    },
    {
     "name": "stderr",
     "output_type": "stream",
     "text": [
      "  8%|▊         | 19/250 [19:24<3:58:17, 61.90s/it]"
     ]
    },
    {
     "name": "stdout",
     "output_type": "stream",
     "text": [
      "Batch [30/391], Loss: 0.9365\n",
      "Batch [60/391], Loss: 1.0194\n",
      "Batch [90/391], Loss: 1.0040\n",
      "Batch [120/391], Loss: 1.3668\n",
      "Batch [150/391], Loss: 1.1436\n",
      "Batch [180/391], Loss: 1.1171\n",
      "Batch [210/391], Loss: 1.1905\n",
      "Batch [240/391], Loss: 1.2896\n",
      "Batch [270/391], Loss: 1.2131\n",
      "Batch [300/391], Loss: 1.1227\n",
      "Batch [330/391], Loss: 1.1883\n",
      "Batch [360/391], Loss: 1.2046\n",
      "Batch [390/391], Loss: 1.0172\n",
      "Train set: Epoch: 20, Average loss:1.1147, LR: 0.100000 Top-1 Accuracy: 0.6752, Top-5 Accuracy: 0.9209, SuperClass Accuracy: 0.7851, Time consumed:47.27s\n",
      "Test set: Epoch: 20, Average loss:0.0143, Top-1 Accuracy: 0.5505, Top-5 Accuracy: 0.8272, SuperClass Accuracy: 0.6762, Time consumed:14.53s\n",
      "\n",
      "EarlyStopping counter: 8 out of 150\n"
     ]
    },
    {
     "name": "stderr",
     "output_type": "stream",
     "text": [
      "  8%|▊         | 20/250 [20:26<3:57:09, 61.87s/it]"
     ]
    },
    {
     "name": "stdout",
     "output_type": "stream",
     "text": [
      "Batch [30/391], Loss: 0.9373\n",
      "Batch [60/391], Loss: 0.8930\n",
      "Batch [90/391], Loss: 1.2561\n",
      "Batch [120/391], Loss: 1.0617\n",
      "Batch [150/391], Loss: 1.2527\n",
      "Batch [180/391], Loss: 1.1314\n",
      "Batch [210/391], Loss: 1.2315\n",
      "Batch [240/391], Loss: 1.0615\n",
      "Batch [270/391], Loss: 1.0082\n",
      "Batch [300/391], Loss: 1.3675\n",
      "Batch [330/391], Loss: 1.2397\n",
      "Batch [360/391], Loss: 1.0128\n",
      "Batch [390/391], Loss: 1.1828\n",
      "Train set: Epoch: 21, Average loss:1.1084, LR: 0.100000 Top-1 Accuracy: 0.6765, Top-5 Accuracy: 0.9215, SuperClass Accuracy: 0.7861, Time consumed:47.19s\n",
      "Test set: Epoch: 21, Average loss:0.0154, Top-1 Accuracy: 0.5169, Top-5 Accuracy: 0.8061, SuperClass Accuracy: 0.6488, Time consumed:14.75s\n",
      "\n",
      "EarlyStopping counter: 9 out of 150\n"
     ]
    },
    {
     "name": "stderr",
     "output_type": "stream",
     "text": [
      "  8%|▊         | 21/250 [21:28<3:56:12, 61.89s/it]"
     ]
    },
    {
     "name": "stdout",
     "output_type": "stream",
     "text": [
      "Batch [30/391], Loss: 0.9594\n",
      "Batch [60/391], Loss: 0.8563\n",
      "Batch [90/391], Loss: 1.1711\n",
      "Batch [120/391], Loss: 1.0792\n",
      "Batch [150/391], Loss: 1.1577\n",
      "Batch [180/391], Loss: 1.1594\n",
      "Batch [210/391], Loss: 0.9168\n",
      "Batch [240/391], Loss: 1.0146\n",
      "Batch [270/391], Loss: 1.0368\n",
      "Batch [300/391], Loss: 0.8844\n",
      "Batch [330/391], Loss: 1.2060\n",
      "Batch [360/391], Loss: 0.9411\n",
      "Batch [390/391], Loss: 1.0403\n",
      "Train set: Epoch: 22, Average loss:1.0979, LR: 0.100000 Top-1 Accuracy: 0.6797, Top-5 Accuracy: 0.9215, SuperClass Accuracy: 0.7867, Time consumed:47.21s\n",
      "Test set: Epoch: 22, Average loss:0.0125, Top-1 Accuracy: 0.5885, Top-5 Accuracy: 0.8576, SuperClass Accuracy: 0.7059, Time consumed:14.57s\n",
      "\n",
      "saving weights file to runs\\resnet_18_base_50000+nesterov\\savepoints\\Sunday_13_October_2024_15h_09m_35s\\resnet_18_base_50000+nesterov-22-best.pth\n"
     ]
    },
    {
     "name": "stderr",
     "output_type": "stream",
     "text": [
      "  9%|▉         | 22/250 [22:29<3:55:07, 61.88s/it]"
     ]
    },
    {
     "name": "stdout",
     "output_type": "stream",
     "text": [
      "Batch [30/391], Loss: 0.8111\n",
      "Batch [60/391], Loss: 0.6972\n",
      "Batch [90/391], Loss: 1.0650\n",
      "Batch [120/391], Loss: 0.9795\n",
      "Batch [150/391], Loss: 0.9723\n",
      "Batch [180/391], Loss: 1.0916\n",
      "Batch [210/391], Loss: 1.1773\n",
      "Batch [240/391], Loss: 0.9609\n",
      "Batch [270/391], Loss: 1.1801\n",
      "Batch [300/391], Loss: 1.1106\n",
      "Batch [330/391], Loss: 0.9682\n",
      "Batch [360/391], Loss: 1.1031\n",
      "Batch [390/391], Loss: 1.1100\n",
      "Train set: Epoch: 23, Average loss:1.0789, LR: 0.100000 Top-1 Accuracy: 0.6841, Top-5 Accuracy: 0.9241, SuperClass Accuracy: 0.7901, Time consumed:47.42s\n",
      "Test set: Epoch: 23, Average loss:0.0129, Top-1 Accuracy: 0.5689, Top-5 Accuracy: 0.8447, SuperClass Accuracy: 0.6941, Time consumed:14.68s\n",
      "\n",
      "EarlyStopping counter: 1 out of 150\n"
     ]
    },
    {
     "name": "stderr",
     "output_type": "stream",
     "text": [
      "  9%|▉         | 23/250 [23:32<3:54:21, 61.95s/it]"
     ]
    },
    {
     "name": "stdout",
     "output_type": "stream",
     "text": [
      "Batch [30/391], Loss: 1.1763\n",
      "Batch [60/391], Loss: 0.9341\n",
      "Batch [90/391], Loss: 0.9479\n",
      "Batch [120/391], Loss: 0.9106\n",
      "Batch [150/391], Loss: 1.0848\n",
      "Batch [180/391], Loss: 0.9965\n",
      "Batch [210/391], Loss: 1.2056\n",
      "Batch [240/391], Loss: 1.1529\n",
      "Batch [270/391], Loss: 1.0668\n",
      "Batch [300/391], Loss: 1.0570\n",
      "Batch [330/391], Loss: 0.9800\n",
      "Batch [360/391], Loss: 1.0491\n",
      "Batch [390/391], Loss: 1.0543\n",
      "Train set: Epoch: 24, Average loss:1.0779, LR: 0.100000 Top-1 Accuracy: 0.6832, Top-5 Accuracy: 0.9250, SuperClass Accuracy: 0.7905, Time consumed:47.35s\n",
      "Test set: Epoch: 24, Average loss:0.0123, Top-1 Accuracy: 0.5853, Top-5 Accuracy: 0.8607, SuperClass Accuracy: 0.7141, Time consumed:14.86s\n",
      "\n"
     ]
    },
    {
     "name": "stderr",
     "output_type": "stream",
     "text": [
      " 10%|▉         | 24/250 [24:34<3:53:37, 62.03s/it]"
     ]
    },
    {
     "name": "stdout",
     "output_type": "stream",
     "text": [
      "Batch [30/391], Loss: 1.0740\n",
      "Batch [60/391], Loss: 0.9634\n",
      "Batch [90/391], Loss: 0.9899\n",
      "Batch [120/391], Loss: 1.1130\n",
      "Batch [150/391], Loss: 1.1634\n",
      "Batch [180/391], Loss: 0.8938\n",
      "Batch [210/391], Loss: 1.2118\n",
      "Batch [240/391], Loss: 1.1757\n",
      "Batch [270/391], Loss: 1.4940\n",
      "Batch [300/391], Loss: 1.1739\n",
      "Batch [330/391], Loss: 0.9237\n",
      "Batch [360/391], Loss: 0.9991\n",
      "Batch [390/391], Loss: 1.0158\n",
      "Train set: Epoch: 25, Average loss:1.0676, LR: 0.100000 Top-1 Accuracy: 0.6886, Top-5 Accuracy: 0.9268, SuperClass Accuracy: 0.7946, Time consumed:47.32s\n",
      "Test set: Epoch: 25, Average loss:0.0119, Top-1 Accuracy: 0.5863, Top-5 Accuracy: 0.8689, SuperClass Accuracy: 0.7162, Time consumed:14.82s\n",
      "\n"
     ]
    },
    {
     "name": "stderr",
     "output_type": "stream",
     "text": [
      " 10%|█         | 25/250 [25:36<3:52:44, 62.06s/it]"
     ]
    },
    {
     "name": "stdout",
     "output_type": "stream",
     "text": [
      "Batch [30/391], Loss: 0.8381\n",
      "Batch [60/391], Loss: 0.9062\n",
      "Batch [90/391], Loss: 1.0943\n",
      "Batch [120/391], Loss: 0.9688\n",
      "Batch [150/391], Loss: 0.9824\n",
      "Batch [180/391], Loss: 1.1033\n",
      "Batch [210/391], Loss: 0.9792\n",
      "Batch [240/391], Loss: 1.2010\n",
      "Batch [270/391], Loss: 0.9913\n",
      "Batch [300/391], Loss: 1.0556\n",
      "Batch [330/391], Loss: 0.8541\n",
      "Batch [360/391], Loss: 0.9872\n",
      "Batch [390/391], Loss: 1.0452\n",
      "Train set: Epoch: 26, Average loss:1.0512, LR: 0.100000 Top-1 Accuracy: 0.6929, Top-5 Accuracy: 0.9300, SuperClass Accuracy: 0.7967, Time consumed:47.04s\n",
      "Test set: Epoch: 26, Average loss:0.0119, Top-1 Accuracy: 0.5914, Top-5 Accuracy: 0.8647, SuperClass Accuracy: 0.7142, Time consumed:14.56s\n",
      "\n",
      "saving weights file to runs\\resnet_18_base_50000+nesterov\\savepoints\\Sunday_13_October_2024_15h_09m_35s\\resnet_18_base_50000+nesterov-26-best.pth\n"
     ]
    },
    {
     "name": "stderr",
     "output_type": "stream",
     "text": [
      " 10%|█         | 26/250 [26:38<3:51:15, 61.94s/it]"
     ]
    },
    {
     "name": "stdout",
     "output_type": "stream",
     "text": [
      "Batch [30/391], Loss: 0.9150\n",
      "Batch [60/391], Loss: 0.9874\n",
      "Batch [90/391], Loss: 1.0894\n",
      "Batch [120/391], Loss: 1.0612\n",
      "Batch [150/391], Loss: 1.0223\n",
      "Batch [180/391], Loss: 1.1516\n",
      "Batch [210/391], Loss: 1.0572\n",
      "Batch [240/391], Loss: 1.4364\n",
      "Batch [270/391], Loss: 1.1443\n",
      "Batch [300/391], Loss: 1.0499\n",
      "Batch [330/391], Loss: 1.1379\n",
      "Batch [360/391], Loss: 0.9568\n",
      "Batch [390/391], Loss: 1.1831\n",
      "Train set: Epoch: 27, Average loss:1.0523, LR: 0.100000 Top-1 Accuracy: 0.6920, Top-5 Accuracy: 0.9300, SuperClass Accuracy: 0.7966, Time consumed:47.29s\n",
      "Test set: Epoch: 27, Average loss:0.0117, Top-1 Accuracy: 0.5999, Top-5 Accuracy: 0.8693, SuperClass Accuracy: 0.7236, Time consumed:14.58s\n",
      "\n",
      "saving weights file to runs\\resnet_18_base_50000+nesterov\\savepoints\\Sunday_13_October_2024_15h_09m_35s\\resnet_18_base_50000+nesterov-27-best.pth\n"
     ]
    },
    {
     "name": "stderr",
     "output_type": "stream",
     "text": [
      " 11%|█         | 27/250 [27:39<3:50:13, 61.94s/it]"
     ]
    },
    {
     "name": "stdout",
     "output_type": "stream",
     "text": [
      "Batch [30/391], Loss: 1.0217\n",
      "Batch [60/391], Loss: 1.0346\n",
      "Batch [90/391], Loss: 0.7568\n",
      "Batch [120/391], Loss: 1.0172\n",
      "Batch [150/391], Loss: 1.2608\n",
      "Batch [180/391], Loss: 1.1280\n",
      "Batch [210/391], Loss: 1.0190\n",
      "Batch [240/391], Loss: 0.9307\n",
      "Batch [270/391], Loss: 1.1072\n",
      "Batch [300/391], Loss: 1.3682\n",
      "Batch [330/391], Loss: 1.3983\n",
      "Batch [360/391], Loss: 1.1398\n",
      "Batch [390/391], Loss: 1.1769\n",
      "Train set: Epoch: 28, Average loss:1.0429, LR: 0.100000 Top-1 Accuracy: 0.6940, Top-5 Accuracy: 0.9292, SuperClass Accuracy: 0.7985, Time consumed:47.53s\n",
      "Test set: Epoch: 28, Average loss:0.0130, Top-1 Accuracy: 0.5645, Top-5 Accuracy: 0.8455, SuperClass Accuracy: 0.6948, Time consumed:14.84s\n",
      "\n",
      "EarlyStopping counter: 1 out of 150\n"
     ]
    },
    {
     "name": "stderr",
     "output_type": "stream",
     "text": [
      " 11%|█         | 28/250 [28:42<3:49:40, 62.08s/it]"
     ]
    },
    {
     "name": "stdout",
     "output_type": "stream",
     "text": [
      "Batch [30/391], Loss: 1.0656\n",
      "Batch [60/391], Loss: 0.8746\n",
      "Batch [90/391], Loss: 0.9035\n",
      "Batch [120/391], Loss: 0.9379\n",
      "Batch [150/391], Loss: 0.8385\n",
      "Batch [180/391], Loss: 1.0169\n",
      "Batch [210/391], Loss: 0.9984\n",
      "Batch [240/391], Loss: 0.8135\n",
      "Batch [270/391], Loss: 1.1316\n",
      "Batch [300/391], Loss: 1.1558\n",
      "Batch [330/391], Loss: 0.9000\n",
      "Batch [360/391], Loss: 0.8389\n",
      "Batch [390/391], Loss: 1.1828\n",
      "Train set: Epoch: 29, Average loss:1.0336, LR: 0.100000 Top-1 Accuracy: 0.6966, Top-5 Accuracy: 0.9307, SuperClass Accuracy: 0.8011, Time consumed:47.31s\n",
      "Test set: Epoch: 29, Average loss:0.0136, Top-1 Accuracy: 0.5512, Top-5 Accuracy: 0.8379, SuperClass Accuracy: 0.6829, Time consumed:14.83s\n",
      "\n",
      "EarlyStopping counter: 2 out of 150\n"
     ]
    },
    {
     "name": "stderr",
     "output_type": "stream",
     "text": [
      " 12%|█▏        | 29/250 [29:44<3:48:43, 62.10s/it]"
     ]
    },
    {
     "name": "stdout",
     "output_type": "stream",
     "text": [
      "Batch [30/391], Loss: 1.0433\n",
      "Batch [60/391], Loss: 1.0197\n",
      "Batch [90/391], Loss: 1.0864\n",
      "Batch [120/391], Loss: 1.1603\n",
      "Batch [150/391], Loss: 0.8134\n",
      "Batch [180/391], Loss: 0.9740\n",
      "Batch [210/391], Loss: 1.0538\n",
      "Batch [240/391], Loss: 1.1947\n",
      "Batch [270/391], Loss: 0.8263\n",
      "Batch [300/391], Loss: 0.8323\n",
      "Batch [330/391], Loss: 1.1297\n",
      "Batch [360/391], Loss: 0.8623\n",
      "Batch [390/391], Loss: 1.1605\n",
      "Train set: Epoch: 30, Average loss:1.0378, LR: 0.100000 Top-1 Accuracy: 0.6964, Top-5 Accuracy: 0.9299, SuperClass Accuracy: 0.7982, Time consumed:47.84s\n",
      "Test set: Epoch: 30, Average loss:0.0119, Top-1 Accuracy: 0.5968, Top-5 Accuracy: 0.8676, SuperClass Accuracy: 0.7215, Time consumed:14.92s\n",
      "\n",
      "EarlyStopping counter: 3 out of 150\n"
     ]
    },
    {
     "name": "stderr",
     "output_type": "stream",
     "text": [
      " 12%|█▏        | 30/250 [30:47<3:48:25, 62.30s/it]"
     ]
    },
    {
     "name": "stdout",
     "output_type": "stream",
     "text": [
      "Batch [30/391], Loss: 0.9645\n",
      "Batch [60/391], Loss: 0.8870\n",
      "Batch [90/391], Loss: 0.8236\n",
      "Batch [120/391], Loss: 1.0530\n",
      "Batch [150/391], Loss: 0.8452\n",
      "Batch [180/391], Loss: 0.9615\n",
      "Batch [210/391], Loss: 0.8948\n",
      "Batch [240/391], Loss: 1.0755\n",
      "Batch [270/391], Loss: 1.0408\n",
      "Batch [300/391], Loss: 1.1313\n",
      "Batch [330/391], Loss: 0.9859\n",
      "Batch [360/391], Loss: 1.0791\n",
      "Batch [390/391], Loss: 0.9341\n",
      "Train set: Epoch: 31, Average loss:1.0189, LR: 0.100000 Top-1 Accuracy: 0.6999, Top-5 Accuracy: 0.9338, SuperClass Accuracy: 0.8020, Time consumed:47.83s\n",
      "Test set: Epoch: 31, Average loss:0.0130, Top-1 Accuracy: 0.5752, Top-5 Accuracy: 0.8506, SuperClass Accuracy: 0.7109, Time consumed:15.15s\n",
      "\n",
      "EarlyStopping counter: 4 out of 150\n"
     ]
    },
    {
     "name": "stderr",
     "output_type": "stream",
     "text": [
      " 12%|█▏        | 31/250 [31:50<3:48:08, 62.51s/it]"
     ]
    },
    {
     "name": "stdout",
     "output_type": "stream",
     "text": [
      "Batch [30/391], Loss: 0.8908\n",
      "Batch [60/391], Loss: 1.0472\n",
      "Batch [90/391], Loss: 0.9511\n",
      "Batch [120/391], Loss: 1.0697\n",
      "Batch [150/391], Loss: 0.8522\n",
      "Batch [180/391], Loss: 0.9891\n",
      "Batch [210/391], Loss: 0.7811\n",
      "Batch [240/391], Loss: 1.0935\n",
      "Batch [270/391], Loss: 0.9129\n",
      "Batch [300/391], Loss: 0.9019\n",
      "Batch [330/391], Loss: 1.2540\n",
      "Batch [360/391], Loss: 0.9158\n",
      "Batch [390/391], Loss: 1.3451\n",
      "Train set: Epoch: 32, Average loss:1.0252, LR: 0.100000 Top-1 Accuracy: 0.6979, Top-5 Accuracy: 0.9328, SuperClass Accuracy: 0.8000, Time consumed:48.04s\n",
      "Test set: Epoch: 32, Average loss:0.0128, Top-1 Accuracy: 0.5732, Top-5 Accuracy: 0.8508, SuperClass Accuracy: 0.7042, Time consumed:15.13s\n",
      "\n",
      "EarlyStopping counter: 5 out of 150\n"
     ]
    },
    {
     "name": "stderr",
     "output_type": "stream",
     "text": [
      " 13%|█▎        | 32/250 [32:53<3:47:50, 62.71s/it]"
     ]
    },
    {
     "name": "stdout",
     "output_type": "stream",
     "text": [
      "Batch [30/391], Loss: 0.9543\n",
      "Batch [60/391], Loss: 0.8801\n",
      "Batch [90/391], Loss: 1.0366\n",
      "Batch [120/391], Loss: 1.0952\n",
      "Batch [150/391], Loss: 0.8879\n",
      "Batch [180/391], Loss: 1.0083\n",
      "Batch [210/391], Loss: 1.0112\n",
      "Batch [240/391], Loss: 1.0676\n",
      "Batch [270/391], Loss: 1.1144\n",
      "Batch [300/391], Loss: 0.8988\n",
      "Batch [330/391], Loss: 0.9399\n",
      "Batch [360/391], Loss: 1.1558\n",
      "Batch [390/391], Loss: 1.0480\n",
      "Train set: Epoch: 33, Average loss:1.0261, LR: 0.100000 Top-1 Accuracy: 0.7005, Top-5 Accuracy: 0.9333, SuperClass Accuracy: 0.8034, Time consumed:48.36s\n",
      "Test set: Epoch: 33, Average loss:0.0135, Top-1 Accuracy: 0.5601, Top-5 Accuracy: 0.8520, SuperClass Accuracy: 0.6941, Time consumed:14.83s\n",
      "\n",
      "EarlyStopping counter: 6 out of 150\n"
     ]
    },
    {
     "name": "stderr",
     "output_type": "stream",
     "text": [
      " 13%|█▎        | 33/250 [33:56<3:47:19, 62.86s/it]"
     ]
    },
    {
     "name": "stdout",
     "output_type": "stream",
     "text": [
      "Batch [30/391], Loss: 0.7821\n",
      "Batch [60/391], Loss: 0.7842\n",
      "Batch [90/391], Loss: 0.8809\n",
      "Batch [120/391], Loss: 0.7863\n",
      "Batch [150/391], Loss: 0.9025\n",
      "Batch [180/391], Loss: 0.8463\n",
      "Batch [210/391], Loss: 1.0984\n",
      "Batch [240/391], Loss: 0.8872\n",
      "Batch [270/391], Loss: 1.0968\n",
      "Batch [300/391], Loss: 0.9428\n",
      "Batch [330/391], Loss: 1.0624\n",
      "Batch [360/391], Loss: 0.9859\n",
      "Batch [390/391], Loss: 1.1054\n",
      "Train set: Epoch: 34, Average loss:1.0048, LR: 0.100000 Top-1 Accuracy: 0.7051, Top-5 Accuracy: 0.9350, SuperClass Accuracy: 0.8076, Time consumed:48.20s\n",
      "Test set: Epoch: 34, Average loss:0.0123, Top-1 Accuracy: 0.5917, Top-5 Accuracy: 0.8517, SuperClass Accuracy: 0.7081, Time consumed:15.18s\n",
      "\n",
      "EarlyStopping counter: 7 out of 150\n"
     ]
    },
    {
     "name": "stderr",
     "output_type": "stream",
     "text": [
      " 14%|█▎        | 34/250 [35:00<3:46:52, 63.02s/it]"
     ]
    },
    {
     "name": "stdout",
     "output_type": "stream",
     "text": [
      "Batch [30/391], Loss: 0.8343\n",
      "Batch [60/391], Loss: 0.8339\n",
      "Batch [90/391], Loss: 0.9911\n",
      "Batch [120/391], Loss: 0.7962\n",
      "Batch [150/391], Loss: 1.0295\n",
      "Batch [180/391], Loss: 1.0658\n",
      "Batch [210/391], Loss: 1.0629\n",
      "Batch [240/391], Loss: 1.1974\n",
      "Batch [270/391], Loss: 1.2198\n",
      "Batch [300/391], Loss: 1.0853\n",
      "Batch [330/391], Loss: 0.9028\n",
      "Batch [360/391], Loss: 1.2183\n",
      "Batch [390/391], Loss: 0.8874\n",
      "Train set: Epoch: 35, Average loss:1.0062, LR: 0.100000 Top-1 Accuracy: 0.7035, Top-5 Accuracy: 0.9347, SuperClass Accuracy: 0.8068, Time consumed:48.43s\n",
      "Test set: Epoch: 35, Average loss:0.0123, Top-1 Accuracy: 0.5800, Top-5 Accuracy: 0.8538, SuperClass Accuracy: 0.7109, Time consumed:15.30s\n",
      "\n",
      "EarlyStopping counter: 8 out of 150\n"
     ]
    },
    {
     "name": "stderr",
     "output_type": "stream",
     "text": [
      " 14%|█▍        | 35/250 [36:03<3:46:35, 63.24s/it]"
     ]
    },
    {
     "name": "stdout",
     "output_type": "stream",
     "text": [
      "Batch [30/391], Loss: 1.0409\n",
      "Batch [60/391], Loss: 0.9992\n",
      "Batch [90/391], Loss: 0.8938\n",
      "Batch [120/391], Loss: 1.0554\n",
      "Batch [150/391], Loss: 0.8978\n",
      "Batch [180/391], Loss: 1.1853\n",
      "Batch [210/391], Loss: 0.8945\n",
      "Batch [240/391], Loss: 0.9894\n",
      "Batch [270/391], Loss: 1.0075\n",
      "Batch [300/391], Loss: 1.1260\n",
      "Batch [330/391], Loss: 1.1149\n",
      "Batch [360/391], Loss: 0.9829\n",
      "Batch [390/391], Loss: 1.0101\n",
      "Train set: Epoch: 36, Average loss:1.0002, LR: 0.100000 Top-1 Accuracy: 0.7050, Top-5 Accuracy: 0.9353, SuperClass Accuracy: 0.8066, Time consumed:48.51s\n",
      "Test set: Epoch: 36, Average loss:0.0127, Top-1 Accuracy: 0.5725, Top-5 Accuracy: 0.8563, SuperClass Accuracy: 0.7065, Time consumed:15.04s\n",
      "\n",
      "EarlyStopping counter: 9 out of 150\n"
     ]
    },
    {
     "name": "stderr",
     "output_type": "stream",
     "text": [
      " 14%|█▍        | 36/250 [37:07<3:45:53, 63.33s/it]"
     ]
    },
    {
     "name": "stdout",
     "output_type": "stream",
     "text": [
      "Batch [30/391], Loss: 0.9600\n",
      "Batch [60/391], Loss: 1.1039\n",
      "Batch [90/391], Loss: 0.7753\n",
      "Batch [120/391], Loss: 0.9849\n",
      "Batch [150/391], Loss: 1.0015\n",
      "Batch [180/391], Loss: 0.9462\n",
      "Batch [210/391], Loss: 1.0508\n",
      "Batch [240/391], Loss: 1.0194\n",
      "Batch [270/391], Loss: 1.0296\n",
      "Batch [300/391], Loss: 0.9476\n",
      "Batch [330/391], Loss: 0.9594\n",
      "Batch [360/391], Loss: 1.0284\n",
      "Batch [390/391], Loss: 1.1486\n",
      "Train set: Epoch: 37, Average loss:0.9997, LR: 0.100000 Top-1 Accuracy: 0.7054, Top-5 Accuracy: 0.9364, SuperClass Accuracy: 0.8058, Time consumed:48.39s\n",
      "Test set: Epoch: 37, Average loss:0.0140, Top-1 Accuracy: 0.5621, Top-5 Accuracy: 0.8360, SuperClass Accuracy: 0.6816, Time consumed:15.21s\n",
      "\n",
      "EarlyStopping counter: 10 out of 150\n"
     ]
    },
    {
     "name": "stderr",
     "output_type": "stream",
     "text": [
      " 15%|█▍        | 37/250 [38:10<3:45:07, 63.42s/it]"
     ]
    },
    {
     "name": "stdout",
     "output_type": "stream",
     "text": [
      "Batch [30/391], Loss: 0.8601\n",
      "Batch [60/391], Loss: 0.8276\n",
      "Batch [90/391], Loss: 0.7692\n",
      "Batch [120/391], Loss: 0.8919\n",
      "Batch [150/391], Loss: 1.1837\n",
      "Batch [180/391], Loss: 0.9527\n",
      "Batch [210/391], Loss: 1.2090\n",
      "Batch [240/391], Loss: 1.1652\n",
      "Batch [270/391], Loss: 1.2534\n",
      "Batch [300/391], Loss: 0.8471\n",
      "Batch [330/391], Loss: 1.1542\n",
      "Batch [360/391], Loss: 1.0772\n",
      "Batch [390/391], Loss: 1.1494\n",
      "Train set: Epoch: 38, Average loss:0.9973, LR: 0.100000 Top-1 Accuracy: 0.7061, Top-5 Accuracy: 0.9366, SuperClass Accuracy: 0.8078, Time consumed:48.63s\n",
      "Test set: Epoch: 38, Average loss:0.0148, Top-1 Accuracy: 0.5398, Top-5 Accuracy: 0.8233, SuperClass Accuracy: 0.6573, Time consumed:15.11s\n",
      "\n",
      "EarlyStopping counter: 11 out of 150\n"
     ]
    },
    {
     "name": "stderr",
     "output_type": "stream",
     "text": [
      " 15%|█▌        | 38/250 [39:14<3:44:25, 63.52s/it]"
     ]
    },
    {
     "name": "stdout",
     "output_type": "stream",
     "text": [
      "Batch [30/391], Loss: 0.8593\n",
      "Batch [60/391], Loss: 1.1264\n",
      "Batch [90/391], Loss: 1.1082\n",
      "Batch [120/391], Loss: 1.0273\n",
      "Batch [150/391], Loss: 0.8601\n",
      "Batch [180/391], Loss: 1.1049\n",
      "Batch [210/391], Loss: 0.9564\n",
      "Batch [240/391], Loss: 0.8774\n",
      "Batch [270/391], Loss: 0.9776\n",
      "Batch [300/391], Loss: 0.9227\n",
      "Batch [330/391], Loss: 1.1263\n",
      "Batch [360/391], Loss: 0.8782\n",
      "Batch [390/391], Loss: 1.1285\n",
      "Train set: Epoch: 39, Average loss:0.9950, LR: 0.100000 Top-1 Accuracy: 0.7060, Top-5 Accuracy: 0.9367, SuperClass Accuracy: 0.8074, Time consumed:48.48s\n",
      "Test set: Epoch: 39, Average loss:0.0124, Top-1 Accuracy: 0.5878, Top-5 Accuracy: 0.8571, SuperClass Accuracy: 0.7119, Time consumed:15.30s\n",
      "\n",
      "EarlyStopping counter: 12 out of 150\n"
     ]
    },
    {
     "name": "stderr",
     "output_type": "stream",
     "text": [
      " 16%|█▌        | 39/250 [40:18<3:43:38, 63.60s/it]"
     ]
    },
    {
     "name": "stdout",
     "output_type": "stream",
     "text": [
      "Batch [30/391], Loss: 0.7814\n",
      "Batch [60/391], Loss: 0.6915\n",
      "Batch [90/391], Loss: 1.0721\n",
      "Batch [120/391], Loss: 1.0151\n",
      "Batch [150/391], Loss: 0.9652\n",
      "Batch [180/391], Loss: 1.0168\n",
      "Batch [210/391], Loss: 0.8728\n",
      "Batch [240/391], Loss: 1.0594\n",
      "Batch [270/391], Loss: 1.0439\n",
      "Batch [300/391], Loss: 1.0738\n",
      "Batch [330/391], Loss: 1.1167\n",
      "Batch [360/391], Loss: 0.8961\n",
      "Batch [390/391], Loss: 1.0560\n",
      "Train set: Epoch: 40, Average loss:0.9890, LR: 0.100000 Top-1 Accuracy: 0.7072, Top-5 Accuracy: 0.9374, SuperClass Accuracy: 0.8094, Time consumed:48.64s\n",
      "Test set: Epoch: 40, Average loss:0.0131, Top-1 Accuracy: 0.5712, Top-5 Accuracy: 0.8579, SuperClass Accuracy: 0.6983, Time consumed:15.18s\n",
      "\n",
      "EarlyStopping counter: 13 out of 150\n"
     ]
    },
    {
     "name": "stderr",
     "output_type": "stream",
     "text": [
      " 16%|█▌        | 40/250 [41:22<3:42:49, 63.66s/it]"
     ]
    },
    {
     "name": "stdout",
     "output_type": "stream",
     "text": [
      "Batch [30/391], Loss: 0.7613\n",
      "Batch [60/391], Loss: 0.8174\n",
      "Batch [90/391], Loss: 0.9265\n",
      "Batch [120/391], Loss: 1.1804\n",
      "Batch [150/391], Loss: 0.7917\n",
      "Batch [180/391], Loss: 1.0942\n",
      "Batch [210/391], Loss: 1.1718\n",
      "Batch [240/391], Loss: 1.0770\n",
      "Batch [270/391], Loss: 1.1380\n",
      "Batch [300/391], Loss: 0.9042\n",
      "Batch [330/391], Loss: 1.0691\n",
      "Batch [360/391], Loss: 1.3309\n",
      "Batch [390/391], Loss: 1.1566\n",
      "Train set: Epoch: 41, Average loss:0.9905, LR: 0.100000 Top-1 Accuracy: 0.7079, Top-5 Accuracy: 0.9354, SuperClass Accuracy: 0.8087, Time consumed:48.68s\n",
      "Test set: Epoch: 41, Average loss:0.0110, Top-1 Accuracy: 0.6174, Top-5 Accuracy: 0.8791, SuperClass Accuracy: 0.7422, Time consumed:15.06s\n",
      "\n",
      "saving weights file to runs\\resnet_18_base_50000+nesterov\\savepoints\\Sunday_13_October_2024_15h_09m_35s\\resnet_18_base_50000+nesterov-41-best.pth\n"
     ]
    },
    {
     "name": "stderr",
     "output_type": "stream",
     "text": [
      " 16%|█▋        | 41/250 [42:26<3:41:54, 63.71s/it]"
     ]
    },
    {
     "name": "stdout",
     "output_type": "stream",
     "text": [
      "Batch [30/391], Loss: 1.0280\n",
      "Batch [60/391], Loss: 0.9599\n",
      "Batch [90/391], Loss: 0.9302\n",
      "Batch [120/391], Loss: 1.0363\n",
      "Batch [150/391], Loss: 1.0342\n",
      "Batch [180/391], Loss: 0.9564\n",
      "Batch [210/391], Loss: 0.8985\n",
      "Batch [240/391], Loss: 0.8585\n",
      "Batch [270/391], Loss: 1.1120\n",
      "Batch [300/391], Loss: 0.9154\n",
      "Batch [330/391], Loss: 0.8847\n",
      "Batch [360/391], Loss: 0.8438\n",
      "Batch [390/391], Loss: 1.1325\n",
      "Train set: Epoch: 42, Average loss:0.9837, LR: 0.100000 Top-1 Accuracy: 0.7100, Top-5 Accuracy: 0.9387, SuperClass Accuracy: 0.8120, Time consumed:48.62s\n",
      "Test set: Epoch: 42, Average loss:0.0129, Top-1 Accuracy: 0.5661, Top-5 Accuracy: 0.8424, SuperClass Accuracy: 0.6940, Time consumed:15.35s\n",
      "\n",
      "EarlyStopping counter: 1 out of 150\n"
     ]
    },
    {
     "name": "stderr",
     "output_type": "stream",
     "text": [
      " 17%|█▋        | 42/250 [43:30<3:41:08, 63.79s/it]"
     ]
    },
    {
     "name": "stdout",
     "output_type": "stream",
     "text": [
      "Batch [30/391], Loss: 0.7927\n",
      "Batch [60/391], Loss: 0.8461\n",
      "Batch [90/391], Loss: 0.8614\n",
      "Batch [120/391], Loss: 0.8839\n",
      "Batch [150/391], Loss: 1.0660\n",
      "Batch [180/391], Loss: 0.8518\n",
      "Batch [210/391], Loss: 1.1075\n",
      "Batch [240/391], Loss: 1.0975\n",
      "Batch [270/391], Loss: 1.1152\n",
      "Batch [300/391], Loss: 1.2162\n",
      "Batch [330/391], Loss: 1.1752\n",
      "Batch [360/391], Loss: 1.0507\n",
      "Batch [390/391], Loss: 0.8990\n",
      "Train set: Epoch: 43, Average loss:0.9757, LR: 0.100000 Top-1 Accuracy: 0.7131, Top-5 Accuracy: 0.9389, SuperClass Accuracy: 0.8128, Time consumed:48.80s\n",
      "Test set: Epoch: 43, Average loss:0.0120, Top-1 Accuracy: 0.5975, Top-5 Accuracy: 0.8662, SuperClass Accuracy: 0.7187, Time consumed:15.09s\n",
      "\n",
      "EarlyStopping counter: 2 out of 150\n"
     ]
    },
    {
     "name": "stderr",
     "output_type": "stream",
     "text": [
      " 17%|█▋        | 43/250 [44:33<3:40:11, 63.82s/it]"
     ]
    },
    {
     "name": "stdout",
     "output_type": "stream",
     "text": [
      "Batch [30/391], Loss: 0.6211\n",
      "Batch [60/391], Loss: 1.0588\n",
      "Batch [90/391], Loss: 1.0245\n",
      "Batch [120/391], Loss: 1.1602\n",
      "Batch [150/391], Loss: 0.9140\n",
      "Batch [180/391], Loss: 1.0104\n",
      "Batch [210/391], Loss: 0.8423\n",
      "Batch [240/391], Loss: 0.8716\n",
      "Batch [270/391], Loss: 0.9837\n",
      "Batch [300/391], Loss: 0.9775\n",
      "Batch [330/391], Loss: 1.1504\n",
      "Batch [360/391], Loss: 1.0432\n",
      "Batch [390/391], Loss: 0.8210\n",
      "Train set: Epoch: 44, Average loss:0.9758, LR: 0.100000 Top-1 Accuracy: 0.7122, Top-5 Accuracy: 0.9388, SuperClass Accuracy: 0.8111, Time consumed:48.73s\n",
      "Test set: Epoch: 44, Average loss:0.0140, Top-1 Accuracy: 0.5528, Top-5 Accuracy: 0.8326, SuperClass Accuracy: 0.6774, Time consumed:15.06s\n",
      "\n",
      "EarlyStopping counter: 3 out of 150\n"
     ]
    },
    {
     "name": "stderr",
     "output_type": "stream",
     "text": [
      " 18%|█▊        | 44/250 [45:37<3:39:05, 63.81s/it]"
     ]
    },
    {
     "name": "stdout",
     "output_type": "stream",
     "text": [
      "Batch [30/391], Loss: 0.9685\n",
      "Batch [60/391], Loss: 0.6791\n",
      "Batch [90/391], Loss: 0.8649\n",
      "Batch [120/391], Loss: 0.9398\n",
      "Batch [150/391], Loss: 0.9311\n",
      "Batch [180/391], Loss: 1.0767\n",
      "Batch [210/391], Loss: 0.9133\n",
      "Batch [240/391], Loss: 1.0717\n",
      "Batch [270/391], Loss: 1.0155\n",
      "Batch [300/391], Loss: 1.0062\n",
      "Batch [330/391], Loss: 1.1393\n",
      "Batch [360/391], Loss: 0.8946\n",
      "Batch [390/391], Loss: 1.1803\n",
      "Train set: Epoch: 45, Average loss:0.9753, LR: 0.100000 Top-1 Accuracy: 0.7133, Top-5 Accuracy: 0.9373, SuperClass Accuracy: 0.8119, Time consumed:48.89s\n",
      "Test set: Epoch: 45, Average loss:0.0134, Top-1 Accuracy: 0.5697, Top-5 Accuracy: 0.8371, SuperClass Accuracy: 0.6928, Time consumed:21.54s\n",
      "\n",
      "EarlyStopping counter: 4 out of 150\n"
     ]
    },
    {
     "name": "stderr",
     "output_type": "stream",
     "text": [
      " 18%|█▊        | 45/250 [46:48<3:44:49, 65.80s/it]"
     ]
    },
    {
     "name": "stdout",
     "output_type": "stream",
     "text": [
      "Batch [30/391], Loss: 0.7134\n",
      "Batch [60/391], Loss: 0.9368\n",
      "Batch [90/391], Loss: 1.1356\n",
      "Batch [120/391], Loss: 1.0296\n",
      "Batch [150/391], Loss: 0.8066\n",
      "Batch [180/391], Loss: 0.9835\n",
      "Batch [210/391], Loss: 1.1641\n",
      "Batch [240/391], Loss: 1.0288\n",
      "Batch [270/391], Loss: 1.1935\n",
      "Batch [300/391], Loss: 1.0290\n",
      "Batch [330/391], Loss: 1.0846\n",
      "Batch [360/391], Loss: 1.2166\n",
      "Batch [390/391], Loss: 0.9580\n",
      "Train set: Epoch: 46, Average loss:0.9640, LR: 0.100000 Top-1 Accuracy: 0.7169, Top-5 Accuracy: 0.9402, SuperClass Accuracy: 0.8151, Time consumed:50.38s\n",
      "Test set: Epoch: 46, Average loss:0.0123, Top-1 Accuracy: 0.5936, Top-5 Accuracy: 0.8671, SuperClass Accuracy: 0.7127, Time consumed:15.12s\n",
      "\n",
      "EarlyStopping counter: 5 out of 150\n"
     ]
    },
    {
     "name": "stderr",
     "output_type": "stream",
     "text": [
      " 18%|█▊        | 46/250 [47:53<3:43:25, 65.71s/it]"
     ]
    },
    {
     "name": "stdout",
     "output_type": "stream",
     "text": [
      "Batch [30/391], Loss: 0.9225\n",
      "Batch [60/391], Loss: 0.9005\n",
      "Batch [90/391], Loss: 0.9507\n",
      "Batch [120/391], Loss: 0.8700\n",
      "Batch [150/391], Loss: 0.9159\n",
      "Batch [180/391], Loss: 0.7411\n",
      "Batch [210/391], Loss: 0.8047\n",
      "Batch [240/391], Loss: 1.0867\n",
      "Batch [270/391], Loss: 0.8860\n",
      "Batch [300/391], Loss: 1.0336\n",
      "Batch [330/391], Loss: 1.0311\n",
      "Batch [360/391], Loss: 1.0552\n",
      "Batch [390/391], Loss: 0.9570\n",
      "Train set: Epoch: 47, Average loss:0.9673, LR: 0.100000 Top-1 Accuracy: 0.7139, Top-5 Accuracy: 0.9384, SuperClass Accuracy: 0.8133, Time consumed:48.45s\n",
      "Test set: Epoch: 47, Average loss:0.0125, Top-1 Accuracy: 0.5866, Top-5 Accuracy: 0.8559, SuperClass Accuracy: 0.7123, Time consumed:15.13s\n",
      "\n",
      "EarlyStopping counter: 6 out of 150\n"
     ]
    },
    {
     "name": "stderr",
     "output_type": "stream",
     "text": [
      " 19%|█▉        | 47/250 [48:57<3:40:10, 65.08s/it]"
     ]
    },
    {
     "name": "stdout",
     "output_type": "stream",
     "text": [
      "Batch [30/391], Loss: 0.9626\n",
      "Batch [60/391], Loss: 0.9367\n",
      "Batch [90/391], Loss: 1.1376\n",
      "Batch [120/391], Loss: 0.8120\n",
      "Batch [150/391], Loss: 0.8808\n",
      "Batch [180/391], Loss: 0.9928\n",
      "Batch [210/391], Loss: 1.0456\n",
      "Batch [240/391], Loss: 0.9703\n",
      "Batch [270/391], Loss: 1.1026\n",
      "Batch [300/391], Loss: 1.2126\n",
      "Batch [330/391], Loss: 1.0417\n",
      "Batch [360/391], Loss: 1.1285\n",
      "Batch [390/391], Loss: 1.0456\n",
      "Train set: Epoch: 48, Average loss:0.9652, LR: 0.100000 Top-1 Accuracy: 0.7171, Top-5 Accuracy: 0.9389, SuperClass Accuracy: 0.8151, Time consumed:48.48s\n",
      "Test set: Epoch: 48, Average loss:0.0127, Top-1 Accuracy: 0.5806, Top-5 Accuracy: 0.8534, SuperClass Accuracy: 0.7057, Time consumed:15.27s\n",
      "\n",
      "EarlyStopping counter: 7 out of 150\n"
     ]
    },
    {
     "name": "stderr",
     "output_type": "stream",
     "text": [
      " 19%|█▉        | 48/250 [50:01<3:37:46, 64.68s/it]"
     ]
    },
    {
     "name": "stdout",
     "output_type": "stream",
     "text": [
      "Batch [30/391], Loss: 0.8184\n",
      "Batch [60/391], Loss: 0.8016\n",
      "Batch [90/391], Loss: 1.0058\n",
      "Batch [120/391], Loss: 0.9829\n",
      "Batch [150/391], Loss: 1.1189\n",
      "Batch [180/391], Loss: 0.8522\n",
      "Batch [210/391], Loss: 0.8902\n",
      "Batch [240/391], Loss: 0.9123\n",
      "Batch [270/391], Loss: 0.9366\n",
      "Batch [300/391], Loss: 1.0185\n",
      "Batch [330/391], Loss: 0.9912\n",
      "Batch [360/391], Loss: 1.0589\n",
      "Batch [390/391], Loss: 1.0683\n",
      "Train set: Epoch: 49, Average loss:0.9654, LR: 0.100000 Top-1 Accuracy: 0.7172, Top-5 Accuracy: 0.9398, SuperClass Accuracy: 0.8149, Time consumed:55.63s\n",
      "Test set: Epoch: 49, Average loss:0.0120, Top-1 Accuracy: 0.6003, Top-5 Accuracy: 0.8677, SuperClass Accuracy: 0.7192, Time consumed:14.94s\n",
      "\n",
      "EarlyStopping counter: 8 out of 150\n"
     ]
    },
    {
     "name": "stderr",
     "output_type": "stream",
     "text": [
      " 20%|█▉        | 49/250 [51:11<3:42:37, 66.45s/it]"
     ]
    },
    {
     "name": "stdout",
     "output_type": "stream",
     "text": [
      "Batch [30/391], Loss: 0.8699\n",
      "Batch [60/391], Loss: 0.8524\n",
      "Batch [90/391], Loss: 0.8519\n",
      "Batch [120/391], Loss: 0.9216\n",
      "Batch [150/391], Loss: 0.7635\n",
      "Batch [180/391], Loss: 0.9944\n",
      "Batch [210/391], Loss: 0.8503\n",
      "Batch [240/391], Loss: 1.1458\n",
      "Batch [270/391], Loss: 1.1274\n",
      "Batch [300/391], Loss: 1.0125\n",
      "Batch [330/391], Loss: 0.9020\n",
      "Batch [360/391], Loss: 1.1302\n",
      "Batch [390/391], Loss: 0.8227\n",
      "Train set: Epoch: 50, Average loss:0.9622, LR: 0.100000 Top-1 Accuracy: 0.7167, Top-5 Accuracy: 0.9404, SuperClass Accuracy: 0.8134, Time consumed:48.27s\n",
      "Test set: Epoch: 50, Average loss:0.0117, Top-1 Accuracy: 0.6035, Top-5 Accuracy: 0.8693, SuperClass Accuracy: 0.7240, Time consumed:15.10s\n",
      "\n",
      "EarlyStopping counter: 9 out of 150\n"
     ]
    },
    {
     "name": "stderr",
     "output_type": "stream",
     "text": [
      " 20%|██        | 50/250 [52:15<3:38:25, 65.53s/it]"
     ]
    },
    {
     "name": "stdout",
     "output_type": "stream",
     "text": [
      "Batch [30/391], Loss: 0.8442\n",
      "Batch [60/391], Loss: 1.0185\n",
      "Batch [90/391], Loss: 0.8229\n",
      "Batch [120/391], Loss: 0.7951\n",
      "Batch [150/391], Loss: 1.0262\n",
      "Batch [180/391], Loss: 1.0813\n",
      "Batch [210/391], Loss: 0.9702\n",
      "Batch [240/391], Loss: 0.8184\n",
      "Batch [270/391], Loss: 0.7950\n",
      "Batch [300/391], Loss: 0.8012\n",
      "Batch [330/391], Loss: 1.0260\n",
      "Batch [360/391], Loss: 0.9723\n",
      "Batch [390/391], Loss: 0.7967\n",
      "Train set: Epoch: 51, Average loss:0.9636, LR: 0.100000 Top-1 Accuracy: 0.7168, Top-5 Accuracy: 0.9387, SuperClass Accuracy: 0.8144, Time consumed:48.85s\n",
      "Test set: Epoch: 51, Average loss:0.0130, Top-1 Accuracy: 0.5771, Top-5 Accuracy: 0.8503, SuperClass Accuracy: 0.6957, Time consumed:15.15s\n",
      "\n",
      "EarlyStopping counter: 10 out of 150\n"
     ]
    },
    {
     "name": "stderr",
     "output_type": "stream",
     "text": [
      " 20%|██        | 51/250 [53:19<3:35:49, 65.07s/it]"
     ]
    },
    {
     "name": "stdout",
     "output_type": "stream",
     "text": [
      "Batch [30/391], Loss: 0.8967\n",
      "Batch [60/391], Loss: 0.9316\n",
      "Batch [90/391], Loss: 0.8796\n",
      "Batch [120/391], Loss: 0.7771\n",
      "Batch [150/391], Loss: 1.0781\n",
      "Batch [180/391], Loss: 1.0702\n",
      "Batch [210/391], Loss: 0.9065\n",
      "Batch [240/391], Loss: 1.0359\n",
      "Batch [270/391], Loss: 1.1232\n",
      "Batch [300/391], Loss: 1.1519\n",
      "Batch [330/391], Loss: 0.9668\n",
      "Batch [360/391], Loss: 1.1526\n",
      "Batch [390/391], Loss: 1.0493\n",
      "Train set: Epoch: 52, Average loss:0.9527, LR: 0.100000 Top-1 Accuracy: 0.7184, Top-5 Accuracy: 0.9409, SuperClass Accuracy: 0.8152, Time consumed:49.06s\n",
      "Test set: Epoch: 52, Average loss:0.0128, Top-1 Accuracy: 0.5783, Top-5 Accuracy: 0.8601, SuperClass Accuracy: 0.7052, Time consumed:15.47s\n",
      "\n",
      "EarlyStopping counter: 11 out of 150\n"
     ]
    },
    {
     "name": "stderr",
     "output_type": "stream",
     "text": [
      " 21%|██        | 52/250 [54:23<3:34:12, 64.91s/it]"
     ]
    },
    {
     "name": "stdout",
     "output_type": "stream",
     "text": [
      "Batch [30/391], Loss: 0.8283\n",
      "Batch [60/391], Loss: 0.7428\n",
      "Batch [90/391], Loss: 1.0919\n",
      "Batch [120/391], Loss: 0.9653\n",
      "Batch [150/391], Loss: 1.0344\n",
      "Batch [180/391], Loss: 0.7478\n",
      "Batch [210/391], Loss: 0.9227\n",
      "Batch [240/391], Loss: 0.9417\n",
      "Batch [270/391], Loss: 1.2250\n",
      "Batch [300/391], Loss: 0.9239\n",
      "Batch [330/391], Loss: 1.2484\n",
      "Batch [360/391], Loss: 1.1453\n",
      "Batch [390/391], Loss: 0.8935\n",
      "Train set: Epoch: 53, Average loss:0.9570, LR: 0.100000 Top-1 Accuracy: 0.7166, Top-5 Accuracy: 0.9409, SuperClass Accuracy: 0.8157, Time consumed:48.88s\n",
      "Test set: Epoch: 53, Average loss:0.0138, Top-1 Accuracy: 0.5614, Top-5 Accuracy: 0.8439, SuperClass Accuracy: 0.7014, Time consumed:15.49s\n",
      "\n",
      "EarlyStopping counter: 12 out of 150\n"
     ]
    },
    {
     "name": "stderr",
     "output_type": "stream",
     "text": [
      " 21%|██        | 53/250 [55:27<3:32:36, 64.75s/it]"
     ]
    },
    {
     "name": "stdout",
     "output_type": "stream",
     "text": [
      "Batch [30/391], Loss: 0.9913\n",
      "Batch [60/391], Loss: 0.8507\n",
      "Batch [90/391], Loss: 0.9148\n",
      "Batch [120/391], Loss: 0.7603\n",
      "Batch [150/391], Loss: 0.9149\n",
      "Batch [180/391], Loss: 0.9260\n",
      "Batch [210/391], Loss: 0.9801\n",
      "Batch [240/391], Loss: 0.9493\n",
      "Batch [270/391], Loss: 1.1623\n",
      "Batch [300/391], Loss: 0.8893\n",
      "Batch [330/391], Loss: 0.9559\n",
      "Batch [360/391], Loss: 0.8893\n",
      "Batch [390/391], Loss: 1.0261\n",
      "Train set: Epoch: 54, Average loss:0.9568, LR: 0.100000 Top-1 Accuracy: 0.7172, Top-5 Accuracy: 0.9415, SuperClass Accuracy: 0.8144, Time consumed:48.95s\n",
      "Test set: Epoch: 54, Average loss:0.0124, Top-1 Accuracy: 0.5888, Top-5 Accuracy: 0.8546, SuperClass Accuracy: 0.7027, Time consumed:15.41s\n",
      "\n",
      "EarlyStopping counter: 13 out of 150\n"
     ]
    },
    {
     "name": "stderr",
     "output_type": "stream",
     "text": [
      " 22%|██▏       | 54/250 [56:32<3:31:08, 64.64s/it]"
     ]
    },
    {
     "name": "stdout",
     "output_type": "stream",
     "text": [
      "Batch [30/391], Loss: 0.8212\n",
      "Batch [60/391], Loss: 0.8487\n",
      "Batch [90/391], Loss: 0.7359\n",
      "Batch [120/391], Loss: 0.8824\n",
      "Batch [150/391], Loss: 1.0656\n",
      "Batch [180/391], Loss: 0.9743\n",
      "Batch [210/391], Loss: 1.1859\n",
      "Batch [240/391], Loss: 0.8767\n",
      "Batch [270/391], Loss: 0.8382\n",
      "Batch [300/391], Loss: 1.0618\n",
      "Batch [330/391], Loss: 0.9708\n",
      "Batch [360/391], Loss: 0.9967\n",
      "Batch [390/391], Loss: 1.4973\n",
      "Train set: Epoch: 55, Average loss:0.9444, LR: 0.100000 Top-1 Accuracy: 0.7194, Top-5 Accuracy: 0.9419, SuperClass Accuracy: 0.8177, Time consumed:48.85s\n",
      "Test set: Epoch: 55, Average loss:0.0123, Top-1 Accuracy: 0.6022, Top-5 Accuracy: 0.8682, SuperClass Accuracy: 0.7215, Time consumed:21.57s\n",
      "\n",
      "EarlyStopping counter: 14 out of 150\n"
     ]
    },
    {
     "name": "stderr",
     "output_type": "stream",
     "text": [
      " 22%|██▏       | 55/250 [57:42<3:35:43, 66.38s/it]"
     ]
    },
    {
     "name": "stdout",
     "output_type": "stream",
     "text": [
      "Batch [30/391], Loss: 0.8711\n",
      "Batch [60/391], Loss: 0.7544\n",
      "Batch [90/391], Loss: 0.9230\n",
      "Batch [120/391], Loss: 0.9086\n",
      "Batch [150/391], Loss: 1.1556\n",
      "Batch [180/391], Loss: 1.0146\n",
      "Batch [210/391], Loss: 1.0010\n",
      "Batch [240/391], Loss: 1.0313\n",
      "Batch [270/391], Loss: 0.9728\n",
      "Batch [300/391], Loss: 1.0322\n",
      "Batch [330/391], Loss: 1.0622\n",
      "Batch [360/391], Loss: 1.0638\n",
      "Batch [390/391], Loss: 0.9595\n",
      "Train set: Epoch: 56, Average loss:0.9451, LR: 0.100000 Top-1 Accuracy: 0.7213, Top-5 Accuracy: 0.9416, SuperClass Accuracy: 0.8173, Time consumed:50.22s\n",
      "Test set: Epoch: 56, Average loss:0.0122, Top-1 Accuracy: 0.6008, Top-5 Accuracy: 0.8654, SuperClass Accuracy: 0.7187, Time consumed:14.91s\n",
      "\n",
      "EarlyStopping counter: 15 out of 150\n"
     ]
    },
    {
     "name": "stderr",
     "output_type": "stream",
     "text": [
      " 22%|██▏       | 56/250 [58:47<3:33:24, 66.00s/it]"
     ]
    },
    {
     "name": "stdout",
     "output_type": "stream",
     "text": [
      "Batch [30/391], Loss: 0.9199\n",
      "Batch [60/391], Loss: 1.1281\n",
      "Batch [90/391], Loss: 0.9599\n",
      "Batch [120/391], Loss: 0.8928\n",
      "Batch [150/391], Loss: 0.8542\n",
      "Batch [180/391], Loss: 0.9244\n",
      "Batch [210/391], Loss: 1.0077\n",
      "Batch [240/391], Loss: 0.8862\n",
      "Batch [270/391], Loss: 0.9633\n",
      "Batch [300/391], Loss: 0.9097\n",
      "Batch [330/391], Loss: 0.9789\n",
      "Batch [360/391], Loss: 1.1683\n",
      "Batch [390/391], Loss: 0.9678\n",
      "Train set: Epoch: 57, Average loss:0.9448, LR: 0.100000 Top-1 Accuracy: 0.7216, Top-5 Accuracy: 0.9427, SuperClass Accuracy: 0.8188, Time consumed:48.55s\n",
      "Test set: Epoch: 57, Average loss:0.0125, Top-1 Accuracy: 0.5920, Top-5 Accuracy: 0.8520, SuperClass Accuracy: 0.7197, Time consumed:15.07s\n",
      "\n",
      "EarlyStopping counter: 16 out of 150\n"
     ]
    },
    {
     "name": "stderr",
     "output_type": "stream",
     "text": [
      " 23%|██▎       | 57/250 [59:51<3:30:00, 65.29s/it]"
     ]
    },
    {
     "name": "stdout",
     "output_type": "stream",
     "text": [
      "Batch [30/391], Loss: 1.0146\n",
      "Batch [60/391], Loss: 0.9051\n",
      "Batch [90/391], Loss: 0.9097\n",
      "Batch [120/391], Loss: 0.9866\n",
      "Batch [150/391], Loss: 1.0904\n",
      "Batch [180/391], Loss: 1.0068\n",
      "Batch [210/391], Loss: 1.0301\n",
      "Batch [240/391], Loss: 0.9679\n",
      "Batch [270/391], Loss: 0.7836\n",
      "Batch [300/391], Loss: 0.8569\n",
      "Batch [330/391], Loss: 0.9939\n",
      "Batch [360/391], Loss: 0.8509\n",
      "Batch [390/391], Loss: 0.9296\n",
      "Train set: Epoch: 58, Average loss:0.9411, LR: 0.100000 Top-1 Accuracy: 0.7240, Top-5 Accuracy: 0.9420, SuperClass Accuracy: 0.8203, Time consumed:49.04s\n",
      "Test set: Epoch: 58, Average loss:0.0121, Top-1 Accuracy: 0.5954, Top-5 Accuracy: 0.8553, SuperClass Accuracy: 0.7245, Time consumed:15.49s\n",
      "\n",
      "EarlyStopping counter: 17 out of 150\n"
     ]
    },
    {
     "name": "stderr",
     "output_type": "stream",
     "text": [
      " 23%|██▎       | 58/250 [1:00:56<3:28:11, 65.06s/it]"
     ]
    },
    {
     "name": "stdout",
     "output_type": "stream",
     "text": [
      "Batch [30/391], Loss: 0.9726\n",
      "Batch [60/391], Loss: 0.9323\n",
      "Batch [90/391], Loss: 0.9578\n",
      "Batch [120/391], Loss: 1.0669\n",
      "Batch [150/391], Loss: 0.8731\n",
      "Batch [180/391], Loss: 0.8703\n",
      "Batch [210/391], Loss: 1.0959\n",
      "Batch [240/391], Loss: 1.1076\n",
      "Batch [270/391], Loss: 0.9495\n",
      "Batch [300/391], Loss: 1.0415\n",
      "Batch [330/391], Loss: 1.0202\n",
      "Batch [360/391], Loss: 0.9307\n",
      "Batch [390/391], Loss: 1.1256\n",
      "Train set: Epoch: 59, Average loss:0.9481, LR: 0.100000 Top-1 Accuracy: 0.7211, Top-5 Accuracy: 0.9417, SuperClass Accuracy: 0.8162, Time consumed:48.95s\n",
      "Test set: Epoch: 59, Average loss:0.0142, Top-1 Accuracy: 0.5502, Top-5 Accuracy: 0.8356, SuperClass Accuracy: 0.6672, Time consumed:15.25s\n",
      "\n",
      "EarlyStopping counter: 18 out of 150\n"
     ]
    },
    {
     "name": "stderr",
     "output_type": "stream",
     "text": [
      " 24%|██▎       | 59/250 [1:02:00<3:26:17, 64.81s/it]"
     ]
    },
    {
     "name": "stdout",
     "output_type": "stream",
     "text": [
      "Batch [30/391], Loss: 0.8162\n",
      "Batch [60/391], Loss: 0.9187\n",
      "Batch [90/391], Loss: 0.8752\n",
      "Batch [120/391], Loss: 0.8163\n",
      "Batch [150/391], Loss: 0.9176\n",
      "Batch [180/391], Loss: 0.7793\n",
      "Batch [210/391], Loss: 0.8442\n",
      "Batch [240/391], Loss: 1.0220\n",
      "Batch [270/391], Loss: 0.9139\n",
      "Batch [300/391], Loss: 0.8765\n",
      "Batch [330/391], Loss: 0.9294\n",
      "Batch [360/391], Loss: 0.9510\n",
      "Batch [390/391], Loss: 1.1128\n",
      "Train set: Epoch: 60, Average loss:0.9458, LR: 0.100000 Top-1 Accuracy: 0.7190, Top-5 Accuracy: 0.9422, SuperClass Accuracy: 0.8156, Time consumed:48.79s\n",
      "Test set: Epoch: 60, Average loss:0.0122, Top-1 Accuracy: 0.5932, Top-5 Accuracy: 0.8579, SuperClass Accuracy: 0.7154, Time consumed:21.59s\n",
      "\n",
      "EarlyStopping counter: 19 out of 150\n"
     ]
    },
    {
     "name": "stderr",
     "output_type": "stream",
     "text": [
      " 24%|██▍       | 60/250 [1:03:10<3:30:31, 66.48s/it]"
     ]
    },
    {
     "name": "stdout",
     "output_type": "stream",
     "text": [
      "Batch [30/391], Loss: 0.9813\n",
      "Batch [60/391], Loss: 1.0119\n",
      "Batch [90/391], Loss: 0.7236\n",
      "Batch [120/391], Loss: 1.0664\n",
      "Batch [150/391], Loss: 0.8439\n",
      "Batch [180/391], Loss: 1.0802\n",
      "Batch [210/391], Loss: 0.8885\n",
      "Batch [240/391], Loss: 0.9756\n",
      "Batch [270/391], Loss: 1.1980\n",
      "Batch [300/391], Loss: 1.0246\n",
      "Batch [330/391], Loss: 0.8039\n",
      "Batch [360/391], Loss: 1.1262\n",
      "Batch [390/391], Loss: 1.2188\n",
      "Train set: Epoch: 61, Average loss:0.9470, LR: 0.100000 Top-1 Accuracy: 0.7195, Top-5 Accuracy: 0.9421, SuperClass Accuracy: 0.8163, Time consumed:50.40s\n",
      "Test set: Epoch: 61, Average loss:0.0118, Top-1 Accuracy: 0.5988, Top-5 Accuracy: 0.8693, SuperClass Accuracy: 0.7242, Time consumed:14.95s\n",
      "\n",
      "EarlyStopping counter: 20 out of 150\n"
     ]
    },
    {
     "name": "stderr",
     "output_type": "stream",
     "text": [
      " 24%|██▍       | 61/250 [1:04:16<3:28:21, 66.15s/it]"
     ]
    },
    {
     "name": "stdout",
     "output_type": "stream",
     "text": [
      "Batch [30/391], Loss: 0.7040\n",
      "Batch [60/391], Loss: 0.9540\n",
      "Batch [90/391], Loss: 0.8329\n",
      "Batch [120/391], Loss: 0.9392\n",
      "Batch [150/391], Loss: 0.6908\n",
      "Batch [180/391], Loss: 1.1129\n",
      "Batch [210/391], Loss: 0.8326\n",
      "Batch [240/391], Loss: 0.8594\n",
      "Batch [270/391], Loss: 0.7313\n",
      "Batch [300/391], Loss: 0.9688\n",
      "Batch [330/391], Loss: 1.0026\n",
      "Batch [360/391], Loss: 0.9839\n",
      "Batch [390/391], Loss: 0.8978\n",
      "Train set: Epoch: 62, Average loss:0.9360, LR: 0.100000 Top-1 Accuracy: 0.7225, Top-5 Accuracy: 0.9435, SuperClass Accuracy: 0.8205, Time consumed:48.36s\n",
      "Test set: Epoch: 62, Average loss:0.0141, Top-1 Accuracy: 0.5565, Top-5 Accuracy: 0.8336, SuperClass Accuracy: 0.6821, Time consumed:15.39s\n",
      "\n",
      "EarlyStopping counter: 21 out of 150\n"
     ]
    },
    {
     "name": "stderr",
     "output_type": "stream",
     "text": [
      " 25%|██▍       | 62/250 [1:05:19<3:25:01, 65.43s/it]"
     ]
    },
    {
     "name": "stdout",
     "output_type": "stream",
     "text": [
      "Batch [30/391], Loss: 0.5749\n",
      "Batch [60/391], Loss: 0.8300\n",
      "Batch [90/391], Loss: 0.9444\n",
      "Batch [120/391], Loss: 1.0806\n",
      "Batch [150/391], Loss: 0.8255\n",
      "Batch [180/391], Loss: 0.8822\n",
      "Batch [210/391], Loss: 1.0989\n",
      "Batch [240/391], Loss: 1.1324\n",
      "Batch [270/391], Loss: 0.7838\n",
      "Batch [300/391], Loss: 0.8901\n",
      "Batch [330/391], Loss: 0.8388\n",
      "Batch [360/391], Loss: 1.1699\n",
      "Batch [390/391], Loss: 1.2571\n",
      "Train set: Epoch: 63, Average loss:0.9400, LR: 0.100000 Top-1 Accuracy: 0.7212, Top-5 Accuracy: 0.9419, SuperClass Accuracy: 0.8173, Time consumed:48.81s\n",
      "Test set: Epoch: 63, Average loss:0.0114, Top-1 Accuracy: 0.6132, Top-5 Accuracy: 0.8700, SuperClass Accuracy: 0.7318, Time consumed:15.17s\n",
      "\n",
      "EarlyStopping counter: 22 out of 150\n"
     ]
    },
    {
     "name": "stderr",
     "output_type": "stream",
     "text": [
      " 25%|██▌       | 63/250 [1:06:23<3:22:34, 65.00s/it]"
     ]
    },
    {
     "name": "stdout",
     "output_type": "stream",
     "text": [
      "Batch [30/391], Loss: 0.7526\n",
      "Batch [60/391], Loss: 0.8382\n",
      "Batch [90/391], Loss: 1.0545\n",
      "Batch [120/391], Loss: 1.0131\n",
      "Batch [150/391], Loss: 0.8086\n",
      "Batch [180/391], Loss: 0.9588\n",
      "Batch [210/391], Loss: 0.9626\n",
      "Batch [240/391], Loss: 0.9785\n",
      "Batch [270/391], Loss: 0.9350\n",
      "Batch [300/391], Loss: 1.0086\n",
      "Batch [330/391], Loss: 0.7701\n",
      "Batch [360/391], Loss: 0.9211\n",
      "Batch [390/391], Loss: 0.8172\n",
      "Train set: Epoch: 64, Average loss:0.9387, LR: 0.100000 Top-1 Accuracy: 0.7259, Top-5 Accuracy: 0.9421, SuperClass Accuracy: 0.8197, Time consumed:49.37s\n",
      "Test set: Epoch: 64, Average loss:0.0127, Top-1 Accuracy: 0.5790, Top-5 Accuracy: 0.8558, SuperClass Accuracy: 0.7057, Time consumed:19.03s\n",
      "\n",
      "EarlyStopping counter: 23 out of 150\n"
     ]
    },
    {
     "name": "stderr",
     "output_type": "stream",
     "text": [
      " 26%|██▌       | 64/250 [1:07:32<3:24:40, 66.02s/it]"
     ]
    },
    {
     "name": "stdout",
     "output_type": "stream",
     "text": [
      "Batch [30/391], Loss: 0.8537\n",
      "Batch [60/391], Loss: 0.8584\n",
      "Batch [90/391], Loss: 0.6383\n",
      "Batch [120/391], Loss: 0.9588\n",
      "Batch [150/391], Loss: 0.8902\n",
      "Batch [180/391], Loss: 0.8601\n",
      "Batch [210/391], Loss: 0.7261\n",
      "Batch [240/391], Loss: 1.1329\n",
      "Batch [270/391], Loss: 0.9320\n",
      "Batch [300/391], Loss: 1.2206\n",
      "Batch [330/391], Loss: 1.0517\n",
      "Batch [360/391], Loss: 0.8678\n",
      "Batch [390/391], Loss: 1.0194\n",
      "Train set: Epoch: 65, Average loss:0.9473, LR: 0.100000 Top-1 Accuracy: 0.7175, Top-5 Accuracy: 0.9418, SuperClass Accuracy: 0.8155, Time consumed:52.91s\n",
      "Test set: Epoch: 65, Average loss:0.0113, Top-1 Accuracy: 0.6149, Top-5 Accuracy: 0.8741, SuperClass Accuracy: 0.7426, Time consumed:15.01s\n",
      "\n",
      "EarlyStopping counter: 24 out of 150\n"
     ]
    },
    {
     "name": "stderr",
     "output_type": "stream",
     "text": [
      " 26%|██▌       | 65/250 [1:08:40<3:25:20, 66.59s/it]"
     ]
    },
    {
     "name": "stdout",
     "output_type": "stream",
     "text": [
      "Batch [30/391], Loss: 0.8513\n",
      "Batch [60/391], Loss: 0.8387\n",
      "Batch [90/391], Loss: 0.7767\n",
      "Batch [120/391], Loss: 0.8712\n",
      "Batch [150/391], Loss: 0.8167\n",
      "Batch [180/391], Loss: 1.0126\n",
      "Batch [210/391], Loss: 1.2008\n",
      "Batch [240/391], Loss: 0.8672\n",
      "Batch [270/391], Loss: 0.9827\n",
      "Batch [300/391], Loss: 0.9709\n",
      "Batch [330/391], Loss: 1.0510\n",
      "Batch [360/391], Loss: 0.9386\n",
      "Batch [390/391], Loss: 1.0251\n",
      "Train set: Epoch: 66, Average loss:0.9380, LR: 0.100000 Top-1 Accuracy: 0.7222, Top-5 Accuracy: 0.9422, SuperClass Accuracy: 0.8173, Time consumed:48.71s\n",
      "Test set: Epoch: 66, Average loss:0.0125, Top-1 Accuracy: 0.5938, Top-5 Accuracy: 0.8536, SuperClass Accuracy: 0.7176, Time consumed:15.06s\n",
      "\n",
      "EarlyStopping counter: 25 out of 150\n"
     ]
    },
    {
     "name": "stderr",
     "output_type": "stream",
     "text": [
      " 26%|██▋       | 66/250 [1:09:43<3:21:38, 65.75s/it]"
     ]
    },
    {
     "name": "stdout",
     "output_type": "stream",
     "text": [
      "Batch [30/391], Loss: 0.8287\n",
      "Batch [60/391], Loss: 0.7180\n",
      "Batch [90/391], Loss: 0.9752\n",
      "Batch [120/391], Loss: 0.9168\n",
      "Batch [150/391], Loss: 1.1254\n",
      "Batch [180/391], Loss: 0.7896\n",
      "Batch [210/391], Loss: 0.8905\n",
      "Batch [240/391], Loss: 0.9822\n",
      "Batch [270/391], Loss: 1.1552\n",
      "Batch [300/391], Loss: 0.9036\n",
      "Batch [330/391], Loss: 1.0943\n",
      "Batch [360/391], Loss: 1.0075\n",
      "Batch [390/391], Loss: 1.0837\n",
      "Train set: Epoch: 67, Average loss:0.9383, LR: 0.100000 Top-1 Accuracy: 0.7258, Top-5 Accuracy: 0.9427, SuperClass Accuracy: 0.8173, Time consumed:49.36s\n",
      "Test set: Epoch: 67, Average loss:0.0126, Top-1 Accuracy: 0.5826, Top-5 Accuracy: 0.8548, SuperClass Accuracy: 0.7163, Time consumed:21.63s\n",
      "\n",
      "EarlyStopping counter: 26 out of 150\n"
     ]
    },
    {
     "name": "stderr",
     "output_type": "stream",
     "text": [
      " 27%|██▋       | 67/250 [1:10:54<3:25:20, 67.33s/it]"
     ]
    },
    {
     "name": "stdout",
     "output_type": "stream",
     "text": [
      "Batch [30/391], Loss: 0.8651\n",
      "Batch [60/391], Loss: 0.8739\n",
      "Batch [90/391], Loss: 0.8557\n",
      "Batch [120/391], Loss: 0.9205\n",
      "Batch [150/391], Loss: 0.9751\n",
      "Batch [180/391], Loss: 1.0646\n",
      "Batch [210/391], Loss: 1.2182\n",
      "Batch [240/391], Loss: 0.9426\n",
      "Batch [270/391], Loss: 1.1942\n",
      "Batch [300/391], Loss: 0.9871\n",
      "Batch [330/391], Loss: 0.8995\n",
      "Batch [360/391], Loss: 0.9695\n",
      "Batch [390/391], Loss: 0.9370\n",
      "Train set: Epoch: 68, Average loss:0.9389, LR: 0.100000 Top-1 Accuracy: 0.7224, Top-5 Accuracy: 0.9426, SuperClass Accuracy: 0.8183, Time consumed:50.12s\n",
      "Test set: Epoch: 68, Average loss:0.0105, Top-1 Accuracy: 0.6306, Top-5 Accuracy: 0.8867, SuperClass Accuracy: 0.7484, Time consumed:15.00s\n",
      "\n",
      "saving weights file to runs\\resnet_18_base_50000+nesterov\\savepoints\\Sunday_13_October_2024_15h_09m_35s\\resnet_18_base_50000+nesterov-68-best.pth\n"
     ]
    },
    {
     "name": "stderr",
     "output_type": "stream",
     "text": [
      " 27%|██▋       | 68/250 [1:12:00<3:22:17, 66.69s/it]"
     ]
    },
    {
     "name": "stdout",
     "output_type": "stream",
     "text": [
      "Batch [30/391], Loss: 0.8672\n",
      "Batch [60/391], Loss: 0.8100\n",
      "Batch [90/391], Loss: 0.8883\n",
      "Batch [120/391], Loss: 1.0862\n",
      "Batch [150/391], Loss: 0.9733\n",
      "Batch [180/391], Loss: 1.1658\n",
      "Batch [210/391], Loss: 0.8731\n",
      "Batch [240/391], Loss: 0.8903\n",
      "Batch [270/391], Loss: 1.0063\n",
      "Batch [300/391], Loss: 1.2330\n",
      "Batch [330/391], Loss: 0.9943\n",
      "Batch [360/391], Loss: 1.0567\n",
      "Batch [390/391], Loss: 1.2994\n",
      "Train set: Epoch: 69, Average loss:0.9313, LR: 0.100000 Top-1 Accuracy: 0.7267, Top-5 Accuracy: 0.9436, SuperClass Accuracy: 0.8207, Time consumed:48.46s\n",
      "Test set: Epoch: 69, Average loss:0.0121, Top-1 Accuracy: 0.5967, Top-5 Accuracy: 0.8642, SuperClass Accuracy: 0.7181, Time consumed:15.25s\n",
      "\n",
      "EarlyStopping counter: 1 out of 150\n"
     ]
    },
    {
     "name": "stderr",
     "output_type": "stream",
     "text": [
      " 28%|██▊       | 69/250 [1:13:03<3:18:29, 65.80s/it]"
     ]
    },
    {
     "name": "stdout",
     "output_type": "stream",
     "text": [
      "Batch [30/391], Loss: 0.7678\n",
      "Batch [60/391], Loss: 0.6056\n",
      "Batch [90/391], Loss: 0.9585\n",
      "Batch [120/391], Loss: 0.8752\n",
      "Batch [150/391], Loss: 0.7145\n",
      "Batch [180/391], Loss: 0.8962\n",
      "Batch [210/391], Loss: 0.9590\n",
      "Batch [240/391], Loss: 1.0430\n",
      "Batch [270/391], Loss: 0.9452\n",
      "Batch [300/391], Loss: 0.9390\n",
      "Batch [330/391], Loss: 0.8855\n",
      "Batch [360/391], Loss: 0.9812\n",
      "Batch [390/391], Loss: 1.0377\n",
      "Train set: Epoch: 70, Average loss:0.9334, LR: 0.100000 Top-1 Accuracy: 0.7232, Top-5 Accuracy: 0.9433, SuperClass Accuracy: 0.8192, Time consumed:49.08s\n",
      "Test set: Epoch: 70, Average loss:0.0132, Top-1 Accuracy: 0.5679, Top-5 Accuracy: 0.8461, SuperClass Accuracy: 0.6932, Time consumed:15.29s\n",
      "\n",
      "EarlyStopping counter: 2 out of 150\n"
     ]
    },
    {
     "name": "stderr",
     "output_type": "stream",
     "text": [
      " 28%|██▊       | 70/250 [1:14:08<3:16:06, 65.37s/it]"
     ]
    },
    {
     "name": "stdout",
     "output_type": "stream",
     "text": [
      "Batch [30/391], Loss: 0.7608\n",
      "Batch [60/391], Loss: 0.7765\n",
      "Batch [90/391], Loss: 0.9270\n",
      "Batch [120/391], Loss: 0.7450\n",
      "Batch [150/391], Loss: 0.8952\n",
      "Batch [180/391], Loss: 1.0352\n",
      "Batch [210/391], Loss: 0.7600\n",
      "Batch [240/391], Loss: 0.9278\n",
      "Batch [270/391], Loss: 1.1801\n",
      "Batch [300/391], Loss: 0.9322\n",
      "Batch [330/391], Loss: 1.0515\n",
      "Batch [360/391], Loss: 1.0838\n",
      "Batch [390/391], Loss: 1.0336\n",
      "Train set: Epoch: 71, Average loss:0.9301, LR: 0.100000 Top-1 Accuracy: 0.7253, Top-5 Accuracy: 0.9432, SuperClass Accuracy: 0.8210, Time consumed:48.98s\n",
      "Test set: Epoch: 71, Average loss:0.0122, Top-1 Accuracy: 0.5978, Top-5 Accuracy: 0.8731, SuperClass Accuracy: 0.7314, Time consumed:21.63s\n",
      "\n",
      "EarlyStopping counter: 3 out of 150\n"
     ]
    },
    {
     "name": "stderr",
     "output_type": "stream",
     "text": [
      " 28%|██▊       | 71/250 [1:15:18<3:19:43, 66.95s/it]"
     ]
    },
    {
     "name": "stdout",
     "output_type": "stream",
     "text": [
      "Batch [30/391], Loss: 0.9141\n",
      "Batch [60/391], Loss: 1.0072\n",
      "Batch [90/391], Loss: 0.9365\n",
      "Batch [120/391], Loss: 0.9457\n",
      "Batch [150/391], Loss: 0.9498\n",
      "Batch [180/391], Loss: 0.9143\n",
      "Batch [210/391], Loss: 1.0905\n",
      "Batch [240/391], Loss: 0.7809\n",
      "Batch [270/391], Loss: 0.6862\n",
      "Batch [300/391], Loss: 1.0526\n",
      "Batch [330/391], Loss: 0.8766\n",
      "Batch [360/391], Loss: 1.0220\n",
      "Batch [390/391], Loss: 0.8494\n",
      "Train set: Epoch: 72, Average loss:0.9272, LR: 0.100000 Top-1 Accuracy: 0.7238, Top-5 Accuracy: 0.9442, SuperClass Accuracy: 0.8199, Time consumed:49.59s\n",
      "Test set: Epoch: 72, Average loss:0.0141, Top-1 Accuracy: 0.5642, Top-5 Accuracy: 0.8418, SuperClass Accuracy: 0.6864, Time consumed:14.94s\n",
      "\n",
      "EarlyStopping counter: 4 out of 150\n"
     ]
    },
    {
     "name": "stderr",
     "output_type": "stream",
     "text": [
      " 29%|██▉       | 72/250 [1:16:23<3:16:28, 66.23s/it]"
     ]
    },
    {
     "name": "stdout",
     "output_type": "stream",
     "text": [
      "Batch [30/391], Loss: 0.5971\n",
      "Batch [60/391], Loss: 0.9075\n",
      "Batch [90/391], Loss: 0.8127\n",
      "Batch [120/391], Loss: 0.8364\n",
      "Batch [150/391], Loss: 0.8683\n",
      "Batch [180/391], Loss: 1.0266\n",
      "Batch [210/391], Loss: 0.7778\n",
      "Batch [240/391], Loss: 0.7957\n",
      "Batch [270/391], Loss: 0.8850\n",
      "Batch [300/391], Loss: 1.0193\n",
      "Batch [330/391], Loss: 0.8867\n",
      "Batch [360/391], Loss: 1.0612\n",
      "Batch [390/391], Loss: 0.9396\n",
      "Train set: Epoch: 73, Average loss:0.9296, LR: 0.100000 Top-1 Accuracy: 0.7233, Top-5 Accuracy: 0.9436, SuperClass Accuracy: 0.8178, Time consumed:48.43s\n",
      "Test set: Epoch: 73, Average loss:0.0113, Top-1 Accuracy: 0.6186, Top-5 Accuracy: 0.8770, SuperClass Accuracy: 0.7396, Time consumed:15.16s\n",
      "\n",
      "EarlyStopping counter: 5 out of 150\n"
     ]
    },
    {
     "name": "stderr",
     "output_type": "stream",
     "text": [
      " 29%|██▉       | 73/250 [1:17:26<3:13:02, 65.44s/it]"
     ]
    },
    {
     "name": "stdout",
     "output_type": "stream",
     "text": [
      "Batch [30/391], Loss: 1.0075\n",
      "Batch [60/391], Loss: 0.8565\n",
      "Batch [90/391], Loss: 0.8124\n",
      "Batch [120/391], Loss: 0.8872\n",
      "Batch [150/391], Loss: 0.9192\n",
      "Batch [180/391], Loss: 0.8199\n",
      "Batch [210/391], Loss: 0.7111\n",
      "Batch [240/391], Loss: 1.1775\n",
      "Batch [270/391], Loss: 1.1471\n",
      "Batch [300/391], Loss: 1.0320\n",
      "Batch [330/391], Loss: 0.8743\n",
      "Batch [360/391], Loss: 1.1504\n",
      "Batch [390/391], Loss: 0.7675\n",
      "Train set: Epoch: 74, Average loss:0.9233, LR: 0.100000 Top-1 Accuracy: 0.7266, Top-5 Accuracy: 0.9455, SuperClass Accuracy: 0.8201, Time consumed:49.58s\n",
      "Test set: Epoch: 74, Average loss:0.0127, Top-1 Accuracy: 0.5823, Top-5 Accuracy: 0.8592, SuperClass Accuracy: 0.7032, Time consumed:21.61s\n",
      "\n",
      "EarlyStopping counter: 6 out of 150\n"
     ]
    },
    {
     "name": "stderr",
     "output_type": "stream",
     "text": [
      " 30%|██▉       | 74/250 [1:18:38<3:17:01, 67.16s/it]"
     ]
    },
    {
     "name": "stdout",
     "output_type": "stream",
     "text": [
      "Batch [30/391], Loss: 0.8532\n",
      "Batch [60/391], Loss: 0.7497\n",
      "Batch [90/391], Loss: 0.9513\n",
      "Batch [120/391], Loss: 1.1949\n",
      "Batch [150/391], Loss: 1.0292\n",
      "Batch [180/391], Loss: 1.2287\n",
      "Batch [210/391], Loss: 0.8167\n",
      "Batch [240/391], Loss: 1.0521\n",
      "Batch [270/391], Loss: 1.0221\n",
      "Batch [300/391], Loss: 0.9015\n",
      "Batch [330/391], Loss: 0.9848\n",
      "Batch [360/391], Loss: 1.0982\n",
      "Batch [390/391], Loss: 0.7675\n",
      "Train set: Epoch: 75, Average loss:0.9328, LR: 0.100000 Top-1 Accuracy: 0.7250, Top-5 Accuracy: 0.9427, SuperClass Accuracy: 0.8221, Time consumed:50.55s\n",
      "Test set: Epoch: 75, Average loss:0.0130, Top-1 Accuracy: 0.5720, Top-5 Accuracy: 0.8470, SuperClass Accuracy: 0.6901, Time consumed:14.96s\n",
      "\n",
      "EarlyStopping counter: 7 out of 150\n"
     ]
    },
    {
     "name": "stderr",
     "output_type": "stream",
     "text": [
      " 30%|███       | 75/250 [1:19:43<3:14:27, 66.67s/it]"
     ]
    },
    {
     "name": "stdout",
     "output_type": "stream",
     "text": [
      "Batch [30/391], Loss: 0.8680\n",
      "Batch [60/391], Loss: 0.8074\n",
      "Batch [90/391], Loss: 0.8018\n",
      "Batch [120/391], Loss: 0.8764\n",
      "Batch [150/391], Loss: 0.7891\n",
      "Batch [180/391], Loss: 0.9865\n",
      "Batch [210/391], Loss: 0.8892\n",
      "Batch [240/391], Loss: 1.0066\n",
      "Batch [270/391], Loss: 1.1346\n",
      "Batch [300/391], Loss: 0.9599\n",
      "Batch [330/391], Loss: 1.0722\n",
      "Batch [360/391], Loss: 1.0303\n",
      "Batch [390/391], Loss: 0.9030\n",
      "Train set: Epoch: 76, Average loss:0.9235, LR: 0.100000 Top-1 Accuracy: 0.7273, Top-5 Accuracy: 0.9439, SuperClass Accuracy: 0.8212, Time consumed:48.75s\n",
      "Test set: Epoch: 76, Average loss:0.0119, Top-1 Accuracy: 0.6071, Top-5 Accuracy: 0.8692, SuperClass Accuracy: 0.7236, Time consumed:15.01s\n",
      "\n",
      "EarlyStopping counter: 8 out of 150\n"
     ]
    },
    {
     "name": "stderr",
     "output_type": "stream",
     "text": [
      " 30%|███       | 76/250 [1:20:47<3:10:49, 65.80s/it]"
     ]
    },
    {
     "name": "stdout",
     "output_type": "stream",
     "text": [
      "Batch [30/391], Loss: 0.7782\n",
      "Batch [60/391], Loss: 0.7750\n",
      "Batch [90/391], Loss: 0.7628\n",
      "Batch [120/391], Loss: 0.8418\n",
      "Batch [150/391], Loss: 0.9736\n",
      "Batch [180/391], Loss: 0.8002\n",
      "Batch [210/391], Loss: 1.0251\n",
      "Batch [240/391], Loss: 0.9693\n",
      "Batch [270/391], Loss: 1.0143\n",
      "Batch [300/391], Loss: 1.0351\n",
      "Batch [330/391], Loss: 0.8062\n",
      "Batch [360/391], Loss: 1.0136\n",
      "Batch [390/391], Loss: 0.8549\n",
      "Train set: Epoch: 77, Average loss:0.9247, LR: 0.100000 Top-1 Accuracy: 0.7260, Top-5 Accuracy: 0.9437, SuperClass Accuracy: 0.8216, Time consumed:49.00s\n",
      "Test set: Epoch: 77, Average loss:0.0118, Top-1 Accuracy: 0.6088, Top-5 Accuracy: 0.8683, SuperClass Accuracy: 0.7269, Time consumed:21.44s\n",
      "\n",
      "EarlyStopping counter: 9 out of 150\n"
     ]
    },
    {
     "name": "stderr",
     "output_type": "stream",
     "text": [
      " 31%|███       | 77/250 [1:21:57<3:13:44, 67.20s/it]"
     ]
    },
    {
     "name": "stdout",
     "output_type": "stream",
     "text": [
      "Batch [30/391], Loss: 0.7388\n",
      "Batch [60/391], Loss: 1.0462\n",
      "Batch [90/391], Loss: 1.0275\n",
      "Batch [120/391], Loss: 0.8308\n",
      "Batch [150/391], Loss: 1.1174\n",
      "Batch [180/391], Loss: 0.8298\n",
      "Batch [210/391], Loss: 1.0513\n",
      "Batch [240/391], Loss: 0.9041\n",
      "Batch [270/391], Loss: 1.2093\n",
      "Batch [300/391], Loss: 1.1806\n",
      "Batch [330/391], Loss: 0.8915\n",
      "Batch [360/391], Loss: 0.9677\n",
      "Batch [390/391], Loss: 0.8441\n",
      "Train set: Epoch: 78, Average loss:0.9272, LR: 0.100000 Top-1 Accuracy: 0.7252, Top-5 Accuracy: 0.9449, SuperClass Accuracy: 0.8201, Time consumed:50.50s\n",
      "Test set: Epoch: 78, Average loss:0.0119, Top-1 Accuracy: 0.5964, Top-5 Accuracy: 0.8702, SuperClass Accuracy: 0.7214, Time consumed:14.82s\n",
      "\n",
      "EarlyStopping counter: 10 out of 150\n"
     ]
    },
    {
     "name": "stderr",
     "output_type": "stream",
     "text": [
      " 31%|███       | 78/250 [1:23:03<3:11:01, 66.64s/it]"
     ]
    },
    {
     "name": "stdout",
     "output_type": "stream",
     "text": [
      "Batch [30/391], Loss: 0.8517\n",
      "Batch [60/391], Loss: 0.8667\n",
      "Batch [90/391], Loss: 0.7732\n",
      "Batch [120/391], Loss: 1.0538\n",
      "Batch [150/391], Loss: 0.9010\n",
      "Batch [180/391], Loss: 0.7988\n",
      "Batch [210/391], Loss: 0.9276\n",
      "Batch [240/391], Loss: 0.9589\n",
      "Batch [270/391], Loss: 0.7307\n",
      "Batch [300/391], Loss: 1.0179\n",
      "Batch [330/391], Loss: 0.8601\n",
      "Batch [360/391], Loss: 0.9707\n",
      "Batch [390/391], Loss: 1.0378\n",
      "Train set: Epoch: 79, Average loss:0.9123, LR: 0.100000 Top-1 Accuracy: 0.7277, Top-5 Accuracy: 0.9469, SuperClass Accuracy: 0.8240, Time consumed:48.29s\n",
      "Test set: Epoch: 79, Average loss:0.0123, Top-1 Accuracy: 0.5896, Top-5 Accuracy: 0.8639, SuperClass Accuracy: 0.7229, Time consumed:15.09s\n",
      "\n",
      "EarlyStopping counter: 11 out of 150\n"
     ]
    },
    {
     "name": "stderr",
     "output_type": "stream",
     "text": [
      " 32%|███▏      | 79/250 [1:24:06<3:07:08, 65.66s/it]"
     ]
    },
    {
     "name": "stdout",
     "output_type": "stream",
     "text": [
      "Batch [30/391], Loss: 0.8819\n",
      "Batch [60/391], Loss: 1.0059\n",
      "Batch [90/391], Loss: 0.7328\n",
      "Batch [120/391], Loss: 0.9983\n",
      "Batch [150/391], Loss: 0.7482\n",
      "Batch [180/391], Loss: 1.0845\n",
      "Batch [210/391], Loss: 0.9031\n",
      "Batch [240/391], Loss: 0.9850\n",
      "Batch [270/391], Loss: 0.8592\n",
      "Batch [300/391], Loss: 0.9872\n",
      "Batch [330/391], Loss: 0.9191\n",
      "Batch [360/391], Loss: 1.0338\n",
      "Batch [390/391], Loss: 1.1259\n",
      "Train set: Epoch: 80, Average loss:0.9174, LR: 0.100000 Top-1 Accuracy: 0.7273, Top-5 Accuracy: 0.9459, SuperClass Accuracy: 0.8224, Time consumed:48.76s\n",
      "Test set: Epoch: 80, Average loss:0.0123, Top-1 Accuracy: 0.5976, Top-5 Accuracy: 0.8713, SuperClass Accuracy: 0.7254, Time consumed:15.19s\n",
      "\n",
      "EarlyStopping counter: 12 out of 150\n"
     ]
    },
    {
     "name": "stderr",
     "output_type": "stream",
     "text": [
      " 32%|███▏      | 80/250 [1:25:10<3:04:35, 65.15s/it]"
     ]
    },
    {
     "name": "stdout",
     "output_type": "stream",
     "text": [
      "Batch [30/391], Loss: 0.9547\n",
      "Batch [60/391], Loss: 0.8675\n",
      "Batch [90/391], Loss: 0.7765\n",
      "Batch [120/391], Loss: 0.9326\n",
      "Batch [150/391], Loss: 0.8164\n",
      "Batch [180/391], Loss: 1.0145\n",
      "Batch [210/391], Loss: 0.8776\n",
      "Batch [240/391], Loss: 0.8926\n",
      "Batch [270/391], Loss: 1.0799\n",
      "Batch [300/391], Loss: 1.1872\n",
      "Batch [330/391], Loss: 1.0523\n",
      "Batch [360/391], Loss: 1.0221\n",
      "Batch [390/391], Loss: 1.0322\n",
      "Train set: Epoch: 81, Average loss:0.9289, LR: 0.100000 Top-1 Accuracy: 0.7237, Top-5 Accuracy: 0.9455, SuperClass Accuracy: 0.8178, Time consumed:48.82s\n",
      "Test set: Epoch: 81, Average loss:0.0110, Top-1 Accuracy: 0.6250, Top-5 Accuracy: 0.8856, SuperClass Accuracy: 0.7485, Time consumed:21.62s\n",
      "\n",
      "EarlyStopping counter: 13 out of 150\n"
     ]
    },
    {
     "name": "stderr",
     "output_type": "stream",
     "text": [
      " 32%|███▏      | 81/250 [1:26:21<3:07:59, 66.74s/it]"
     ]
    },
    {
     "name": "stdout",
     "output_type": "stream",
     "text": [
      "Batch [30/391], Loss: 0.8425\n",
      "Batch [60/391], Loss: 0.9903\n",
      "Batch [90/391], Loss: 0.8052\n",
      "Batch [120/391], Loss: 0.8961\n",
      "Batch [150/391], Loss: 1.0635\n",
      "Batch [180/391], Loss: 0.9776\n",
      "Batch [210/391], Loss: 1.0449\n",
      "Batch [240/391], Loss: 0.9024\n",
      "Batch [270/391], Loss: 0.8842\n",
      "Batch [300/391], Loss: 0.8376\n",
      "Batch [330/391], Loss: 1.0059\n",
      "Batch [360/391], Loss: 0.8635\n",
      "Batch [390/391], Loss: 0.9231\n",
      "Train set: Epoch: 82, Average loss:0.9138, LR: 0.100000 Top-1 Accuracy: 0.7315, Top-5 Accuracy: 0.9447, SuperClass Accuracy: 0.8239, Time consumed:50.16s\n",
      "Test set: Epoch: 82, Average loss:0.0122, Top-1 Accuracy: 0.6040, Top-5 Accuracy: 0.8738, SuperClass Accuracy: 0.7300, Time consumed:14.53s\n",
      "\n",
      "EarlyStopping counter: 14 out of 150\n"
     ]
    },
    {
     "name": "stderr",
     "output_type": "stream",
     "text": [
      " 33%|███▎      | 82/250 [1:27:25<3:05:09, 66.13s/it]"
     ]
    },
    {
     "name": "stdout",
     "output_type": "stream",
     "text": [
      "Batch [30/391], Loss: 0.8664\n",
      "Batch [60/391], Loss: 0.9651\n",
      "Batch [90/391], Loss: 1.2321\n",
      "Batch [120/391], Loss: 0.6436\n",
      "Batch [150/391], Loss: 1.1050\n",
      "Batch [180/391], Loss: 1.0408\n",
      "Batch [210/391], Loss: 1.1426\n",
      "Batch [240/391], Loss: 0.8530\n",
      "Batch [270/391], Loss: 1.0408\n",
      "Batch [300/391], Loss: 0.8907\n",
      "Batch [330/391], Loss: 1.2962\n",
      "Batch [360/391], Loss: 1.0990\n",
      "Batch [390/391], Loss: 0.8534\n",
      "Train set: Epoch: 83, Average loss:0.9246, LR: 0.100000 Top-1 Accuracy: 0.7275, Top-5 Accuracy: 0.9447, SuperClass Accuracy: 0.8202, Time consumed:48.25s\n",
      "Test set: Epoch: 83, Average loss:0.0132, Top-1 Accuracy: 0.5822, Top-5 Accuracy: 0.8441, SuperClass Accuracy: 0.7056, Time consumed:15.11s\n",
      "\n",
      "EarlyStopping counter: 15 out of 150\n"
     ]
    },
    {
     "name": "stderr",
     "output_type": "stream",
     "text": [
      " 33%|███▎      | 83/250 [1:28:29<3:01:45, 65.30s/it]"
     ]
    },
    {
     "name": "stdout",
     "output_type": "stream",
     "text": [
      "Batch [30/391], Loss: 0.9272\n",
      "Batch [60/391], Loss: 0.7059\n",
      "Batch [90/391], Loss: 0.8711\n",
      "Batch [120/391], Loss: 1.0155\n",
      "Batch [150/391], Loss: 0.9664\n",
      "Batch [180/391], Loss: 0.8596\n",
      "Batch [210/391], Loss: 0.9068\n",
      "Batch [240/391], Loss: 0.9113\n",
      "Batch [270/391], Loss: 0.9096\n",
      "Batch [300/391], Loss: 0.8905\n",
      "Batch [330/391], Loss: 0.9584\n",
      "Batch [360/391], Loss: 0.7898\n",
      "Batch [390/391], Loss: 1.0908\n",
      "Train set: Epoch: 84, Average loss:0.9111, LR: 0.100000 Top-1 Accuracy: 0.7296, Top-5 Accuracy: 0.9463, SuperClass Accuracy: 0.8240, Time consumed:48.53s\n",
      "Test set: Epoch: 84, Average loss:0.0131, Top-1 Accuracy: 0.5728, Top-5 Accuracy: 0.8450, SuperClass Accuracy: 0.6959, Time consumed:15.26s\n",
      "\n",
      "EarlyStopping counter: 16 out of 150\n"
     ]
    },
    {
     "name": "stderr",
     "output_type": "stream",
     "text": [
      " 34%|███▎      | 84/250 [1:29:32<2:59:25, 64.85s/it]"
     ]
    },
    {
     "name": "stdout",
     "output_type": "stream",
     "text": [
      "Batch [30/391], Loss: 0.9609\n",
      "Batch [60/391], Loss: 0.7626\n",
      "Batch [90/391], Loss: 0.8300\n",
      "Batch [120/391], Loss: 0.7885\n",
      "Batch [150/391], Loss: 0.9665\n",
      "Batch [180/391], Loss: 0.8655\n",
      "Batch [210/391], Loss: 0.9107\n",
      "Batch [240/391], Loss: 0.8748\n",
      "Batch [270/391], Loss: 1.1285\n",
      "Batch [300/391], Loss: 0.7461\n",
      "Batch [330/391], Loss: 0.8203\n",
      "Batch [360/391], Loss: 1.1321\n",
      "Batch [390/391], Loss: 1.1609\n",
      "Train set: Epoch: 85, Average loss:0.9085, LR: 0.100000 Top-1 Accuracy: 0.7325, Top-5 Accuracy: 0.9451, SuperClass Accuracy: 0.8264, Time consumed:48.99s\n",
      "Test set: Epoch: 85, Average loss:0.0130, Top-1 Accuracy: 0.5810, Top-5 Accuracy: 0.8503, SuperClass Accuracy: 0.6993, Time consumed:18.41s\n",
      "\n",
      "EarlyStopping counter: 17 out of 150\n"
     ]
    },
    {
     "name": "stderr",
     "output_type": "stream",
     "text": [
      " 34%|███▍      | 85/250 [1:30:40<3:00:26, 65.62s/it]"
     ]
    },
    {
     "name": "stdout",
     "output_type": "stream",
     "text": [
      "Batch [30/391], Loss: 0.7000\n",
      "Batch [60/391], Loss: 0.6528\n",
      "Batch [90/391], Loss: 0.9449\n",
      "Batch [120/391], Loss: 0.9393\n",
      "Batch [150/391], Loss: 0.8466\n",
      "Batch [180/391], Loss: 0.8600\n",
      "Batch [210/391], Loss: 0.7328\n",
      "Batch [240/391], Loss: 0.6391\n",
      "Batch [270/391], Loss: 1.1251\n",
      "Batch [300/391], Loss: 0.8737\n",
      "Batch [330/391], Loss: 0.7594\n",
      "Batch [360/391], Loss: 0.8432\n",
      "Batch [390/391], Loss: 1.0218\n",
      "Train set: Epoch: 86, Average loss:0.9188, LR: 0.100000 Top-1 Accuracy: 0.7279, Top-5 Accuracy: 0.9442, SuperClass Accuracy: 0.8209, Time consumed:53.12s\n",
      "Test set: Epoch: 86, Average loss:0.0124, Top-1 Accuracy: 0.5944, Top-5 Accuracy: 0.8713, SuperClass Accuracy: 0.7244, Time consumed:15.24s\n",
      "\n",
      "EarlyStopping counter: 18 out of 150\n"
     ]
    },
    {
     "name": "stderr",
     "output_type": "stream",
     "text": [
      " 34%|███▍      | 86/250 [1:31:48<3:01:36, 66.44s/it]"
     ]
    },
    {
     "name": "stdout",
     "output_type": "stream",
     "text": [
      "Batch [30/391], Loss: 0.6126\n",
      "Batch [60/391], Loss: 0.8993\n",
      "Batch [90/391], Loss: 0.7872\n",
      "Batch [120/391], Loss: 1.0190\n",
      "Batch [150/391], Loss: 0.7992\n",
      "Batch [180/391], Loss: 0.8923\n",
      "Batch [210/391], Loss: 0.8869\n",
      "Batch [240/391], Loss: 0.8662\n",
      "Batch [270/391], Loss: 0.7741\n",
      "Batch [300/391], Loss: 0.9972\n",
      "Batch [330/391], Loss: 0.8689\n",
      "Batch [360/391], Loss: 0.9106\n",
      "Batch [390/391], Loss: 1.0675\n",
      "Train set: Epoch: 87, Average loss:0.9126, LR: 0.100000 Top-1 Accuracy: 0.7302, Top-5 Accuracy: 0.9466, SuperClass Accuracy: 0.8238, Time consumed:48.16s\n",
      "Test set: Epoch: 87, Average loss:0.0137, Top-1 Accuracy: 0.5810, Top-5 Accuracy: 0.8580, SuperClass Accuracy: 0.7001, Time consumed:14.79s\n",
      "\n",
      "EarlyStopping counter: 19 out of 150\n"
     ]
    },
    {
     "name": "stderr",
     "output_type": "stream",
     "text": [
      " 35%|███▍      | 87/250 [1:32:51<2:57:39, 65.40s/it]"
     ]
    },
    {
     "name": "stdout",
     "output_type": "stream",
     "text": [
      "Batch [30/391], Loss: 0.7705\n",
      "Batch [60/391], Loss: 0.8608\n",
      "Batch [90/391], Loss: 0.8950\n",
      "Batch [120/391], Loss: 0.8475\n",
      "Batch [150/391], Loss: 1.0406\n",
      "Batch [180/391], Loss: 0.9804\n",
      "Batch [210/391], Loss: 0.8052\n",
      "Batch [240/391], Loss: 0.8515\n",
      "Batch [270/391], Loss: 0.8250\n",
      "Batch [300/391], Loss: 1.0116\n",
      "Batch [330/391], Loss: 0.9494\n",
      "Batch [360/391], Loss: 0.8432\n",
      "Batch [390/391], Loss: 1.1574\n",
      "Train set: Epoch: 88, Average loss:0.9181, LR: 0.100000 Top-1 Accuracy: 0.7308, Top-5 Accuracy: 0.9442, SuperClass Accuracy: 0.8214, Time consumed:49.04s\n",
      "Test set: Epoch: 88, Average loss:0.0115, Top-1 Accuracy: 0.6082, Top-5 Accuracy: 0.8778, SuperClass Accuracy: 0.7351, Time consumed:14.92s\n",
      "\n",
      "EarlyStopping counter: 20 out of 150\n"
     ]
    },
    {
     "name": "stderr",
     "output_type": "stream",
     "text": [
      " 35%|███▌      | 88/250 [1:33:55<2:55:24, 64.97s/it]"
     ]
    },
    {
     "name": "stdout",
     "output_type": "stream",
     "text": [
      "Batch [30/391], Loss: 0.7485\n",
      "Batch [60/391], Loss: 1.0049\n",
      "Batch [90/391], Loss: 0.9224\n",
      "Batch [120/391], Loss: 0.8804\n",
      "Batch [150/391], Loss: 0.7669\n",
      "Batch [180/391], Loss: 1.0953\n",
      "Batch [210/391], Loss: 1.0522\n",
      "Batch [240/391], Loss: 1.0304\n",
      "Batch [270/391], Loss: 0.8551\n",
      "Batch [300/391], Loss: 0.7547\n",
      "Batch [330/391], Loss: 0.9559\n",
      "Batch [360/391], Loss: 1.0806\n",
      "Batch [390/391], Loss: 1.1201\n",
      "Train set: Epoch: 89, Average loss:0.9116, LR: 0.100000 Top-1 Accuracy: 0.7306, Top-5 Accuracy: 0.9460, SuperClass Accuracy: 0.8249, Time consumed:49.09s\n",
      "Test set: Epoch: 89, Average loss:0.0115, Top-1 Accuracy: 0.6133, Top-5 Accuracy: 0.8750, SuperClass Accuracy: 0.7373, Time consumed:15.13s\n",
      "\n",
      "EarlyStopping counter: 21 out of 150\n"
     ]
    },
    {
     "name": "stderr",
     "output_type": "stream",
     "text": [
      " 36%|███▌      | 89/250 [1:34:59<2:53:44, 64.75s/it]"
     ]
    },
    {
     "name": "stdout",
     "output_type": "stream",
     "text": [
      "Batch [30/391], Loss: 0.7903\n",
      "Batch [60/391], Loss: 0.9079\n",
      "Batch [90/391], Loss: 0.7545\n",
      "Batch [120/391], Loss: 0.9179\n",
      "Batch [150/391], Loss: 0.7818\n",
      "Batch [180/391], Loss: 0.7867\n",
      "Batch [210/391], Loss: 1.0257\n",
      "Batch [240/391], Loss: 1.0500\n",
      "Batch [270/391], Loss: 0.9588\n",
      "Batch [300/391], Loss: 0.7605\n",
      "Batch [330/391], Loss: 1.0568\n",
      "Batch [360/391], Loss: 1.0221\n",
      "Batch [390/391], Loss: 0.9191\n",
      "Train set: Epoch: 90, Average loss:0.9098, LR: 0.100000 Top-1 Accuracy: 0.7303, Top-5 Accuracy: 0.9460, SuperClass Accuracy: 0.8231, Time consumed:48.89s\n",
      "Test set: Epoch: 90, Average loss:0.0133, Top-1 Accuracy: 0.5697, Top-5 Accuracy: 0.8478, SuperClass Accuracy: 0.7011, Time consumed:18.87s\n",
      "\n",
      "EarlyStopping counter: 22 out of 150\n"
     ]
    },
    {
     "name": "stderr",
     "output_type": "stream",
     "text": [
      " 36%|███▌      | 90/250 [1:36:07<2:55:04, 65.66s/it]"
     ]
    },
    {
     "name": "stdout",
     "output_type": "stream",
     "text": [
      "Batch [30/391], Loss: 0.9166\n",
      "Batch [60/391], Loss: 0.9816\n",
      "Batch [90/391], Loss: 0.8037\n",
      "Batch [120/391], Loss: 0.9704\n",
      "Batch [150/391], Loss: 1.0690\n",
      "Batch [180/391], Loss: 0.6876\n",
      "Batch [210/391], Loss: 0.7931\n",
      "Batch [240/391], Loss: 0.9441\n",
      "Batch [270/391], Loss: 0.7757\n",
      "Batch [300/391], Loss: 0.9872\n",
      "Batch [330/391], Loss: 1.0534\n",
      "Batch [360/391], Loss: 0.9572\n",
      "Batch [390/391], Loss: 1.0275\n",
      "Train set: Epoch: 91, Average loss:0.9260, LR: 0.100000 Top-1 Accuracy: 0.7242, Top-5 Accuracy: 0.9457, SuperClass Accuracy: 0.8183, Time consumed:52.50s\n",
      "Test set: Epoch: 91, Average loss:0.0118, Top-1 Accuracy: 0.6043, Top-5 Accuracy: 0.8641, SuperClass Accuracy: 0.7195, Time consumed:14.82s\n",
      "\n",
      "EarlyStopping counter: 23 out of 150\n"
     ]
    },
    {
     "name": "stderr",
     "output_type": "stream",
     "text": [
      " 36%|███▋      | 91/250 [1:37:14<2:55:19, 66.16s/it]"
     ]
    },
    {
     "name": "stdout",
     "output_type": "stream",
     "text": [
      "Batch [30/391], Loss: 0.8346\n",
      "Batch [60/391], Loss: 0.7115\n",
      "Batch [90/391], Loss: 0.9575\n",
      "Batch [120/391], Loss: 1.1738\n",
      "Batch [150/391], Loss: 0.8422\n",
      "Batch [180/391], Loss: 1.0655\n",
      "Batch [210/391], Loss: 1.0129\n",
      "Batch [240/391], Loss: 1.1669\n",
      "Batch [270/391], Loss: 0.9339\n",
      "Batch [300/391], Loss: 1.0182\n",
      "Batch [330/391], Loss: 0.8841\n",
      "Batch [360/391], Loss: 1.0671\n",
      "Batch [390/391], Loss: 0.9319\n",
      "Train set: Epoch: 92, Average loss:0.9081, LR: 0.100000 Top-1 Accuracy: 0.7318, Top-5 Accuracy: 0.9460, SuperClass Accuracy: 0.8249, Time consumed:48.41s\n",
      "Test set: Epoch: 92, Average loss:0.0125, Top-1 Accuracy: 0.5923, Top-5 Accuracy: 0.8619, SuperClass Accuracy: 0.7158, Time consumed:15.15s\n",
      "\n",
      "EarlyStopping counter: 24 out of 150\n"
     ]
    },
    {
     "name": "stderr",
     "output_type": "stream",
     "text": [
      " 37%|███▋      | 92/250 [1:38:18<2:52:10, 65.38s/it]"
     ]
    },
    {
     "name": "stdout",
     "output_type": "stream",
     "text": [
      "Batch [30/391], Loss: 0.6839\n",
      "Batch [60/391], Loss: 0.9173\n",
      "Batch [90/391], Loss: 0.7217\n",
      "Batch [120/391], Loss: 0.8288\n",
      "Batch [150/391], Loss: 0.8748\n",
      "Batch [180/391], Loss: 0.9076\n",
      "Batch [210/391], Loss: 0.9410\n",
      "Batch [240/391], Loss: 0.9560\n",
      "Batch [270/391], Loss: 0.8457\n",
      "Batch [300/391], Loss: 0.8658\n",
      "Batch [330/391], Loss: 0.9512\n",
      "Batch [360/391], Loss: 0.7739\n",
      "Batch [390/391], Loss: 1.0759\n",
      "Train set: Epoch: 93, Average loss:0.9052, LR: 0.100000 Top-1 Accuracy: 0.7319, Top-5 Accuracy: 0.9454, SuperClass Accuracy: 0.8252, Time consumed:48.57s\n",
      "Test set: Epoch: 93, Average loss:0.0143, Top-1 Accuracy: 0.5453, Top-5 Accuracy: 0.8331, SuperClass Accuracy: 0.6653, Time consumed:15.24s\n",
      "\n",
      "EarlyStopping counter: 25 out of 150\n"
     ]
    },
    {
     "name": "stderr",
     "output_type": "stream",
     "text": [
      " 37%|███▋      | 93/250 [1:39:22<2:49:51, 64.92s/it]"
     ]
    },
    {
     "name": "stdout",
     "output_type": "stream",
     "text": [
      "Batch [30/391], Loss: 0.7242\n",
      "Batch [60/391], Loss: 0.9280\n",
      "Batch [90/391], Loss: 0.8417\n",
      "Batch [120/391], Loss: 0.9365\n",
      "Batch [150/391], Loss: 0.9891\n",
      "Batch [180/391], Loss: 1.0609\n",
      "Batch [210/391], Loss: 0.7869\n",
      "Batch [240/391], Loss: 0.9336\n",
      "Batch [270/391], Loss: 1.2304\n",
      "Batch [300/391], Loss: 1.3322\n",
      "Batch [330/391], Loss: 0.9963\n",
      "Batch [360/391], Loss: 0.8174\n",
      "Batch [390/391], Loss: 0.9758\n",
      "Train set: Epoch: 94, Average loss:0.9153, LR: 0.100000 Top-1 Accuracy: 0.7270, Top-5 Accuracy: 0.9459, SuperClass Accuracy: 0.8233, Time consumed:48.54s\n",
      "Test set: Epoch: 94, Average loss:0.0121, Top-1 Accuracy: 0.5971, Top-5 Accuracy: 0.8570, SuperClass Accuracy: 0.7187, Time consumed:15.15s\n",
      "\n",
      "EarlyStopping counter: 26 out of 150\n"
     ]
    },
    {
     "name": "stderr",
     "output_type": "stream",
     "text": [
      " 38%|███▊      | 94/250 [1:40:26<2:47:50, 64.55s/it]"
     ]
    },
    {
     "name": "stdout",
     "output_type": "stream",
     "text": [
      "Batch [30/391], Loss: 0.6335\n",
      "Batch [60/391], Loss: 0.7159\n",
      "Batch [90/391], Loss: 0.8711\n",
      "Batch [120/391], Loss: 0.9092\n",
      "Batch [150/391], Loss: 0.8921\n",
      "Batch [180/391], Loss: 0.9054\n",
      "Batch [210/391], Loss: 1.1363\n",
      "Batch [240/391], Loss: 0.8437\n",
      "Batch [270/391], Loss: 1.0487\n",
      "Batch [300/391], Loss: 0.9307\n",
      "Batch [330/391], Loss: 0.8076\n",
      "Batch [360/391], Loss: 1.1341\n",
      "Batch [390/391], Loss: 0.9640\n",
      "Train set: Epoch: 95, Average loss:0.9033, LR: 0.100000 Top-1 Accuracy: 0.7327, Top-5 Accuracy: 0.9476, SuperClass Accuracy: 0.8261, Time consumed:48.57s\n",
      "Test set: Epoch: 95, Average loss:0.0120, Top-1 Accuracy: 0.6014, Top-5 Accuracy: 0.8597, SuperClass Accuracy: 0.7258, Time consumed:15.22s\n",
      "\n",
      "EarlyStopping counter: 27 out of 150\n"
     ]
    },
    {
     "name": "stderr",
     "output_type": "stream",
     "text": [
      " 38%|███▊      | 95/250 [1:41:29<2:46:10, 64.33s/it]"
     ]
    },
    {
     "name": "stdout",
     "output_type": "stream",
     "text": [
      "Batch [30/391], Loss: 0.9273\n",
      "Batch [60/391], Loss: 0.9232\n",
      "Batch [90/391], Loss: 0.8247\n",
      "Batch [120/391], Loss: 0.8720\n",
      "Batch [150/391], Loss: 0.9208\n",
      "Batch [180/391], Loss: 0.5110\n",
      "Batch [210/391], Loss: 1.0200\n",
      "Batch [240/391], Loss: 0.9403\n",
      "Batch [270/391], Loss: 1.0572\n",
      "Batch [300/391], Loss: 1.0187\n",
      "Batch [330/391], Loss: 1.1902\n",
      "Batch [360/391], Loss: 1.1467\n",
      "Batch [390/391], Loss: 0.9538\n",
      "Train set: Epoch: 96, Average loss:0.9079, LR: 0.100000 Top-1 Accuracy: 0.7318, Top-5 Accuracy: 0.9455, SuperClass Accuracy: 0.8254, Time consumed:48.60s\n",
      "Test set: Epoch: 96, Average loss:0.0120, Top-1 Accuracy: 0.6071, Top-5 Accuracy: 0.8718, SuperClass Accuracy: 0.7306, Time consumed:14.96s\n",
      "\n",
      "EarlyStopping counter: 28 out of 150\n"
     ]
    },
    {
     "name": "stderr",
     "output_type": "stream",
     "text": [
      " 38%|███▊      | 96/250 [1:42:33<2:44:31, 64.10s/it]"
     ]
    },
    {
     "name": "stdout",
     "output_type": "stream",
     "text": [
      "Batch [30/391], Loss: 0.8936\n",
      "Batch [60/391], Loss: 0.9131\n",
      "Batch [90/391], Loss: 0.7039\n",
      "Batch [120/391], Loss: 0.8324\n",
      "Batch [150/391], Loss: 0.8810\n",
      "Batch [180/391], Loss: 0.8194\n",
      "Batch [210/391], Loss: 0.9619\n",
      "Batch [240/391], Loss: 0.8587\n",
      "Batch [270/391], Loss: 0.7800\n",
      "Batch [300/391], Loss: 1.1975\n",
      "Batch [330/391], Loss: 1.0835\n",
      "Batch [360/391], Loss: 0.9449\n",
      "Batch [390/391], Loss: 0.8681\n",
      "Train set: Epoch: 97, Average loss:0.9041, LR: 0.100000 Top-1 Accuracy: 0.7323, Top-5 Accuracy: 0.9468, SuperClass Accuracy: 0.8261, Time consumed:48.72s\n",
      "Test set: Epoch: 97, Average loss:0.0128, Top-1 Accuracy: 0.5833, Top-5 Accuracy: 0.8507, SuperClass Accuracy: 0.7042, Time consumed:15.09s\n",
      "\n",
      "EarlyStopping counter: 29 out of 150\n"
     ]
    },
    {
     "name": "stderr",
     "output_type": "stream",
     "text": [
      " 39%|███▉      | 97/250 [1:43:37<2:43:14, 64.01s/it]"
     ]
    },
    {
     "name": "stdout",
     "output_type": "stream",
     "text": [
      "Batch [30/391], Loss: 0.7806\n",
      "Batch [60/391], Loss: 0.6134\n",
      "Batch [90/391], Loss: 0.8226\n",
      "Batch [120/391], Loss: 0.8095\n",
      "Batch [150/391], Loss: 0.8845\n",
      "Batch [180/391], Loss: 0.8075\n",
      "Batch [210/391], Loss: 0.9237\n",
      "Batch [240/391], Loss: 1.0034\n",
      "Batch [270/391], Loss: 1.0001\n",
      "Batch [300/391], Loss: 0.8496\n",
      "Batch [330/391], Loss: 0.8489\n",
      "Batch [360/391], Loss: 1.0941\n",
      "Batch [390/391], Loss: 1.2128\n",
      "Train set: Epoch: 98, Average loss:0.9025, LR: 0.100000 Top-1 Accuracy: 0.7310, Top-5 Accuracy: 0.9469, SuperClass Accuracy: 0.8250, Time consumed:48.52s\n",
      "Test set: Epoch: 98, Average loss:0.0132, Top-1 Accuracy: 0.5716, Top-5 Accuracy: 0.8564, SuperClass Accuracy: 0.7075, Time consumed:20.07s\n",
      "\n",
      "EarlyStopping counter: 30 out of 150\n"
     ]
    },
    {
     "name": "stderr",
     "output_type": "stream",
     "text": [
      " 39%|███▉      | 98/250 [1:44:45<2:45:38, 65.39s/it]"
     ]
    },
    {
     "name": "stdout",
     "output_type": "stream",
     "text": [
      "Batch [30/391], Loss: 0.7577\n",
      "Batch [60/391], Loss: 0.8282\n",
      "Batch [90/391], Loss: 0.9254\n",
      "Batch [120/391], Loss: 0.9001\n",
      "Batch [150/391], Loss: 1.0261\n",
      "Batch [180/391], Loss: 0.9645\n",
      "Batch [210/391], Loss: 0.8462\n",
      "Batch [240/391], Loss: 0.9642\n",
      "Batch [270/391], Loss: 1.0411\n",
      "Batch [300/391], Loss: 1.0019\n",
      "Batch [330/391], Loss: 1.0694\n",
      "Batch [360/391], Loss: 0.7366\n",
      "Batch [390/391], Loss: 0.8735\n",
      "Train set: Epoch: 99, Average loss:0.9007, LR: 0.100000 Top-1 Accuracy: 0.7346, Top-5 Accuracy: 0.9461, SuperClass Accuracy: 0.8268, Time consumed:51.44s\n",
      "Test set: Epoch: 99, Average loss:0.0132, Top-1 Accuracy: 0.5664, Top-5 Accuracy: 0.8537, SuperClass Accuracy: 0.6917, Time consumed:14.89s\n",
      "\n",
      "EarlyStopping counter: 31 out of 150\n"
     ]
    },
    {
     "name": "stderr",
     "output_type": "stream",
     "text": [
      " 40%|███▉      | 99/250 [1:45:52<2:45:16, 65.67s/it]"
     ]
    },
    {
     "name": "stdout",
     "output_type": "stream",
     "text": [
      "Batch [30/391], Loss: 0.7287\n",
      "Batch [60/391], Loss: 0.8239\n",
      "Batch [90/391], Loss: 0.8432\n",
      "Batch [120/391], Loss: 0.8357\n",
      "Batch [150/391], Loss: 1.0993\n",
      "Batch [180/391], Loss: 0.8102\n",
      "Batch [210/391], Loss: 0.7701\n",
      "Batch [240/391], Loss: 0.7591\n",
      "Batch [270/391], Loss: 1.0104\n",
      "Batch [300/391], Loss: 0.9703\n",
      "Batch [330/391], Loss: 0.7696\n",
      "Batch [360/391], Loss: 0.9904\n",
      "Batch [390/391], Loss: 0.9048\n",
      "Train set: Epoch: 100, Average loss:0.9104, LR: 0.100000 Top-1 Accuracy: 0.7299, Top-5 Accuracy: 0.9472, SuperClass Accuracy: 0.8228, Time consumed:47.89s\n",
      "Test set: Epoch: 100, Average loss:0.0123, Top-1 Accuracy: 0.5850, Top-5 Accuracy: 0.8556, SuperClass Accuracy: 0.7091, Time consumed:15.09s\n",
      "\n",
      "EarlyStopping counter: 32 out of 150\n"
     ]
    },
    {
     "name": "stderr",
     "output_type": "stream",
     "text": [
      " 40%|████      | 100/250 [1:46:55<2:42:10, 64.87s/it]"
     ]
    },
    {
     "name": "stdout",
     "output_type": "stream",
     "text": [
      "Batch [30/391], Loss: 0.5444\n",
      "Batch [60/391], Loss: 0.6313\n",
      "Batch [90/391], Loss: 0.4654\n",
      "Batch [120/391], Loss: 0.3986\n",
      "Batch [150/391], Loss: 0.5317\n",
      "Batch [180/391], Loss: 0.5686\n",
      "Batch [210/391], Loss: 0.3820\n",
      "Batch [240/391], Loss: 0.4085\n",
      "Batch [270/391], Loss: 0.5362\n",
      "Batch [300/391], Loss: 0.4263\n",
      "Batch [330/391], Loss: 0.3150\n",
      "Batch [360/391], Loss: 0.4916\n",
      "Batch [390/391], Loss: 0.4934\n",
      "Train set: Epoch: 101, Average loss:0.4713, LR: 0.020000 Top-1 Accuracy: 0.8615, Top-5 Accuracy: 0.9835, SuperClass Accuracy: 0.9190, Time consumed:48.60s\n",
      "Test set: Epoch: 101, Average loss:0.0071, Top-1 Accuracy: 0.7446, Top-5 Accuracy: 0.9394, SuperClass Accuracy: 0.8425, Time consumed:15.37s\n",
      "\n",
      "saving weights file to runs\\resnet_18_base_50000+nesterov\\savepoints\\Sunday_13_October_2024_15h_09m_35s\\resnet_18_base_50000+nesterov-101-best.pth\n"
     ]
    },
    {
     "name": "stderr",
     "output_type": "stream",
     "text": [
      " 40%|████      | 101/250 [1:47:59<2:40:28, 64.62s/it]"
     ]
    },
    {
     "name": "stdout",
     "output_type": "stream",
     "text": [
      "Batch [30/391], Loss: 0.3397\n",
      "Batch [60/391], Loss: 0.3016\n",
      "Batch [90/391], Loss: 0.3386\n",
      "Batch [120/391], Loss: 0.3732\n",
      "Batch [150/391], Loss: 0.3126\n",
      "Batch [180/391], Loss: 0.2431\n",
      "Batch [210/391], Loss: 0.3317\n",
      "Batch [240/391], Loss: 0.3384\n",
      "Batch [270/391], Loss: 0.2966\n",
      "Batch [300/391], Loss: 0.2117\n",
      "Batch [330/391], Loss: 0.3002\n",
      "Batch [360/391], Loss: 0.2294\n",
      "Batch [390/391], Loss: 0.3536\n",
      "Train set: Epoch: 102, Average loss:0.3231, LR: 0.020000 Top-1 Accuracy: 0.9053, Top-5 Accuracy: 0.9926, SuperClass Accuracy: 0.9495, Time consumed:48.40s\n",
      "Test set: Epoch: 102, Average loss:0.0072, Top-1 Accuracy: 0.7498, Top-5 Accuracy: 0.9379, SuperClass Accuracy: 0.8439, Time consumed:14.89s\n",
      "\n",
      "saving weights file to runs\\resnet_18_base_50000+nesterov\\savepoints\\Sunday_13_October_2024_15h_09m_35s\\resnet_18_base_50000+nesterov-102-best.pth\n",
      "EarlyStopping counter: 1 out of 150\n"
     ]
    },
    {
     "name": "stderr",
     "output_type": "stream",
     "text": [
      " 41%|████      | 102/250 [1:49:02<2:38:27, 64.24s/it]"
     ]
    },
    {
     "name": "stdout",
     "output_type": "stream",
     "text": [
      "Batch [30/391], Loss: 0.2031\n",
      "Batch [60/391], Loss: 0.2809\n",
      "Batch [90/391], Loss: 0.2919\n",
      "Batch [120/391], Loss: 0.2478\n",
      "Batch [150/391], Loss: 0.2109\n",
      "Batch [180/391], Loss: 0.3157\n",
      "Batch [210/391], Loss: 0.3397\n",
      "Batch [240/391], Loss: 0.2226\n",
      "Batch [270/391], Loss: 0.1901\n",
      "Batch [300/391], Loss: 0.3470\n",
      "Batch [330/391], Loss: 0.2267\n",
      "Batch [360/391], Loss: 0.2944\n",
      "Batch [390/391], Loss: 0.2180\n",
      "Train set: Epoch: 103, Average loss:0.2613, LR: 0.020000 Top-1 Accuracy: 0.9243, Top-5 Accuracy: 0.9952, SuperClass Accuracy: 0.9609, Time consumed:48.57s\n",
      "Test set: Epoch: 103, Average loss:0.0074, Top-1 Accuracy: 0.7490, Top-5 Accuracy: 0.9366, SuperClass Accuracy: 0.8436, Time consumed:15.15s\n",
      "\n",
      "EarlyStopping counter: 2 out of 150\n"
     ]
    },
    {
     "name": "stderr",
     "output_type": "stream",
     "text": [
      " 41%|████      | 103/250 [1:50:06<2:37:00, 64.09s/it]"
     ]
    },
    {
     "name": "stdout",
     "output_type": "stream",
     "text": [
      "Batch [30/391], Loss: 0.1676\n",
      "Batch [60/391], Loss: 0.1859\n",
      "Batch [90/391], Loss: 0.2521\n",
      "Batch [120/391], Loss: 0.1906\n",
      "Batch [150/391], Loss: 0.1912\n",
      "Batch [180/391], Loss: 0.2483\n",
      "Batch [210/391], Loss: 0.2467\n",
      "Batch [240/391], Loss: 0.1992\n",
      "Batch [270/391], Loss: 0.2502\n",
      "Batch [300/391], Loss: 0.2661\n",
      "Batch [330/391], Loss: 0.2297\n",
      "Batch [360/391], Loss: 0.2365\n",
      "Batch [390/391], Loss: 0.1918\n",
      "Train set: Epoch: 104, Average loss:0.2216, LR: 0.020000 Top-1 Accuracy: 0.9358, Top-5 Accuracy: 0.9970, SuperClass Accuracy: 0.9681, Time consumed:48.58s\n",
      "Test set: Epoch: 104, Average loss:0.0074, Top-1 Accuracy: 0.7533, Top-5 Accuracy: 0.9365, SuperClass Accuracy: 0.8475, Time consumed:15.18s\n",
      "\n",
      "saving weights file to runs\\resnet_18_base_50000+nesterov\\savepoints\\Sunday_13_October_2024_15h_09m_35s\\resnet_18_base_50000+nesterov-104-best.pth\n",
      "EarlyStopping counter: 3 out of 150\n"
     ]
    },
    {
     "name": "stderr",
     "output_type": "stream",
     "text": [
      " 42%|████▏     | 104/250 [1:51:10<2:35:45, 64.01s/it]"
     ]
    },
    {
     "name": "stdout",
     "output_type": "stream",
     "text": [
      "Batch [30/391], Loss: 0.3256\n",
      "Batch [60/391], Loss: 0.2388\n",
      "Batch [90/391], Loss: 0.1664\n",
      "Batch [120/391], Loss: 0.2215\n",
      "Batch [150/391], Loss: 0.1889\n",
      "Batch [180/391], Loss: 0.1510\n",
      "Batch [210/391], Loss: 0.1247\n",
      "Batch [240/391], Loss: 0.2182\n",
      "Batch [270/391], Loss: 0.1826\n",
      "Batch [300/391], Loss: 0.2527\n",
      "Batch [330/391], Loss: 0.1850\n",
      "Batch [360/391], Loss: 0.3163\n",
      "Batch [390/391], Loss: 0.2369\n",
      "Train set: Epoch: 105, Average loss:0.1919, LR: 0.020000 Top-1 Accuracy: 0.9453, Top-5 Accuracy: 0.9977, SuperClass Accuracy: 0.9730, Time consumed:48.74s\n",
      "Test set: Epoch: 105, Average loss:0.0075, Top-1 Accuracy: 0.7525, Top-5 Accuracy: 0.9386, SuperClass Accuracy: 0.8456, Time consumed:15.28s\n",
      "\n",
      "EarlyStopping counter: 4 out of 150\n"
     ]
    },
    {
     "name": "stderr",
     "output_type": "stream",
     "text": [
      " 42%|████▏     | 105/250 [1:52:14<2:34:42, 64.01s/it]"
     ]
    },
    {
     "name": "stdout",
     "output_type": "stream",
     "text": [
      "Batch [30/391], Loss: 0.1399\n",
      "Batch [60/391], Loss: 0.1202\n",
      "Batch [90/391], Loss: 0.1693\n",
      "Batch [120/391], Loss: 0.1607\n",
      "Batch [150/391], Loss: 0.1883\n",
      "Batch [180/391], Loss: 0.1706\n",
      "Batch [210/391], Loss: 0.1751\n",
      "Batch [240/391], Loss: 0.1774\n",
      "Batch [270/391], Loss: 0.1424\n",
      "Batch [300/391], Loss: 0.2421\n",
      "Batch [330/391], Loss: 0.2211\n",
      "Batch [360/391], Loss: 0.1887\n",
      "Batch [390/391], Loss: 0.1409\n",
      "Train set: Epoch: 106, Average loss:0.1710, LR: 0.020000 Top-1 Accuracy: 0.9503, Top-5 Accuracy: 0.9987, SuperClass Accuracy: 0.9760, Time consumed:49.01s\n",
      "Test set: Epoch: 106, Average loss:0.0079, Top-1 Accuracy: 0.7452, Top-5 Accuracy: 0.9316, SuperClass Accuracy: 0.8386, Time consumed:15.23s\n",
      "\n",
      "EarlyStopping counter: 5 out of 150\n"
     ]
    },
    {
     "name": "stderr",
     "output_type": "stream",
     "text": [
      " 42%|████▏     | 106/250 [1:53:18<2:33:48, 64.08s/it]"
     ]
    },
    {
     "name": "stdout",
     "output_type": "stream",
     "text": [
      "Batch [30/391], Loss: 0.1479\n",
      "Batch [60/391], Loss: 0.1220\n",
      "Batch [90/391], Loss: 0.1222\n",
      "Batch [120/391], Loss: 0.0728\n",
      "Batch [150/391], Loss: 0.1251\n",
      "Batch [180/391], Loss: 0.1609\n",
      "Batch [210/391], Loss: 0.1096\n",
      "Batch [240/391], Loss: 0.2042\n",
      "Batch [270/391], Loss: 0.1999\n",
      "Batch [300/391], Loss: 0.1938\n",
      "Batch [330/391], Loss: 0.1419\n",
      "Batch [360/391], Loss: 0.1448\n",
      "Batch [390/391], Loss: 0.1310\n",
      "Train set: Epoch: 107, Average loss:0.1560, LR: 0.020000 Top-1 Accuracy: 0.9572, Top-5 Accuracy: 0.9990, SuperClass Accuracy: 0.9790, Time consumed:48.81s\n",
      "Test set: Epoch: 107, Average loss:0.0079, Top-1 Accuracy: 0.7448, Top-5 Accuracy: 0.9330, SuperClass Accuracy: 0.8432, Time consumed:15.41s\n",
      "\n",
      "EarlyStopping counter: 6 out of 150\n"
     ]
    },
    {
     "name": "stderr",
     "output_type": "stream",
     "text": [
      " 43%|████▎     | 107/250 [1:54:22<2:32:50, 64.13s/it]"
     ]
    },
    {
     "name": "stdout",
     "output_type": "stream",
     "text": [
      "Batch [30/391], Loss: 0.0832\n",
      "Batch [60/391], Loss: 0.1237\n",
      "Batch [90/391], Loss: 0.1684\n",
      "Batch [120/391], Loss: 0.1092\n",
      "Batch [150/391], Loss: 0.1506\n",
      "Batch [180/391], Loss: 0.1338\n",
      "Batch [210/391], Loss: 0.1562\n",
      "Batch [240/391], Loss: 0.1197\n",
      "Batch [270/391], Loss: 0.1096\n",
      "Batch [300/391], Loss: 0.1334\n",
      "Batch [330/391], Loss: 0.1607\n",
      "Batch [360/391], Loss: 0.1457\n",
      "Batch [390/391], Loss: 0.1632\n",
      "Train set: Epoch: 108, Average loss:0.1442, LR: 0.020000 Top-1 Accuracy: 0.9601, Top-5 Accuracy: 0.9993, SuperClass Accuracy: 0.9803, Time consumed:48.47s\n",
      "Test set: Epoch: 108, Average loss:0.0081, Top-1 Accuracy: 0.7429, Top-5 Accuracy: 0.9282, SuperClass Accuracy: 0.8375, Time consumed:15.08s\n",
      "\n",
      "EarlyStopping counter: 7 out of 150\n"
     ]
    },
    {
     "name": "stderr",
     "output_type": "stream",
     "text": [
      " 43%|████▎     | 108/250 [1:55:26<2:31:22, 63.96s/it]"
     ]
    },
    {
     "name": "stdout",
     "output_type": "stream",
     "text": [
      "Batch [30/391], Loss: 0.0966\n",
      "Batch [60/391], Loss: 0.1452\n",
      "Batch [90/391], Loss: 0.1804\n",
      "Batch [120/391], Loss: 0.1203\n",
      "Batch [150/391], Loss: 0.1389\n",
      "Batch [180/391], Loss: 0.0865\n",
      "Batch [210/391], Loss: 0.1065\n",
      "Batch [240/391], Loss: 0.1835\n",
      "Batch [270/391], Loss: 0.1360\n",
      "Batch [300/391], Loss: 0.1410\n",
      "Batch [330/391], Loss: 0.1752\n",
      "Batch [360/391], Loss: 0.2169\n",
      "Batch [390/391], Loss: 0.1449\n",
      "Train set: Epoch: 109, Average loss:0.1474, LR: 0.020000 Top-1 Accuracy: 0.9595, Top-5 Accuracy: 0.9993, SuperClass Accuracy: 0.9794, Time consumed:48.65s\n",
      "Test set: Epoch: 109, Average loss:0.0084, Top-1 Accuracy: 0.7374, Top-5 Accuracy: 0.9277, SuperClass Accuracy: 0.8313, Time consumed:15.30s\n",
      "\n",
      "EarlyStopping counter: 8 out of 150\n"
     ]
    },
    {
     "name": "stderr",
     "output_type": "stream",
     "text": [
      " 44%|████▎     | 109/250 [1:56:30<2:30:18, 63.96s/it]"
     ]
    },
    {
     "name": "stdout",
     "output_type": "stream",
     "text": [
      "Batch [30/391], Loss: 0.1403\n",
      "Batch [60/391], Loss: 0.1000\n",
      "Batch [90/391], Loss: 0.1731\n",
      "Batch [120/391], Loss: 0.0710\n",
      "Batch [150/391], Loss: 0.1874\n",
      "Batch [180/391], Loss: 0.0949\n",
      "Batch [210/391], Loss: 0.1850\n",
      "Batch [240/391], Loss: 0.1166\n",
      "Batch [270/391], Loss: 0.1481\n",
      "Batch [300/391], Loss: 0.1315\n",
      "Batch [330/391], Loss: 0.1541\n",
      "Batch [360/391], Loss: 0.0905\n",
      "Batch [390/391], Loss: 0.0739\n",
      "Train set: Epoch: 110, Average loss:0.1393, LR: 0.020000 Top-1 Accuracy: 0.9612, Top-5 Accuracy: 0.9993, SuperClass Accuracy: 0.9806, Time consumed:48.60s\n",
      "Test set: Epoch: 110, Average loss:0.0083, Top-1 Accuracy: 0.7371, Top-5 Accuracy: 0.9305, SuperClass Accuracy: 0.8345, Time consumed:14.79s\n",
      "\n",
      "EarlyStopping counter: 9 out of 150\n"
     ]
    },
    {
     "name": "stderr",
     "output_type": "stream",
     "text": [
      " 44%|████▍     | 110/250 [1:57:33<2:28:50, 63.79s/it]"
     ]
    },
    {
     "name": "stdout",
     "output_type": "stream",
     "text": [
      "Batch [30/391], Loss: 0.0764\n",
      "Batch [60/391], Loss: 0.0526\n",
      "Batch [90/391], Loss: 0.2139\n",
      "Batch [120/391], Loss: 0.1496\n",
      "Batch [150/391], Loss: 0.1275\n",
      "Batch [180/391], Loss: 0.1046\n",
      "Batch [210/391], Loss: 0.1431\n",
      "Batch [240/391], Loss: 0.1777\n",
      "Batch [270/391], Loss: 0.1034\n",
      "Batch [300/391], Loss: 0.1361\n",
      "Batch [330/391], Loss: 0.1383\n",
      "Batch [360/391], Loss: 0.1795\n",
      "Batch [390/391], Loss: 0.1443\n",
      "Train set: Epoch: 111, Average loss:0.1380, LR: 0.020000 Top-1 Accuracy: 0.9615, Top-5 Accuracy: 0.9994, SuperClass Accuracy: 0.9804, Time consumed:48.72s\n",
      "Test set: Epoch: 111, Average loss:0.0085, Top-1 Accuracy: 0.7354, Top-5 Accuracy: 0.9266, SuperClass Accuracy: 0.8353, Time consumed:15.04s\n",
      "\n",
      "EarlyStopping counter: 10 out of 150\n"
     ]
    },
    {
     "name": "stderr",
     "output_type": "stream",
     "text": [
      " 44%|████▍     | 111/250 [1:58:37<2:27:46, 63.79s/it]"
     ]
    },
    {
     "name": "stdout",
     "output_type": "stream",
     "text": [
      "Batch [30/391], Loss: 0.1217\n",
      "Batch [60/391], Loss: 0.0715\n",
      "Batch [90/391], Loss: 0.1556\n",
      "Batch [120/391], Loss: 0.0693\n",
      "Batch [150/391], Loss: 0.0730\n",
      "Batch [180/391], Loss: 0.1956\n",
      "Batch [210/391], Loss: 0.1288\n",
      "Batch [240/391], Loss: 0.1275\n",
      "Batch [270/391], Loss: 0.1331\n",
      "Batch [300/391], Loss: 0.1721\n",
      "Batch [330/391], Loss: 0.1452\n",
      "Batch [360/391], Loss: 0.1068\n",
      "Batch [390/391], Loss: 0.1382\n",
      "Train set: Epoch: 112, Average loss:0.1444, LR: 0.020000 Top-1 Accuracy: 0.9597, Top-5 Accuracy: 0.9994, SuperClass Accuracy: 0.9789, Time consumed:48.77s\n",
      "Test set: Epoch: 112, Average loss:0.0090, Top-1 Accuracy: 0.7206, Top-5 Accuracy: 0.9196, SuperClass Accuracy: 0.8145, Time consumed:15.19s\n",
      "\n",
      "EarlyStopping counter: 11 out of 150\n"
     ]
    },
    {
     "name": "stderr",
     "output_type": "stream",
     "text": [
      " 45%|████▍     | 112/250 [1:59:41<2:26:50, 63.84s/it]"
     ]
    },
    {
     "name": "stdout",
     "output_type": "stream",
     "text": [
      "Batch [30/391], Loss: 0.0952\n",
      "Batch [60/391], Loss: 0.1238\n",
      "Batch [90/391], Loss: 0.1065\n",
      "Batch [120/391], Loss: 0.1890\n",
      "Batch [150/391], Loss: 0.1626\n",
      "Batch [180/391], Loss: 0.1293\n",
      "Batch [210/391], Loss: 0.1230\n",
      "Batch [240/391], Loss: 0.1255\n",
      "Batch [270/391], Loss: 0.1434\n",
      "Batch [300/391], Loss: 0.1787\n",
      "Batch [330/391], Loss: 0.1532\n",
      "Batch [360/391], Loss: 0.2951\n",
      "Batch [390/391], Loss: 0.1989\n",
      "Train set: Epoch: 113, Average loss:0.1585, LR: 0.020000 Top-1 Accuracy: 0.9555, Top-5 Accuracy: 0.9991, SuperClass Accuracy: 0.9755, Time consumed:48.68s\n",
      "Test set: Epoch: 113, Average loss:0.0089, Top-1 Accuracy: 0.7251, Top-5 Accuracy: 0.9236, SuperClass Accuracy: 0.8237, Time consumed:14.91s\n",
      "\n",
      "EarlyStopping counter: 12 out of 150\n"
     ]
    },
    {
     "name": "stderr",
     "output_type": "stream",
     "text": [
      " 45%|████▌     | 113/250 [2:00:44<2:25:36, 63.77s/it]"
     ]
    },
    {
     "name": "stdout",
     "output_type": "stream",
     "text": [
      "Batch [30/391], Loss: 0.1556\n",
      "Batch [60/391], Loss: 0.1594\n",
      "Batch [90/391], Loss: 0.1643\n",
      "Batch [120/391], Loss: 0.1808\n",
      "Batch [150/391], Loss: 0.1286\n",
      "Batch [180/391], Loss: 0.1367\n",
      "Batch [210/391], Loss: 0.2092\n",
      "Batch [240/391], Loss: 0.1137\n",
      "Batch [270/391], Loss: 0.1755\n",
      "Batch [300/391], Loss: 0.1656\n",
      "Batch [330/391], Loss: 0.1945\n",
      "Batch [360/391], Loss: 0.1335\n",
      "Batch [390/391], Loss: 0.2572\n",
      "Train set: Epoch: 114, Average loss:0.1607, LR: 0.020000 Top-1 Accuracy: 0.9539, Top-5 Accuracy: 0.9993, SuperClass Accuracy: 0.9752, Time consumed:48.61s\n",
      "Test set: Epoch: 114, Average loss:0.0092, Top-1 Accuracy: 0.7206, Top-5 Accuracy: 0.9188, SuperClass Accuracy: 0.8169, Time consumed:14.93s\n",
      "\n",
      "EarlyStopping counter: 13 out of 150\n"
     ]
    },
    {
     "name": "stderr",
     "output_type": "stream",
     "text": [
      " 46%|████▌     | 114/250 [2:01:48<2:24:23, 63.70s/it]"
     ]
    },
    {
     "name": "stdout",
     "output_type": "stream",
     "text": [
      "Batch [30/391], Loss: 0.1314\n",
      "Batch [60/391], Loss: 0.1157\n",
      "Batch [90/391], Loss: 0.1205\n",
      "Batch [120/391], Loss: 0.1821\n",
      "Batch [150/391], Loss: 0.1698\n",
      "Batch [180/391], Loss: 0.1906\n",
      "Batch [210/391], Loss: 0.1793\n",
      "Batch [240/391], Loss: 0.1621\n",
      "Batch [270/391], Loss: 0.2546\n",
      "Batch [300/391], Loss: 0.2257\n",
      "Batch [330/391], Loss: 0.2087\n",
      "Batch [360/391], Loss: 0.2698\n",
      "Batch [390/391], Loss: 0.1915\n",
      "Train set: Epoch: 115, Average loss:0.1787, LR: 0.020000 Top-1 Accuracy: 0.9476, Top-5 Accuracy: 0.9987, SuperClass Accuracy: 0.9703, Time consumed:48.68s\n",
      "Test set: Epoch: 115, Average loss:0.0098, Top-1 Accuracy: 0.7020, Top-5 Accuracy: 0.9167, SuperClass Accuracy: 0.8092, Time consumed:15.12s\n",
      "\n",
      "EarlyStopping counter: 14 out of 150\n"
     ]
    },
    {
     "name": "stderr",
     "output_type": "stream",
     "text": [
      " 46%|████▌     | 115/250 [2:02:52<2:23:24, 63.73s/it]"
     ]
    },
    {
     "name": "stdout",
     "output_type": "stream",
     "text": [
      "Batch [30/391], Loss: 0.1941\n",
      "Batch [60/391], Loss: 0.1661\n",
      "Batch [90/391], Loss: 0.1422\n",
      "Batch [120/391], Loss: 0.1652\n",
      "Batch [150/391], Loss: 0.1284\n",
      "Batch [180/391], Loss: 0.1867\n",
      "Batch [210/391], Loss: 0.1898\n",
      "Batch [240/391], Loss: 0.1382\n",
      "Batch [270/391], Loss: 0.1726\n",
      "Batch [300/391], Loss: 0.1874\n",
      "Batch [330/391], Loss: 0.1870\n",
      "Batch [360/391], Loss: 0.1950\n",
      "Batch [390/391], Loss: 0.2455\n",
      "Train set: Epoch: 116, Average loss:0.1777, LR: 0.020000 Top-1 Accuracy: 0.9489, Top-5 Accuracy: 0.9988, SuperClass Accuracy: 0.9720, Time consumed:48.64s\n",
      "Test set: Epoch: 116, Average loss:0.0096, Top-1 Accuracy: 0.7035, Top-5 Accuracy: 0.9078, SuperClass Accuracy: 0.8013, Time consumed:15.13s\n",
      "\n",
      "EarlyStopping counter: 15 out of 150\n"
     ]
    },
    {
     "name": "stderr",
     "output_type": "stream",
     "text": [
      " 46%|████▋     | 116/250 [2:03:56<2:22:22, 63.75s/it]"
     ]
    },
    {
     "name": "stdout",
     "output_type": "stream",
     "text": [
      "Batch [30/391], Loss: 0.2322\n",
      "Batch [60/391], Loss: 0.1549\n",
      "Batch [90/391], Loss: 0.1631\n",
      "Batch [120/391], Loss: 0.1692\n",
      "Batch [150/391], Loss: 0.1740\n",
      "Batch [180/391], Loss: 0.1458\n",
      "Batch [210/391], Loss: 0.3117\n",
      "Batch [240/391], Loss: 0.1704\n",
      "Batch [270/391], Loss: 0.2136\n",
      "Batch [300/391], Loss: 0.1866\n",
      "Batch [330/391], Loss: 0.2033\n",
      "Batch [360/391], Loss: 0.2995\n",
      "Batch [390/391], Loss: 0.3702\n",
      "Train set: Epoch: 117, Average loss:0.1960, LR: 0.020000 Top-1 Accuracy: 0.9425, Top-5 Accuracy: 0.9984, SuperClass Accuracy: 0.9666, Time consumed:48.40s\n",
      "Test set: Epoch: 117, Average loss:0.0100, Top-1 Accuracy: 0.6900, Top-5 Accuracy: 0.9050, SuperClass Accuracy: 0.7972, Time consumed:14.96s\n",
      "\n",
      "EarlyStopping counter: 16 out of 150\n"
     ]
    },
    {
     "name": "stderr",
     "output_type": "stream",
     "text": [
      " 47%|████▋     | 117/250 [2:04:59<2:21:03, 63.64s/it]"
     ]
    },
    {
     "name": "stdout",
     "output_type": "stream",
     "text": [
      "Batch [30/391], Loss: 0.1611\n",
      "Batch [60/391], Loss: 0.2055\n",
      "Batch [90/391], Loss: 0.1755\n",
      "Batch [120/391], Loss: 0.1548\n",
      "Batch [150/391], Loss: 0.2511\n",
      "Batch [180/391], Loss: 0.1749\n",
      "Batch [210/391], Loss: 0.1660\n",
      "Batch [240/391], Loss: 0.1549\n",
      "Batch [270/391], Loss: 0.1982\n",
      "Batch [300/391], Loss: 0.2073\n",
      "Batch [330/391], Loss: 0.3429\n",
      "Batch [360/391], Loss: 0.1995\n",
      "Batch [390/391], Loss: 0.1584\n",
      "Train set: Epoch: 118, Average loss:0.1977, LR: 0.020000 Top-1 Accuracy: 0.9415, Top-5 Accuracy: 0.9985, SuperClass Accuracy: 0.9656, Time consumed:48.74s\n",
      "Test set: Epoch: 118, Average loss:0.0105, Top-1 Accuracy: 0.6858, Top-5 Accuracy: 0.9045, SuperClass Accuracy: 0.7927, Time consumed:15.03s\n",
      "\n",
      "EarlyStopping counter: 17 out of 150\n"
     ]
    },
    {
     "name": "stderr",
     "output_type": "stream",
     "text": [
      " 47%|████▋     | 118/250 [2:06:03<2:20:05, 63.68s/it]"
     ]
    },
    {
     "name": "stdout",
     "output_type": "stream",
     "text": [
      "Batch [30/391], Loss: 0.1856\n",
      "Batch [60/391], Loss: 0.1978\n",
      "Batch [90/391], Loss: 0.1631\n",
      "Batch [120/391], Loss: 0.1751\n",
      "Batch [150/391], Loss: 0.1969\n",
      "Batch [180/391], Loss: 0.2100\n",
      "Batch [210/391], Loss: 0.2315\n",
      "Batch [240/391], Loss: 0.1989\n",
      "Batch [270/391], Loss: 0.2243\n",
      "Batch [300/391], Loss: 0.2382\n",
      "Batch [330/391], Loss: 0.2671\n",
      "Batch [360/391], Loss: 0.2184\n",
      "Batch [390/391], Loss: 0.1638\n",
      "Train set: Epoch: 119, Average loss:0.1968, LR: 0.020000 Top-1 Accuracy: 0.9416, Top-5 Accuracy: 0.9984, SuperClass Accuracy: 0.9671, Time consumed:48.81s\n",
      "Test set: Epoch: 119, Average loss:0.0101, Top-1 Accuracy: 0.7032, Top-5 Accuracy: 0.9132, SuperClass Accuracy: 0.8044, Time consumed:21.56s\n",
      "\n",
      "EarlyStopping counter: 18 out of 150\n"
     ]
    },
    {
     "name": "stderr",
     "output_type": "stream",
     "text": [
      " 48%|████▊     | 119/250 [2:07:13<2:23:25, 65.69s/it]"
     ]
    },
    {
     "name": "stdout",
     "output_type": "stream",
     "text": [
      "Batch [30/391], Loss: 0.1767\n",
      "Batch [60/391], Loss: 0.1519\n",
      "Batch [90/391], Loss: 0.1940\n",
      "Batch [120/391], Loss: 0.1887\n",
      "Batch [150/391], Loss: 0.1729\n",
      "Batch [180/391], Loss: 0.2300\n",
      "Batch [210/391], Loss: 0.2442\n",
      "Batch [240/391], Loss: 0.2302\n",
      "Batch [270/391], Loss: 0.2653\n",
      "Batch [300/391], Loss: 0.2574\n",
      "Batch [330/391], Loss: 0.1685\n",
      "Batch [360/391], Loss: 0.1865\n",
      "Batch [390/391], Loss: 0.2947\n",
      "Train set: Epoch: 120, Average loss:0.1985, LR: 0.020000 Top-1 Accuracy: 0.9419, Top-5 Accuracy: 0.9984, SuperClass Accuracy: 0.9666, Time consumed:49.70s\n",
      "Test set: Epoch: 120, Average loss:0.0106, Top-1 Accuracy: 0.6904, Top-5 Accuracy: 0.9055, SuperClass Accuracy: 0.7923, Time consumed:14.68s\n",
      "\n",
      "EarlyStopping counter: 19 out of 150\n"
     ]
    },
    {
     "name": "stderr",
     "output_type": "stream",
     "text": [
      " 48%|████▊     | 120/250 [2:08:17<2:21:28, 65.30s/it]"
     ]
    },
    {
     "name": "stdout",
     "output_type": "stream",
     "text": [
      "Batch [30/391], Loss: 0.1847\n",
      "Batch [60/391], Loss: 0.2204\n",
      "Batch [90/391], Loss: 0.1551\n",
      "Batch [120/391], Loss: 0.2104\n",
      "Batch [150/391], Loss: 0.1754\n",
      "Batch [180/391], Loss: 0.1753\n",
      "Batch [210/391], Loss: 0.1993\n",
      "Batch [240/391], Loss: 0.2042\n",
      "Batch [270/391], Loss: 0.1671\n",
      "Batch [300/391], Loss: 0.2784\n",
      "Batch [330/391], Loss: 0.3535\n",
      "Batch [360/391], Loss: 0.1835\n",
      "Batch [390/391], Loss: 0.3188\n",
      "Train set: Epoch: 121, Average loss:0.2111, LR: 0.020000 Top-1 Accuracy: 0.9362, Top-5 Accuracy: 0.9982, SuperClass Accuracy: 0.9633, Time consumed:47.70s\n",
      "Test set: Epoch: 121, Average loss:0.0094, Top-1 Accuracy: 0.7054, Top-5 Accuracy: 0.9163, SuperClass Accuracy: 0.8120, Time consumed:15.02s\n",
      "\n",
      "EarlyStopping counter: 20 out of 150\n"
     ]
    },
    {
     "name": "stderr",
     "output_type": "stream",
     "text": [
      " 48%|████▊     | 121/250 [2:09:20<2:18:44, 64.53s/it]"
     ]
    },
    {
     "name": "stdout",
     "output_type": "stream",
     "text": [
      "Batch [30/391], Loss: 0.2173\n",
      "Batch [60/391], Loss: 0.2527\n",
      "Batch [90/391], Loss: 0.1827\n",
      "Batch [120/391], Loss: 0.1794\n",
      "Batch [150/391], Loss: 0.1997\n",
      "Batch [180/391], Loss: 0.1363\n",
      "Batch [210/391], Loss: 0.2387\n",
      "Batch [240/391], Loss: 0.1962\n",
      "Batch [270/391], Loss: 0.1590\n",
      "Batch [300/391], Loss: 0.3229\n",
      "Batch [330/391], Loss: 0.2704\n",
      "Batch [360/391], Loss: 0.2261\n",
      "Batch [390/391], Loss: 0.1326\n",
      "Train set: Epoch: 122, Average loss:0.2047, LR: 0.020000 Top-1 Accuracy: 0.9400, Top-5 Accuracy: 0.9983, SuperClass Accuracy: 0.9652, Time consumed:48.22s\n",
      "Test set: Epoch: 122, Average loss:0.0094, Top-1 Accuracy: 0.7054, Top-5 Accuracy: 0.9176, SuperClass Accuracy: 0.8071, Time consumed:14.80s\n",
      "\n",
      "EarlyStopping counter: 21 out of 150\n"
     ]
    },
    {
     "name": "stderr",
     "output_type": "stream",
     "text": [
      " 49%|████▉     | 122/250 [2:10:23<2:16:41, 64.08s/it]"
     ]
    },
    {
     "name": "stdout",
     "output_type": "stream",
     "text": [
      "Batch [30/391], Loss: 0.2335\n",
      "Batch [60/391], Loss: 0.1923\n",
      "Batch [90/391], Loss: 0.2051\n",
      "Batch [120/391], Loss: 0.2532\n",
      "Batch [150/391], Loss: 0.1762\n",
      "Batch [180/391], Loss: 0.2277\n",
      "Batch [210/391], Loss: 0.2651\n",
      "Batch [240/391], Loss: 0.1747\n",
      "Batch [270/391], Loss: 0.2031\n",
      "Batch [300/391], Loss: 0.2692\n",
      "Batch [330/391], Loss: 0.2611\n",
      "Batch [360/391], Loss: 0.3091\n",
      "Batch [390/391], Loss: 0.2193\n",
      "Train set: Epoch: 123, Average loss:0.1999, LR: 0.020000 Top-1 Accuracy: 0.9419, Top-5 Accuracy: 0.9987, SuperClass Accuracy: 0.9660, Time consumed:48.50s\n",
      "Test set: Epoch: 123, Average loss:0.0100, Top-1 Accuracy: 0.6954, Top-5 Accuracy: 0.9099, SuperClass Accuracy: 0.7975, Time consumed:15.04s\n",
      "\n",
      "EarlyStopping counter: 22 out of 150\n"
     ]
    },
    {
     "name": "stderr",
     "output_type": "stream",
     "text": [
      " 49%|████▉     | 123/250 [2:11:27<2:15:17, 63.92s/it]"
     ]
    },
    {
     "name": "stdout",
     "output_type": "stream",
     "text": [
      "Batch [30/391], Loss: 0.1080\n",
      "Batch [60/391], Loss: 0.1658\n",
      "Batch [90/391], Loss: 0.0952\n",
      "Batch [120/391], Loss: 0.1132\n",
      "Batch [150/391], Loss: 0.1932\n",
      "Batch [180/391], Loss: 0.1789\n",
      "Batch [210/391], Loss: 0.2227\n",
      "Batch [240/391], Loss: 0.1553\n",
      "Batch [270/391], Loss: 0.2032\n",
      "Batch [300/391], Loss: 0.2010\n",
      "Batch [330/391], Loss: 0.2038\n",
      "Batch [360/391], Loss: 0.2434\n",
      "Batch [390/391], Loss: 0.2751\n",
      "Train set: Epoch: 124, Average loss:0.2027, LR: 0.020000 Top-1 Accuracy: 0.9395, Top-5 Accuracy: 0.9985, SuperClass Accuracy: 0.9647, Time consumed:48.39s\n",
      "Test set: Epoch: 124, Average loss:0.0100, Top-1 Accuracy: 0.6989, Top-5 Accuracy: 0.9115, SuperClass Accuracy: 0.8025, Time consumed:15.20s\n",
      "\n",
      "EarlyStopping counter: 23 out of 150\n"
     ]
    },
    {
     "name": "stderr",
     "output_type": "stream",
     "text": [
      " 50%|████▉     | 124/250 [2:12:30<2:14:01, 63.82s/it]"
     ]
    },
    {
     "name": "stdout",
     "output_type": "stream",
     "text": [
      "Batch [30/391], Loss: 0.1778\n",
      "Batch [60/391], Loss: 0.2175\n",
      "Batch [90/391], Loss: 0.1676\n",
      "Batch [120/391], Loss: 0.1842\n",
      "Batch [150/391], Loss: 0.1322\n",
      "Batch [180/391], Loss: 0.2860\n",
      "Batch [210/391], Loss: 0.2047\n",
      "Batch [240/391], Loss: 0.2529\n",
      "Batch [270/391], Loss: 0.1320\n",
      "Batch [300/391], Loss: 0.2855\n",
      "Batch [330/391], Loss: 0.2939\n",
      "Batch [360/391], Loss: 0.3134\n",
      "Batch [390/391], Loss: 0.2905\n",
      "Train set: Epoch: 125, Average loss:0.2030, LR: 0.020000 Top-1 Accuracy: 0.9400, Top-5 Accuracy: 0.9981, SuperClass Accuracy: 0.9638, Time consumed:48.68s\n",
      "Test set: Epoch: 125, Average loss:0.0101, Top-1 Accuracy: 0.7020, Top-5 Accuracy: 0.9076, SuperClass Accuracy: 0.8001, Time consumed:21.33s\n",
      "\n",
      "EarlyStopping counter: 24 out of 150\n"
     ]
    },
    {
     "name": "stderr",
     "output_type": "stream",
     "text": [
      " 50%|█████     | 125/250 [2:13:40<2:16:50, 65.68s/it]"
     ]
    },
    {
     "name": "stdout",
     "output_type": "stream",
     "text": [
      "Batch [30/391], Loss: 0.2492\n",
      "Batch [60/391], Loss: 0.1100\n",
      "Batch [90/391], Loss: 0.2855\n",
      "Batch [120/391], Loss: 0.2010\n",
      "Batch [150/391], Loss: 0.2552\n",
      "Batch [180/391], Loss: 0.3332\n",
      "Batch [210/391], Loss: 0.2078\n",
      "Batch [240/391], Loss: 0.1658\n",
      "Batch [270/391], Loss: 0.1950\n",
      "Batch [300/391], Loss: 0.1749\n",
      "Batch [330/391], Loss: 0.1911\n",
      "Batch [360/391], Loss: 0.2191\n",
      "Batch [390/391], Loss: 0.3135\n",
      "Train set: Epoch: 126, Average loss:0.2162, LR: 0.020000 Top-1 Accuracy: 0.9353, Top-5 Accuracy: 0.9983, SuperClass Accuracy: 0.9618, Time consumed:50.03s\n",
      "Test set: Epoch: 126, Average loss:0.0100, Top-1 Accuracy: 0.6942, Top-5 Accuracy: 0.9094, SuperClass Accuracy: 0.7953, Time consumed:14.70s\n",
      "\n",
      "EarlyStopping counter: 25 out of 150\n"
     ]
    },
    {
     "name": "stderr",
     "output_type": "stream",
     "text": [
      " 50%|█████     | 126/250 [2:14:45<2:15:09, 65.40s/it]"
     ]
    },
    {
     "name": "stdout",
     "output_type": "stream",
     "text": [
      "Batch [30/391], Loss: 0.1753\n",
      "Batch [60/391], Loss: 0.1630\n",
      "Batch [90/391], Loss: 0.1732\n",
      "Batch [120/391], Loss: 0.1519\n",
      "Batch [150/391], Loss: 0.1841\n",
      "Batch [180/391], Loss: 0.1853\n",
      "Batch [210/391], Loss: 0.3055\n",
      "Batch [240/391], Loss: 0.2488\n",
      "Batch [270/391], Loss: 0.1338\n",
      "Batch [300/391], Loss: 0.2647\n",
      "Batch [330/391], Loss: 0.2364\n",
      "Batch [360/391], Loss: 0.2945\n",
      "Batch [390/391], Loss: 0.2755\n",
      "Train set: Epoch: 127, Average loss:0.1982, LR: 0.020000 Top-1 Accuracy: 0.9416, Top-5 Accuracy: 0.9985, SuperClass Accuracy: 0.9658, Time consumed:48.04s\n",
      "Test set: Epoch: 127, Average loss:0.0103, Top-1 Accuracy: 0.6910, Top-5 Accuracy: 0.9063, SuperClass Accuracy: 0.7907, Time consumed:15.09s\n",
      "\n",
      "EarlyStopping counter: 26 out of 150\n"
     ]
    },
    {
     "name": "stderr",
     "output_type": "stream",
     "text": [
      " 51%|█████     | 127/250 [2:15:48<2:12:40, 64.72s/it]"
     ]
    },
    {
     "name": "stdout",
     "output_type": "stream",
     "text": [
      "Batch [30/391], Loss: 0.2635\n",
      "Batch [60/391], Loss: 0.2937\n",
      "Batch [90/391], Loss: 0.1497\n",
      "Batch [120/391], Loss: 0.2022\n",
      "Batch [150/391], Loss: 0.2127\n",
      "Batch [180/391], Loss: 0.1589\n",
      "Batch [210/391], Loss: 0.1830\n",
      "Batch [240/391], Loss: 0.0895\n",
      "Batch [270/391], Loss: 0.1770\n",
      "Batch [300/391], Loss: 0.1432\n",
      "Batch [330/391], Loss: 0.1346\n",
      "Batch [360/391], Loss: 0.2337\n",
      "Batch [390/391], Loss: 0.2927\n",
      "Train set: Epoch: 128, Average loss:0.1984, LR: 0.020000 Top-1 Accuracy: 0.9412, Top-5 Accuracy: 0.9984, SuperClass Accuracy: 0.9654, Time consumed:48.39s\n",
      "Test set: Epoch: 128, Average loss:0.0102, Top-1 Accuracy: 0.6966, Top-5 Accuracy: 0.9062, SuperClass Accuracy: 0.8004, Time consumed:15.00s\n",
      "\n",
      "EarlyStopping counter: 27 out of 150\n"
     ]
    },
    {
     "name": "stderr",
     "output_type": "stream",
     "text": [
      " 51%|█████     | 128/250 [2:16:52<2:10:47, 64.33s/it]"
     ]
    },
    {
     "name": "stdout",
     "output_type": "stream",
     "text": [
      "Batch [30/391], Loss: 0.1299\n",
      "Batch [60/391], Loss: 0.0814\n",
      "Batch [90/391], Loss: 0.1577\n",
      "Batch [120/391], Loss: 0.2359\n",
      "Batch [150/391], Loss: 0.2395\n",
      "Batch [180/391], Loss: 0.2337\n",
      "Batch [210/391], Loss: 0.1729\n",
      "Batch [240/391], Loss: 0.1880\n",
      "Batch [270/391], Loss: 0.1341\n",
      "Batch [300/391], Loss: 0.2099\n",
      "Batch [330/391], Loss: 0.2283\n",
      "Batch [360/391], Loss: 0.3068\n",
      "Batch [390/391], Loss: 0.2076\n",
      "Train set: Epoch: 129, Average loss:0.1915, LR: 0.020000 Top-1 Accuracy: 0.9438, Top-5 Accuracy: 0.9988, SuperClass Accuracy: 0.9669, Time consumed:48.88s\n",
      "Test set: Epoch: 129, Average loss:0.0099, Top-1 Accuracy: 0.7011, Top-5 Accuracy: 0.9118, SuperClass Accuracy: 0.8004, Time consumed:14.91s\n",
      "\n",
      "EarlyStopping counter: 28 out of 150\n"
     ]
    },
    {
     "name": "stderr",
     "output_type": "stream",
     "text": [
      " 52%|█████▏    | 129/250 [2:17:55<2:09:24, 64.17s/it]"
     ]
    },
    {
     "name": "stdout",
     "output_type": "stream",
     "text": [
      "Batch [30/391], Loss: 0.1946\n",
      "Batch [60/391], Loss: 0.1156\n",
      "Batch [90/391], Loss: 0.1061\n",
      "Batch [120/391], Loss: 0.2234\n",
      "Batch [150/391], Loss: 0.2822\n",
      "Batch [180/391], Loss: 0.1844\n",
      "Batch [210/391], Loss: 0.1719\n",
      "Batch [240/391], Loss: 0.1553\n",
      "Batch [270/391], Loss: 0.2333\n",
      "Batch [300/391], Loss: 0.2865\n",
      "Batch [330/391], Loss: 0.2476\n",
      "Batch [360/391], Loss: 0.3419\n",
      "Batch [390/391], Loss: 0.1756\n",
      "Train set: Epoch: 130, Average loss:0.1990, LR: 0.020000 Top-1 Accuracy: 0.9421, Top-5 Accuracy: 0.9981, SuperClass Accuracy: 0.9651, Time consumed:48.57s\n",
      "Test set: Epoch: 130, Average loss:0.0102, Top-1 Accuracy: 0.6956, Top-5 Accuracy: 0.9076, SuperClass Accuracy: 0.7957, Time consumed:21.62s\n",
      "\n",
      "EarlyStopping counter: 29 out of 150\n"
     ]
    },
    {
     "name": "stderr",
     "output_type": "stream",
     "text": [
      " 52%|█████▏    | 130/250 [2:19:06<2:11:57, 65.98s/it]"
     ]
    },
    {
     "name": "stdout",
     "output_type": "stream",
     "text": [
      "Batch [30/391], Loss: 0.1302\n",
      "Batch [60/391], Loss: 0.1248\n",
      "Batch [90/391], Loss: 0.1894\n",
      "Batch [120/391], Loss: 0.1420\n",
      "Batch [150/391], Loss: 0.1804\n",
      "Batch [180/391], Loss: 0.1754\n",
      "Batch [210/391], Loss: 0.1779\n",
      "Batch [240/391], Loss: 0.1921\n",
      "Batch [270/391], Loss: 0.2642\n",
      "Batch [300/391], Loss: 0.1193\n",
      "Batch [330/391], Loss: 0.2261\n",
      "Batch [360/391], Loss: 0.3679\n",
      "Batch [390/391], Loss: 0.4266\n",
      "Train set: Epoch: 131, Average loss:0.1914, LR: 0.020000 Top-1 Accuracy: 0.9439, Top-5 Accuracy: 0.9988, SuperClass Accuracy: 0.9673, Time consumed:50.24s\n",
      "Test set: Epoch: 131, Average loss:0.0102, Top-1 Accuracy: 0.6922, Top-5 Accuracy: 0.9056, SuperClass Accuracy: 0.7965, Time consumed:14.66s\n",
      "\n",
      "EarlyStopping counter: 30 out of 150\n"
     ]
    },
    {
     "name": "stderr",
     "output_type": "stream",
     "text": [
      " 52%|█████▏    | 131/250 [2:20:11<2:10:13, 65.66s/it]"
     ]
    },
    {
     "name": "stdout",
     "output_type": "stream",
     "text": [
      "Batch [30/391], Loss: 0.1925\n",
      "Batch [60/391], Loss: 0.1297\n",
      "Batch [90/391], Loss: 0.1407\n",
      "Batch [120/391], Loss: 0.2629\n",
      "Batch [150/391], Loss: 0.1519\n",
      "Batch [180/391], Loss: 0.1493\n",
      "Batch [210/391], Loss: 0.2128\n",
      "Batch [240/391], Loss: 0.1293\n",
      "Batch [270/391], Loss: 0.1902\n",
      "Batch [300/391], Loss: 0.2402\n",
      "Batch [330/391], Loss: 0.2132\n",
      "Batch [360/391], Loss: 0.2975\n",
      "Batch [390/391], Loss: 0.1763\n",
      "Train set: Epoch: 132, Average loss:0.1885, LR: 0.020000 Top-1 Accuracy: 0.9453, Top-5 Accuracy: 0.9986, SuperClass Accuracy: 0.9677, Time consumed:48.25s\n",
      "Test set: Epoch: 132, Average loss:0.0102, Top-1 Accuracy: 0.6953, Top-5 Accuracy: 0.9117, SuperClass Accuracy: 0.8004, Time consumed:14.73s\n",
      "\n",
      "EarlyStopping counter: 31 out of 150\n"
     ]
    },
    {
     "name": "stderr",
     "output_type": "stream",
     "text": [
      " 53%|█████▎    | 132/250 [2:21:14<2:07:32, 64.86s/it]"
     ]
    },
    {
     "name": "stdout",
     "output_type": "stream",
     "text": [
      "Batch [30/391], Loss: 0.1707\n",
      "Batch [60/391], Loss: 0.3199\n",
      "Batch [90/391], Loss: 0.2127\n",
      "Batch [120/391], Loss: 0.1673\n",
      "Batch [150/391], Loss: 0.2004\n",
      "Batch [180/391], Loss: 0.1315\n",
      "Batch [210/391], Loss: 0.1445\n",
      "Batch [240/391], Loss: 0.1934\n",
      "Batch [270/391], Loss: 0.2663\n",
      "Batch [300/391], Loss: 0.1590\n",
      "Batch [330/391], Loss: 0.2399\n",
      "Batch [360/391], Loss: 0.1535\n",
      "Batch [390/391], Loss: 0.3944\n",
      "Train set: Epoch: 133, Average loss:0.1949, LR: 0.020000 Top-1 Accuracy: 0.9418, Top-5 Accuracy: 0.9982, SuperClass Accuracy: 0.9651, Time consumed:48.81s\n",
      "Test set: Epoch: 133, Average loss:0.0104, Top-1 Accuracy: 0.6933, Top-5 Accuracy: 0.9080, SuperClass Accuracy: 0.8010, Time consumed:17.61s\n",
      "\n",
      "EarlyStopping counter: 32 out of 150\n"
     ]
    },
    {
     "name": "stderr",
     "output_type": "stream",
     "text": [
      " 53%|█████▎    | 133/250 [2:22:20<2:07:23, 65.33s/it]"
     ]
    },
    {
     "name": "stdout",
     "output_type": "stream",
     "text": [
      "Batch [30/391], Loss: 0.1090\n",
      "Batch [60/391], Loss: 0.2729\n",
      "Batch [90/391], Loss: 0.1713\n",
      "Batch [120/391], Loss: 0.2089\n",
      "Batch [150/391], Loss: 0.1489\n",
      "Batch [180/391], Loss: 0.1766\n",
      "Batch [210/391], Loss: 0.1261\n",
      "Batch [240/391], Loss: 0.1251\n",
      "Batch [270/391], Loss: 0.2199\n",
      "Batch [300/391], Loss: 0.1565\n",
      "Batch [330/391], Loss: 0.2037\n",
      "Batch [360/391], Loss: 0.2514\n",
      "Batch [390/391], Loss: 0.3390\n",
      "Train set: Epoch: 134, Average loss:0.1840, LR: 0.020000 Top-1 Accuracy: 0.9463, Top-5 Accuracy: 0.9982, SuperClass Accuracy: 0.9683, Time consumed:53.77s\n",
      "Test set: Epoch: 134, Average loss:0.0102, Top-1 Accuracy: 0.6986, Top-5 Accuracy: 0.9133, SuperClass Accuracy: 0.8055, Time consumed:14.74s\n",
      "\n",
      "EarlyStopping counter: 33 out of 150\n"
     ]
    },
    {
     "name": "stderr",
     "output_type": "stream",
     "text": [
      " 54%|█████▎    | 134/250 [2:23:28<2:08:09, 66.29s/it]"
     ]
    },
    {
     "name": "stdout",
     "output_type": "stream",
     "text": [
      "Batch [30/391], Loss: 0.1593\n",
      "Batch [60/391], Loss: 0.1544\n",
      "Batch [90/391], Loss: 0.1995\n",
      "Batch [120/391], Loss: 0.1174\n",
      "Batch [150/391], Loss: 0.1310\n",
      "Batch [180/391], Loss: 0.2693\n",
      "Batch [210/391], Loss: 0.1753\n",
      "Batch [240/391], Loss: 0.1842\n",
      "Batch [270/391], Loss: 0.1758\n",
      "Batch [300/391], Loss: 0.2527\n",
      "Batch [330/391], Loss: 0.2355\n",
      "Batch [360/391], Loss: 0.2084\n",
      "Batch [390/391], Loss: 0.1556\n",
      "Train set: Epoch: 135, Average loss:0.1808, LR: 0.020000 Top-1 Accuracy: 0.9469, Top-5 Accuracy: 0.9987, SuperClass Accuracy: 0.9684, Time consumed:47.83s\n",
      "Test set: Epoch: 135, Average loss:0.0106, Top-1 Accuracy: 0.6892, Top-5 Accuracy: 0.9052, SuperClass Accuracy: 0.7913, Time consumed:14.97s\n",
      "\n",
      "EarlyStopping counter: 34 out of 150\n"
     ]
    },
    {
     "name": "stderr",
     "output_type": "stream",
     "text": [
      " 54%|█████▍    | 135/250 [2:24:31<2:05:02, 65.24s/it]"
     ]
    },
    {
     "name": "stdout",
     "output_type": "stream",
     "text": [
      "Batch [30/391], Loss: 0.1628\n",
      "Batch [60/391], Loss: 0.2006\n",
      "Batch [90/391], Loss: 0.1797\n",
      "Batch [120/391], Loss: 0.2241\n",
      "Batch [150/391], Loss: 0.1321\n",
      "Batch [180/391], Loss: 0.1616\n",
      "Batch [210/391], Loss: 0.1967\n",
      "Batch [240/391], Loss: 0.1448\n",
      "Batch [270/391], Loss: 0.2923\n",
      "Batch [300/391], Loss: 0.1474\n",
      "Batch [330/391], Loss: 0.1374\n",
      "Batch [360/391], Loss: 0.1754\n",
      "Batch [390/391], Loss: 0.2397\n",
      "Train set: Epoch: 136, Average loss:0.1942, LR: 0.020000 Top-1 Accuracy: 0.9427, Top-5 Accuracy: 0.9984, SuperClass Accuracy: 0.9663, Time consumed:48.28s\n",
      "Test set: Epoch: 136, Average loss:0.0104, Top-1 Accuracy: 0.6948, Top-5 Accuracy: 0.9050, SuperClass Accuracy: 0.7977, Time consumed:14.89s\n",
      "\n",
      "EarlyStopping counter: 35 out of 150\n"
     ]
    },
    {
     "name": "stderr",
     "output_type": "stream",
     "text": [
      " 54%|█████▍    | 136/250 [2:25:34<2:02:46, 64.62s/it]"
     ]
    },
    {
     "name": "stdout",
     "output_type": "stream",
     "text": [
      "Batch [30/391], Loss: 0.2367\n",
      "Batch [60/391], Loss: 0.2222\n",
      "Batch [90/391], Loss: 0.1620\n",
      "Batch [120/391], Loss: 0.1457\n",
      "Batch [150/391], Loss: 0.1888\n",
      "Batch [180/391], Loss: 0.2607\n",
      "Batch [210/391], Loss: 0.1554\n",
      "Batch [240/391], Loss: 0.2427\n",
      "Batch [270/391], Loss: 0.1680\n",
      "Batch [300/391], Loss: 0.1172\n",
      "Batch [330/391], Loss: 0.1459\n",
      "Batch [360/391], Loss: 0.1782\n",
      "Batch [390/391], Loss: 0.3267\n",
      "Train set: Epoch: 137, Average loss:0.1813, LR: 0.020000 Top-1 Accuracy: 0.9469, Top-5 Accuracy: 0.9987, SuperClass Accuracy: 0.9685, Time consumed:48.51s\n",
      "Test set: Epoch: 137, Average loss:0.0099, Top-1 Accuracy: 0.6988, Top-5 Accuracy: 0.9097, SuperClass Accuracy: 0.8005, Time consumed:15.25s\n",
      "\n",
      "EarlyStopping counter: 36 out of 150\n"
     ]
    },
    {
     "name": "stderr",
     "output_type": "stream",
     "text": [
      " 55%|█████▍    | 137/250 [2:26:38<2:01:13, 64.37s/it]"
     ]
    },
    {
     "name": "stdout",
     "output_type": "stream",
     "text": [
      "Batch [30/391], Loss: 0.1610\n",
      "Batch [60/391], Loss: 0.2505\n",
      "Batch [90/391], Loss: 0.1772\n",
      "Batch [120/391], Loss: 0.1875\n",
      "Batch [150/391], Loss: 0.2005\n",
      "Batch [180/391], Loss: 0.1205\n",
      "Batch [210/391], Loss: 0.1855\n",
      "Batch [240/391], Loss: 0.2523\n",
      "Batch [270/391], Loss: 0.2349\n",
      "Batch [300/391], Loss: 0.1919\n",
      "Batch [330/391], Loss: 0.1554\n",
      "Batch [360/391], Loss: 0.2009\n",
      "Batch [390/391], Loss: 0.2627\n",
      "Train set: Epoch: 138, Average loss:0.1956, LR: 0.020000 Top-1 Accuracy: 0.9417, Top-5 Accuracy: 0.9985, SuperClass Accuracy: 0.9654, Time consumed:48.68s\n",
      "Test set: Epoch: 138, Average loss:0.0101, Top-1 Accuracy: 0.6952, Top-5 Accuracy: 0.9053, SuperClass Accuracy: 0.7976, Time consumed:15.10s\n",
      "\n",
      "EarlyStopping counter: 37 out of 150\n"
     ]
    },
    {
     "name": "stderr",
     "output_type": "stream",
     "text": [
      " 55%|█████▌    | 138/250 [2:27:42<1:59:49, 64.20s/it]"
     ]
    },
    {
     "name": "stdout",
     "output_type": "stream",
     "text": [
      "Batch [30/391], Loss: 0.1398\n",
      "Batch [60/391], Loss: 0.2092\n",
      "Batch [90/391], Loss: 0.1394\n",
      "Batch [120/391], Loss: 0.1530\n",
      "Batch [150/391], Loss: 0.1095\n",
      "Batch [180/391], Loss: 0.1945\n",
      "Batch [210/391], Loss: 0.2030\n",
      "Batch [240/391], Loss: 0.2289\n",
      "Batch [270/391], Loss: 0.1543\n",
      "Batch [300/391], Loss: 0.2243\n",
      "Batch [330/391], Loss: 0.2088\n",
      "Batch [360/391], Loss: 0.1947\n",
      "Batch [390/391], Loss: 0.2568\n",
      "Train set: Epoch: 139, Average loss:0.1841, LR: 0.020000 Top-1 Accuracy: 0.9462, Top-5 Accuracy: 0.9985, SuperClass Accuracy: 0.9672, Time consumed:48.59s\n",
      "Test set: Epoch: 139, Average loss:0.0106, Top-1 Accuracy: 0.6936, Top-5 Accuracy: 0.9057, SuperClass Accuracy: 0.7994, Time consumed:14.96s\n",
      "\n",
      "EarlyStopping counter: 38 out of 150\n"
     ]
    },
    {
     "name": "stderr",
     "output_type": "stream",
     "text": [
      " 56%|█████▌    | 139/250 [2:28:46<1:58:24, 64.00s/it]"
     ]
    },
    {
     "name": "stdout",
     "output_type": "stream",
     "text": [
      "Batch [30/391], Loss: 0.2779\n",
      "Batch [60/391], Loss: 0.1395\n",
      "Batch [90/391], Loss: 0.2149\n",
      "Batch [120/391], Loss: 0.1616\n",
      "Batch [150/391], Loss: 0.1594\n",
      "Batch [180/391], Loss: 0.1575\n",
      "Batch [210/391], Loss: 0.1084\n",
      "Batch [240/391], Loss: 0.1167\n",
      "Batch [270/391], Loss: 0.1696\n",
      "Batch [300/391], Loss: 0.1330\n",
      "Batch [330/391], Loss: 0.1855\n",
      "Batch [360/391], Loss: 0.1867\n",
      "Batch [390/391], Loss: 0.1989\n",
      "Train set: Epoch: 140, Average loss:0.1825, LR: 0.020000 Top-1 Accuracy: 0.9479, Top-5 Accuracy: 0.9984, SuperClass Accuracy: 0.9679, Time consumed:48.97s\n",
      "Test set: Epoch: 140, Average loss:0.0098, Top-1 Accuracy: 0.7064, Top-5 Accuracy: 0.9115, SuperClass Accuracy: 0.8066, Time consumed:21.66s\n",
      "\n",
      "EarlyStopping counter: 39 out of 150\n"
     ]
    },
    {
     "name": "stderr",
     "output_type": "stream",
     "text": [
      " 56%|█████▌    | 140/250 [2:29:56<2:00:59, 66.00s/it]"
     ]
    },
    {
     "name": "stdout",
     "output_type": "stream",
     "text": [
      "Batch [30/391], Loss: 0.1347\n",
      "Batch [60/391], Loss: 0.1409\n",
      "Batch [90/391], Loss: 0.1345\n",
      "Batch [120/391], Loss: 0.1353\n",
      "Batch [150/391], Loss: 0.1399\n",
      "Batch [180/391], Loss: 0.1848\n",
      "Batch [210/391], Loss: 0.2639\n",
      "Batch [240/391], Loss: 0.1398\n",
      "Batch [270/391], Loss: 0.2509\n",
      "Batch [300/391], Loss: 0.1627\n",
      "Batch [330/391], Loss: 0.2694\n",
      "Batch [360/391], Loss: 0.1752\n",
      "Batch [390/391], Loss: 0.2327\n",
      "Train set: Epoch: 141, Average loss:0.1792, LR: 0.020000 Top-1 Accuracy: 0.9479, Top-5 Accuracy: 0.9987, SuperClass Accuracy: 0.9690, Time consumed:50.00s\n",
      "Test set: Epoch: 141, Average loss:0.0105, Top-1 Accuracy: 0.6915, Top-5 Accuracy: 0.9028, SuperClass Accuracy: 0.7951, Time consumed:14.87s\n",
      "\n",
      "EarlyStopping counter: 40 out of 150\n"
     ]
    },
    {
     "name": "stderr",
     "output_type": "stream",
     "text": [
      " 56%|█████▋    | 141/250 [2:31:01<1:59:17, 65.66s/it]"
     ]
    },
    {
     "name": "stdout",
     "output_type": "stream",
     "text": [
      "Batch [30/391], Loss: 0.1770\n",
      "Batch [60/391], Loss: 0.1371\n",
      "Batch [90/391], Loss: 0.1099\n",
      "Batch [120/391], Loss: 0.2015\n",
      "Batch [150/391], Loss: 0.3300\n",
      "Batch [180/391], Loss: 0.1046\n",
      "Batch [210/391], Loss: 0.2298\n",
      "Batch [240/391], Loss: 0.1559\n",
      "Batch [270/391], Loss: 0.1905\n",
      "Batch [300/391], Loss: 0.1509\n",
      "Batch [330/391], Loss: 0.2555\n",
      "Batch [360/391], Loss: 0.1968\n",
      "Batch [390/391], Loss: 0.1373\n",
      "Train set: Epoch: 142, Average loss:0.1780, LR: 0.020000 Top-1 Accuracy: 0.9489, Top-5 Accuracy: 0.9987, SuperClass Accuracy: 0.9694, Time consumed:48.34s\n",
      "Test set: Epoch: 142, Average loss:0.0106, Top-1 Accuracy: 0.6869, Top-5 Accuracy: 0.9073, SuperClass Accuracy: 0.7903, Time consumed:14.65s\n",
      "\n",
      "EarlyStopping counter: 41 out of 150\n"
     ]
    },
    {
     "name": "stderr",
     "output_type": "stream",
     "text": [
      " 57%|█████▋    | 142/250 [2:32:04<1:56:45, 64.86s/it]"
     ]
    },
    {
     "name": "stdout",
     "output_type": "stream",
     "text": [
      "Batch [30/391], Loss: 0.1546\n",
      "Batch [60/391], Loss: 0.1738\n",
      "Batch [90/391], Loss: 0.1296\n",
      "Batch [120/391], Loss: 0.1409\n",
      "Batch [150/391], Loss: 0.1614\n",
      "Batch [180/391], Loss: 0.2040\n",
      "Batch [210/391], Loss: 0.2172\n",
      "Batch [240/391], Loss: 0.1952\n",
      "Batch [270/391], Loss: 0.1349\n",
      "Batch [300/391], Loss: 0.2567\n",
      "Batch [330/391], Loss: 0.1351\n",
      "Batch [360/391], Loss: 0.1825\n",
      "Batch [390/391], Loss: 0.3245\n",
      "Train set: Epoch: 143, Average loss:0.1845, LR: 0.020000 Top-1 Accuracy: 0.9459, Top-5 Accuracy: 0.9987, SuperClass Accuracy: 0.9677, Time consumed:48.34s\n",
      "Test set: Epoch: 143, Average loss:0.0099, Top-1 Accuracy: 0.7017, Top-5 Accuracy: 0.9072, SuperClass Accuracy: 0.8002, Time consumed:21.89s\n",
      "\n",
      "EarlyStopping counter: 42 out of 150\n"
     ]
    },
    {
     "name": "stderr",
     "output_type": "stream",
     "text": [
      " 57%|█████▋    | 143/250 [2:33:14<1:58:32, 66.47s/it]"
     ]
    },
    {
     "name": "stdout",
     "output_type": "stream",
     "text": [
      "Batch [30/391], Loss: 0.1763\n",
      "Batch [60/391], Loss: 0.1770\n",
      "Batch [90/391], Loss: 0.1767\n",
      "Batch [120/391], Loss: 0.1361\n",
      "Batch [150/391], Loss: 0.0987\n",
      "Batch [180/391], Loss: 0.0973\n",
      "Batch [210/391], Loss: 0.1946\n",
      "Batch [240/391], Loss: 0.1723\n",
      "Batch [270/391], Loss: 0.2174\n",
      "Batch [300/391], Loss: 0.1984\n",
      "Batch [330/391], Loss: 0.2245\n",
      "Batch [360/391], Loss: 0.1723\n",
      "Batch [390/391], Loss: 0.1818\n",
      "Train set: Epoch: 144, Average loss:0.1827, LR: 0.020000 Top-1 Accuracy: 0.9459, Top-5 Accuracy: 0.9985, SuperClass Accuracy: 0.9679, Time consumed:49.57s\n",
      "Test set: Epoch: 144, Average loss:0.0100, Top-1 Accuracy: 0.7038, Top-5 Accuracy: 0.9082, SuperClass Accuracy: 0.8032, Time consumed:14.74s\n",
      "\n",
      "EarlyStopping counter: 43 out of 150\n"
     ]
    },
    {
     "name": "stderr",
     "output_type": "stream",
     "text": [
      " 58%|█████▊    | 144/250 [2:34:19<1:56:17, 65.83s/it]"
     ]
    },
    {
     "name": "stdout",
     "output_type": "stream",
     "text": [
      "Batch [30/391], Loss: 0.1717\n",
      "Batch [60/391], Loss: 0.1955\n",
      "Batch [90/391], Loss: 0.1910\n",
      "Batch [120/391], Loss: 0.1713\n",
      "Batch [150/391], Loss: 0.1992\n",
      "Batch [180/391], Loss: 0.1301\n",
      "Batch [210/391], Loss: 0.1446\n",
      "Batch [240/391], Loss: 0.1303\n",
      "Batch [270/391], Loss: 0.2047\n",
      "Batch [300/391], Loss: 0.1949\n",
      "Batch [330/391], Loss: 0.3199\n",
      "Batch [360/391], Loss: 0.1453\n",
      "Batch [390/391], Loss: 0.1613\n",
      "Train set: Epoch: 145, Average loss:0.1744, LR: 0.020000 Top-1 Accuracy: 0.9495, Top-5 Accuracy: 0.9987, SuperClass Accuracy: 0.9702, Time consumed:47.97s\n",
      "Test set: Epoch: 145, Average loss:0.0101, Top-1 Accuracy: 0.6999, Top-5 Accuracy: 0.9062, SuperClass Accuracy: 0.7967, Time consumed:15.31s\n",
      "\n",
      "EarlyStopping counter: 44 out of 150\n"
     ]
    },
    {
     "name": "stderr",
     "output_type": "stream",
     "text": [
      " 58%|█████▊    | 145/250 [2:35:22<1:53:51, 65.07s/it]"
     ]
    },
    {
     "name": "stdout",
     "output_type": "stream",
     "text": [
      "Batch [30/391], Loss: 0.1496\n",
      "Batch [60/391], Loss: 0.1787\n",
      "Batch [90/391], Loss: 0.1658\n",
      "Batch [120/391], Loss: 0.0819\n",
      "Batch [150/391], Loss: 0.1291\n",
      "Batch [180/391], Loss: 0.1570\n",
      "Batch [210/391], Loss: 0.1426\n",
      "Batch [240/391], Loss: 0.2097\n",
      "Batch [270/391], Loss: 0.2548\n",
      "Batch [300/391], Loss: 0.0949\n",
      "Batch [330/391], Loss: 0.2893\n",
      "Batch [360/391], Loss: 0.2077\n",
      "Batch [390/391], Loss: 0.2218\n",
      "Train set: Epoch: 146, Average loss:0.1816, LR: 0.020000 Top-1 Accuracy: 0.9471, Top-5 Accuracy: 0.9987, SuperClass Accuracy: 0.9688, Time consumed:48.57s\n",
      "Test set: Epoch: 146, Average loss:0.0104, Top-1 Accuracy: 0.6920, Top-5 Accuracy: 0.9045, SuperClass Accuracy: 0.7907, Time consumed:14.90s\n",
      "\n",
      "EarlyStopping counter: 45 out of 150\n"
     ]
    },
    {
     "name": "stderr",
     "output_type": "stream",
     "text": [
      " 58%|█████▊    | 146/250 [2:36:25<1:51:57, 64.59s/it]"
     ]
    },
    {
     "name": "stdout",
     "output_type": "stream",
     "text": [
      "Batch [30/391], Loss: 0.2146\n",
      "Batch [60/391], Loss: 0.2279\n",
      "Batch [90/391], Loss: 0.1289\n",
      "Batch [120/391], Loss: 0.2616\n",
      "Batch [150/391], Loss: 0.1156\n",
      "Batch [180/391], Loss: 0.2000\n",
      "Batch [210/391], Loss: 0.1385\n",
      "Batch [240/391], Loss: 0.1462\n",
      "Batch [270/391], Loss: 0.2800\n",
      "Batch [300/391], Loss: 0.1715\n",
      "Batch [330/391], Loss: 0.1149\n",
      "Batch [360/391], Loss: 0.1784\n",
      "Batch [390/391], Loss: 0.3276\n",
      "Train set: Epoch: 147, Average loss:0.1841, LR: 0.020000 Top-1 Accuracy: 0.9458, Top-5 Accuracy: 0.9986, SuperClass Accuracy: 0.9673, Time consumed:48.84s\n",
      "Test set: Epoch: 147, Average loss:0.0106, Top-1 Accuracy: 0.6934, Top-5 Accuracy: 0.9037, SuperClass Accuracy: 0.7961, Time consumed:15.12s\n",
      "\n",
      "EarlyStopping counter: 46 out of 150\n"
     ]
    },
    {
     "name": "stderr",
     "output_type": "stream",
     "text": [
      " 59%|█████▉    | 147/250 [2:37:29<1:50:33, 64.40s/it]"
     ]
    },
    {
     "name": "stdout",
     "output_type": "stream",
     "text": [
      "Batch [30/391], Loss: 0.2541\n",
      "Batch [60/391], Loss: 0.1480\n",
      "Batch [90/391], Loss: 0.2349\n",
      "Batch [120/391], Loss: 0.1294\n",
      "Batch [150/391], Loss: 0.1825\n",
      "Batch [180/391], Loss: 0.2678\n",
      "Batch [210/391], Loss: 0.1632\n",
      "Batch [240/391], Loss: 0.1427\n",
      "Batch [270/391], Loss: 0.2237\n",
      "Batch [300/391], Loss: 0.2295\n",
      "Batch [330/391], Loss: 0.2956\n",
      "Batch [360/391], Loss: 0.1803\n",
      "Batch [390/391], Loss: 0.2159\n",
      "Train set: Epoch: 148, Average loss:0.1725, LR: 0.020000 Top-1 Accuracy: 0.9510, Top-5 Accuracy: 0.9987, SuperClass Accuracy: 0.9704, Time consumed:48.80s\n",
      "Test set: Epoch: 148, Average loss:0.0104, Top-1 Accuracy: 0.6830, Top-5 Accuracy: 0.9005, SuperClass Accuracy: 0.7816, Time consumed:15.39s\n",
      "\n",
      "EarlyStopping counter: 47 out of 150\n"
     ]
    },
    {
     "name": "stderr",
     "output_type": "stream",
     "text": [
      " 59%|█████▉    | 148/250 [2:38:34<1:49:22, 64.34s/it]"
     ]
    },
    {
     "name": "stdout",
     "output_type": "stream",
     "text": [
      "Batch [30/391], Loss: 0.2064\n",
      "Batch [60/391], Loss: 0.1612\n",
      "Batch [90/391], Loss: 0.1766\n",
      "Batch [120/391], Loss: 0.3053\n",
      "Batch [150/391], Loss: 0.1987\n",
      "Batch [180/391], Loss: 0.1182\n",
      "Batch [210/391], Loss: 0.1466\n",
      "Batch [240/391], Loss: 0.1387\n",
      "Batch [270/391], Loss: 0.1710\n",
      "Batch [300/391], Loss: 0.3241\n",
      "Batch [330/391], Loss: 0.1371\n",
      "Batch [360/391], Loss: 0.2125\n",
      "Batch [390/391], Loss: 0.2497\n",
      "Train set: Epoch: 149, Average loss:0.1788, LR: 0.020000 Top-1 Accuracy: 0.9483, Top-5 Accuracy: 0.9987, SuperClass Accuracy: 0.9679, Time consumed:48.57s\n",
      "Test set: Epoch: 149, Average loss:0.0108, Top-1 Accuracy: 0.6800, Top-5 Accuracy: 0.8962, SuperClass Accuracy: 0.7865, Time consumed:15.01s\n",
      "\n",
      "EarlyStopping counter: 48 out of 150\n"
     ]
    },
    {
     "name": "stderr",
     "output_type": "stream",
     "text": [
      " 60%|█████▉    | 149/250 [2:39:37<1:47:55, 64.12s/it]"
     ]
    },
    {
     "name": "stdout",
     "output_type": "stream",
     "text": [
      "Batch [30/391], Loss: 0.1600\n",
      "Batch [60/391], Loss: 0.0677\n",
      "Batch [90/391], Loss: 0.1349\n",
      "Batch [120/391], Loss: 0.1213\n",
      "Batch [150/391], Loss: 0.1663\n",
      "Batch [180/391], Loss: 0.1957\n",
      "Batch [210/391], Loss: 0.1922\n",
      "Batch [240/391], Loss: 0.1696\n",
      "Batch [270/391], Loss: 0.1470\n",
      "Batch [300/391], Loss: 0.2333\n",
      "Batch [330/391], Loss: 0.2206\n",
      "Batch [360/391], Loss: 0.1461\n",
      "Batch [390/391], Loss: 0.2676\n",
      "Train set: Epoch: 150, Average loss:0.1854, LR: 0.020000 Top-1 Accuracy: 0.9456, Top-5 Accuracy: 0.9985, SuperClass Accuracy: 0.9669, Time consumed:48.48s\n",
      "Test set: Epoch: 150, Average loss:0.0103, Top-1 Accuracy: 0.6944, Top-5 Accuracy: 0.9043, SuperClass Accuracy: 0.7992, Time consumed:21.73s\n",
      "\n",
      "EarlyStopping counter: 49 out of 150\n"
     ]
    },
    {
     "name": "stderr",
     "output_type": "stream",
     "text": [
      " 60%|██████    | 150/250 [2:40:47<1:49:54, 65.95s/it]"
     ]
    },
    {
     "name": "stdout",
     "output_type": "stream",
     "text": [
      "Batch [30/391], Loss: 0.0711\n",
      "Batch [60/391], Loss: 0.0624\n",
      "Batch [90/391], Loss: 0.0656\n",
      "Batch [120/391], Loss: 0.1247\n",
      "Batch [150/391], Loss: 0.0319\n",
      "Batch [180/391], Loss: 0.0884\n",
      "Batch [210/391], Loss: 0.0599\n",
      "Batch [240/391], Loss: 0.0439\n",
      "Batch [270/391], Loss: 0.0580\n",
      "Batch [300/391], Loss: 0.0282\n",
      "Batch [330/391], Loss: 0.0413\n",
      "Batch [360/391], Loss: 0.0493\n",
      "Batch [390/391], Loss: 0.0491\n",
      "Train set: Epoch: 151, Average loss:0.0685, LR: 0.004000 Top-1 Accuracy: 0.9850, Top-5 Accuracy: 0.9997, SuperClass Accuracy: 0.9919, Time consumed:50.09s\n",
      "Test set: Epoch: 151, Average loss:0.0079, Top-1 Accuracy: 0.7610, Top-5 Accuracy: 0.9348, SuperClass Accuracy: 0.8486, Time consumed:14.62s\n",
      "\n",
      "saving weights file to runs\\resnet_18_base_50000+nesterov\\savepoints\\Sunday_13_October_2024_15h_09m_35s\\resnet_18_base_50000+nesterov-151-best.pth\n",
      "EarlyStopping counter: 50 out of 150\n"
     ]
    },
    {
     "name": "stderr",
     "output_type": "stream",
     "text": [
      " 60%|██████    | 151/250 [2:41:52<1:48:14, 65.60s/it]"
     ]
    },
    {
     "name": "stdout",
     "output_type": "stream",
     "text": [
      "Batch [30/391], Loss: 0.0348\n",
      "Batch [60/391], Loss: 0.0299\n",
      "Batch [90/391], Loss: 0.0284\n",
      "Batch [120/391], Loss: 0.0240\n",
      "Batch [150/391], Loss: 0.0266\n",
      "Batch [180/391], Loss: 0.0371\n",
      "Batch [210/391], Loss: 0.0303\n",
      "Batch [240/391], Loss: 0.0273\n",
      "Batch [270/391], Loss: 0.0504\n",
      "Batch [300/391], Loss: 0.0154\n",
      "Batch [330/391], Loss: 0.0277\n",
      "Batch [360/391], Loss: 0.0158\n",
      "Batch [390/391], Loss: 0.0352\n",
      "Train set: Epoch: 152, Average loss:0.0329, LR: 0.004000 Top-1 Accuracy: 0.9954, Top-5 Accuracy: 1.0000, SuperClass Accuracy: 0.9972, Time consumed:48.34s\n",
      "Test set: Epoch: 152, Average loss:0.0077, Top-1 Accuracy: 0.7634, Top-5 Accuracy: 0.9351, SuperClass Accuracy: 0.8517, Time consumed:14.98s\n",
      "\n",
      "saving weights file to runs\\resnet_18_base_50000+nesterov\\savepoints\\Sunday_13_October_2024_15h_09m_35s\\resnet_18_base_50000+nesterov-152-best.pth\n",
      "EarlyStopping counter: 51 out of 150\n"
     ]
    },
    {
     "name": "stderr",
     "output_type": "stream",
     "text": [
      " 61%|██████    | 152/250 [2:42:56<1:46:03, 64.93s/it]"
     ]
    },
    {
     "name": "stdout",
     "output_type": "stream",
     "text": [
      "Batch [30/391], Loss: 0.0200\n",
      "Batch [60/391], Loss: 0.0256\n",
      "Batch [90/391], Loss: 0.0164\n",
      "Batch [120/391], Loss: 0.0122\n",
      "Batch [150/391], Loss: 0.0292\n",
      "Batch [180/391], Loss: 0.0239\n",
      "Batch [210/391], Loss: 0.0374\n",
      "Batch [240/391], Loss: 0.0212\n",
      "Batch [270/391], Loss: 0.0133\n",
      "Batch [300/391], Loss: 0.0352\n",
      "Batch [330/391], Loss: 0.0433\n",
      "Batch [360/391], Loss: 0.0212\n",
      "Batch [390/391], Loss: 0.0223\n",
      "Train set: Epoch: 153, Average loss:0.0259, LR: 0.004000 Top-1 Accuracy: 0.9964, Top-5 Accuracy: 1.0000, SuperClass Accuracy: 0.9980, Time consumed:48.41s\n",
      "Test set: Epoch: 153, Average loss:0.0076, Top-1 Accuracy: 0.7675, Top-5 Accuracy: 0.9370, SuperClass Accuracy: 0.8527, Time consumed:15.08s\n",
      "\n",
      "saving weights file to runs\\resnet_18_base_50000+nesterov\\savepoints\\Sunday_13_October_2024_15h_09m_35s\\resnet_18_base_50000+nesterov-153-best.pth\n",
      "EarlyStopping counter: 52 out of 150\n"
     ]
    },
    {
     "name": "stderr",
     "output_type": "stream",
     "text": [
      " 61%|██████    | 153/250 [2:43:59<1:44:18, 64.52s/it]"
     ]
    },
    {
     "name": "stdout",
     "output_type": "stream",
     "text": [
      "Batch [30/391], Loss: 0.0408\n",
      "Batch [60/391], Loss: 0.0122\n",
      "Batch [90/391], Loss: 0.0211\n",
      "Batch [120/391], Loss: 0.0126\n",
      "Batch [150/391], Loss: 0.0166\n",
      "Batch [180/391], Loss: 0.0170\n",
      "Batch [210/391], Loss: 0.0262\n",
      "Batch [240/391], Loss: 0.0245\n",
      "Batch [270/391], Loss: 0.0107\n",
      "Batch [300/391], Loss: 0.0144\n",
      "Batch [330/391], Loss: 0.0226\n",
      "Batch [360/391], Loss: 0.0208\n",
      "Batch [390/391], Loss: 0.0303\n",
      "Train set: Epoch: 154, Average loss:0.0225, LR: 0.004000 Top-1 Accuracy: 0.9972, Top-5 Accuracy: 1.0000, SuperClass Accuracy: 0.9985, Time consumed:48.75s\n",
      "Test set: Epoch: 154, Average loss:0.0075, Top-1 Accuracy: 0.7668, Top-5 Accuracy: 0.9368, SuperClass Accuracy: 0.8537, Time consumed:15.36s\n",
      "\n",
      "EarlyStopping counter: 53 out of 150\n"
     ]
    },
    {
     "name": "stderr",
     "output_type": "stream",
     "text": [
      " 62%|██████▏   | 154/250 [2:45:03<1:43:02, 64.40s/it]"
     ]
    },
    {
     "name": "stdout",
     "output_type": "stream",
     "text": [
      "Batch [30/391], Loss: 0.0295\n",
      "Batch [60/391], Loss: 0.0225\n",
      "Batch [90/391], Loss: 0.0128\n",
      "Batch [120/391], Loss: 0.0168\n",
      "Batch [150/391], Loss: 0.0298\n",
      "Batch [180/391], Loss: 0.0077\n",
      "Batch [210/391], Loss: 0.0155\n",
      "Batch [240/391], Loss: 0.0134\n",
      "Batch [270/391], Loss: 0.0156\n",
      "Batch [300/391], Loss: 0.0239\n",
      "Batch [330/391], Loss: 0.0124\n",
      "Batch [360/391], Loss: 0.0090\n",
      "Batch [390/391], Loss: 0.0122\n",
      "Train set: Epoch: 155, Average loss:0.0196, LR: 0.004000 Top-1 Accuracy: 0.9979, Top-5 Accuracy: 1.0000, SuperClass Accuracy: 0.9988, Time consumed:48.79s\n",
      "Test set: Epoch: 155, Average loss:0.0075, Top-1 Accuracy: 0.7704, Top-5 Accuracy: 0.9380, SuperClass Accuracy: 0.8556, Time consumed:21.85s\n",
      "\n",
      "saving weights file to runs\\resnet_18_base_50000+nesterov\\savepoints\\Sunday_13_October_2024_15h_09m_35s\\resnet_18_base_50000+nesterov-155-best.pth\n",
      "EarlyStopping counter: 54 out of 150\n"
     ]
    },
    {
     "name": "stderr",
     "output_type": "stream",
     "text": [
      " 62%|██████▏   | 155/250 [2:46:14<1:44:58, 66.30s/it]"
     ]
    },
    {
     "name": "stdout",
     "output_type": "stream",
     "text": [
      "Batch [30/391], Loss: 0.0168\n",
      "Batch [60/391], Loss: 0.0143\n",
      "Batch [90/391], Loss: 0.0088\n",
      "Batch [120/391], Loss: 0.0162\n",
      "Batch [150/391], Loss: 0.0116\n",
      "Batch [180/391], Loss: 0.0171\n",
      "Batch [210/391], Loss: 0.0143\n",
      "Batch [240/391], Loss: 0.0121\n",
      "Batch [270/391], Loss: 0.0160\n",
      "Batch [300/391], Loss: 0.0138\n",
      "Batch [330/391], Loss: 0.0214\n",
      "Batch [360/391], Loss: 0.0221\n",
      "Batch [390/391], Loss: 0.0201\n",
      "Train set: Epoch: 156, Average loss:0.0178, LR: 0.004000 Top-1 Accuracy: 0.9984, Top-5 Accuracy: 1.0000, SuperClass Accuracy: 0.9991, Time consumed:50.66s\n",
      "Test set: Epoch: 156, Average loss:0.0075, Top-1 Accuracy: 0.7715, Top-5 Accuracy: 0.9381, SuperClass Accuracy: 0.8553, Time consumed:14.94s\n",
      "\n",
      "saving weights file to runs\\resnet_18_base_50000+nesterov\\savepoints\\Sunday_13_October_2024_15h_09m_35s\\resnet_18_base_50000+nesterov-156-best.pth\n",
      "EarlyStopping counter: 55 out of 150\n"
     ]
    },
    {
     "name": "stderr",
     "output_type": "stream",
     "text": [
      " 62%|██████▏   | 156/250 [2:47:20<1:43:34, 66.12s/it]"
     ]
    },
    {
     "name": "stdout",
     "output_type": "stream",
     "text": [
      "Batch [30/391], Loss: 0.0238\n",
      "Batch [60/391], Loss: 0.0115\n",
      "Batch [90/391], Loss: 0.0178\n",
      "Batch [120/391], Loss: 0.0175\n",
      "Batch [150/391], Loss: 0.0121\n",
      "Batch [180/391], Loss: 0.0195\n",
      "Batch [210/391], Loss: 0.0175\n",
      "Batch [240/391], Loss: 0.0207\n",
      "Batch [270/391], Loss: 0.0114\n",
      "Batch [300/391], Loss: 0.0127\n",
      "Batch [330/391], Loss: 0.0126\n",
      "Batch [360/391], Loss: 0.0120\n",
      "Batch [390/391], Loss: 0.0180\n",
      "Train set: Epoch: 157, Average loss:0.0155, LR: 0.004000 Top-1 Accuracy: 0.9988, Top-5 Accuracy: 1.0000, SuperClass Accuracy: 0.9993, Time consumed:48.45s\n",
      "Test set: Epoch: 157, Average loss:0.0075, Top-1 Accuracy: 0.7704, Top-5 Accuracy: 0.9380, SuperClass Accuracy: 0.8553, Time consumed:15.27s\n",
      "\n",
      "EarlyStopping counter: 56 out of 150\n"
     ]
    },
    {
     "name": "stderr",
     "output_type": "stream",
     "text": [
      " 63%|██████▎   | 157/250 [2:48:23<1:41:22, 65.40s/it]"
     ]
    },
    {
     "name": "stdout",
     "output_type": "stream",
     "text": [
      "Batch [30/391], Loss: 0.0086\n",
      "Batch [60/391], Loss: 0.0160\n",
      "Batch [90/391], Loss: 0.0116\n",
      "Batch [120/391], Loss: 0.0121\n",
      "Batch [150/391], Loss: 0.0098\n",
      "Batch [180/391], Loss: 0.0145\n",
      "Batch [210/391], Loss: 0.0082\n",
      "Batch [240/391], Loss: 0.0153\n",
      "Batch [270/391], Loss: 0.0142\n",
      "Batch [300/391], Loss: 0.0088\n",
      "Batch [330/391], Loss: 0.0088\n",
      "Batch [360/391], Loss: 0.0147\n",
      "Batch [390/391], Loss: 0.0152\n",
      "Train set: Epoch: 158, Average loss:0.0148, LR: 0.004000 Top-1 Accuracy: 0.9989, Top-5 Accuracy: 1.0000, SuperClass Accuracy: 0.9994, Time consumed:48.80s\n",
      "Test set: Epoch: 158, Average loss:0.0074, Top-1 Accuracy: 0.7720, Top-5 Accuracy: 0.9375, SuperClass Accuracy: 0.8565, Time consumed:21.18s\n",
      "\n",
      "saving weights file to runs\\resnet_18_base_50000+nesterov\\savepoints\\Sunday_13_October_2024_15h_09m_35s\\resnet_18_base_50000+nesterov-158-best.pth\n",
      "EarlyStopping counter: 57 out of 150\n"
     ]
    },
    {
     "name": "stderr",
     "output_type": "stream",
     "text": [
      " 63%|██████▎   | 158/250 [2:49:33<1:42:26, 66.80s/it]"
     ]
    },
    {
     "name": "stdout",
     "output_type": "stream",
     "text": [
      "Batch [30/391], Loss: 0.0218\n",
      "Batch [60/391], Loss: 0.0158\n",
      "Batch [90/391], Loss: 0.0110\n",
      "Batch [120/391], Loss: 0.0095\n",
      "Batch [150/391], Loss: 0.0287\n",
      "Batch [180/391], Loss: 0.0143\n",
      "Batch [210/391], Loss: 0.0130\n",
      "Batch [240/391], Loss: 0.0122\n",
      "Batch [270/391], Loss: 0.0128\n",
      "Batch [300/391], Loss: 0.0129\n",
      "Batch [330/391], Loss: 0.0176\n",
      "Batch [360/391], Loss: 0.0127\n",
      "Batch [390/391], Loss: 0.0293\n",
      "Train set: Epoch: 159, Average loss:0.0147, LR: 0.004000 Top-1 Accuracy: 0.9988, Top-5 Accuracy: 1.0000, SuperClass Accuracy: 0.9994, Time consumed:51.01s\n",
      "Test set: Epoch: 159, Average loss:0.0074, Top-1 Accuracy: 0.7722, Top-5 Accuracy: 0.9389, SuperClass Accuracy: 0.8573, Time consumed:15.05s\n",
      "\n",
      "saving weights file to runs\\resnet_18_base_50000+nesterov\\savepoints\\Sunday_13_October_2024_15h_09m_35s\\resnet_18_base_50000+nesterov-159-best.pth\n",
      "EarlyStopping counter: 58 out of 150\n"
     ]
    },
    {
     "name": "stderr",
     "output_type": "stream",
     "text": [
      " 64%|██████▎   | 159/250 [2:50:40<1:41:00, 66.60s/it]"
     ]
    },
    {
     "name": "stdout",
     "output_type": "stream",
     "text": [
      "Batch [30/391], Loss: 0.0100\n",
      "Batch [60/391], Loss: 0.0088\n",
      "Batch [90/391], Loss: 0.0125\n",
      "Batch [120/391], Loss: 0.0173\n",
      "Batch [150/391], Loss: 0.0090\n",
      "Batch [180/391], Loss: 0.0054\n",
      "Batch [210/391], Loss: 0.0146\n",
      "Batch [240/391], Loss: 0.0121\n",
      "Batch [270/391], Loss: 0.0123\n",
      "Batch [300/391], Loss: 0.0100\n",
      "Batch [330/391], Loss: 0.0279\n",
      "Batch [360/391], Loss: 0.0091\n",
      "Batch [390/391], Loss: 0.0112\n",
      "Train set: Epoch: 160, Average loss:0.0140, LR: 0.004000 Top-1 Accuracy: 0.9988, Top-5 Accuracy: 1.0000, SuperClass Accuracy: 0.9994, Time consumed:48.52s\n",
      "Test set: Epoch: 160, Average loss:0.0073, Top-1 Accuracy: 0.7744, Top-5 Accuracy: 0.9380, SuperClass Accuracy: 0.8570, Time consumed:15.39s\n",
      "\n",
      "saving weights file to runs\\resnet_18_base_50000+nesterov\\savepoints\\Sunday_13_October_2024_15h_09m_35s\\resnet_18_base_50000+nesterov-160-best.pth\n",
      "EarlyStopping counter: 59 out of 150\n"
     ]
    },
    {
     "name": "stderr",
     "output_type": "stream",
     "text": [
      " 64%|██████▍   | 160/250 [2:51:44<1:38:43, 65.81s/it]"
     ]
    },
    {
     "name": "stdout",
     "output_type": "stream",
     "text": [
      "Batch [30/391], Loss: 0.0136\n",
      "Batch [60/391], Loss: 0.0286\n",
      "Batch [90/391], Loss: 0.0090\n",
      "Batch [120/391], Loss: 0.0151\n",
      "Batch [150/391], Loss: 0.0255\n",
      "Batch [180/391], Loss: 0.0147\n",
      "Batch [210/391], Loss: 0.0120\n",
      "Batch [240/391], Loss: 0.0302\n",
      "Batch [270/391], Loss: 0.0107\n",
      "Batch [300/391], Loss: 0.0090\n",
      "Batch [330/391], Loss: 0.0088\n",
      "Batch [360/391], Loss: 0.0099\n",
      "Batch [390/391], Loss: 0.0105\n",
      "Train set: Epoch: 161, Average loss:0.0134, LR: 0.004000 Top-1 Accuracy: 0.9992, Top-5 Accuracy: 1.0000, SuperClass Accuracy: 0.9996, Time consumed:48.91s\n",
      "Test set: Epoch: 161, Average loss:0.0073, Top-1 Accuracy: 0.7738, Top-5 Accuracy: 0.9379, SuperClass Accuracy: 0.8581, Time consumed:21.45s\n",
      "\n",
      "EarlyStopping counter: 60 out of 150\n"
     ]
    },
    {
     "name": "stderr",
     "output_type": "stream",
     "text": [
      " 64%|██████▍   | 161/250 [2:52:54<1:39:38, 67.18s/it]"
     ]
    },
    {
     "name": "stdout",
     "output_type": "stream",
     "text": [
      "Batch [30/391], Loss: 0.0084\n",
      "Batch [60/391], Loss: 0.0106\n",
      "Batch [90/391], Loss: 0.0071\n",
      "Batch [120/391], Loss: 0.0098\n",
      "Batch [150/391], Loss: 0.0141\n",
      "Batch [180/391], Loss: 0.0124\n",
      "Batch [210/391], Loss: 0.0205\n",
      "Batch [240/391], Loss: 0.0211\n",
      "Batch [270/391], Loss: 0.0129\n",
      "Batch [300/391], Loss: 0.0138\n",
      "Batch [330/391], Loss: 0.0112\n",
      "Batch [360/391], Loss: 0.0132\n",
      "Batch [390/391], Loss: 0.0158\n",
      "Train set: Epoch: 162, Average loss:0.0128, LR: 0.004000 Top-1 Accuracy: 0.9992, Top-5 Accuracy: 1.0000, SuperClass Accuracy: 0.9995, Time consumed:46.93s\n",
      "Test set: Epoch: 162, Average loss:0.0073, Top-1 Accuracy: 0.7739, Top-5 Accuracy: 0.9390, SuperClass Accuracy: 0.8577, Time consumed:13.71s\n",
      "\n",
      "EarlyStopping counter: 61 out of 150\n"
     ]
    },
    {
     "name": "stderr",
     "output_type": "stream",
     "text": [
      " 65%|██████▍   | 162/250 [2:53:55<1:35:39, 65.22s/it]"
     ]
    },
    {
     "name": "stdout",
     "output_type": "stream",
     "text": [
      "Batch [30/391], Loss: 0.0097\n",
      "Batch [60/391], Loss: 0.0149\n",
      "Batch [90/391], Loss: 0.0129\n",
      "Batch [120/391], Loss: 0.0144\n",
      "Batch [150/391], Loss: 0.0215\n",
      "Batch [180/391], Loss: 0.0111\n",
      "Batch [210/391], Loss: 0.0103\n",
      "Batch [240/391], Loss: 0.0153\n",
      "Batch [270/391], Loss: 0.0095\n",
      "Batch [300/391], Loss: 0.0084\n",
      "Batch [330/391], Loss: 0.0168\n",
      "Batch [360/391], Loss: 0.0163\n",
      "Batch [390/391], Loss: 0.0143\n",
      "Train set: Epoch: 163, Average loss:0.0126, LR: 0.004000 Top-1 Accuracy: 0.9992, Top-5 Accuracy: 1.0000, SuperClass Accuracy: 0.9996, Time consumed:46.03s\n",
      "Test set: Epoch: 163, Average loss:0.0073, Top-1 Accuracy: 0.7721, Top-5 Accuracy: 0.9394, SuperClass Accuracy: 0.8571, Time consumed:14.38s\n",
      "\n",
      "EarlyStopping counter: 62 out of 150\n"
     ]
    },
    {
     "name": "stderr",
     "output_type": "stream",
     "text": [
      " 65%|██████▌   | 163/250 [2:54:55<1:32:28, 63.78s/it]"
     ]
    },
    {
     "name": "stdout",
     "output_type": "stream",
     "text": [
      "Batch [30/391], Loss: 0.0146\n",
      "Batch [60/391], Loss: 0.0141\n",
      "Batch [90/391], Loss: 0.0078\n",
      "Batch [120/391], Loss: 0.0048\n",
      "Batch [150/391], Loss: 0.0120\n",
      "Batch [180/391], Loss: 0.0076\n",
      "Batch [210/391], Loss: 0.0135\n",
      "Batch [240/391], Loss: 0.0115\n",
      "Batch [270/391], Loss: 0.0103\n",
      "Batch [300/391], Loss: 0.0113\n",
      "Batch [330/391], Loss: 0.0295\n",
      "Batch [360/391], Loss: 0.0163\n",
      "Batch [390/391], Loss: 0.0198\n",
      "Train set: Epoch: 164, Average loss:0.0127, LR: 0.004000 Top-1 Accuracy: 0.9991, Top-5 Accuracy: 1.0000, SuperClass Accuracy: 0.9996, Time consumed:46.59s\n",
      "Test set: Epoch: 164, Average loss:0.0072, Top-1 Accuracy: 0.7723, Top-5 Accuracy: 0.9400, SuperClass Accuracy: 0.8573, Time consumed:14.58s\n",
      "\n",
      "EarlyStopping counter: 63 out of 150\n"
     ]
    },
    {
     "name": "stderr",
     "output_type": "stream",
     "text": [
      " 66%|██████▌   | 164/250 [2:55:56<1:30:17, 63.00s/it]"
     ]
    },
    {
     "name": "stdout",
     "output_type": "stream",
     "text": [
      "Batch [30/391], Loss: 0.0205\n",
      "Batch [60/391], Loss: 0.0097\n",
      "Batch [90/391], Loss: 0.0209\n",
      "Batch [120/391], Loss: 0.0079\n",
      "Batch [150/391], Loss: 0.0119\n",
      "Batch [180/391], Loss: 0.0093\n",
      "Batch [210/391], Loss: 0.0074\n",
      "Batch [240/391], Loss: 0.0088\n",
      "Batch [270/391], Loss: 0.0099\n",
      "Batch [300/391], Loss: 0.0139\n",
      "Batch [330/391], Loss: 0.0117\n",
      "Batch [360/391], Loss: 0.0273\n",
      "Batch [390/391], Loss: 0.0161\n",
      "Train set: Epoch: 165, Average loss:0.0122, LR: 0.004000 Top-1 Accuracy: 0.9992, Top-5 Accuracy: 1.0000, SuperClass Accuracy: 0.9997, Time consumed:47.93s\n",
      "Test set: Epoch: 165, Average loss:0.0072, Top-1 Accuracy: 0.7737, Top-5 Accuracy: 0.9389, SuperClass Accuracy: 0.8577, Time consumed:13.60s\n",
      "\n",
      "EarlyStopping counter: 64 out of 150\n"
     ]
    },
    {
     "name": "stderr",
     "output_type": "stream",
     "text": [
      " 66%|██████▌   | 165/250 [2:56:58<1:28:37, 62.56s/it]"
     ]
    },
    {
     "name": "stdout",
     "output_type": "stream",
     "text": [
      "Batch [30/391], Loss: 0.0068\n",
      "Batch [60/391], Loss: 0.0082\n",
      "Batch [90/391], Loss: 0.0084\n",
      "Batch [120/391], Loss: 0.0064\n",
      "Batch [150/391], Loss: 0.0173\n",
      "Batch [180/391], Loss: 0.0099\n",
      "Batch [210/391], Loss: 0.0100\n",
      "Batch [240/391], Loss: 0.0110\n",
      "Batch [270/391], Loss: 0.0109\n",
      "Batch [300/391], Loss: 0.0195\n",
      "Batch [330/391], Loss: 0.0126\n",
      "Batch [360/391], Loss: 0.0115\n",
      "Batch [390/391], Loss: 0.0105\n",
      "Train set: Epoch: 166, Average loss:0.0120, LR: 0.004000 Top-1 Accuracy: 0.9992, Top-5 Accuracy: 1.0000, SuperClass Accuracy: 0.9996, Time consumed:45.26s\n",
      "Test set: Epoch: 166, Average loss:0.0072, Top-1 Accuracy: 0.7741, Top-5 Accuracy: 0.9395, SuperClass Accuracy: 0.8573, Time consumed:14.20s\n",
      "\n",
      "EarlyStopping counter: 65 out of 150\n"
     ]
    },
    {
     "name": "stderr",
     "output_type": "stream",
     "text": [
      " 66%|██████▋   | 166/250 [2:57:57<1:26:17, 61.63s/it]"
     ]
    },
    {
     "name": "stdout",
     "output_type": "stream",
     "text": [
      "Batch [30/391], Loss: 0.0091\n",
      "Batch [60/391], Loss: 0.0261\n",
      "Batch [90/391], Loss: 0.0061\n",
      "Batch [120/391], Loss: 0.0126\n",
      "Batch [150/391], Loss: 0.0114\n",
      "Batch [180/391], Loss: 0.0290\n",
      "Batch [210/391], Loss: 0.0119\n",
      "Batch [240/391], Loss: 0.0082\n",
      "Batch [270/391], Loss: 0.0124\n",
      "Batch [300/391], Loss: 0.0125\n",
      "Batch [330/391], Loss: 0.0082\n",
      "Batch [360/391], Loss: 0.0144\n",
      "Batch [390/391], Loss: 0.0081\n",
      "Train set: Epoch: 167, Average loss:0.0118, LR: 0.004000 Top-1 Accuracy: 0.9994, Top-5 Accuracy: 1.0000, SuperClass Accuracy: 0.9998, Time consumed:45.42s\n",
      "Test set: Epoch: 167, Average loss:0.0072, Top-1 Accuracy: 0.7751, Top-5 Accuracy: 0.9394, SuperClass Accuracy: 0.8590, Time consumed:13.02s\n",
      "\n",
      "saving weights file to runs\\resnet_18_base_50000+nesterov\\savepoints\\Sunday_13_October_2024_15h_09m_35s\\resnet_18_base_50000+nesterov-167-best.pth\n",
      "EarlyStopping counter: 66 out of 150\n"
     ]
    },
    {
     "name": "stderr",
     "output_type": "stream",
     "text": [
      " 67%|██████▋   | 167/250 [2:58:56<1:23:57, 60.69s/it]"
     ]
    },
    {
     "name": "stdout",
     "output_type": "stream",
     "text": [
      "Batch [30/391], Loss: 0.0115\n",
      "Batch [60/391], Loss: 0.0140\n",
      "Batch [90/391], Loss: 0.0080\n",
      "Batch [120/391], Loss: 0.0222\n",
      "Batch [150/391], Loss: 0.0152\n",
      "Batch [180/391], Loss: 0.0070\n",
      "Batch [210/391], Loss: 0.0075\n",
      "Batch [240/391], Loss: 0.0167\n",
      "Batch [270/391], Loss: 0.0100\n",
      "Batch [300/391], Loss: 0.0089\n",
      "Batch [330/391], Loss: 0.0092\n",
      "Batch [360/391], Loss: 0.0177\n",
      "Batch [390/391], Loss: 0.0098\n",
      "Train set: Epoch: 168, Average loss:0.0120, LR: 0.004000 Top-1 Accuracy: 0.9992, Top-5 Accuracy: 1.0000, SuperClass Accuracy: 0.9996, Time consumed:44.43s\n",
      "Test set: Epoch: 168, Average loss:0.0071, Top-1 Accuracy: 0.7759, Top-5 Accuracy: 0.9397, SuperClass Accuracy: 0.8609, Time consumed:13.08s\n",
      "\n",
      "saving weights file to runs\\resnet_18_base_50000+nesterov\\savepoints\\Sunday_13_October_2024_15h_09m_35s\\resnet_18_base_50000+nesterov-168-best.pth\n"
     ]
    },
    {
     "name": "stderr",
     "output_type": "stream",
     "text": [
      " 67%|██████▋   | 168/250 [2:59:53<1:21:39, 59.76s/it]"
     ]
    },
    {
     "name": "stdout",
     "output_type": "stream",
     "text": [
      "Batch [30/391], Loss: 0.0134\n",
      "Batch [60/391], Loss: 0.0124\n",
      "Batch [90/391], Loss: 0.0064\n",
      "Batch [120/391], Loss: 0.0116\n",
      "Batch [150/391], Loss: 0.0111\n",
      "Batch [180/391], Loss: 0.0108\n",
      "Batch [210/391], Loss: 0.0175\n",
      "Batch [240/391], Loss: 0.0078\n",
      "Batch [270/391], Loss: 0.0059\n",
      "Batch [300/391], Loss: 0.0114\n",
      "Batch [330/391], Loss: 0.0116\n",
      "Batch [360/391], Loss: 0.0132\n",
      "Batch [390/391], Loss: 0.0070\n",
      "Train set: Epoch: 169, Average loss:0.0114, LR: 0.004000 Top-1 Accuracy: 0.9995, Top-5 Accuracy: 1.0000, SuperClass Accuracy: 0.9997, Time consumed:44.50s\n",
      "Test set: Epoch: 169, Average loss:0.0072, Top-1 Accuracy: 0.7754, Top-5 Accuracy: 0.9396, SuperClass Accuracy: 0.8603, Time consumed:13.03s\n",
      "\n",
      "EarlyStopping counter: 1 out of 150\n"
     ]
    },
    {
     "name": "stderr",
     "output_type": "stream",
     "text": [
      " 68%|██████▊   | 169/250 [3:00:51<1:19:46, 59.09s/it]"
     ]
    },
    {
     "name": "stdout",
     "output_type": "stream",
     "text": [
      "Batch [30/391], Loss: 0.0107\n",
      "Batch [60/391], Loss: 0.0091\n",
      "Batch [90/391], Loss: 0.0082\n",
      "Batch [120/391], Loss: 0.0118\n",
      "Batch [150/391], Loss: 0.0057\n",
      "Batch [180/391], Loss: 0.0112\n",
      "Batch [210/391], Loss: 0.0091\n",
      "Batch [240/391], Loss: 0.0088\n",
      "Batch [270/391], Loss: 0.0087\n",
      "Batch [300/391], Loss: 0.0075\n",
      "Batch [330/391], Loss: 0.0134\n",
      "Batch [360/391], Loss: 0.0131\n",
      "Batch [390/391], Loss: 0.0112\n",
      "Train set: Epoch: 170, Average loss:0.0111, LR: 0.004000 Top-1 Accuracy: 0.9995, Top-5 Accuracy: 1.0000, SuperClass Accuracy: 0.9997, Time consumed:44.47s\n",
      "Test set: Epoch: 170, Average loss:0.0071, Top-1 Accuracy: 0.7774, Top-5 Accuracy: 0.9395, SuperClass Accuracy: 0.8619, Time consumed:12.91s\n",
      "\n",
      "saving weights file to runs\\resnet_18_base_50000+nesterov\\savepoints\\Sunday_13_October_2024_15h_09m_35s\\resnet_18_base_50000+nesterov-170-best.pth\n"
     ]
    },
    {
     "name": "stderr",
     "output_type": "stream",
     "text": [
      " 68%|██████▊   | 170/250 [3:01:48<1:18:07, 58.59s/it]"
     ]
    },
    {
     "name": "stdout",
     "output_type": "stream",
     "text": [
      "Batch [30/391], Loss: 0.0097\n",
      "Batch [60/391], Loss: 0.0081\n",
      "Batch [90/391], Loss: 0.0134\n",
      "Batch [120/391], Loss: 0.0114\n",
      "Batch [150/391], Loss: 0.0136\n",
      "Batch [180/391], Loss: 0.0089\n",
      "Batch [210/391], Loss: 0.0081\n",
      "Batch [240/391], Loss: 0.0183\n",
      "Batch [270/391], Loss: 0.0090\n",
      "Batch [300/391], Loss: 0.0081\n",
      "Batch [330/391], Loss: 0.0089\n",
      "Batch [360/391], Loss: 0.0092\n",
      "Batch [390/391], Loss: 0.0107\n",
      "Train set: Epoch: 171, Average loss:0.0117, LR: 0.004000 Top-1 Accuracy: 0.9993, Top-5 Accuracy: 1.0000, SuperClass Accuracy: 0.9996, Time consumed:44.46s\n",
      "Test set: Epoch: 171, Average loss:0.0071, Top-1 Accuracy: 0.7748, Top-5 Accuracy: 0.9407, SuperClass Accuracy: 0.8610, Time consumed:12.88s\n",
      "\n",
      "EarlyStopping counter: 1 out of 150\n"
     ]
    },
    {
     "name": "stderr",
     "output_type": "stream",
     "text": [
      " 68%|██████▊   | 171/250 [3:02:46<1:16:39, 58.22s/it]"
     ]
    },
    {
     "name": "stdout",
     "output_type": "stream",
     "text": [
      "Batch [30/391], Loss: 0.0113\n",
      "Batch [60/391], Loss: 0.0119\n",
      "Batch [90/391], Loss: 0.0079\n",
      "Batch [120/391], Loss: 0.0121\n",
      "Batch [150/391], Loss: 0.0067\n",
      "Batch [180/391], Loss: 0.0131\n",
      "Batch [210/391], Loss: 0.0166\n",
      "Batch [240/391], Loss: 0.0229\n",
      "Batch [270/391], Loss: 0.0074\n",
      "Batch [300/391], Loss: 0.0138\n",
      "Batch [330/391], Loss: 0.0082\n",
      "Batch [360/391], Loss: 0.0129\n",
      "Batch [390/391], Loss: 0.0101\n",
      "Train set: Epoch: 172, Average loss:0.0117, LR: 0.004000 Top-1 Accuracy: 0.9995, Top-5 Accuracy: 1.0000, SuperClass Accuracy: 0.9998, Time consumed:44.48s\n",
      "Test set: Epoch: 172, Average loss:0.0071, Top-1 Accuracy: 0.7767, Top-5 Accuracy: 0.9401, SuperClass Accuracy: 0.8600, Time consumed:12.88s\n",
      "\n"
     ]
    },
    {
     "name": "stderr",
     "output_type": "stream",
     "text": [
      " 69%|██████▉   | 172/250 [3:03:43<1:15:21, 57.96s/it]"
     ]
    },
    {
     "name": "stdout",
     "output_type": "stream",
     "text": [
      "Batch [30/391], Loss: 0.0098\n",
      "Batch [60/391], Loss: 0.0098\n",
      "Batch [90/391], Loss: 0.0065\n",
      "Batch [120/391], Loss: 0.0086\n",
      "Batch [150/391], Loss: 0.0055\n",
      "Batch [180/391], Loss: 0.0084\n",
      "Batch [210/391], Loss: 0.0075\n",
      "Batch [240/391], Loss: 0.0104\n",
      "Batch [270/391], Loss: 0.0099\n",
      "Batch [300/391], Loss: 0.0107\n",
      "Batch [330/391], Loss: 0.0100\n",
      "Batch [360/391], Loss: 0.0139\n",
      "Batch [390/391], Loss: 0.0189\n",
      "Train set: Epoch: 173, Average loss:0.0109, LR: 0.004000 Top-1 Accuracy: 0.9996, Top-5 Accuracy: 1.0000, SuperClass Accuracy: 0.9998, Time consumed:44.69s\n",
      "Test set: Epoch: 173, Average loss:0.0070, Top-1 Accuracy: 0.7796, Top-5 Accuracy: 0.9401, SuperClass Accuracy: 0.8627, Time consumed:12.95s\n",
      "\n",
      "saving weights file to runs\\resnet_18_base_50000+nesterov\\savepoints\\Sunday_13_October_2024_15h_09m_35s\\resnet_18_base_50000+nesterov-173-best.pth\n"
     ]
    },
    {
     "name": "stderr",
     "output_type": "stream",
     "text": [
      " 69%|██████▉   | 173/250 [3:04:41<1:14:17, 57.88s/it]"
     ]
    },
    {
     "name": "stdout",
     "output_type": "stream",
     "text": [
      "Batch [30/391], Loss: 0.0073\n",
      "Batch [60/391], Loss: 0.0110\n",
      "Batch [90/391], Loss: 0.0094\n",
      "Batch [120/391], Loss: 0.0080\n",
      "Batch [150/391], Loss: 0.0071\n",
      "Batch [180/391], Loss: 0.0094\n",
      "Batch [210/391], Loss: 0.0091\n",
      "Batch [240/391], Loss: 0.0120\n",
      "Batch [270/391], Loss: 0.0100\n",
      "Batch [300/391], Loss: 0.0088\n",
      "Batch [330/391], Loss: 0.0084\n",
      "Batch [360/391], Loss: 0.0110\n",
      "Batch [390/391], Loss: 0.0105\n",
      "Train set: Epoch: 174, Average loss:0.0110, LR: 0.004000 Top-1 Accuracy: 0.9995, Top-5 Accuracy: 1.0000, SuperClass Accuracy: 0.9998, Time consumed:44.56s\n",
      "Test set: Epoch: 174, Average loss:0.0070, Top-1 Accuracy: 0.7772, Top-5 Accuracy: 0.9406, SuperClass Accuracy: 0.8624, Time consumed:13.08s\n",
      "\n"
     ]
    },
    {
     "name": "stderr",
     "output_type": "stream",
     "text": [
      " 70%|██████▉   | 174/250 [3:05:38<1:13:14, 57.82s/it]"
     ]
    },
    {
     "name": "stdout",
     "output_type": "stream",
     "text": [
      "Batch [30/391], Loss: 0.0074\n",
      "Batch [60/391], Loss: 0.0103\n",
      "Batch [90/391], Loss: 0.0137\n",
      "Batch [120/391], Loss: 0.0090\n",
      "Batch [150/391], Loss: 0.0091\n",
      "Batch [180/391], Loss: 0.0088\n",
      "Batch [210/391], Loss: 0.0093\n",
      "Batch [240/391], Loss: 0.0117\n",
      "Batch [270/391], Loss: 0.0110\n",
      "Batch [300/391], Loss: 0.0113\n",
      "Batch [330/391], Loss: 0.0071\n",
      "Batch [360/391], Loss: 0.0107\n",
      "Batch [390/391], Loss: 0.0172\n",
      "Train set: Epoch: 175, Average loss:0.0111, LR: 0.004000 Top-1 Accuracy: 0.9996, Top-5 Accuracy: 1.0000, SuperClass Accuracy: 0.9999, Time consumed:44.53s\n",
      "Test set: Epoch: 175, Average loss:0.0070, Top-1 Accuracy: 0.7782, Top-5 Accuracy: 0.9416, SuperClass Accuracy: 0.8637, Time consumed:13.00s\n",
      "\n"
     ]
    },
    {
     "name": "stderr",
     "output_type": "stream",
     "text": [
      " 70%|███████   | 175/250 [3:06:36<1:12:10, 57.73s/it]"
     ]
    },
    {
     "name": "stdout",
     "output_type": "stream",
     "text": [
      "Batch [30/391], Loss: 0.0091\n",
      "Batch [60/391], Loss: 0.0071\n",
      "Batch [90/391], Loss: 0.0126\n",
      "Batch [120/391], Loss: 0.0094\n",
      "Batch [150/391], Loss: 0.0102\n",
      "Batch [180/391], Loss: 0.0083\n",
      "Batch [210/391], Loss: 0.0135\n",
      "Batch [240/391], Loss: 0.0102\n",
      "Batch [270/391], Loss: 0.0091\n",
      "Batch [300/391], Loss: 0.0190\n",
      "Batch [330/391], Loss: 0.0222\n",
      "Batch [360/391], Loss: 0.0105\n",
      "Batch [390/391], Loss: 0.0068\n",
      "Train set: Epoch: 176, Average loss:0.0110, LR: 0.004000 Top-1 Accuracy: 0.9996, Top-5 Accuracy: 1.0000, SuperClass Accuracy: 0.9998, Time consumed:44.53s\n",
      "Test set: Epoch: 176, Average loss:0.0070, Top-1 Accuracy: 0.7794, Top-5 Accuracy: 0.9420, SuperClass Accuracy: 0.8635, Time consumed:12.88s\n",
      "\n"
     ]
    },
    {
     "name": "stderr",
     "output_type": "stream",
     "text": [
      " 70%|███████   | 176/250 [3:07:33<1:11:05, 57.64s/it]"
     ]
    },
    {
     "name": "stdout",
     "output_type": "stream",
     "text": [
      "Batch [30/391], Loss: 0.0076\n",
      "Batch [60/391], Loss: 0.0058\n",
      "Batch [90/391], Loss: 0.0089\n",
      "Batch [120/391], Loss: 0.0114\n",
      "Batch [150/391], Loss: 0.0125\n",
      "Batch [180/391], Loss: 0.0164\n",
      "Batch [210/391], Loss: 0.0124\n",
      "Batch [240/391], Loss: 0.0151\n",
      "Batch [270/391], Loss: 0.0113\n",
      "Batch [300/391], Loss: 0.0124\n",
      "Batch [330/391], Loss: 0.0066\n",
      "Batch [360/391], Loss: 0.0083\n",
      "Batch [390/391], Loss: 0.0136\n",
      "Train set: Epoch: 177, Average loss:0.0115, LR: 0.004000 Top-1 Accuracy: 0.9995, Top-5 Accuracy: 1.0000, SuperClass Accuracy: 0.9997, Time consumed:44.45s\n",
      "Test set: Epoch: 177, Average loss:0.0070, Top-1 Accuracy: 0.7790, Top-5 Accuracy: 0.9402, SuperClass Accuracy: 0.8636, Time consumed:12.90s\n",
      "\n",
      "EarlyStopping counter: 1 out of 150\n"
     ]
    },
    {
     "name": "stderr",
     "output_type": "stream",
     "text": [
      " 71%|███████   | 177/250 [3:08:31<1:10:01, 57.56s/it]"
     ]
    },
    {
     "name": "stdout",
     "output_type": "stream",
     "text": [
      "Batch [30/391], Loss: 0.0064\n",
      "Batch [60/391], Loss: 0.0120\n",
      "Batch [90/391], Loss: 0.0128\n",
      "Batch [120/391], Loss: 0.0097\n",
      "Batch [150/391], Loss: 0.0127\n",
      "Batch [180/391], Loss: 0.0352\n",
      "Batch [210/391], Loss: 0.0121\n",
      "Batch [240/391], Loss: 0.0113\n",
      "Batch [270/391], Loss: 0.0085\n",
      "Batch [300/391], Loss: 0.0106\n",
      "Batch [330/391], Loss: 0.0083\n",
      "Batch [360/391], Loss: 0.0141\n",
      "Batch [390/391], Loss: 0.0107\n",
      "Train set: Epoch: 178, Average loss:0.0115, LR: 0.004000 Top-1 Accuracy: 0.9995, Top-5 Accuracy: 1.0000, SuperClass Accuracy: 0.9997, Time consumed:44.56s\n",
      "Test set: Epoch: 178, Average loss:0.0070, Top-1 Accuracy: 0.7797, Top-5 Accuracy: 0.9403, SuperClass Accuracy: 0.8647, Time consumed:12.82s\n",
      "\n",
      "saving weights file to runs\\resnet_18_base_50000+nesterov\\savepoints\\Sunday_13_October_2024_15h_09m_35s\\resnet_18_base_50000+nesterov-178-best.pth\n"
     ]
    },
    {
     "name": "stderr",
     "output_type": "stream",
     "text": [
      " 71%|███████   | 178/250 [3:09:28<1:09:01, 57.52s/it]"
     ]
    },
    {
     "name": "stdout",
     "output_type": "stream",
     "text": [
      "Batch [30/391], Loss: 0.0095\n",
      "Batch [60/391], Loss: 0.0079\n",
      "Batch [90/391], Loss: 0.0130\n",
      "Batch [120/391], Loss: 0.0114\n",
      "Batch [150/391], Loss: 0.0093\n",
      "Batch [180/391], Loss: 0.0123\n",
      "Batch [210/391], Loss: 0.0097\n",
      "Batch [240/391], Loss: 0.0103\n",
      "Batch [270/391], Loss: 0.0179\n",
      "Batch [300/391], Loss: 0.0111\n",
      "Batch [330/391], Loss: 0.0103\n",
      "Batch [360/391], Loss: 0.0099\n",
      "Batch [390/391], Loss: 0.0089\n",
      "Train set: Epoch: 179, Average loss:0.0113, LR: 0.004000 Top-1 Accuracy: 0.9996, Top-5 Accuracy: 1.0000, SuperClass Accuracy: 0.9997, Time consumed:44.45s\n",
      "Test set: Epoch: 179, Average loss:0.0070, Top-1 Accuracy: 0.7789, Top-5 Accuracy: 0.9403, SuperClass Accuracy: 0.8630, Time consumed:12.89s\n",
      "\n"
     ]
    },
    {
     "name": "stderr",
     "output_type": "stream",
     "text": [
      " 72%|███████▏  | 179/250 [3:10:25<1:08:00, 57.47s/it]"
     ]
    },
    {
     "name": "stdout",
     "output_type": "stream",
     "text": [
      "Batch [30/391], Loss: 0.0086\n",
      "Batch [60/391], Loss: 0.0099\n",
      "Batch [90/391], Loss: 0.0121\n",
      "Batch [120/391], Loss: 0.0100\n",
      "Batch [150/391], Loss: 0.0171\n",
      "Batch [180/391], Loss: 0.0079\n",
      "Batch [210/391], Loss: 0.0070\n",
      "Batch [240/391], Loss: 0.0056\n",
      "Batch [270/391], Loss: 0.0108\n",
      "Batch [300/391], Loss: 0.0110\n",
      "Batch [330/391], Loss: 0.0122\n",
      "Batch [360/391], Loss: 0.0133\n",
      "Batch [390/391], Loss: 0.0119\n",
      "Train set: Epoch: 180, Average loss:0.0114, LR: 0.004000 Top-1 Accuracy: 0.9996, Top-5 Accuracy: 1.0000, SuperClass Accuracy: 0.9999, Time consumed:44.34s\n",
      "Test set: Epoch: 180, Average loss:0.0069, Top-1 Accuracy: 0.7788, Top-5 Accuracy: 0.9405, SuperClass Accuracy: 0.8634, Time consumed:13.01s\n",
      "\n"
     ]
    },
    {
     "name": "stderr",
     "output_type": "stream",
     "text": [
      " 72%|███████▏  | 180/250 [3:11:23<1:07:00, 57.44s/it]"
     ]
    },
    {
     "name": "stdout",
     "output_type": "stream",
     "text": [
      "Batch [30/391], Loss: 0.0103\n",
      "Batch [60/391], Loss: 0.0097\n",
      "Batch [90/391], Loss: 0.0064\n",
      "Batch [120/391], Loss: 0.0088\n",
      "Batch [150/391], Loss: 0.0108\n",
      "Batch [180/391], Loss: 0.0101\n",
      "Batch [210/391], Loss: 0.0120\n",
      "Batch [240/391], Loss: 0.0103\n",
      "Batch [270/391], Loss: 0.0078\n",
      "Batch [300/391], Loss: 0.0085\n",
      "Batch [330/391], Loss: 0.0106\n",
      "Batch [360/391], Loss: 0.0066\n",
      "Batch [390/391], Loss: 0.0195\n",
      "Train set: Epoch: 181, Average loss:0.0112, LR: 0.004000 Top-1 Accuracy: 0.9996, Top-5 Accuracy: 1.0000, SuperClass Accuracy: 0.9998, Time consumed:44.46s\n",
      "Test set: Epoch: 181, Average loss:0.0069, Top-1 Accuracy: 0.7800, Top-5 Accuracy: 0.9402, SuperClass Accuracy: 0.8639, Time consumed:12.92s\n",
      "\n",
      "saving weights file to runs\\resnet_18_base_50000+nesterov\\savepoints\\Sunday_13_October_2024_15h_09m_35s\\resnet_18_base_50000+nesterov-181-best.pth\n"
     ]
    },
    {
     "name": "stderr",
     "output_type": "stream",
     "text": [
      " 72%|███████▏  | 181/250 [3:12:20<1:06:03, 57.44s/it]"
     ]
    },
    {
     "name": "stdout",
     "output_type": "stream",
     "text": [
      "Batch [30/391], Loss: 0.0150\n",
      "Batch [60/391], Loss: 0.0081\n",
      "Batch [90/391], Loss: 0.0118\n",
      "Batch [120/391], Loss: 0.0085\n",
      "Batch [150/391], Loss: 0.0140\n",
      "Batch [180/391], Loss: 0.0115\n",
      "Batch [210/391], Loss: 0.0072\n",
      "Batch [240/391], Loss: 0.0106\n",
      "Batch [270/391], Loss: 0.0088\n",
      "Batch [300/391], Loss: 0.0100\n",
      "Batch [330/391], Loss: 0.0129\n",
      "Batch [360/391], Loss: 0.0118\n",
      "Batch [390/391], Loss: 0.0112\n",
      "Train set: Epoch: 182, Average loss:0.0113, LR: 0.004000 Top-1 Accuracy: 0.9995, Top-5 Accuracy: 1.0000, SuperClass Accuracy: 0.9998, Time consumed:44.48s\n",
      "Test set: Epoch: 182, Average loss:0.0069, Top-1 Accuracy: 0.7799, Top-5 Accuracy: 0.9403, SuperClass Accuracy: 0.8636, Time consumed:13.03s\n",
      "\n"
     ]
    },
    {
     "name": "stderr",
     "output_type": "stream",
     "text": [
      " 73%|███████▎  | 182/250 [3:13:18<1:05:07, 57.46s/it]"
     ]
    },
    {
     "name": "stdout",
     "output_type": "stream",
     "text": [
      "Batch [30/391], Loss: 0.0099\n",
      "Batch [60/391], Loss: 0.0069\n",
      "Batch [90/391], Loss: 0.0153\n",
      "Batch [120/391], Loss: 0.0110\n",
      "Batch [150/391], Loss: 0.0106\n",
      "Batch [180/391], Loss: 0.0067\n",
      "Batch [210/391], Loss: 0.0114\n",
      "Batch [240/391], Loss: 0.0077\n",
      "Batch [270/391], Loss: 0.0141\n",
      "Batch [300/391], Loss: 0.0123\n",
      "Batch [330/391], Loss: 0.0119\n",
      "Batch [360/391], Loss: 0.0136\n",
      "Batch [390/391], Loss: 0.0122\n",
      "Train set: Epoch: 183, Average loss:0.0116, LR: 0.004000 Top-1 Accuracy: 0.9995, Top-5 Accuracy: 1.0000, SuperClass Accuracy: 0.9998, Time consumed:44.31s\n",
      "Test set: Epoch: 183, Average loss:0.0069, Top-1 Accuracy: 0.7780, Top-5 Accuracy: 0.9414, SuperClass Accuracy: 0.8654, Time consumed:12.86s\n",
      "\n"
     ]
    },
    {
     "name": "stderr",
     "output_type": "stream",
     "text": [
      " 73%|███████▎  | 183/250 [3:14:15<1:04:04, 57.38s/it]"
     ]
    },
    {
     "name": "stdout",
     "output_type": "stream",
     "text": [
      "Batch [30/391], Loss: 0.0107\n",
      "Batch [60/391], Loss: 0.0102\n",
      "Batch [90/391], Loss: 0.0081\n",
      "Batch [120/391], Loss: 0.0088\n",
      "Batch [150/391], Loss: 0.0081\n",
      "Batch [180/391], Loss: 0.0090\n",
      "Batch [210/391], Loss: 0.0093\n",
      "Batch [240/391], Loss: 0.0159\n",
      "Batch [270/391], Loss: 0.0083\n",
      "Batch [300/391], Loss: 0.0141\n",
      "Batch [330/391], Loss: 0.0124\n",
      "Batch [360/391], Loss: 0.0091\n",
      "Batch [390/391], Loss: 0.0185\n",
      "Train set: Epoch: 184, Average loss:0.0110, LR: 0.004000 Top-1 Accuracy: 0.9997, Top-5 Accuracy: 1.0000, SuperClass Accuracy: 0.9999, Time consumed:44.53s\n",
      "Test set: Epoch: 184, Average loss:0.0069, Top-1 Accuracy: 0.7804, Top-5 Accuracy: 0.9413, SuperClass Accuracy: 0.8667, Time consumed:12.84s\n",
      "\n",
      "saving weights file to runs\\resnet_18_base_50000+nesterov\\savepoints\\Sunday_13_October_2024_15h_09m_35s\\resnet_18_base_50000+nesterov-184-best.pth\n"
     ]
    },
    {
     "name": "stderr",
     "output_type": "stream",
     "text": [
      " 74%|███████▎  | 184/250 [3:15:12<1:03:07, 57.39s/it]"
     ]
    },
    {
     "name": "stdout",
     "output_type": "stream",
     "text": [
      "Batch [30/391], Loss: 0.0119\n",
      "Batch [60/391], Loss: 0.0076\n",
      "Batch [90/391], Loss: 0.0084\n",
      "Batch [120/391], Loss: 0.0257\n",
      "Batch [150/391], Loss: 0.0072\n",
      "Batch [180/391], Loss: 0.0103\n",
      "Batch [210/391], Loss: 0.0121\n",
      "Batch [240/391], Loss: 0.0103\n",
      "Batch [270/391], Loss: 0.0098\n",
      "Batch [300/391], Loss: 0.0328\n",
      "Batch [330/391], Loss: 0.0091\n",
      "Batch [360/391], Loss: 0.0091\n",
      "Batch [390/391], Loss: 0.0094\n",
      "Train set: Epoch: 185, Average loss:0.0115, LR: 0.004000 Top-1 Accuracy: 0.9995, Top-5 Accuracy: 1.0000, SuperClass Accuracy: 0.9997, Time consumed:44.21s\n",
      "Test set: Epoch: 185, Average loss:0.0069, Top-1 Accuracy: 0.7822, Top-5 Accuracy: 0.9430, SuperClass Accuracy: 0.8667, Time consumed:12.73s\n",
      "\n",
      "saving weights file to runs\\resnet_18_base_50000+nesterov\\savepoints\\Sunday_13_October_2024_15h_09m_35s\\resnet_18_base_50000+nesterov-185-best.pth\n"
     ]
    },
    {
     "name": "stderr",
     "output_type": "stream",
     "text": [
      " 74%|███████▍  | 185/250 [3:16:09<1:02:02, 57.28s/it]"
     ]
    },
    {
     "name": "stdout",
     "output_type": "stream",
     "text": [
      "Batch [30/391], Loss: 0.0141\n",
      "Batch [60/391], Loss: 0.0074\n",
      "Batch [90/391], Loss: 0.0115\n",
      "Batch [120/391], Loss: 0.0106\n",
      "Batch [150/391], Loss: 0.0094\n",
      "Batch [180/391], Loss: 0.0138\n",
      "Batch [210/391], Loss: 0.0070\n",
      "Batch [240/391], Loss: 0.0104\n",
      "Batch [270/391], Loss: 0.0121\n",
      "Batch [300/391], Loss: 0.0106\n",
      "Batch [330/391], Loss: 0.0051\n",
      "Batch [360/391], Loss: 0.0064\n",
      "Batch [390/391], Loss: 0.0121\n",
      "Train set: Epoch: 186, Average loss:0.0115, LR: 0.004000 Top-1 Accuracy: 0.9995, Top-5 Accuracy: 1.0000, SuperClass Accuracy: 0.9997, Time consumed:44.51s\n",
      "Test set: Epoch: 186, Average loss:0.0069, Top-1 Accuracy: 0.7821, Top-5 Accuracy: 0.9417, SuperClass Accuracy: 0.8649, Time consumed:12.83s\n",
      "\n",
      "EarlyStopping counter: 1 out of 150\n"
     ]
    },
    {
     "name": "stderr",
     "output_type": "stream",
     "text": [
      " 74%|███████▍  | 186/250 [3:17:07<1:01:07, 57.30s/it]"
     ]
    },
    {
     "name": "stdout",
     "output_type": "stream",
     "text": [
      "Batch [30/391], Loss: 0.0122\n",
      "Batch [60/391], Loss: 0.0170\n",
      "Batch [90/391], Loss: 0.0097\n",
      "Batch [120/391], Loss: 0.0077\n",
      "Batch [150/391], Loss: 0.0091\n",
      "Batch [180/391], Loss: 0.0189\n",
      "Batch [210/391], Loss: 0.0188\n",
      "Batch [240/391], Loss: 0.0131\n",
      "Batch [270/391], Loss: 0.0134\n",
      "Batch [300/391], Loss: 0.0099\n",
      "Batch [330/391], Loss: 0.0099\n",
      "Batch [360/391], Loss: 0.0098\n",
      "Batch [390/391], Loss: 0.0119\n",
      "Train set: Epoch: 187, Average loss:0.0115, LR: 0.004000 Top-1 Accuracy: 0.9995, Top-5 Accuracy: 1.0000, SuperClass Accuracy: 0.9998, Time consumed:44.43s\n",
      "Test set: Epoch: 187, Average loss:0.0069, Top-1 Accuracy: 0.7824, Top-5 Accuracy: 0.9408, SuperClass Accuracy: 0.8649, Time consumed:12.93s\n",
      "\n",
      "saving weights file to runs\\resnet_18_base_50000+nesterov\\savepoints\\Sunday_13_October_2024_15h_09m_35s\\resnet_18_base_50000+nesterov-187-best.pth\n",
      "EarlyStopping counter: 2 out of 150\n"
     ]
    },
    {
     "name": "stderr",
     "output_type": "stream",
     "text": [
      " 75%|███████▍  | 187/250 [3:18:04<1:00:12, 57.33s/it]"
     ]
    },
    {
     "name": "stdout",
     "output_type": "stream",
     "text": [
      "Batch [30/391], Loss: 0.0083\n",
      "Batch [60/391], Loss: 0.0124\n",
      "Batch [90/391], Loss: 0.0133\n",
      "Batch [120/391], Loss: 0.0096\n",
      "Batch [150/391], Loss: 0.0114\n",
      "Batch [180/391], Loss: 0.0078\n",
      "Batch [210/391], Loss: 0.0132\n",
      "Batch [240/391], Loss: 0.0086\n",
      "Batch [270/391], Loss: 0.0098\n",
      "Batch [300/391], Loss: 0.0089\n",
      "Batch [330/391], Loss: 0.0071\n",
      "Batch [360/391], Loss: 0.0093\n",
      "Batch [390/391], Loss: 0.0368\n",
      "Train set: Epoch: 188, Average loss:0.0112, LR: 0.004000 Top-1 Accuracy: 0.9996, Top-5 Accuracy: 1.0000, SuperClass Accuracy: 0.9999, Time consumed:44.49s\n",
      "Test set: Epoch: 188, Average loss:0.0069, Top-1 Accuracy: 0.7812, Top-5 Accuracy: 0.9417, SuperClass Accuracy: 0.8658, Time consumed:13.02s\n",
      "\n"
     ]
    },
    {
     "name": "stderr",
     "output_type": "stream",
     "text": [
      " 75%|███████▌  | 188/250 [3:19:02<59:18, 57.39s/it]  "
     ]
    },
    {
     "name": "stdout",
     "output_type": "stream",
     "text": [
      "Batch [30/391], Loss: 0.0175\n",
      "Batch [60/391], Loss: 0.0097\n",
      "Batch [90/391], Loss: 0.0127\n",
      "Batch [120/391], Loss: 0.0094\n",
      "Batch [150/391], Loss: 0.0113\n",
      "Batch [180/391], Loss: 0.0135\n",
      "Batch [210/391], Loss: 0.0141\n",
      "Batch [240/391], Loss: 0.0085\n",
      "Batch [270/391], Loss: 0.0086\n",
      "Batch [300/391], Loss: 0.0120\n",
      "Batch [330/391], Loss: 0.0102\n",
      "Batch [360/391], Loss: 0.0198\n",
      "Batch [390/391], Loss: 0.0109\n",
      "Train set: Epoch: 189, Average loss:0.0111, LR: 0.004000 Top-1 Accuracy: 0.9996, Top-5 Accuracy: 1.0000, SuperClass Accuracy: 0.9998, Time consumed:44.48s\n",
      "Test set: Epoch: 189, Average loss:0.0069, Top-1 Accuracy: 0.7811, Top-5 Accuracy: 0.9410, SuperClass Accuracy: 0.8644, Time consumed:12.88s\n",
      "\n",
      "EarlyStopping counter: 1 out of 150\n"
     ]
    },
    {
     "name": "stderr",
     "output_type": "stream",
     "text": [
      " 76%|███████▌  | 189/250 [3:19:59<58:20, 57.38s/it]"
     ]
    },
    {
     "name": "stdout",
     "output_type": "stream",
     "text": [
      "Batch [30/391], Loss: 0.0105\n",
      "Batch [60/391], Loss: 0.0082\n",
      "Batch [90/391], Loss: 0.0116\n",
      "Batch [120/391], Loss: 0.0096\n",
      "Batch [150/391], Loss: 0.0173\n",
      "Batch [180/391], Loss: 0.0300\n",
      "Batch [210/391], Loss: 0.0070\n",
      "Batch [240/391], Loss: 0.0083\n",
      "Batch [270/391], Loss: 0.0107\n",
      "Batch [300/391], Loss: 0.0113\n",
      "Batch [330/391], Loss: 0.0125\n",
      "Batch [360/391], Loss: 0.0092\n",
      "Batch [390/391], Loss: 0.0102\n",
      "Train set: Epoch: 190, Average loss:0.0111, LR: 0.004000 Top-1 Accuracy: 0.9996, Top-5 Accuracy: 1.0000, SuperClass Accuracy: 0.9998, Time consumed:44.50s\n",
      "Test set: Epoch: 190, Average loss:0.0069, Top-1 Accuracy: 0.7818, Top-5 Accuracy: 0.9422, SuperClass Accuracy: 0.8661, Time consumed:12.90s\n",
      "\n"
     ]
    },
    {
     "name": "stderr",
     "output_type": "stream",
     "text": [
      " 76%|███████▌  | 190/250 [3:20:56<57:23, 57.39s/it]"
     ]
    },
    {
     "name": "stdout",
     "output_type": "stream",
     "text": [
      "Batch [30/391], Loss: 0.0112\n",
      "Batch [60/391], Loss: 0.0100\n",
      "Batch [90/391], Loss: 0.0098\n",
      "Batch [120/391], Loss: 0.0170\n",
      "Batch [150/391], Loss: 0.0134\n",
      "Batch [180/391], Loss: 0.0107\n",
      "Batch [210/391], Loss: 0.0211\n",
      "Batch [240/391], Loss: 0.0118\n",
      "Batch [270/391], Loss: 0.0080\n",
      "Batch [300/391], Loss: 0.0135\n",
      "Batch [330/391], Loss: 0.0100\n",
      "Batch [360/391], Loss: 0.0199\n",
      "Batch [390/391], Loss: 0.0244\n",
      "Train set: Epoch: 191, Average loss:0.0113, LR: 0.004000 Top-1 Accuracy: 0.9996, Top-5 Accuracy: 1.0000, SuperClass Accuracy: 0.9998, Time consumed:44.47s\n",
      "Test set: Epoch: 191, Average loss:0.0069, Top-1 Accuracy: 0.7815, Top-5 Accuracy: 0.9429, SuperClass Accuracy: 0.8662, Time consumed:12.88s\n",
      "\n",
      "EarlyStopping counter: 1 out of 150\n"
     ]
    },
    {
     "name": "stderr",
     "output_type": "stream",
     "text": [
      " 76%|███████▋  | 191/250 [3:21:54<56:25, 57.38s/it]"
     ]
    },
    {
     "name": "stdout",
     "output_type": "stream",
     "text": [
      "Batch [30/391], Loss: 0.0156\n",
      "Batch [60/391], Loss: 0.0081\n",
      "Batch [90/391], Loss: 0.0115\n",
      "Batch [120/391], Loss: 0.0104\n",
      "Batch [150/391], Loss: 0.0117\n",
      "Batch [180/391], Loss: 0.0123\n",
      "Batch [210/391], Loss: 0.0086\n",
      "Batch [240/391], Loss: 0.0089\n",
      "Batch [270/391], Loss: 0.0091\n",
      "Batch [300/391], Loss: 0.0122\n",
      "Batch [330/391], Loss: 0.0102\n",
      "Batch [360/391], Loss: 0.0134\n",
      "Batch [390/391], Loss: 0.0144\n",
      "Train set: Epoch: 192, Average loss:0.0114, LR: 0.004000 Top-1 Accuracy: 0.9996, Top-5 Accuracy: 1.0000, SuperClass Accuracy: 0.9998, Time consumed:44.50s\n",
      "Test set: Epoch: 192, Average loss:0.0069, Top-1 Accuracy: 0.7832, Top-5 Accuracy: 0.9416, SuperClass Accuracy: 0.8677, Time consumed:12.88s\n",
      "\n",
      "saving weights file to runs\\resnet_18_base_50000+nesterov\\savepoints\\Sunday_13_October_2024_15h_09m_35s\\resnet_18_base_50000+nesterov-192-best.pth\n"
     ]
    },
    {
     "name": "stderr",
     "output_type": "stream",
     "text": [
      " 77%|███████▋  | 192/250 [3:22:51<55:29, 57.40s/it]"
     ]
    },
    {
     "name": "stdout",
     "output_type": "stream",
     "text": [
      "Batch [30/391], Loss: 0.0080\n",
      "Batch [60/391], Loss: 0.0110\n",
      "Batch [90/391], Loss: 0.0149\n",
      "Batch [120/391], Loss: 0.0138\n",
      "Batch [150/391], Loss: 0.0122\n",
      "Batch [180/391], Loss: 0.0102\n",
      "Batch [210/391], Loss: 0.0093\n",
      "Batch [240/391], Loss: 0.0127\n",
      "Batch [270/391], Loss: 0.0094\n",
      "Batch [300/391], Loss: 0.0086\n",
      "Batch [330/391], Loss: 0.0102\n",
      "Batch [360/391], Loss: 0.0114\n",
      "Batch [390/391], Loss: 0.0100\n",
      "Train set: Epoch: 193, Average loss:0.0116, LR: 0.004000 Top-1 Accuracy: 0.9996, Top-5 Accuracy: 1.0000, SuperClass Accuracy: 0.9998, Time consumed:44.42s\n",
      "Test set: Epoch: 193, Average loss:0.0069, Top-1 Accuracy: 0.7800, Top-5 Accuracy: 0.9400, SuperClass Accuracy: 0.8653, Time consumed:13.08s\n",
      "\n",
      "EarlyStopping counter: 1 out of 150\n"
     ]
    },
    {
     "name": "stderr",
     "output_type": "stream",
     "text": [
      " 77%|███████▋  | 193/250 [3:23:49<54:33, 57.43s/it]"
     ]
    },
    {
     "name": "stdout",
     "output_type": "stream",
     "text": [
      "Batch [30/391], Loss: 0.0079\n",
      "Batch [60/391], Loss: 0.0132\n",
      "Batch [90/391], Loss: 0.0074\n",
      "Batch [120/391], Loss: 0.0108\n",
      "Batch [150/391], Loss: 0.0082\n",
      "Batch [180/391], Loss: 0.0114\n",
      "Batch [210/391], Loss: 0.0140\n",
      "Batch [240/391], Loss: 0.0106\n",
      "Batch [270/391], Loss: 0.0105\n",
      "Batch [300/391], Loss: 0.0111\n",
      "Batch [330/391], Loss: 0.0082\n",
      "Batch [360/391], Loss: 0.0093\n",
      "Batch [390/391], Loss: 0.0232\n",
      "Train set: Epoch: 194, Average loss:0.0120, LR: 0.004000 Top-1 Accuracy: 0.9996, Top-5 Accuracy: 1.0000, SuperClass Accuracy: 0.9997, Time consumed:44.57s\n",
      "Test set: Epoch: 194, Average loss:0.0069, Top-1 Accuracy: 0.7806, Top-5 Accuracy: 0.9391, SuperClass Accuracy: 0.8655, Time consumed:13.01s\n",
      "\n",
      "EarlyStopping counter: 2 out of 150\n"
     ]
    },
    {
     "name": "stderr",
     "output_type": "stream",
     "text": [
      " 78%|███████▊  | 194/250 [3:24:46<53:38, 57.48s/it]"
     ]
    },
    {
     "name": "stdout",
     "output_type": "stream",
     "text": [
      "Batch [30/391], Loss: 0.0288\n",
      "Batch [60/391], Loss: 0.0120\n",
      "Batch [90/391], Loss: 0.0094\n",
      "Batch [120/391], Loss: 0.0079\n",
      "Batch [150/391], Loss: 0.0107\n",
      "Batch [180/391], Loss: 0.0101\n",
      "Batch [210/391], Loss: 0.0150\n",
      "Batch [240/391], Loss: 0.0091\n",
      "Batch [270/391], Loss: 0.0137\n",
      "Batch [300/391], Loss: 0.0135\n",
      "Batch [330/391], Loss: 0.0130\n",
      "Batch [360/391], Loss: 0.0112\n",
      "Batch [390/391], Loss: 0.0064\n",
      "Train set: Epoch: 195, Average loss:0.0115, LR: 0.004000 Top-1 Accuracy: 0.9996, Top-5 Accuracy: 1.0000, SuperClass Accuracy: 0.9997, Time consumed:44.48s\n",
      "Test set: Epoch: 195, Average loss:0.0069, Top-1 Accuracy: 0.7827, Top-5 Accuracy: 0.9414, SuperClass Accuracy: 0.8655, Time consumed:12.90s\n",
      "\n",
      "EarlyStopping counter: 3 out of 150\n"
     ]
    },
    {
     "name": "stderr",
     "output_type": "stream",
     "text": [
      " 78%|███████▊  | 195/250 [3:25:44<52:39, 57.45s/it]"
     ]
    },
    {
     "name": "stdout",
     "output_type": "stream",
     "text": [
      "Batch [30/391], Loss: 0.0127\n",
      "Batch [60/391], Loss: 0.0089\n",
      "Batch [90/391], Loss: 0.0092\n",
      "Batch [120/391], Loss: 0.0104\n",
      "Batch [150/391], Loss: 0.0128\n",
      "Batch [180/391], Loss: 0.0139\n",
      "Batch [210/391], Loss: 0.0123\n",
      "Batch [240/391], Loss: 0.0100\n",
      "Batch [270/391], Loss: 0.0111\n",
      "Batch [300/391], Loss: 0.0075\n",
      "Batch [330/391], Loss: 0.0113\n",
      "Batch [360/391], Loss: 0.0102\n",
      "Batch [390/391], Loss: 0.0113\n",
      "Train set: Epoch: 196, Average loss:0.0114, LR: 0.004000 Top-1 Accuracy: 0.9997, Top-5 Accuracy: 1.0000, SuperClass Accuracy: 0.9998, Time consumed:44.59s\n",
      "Test set: Epoch: 196, Average loss:0.0068, Top-1 Accuracy: 0.7841, Top-5 Accuracy: 0.9408, SuperClass Accuracy: 0.8682, Time consumed:13.01s\n",
      "\n",
      "saving weights file to runs\\resnet_18_base_50000+nesterov\\savepoints\\Sunday_13_October_2024_15h_09m_35s\\resnet_18_base_50000+nesterov-196-best.pth\n"
     ]
    },
    {
     "name": "stderr",
     "output_type": "stream",
     "text": [
      " 78%|███████▊  | 196/250 [3:26:41<51:45, 57.51s/it]"
     ]
    },
    {
     "name": "stdout",
     "output_type": "stream",
     "text": [
      "Batch [30/391], Loss: 0.0097\n",
      "Batch [60/391], Loss: 0.0076\n",
      "Batch [90/391], Loss: 0.0160\n",
      "Batch [120/391], Loss: 0.0173\n",
      "Batch [150/391], Loss: 0.0105\n",
      "Batch [180/391], Loss: 0.0116\n",
      "Batch [210/391], Loss: 0.0149\n",
      "Batch [240/391], Loss: 0.0131\n",
      "Batch [270/391], Loss: 0.0094\n",
      "Batch [300/391], Loss: 0.0116\n",
      "Batch [330/391], Loss: 0.0139\n",
      "Batch [360/391], Loss: 0.0310\n",
      "Batch [390/391], Loss: 0.0391\n",
      "Train set: Epoch: 197, Average loss:0.0115, LR: 0.004000 Top-1 Accuracy: 0.9996, Top-5 Accuracy: 1.0000, SuperClass Accuracy: 0.9998, Time consumed:44.43s\n",
      "Test set: Epoch: 197, Average loss:0.0069, Top-1 Accuracy: 0.7815, Top-5 Accuracy: 0.9418, SuperClass Accuracy: 0.8666, Time consumed:12.88s\n",
      "\n",
      "EarlyStopping counter: 1 out of 150\n"
     ]
    },
    {
     "name": "stderr",
     "output_type": "stream",
     "text": [
      " 79%|███████▉  | 197/250 [3:27:39<50:44, 57.45s/it]"
     ]
    },
    {
     "name": "stdout",
     "output_type": "stream",
     "text": [
      "Batch [30/391], Loss: 0.0108\n",
      "Batch [60/391], Loss: 0.0100\n",
      "Batch [90/391], Loss: 0.0126\n",
      "Batch [120/391], Loss: 0.0102\n",
      "Batch [150/391], Loss: 0.0252\n",
      "Batch [180/391], Loss: 0.0090\n",
      "Batch [210/391], Loss: 0.0098\n",
      "Batch [240/391], Loss: 0.0088\n",
      "Batch [270/391], Loss: 0.0077\n",
      "Batch [300/391], Loss: 0.0115\n",
      "Batch [330/391], Loss: 0.0111\n",
      "Batch [360/391], Loss: 0.0117\n",
      "Batch [390/391], Loss: 0.0137\n",
      "Train set: Epoch: 198, Average loss:0.0118, LR: 0.004000 Top-1 Accuracy: 0.9996, Top-5 Accuracy: 1.0000, SuperClass Accuracy: 0.9998, Time consumed:44.39s\n",
      "Test set: Epoch: 198, Average loss:0.0069, Top-1 Accuracy: 0.7823, Top-5 Accuracy: 0.9413, SuperClass Accuracy: 0.8663, Time consumed:12.96s\n",
      "\n",
      "EarlyStopping counter: 2 out of 150\n"
     ]
    },
    {
     "name": "stderr",
     "output_type": "stream",
     "text": [
      " 79%|███████▉  | 198/250 [3:28:36<49:46, 57.42s/it]"
     ]
    },
    {
     "name": "stdout",
     "output_type": "stream",
     "text": [
      "Batch [30/391], Loss: 0.0084\n",
      "Batch [60/391], Loss: 0.0075\n",
      "Batch [90/391], Loss: 0.0143\n",
      "Batch [120/391], Loss: 0.0089\n",
      "Batch [150/391], Loss: 0.0109\n",
      "Batch [180/391], Loss: 0.0091\n",
      "Batch [210/391], Loss: 0.0096\n",
      "Batch [240/391], Loss: 0.0106\n",
      "Batch [270/391], Loss: 0.0119\n",
      "Batch [300/391], Loss: 0.0141\n",
      "Batch [330/391], Loss: 0.0193\n",
      "Batch [360/391], Loss: 0.0118\n",
      "Batch [390/391], Loss: 0.0090\n",
      "Train set: Epoch: 199, Average loss:0.0118, LR: 0.004000 Top-1 Accuracy: 0.9995, Top-5 Accuracy: 1.0000, SuperClass Accuracy: 0.9998, Time consumed:44.30s\n",
      "Test set: Epoch: 199, Average loss:0.0068, Top-1 Accuracy: 0.7825, Top-5 Accuracy: 0.9423, SuperClass Accuracy: 0.8663, Time consumed:12.88s\n",
      "\n"
     ]
    },
    {
     "name": "stderr",
     "output_type": "stream",
     "text": [
      " 80%|███████▉  | 199/250 [3:29:33<48:45, 57.35s/it]"
     ]
    },
    {
     "name": "stdout",
     "output_type": "stream",
     "text": [
      "Batch [30/391], Loss: 0.0132\n",
      "Batch [60/391], Loss: 0.0118\n",
      "Batch [90/391], Loss: 0.0116\n",
      "Batch [120/391], Loss: 0.0084\n",
      "Batch [150/391], Loss: 0.0105\n",
      "Batch [180/391], Loss: 0.0127\n",
      "Batch [210/391], Loss: 0.0107\n",
      "Batch [240/391], Loss: 0.0097\n",
      "Batch [270/391], Loss: 0.0141\n",
      "Batch [300/391], Loss: 0.0122\n",
      "Batch [330/391], Loss: 0.0137\n",
      "Batch [360/391], Loss: 0.0204\n",
      "Batch [390/391], Loss: 0.0087\n",
      "Train set: Epoch: 200, Average loss:0.0116, LR: 0.004000 Top-1 Accuracy: 0.9994, Top-5 Accuracy: 1.0000, SuperClass Accuracy: 0.9997, Time consumed:44.53s\n",
      "Test set: Epoch: 200, Average loss:0.0069, Top-1 Accuracy: 0.7826, Top-5 Accuracy: 0.9423, SuperClass Accuracy: 0.8660, Time consumed:12.86s\n",
      "\n",
      "EarlyStopping counter: 1 out of 150\n"
     ]
    },
    {
     "name": "stderr",
     "output_type": "stream",
     "text": [
      " 80%|████████  | 200/250 [3:30:31<47:48, 57.37s/it]"
     ]
    },
    {
     "name": "stdout",
     "output_type": "stream",
     "text": [
      "Batch [30/391], Loss: 0.0079\n",
      "Batch [60/391], Loss: 0.0108\n",
      "Batch [90/391], Loss: 0.0088\n",
      "Batch [120/391], Loss: 0.0115\n",
      "Batch [150/391], Loss: 0.0089\n",
      "Batch [180/391], Loss: 0.0155\n",
      "Batch [210/391], Loss: 0.0105\n",
      "Batch [240/391], Loss: 0.0092\n",
      "Batch [270/391], Loss: 0.0083\n",
      "Batch [300/391], Loss: 0.0156\n",
      "Batch [330/391], Loss: 0.0106\n",
      "Batch [360/391], Loss: 0.0078\n",
      "Batch [390/391], Loss: 0.0089\n",
      "Train set: Epoch: 201, Average loss:0.0111, LR: 0.000800 Top-1 Accuracy: 0.9997, Top-5 Accuracy: 1.0000, SuperClass Accuracy: 0.9999, Time consumed:44.28s\n",
      "Test set: Epoch: 201, Average loss:0.0068, Top-1 Accuracy: 0.7833, Top-5 Accuracy: 0.9429, SuperClass Accuracy: 0.8667, Time consumed:12.87s\n",
      "\n",
      "EarlyStopping counter: 2 out of 150\n"
     ]
    },
    {
     "name": "stderr",
     "output_type": "stream",
     "text": [
      " 80%|████████  | 201/250 [3:31:28<46:48, 57.31s/it]"
     ]
    },
    {
     "name": "stdout",
     "output_type": "stream",
     "text": [
      "Batch [30/391], Loss: 0.0066\n",
      "Batch [60/391], Loss: 0.0117\n",
      "Batch [90/391], Loss: 0.0103\n",
      "Batch [120/391], Loss: 0.0119\n",
      "Batch [150/391], Loss: 0.0084\n",
      "Batch [180/391], Loss: 0.0125\n",
      "Batch [210/391], Loss: 0.0094\n",
      "Batch [240/391], Loss: 0.0139\n",
      "Batch [270/391], Loss: 0.0088\n",
      "Batch [300/391], Loss: 0.0097\n",
      "Batch [330/391], Loss: 0.0095\n",
      "Batch [360/391], Loss: 0.0126\n",
      "Batch [390/391], Loss: 0.0153\n",
      "Train set: Epoch: 202, Average loss:0.0107, LR: 0.000800 Top-1 Accuracy: 0.9997, Top-5 Accuracy: 1.0000, SuperClass Accuracy: 0.9999, Time consumed:44.51s\n",
      "Test set: Epoch: 202, Average loss:0.0068, Top-1 Accuracy: 0.7825, Top-5 Accuracy: 0.9427, SuperClass Accuracy: 0.8658, Time consumed:12.86s\n",
      "\n",
      "EarlyStopping counter: 3 out of 150\n"
     ]
    },
    {
     "name": "stderr",
     "output_type": "stream",
     "text": [
      " 81%|████████  | 202/250 [3:32:25<45:51, 57.33s/it]"
     ]
    },
    {
     "name": "stdout",
     "output_type": "stream",
     "text": [
      "Batch [30/391], Loss: 0.0088\n",
      "Batch [60/391], Loss: 0.0095\n",
      "Batch [90/391], Loss: 0.0057\n",
      "Batch [120/391], Loss: 0.0078\n",
      "Batch [150/391], Loss: 0.0092\n",
      "Batch [180/391], Loss: 0.0082\n",
      "Batch [210/391], Loss: 0.0085\n",
      "Batch [240/391], Loss: 0.0096\n",
      "Batch [270/391], Loss: 0.0085\n",
      "Batch [300/391], Loss: 0.0095\n",
      "Batch [330/391], Loss: 0.0101\n",
      "Batch [360/391], Loss: 0.0105\n",
      "Batch [390/391], Loss: 0.0092\n",
      "Train set: Epoch: 203, Average loss:0.0105, LR: 0.000800 Top-1 Accuracy: 0.9997, Top-5 Accuracy: 1.0000, SuperClass Accuracy: 0.9999, Time consumed:44.67s\n",
      "Test set: Epoch: 203, Average loss:0.0068, Top-1 Accuracy: 0.7850, Top-5 Accuracy: 0.9425, SuperClass Accuracy: 0.8678, Time consumed:13.11s\n",
      "\n",
      "saving weights file to runs\\resnet_18_base_50000+nesterov\\savepoints\\Sunday_13_October_2024_15h_09m_35s\\resnet_18_base_50000+nesterov-203-best.pth\n"
     ]
    },
    {
     "name": "stderr",
     "output_type": "stream",
     "text": [
      " 81%|████████  | 203/250 [3:33:23<45:01, 57.48s/it]"
     ]
    },
    {
     "name": "stdout",
     "output_type": "stream",
     "text": [
      "Batch [30/391], Loss: 0.0105\n",
      "Batch [60/391], Loss: 0.0086\n",
      "Batch [90/391], Loss: 0.0087\n",
      "Batch [120/391], Loss: 0.0109\n",
      "Batch [150/391], Loss: 0.0092\n",
      "Batch [180/391], Loss: 0.0075\n",
      "Batch [210/391], Loss: 0.0092\n",
      "Batch [240/391], Loss: 0.0075\n",
      "Batch [270/391], Loss: 0.0073\n",
      "Batch [300/391], Loss: 0.0077\n",
      "Batch [330/391], Loss: 0.0112\n",
      "Batch [360/391], Loss: 0.0113\n",
      "Batch [390/391], Loss: 0.0115\n",
      "Train set: Epoch: 204, Average loss:0.0104, LR: 0.000800 Top-1 Accuracy: 0.9998, Top-5 Accuracy: 1.0000, SuperClass Accuracy: 0.9999, Time consumed:44.47s\n",
      "Test set: Epoch: 204, Average loss:0.0068, Top-1 Accuracy: 0.7842, Top-5 Accuracy: 0.9420, SuperClass Accuracy: 0.8677, Time consumed:12.86s\n",
      "\n",
      "EarlyStopping counter: 1 out of 150\n"
     ]
    },
    {
     "name": "stderr",
     "output_type": "stream",
     "text": [
      " 82%|████████▏ | 204/250 [3:34:20<44:02, 57.44s/it]"
     ]
    },
    {
     "name": "stdout",
     "output_type": "stream",
     "text": [
      "Batch [30/391], Loss: 0.0111\n",
      "Batch [60/391], Loss: 0.0083\n",
      "Batch [90/391], Loss: 0.0071\n",
      "Batch [120/391], Loss: 0.0092\n",
      "Batch [150/391], Loss: 0.0109\n",
      "Batch [180/391], Loss: 0.0108\n",
      "Batch [210/391], Loss: 0.0157\n",
      "Batch [240/391], Loss: 0.0092\n",
      "Batch [270/391], Loss: 0.0176\n",
      "Batch [300/391], Loss: 0.0097\n",
      "Batch [330/391], Loss: 0.0209\n",
      "Batch [360/391], Loss: 0.0106\n",
      "Batch [390/391], Loss: 0.0126\n",
      "Train set: Epoch: 205, Average loss:0.0104, LR: 0.000800 Top-1 Accuracy: 0.9997, Top-5 Accuracy: 1.0000, SuperClass Accuracy: 0.9999, Time consumed:44.28s\n",
      "Test set: Epoch: 205, Average loss:0.0068, Top-1 Accuracy: 0.7841, Top-5 Accuracy: 0.9422, SuperClass Accuracy: 0.8674, Time consumed:12.91s\n",
      "\n",
      "EarlyStopping counter: 2 out of 150\n"
     ]
    },
    {
     "name": "stderr",
     "output_type": "stream",
     "text": [
      " 82%|████████▏ | 205/250 [3:35:18<43:01, 57.37s/it]"
     ]
    },
    {
     "name": "stdout",
     "output_type": "stream",
     "text": [
      "Batch [30/391], Loss: 0.0076\n",
      "Batch [60/391], Loss: 0.0134\n",
      "Batch [90/391], Loss: 0.0125\n",
      "Batch [120/391], Loss: 0.0126\n",
      "Batch [150/391], Loss: 0.0133\n",
      "Batch [180/391], Loss: 0.0106\n",
      "Batch [210/391], Loss: 0.0106\n",
      "Batch [240/391], Loss: 0.0110\n",
      "Batch [270/391], Loss: 0.0098\n",
      "Batch [300/391], Loss: 0.0111\n",
      "Batch [330/391], Loss: 0.0160\n",
      "Batch [360/391], Loss: 0.0093\n",
      "Batch [390/391], Loss: 0.0115\n",
      "Train set: Epoch: 206, Average loss:0.0105, LR: 0.000800 Top-1 Accuracy: 0.9996, Top-5 Accuracy: 1.0000, SuperClass Accuracy: 0.9998, Time consumed:44.49s\n",
      "Test set: Epoch: 206, Average loss:0.0068, Top-1 Accuracy: 0.7845, Top-5 Accuracy: 0.9425, SuperClass Accuracy: 0.8679, Time consumed:12.84s\n",
      "\n"
     ]
    },
    {
     "name": "stderr",
     "output_type": "stream",
     "text": [
      " 82%|████████▏ | 206/250 [3:36:15<42:03, 57.36s/it]"
     ]
    },
    {
     "name": "stdout",
     "output_type": "stream",
     "text": [
      "Batch [30/391], Loss: 0.0108\n",
      "Batch [60/391], Loss: 0.0081\n",
      "Batch [90/391], Loss: 0.0098\n",
      "Batch [120/391], Loss: 0.0096\n",
      "Batch [150/391], Loss: 0.0085\n",
      "Batch [180/391], Loss: 0.0072\n",
      "Batch [210/391], Loss: 0.0093\n",
      "Batch [240/391], Loss: 0.0095\n",
      "Batch [270/391], Loss: 0.0090\n",
      "Batch [300/391], Loss: 0.0085\n",
      "Batch [330/391], Loss: 0.0124\n",
      "Batch [360/391], Loss: 0.0164\n",
      "Batch [390/391], Loss: 0.0141\n",
      "Train set: Epoch: 207, Average loss:0.0102, LR: 0.000800 Top-1 Accuracy: 0.9997, Top-5 Accuracy: 1.0000, SuperClass Accuracy: 0.9999, Time consumed:44.35s\n",
      "Test set: Epoch: 207, Average loss:0.0068, Top-1 Accuracy: 0.7842, Top-5 Accuracy: 0.9419, SuperClass Accuracy: 0.8684, Time consumed:13.03s\n",
      "\n",
      "EarlyStopping counter: 1 out of 150\n"
     ]
    },
    {
     "name": "stderr",
     "output_type": "stream",
     "text": [
      " 83%|████████▎ | 207/250 [3:37:12<41:06, 57.37s/it]"
     ]
    },
    {
     "name": "stdout",
     "output_type": "stream",
     "text": [
      "Batch [30/391], Loss: 0.0166\n",
      "Batch [60/391], Loss: 0.0110\n",
      "Batch [90/391], Loss: 0.0094\n",
      "Batch [120/391], Loss: 0.0206\n",
      "Batch [150/391], Loss: 0.0084\n",
      "Batch [180/391], Loss: 0.0074\n",
      "Batch [210/391], Loss: 0.0079\n",
      "Batch [240/391], Loss: 0.0136\n",
      "Batch [270/391], Loss: 0.0078\n",
      "Batch [300/391], Loss: 0.0126\n",
      "Batch [330/391], Loss: 0.0130\n",
      "Batch [360/391], Loss: 0.0107\n",
      "Batch [390/391], Loss: 0.0130\n",
      "Train set: Epoch: 208, Average loss:0.0104, LR: 0.000800 Top-1 Accuracy: 0.9996, Top-5 Accuracy: 1.0000, SuperClass Accuracy: 0.9999, Time consumed:44.51s\n",
      "Test set: Epoch: 208, Average loss:0.0068, Top-1 Accuracy: 0.7838, Top-5 Accuracy: 0.9411, SuperClass Accuracy: 0.8683, Time consumed:12.91s\n",
      "\n",
      "EarlyStopping counter: 2 out of 150\n"
     ]
    },
    {
     "name": "stderr",
     "output_type": "stream",
     "text": [
      " 83%|████████▎ | 208/250 [3:38:10<40:10, 57.39s/it]"
     ]
    },
    {
     "name": "stdout",
     "output_type": "stream",
     "text": [
      "Batch [30/391], Loss: 0.0119\n",
      "Batch [60/391], Loss: 0.0095\n",
      "Batch [90/391], Loss: 0.0090\n",
      "Batch [120/391], Loss: 0.0099\n",
      "Batch [150/391], Loss: 0.0185\n",
      "Batch [180/391], Loss: 0.0111\n",
      "Batch [210/391], Loss: 0.0077\n",
      "Batch [240/391], Loss: 0.0158\n",
      "Batch [270/391], Loss: 0.0117\n",
      "Batch [300/391], Loss: 0.0081\n",
      "Batch [330/391], Loss: 0.0109\n",
      "Batch [360/391], Loss: 0.0092\n",
      "Batch [390/391], Loss: 0.0103\n",
      "Train set: Epoch: 209, Average loss:0.0100, LR: 0.000800 Top-1 Accuracy: 0.9998, Top-5 Accuracy: 1.0000, SuperClass Accuracy: 0.9999, Time consumed:44.44s\n",
      "Test set: Epoch: 209, Average loss:0.0068, Top-1 Accuracy: 0.7852, Top-5 Accuracy: 0.9417, SuperClass Accuracy: 0.8683, Time consumed:12.89s\n",
      "\n",
      "saving weights file to runs\\resnet_18_base_50000+nesterov\\savepoints\\Sunday_13_October_2024_15h_09m_35s\\resnet_18_base_50000+nesterov-209-best.pth\n",
      "EarlyStopping counter: 3 out of 150\n"
     ]
    },
    {
     "name": "stderr",
     "output_type": "stream",
     "text": [
      " 84%|████████▎ | 209/250 [3:39:07<39:12, 57.39s/it]"
     ]
    },
    {
     "name": "stdout",
     "output_type": "stream",
     "text": [
      "Batch [30/391], Loss: 0.0077\n",
      "Batch [60/391], Loss: 0.0083\n",
      "Batch [90/391], Loss: 0.0090\n",
      "Batch [120/391], Loss: 0.0099\n",
      "Batch [150/391], Loss: 0.0193\n",
      "Batch [180/391], Loss: 0.0125\n",
      "Batch [210/391], Loss: 0.0131\n",
      "Batch [240/391], Loss: 0.0144\n",
      "Batch [270/391], Loss: 0.0114\n",
      "Batch [300/391], Loss: 0.0111\n",
      "Batch [330/391], Loss: 0.0084\n",
      "Batch [360/391], Loss: 0.0090\n",
      "Batch [390/391], Loss: 0.0116\n",
      "Train set: Epoch: 210, Average loss:0.0104, LR: 0.000800 Top-1 Accuracy: 0.9996, Top-5 Accuracy: 1.0000, SuperClass Accuracy: 0.9998, Time consumed:44.48s\n",
      "Test set: Epoch: 210, Average loss:0.0068, Top-1 Accuracy: 0.7840, Top-5 Accuracy: 0.9420, SuperClass Accuracy: 0.8676, Time consumed:13.04s\n",
      "\n",
      "EarlyStopping counter: 4 out of 150\n"
     ]
    },
    {
     "name": "stderr",
     "output_type": "stream",
     "text": [
      " 84%|████████▍ | 210/250 [3:40:05<38:17, 57.43s/it]"
     ]
    },
    {
     "name": "stdout",
     "output_type": "stream",
     "text": [
      "Batch [30/391], Loss: 0.0099\n",
      "Batch [60/391], Loss: 0.0055\n",
      "Batch [90/391], Loss: 0.0115\n",
      "Batch [120/391], Loss: 0.0135\n",
      "Batch [150/391], Loss: 0.0121\n",
      "Batch [180/391], Loss: 0.0084\n",
      "Batch [210/391], Loss: 0.0085\n",
      "Batch [240/391], Loss: 0.0088\n",
      "Batch [270/391], Loss: 0.0125\n",
      "Batch [300/391], Loss: 0.0111\n",
      "Batch [330/391], Loss: 0.0108\n",
      "Batch [360/391], Loss: 0.0093\n",
      "Batch [390/391], Loss: 0.0144\n",
      "Train set: Epoch: 211, Average loss:0.0104, LR: 0.000800 Top-1 Accuracy: 0.9997, Top-5 Accuracy: 1.0000, SuperClass Accuracy: 0.9999, Time consumed:44.46s\n",
      "Test set: Epoch: 211, Average loss:0.0068, Top-1 Accuracy: 0.7831, Top-5 Accuracy: 0.9422, SuperClass Accuracy: 0.8680, Time consumed:12.91s\n",
      "\n",
      "EarlyStopping counter: 5 out of 150\n"
     ]
    },
    {
     "name": "stderr",
     "output_type": "stream",
     "text": [
      " 84%|████████▍ | 211/250 [3:41:02<37:19, 57.41s/it]"
     ]
    },
    {
     "name": "stdout",
     "output_type": "stream",
     "text": [
      "Batch [30/391], Loss: 0.0122\n",
      "Batch [60/391], Loss: 0.0103\n",
      "Batch [90/391], Loss: 0.0127\n",
      "Batch [120/391], Loss: 0.0143\n",
      "Batch [150/391], Loss: 0.0116\n",
      "Batch [180/391], Loss: 0.0097\n",
      "Batch [210/391], Loss: 0.0080\n",
      "Batch [240/391], Loss: 0.0090\n",
      "Batch [270/391], Loss: 0.0101\n",
      "Batch [300/391], Loss: 0.0114\n",
      "Batch [330/391], Loss: 0.0082\n",
      "Batch [360/391], Loss: 0.0103\n",
      "Batch [390/391], Loss: 0.0078\n",
      "Train set: Epoch: 212, Average loss:0.0104, LR: 0.000800 Top-1 Accuracy: 0.9998, Top-5 Accuracy: 1.0000, SuperClass Accuracy: 0.9998, Time consumed:44.51s\n",
      "Test set: Epoch: 212, Average loss:0.0068, Top-1 Accuracy: 0.7841, Top-5 Accuracy: 0.9414, SuperClass Accuracy: 0.8695, Time consumed:12.85s\n",
      "\n",
      "EarlyStopping counter: 6 out of 150\n"
     ]
    },
    {
     "name": "stderr",
     "output_type": "stream",
     "text": [
      " 85%|████████▍ | 212/250 [3:41:59<36:21, 57.40s/it]"
     ]
    },
    {
     "name": "stdout",
     "output_type": "stream",
     "text": [
      "Batch [30/391], Loss: 0.0118\n",
      "Batch [60/391], Loss: 0.0090\n",
      "Batch [90/391], Loss: 0.0090\n",
      "Batch [120/391], Loss: 0.0115\n",
      "Batch [150/391], Loss: 0.0102\n",
      "Batch [180/391], Loss: 0.0115\n",
      "Batch [210/391], Loss: 0.0113\n",
      "Batch [240/391], Loss: 0.0071\n",
      "Batch [270/391], Loss: 0.0117\n",
      "Batch [300/391], Loss: 0.0080\n",
      "Batch [330/391], Loss: 0.0083\n",
      "Batch [360/391], Loss: 0.0073\n",
      "Batch [390/391], Loss: 0.0093\n",
      "Train set: Epoch: 213, Average loss:0.0103, LR: 0.000800 Top-1 Accuracy: 0.9998, Top-5 Accuracy: 1.0000, SuperClass Accuracy: 0.9999, Time consumed:44.52s\n",
      "Test set: Epoch: 213, Average loss:0.0068, Top-1 Accuracy: 0.7846, Top-5 Accuracy: 0.9414, SuperClass Accuracy: 0.8682, Time consumed:12.85s\n",
      "\n",
      "EarlyStopping counter: 7 out of 150\n"
     ]
    },
    {
     "name": "stderr",
     "output_type": "stream",
     "text": [
      " 85%|████████▌ | 213/250 [3:42:57<35:23, 57.40s/it]"
     ]
    },
    {
     "name": "stdout",
     "output_type": "stream",
     "text": [
      "Batch [30/391], Loss: 0.0093\n",
      "Batch [60/391], Loss: 0.0068\n",
      "Batch [90/391], Loss: 0.0129\n",
      "Batch [120/391], Loss: 0.0104\n",
      "Batch [150/391], Loss: 0.0060\n",
      "Batch [180/391], Loss: 0.0174\n",
      "Batch [210/391], Loss: 0.0101\n",
      "Batch [240/391], Loss: 0.0069\n",
      "Batch [270/391], Loss: 0.0099\n",
      "Batch [300/391], Loss: 0.0079\n",
      "Batch [330/391], Loss: 0.0082\n",
      "Batch [360/391], Loss: 0.0197\n",
      "Batch [390/391], Loss: 0.0127\n",
      "Train set: Epoch: 214, Average loss:0.0102, LR: 0.000800 Top-1 Accuracy: 0.9997, Top-5 Accuracy: 1.0000, SuperClass Accuracy: 0.9999, Time consumed:44.48s\n",
      "Test set: Epoch: 214, Average loss:0.0068, Top-1 Accuracy: 0.7856, Top-5 Accuracy: 0.9416, SuperClass Accuracy: 0.8694, Time consumed:12.91s\n",
      "\n",
      "saving weights file to runs\\resnet_18_base_50000+nesterov\\savepoints\\Sunday_13_October_2024_15h_09m_35s\\resnet_18_base_50000+nesterov-214-best.pth\n"
     ]
    },
    {
     "name": "stderr",
     "output_type": "stream",
     "text": [
      " 86%|████████▌ | 214/250 [3:43:54<34:26, 57.41s/it]"
     ]
    },
    {
     "name": "stdout",
     "output_type": "stream",
     "text": [
      "Batch [30/391], Loss: 0.0101\n",
      "Batch [60/391], Loss: 0.0088\n",
      "Batch [90/391], Loss: 0.0088\n",
      "Batch [120/391], Loss: 0.0071\n",
      "Batch [150/391], Loss: 0.0072\n",
      "Batch [180/391], Loss: 0.0096\n",
      "Batch [210/391], Loss: 0.0088\n",
      "Batch [240/391], Loss: 0.0090\n",
      "Batch [270/391], Loss: 0.0104\n",
      "Batch [300/391], Loss: 0.0096\n",
      "Batch [330/391], Loss: 0.0085\n",
      "Batch [360/391], Loss: 0.0106\n",
      "Batch [390/391], Loss: 0.0094\n",
      "Train set: Epoch: 215, Average loss:0.0101, LR: 0.000800 Top-1 Accuracy: 0.9998, Top-5 Accuracy: 1.0000, SuperClass Accuracy: 1.0000, Time consumed:44.32s\n",
      "Test set: Epoch: 215, Average loss:0.0068, Top-1 Accuracy: 0.7843, Top-5 Accuracy: 0.9421, SuperClass Accuracy: 0.8682, Time consumed:12.81s\n",
      "\n",
      "EarlyStopping counter: 1 out of 150\n"
     ]
    },
    {
     "name": "stderr",
     "output_type": "stream",
     "text": [
      " 86%|████████▌ | 215/250 [3:44:51<33:26, 57.33s/it]"
     ]
    },
    {
     "name": "stdout",
     "output_type": "stream",
     "text": [
      "Batch [30/391], Loss: 0.0086\n",
      "Batch [60/391], Loss: 0.0057\n",
      "Batch [90/391], Loss: 0.0085\n",
      "Batch [120/391], Loss: 0.0094\n",
      "Batch [150/391], Loss: 0.0111\n",
      "Batch [180/391], Loss: 0.0080\n",
      "Batch [210/391], Loss: 0.0165\n",
      "Batch [240/391], Loss: 0.0058\n",
      "Batch [270/391], Loss: 0.0086\n",
      "Batch [300/391], Loss: 0.0083\n",
      "Batch [330/391], Loss: 0.0089\n",
      "Batch [360/391], Loss: 0.0131\n",
      "Batch [390/391], Loss: 0.0119\n",
      "Train set: Epoch: 216, Average loss:0.0102, LR: 0.000800 Top-1 Accuracy: 0.9997, Top-5 Accuracy: 1.0000, SuperClass Accuracy: 0.9999, Time consumed:44.47s\n",
      "Test set: Epoch: 216, Average loss:0.0068, Top-1 Accuracy: 0.7854, Top-5 Accuracy: 0.9421, SuperClass Accuracy: 0.8700, Time consumed:12.91s\n",
      "\n",
      "EarlyStopping counter: 2 out of 150\n"
     ]
    },
    {
     "name": "stderr",
     "output_type": "stream",
     "text": [
      " 86%|████████▋ | 216/250 [3:45:49<32:29, 57.35s/it]"
     ]
    },
    {
     "name": "stdout",
     "output_type": "stream",
     "text": [
      "Batch [30/391], Loss: 0.0103\n",
      "Batch [60/391], Loss: 0.0090\n",
      "Batch [90/391], Loss: 0.0081\n",
      "Batch [120/391], Loss: 0.0104\n",
      "Batch [150/391], Loss: 0.0096\n",
      "Batch [180/391], Loss: 0.0093\n",
      "Batch [210/391], Loss: 0.0095\n",
      "Batch [240/391], Loss: 0.0102\n",
      "Batch [270/391], Loss: 0.0095\n",
      "Batch [300/391], Loss: 0.0090\n",
      "Batch [330/391], Loss: 0.0091\n",
      "Batch [360/391], Loss: 0.0098\n",
      "Batch [390/391], Loss: 0.0094\n",
      "Train set: Epoch: 217, Average loss:0.0101, LR: 0.000800 Top-1 Accuracy: 0.9997, Top-5 Accuracy: 1.0000, SuperClass Accuracy: 0.9998, Time consumed:44.52s\n",
      "Test set: Epoch: 217, Average loss:0.0068, Top-1 Accuracy: 0.7851, Top-5 Accuracy: 0.9418, SuperClass Accuracy: 0.8687, Time consumed:12.81s\n",
      "\n",
      "EarlyStopping counter: 3 out of 150\n"
     ]
    },
    {
     "name": "stderr",
     "output_type": "stream",
     "text": [
      " 87%|████████▋ | 217/250 [3:46:46<31:32, 57.34s/it]"
     ]
    },
    {
     "name": "stdout",
     "output_type": "stream",
     "text": [
      "Batch [30/391], Loss: 0.0098\n",
      "Batch [60/391], Loss: 0.0124\n",
      "Batch [90/391], Loss: 0.0080\n",
      "Batch [120/391], Loss: 0.0074\n",
      "Batch [150/391], Loss: 0.0079\n",
      "Batch [180/391], Loss: 0.0214\n",
      "Batch [210/391], Loss: 0.0087\n",
      "Batch [240/391], Loss: 0.0091\n",
      "Batch [270/391], Loss: 0.0092\n",
      "Batch [300/391], Loss: 0.0152\n",
      "Batch [330/391], Loss: 0.0079\n",
      "Batch [360/391], Loss: 0.0081\n",
      "Batch [390/391], Loss: 0.0100\n",
      "Train set: Epoch: 218, Average loss:0.0102, LR: 0.000800 Top-1 Accuracy: 0.9997, Top-5 Accuracy: 1.0000, SuperClass Accuracy: 0.9999, Time consumed:44.29s\n",
      "Test set: Epoch: 218, Average loss:0.0068, Top-1 Accuracy: 0.7854, Top-5 Accuracy: 0.9418, SuperClass Accuracy: 0.8686, Time consumed:12.95s\n",
      "\n",
      "EarlyStopping counter: 4 out of 150\n"
     ]
    },
    {
     "name": "stderr",
     "output_type": "stream",
     "text": [
      " 87%|████████▋ | 218/250 [3:47:43<30:34, 57.32s/it]"
     ]
    },
    {
     "name": "stdout",
     "output_type": "stream",
     "text": [
      "Batch [30/391], Loss: 0.0105\n",
      "Batch [60/391], Loss: 0.0115\n",
      "Batch [90/391], Loss: 0.0154\n",
      "Batch [120/391], Loss: 0.0070\n",
      "Batch [150/391], Loss: 0.0084\n",
      "Batch [180/391], Loss: 0.0079\n",
      "Batch [210/391], Loss: 0.0061\n",
      "Batch [240/391], Loss: 0.0080\n",
      "Batch [270/391], Loss: 0.0106\n",
      "Batch [300/391], Loss: 0.0092\n",
      "Batch [330/391], Loss: 0.0092\n",
      "Batch [360/391], Loss: 0.0099\n",
      "Batch [390/391], Loss: 0.0118\n",
      "Train set: Epoch: 219, Average loss:0.0100, LR: 0.000800 Top-1 Accuracy: 0.9998, Top-5 Accuracy: 1.0000, SuperClass Accuracy: 0.9999, Time consumed:44.51s\n",
      "Test set: Epoch: 219, Average loss:0.0068, Top-1 Accuracy: 0.7848, Top-5 Accuracy: 0.9421, SuperClass Accuracy: 0.8683, Time consumed:13.01s\n",
      "\n",
      "EarlyStopping counter: 5 out of 150\n"
     ]
    },
    {
     "name": "stderr",
     "output_type": "stream",
     "text": [
      " 88%|████████▊ | 219/250 [3:48:41<29:38, 57.38s/it]"
     ]
    },
    {
     "name": "stdout",
     "output_type": "stream",
     "text": [
      "Batch [30/391], Loss: 0.0154\n",
      "Batch [60/391], Loss: 0.0084\n",
      "Batch [90/391], Loss: 0.0128\n",
      "Batch [120/391], Loss: 0.0109\n",
      "Batch [150/391], Loss: 0.0098\n",
      "Batch [180/391], Loss: 0.0077\n",
      "Batch [210/391], Loss: 0.0105\n",
      "Batch [240/391], Loss: 0.0090\n",
      "Batch [270/391], Loss: 0.0081\n",
      "Batch [300/391], Loss: 0.0088\n",
      "Batch [330/391], Loss: 0.0085\n",
      "Batch [360/391], Loss: 0.0071\n",
      "Batch [390/391], Loss: 0.0138\n",
      "Train set: Epoch: 220, Average loss:0.0099, LR: 0.000800 Top-1 Accuracy: 0.9997, Top-5 Accuracy: 1.0000, SuperClass Accuracy: 0.9999, Time consumed:44.70s\n",
      "Test set: Epoch: 220, Average loss:0.0068, Top-1 Accuracy: 0.7846, Top-5 Accuracy: 0.9423, SuperClass Accuracy: 0.8689, Time consumed:12.87s\n",
      "\n",
      "EarlyStopping counter: 6 out of 150\n"
     ]
    },
    {
     "name": "stderr",
     "output_type": "stream",
     "text": [
      " 88%|████████▊ | 220/250 [3:49:38<28:43, 57.44s/it]"
     ]
    },
    {
     "name": "stdout",
     "output_type": "stream",
     "text": [
      "Batch [30/391], Loss: 0.0075\n",
      "Batch [60/391], Loss: 0.0095\n",
      "Batch [90/391], Loss: 0.0104\n",
      "Batch [120/391], Loss: 0.0107\n",
      "Batch [150/391], Loss: 0.0091\n",
      "Batch [180/391], Loss: 0.0134\n",
      "Batch [210/391], Loss: 0.0085\n",
      "Batch [240/391], Loss: 0.0137\n",
      "Batch [270/391], Loss: 0.0118\n",
      "Batch [300/391], Loss: 0.0096\n",
      "Batch [330/391], Loss: 0.0100\n",
      "Batch [360/391], Loss: 0.0132\n",
      "Batch [390/391], Loss: 0.0117\n",
      "Train set: Epoch: 221, Average loss:0.0100, LR: 0.000800 Top-1 Accuracy: 0.9997, Top-5 Accuracy: 1.0000, SuperClass Accuracy: 0.9999, Time consumed:44.54s\n",
      "Test set: Epoch: 221, Average loss:0.0068, Top-1 Accuracy: 0.7860, Top-5 Accuracy: 0.9419, SuperClass Accuracy: 0.8699, Time consumed:12.83s\n",
      "\n",
      "saving weights file to runs\\resnet_18_base_50000+nesterov\\savepoints\\Sunday_13_October_2024_15h_09m_35s\\resnet_18_base_50000+nesterov-221-best.pth\n",
      "EarlyStopping counter: 7 out of 150\n"
     ]
    },
    {
     "name": "stderr",
     "output_type": "stream",
     "text": [
      " 88%|████████▊ | 221/250 [3:50:36<27:45, 57.44s/it]"
     ]
    },
    {
     "name": "stdout",
     "output_type": "stream",
     "text": [
      "Batch [30/391], Loss: 0.0105\n",
      "Batch [60/391], Loss: 0.0116\n",
      "Batch [90/391], Loss: 0.0089\n",
      "Batch [120/391], Loss: 0.0050\n",
      "Batch [150/391], Loss: 0.0092\n",
      "Batch [180/391], Loss: 0.0101\n",
      "Batch [210/391], Loss: 0.0087\n",
      "Batch [240/391], Loss: 0.0143\n",
      "Batch [270/391], Loss: 0.0124\n",
      "Batch [300/391], Loss: 0.0094\n",
      "Batch [330/391], Loss: 0.0101\n",
      "Batch [360/391], Loss: 0.0086\n",
      "Batch [390/391], Loss: 0.0102\n",
      "Train set: Epoch: 222, Average loss:0.0101, LR: 0.000800 Top-1 Accuracy: 0.9997, Top-5 Accuracy: 1.0000, SuperClass Accuracy: 0.9999, Time consumed:44.80s\n",
      "Test set: Epoch: 222, Average loss:0.0068, Top-1 Accuracy: 0.7856, Top-5 Accuracy: 0.9415, SuperClass Accuracy: 0.8694, Time consumed:13.75s\n",
      "\n",
      "EarlyStopping counter: 8 out of 150\n"
     ]
    },
    {
     "name": "stderr",
     "output_type": "stream",
     "text": [
      " 89%|████████▉ | 222/250 [3:51:34<26:57, 57.77s/it]"
     ]
    },
    {
     "name": "stdout",
     "output_type": "stream",
     "text": [
      "Batch [30/391], Loss: 0.0148\n",
      "Batch [60/391], Loss: 0.0134\n",
      "Batch [90/391], Loss: 0.0134\n",
      "Batch [120/391], Loss: 0.0070\n",
      "Batch [150/391], Loss: 0.0111\n",
      "Batch [180/391], Loss: 0.0069\n",
      "Batch [210/391], Loss: 0.0083\n",
      "Batch [240/391], Loss: 0.0079\n",
      "Batch [270/391], Loss: 0.0081\n",
      "Batch [300/391], Loss: 0.0111\n",
      "Batch [330/391], Loss: 0.0083\n",
      "Batch [360/391], Loss: 0.0101\n",
      "Batch [390/391], Loss: 0.0097\n",
      "Train set: Epoch: 223, Average loss:0.0102, LR: 0.000800 Top-1 Accuracy: 0.9997, Top-5 Accuracy: 1.0000, SuperClass Accuracy: 0.9999, Time consumed:45.15s\n",
      "Test set: Epoch: 223, Average loss:0.0068, Top-1 Accuracy: 0.7853, Top-5 Accuracy: 0.9421, SuperClass Accuracy: 0.8693, Time consumed:12.98s\n",
      "\n",
      "EarlyStopping counter: 9 out of 150\n"
     ]
    },
    {
     "name": "stderr",
     "output_type": "stream",
     "text": [
      " 89%|████████▉ | 223/250 [3:52:33<26:02, 57.88s/it]"
     ]
    },
    {
     "name": "stdout",
     "output_type": "stream",
     "text": [
      "Batch [30/391], Loss: 0.0110\n",
      "Batch [60/391], Loss: 0.0070\n",
      "Batch [90/391], Loss: 0.0089\n",
      "Batch [120/391], Loss: 0.0120\n",
      "Batch [150/391], Loss: 0.0063\n",
      "Batch [180/391], Loss: 0.0081\n",
      "Batch [210/391], Loss: 0.0087\n",
      "Batch [240/391], Loss: 0.0079\n",
      "Batch [270/391], Loss: 0.0084\n",
      "Batch [300/391], Loss: 0.0083\n",
      "Batch [330/391], Loss: 0.0130\n",
      "Batch [360/391], Loss: 0.0098\n",
      "Batch [390/391], Loss: 0.0106\n",
      "Train set: Epoch: 224, Average loss:0.0101, LR: 0.000800 Top-1 Accuracy: 0.9997, Top-5 Accuracy: 1.0000, SuperClass Accuracy: 0.9999, Time consumed:44.52s\n",
      "Test set: Epoch: 224, Average loss:0.0068, Top-1 Accuracy: 0.7850, Top-5 Accuracy: 0.9413, SuperClass Accuracy: 0.8680, Time consumed:13.07s\n",
      "\n",
      "EarlyStopping counter: 10 out of 150\n"
     ]
    },
    {
     "name": "stderr",
     "output_type": "stream",
     "text": [
      " 90%|████████▉ | 224/250 [3:53:30<25:02, 57.80s/it]"
     ]
    },
    {
     "name": "stdout",
     "output_type": "stream",
     "text": [
      "Batch [30/391], Loss: 0.0114\n",
      "Batch [60/391], Loss: 0.0254\n",
      "Batch [90/391], Loss: 0.0095\n",
      "Batch [120/391], Loss: 0.0066\n",
      "Batch [150/391], Loss: 0.0088\n",
      "Batch [180/391], Loss: 0.0118\n",
      "Batch [210/391], Loss: 0.0091\n",
      "Batch [240/391], Loss: 0.0088\n",
      "Batch [270/391], Loss: 0.0089\n",
      "Batch [300/391], Loss: 0.0083\n",
      "Batch [330/391], Loss: 0.0110\n",
      "Batch [360/391], Loss: 0.0111\n",
      "Batch [390/391], Loss: 0.0117\n",
      "Train set: Epoch: 225, Average loss:0.0100, LR: 0.000800 Top-1 Accuracy: 0.9997, Top-5 Accuracy: 1.0000, SuperClass Accuracy: 0.9998, Time consumed:45.29s\n",
      "Test set: Epoch: 225, Average loss:0.0068, Top-1 Accuracy: 0.7850, Top-5 Accuracy: 0.9417, SuperClass Accuracy: 0.8691, Time consumed:13.30s\n",
      "\n",
      "EarlyStopping counter: 11 out of 150\n"
     ]
    },
    {
     "name": "stderr",
     "output_type": "stream",
     "text": [
      " 90%|█████████ | 225/250 [3:54:29<24:10, 58.04s/it]"
     ]
    },
    {
     "name": "stdout",
     "output_type": "stream",
     "text": [
      "Batch [30/391], Loss: 0.0081\n",
      "Batch [60/391], Loss: 0.0099\n",
      "Batch [90/391], Loss: 0.0111\n",
      "Batch [120/391], Loss: 0.0104\n",
      "Batch [150/391], Loss: 0.0102\n",
      "Batch [180/391], Loss: 0.0097\n",
      "Batch [210/391], Loss: 0.0097\n",
      "Batch [240/391], Loss: 0.0101\n",
      "Batch [270/391], Loss: 0.0097\n",
      "Batch [300/391], Loss: 0.0127\n",
      "Batch [330/391], Loss: 0.0099\n",
      "Batch [360/391], Loss: 0.0164\n",
      "Batch [390/391], Loss: 0.0101\n",
      "Train set: Epoch: 226, Average loss:0.0102, LR: 0.000800 Top-1 Accuracy: 0.9998, Top-5 Accuracy: 1.0000, SuperClass Accuracy: 0.9999, Time consumed:44.96s\n",
      "Test set: Epoch: 226, Average loss:0.0068, Top-1 Accuracy: 0.7845, Top-5 Accuracy: 0.9424, SuperClass Accuracy: 0.8682, Time consumed:13.21s\n",
      "\n",
      "EarlyStopping counter: 12 out of 150\n"
     ]
    },
    {
     "name": "stderr",
     "output_type": "stream",
     "text": [
      " 90%|█████████ | 226/250 [3:55:27<23:13, 58.08s/it]"
     ]
    },
    {
     "name": "stdout",
     "output_type": "stream",
     "text": [
      "Batch [30/391], Loss: 0.0081\n",
      "Batch [60/391], Loss: 0.0141\n",
      "Batch [90/391], Loss: 0.0115\n",
      "Batch [120/391], Loss: 0.0126\n",
      "Batch [150/391], Loss: 0.0107\n",
      "Batch [180/391], Loss: 0.0144\n",
      "Batch [210/391], Loss: 0.0104\n",
      "Batch [240/391], Loss: 0.0119\n",
      "Batch [270/391], Loss: 0.0098\n",
      "Batch [300/391], Loss: 0.0103\n",
      "Batch [330/391], Loss: 0.0107\n",
      "Batch [360/391], Loss: 0.0074\n",
      "Batch [390/391], Loss: 0.0194\n",
      "Train set: Epoch: 227, Average loss:0.0101, LR: 0.000800 Top-1 Accuracy: 0.9997, Top-5 Accuracy: 1.0000, SuperClass Accuracy: 0.9999, Time consumed:44.71s\n",
      "Test set: Epoch: 227, Average loss:0.0068, Top-1 Accuracy: 0.7859, Top-5 Accuracy: 0.9413, SuperClass Accuracy: 0.8693, Time consumed:13.06s\n",
      "\n",
      "EarlyStopping counter: 13 out of 150\n"
     ]
    },
    {
     "name": "stderr",
     "output_type": "stream",
     "text": [
      " 91%|█████████ | 227/250 [3:56:25<22:13, 57.99s/it]"
     ]
    },
    {
     "name": "stdout",
     "output_type": "stream",
     "text": [
      "Batch [30/391], Loss: 0.0193\n",
      "Batch [60/391], Loss: 0.0087\n",
      "Batch [90/391], Loss: 0.0166\n",
      "Batch [120/391], Loss: 0.0102\n",
      "Batch [150/391], Loss: 0.0092\n",
      "Batch [180/391], Loss: 0.0098\n",
      "Batch [210/391], Loss: 0.0101\n",
      "Batch [240/391], Loss: 0.0107\n",
      "Batch [270/391], Loss: 0.0122\n",
      "Batch [300/391], Loss: 0.0072\n",
      "Batch [330/391], Loss: 0.0078\n",
      "Batch [360/391], Loss: 0.0081\n",
      "Batch [390/391], Loss: 0.0100\n",
      "Train set: Epoch: 228, Average loss:0.0101, LR: 0.000800 Top-1 Accuracy: 0.9997, Top-5 Accuracy: 1.0000, SuperClass Accuracy: 0.9999, Time consumed:45.40s\n",
      "Test set: Epoch: 228, Average loss:0.0068, Top-1 Accuracy: 0.7866, Top-5 Accuracy: 0.9424, SuperClass Accuracy: 0.8696, Time consumed:13.43s\n",
      "\n",
      "saving weights file to runs\\resnet_18_base_50000+nesterov\\savepoints\\Sunday_13_October_2024_15h_09m_35s\\resnet_18_base_50000+nesterov-228-best.pth\n"
     ]
    },
    {
     "name": "stderr",
     "output_type": "stream",
     "text": [
      " 91%|█████████ | 228/250 [3:57:24<21:21, 58.27s/it]"
     ]
    },
    {
     "name": "stdout",
     "output_type": "stream",
     "text": [
      "Batch [30/391], Loss: 0.0102\n",
      "Batch [60/391], Loss: 0.0102\n",
      "Batch [90/391], Loss: 0.0074\n",
      "Batch [120/391], Loss: 0.0104\n",
      "Batch [150/391], Loss: 0.0108\n",
      "Batch [180/391], Loss: 0.0084\n",
      "Batch [210/391], Loss: 0.0101\n",
      "Batch [240/391], Loss: 0.0086\n",
      "Batch [270/391], Loss: 0.0094\n",
      "Batch [300/391], Loss: 0.0109\n",
      "Batch [330/391], Loss: 0.0061\n",
      "Batch [360/391], Loss: 0.0074\n",
      "Batch [390/391], Loss: 0.0200\n",
      "Train set: Epoch: 229, Average loss:0.0100, LR: 0.000800 Top-1 Accuracy: 0.9997, Top-5 Accuracy: 1.0000, SuperClass Accuracy: 0.9999, Time consumed:45.48s\n",
      "Test set: Epoch: 229, Average loss:0.0068, Top-1 Accuracy: 0.7866, Top-5 Accuracy: 0.9412, SuperClass Accuracy: 0.8695, Time consumed:13.19s\n",
      "\n",
      "EarlyStopping counter: 1 out of 150\n"
     ]
    },
    {
     "name": "stderr",
     "output_type": "stream",
     "text": [
      " 92%|█████████▏| 229/250 [3:58:22<20:26, 58.40s/it]"
     ]
    },
    {
     "name": "stdout",
     "output_type": "stream",
     "text": [
      "Batch [30/391], Loss: 0.0107\n",
      "Batch [60/391], Loss: 0.0072\n",
      "Batch [90/391], Loss: 0.0081\n",
      "Batch [120/391], Loss: 0.0098\n",
      "Batch [150/391], Loss: 0.0080\n",
      "Batch [180/391], Loss: 0.0291\n",
      "Batch [210/391], Loss: 0.0114\n",
      "Batch [240/391], Loss: 0.0091\n",
      "Batch [270/391], Loss: 0.0068\n",
      "Batch [300/391], Loss: 0.0120\n",
      "Batch [330/391], Loss: 0.0072\n",
      "Batch [360/391], Loss: 0.0092\n",
      "Batch [390/391], Loss: 0.0128\n",
      "Train set: Epoch: 230, Average loss:0.0100, LR: 0.000800 Top-1 Accuracy: 0.9997, Top-5 Accuracy: 1.0000, SuperClass Accuracy: 0.9999, Time consumed:47.42s\n",
      "Test set: Epoch: 230, Average loss:0.0068, Top-1 Accuracy: 0.7857, Top-5 Accuracy: 0.9422, SuperClass Accuracy: 0.8678, Time consumed:13.13s\n",
      "\n",
      "EarlyStopping counter: 2 out of 150\n"
     ]
    },
    {
     "name": "stderr",
     "output_type": "stream",
     "text": [
      " 92%|█████████▏| 230/250 [3:59:23<19:40, 59.05s/it]"
     ]
    },
    {
     "name": "stdout",
     "output_type": "stream",
     "text": [
      "Batch [30/391], Loss: 0.0088\n",
      "Batch [60/391], Loss: 0.0150\n",
      "Batch [90/391], Loss: 0.0108\n",
      "Batch [120/391], Loss: 0.0103\n",
      "Batch [150/391], Loss: 0.0089\n",
      "Batch [180/391], Loss: 0.0074\n",
      "Batch [210/391], Loss: 0.0073\n",
      "Batch [240/391], Loss: 0.0098\n",
      "Batch [270/391], Loss: 0.0112\n",
      "Batch [300/391], Loss: 0.0098\n",
      "Batch [330/391], Loss: 0.0096\n",
      "Batch [360/391], Loss: 0.0078\n",
      "Batch [390/391], Loss: 0.0309\n",
      "Train set: Epoch: 231, Average loss:0.0102, LR: 0.000800 Top-1 Accuracy: 0.9998, Top-5 Accuracy: 1.0000, SuperClass Accuracy: 0.9999, Time consumed:44.72s\n",
      "Test set: Epoch: 231, Average loss:0.0068, Top-1 Accuracy: 0.7858, Top-5 Accuracy: 0.9425, SuperClass Accuracy: 0.8687, Time consumed:13.04s\n",
      "\n",
      "EarlyStopping counter: 3 out of 150\n"
     ]
    },
    {
     "name": "stderr",
     "output_type": "stream",
     "text": [
      " 92%|█████████▏| 231/250 [4:00:21<18:34, 58.66s/it]"
     ]
    },
    {
     "name": "stdout",
     "output_type": "stream",
     "text": [
      "Batch [30/391], Loss: 0.0079\n",
      "Batch [60/391], Loss: 0.0090\n",
      "Batch [90/391], Loss: 0.0112\n",
      "Batch [120/391], Loss: 0.0117\n",
      "Batch [150/391], Loss: 0.0080\n",
      "Batch [180/391], Loss: 0.0086\n",
      "Batch [210/391], Loss: 0.0069\n",
      "Batch [240/391], Loss: 0.0106\n",
      "Batch [270/391], Loss: 0.0111\n",
      "Batch [300/391], Loss: 0.0071\n",
      "Batch [330/391], Loss: 0.0118\n",
      "Batch [360/391], Loss: 0.0091\n",
      "Batch [390/391], Loss: 0.0094\n",
      "Train set: Epoch: 232, Average loss:0.0100, LR: 0.000800 Top-1 Accuracy: 0.9997, Top-5 Accuracy: 1.0000, SuperClass Accuracy: 0.9999, Time consumed:44.64s\n",
      "Test set: Epoch: 232, Average loss:0.0068, Top-1 Accuracy: 0.7858, Top-5 Accuracy: 0.9426, SuperClass Accuracy: 0.8690, Time consumed:13.12s\n",
      "\n",
      "EarlyStopping counter: 4 out of 150\n"
     ]
    },
    {
     "name": "stderr",
     "output_type": "stream",
     "text": [
      " 93%|█████████▎| 232/250 [4:01:18<17:31, 58.39s/it]"
     ]
    },
    {
     "name": "stdout",
     "output_type": "stream",
     "text": [
      "Batch [30/391], Loss: 0.0105\n",
      "Batch [60/391], Loss: 0.0084\n",
      "Batch [90/391], Loss: 0.0127\n",
      "Batch [120/391], Loss: 0.0086\n",
      "Batch [150/391], Loss: 0.0094\n",
      "Batch [180/391], Loss: 0.0103\n",
      "Batch [210/391], Loss: 0.0083\n",
      "Batch [240/391], Loss: 0.0076\n",
      "Batch [270/391], Loss: 0.0089\n",
      "Batch [300/391], Loss: 0.0088\n",
      "Batch [330/391], Loss: 0.0097\n",
      "Batch [360/391], Loss: 0.0078\n",
      "Batch [390/391], Loss: 0.0110\n",
      "Train set: Epoch: 233, Average loss:0.0100, LR: 0.000800 Top-1 Accuracy: 0.9997, Top-5 Accuracy: 1.0000, SuperClass Accuracy: 0.9999, Time consumed:44.72s\n",
      "Test set: Epoch: 233, Average loss:0.0068, Top-1 Accuracy: 0.7846, Top-5 Accuracy: 0.9433, SuperClass Accuracy: 0.8685, Time consumed:13.06s\n",
      "\n",
      "EarlyStopping counter: 5 out of 150\n"
     ]
    },
    {
     "name": "stderr",
     "output_type": "stream",
     "text": [
      " 93%|█████████▎| 233/250 [4:02:16<16:29, 58.21s/it]"
     ]
    },
    {
     "name": "stdout",
     "output_type": "stream",
     "text": [
      "Batch [30/391], Loss: 0.0081\n",
      "Batch [60/391], Loss: 0.0085\n",
      "Batch [90/391], Loss: 0.0069\n",
      "Batch [120/391], Loss: 0.0130\n",
      "Batch [150/391], Loss: 0.0086\n",
      "Batch [180/391], Loss: 0.0099\n",
      "Batch [210/391], Loss: 0.0100\n",
      "Batch [240/391], Loss: 0.0082\n",
      "Batch [270/391], Loss: 0.0076\n",
      "Batch [300/391], Loss: 0.0087\n",
      "Batch [330/391], Loss: 0.0094\n",
      "Batch [360/391], Loss: 0.0112\n",
      "Batch [390/391], Loss: 0.0138\n",
      "Train set: Epoch: 234, Average loss:0.0101, LR: 0.000800 Top-1 Accuracy: 0.9998, Top-5 Accuracy: 1.0000, SuperClass Accuracy: 0.9999, Time consumed:44.79s\n",
      "Test set: Epoch: 234, Average loss:0.0068, Top-1 Accuracy: 0.7844, Top-5 Accuracy: 0.9425, SuperClass Accuracy: 0.8677, Time consumed:13.16s\n",
      "\n",
      "EarlyStopping counter: 6 out of 150\n"
     ]
    },
    {
     "name": "stderr",
     "output_type": "stream",
     "text": [
      " 94%|█████████▎| 234/250 [4:03:14<15:30, 58.14s/it]"
     ]
    },
    {
     "name": "stdout",
     "output_type": "stream",
     "text": [
      "Batch [30/391], Loss: 0.0064\n",
      "Batch [60/391], Loss: 0.0075\n",
      "Batch [90/391], Loss: 0.0075\n",
      "Batch [120/391], Loss: 0.0078\n",
      "Batch [150/391], Loss: 0.0118\n",
      "Batch [180/391], Loss: 0.0076\n",
      "Batch [210/391], Loss: 0.0114\n",
      "Batch [240/391], Loss: 0.0094\n",
      "Batch [270/391], Loss: 0.0082\n",
      "Batch [300/391], Loss: 0.0099\n",
      "Batch [330/391], Loss: 0.0079\n",
      "Batch [360/391], Loss: 0.0069\n",
      "Batch [390/391], Loss: 0.0117\n",
      "Train set: Epoch: 235, Average loss:0.0100, LR: 0.000800 Top-1 Accuracy: 0.9997, Top-5 Accuracy: 1.0000, SuperClass Accuracy: 0.9999, Time consumed:44.82s\n",
      "Test set: Epoch: 235, Average loss:0.0068, Top-1 Accuracy: 0.7862, Top-5 Accuracy: 0.9418, SuperClass Accuracy: 0.8701, Time consumed:13.15s\n",
      "\n",
      "EarlyStopping counter: 7 out of 150\n"
     ]
    },
    {
     "name": "stderr",
     "output_type": "stream",
     "text": [
      " 94%|█████████▍| 235/250 [4:04:12<14:31, 58.09s/it]"
     ]
    },
    {
     "name": "stdout",
     "output_type": "stream",
     "text": [
      "Batch [30/391], Loss: 0.0091\n",
      "Batch [60/391], Loss: 0.0084\n",
      "Batch [90/391], Loss: 0.0110\n",
      "Batch [120/391], Loss: 0.0082\n",
      "Batch [150/391], Loss: 0.0159\n",
      "Batch [180/391], Loss: 0.0108\n",
      "Batch [210/391], Loss: 0.0079\n",
      "Batch [240/391], Loss: 0.0120\n",
      "Batch [270/391], Loss: 0.0085\n",
      "Batch [300/391], Loss: 0.0092\n",
      "Batch [330/391], Loss: 0.0095\n",
      "Batch [360/391], Loss: 0.0072\n",
      "Batch [390/391], Loss: 0.0201\n",
      "Train set: Epoch: 236, Average loss:0.0099, LR: 0.000800 Top-1 Accuracy: 0.9999, Top-5 Accuracy: 1.0000, SuperClass Accuracy: 0.9999, Time consumed:44.67s\n",
      "Test set: Epoch: 236, Average loss:0.0068, Top-1 Accuracy: 0.7844, Top-5 Accuracy: 0.9424, SuperClass Accuracy: 0.8680, Time consumed:13.15s\n",
      "\n",
      "EarlyStopping counter: 8 out of 150\n"
     ]
    },
    {
     "name": "stderr",
     "output_type": "stream",
     "text": [
      " 94%|█████████▍| 236/250 [4:05:10<13:32, 58.01s/it]"
     ]
    },
    {
     "name": "stdout",
     "output_type": "stream",
     "text": [
      "Batch [30/391], Loss: 0.0094\n",
      "Batch [60/391], Loss: 0.0091\n",
      "Batch [90/391], Loss: 0.0142\n",
      "Batch [120/391], Loss: 0.0076\n",
      "Batch [150/391], Loss: 0.0086\n",
      "Batch [180/391], Loss: 0.0250\n",
      "Batch [210/391], Loss: 0.0076\n",
      "Batch [240/391], Loss: 0.0108\n",
      "Batch [270/391], Loss: 0.0114\n",
      "Batch [300/391], Loss: 0.0085\n",
      "Batch [330/391], Loss: 0.0112\n",
      "Batch [360/391], Loss: 0.0067\n",
      "Batch [390/391], Loss: 0.0086\n",
      "Train set: Epoch: 237, Average loss:0.0101, LR: 0.000800 Top-1 Accuracy: 0.9997, Top-5 Accuracy: 1.0000, SuperClass Accuracy: 0.9999, Time consumed:44.68s\n",
      "Test set: Epoch: 237, Average loss:0.0068, Top-1 Accuracy: 0.7845, Top-5 Accuracy: 0.9423, SuperClass Accuracy: 0.8689, Time consumed:13.33s\n",
      "\n",
      "EarlyStopping counter: 9 out of 150\n"
     ]
    },
    {
     "name": "stderr",
     "output_type": "stream",
     "text": [
      " 95%|█████████▍| 237/250 [4:06:08<12:34, 58.02s/it]"
     ]
    },
    {
     "name": "stdout",
     "output_type": "stream",
     "text": [
      "Batch [30/391], Loss: 0.0106\n",
      "Batch [60/391], Loss: 0.0108\n",
      "Batch [90/391], Loss: 0.0120\n",
      "Batch [120/391], Loss: 0.0109\n",
      "Batch [150/391], Loss: 0.0092\n",
      "Batch [180/391], Loss: 0.0092\n",
      "Batch [210/391], Loss: 0.0089\n",
      "Batch [240/391], Loss: 0.0087\n",
      "Batch [270/391], Loss: 0.0111\n",
      "Batch [300/391], Loss: 0.0083\n",
      "Batch [330/391], Loss: 0.0092\n",
      "Batch [360/391], Loss: 0.0095\n",
      "Batch [390/391], Loss: 0.0072\n",
      "Train set: Epoch: 238, Average loss:0.0101, LR: 0.000800 Top-1 Accuracy: 0.9997, Top-5 Accuracy: 1.0000, SuperClass Accuracy: 0.9999, Time consumed:45.19s\n",
      "Test set: Epoch: 238, Average loss:0.0068, Top-1 Accuracy: 0.7839, Top-5 Accuracy: 0.9432, SuperClass Accuracy: 0.8690, Time consumed:13.93s\n",
      "\n",
      "EarlyStopping counter: 10 out of 150\n"
     ]
    },
    {
     "name": "stderr",
     "output_type": "stream",
     "text": [
      " 95%|█████████▌| 238/250 [4:07:07<11:40, 58.35s/it]"
     ]
    },
    {
     "name": "stdout",
     "output_type": "stream",
     "text": [
      "Batch [30/391], Loss: 0.0108\n",
      "Batch [60/391], Loss: 0.0075\n",
      "Batch [90/391], Loss: 0.0112\n",
      "Batch [120/391], Loss: 0.0087\n",
      "Batch [150/391], Loss: 0.0085\n",
      "Batch [180/391], Loss: 0.0100\n",
      "Batch [210/391], Loss: 0.0092\n",
      "Batch [240/391], Loss: 0.0070\n",
      "Batch [270/391], Loss: 0.0104\n",
      "Batch [300/391], Loss: 0.0095\n",
      "Batch [330/391], Loss: 0.0093\n",
      "Batch [360/391], Loss: 0.0076\n",
      "Batch [390/391], Loss: 0.0111\n",
      "Train set: Epoch: 239, Average loss:0.0099, LR: 0.000800 Top-1 Accuracy: 0.9998, Top-5 Accuracy: 1.0000, SuperClass Accuracy: 0.9999, Time consumed:44.70s\n",
      "Test set: Epoch: 239, Average loss:0.0068, Top-1 Accuracy: 0.7853, Top-5 Accuracy: 0.9414, SuperClass Accuracy: 0.8686, Time consumed:13.21s\n",
      "\n",
      "EarlyStopping counter: 11 out of 150\n"
     ]
    },
    {
     "name": "stderr",
     "output_type": "stream",
     "text": [
      " 96%|█████████▌| 239/250 [4:08:05<10:40, 58.22s/it]"
     ]
    },
    {
     "name": "stdout",
     "output_type": "stream",
     "text": [
      "Batch [30/391], Loss: 0.0179\n",
      "Batch [60/391], Loss: 0.0064\n",
      "Batch [90/391], Loss: 0.0069\n",
      "Batch [120/391], Loss: 0.0092\n",
      "Batch [150/391], Loss: 0.0088\n",
      "Batch [180/391], Loss: 0.0090\n",
      "Batch [210/391], Loss: 0.0086\n",
      "Batch [240/391], Loss: 0.0080\n",
      "Batch [270/391], Loss: 0.0077\n",
      "Batch [300/391], Loss: 0.0092\n",
      "Batch [330/391], Loss: 0.0079\n",
      "Batch [360/391], Loss: 0.0145\n",
      "Batch [390/391], Loss: 0.0145\n",
      "Train set: Epoch: 240, Average loss:0.0102, LR: 0.000800 Top-1 Accuracy: 0.9998, Top-5 Accuracy: 1.0000, SuperClass Accuracy: 0.9999, Time consumed:44.98s\n",
      "Test set: Epoch: 240, Average loss:0.0068, Top-1 Accuracy: 0.7861, Top-5 Accuracy: 0.9434, SuperClass Accuracy: 0.8692, Time consumed:13.56s\n",
      "\n",
      "EarlyStopping counter: 12 out of 150\n"
     ]
    },
    {
     "name": "stderr",
     "output_type": "stream",
     "text": [
      " 96%|█████████▌| 240/250 [4:09:04<09:43, 58.32s/it]"
     ]
    },
    {
     "name": "stdout",
     "output_type": "stream",
     "text": [
      "Batch [30/391], Loss: 0.0128\n",
      "Batch [60/391], Loss: 0.0084\n",
      "Batch [90/391], Loss: 0.0101\n",
      "Batch [120/391], Loss: 0.0104\n",
      "Batch [150/391], Loss: 0.0080\n",
      "Batch [180/391], Loss: 0.0105\n",
      "Batch [210/391], Loss: 0.0101\n",
      "Batch [240/391], Loss: 0.0093\n",
      "Batch [270/391], Loss: 0.0107\n",
      "Batch [300/391], Loss: 0.0089\n",
      "Batch [330/391], Loss: 0.0076\n",
      "Batch [360/391], Loss: 0.0077\n",
      "Batch [390/391], Loss: 0.0072\n",
      "Train set: Epoch: 241, Average loss:0.0101, LR: 0.000800 Top-1 Accuracy: 0.9996, Top-5 Accuracy: 1.0000, SuperClass Accuracy: 0.9999, Time consumed:44.29s\n",
      "Test set: Epoch: 241, Average loss:0.0068, Top-1 Accuracy: 0.7867, Top-5 Accuracy: 0.9428, SuperClass Accuracy: 0.8699, Time consumed:12.89s\n",
      "\n",
      "saving weights file to runs\\resnet_18_base_50000+nesterov\\savepoints\\Sunday_13_October_2024_15h_09m_35s\\resnet_18_base_50000+nesterov-241-best.pth\n",
      "EarlyStopping counter: 13 out of 150\n"
     ]
    },
    {
     "name": "stderr",
     "output_type": "stream",
     "text": [
      " 96%|█████████▋| 241/250 [4:10:01<08:41, 58.00s/it]"
     ]
    },
    {
     "name": "stdout",
     "output_type": "stream",
     "text": [
      "Batch [30/391], Loss: 0.0108\n",
      "Batch [60/391], Loss: 0.0086\n",
      "Batch [90/391], Loss: 0.0084\n",
      "Batch [120/391], Loss: 0.0076\n",
      "Batch [150/391], Loss: 0.0112\n",
      "Batch [180/391], Loss: 0.0152\n",
      "Batch [210/391], Loss: 0.0078\n",
      "Batch [240/391], Loss: 0.0106\n",
      "Batch [270/391], Loss: 0.0082\n",
      "Batch [300/391], Loss: 0.0087\n",
      "Batch [330/391], Loss: 0.0083\n",
      "Batch [360/391], Loss: 0.0104\n",
      "Batch [390/391], Loss: 0.0093\n",
      "Train set: Epoch: 242, Average loss:0.0099, LR: 0.000800 Top-1 Accuracy: 0.9998, Top-5 Accuracy: 1.0000, SuperClass Accuracy: 0.9999, Time consumed:44.42s\n",
      "Test set: Epoch: 242, Average loss:0.0068, Top-1 Accuracy: 0.7861, Top-5 Accuracy: 0.9420, SuperClass Accuracy: 0.8705, Time consumed:12.71s\n",
      "\n",
      "EarlyStopping counter: 14 out of 150\n"
     ]
    },
    {
     "name": "stderr",
     "output_type": "stream",
     "text": [
      " 97%|█████████▋| 242/250 [4:10:58<07:41, 57.74s/it]"
     ]
    },
    {
     "name": "stdout",
     "output_type": "stream",
     "text": [
      "Batch [30/391], Loss: 0.0119\n",
      "Batch [60/391], Loss: 0.0077\n",
      "Batch [90/391], Loss: 0.0089\n",
      "Batch [120/391], Loss: 0.0073\n",
      "Batch [150/391], Loss: 0.0112\n",
      "Batch [180/391], Loss: 0.0073\n",
      "Batch [210/391], Loss: 0.0084\n",
      "Batch [240/391], Loss: 0.0092\n",
      "Batch [270/391], Loss: 0.0128\n",
      "Batch [300/391], Loss: 0.0105\n",
      "Batch [330/391], Loss: 0.0099\n",
      "Batch [360/391], Loss: 0.0132\n",
      "Batch [390/391], Loss: 0.0096\n",
      "Train set: Epoch: 243, Average loss:0.0099, LR: 0.000800 Top-1 Accuracy: 0.9997, Top-5 Accuracy: 1.0000, SuperClass Accuracy: 0.9999, Time consumed:44.26s\n",
      "Test set: Epoch: 243, Average loss:0.0068, Top-1 Accuracy: 0.7857, Top-5 Accuracy: 0.9429, SuperClass Accuracy: 0.8700, Time consumed:12.89s\n",
      "\n",
      "EarlyStopping counter: 15 out of 150\n"
     ]
    },
    {
     "name": "stderr",
     "output_type": "stream",
     "text": [
      " 97%|█████████▋| 243/250 [4:11:55<06:42, 57.57s/it]"
     ]
    },
    {
     "name": "stdout",
     "output_type": "stream",
     "text": [
      "Batch [30/391], Loss: 0.0107\n",
      "Batch [60/391], Loss: 0.0059\n",
      "Batch [90/391], Loss: 0.0083\n",
      "Batch [120/391], Loss: 0.0083\n",
      "Batch [150/391], Loss: 0.0144\n",
      "Batch [180/391], Loss: 0.0076\n",
      "Batch [210/391], Loss: 0.0161\n",
      "Batch [240/391], Loss: 0.0080\n",
      "Batch [270/391], Loss: 0.0099\n",
      "Batch [300/391], Loss: 0.0145\n",
      "Batch [330/391], Loss: 0.0099\n",
      "Batch [360/391], Loss: 0.0113\n",
      "Batch [390/391], Loss: 0.0110\n",
      "Train set: Epoch: 244, Average loss:0.0101, LR: 0.000800 Top-1 Accuracy: 0.9998, Top-5 Accuracy: 1.0000, SuperClass Accuracy: 0.9999, Time consumed:44.27s\n",
      "Test set: Epoch: 244, Average loss:0.0068, Top-1 Accuracy: 0.7859, Top-5 Accuracy: 0.9427, SuperClass Accuracy: 0.8697, Time consumed:12.52s\n",
      "\n",
      "EarlyStopping counter: 16 out of 150\n"
     ]
    },
    {
     "name": "stderr",
     "output_type": "stream",
     "text": [
      " 98%|█████████▊| 244/250 [4:12:52<05:44, 57.33s/it]"
     ]
    },
    {
     "name": "stdout",
     "output_type": "stream",
     "text": [
      "Batch [30/391], Loss: 0.0121\n",
      "Batch [60/391], Loss: 0.0075\n",
      "Batch [90/391], Loss: 0.0102\n",
      "Batch [120/391], Loss: 0.0100\n",
      "Batch [150/391], Loss: 0.0071\n",
      "Batch [180/391], Loss: 0.0104\n",
      "Batch [210/391], Loss: 0.0119\n",
      "Batch [240/391], Loss: 0.0079\n",
      "Batch [270/391], Loss: 0.0117\n",
      "Batch [300/391], Loss: 0.0090\n",
      "Batch [330/391], Loss: 0.0086\n",
      "Batch [360/391], Loss: 0.0093\n",
      "Batch [390/391], Loss: 0.0111\n",
      "Train set: Epoch: 245, Average loss:0.0101, LR: 0.000800 Top-1 Accuracy: 0.9997, Top-5 Accuracy: 1.0000, SuperClass Accuracy: 0.9999, Time consumed:44.45s\n",
      "Test set: Epoch: 245, Average loss:0.0068, Top-1 Accuracy: 0.7852, Top-5 Accuracy: 0.9432, SuperClass Accuracy: 0.8698, Time consumed:12.73s\n",
      "\n",
      "EarlyStopping counter: 17 out of 150\n"
     ]
    },
    {
     "name": "stderr",
     "output_type": "stream",
     "text": [
      " 98%|█████████▊| 245/250 [4:13:49<04:46, 57.29s/it]"
     ]
    },
    {
     "name": "stdout",
     "output_type": "stream",
     "text": [
      "Batch [30/391], Loss: 0.0083\n",
      "Batch [60/391], Loss: 0.0110\n",
      "Batch [90/391], Loss: 0.0063\n",
      "Batch [120/391], Loss: 0.0140\n",
      "Batch [150/391], Loss: 0.0110\n",
      "Batch [180/391], Loss: 0.0105\n",
      "Batch [210/391], Loss: 0.0074\n",
      "Batch [240/391], Loss: 0.0099\n",
      "Batch [270/391], Loss: 0.0084\n",
      "Batch [300/391], Loss: 0.0076\n",
      "Batch [330/391], Loss: 0.0102\n",
      "Batch [360/391], Loss: 0.0115\n",
      "Batch [390/391], Loss: 0.0093\n",
      "Train set: Epoch: 246, Average loss:0.0102, LR: 0.000800 Top-1 Accuracy: 0.9997, Top-5 Accuracy: 1.0000, SuperClass Accuracy: 0.9999, Time consumed:44.39s\n",
      "Test set: Epoch: 246, Average loss:0.0068, Top-1 Accuracy: 0.7846, Top-5 Accuracy: 0.9430, SuperClass Accuracy: 0.8693, Time consumed:12.97s\n",
      "\n",
      "EarlyStopping counter: 18 out of 150\n"
     ]
    },
    {
     "name": "stderr",
     "output_type": "stream",
     "text": [
      " 98%|█████████▊| 246/250 [4:14:47<03:49, 57.32s/it]"
     ]
    },
    {
     "name": "stdout",
     "output_type": "stream",
     "text": [
      "Batch [30/391], Loss: 0.0106\n",
      "Batch [60/391], Loss: 0.0182\n",
      "Batch [90/391], Loss: 0.0115\n",
      "Batch [120/391], Loss: 0.0103\n",
      "Batch [150/391], Loss: 0.0111\n",
      "Batch [180/391], Loss: 0.0100\n",
      "Batch [210/391], Loss: 0.0103\n",
      "Batch [240/391], Loss: 0.0133\n",
      "Batch [270/391], Loss: 0.0117\n",
      "Batch [300/391], Loss: 0.0130\n",
      "Batch [330/391], Loss: 0.0238\n",
      "Batch [360/391], Loss: 0.0091\n",
      "Batch [390/391], Loss: 0.0150\n",
      "Train set: Epoch: 247, Average loss:0.0102, LR: 0.000800 Top-1 Accuracy: 0.9998, Top-5 Accuracy: 1.0000, SuperClass Accuracy: 0.9999, Time consumed:44.42s\n",
      "Test set: Epoch: 247, Average loss:0.0068, Top-1 Accuracy: 0.7865, Top-5 Accuracy: 0.9429, SuperClass Accuracy: 0.8691, Time consumed:12.95s\n",
      "\n",
      "EarlyStopping counter: 19 out of 150\n"
     ]
    },
    {
     "name": "stderr",
     "output_type": "stream",
     "text": [
      " 99%|█████████▉| 247/250 [4:15:44<02:52, 57.34s/it]"
     ]
    },
    {
     "name": "stdout",
     "output_type": "stream",
     "text": [
      "Batch [30/391], Loss: 0.0102\n",
      "Batch [60/391], Loss: 0.0087\n",
      "Batch [90/391], Loss: 0.0121\n",
      "Batch [120/391], Loss: 0.0116\n",
      "Batch [150/391], Loss: 0.0090\n",
      "Batch [180/391], Loss: 0.0122\n",
      "Batch [210/391], Loss: 0.0111\n",
      "Batch [240/391], Loss: 0.0090\n",
      "Batch [270/391], Loss: 0.0078\n",
      "Batch [300/391], Loss: 0.0082\n",
      "Batch [330/391], Loss: 0.0108\n",
      "Batch [360/391], Loss: 0.0128\n",
      "Batch [390/391], Loss: 0.0083\n",
      "Train set: Epoch: 248, Average loss:0.0099, LR: 0.000800 Top-1 Accuracy: 0.9998, Top-5 Accuracy: 1.0000, SuperClass Accuracy: 0.9999, Time consumed:44.27s\n",
      "Test set: Epoch: 248, Average loss:0.0068, Top-1 Accuracy: 0.7856, Top-5 Accuracy: 0.9424, SuperClass Accuracy: 0.8698, Time consumed:12.91s\n",
      "\n",
      "EarlyStopping counter: 20 out of 150\n"
     ]
    },
    {
     "name": "stderr",
     "output_type": "stream",
     "text": [
      " 99%|█████████▉| 248/250 [4:16:41<01:54, 57.29s/it]"
     ]
    },
    {
     "name": "stdout",
     "output_type": "stream",
     "text": [
      "Batch [30/391], Loss: 0.0094\n",
      "Batch [60/391], Loss: 0.0107\n",
      "Batch [90/391], Loss: 0.0104\n",
      "Batch [120/391], Loss: 0.0085\n",
      "Batch [150/391], Loss: 0.0093\n",
      "Batch [180/391], Loss: 0.0080\n",
      "Batch [210/391], Loss: 0.0113\n",
      "Batch [240/391], Loss: 0.0131\n",
      "Batch [270/391], Loss: 0.0096\n",
      "Batch [300/391], Loss: 0.0115\n",
      "Batch [330/391], Loss: 0.0088\n",
      "Batch [360/391], Loss: 0.0081\n",
      "Batch [390/391], Loss: 0.0117\n",
      "Train set: Epoch: 249, Average loss:0.0100, LR: 0.000800 Top-1 Accuracy: 0.9997, Top-5 Accuracy: 1.0000, SuperClass Accuracy: 0.9999, Time consumed:44.62s\n",
      "Test set: Epoch: 249, Average loss:0.0068, Top-1 Accuracy: 0.7868, Top-5 Accuracy: 0.9431, SuperClass Accuracy: 0.8696, Time consumed:15.26s\n",
      "\n",
      "saving weights file to runs\\resnet_18_base_50000+nesterov\\savepoints\\Sunday_13_October_2024_15h_09m_35s\\resnet_18_base_50000+nesterov-249-best.pth\n",
      "EarlyStopping counter: 21 out of 150\n"
     ]
    },
    {
     "name": "stderr",
     "output_type": "stream",
     "text": [
      "100%|█████████▉| 249/250 [4:17:41<00:58, 58.09s/it]"
     ]
    },
    {
     "name": "stdout",
     "output_type": "stream",
     "text": [
      "Batch [30/391], Loss: 0.0099\n",
      "Batch [60/391], Loss: 0.0086\n",
      "Batch [90/391], Loss: 0.0120\n",
      "Batch [120/391], Loss: 0.0130\n",
      "Batch [150/391], Loss: 0.0140\n",
      "Batch [180/391], Loss: 0.0088\n",
      "Batch [210/391], Loss: 0.0115\n",
      "Batch [240/391], Loss: 0.0083\n",
      "Batch [270/391], Loss: 0.0060\n",
      "Batch [300/391], Loss: 0.0123\n",
      "Batch [330/391], Loss: 0.0086\n",
      "Batch [360/391], Loss: 0.0128\n",
      "Batch [390/391], Loss: 0.0076\n",
      "Train set: Epoch: 250, Average loss:0.0100, LR: 0.000800 Top-1 Accuracy: 0.9997, Top-5 Accuracy: 1.0000, SuperClass Accuracy: 0.9999, Time consumed:44.71s\n",
      "Test set: Epoch: 250, Average loss:0.0068, Top-1 Accuracy: 0.7883, Top-5 Accuracy: 0.9421, SuperClass Accuracy: 0.8705, Time consumed:13.08s\n",
      "\n",
      "saving weights file to runs\\resnet_18_base_50000+nesterov\\savepoints\\Sunday_13_October_2024_15h_09m_35s\\resnet_18_base_50000+nesterov-250-best.pth\n",
      "EarlyStopping counter: 22 out of 150\n"
     ]
    },
    {
     "name": "stderr",
     "output_type": "stream",
     "text": [
      "100%|██████████| 250/250 [4:18:39<00:00, 62.08s/it]\n"
     ]
    },
    {
     "name": "stdout",
     "output_type": "stream",
     "text": [
      "Result of best resnet_18_base_50000+nesterov = Epoch : 250   Loss : 0.0068   Top-1 Accuracy : 78.8300%  Top-5 Accuracy : 94.2100%   Super Accuracy : 87.0500%   Total_Accuracy : 260.0900    Time : 15519.4174\n"
     ]
    }
   ],
   "source": [
    "start_time = time.time()\n",
    "for epoch in tqdm(range(1, config[\"num_epochs\"] + 1)):\n",
    "    if epoch > config[\"warm\"]:\n",
    "        if config[\"scheduler\"] == \"MultiStepLR\":\n",
    "            train_scheduler.step()\n",
    "        elif config[\"scheduler\"] == \"ReduceLROnPlateau\":\n",
    "            train_scheduler.step(test_loss)\n",
    "\n",
    "    if config[\"resume\"]:\n",
    "        if epoch <= resume_epoch:\n",
    "            continue\n",
    "\n",
    "    epoch_loss, train_accuracy = train_model(net, train_loader, criterion, optimizer, epoch=epoch)\n",
    "    if config[\"train_50000\"] == False:\n",
    "        test_loss, test_accuracy = eval_training(net, val_loader, criterion, epoch)\n",
    "    else:\n",
    "        test_loss, test_accuracy = eval_training(net, test_loader, criterion, epoch)\n",
    "\n",
    "    if sum_best_acc < sum(test_accuracy):\n",
    "        if weights_path:  # 모델의 용량 이슈로 새로운 best 모델이 갱신되면 이전 best 모델 삭제\n",
    "            os.remove(weights_path)\n",
    "        weights_path = checkpoint_path.format(net=config[\"model_name\"], epoch=epoch, type=\"best\")\n",
    "        print(\"saving weights file to {}\".format(weights_path))\n",
    "        torch.save(net.state_dict(), weights_path)\n",
    "        best_acc = test_accuracy\n",
    "        sum_best_acc = sum(best_acc)\n",
    "\n",
    "    early_stopping(test_loss, net)\n",
    "    if early_stopping.early_stop:\n",
    "        print(\"Early stopping\")\n",
    "        break\n",
    "\n",
    "    wandb.log({\n",
    "        \"epoch\": epoch,\n",
    "        \"learning_rate\": optimizer.param_groups[0]['lr'],\n",
    "        \"train_loss\": epoch_loss,\n",
    "        \"train top-1 accuracy\": train_accuracy[0],\n",
    "        \"train top-5 accuracy\": train_accuracy[1],\n",
    "        \"train super-class accuracy\": train_accuracy[2],\n",
    "        \"val_loss\": test_loss,\n",
    "        \"valid top-1 accuracy\": test_accuracy[0],\n",
    "        \"valid top-5 accuracy\": test_accuracy[1],\n",
    "        \"valid super-class accuracy\": test_accuracy[2]\n",
    "    })\n",
    "\n",
    "end_time = time.time()\n",
    "wandb.log({\"train_time\": end_time - start_time})\n",
    "\n",
    "# Result\n",
    "print(f\"Result of best {model_name} = Epoch : {epoch}   Loss : {test_loss:.4f}   Top-1 Accuracy : {best_acc[0]*100:.4f}%  Top-5 Accuracy : {best_acc[1]*100:.4f}%   Super Accuracy : {best_acc[2]*100:.4f}%   Total_Accuracy : {sum(best_acc)*100:.4f}    Time : {end_time - start_time:.4f}\")"
   ]
  },
  {
   "cell_type": "markdown",
   "id": "p5YcRgjxvB92",
   "metadata": {
    "id": "p5YcRgjxvB92"
   },
   "source": [
    "**Best Model Test**"
   ]
  },
  {
   "cell_type": "code",
   "execution_count": 13,
   "id": "VM1-xrA_3Ug6",
   "metadata": {
    "id": "VM1-xrA_3Ug6"
   },
   "outputs": [],
   "source": [
    "def all_accuracy(net, test_loader, device):\n",
    "    net2.eval()\n",
    "    top1_correct = 0\n",
    "    top5_correct = 0\n",
    "    total = 0\n",
    "\n",
    "    superclass_correct = 0\n",
    "    superclass_total = 0\n",
    "\n",
    "    with torch.no_grad():\n",
    "        for _, (images, labels) in enumerate(test_loader):\n",
    "\n",
    "            images, labels = images.to(device), labels.to(device)\n",
    "            outputs = net2(images)\n",
    "\n",
    "            _, preds = torch.max(outputs, 1)\n",
    "            top1_correct += torch.sum(preds == labels).item()\n",
    "\n",
    "            _, top5_preds = outputs.topk(5, 1, True, True)\n",
    "            top5_correct += torch.sum(top5_preds.eq(labels.view(-1, 1).expand_as(top5_preds))).item()\n",
    "\n",
    "            total += labels.size(0)\n",
    "\n",
    "            # Superclass accuracy\n",
    "            super_preds = torch.tensor([fine_to_superclass[p.item()] for p in preds], dtype=torch.long)\n",
    "            super_labels = torch.tensor([fine_to_superclass[t.item()] for t in labels], dtype=torch.long)\n",
    "            superclass_correct += torch.sum(super_preds == super_labels).item()\n",
    "            superclass_total += super_labels.size(0)\n",
    "\n",
    "    # 세부 클래스 및 슈퍼 클래스 정확도 계산\n",
    "    top1_acc = top1_correct / total\n",
    "    top5_acc = top5_correct / total\n",
    "    superclass_acc = superclass_correct / superclass_total\n",
    "    accuracy = [top1_acc, top5_acc, superclass_acc]\n",
    "\n",
    "    return accuracy"
   ]
  },
  {
   "cell_type": "code",
   "execution_count": 14,
   "id": "rVneR6Xh_XfY",
   "metadata": {
    "id": "rVneR6Xh_XfY"
   },
   "outputs": [
    {
     "name": "stdout",
     "output_type": "stream",
     "text": [
      "found best acc weights file:runs\\resnet_18_base_50000+nesterov\\savepoints\\Sunday_13_October_2024_15h_09m_35s\\resnet_18_base_50000+nesterov-250-best.pth\n",
      "load best training file to test acc...\n"
     ]
    },
    {
     "name": "stderr",
     "output_type": "stream",
     "text": [
      "C:\\Users\\jhw03\\AppData\\Local\\Temp\\ipykernel_20140\\1591997829.py:15: FutureWarning: You are using `torch.load` with `weights_only=False` (the current default value), which uses the default pickle module implicitly. It is possible to construct malicious pickle data which will execute arbitrary code during unpickling (See https://github.com/pytorch/pytorch/blob/main/SECURITY.md#untrusted-models for more details). In a future release, the default value for `weights_only` will be flipped to `True`. This limits the functions that could be executed during unpickling. Arbitrary objects will no longer be allowed to be loaded via this mode unless they are explicitly allowlisted by the user via `torch.serialization.add_safe_globals`. We recommend you start setting `weights_only=True` for any use case where you don't have full control of the loaded file. Please open an issue on GitHub for any issues related to this experimental feature.\n",
      "  net2.load_state_dict(torch.load(weights_path))\n"
     ]
    },
    {
     "name": "stdout",
     "output_type": "stream",
     "text": [
      "Top-1 accuracy: 0.7883\n",
      "Top-5 accuracy: 0.9421\n",
      "Super-Class accuracy: 0.8705\n"
     ]
    }
   ],
   "source": [
    "net2 = model\n",
    "net2.to(device)\n",
    "net2.eval()\n",
    "\n",
    "# 이 코드로 best 모델이 load 되지 않을 경우 아래 코드에서 경로 직접 지정\n",
    "recent_folder = most_recent_folder(os.path.join(\"runs\", config[\"model_name\"], \"savepoints\"), DATE_FORMAT)\n",
    "if not recent_folder:\n",
    "    raise Exception(\"no recent folder were found\")\n",
    "\n",
    "best_weights = best_acc_weights(os.path.join(\"runs\", config[\"model_name\"], \"savepoints\", recent_folder))\n",
    "if best_weights:\n",
    "    weights_path = os.path.join(\"runs\", config[\"model_name\"], \"savepoints\", recent_folder, best_weights)\n",
    "    print('found best acc weights file:{}'.format(weights_path))\n",
    "    print('load best training file to test acc...')\n",
    "    net2.load_state_dict(torch.load(weights_path))\n",
    "\n",
    "acc = all_accuracy(net2, test_loader, device)\n",
    "print(\"Top-1 accuracy: {:.4f}\".format(acc[0]))\n",
    "print(\"Top-5 accuracy: {:.4f}\".format(acc[1]))\n",
    "print(\"Super-Class accuracy: {:.4f}\".format(acc[2]))\n",
    "\n",
    "wandb.log({\n",
    "    \"Test Top-1 accuracy\": acc[0],\n",
    "    \"Test Top-5 accuracy\": acc[1],\n",
    "    \"Test Super-Class accuracy\": acc[2],\n",
    "    \"Total Score\": sum(acc)\n",
    "    })"
   ]
  },
  {
   "cell_type": "code",
   "execution_count": 15,
   "id": "3exQ4RCI34-1",
   "metadata": {
    "colab": {
     "base_uri": "https://localhost:8080/"
    },
    "id": "3exQ4RCI34-1",
    "outputId": "6c819a3d-91ce-48d0-e7f1-495bed210b91"
   },
   "outputs": [],
   "source": [
    "# # 위 코드에서 에러가 발생해 경로 지정이 제대로 되지 않을 경우 사용\n",
    "\n",
    "# net2 = model\n",
    "# net2.to(device)\n",
    "# net2.load_state_dict(torch.load(\"runs/wide_resnet/savepoints/Tuesday_01_October_2024_13h_15m_52s/wide_resnet-229-best.pth\"))\n",
    "\n",
    "# acc = all_accuracy(net2, test_loader, device)\n",
    "# print(\"Top-1 accuracy: {:.4f}\".format(acc[0]))\n",
    "# print(\"Top-5 accuracy: {:.4f}\".format(acc[1]))\n",
    "# print(\"Super-Class accuracy: {:.4f}\".format(acc[2]))\n",
    "# wandb.log({\n",
    "#     \"Test Top-1 accuracy\": acc[0],\n",
    "#     \"Test Top-5 accuracy\": acc[1],\n",
    "#     \"Test Super-Class accuracy\": acc[2],\n",
    "#     \"Total Score\": sum(acc)\n",
    "#     })\n",
    "# wandb.finish()"
   ]
  },
  {
   "cell_type": "markdown",
   "id": "cdc7f408",
   "metadata": {
    "id": "cdc7f408"
   },
   "source": [
    "**Data Analysis**"
   ]
  },
  {
   "cell_type": "code",
   "execution_count": 16,
   "id": "d8404d10-a77a-4544-96d1-70cb306e2a05",
   "metadata": {
    "id": "d8404d10-a77a-4544-96d1-70cb306e2a05"
   },
   "outputs": [],
   "source": [
    "import wandb.sklearn\n",
    "\n",
    "classes = train_val_data.classes\n",
    "coarse_classes = [\n",
    "    'aquatic mammals', 'fish', 'flowers', 'food containers', 'fruit and vegetables', 'household electrical devices',\n",
    "    'household furniture', 'insects', 'large carnivores', 'large man-made outdoor things',\n",
    "    'large natural outdoor scenes', 'large omnivores and herbivores', 'medium-sized mammals',\n",
    "    'non-insect invertebrates', 'people', 'reptiles', 'small mammals', 'trees', 'vehicles 1', 'vehicles 2'\n",
    "]\n",
    "\n",
    "y_pred = []\n",
    "y_true = []\n",
    "y_probs = []\n",
    "\n",
    "for x, y in torch.utils.data.DataLoader(dataset=test_data, batch_size=config[\"batch_size\"]):\n",
    "    x = x.to(device)\n",
    "    y = y.to(device)\n",
    "    z = net2(x)\n",
    "    _, yhat = torch.max(z, 1)\n",
    "    probs = z.softmax(dim=1).cpu().detach().numpy()\n",
    "\n",
    "    pred = yhat.data.cpu().numpy()\n",
    "    \n",
    "    super_pred = [coarse_classes[fine_to_superclass[p]] for p in pred]\n",
    "    y_pred.extend(super_pred)\n",
    "\n",
    "    labels = y.data.cpu().numpy()\n",
    "    super_labels = [coarse_classes[fine_to_superclass[l]] for l in labels]\n",
    "    y_true.extend(super_labels)\n",
    "\n",
    "    y_probs.extend(probs)\n",
    "    \n",
    "cf_matrix = confusion_matrix(y_true, y_pred, normalize='true')\n",
    "\n",
    "df_cm = pd.DataFrame(cf_matrix, index=coarse_classes,\n",
    "                     columns=coarse_classes)\n",
    "\n",
    "plt.figure(figsize=(10, 7))\n",
    "sns.heatmap(df_cm, annot=True, fmt='.2f', cmap='Blues')\n",
    "plt.title(f'Confusion Matrix of {config[\"model_name\"]} (CIFAR-100 Superclass)')\n",
    "plt.xlabel('Predicted')\n",
    "plt.ylabel('Real')\n",
    "\n",
    "conf_matrix_img = wandb.Image(plt.gcf())\n",
    "plt.close()\n",
    "\n",
    "class_report = classification_report(y_true, y_pred, labels=coarse_classes, zero_division=0)\n",
    "\n",
    "plt.figure(figsize=(10, 7))\n",
    "plt.text(0.01, 0.05, str(class_report), {'fontsize': 12}, fontproperties='monospace')  # monospaced font\n",
    "plt.axis('off')  # 축 제거\n",
    "plt.tight_layout()\n",
    "\n",
    "class_report_img = wandb.Image(plt.gcf())\n",
    "plt.close()\n",
    "\n",
    "wandb.log({\n",
    "    \"Confusion Matrix\": conf_matrix_img,\n",
    "    \"Classification Report\": class_report_img\n",
    "    })"
   ]
  },
  {
   "cell_type": "code",
   "execution_count": 17,
   "id": "6c9076a5-82f4-4ec9-9903-5f20c093aa6d",
   "metadata": {},
   "outputs": [
    {
     "data": {
      "text/html": [
       "<style>\n",
       "    table.wandb td:nth-child(1) { padding: 0 10px; text-align: left ; width: auto;} td:nth-child(2) {text-align: left ; width: 100%}\n",
       "    .wandb-row { display: flex; flex-direction: row; flex-wrap: wrap; justify-content: flex-start; width: 100% }\n",
       "    .wandb-col { display: flex; flex-direction: column; flex-basis: 100%; flex: 1; padding: 10px; }\n",
       "    </style>\n",
       "<div class=\"wandb-row\"><div class=\"wandb-col\"><h3>Run history:</h3><br/><table class=\"wandb\"><tr><td>Test Super-Class accuracy</td><td>▁</td></tr><tr><td>Test Top-1 accuracy</td><td>▁</td></tr><tr><td>Test Top-5 accuracy</td><td>▁</td></tr><tr><td>Total Score</td><td>▁</td></tr><tr><td>epoch</td><td>▁▁▁▁▁▂▂▂▂▂▂▂▃▃▃▃▃▄▄▄▄▄▄▅▅▅▅▅▆▆▇▇▇▇▇▇▇▇██</td></tr><tr><td>learning_rate</td><td>█████████████████▂▂▂▂▂▂▁▁▁▁▁▁▁▁▁▁▁▁▁▁▁▁▁</td></tr><tr><td>train super-class accuracy</td><td>▁▂▃▃▃▄▄▄▄▄▄▄▄▄▇▇▇▇▇▇▇▇▇▇▇███████████████</td></tr><tr><td>train top-1 accuracy</td><td>▁▃▄▄▄▅▅▅▅▅▅▅▅▅▅▅▅▅▅▇▇█▇▇▇███████████████</td></tr><tr><td>train top-5 accuracy</td><td>▁▂▃▄▅▅▅▆▅▆▆▆▆▆▆▆▆▆▆▆▆███████████████████</td></tr><tr><td>train_loss</td><td>█▆▆▆▆▆▆▆▆▆▆▆▆▅▅▂▂▂▂▂▂▂▁▁▁▁▁▁▁▁▁▁▁▁▁▁▁▁▁▁</td></tr><tr><td>train_time</td><td>▁</td></tr><tr><td>val_loss</td><td>█▆▃▃▃▃▃▃▃▃▂▃▃▃▃▃▂▂▂▂▂▁▁▁▁▁▁▁▁▁▁▁▁▁▁▁▁▁▁▁</td></tr><tr><td>valid super-class accuracy</td><td>▁▁▁▃▂▁▃▂▃▃▃▃▃▃▂▆▅▆▅▅▅▆▅▇▇███████████████</td></tr><tr><td>valid top-1 accuracy</td><td>▁▁▁▃▂▂▃▂▃▃▃▃▂▃▂▇▆▆▆▅▆▆▅▇████████████████</td></tr><tr><td>valid top-5 accuracy</td><td>▁▃▇▆▇▇▇▇▇▇▇▇▇▇▇▇▇▇▇████▇████████████████</td></tr></table><br/></div><div class=\"wandb-col\"><h3>Run summary:</h3><br/><table class=\"wandb\"><tr><td>Test Super-Class accuracy</td><td>0.8705</td></tr><tr><td>Test Top-1 accuracy</td><td>0.7883</td></tr><tr><td>Test Top-5 accuracy</td><td>0.9421</td></tr><tr><td>Total Score</td><td>2.6009</td></tr><tr><td>epoch</td><td>250</td></tr><tr><td>learning_rate</td><td>0.0008</td></tr><tr><td>train super-class accuracy</td><td>0.99988</td></tr><tr><td>train top-1 accuracy</td><td>0.9997</td></tr><tr><td>train top-5 accuracy</td><td>1</td></tr><tr><td>train_loss</td><td>0.01001</td></tr><tr><td>train_time</td><td>15519.41744</td></tr><tr><td>val_loss</td><td>0.0068</td></tr><tr><td>valid super-class accuracy</td><td>0.8705</td></tr><tr><td>valid top-1 accuracy</td><td>0.7883</td></tr><tr><td>valid top-5 accuracy</td><td>0.9421</td></tr></table><br/></div></div>"
      ],
      "text/plain": [
       "<IPython.core.display.HTML object>"
      ]
     },
     "metadata": {},
     "output_type": "display_data"
    },
    {
     "data": {
      "text/html": [
       " View run <strong style=\"color:#cdcd00\">resnet_18_base_50000+nesterov</strong> at: <a href='https://wandb.ai/hyunwook7120-hanyang-university/CIFAR-100_Classification/runs/n02qpvyq' target=\"_blank\">https://wandb.ai/hyunwook7120-hanyang-university/CIFAR-100_Classification/runs/n02qpvyq</a><br/> View project at: <a href='https://wandb.ai/hyunwook7120-hanyang-university/CIFAR-100_Classification' target=\"_blank\">https://wandb.ai/hyunwook7120-hanyang-university/CIFAR-100_Classification</a><br/>Synced 5 W&B file(s), 0 media file(s), 2 artifact file(s) and 2 other file(s)"
      ],
      "text/plain": [
       "<IPython.core.display.HTML object>"
      ]
     },
     "metadata": {},
     "output_type": "display_data"
    },
    {
     "data": {
      "text/html": [
       "Find logs at: <code>.\\wandb\\run-20241013_150932-n02qpvyq\\logs</code>"
      ],
      "text/plain": [
       "<IPython.core.display.HTML object>"
      ]
     },
     "metadata": {},
     "output_type": "display_data"
    }
   ],
   "source": [
    "wandb.finish()"
   ]
  },
  {
   "cell_type": "code",
   "execution_count": null,
   "id": "50081015",
   "metadata": {},
   "outputs": [],
   "source": []
  }
 ],
 "metadata": {
  "accelerator": "GPU",
  "colab": {
   "gpuType": "T4",
   "machine_shape": "hm",
   "provenance": []
  },
  "kernelspec": {
   "display_name": "dl",
   "language": "python",
   "name": "python3"
  },
  "language_info": {
   "codemirror_mode": {
    "name": "ipython",
    "version": 3
   },
   "file_extension": ".py",
   "mimetype": "text/x-python",
   "name": "python",
   "nbconvert_exporter": "python",
   "pygments_lexer": "ipython3",
   "version": "3.8.19"
  }
 },
 "nbformat": 4,
 "nbformat_minor": 5
}
