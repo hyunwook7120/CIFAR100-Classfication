{
 "cells": [
  {
   "cell_type": "code",
   "execution_count": 26,
   "id": "8945ac4e-31d4-4abe-a739-0139594b2a83",
   "metadata": {},
   "outputs": [],
   "source": [
    "# Utils\n",
    "import numpy as np\n",
    "import pandas as pd \n",
    "import seaborn as sns \n",
    "import matplotlib.pyplot as plt\n",
    "from tqdm import tqdm\n",
    "import random\n",
    "import os\n",
    "import torchvision.models as models\n",
    "from utility.early_stopping import EarlyStopping\n",
    "# Torch\n",
    "import torch\n",
    "import torch.nn as nn\n",
    "import torch.nn.functional as F\n",
    "from torchsummary import summary\n",
    "import torch.optim as optim\n",
    "from torch.utils.data import DataLoader, SubsetRandomSampler\n",
    "\n",
    "\n",
    "import torchvision\n",
    "from torchvision import transforms, datasets\n",
    "from torch.utils.data import DataLoader, random_split\n",
    "from tensorboardX import SummaryWriter\n",
    "\n",
    "# sklearn\n",
    "from sklearn.metrics import confusion_matrix, classification_report"
   ]
  },
  {
   "cell_type": "markdown",
   "id": "e97394be-a879-419d-9f3f-3a3f6f4026d1",
   "metadata": {},
   "source": [
    "**Seed Setting**"
   ]
  },
  {
   "cell_type": "code",
   "execution_count": 16,
   "id": "adcecb53-bf54-4019-9b33-d606e9c3c82f",
   "metadata": {},
   "outputs": [],
   "source": [
    "random.seed(0)"
   ]
  },
  {
   "cell_type": "markdown",
   "id": "65916ea8-5b8f-4e57-8c46-aa50799713cf",
   "metadata": {},
   "source": [
    "**Device Setting**"
   ]
  },
  {
   "cell_type": "code",
   "execution_count": 17,
   "id": "2d982b87-fc48-43e9-9d68-73af96bdb5d6",
   "metadata": {},
   "outputs": [],
   "source": [
    "device = torch.device(\"cuda:0\" if torch.cuda.is_available() else \"cpu\")"
   ]
  },
  {
   "cell_type": "markdown",
   "id": "57fc0d22-46f0-47a5-963b-76d9b0e1aa6b",
   "metadata": {},
   "source": [
    "**Setting Hyperparameter**"
   ]
  },
  {
   "cell_type": "code",
   "execution_count": 18,
   "id": "23a8755e-faf8-48bc-ba9f-59a255f064fd",
   "metadata": {},
   "outputs": [],
   "source": [
    "batch_size = 128\n",
    "num_epochs = 20\n",
    "learning_rate = 0.001\n",
    "momentum = 0.9"
   ]
  },
  {
   "cell_type": "markdown",
   "id": "2b5c8805-081c-42b1-a763-b85c3f3e06a8",
   "metadata": {},
   "source": [
    "# **Data PreProcessing**"
   ]
  },
  {
   "cell_type": "code",
   "execution_count": 21,
   "id": "b12b73a6-ae7f-4b48-8ebf-3e089258f854",
   "metadata": {},
   "outputs": [],
   "source": [
    "train_transform = transforms.Compose([\n",
    "    transforms.RandomHorizontalFlip(),\n",
    "    # 무작위로 -15도에서 +15도 사이 회전\n",
    "    transforms.RandomRotation(degrees=15),\n",
    "    # 밝기, 대비, 채도, 색조 변형 (임의 값)\n",
    "    transforms.ColorJitter(brightness=0.2, contrast=0.2, saturation=0.2, hue=0.1),\n",
    "    transforms.RandomCrop(32, padding=4),\n",
    "    transforms.ToTensor(),\n",
    "    transforms.Normalize(mean=[0.5071, 0.4867, 0.4408], std=[0.2675, 0.2565, 0.2761])\n",
    "])\n",
    "test_transform = transforms.Compose([\n",
    "    transforms.ToTensor(),\n",
    "    transforms.Normalize(mean=[0.5071, 0.4867, 0.4408], std=[0.2675, 0.2565, 0.2761])\n",
    "])"
   ]
  },
  {
   "cell_type": "code",
   "execution_count": 24,
   "id": "f6832f88-c3ac-4e1a-a4a8-0660ce0e73cf",
   "metadata": {},
   "outputs": [
    {
     "name": "stdout",
     "output_type": "stream",
     "text": [
      "Files already downloaded and verified\n",
      "Files already downloaded and verified\n"
     ]
    }
   ],
   "source": [
    "train_data = datasets.CIFAR100(root='./data', train=True, download=True, transform=train_transform)\n",
    "test_data = datasets.CIFAR100(root='./data', train=False, download=True, transform=test_transform)"
   ]
  },
  {
   "cell_type": "markdown",
   "id": "d9f5c72b-5aa5-4c95-aa50-b1faf17d8efc",
   "metadata": {},
   "source": [
    "**Split Train Data**"
   ]
  },
  {
   "cell_type": "code",
   "execution_count": 30,
   "id": "0ce13af4-f792-49a5-aada-b859b3e6a6ef",
   "metadata": {},
   "outputs": [],
   "source": [
    "total_train = len(train_data)\n",
    "# train_data의 10%로 val_data 분할\n",
    "val_size = int(0.1 * total_train)\n",
    "train_size = total_train - val_size\n",
    "\n",
    "train_data, val_data = random_split(train_data, [train_size, val_size])"
   ]
  },
  {
   "cell_type": "code",
   "execution_count": 31,
   "id": "7fff70f0-de71-4316-86ba-8b78d7fe25a3",
   "metadata": {},
   "outputs": [],
   "source": [
    "train_loader = DataLoader(train_data, batch_size=batch_size, shuffle=True, num_workers=2)\n",
    "val_loader = DataLoader(val_data, batch_size=batch_size, shuffle=False, num_workers=2)\n",
    "test_loader = DataLoader(test_data, batch_size=batch_size, shuffle=False, num_workers=2)"
   ]
  },
  {
   "cell_type": "code",
   "execution_count": null,
   "id": "14d28a02-a4ed-4502-ba80-a7a103e7d23c",
   "metadata": {},
   "outputs": [],
   "source": []
  }
 ],
 "metadata": {
  "kernelspec": {
   "display_name": "Python 3 (ipykernel)",
   "language": "python",
   "name": "python3"
  },
  "language_info": {
   "codemirror_mode": {
    "name": "ipython",
    "version": 3
   },
   "file_extension": ".py",
   "mimetype": "text/x-python",
   "name": "python",
   "nbconvert_exporter": "python",
   "pygments_lexer": "ipython3",
   "version": "3.11.7"
  }
 },
 "nbformat": 4,
 "nbformat_minor": 5
}
